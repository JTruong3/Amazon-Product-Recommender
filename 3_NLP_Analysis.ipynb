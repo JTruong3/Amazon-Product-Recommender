{
 "cells": [
  {
   "cell_type": "markdown",
   "id": "56b1b77f",
   "metadata": {},
   "source": [
    "# Amazon Product Recommender"
   ]
  },
  {
   "cell_type": "markdown",
   "id": "dc82c037",
   "metadata": {},
   "source": [
    "**Jason Truong**  **|**  Jasontruong19@gmail.com  **|**  September 25, 2022"
   ]
  },
  {
   "cell_type": "markdown",
   "id": "e9a29f61",
   "metadata": {},
   "source": [
    "**Problem Statement:** based on a person’s review of a product, can items of similar properties be recommended to them such that they are more inclined to buy the item? This project adds business value by improving the customer buying experience on Amazon through personalized recommendations for products. These recommendations influence customer purchases by making it easier for customers to find similar products. "
   ]
  },
  {
   "cell_type": "markdown",
   "id": "301553ce",
   "metadata": {},
   "source": [
    "***"
   ]
  },
  {
   "cell_type": "markdown",
   "id": "9839f88d",
   "metadata": {},
   "source": [
    "# 3 Natural Language Processing Analysis"
   ]
  },
  {
   "cell_type": "markdown",
   "id": "5eb1d276",
   "metadata": {},
   "source": [
    "**Note**: This is notebook **4 of 5** for building the recommendation system."
   ]
  },
  {
   "cell_type": "markdown",
   "id": "cb3118e6",
   "metadata": {},
   "source": [
    "# Table of Contents\n",
    "\n",
    "1. **[Introduction](#1Introduction)**  \n",
    "2. **[Preliminary Data Setup](#2Preliminary)**  \n",
    "    2.1. [Preprocessing: 'Overall'](#2_1Overall)  \n",
    "    2.2. [Preprocessing: 'reviewScore'](#2_2Review)  \n",
    "    2.3. [Preprocessing: 'Vote'](#2_3Vote)  \n",
    "    2.4. [Drop duplicates and NaNs](#2_4Drop)  \n",
    "3. **[Test/Train Setup](#3Test_Train)**  \n",
    "4. **[NLP Analysis Setup](#4NLP)**  \n",
    "5. **[Advanced Models](#5AdvancedModels)**  \n",
    "    5.1. [Logistic Regression](#5.1logit)  \n",
    "    5.2. [Decision Tree Model](#5.2DT)  \n",
    "    5.3. [XGBoost](#5.3xgboost)  \n",
    "6. **[Summary](#6Summary)**"
   ]
  },
  {
   "cell_type": "markdown",
   "id": "3996e6a2",
   "metadata": {},
   "source": [
    "# 1. Introduction<a class ='anchor' id='1Introduction'></a>"
   ]
  },
  {
   "cell_type": "markdown",
   "id": "66e2193e",
   "metadata": {},
   "source": [
    "Notebook 2_Modelling_without_text_data explored different models and the numeric features' impact on sentiment prediction. The findings indicated that the numeric features do not impact the sentiment predictions. In this notebook, the review text will be turned into numeric features and then the same models will be used to determine if these new features have an impact on the sentiment prediction. The expected result is that the sentiment is highly dependent on what's written in the review text because if a person loves or hates a product, they would turn their feelings into words for the review.\n"
   ]
  },
  {
   "cell_type": "markdown",
   "id": "e02aa52c",
   "metadata": {},
   "source": [
    "# 2. Preliminary Data Setup<a class ='anchor' id='2Preliminary'></a>"
   ]
  },
  {
   "cell_type": "code",
   "execution_count": 1,
   "id": "677d06a1",
   "metadata": {},
   "outputs": [],
   "source": [
    "# Import packages\n",
    "import json\n",
    "import pandas as pd\n",
    "import numpy as np\n",
    "import matplotlib.pyplot as plt\n",
    "import pickle\n",
    "\n",
    "# Ignore warnings\n",
    "import warnings\n",
    "warnings.filterwarnings('ignore')\n",
    "\n",
    "# Import plotting functions\n",
    "from utils import class_report , conf_matrix\n"
   ]
  },
  {
   "cell_type": "markdown",
   "id": "48487750",
   "metadata": {},
   "source": [
    "Load in the preprocessed dataset."
   ]
  },
  {
   "cell_type": "code",
   "execution_count": 2,
   "id": "b642c905",
   "metadata": {},
   "outputs": [],
   "source": [
    "review_df = pd.read_json('preprocessed_review.json')"
   ]
  },
  {
   "cell_type": "code",
   "execution_count": 3,
   "id": "043e9d79",
   "metadata": {},
   "outputs": [
    {
     "name": "stdout",
     "output_type": "stream",
     "text": [
      "<class 'pandas.core.frame.DataFrame'>\n",
      "Int64Index: 1698253 entries, 0 to 1698252\n",
      "Data columns (total 15 columns):\n",
      " #   Column              Non-Null Count    Dtype \n",
      "---  ------              --------------    ----- \n",
      " 0   reviewScore         1698253 non-null  int64 \n",
      " 1   verified            1698253 non-null  int64 \n",
      " 2   reviewerID          1698253 non-null  object\n",
      " 3   product_id          1698253 non-null  object\n",
      " 4   reviewText          1698253 non-null  object\n",
      " 5   summary             1698253 non-null  object\n",
      " 6   vote                1698253 non-null  int64 \n",
      " 7   reviewDay           1698253 non-null  int64 \n",
      " 8   reviewMonth         1698253 non-null  int64 \n",
      " 9   reviewYear          1698253 non-null  int64 \n",
      " 10  style_Amazon Video  1698253 non-null  int64 \n",
      " 11  style_Blu-ray       1698253 non-null  int64 \n",
      " 12  style_DVD           1698253 non-null  int64 \n",
      " 13  style_Other         1698253 non-null  int64 \n",
      " 14  style_VHS Tape      1698253 non-null  int64 \n",
      "dtypes: int64(11), object(4)\n",
      "memory usage: 207.3+ MB\n"
     ]
    }
   ],
   "source": [
    "review_df.info(show_counts= True)"
   ]
  },
  {
   "cell_type": "markdown",
   "id": "101453e8",
   "metadata": {},
   "source": [
    "Looking at the processed data, 4 columns are non-numeric. The column of interest is the `reviewText` column so the other object columns will not be included."
   ]
  },
  {
   "cell_type": "code",
   "execution_count": 4,
   "id": "4bf18b20",
   "metadata": {},
   "outputs": [
    {
     "data": {
      "text/html": [
       "<div>\n",
       "<style scoped>\n",
       "    .dataframe tbody tr th:only-of-type {\n",
       "        vertical-align: middle;\n",
       "    }\n",
       "\n",
       "    .dataframe tbody tr th {\n",
       "        vertical-align: top;\n",
       "    }\n",
       "\n",
       "    .dataframe thead th {\n",
       "        text-align: right;\n",
       "    }\n",
       "</style>\n",
       "<table border=\"1\" class=\"dataframe\">\n",
       "  <thead>\n",
       "    <tr style=\"text-align: right;\">\n",
       "      <th></th>\n",
       "      <th>reviewScore</th>\n",
       "      <th>verified</th>\n",
       "      <th>reviewerID</th>\n",
       "      <th>product_id</th>\n",
       "      <th>reviewText</th>\n",
       "      <th>summary</th>\n",
       "      <th>vote</th>\n",
       "      <th>reviewDay</th>\n",
       "      <th>reviewMonth</th>\n",
       "      <th>reviewYear</th>\n",
       "      <th>style_Amazon Video</th>\n",
       "      <th>style_Blu-ray</th>\n",
       "      <th>style_DVD</th>\n",
       "      <th>style_Other</th>\n",
       "      <th>style_VHS Tape</th>\n",
       "    </tr>\n",
       "  </thead>\n",
       "  <tbody>\n",
       "    <tr>\n",
       "      <th>0</th>\n",
       "      <td>5</td>\n",
       "      <td>1</td>\n",
       "      <td>A1HP3B92A3JDQ1</td>\n",
       "      <td>0005019281</td>\n",
       "      <td>Of course it's impossible to separate Henry Wi...</td>\n",
       "      <td>The Fonz as Scrooge</td>\n",
       "      <td>4</td>\n",
       "      <td>2</td>\n",
       "      <td>11</td>\n",
       "      <td>2002</td>\n",
       "      <td>0</td>\n",
       "      <td>0</td>\n",
       "      <td>1</td>\n",
       "      <td>0</td>\n",
       "      <td>0</td>\n",
       "    </tr>\n",
       "    <tr>\n",
       "      <th>1</th>\n",
       "      <td>5</td>\n",
       "      <td>0</td>\n",
       "      <td>AZB4CQ9JZSUQB</td>\n",
       "      <td>0005019281</td>\n",
       "      <td>When this first aired in 1979, I enjoyed it so...</td>\n",
       "      <td>A Christmas Carol to be remembered</td>\n",
       "      <td>3</td>\n",
       "      <td>28</td>\n",
       "      <td>1</td>\n",
       "      <td>2002</td>\n",
       "      <td>0</td>\n",
       "      <td>0</td>\n",
       "      <td>1</td>\n",
       "      <td>0</td>\n",
       "      <td>0</td>\n",
       "    </tr>\n",
       "    <tr>\n",
       "      <th>2</th>\n",
       "      <td>5</td>\n",
       "      <td>0</td>\n",
       "      <td>A1PXS5N63PS6WR</td>\n",
       "      <td>0005019281</td>\n",
       "      <td>I must confess to being a bit of a coinsure of...</td>\n",
       "      <td>Change can be good</td>\n",
       "      <td>2</td>\n",
       "      <td>12</td>\n",
       "      <td>12</td>\n",
       "      <td>2001</td>\n",
       "      <td>0</td>\n",
       "      <td>0</td>\n",
       "      <td>1</td>\n",
       "      <td>0</td>\n",
       "      <td>0</td>\n",
       "    </tr>\n",
       "    <tr>\n",
       "      <th>3</th>\n",
       "      <td>3</td>\n",
       "      <td>0</td>\n",
       "      <td>A17TPT3FWAE5T1</td>\n",
       "      <td>0005019281</td>\n",
       "      <td>If you already have (and love) the Alistair Si...</td>\n",
       "      <td>An interesting contrast to more traditional ve...</td>\n",
       "      <td>31</td>\n",
       "      <td>11</td>\n",
       "      <td>12</td>\n",
       "      <td>2001</td>\n",
       "      <td>0</td>\n",
       "      <td>0</td>\n",
       "      <td>0</td>\n",
       "      <td>0</td>\n",
       "      <td>1</td>\n",
       "    </tr>\n",
       "    <tr>\n",
       "      <th>4</th>\n",
       "      <td>4</td>\n",
       "      <td>0</td>\n",
       "      <td>A3P98J5DZ00A75</td>\n",
       "      <td>0005019281</td>\n",
       "      <td>Henry Winkler proves his acting ability in thi...</td>\n",
       "      <td>grey</td>\n",
       "      <td>62</td>\n",
       "      <td>19</td>\n",
       "      <td>10</td>\n",
       "      <td>2001</td>\n",
       "      <td>0</td>\n",
       "      <td>0</td>\n",
       "      <td>1</td>\n",
       "      <td>0</td>\n",
       "      <td>0</td>\n",
       "    </tr>\n",
       "  </tbody>\n",
       "</table>\n",
       "</div>"
      ],
      "text/plain": [
       "   reviewScore  verified      reviewerID  product_id  \\\n",
       "0            5         1  A1HP3B92A3JDQ1  0005019281   \n",
       "1            5         0   AZB4CQ9JZSUQB  0005019281   \n",
       "2            5         0  A1PXS5N63PS6WR  0005019281   \n",
       "3            3         0  A17TPT3FWAE5T1  0005019281   \n",
       "4            4         0  A3P98J5DZ00A75  0005019281   \n",
       "\n",
       "                                          reviewText  \\\n",
       "0  Of course it's impossible to separate Henry Wi...   \n",
       "1  When this first aired in 1979, I enjoyed it so...   \n",
       "2  I must confess to being a bit of a coinsure of...   \n",
       "3  If you already have (and love) the Alistair Si...   \n",
       "4  Henry Winkler proves his acting ability in thi...   \n",
       "\n",
       "                                             summary  vote  reviewDay  \\\n",
       "0                                The Fonz as Scrooge     4          2   \n",
       "1                 A Christmas Carol to be remembered     3         28   \n",
       "2                                 Change can be good     2         12   \n",
       "3  An interesting contrast to more traditional ve...    31         11   \n",
       "4                                               grey    62         19   \n",
       "\n",
       "   reviewMonth  reviewYear  style_Amazon Video  style_Blu-ray  style_DVD  \\\n",
       "0           11        2002                   0              0          1   \n",
       "1            1        2002                   0              0          1   \n",
       "2           12        2001                   0              0          1   \n",
       "3           12        2001                   0              0          0   \n",
       "4           10        2001                   0              0          1   \n",
       "\n",
       "   style_Other  style_VHS Tape  \n",
       "0            0               0  \n",
       "1            0               0  \n",
       "2            0               0  \n",
       "3            0               1  \n",
       "4            0               0  "
      ]
     },
     "execution_count": 4,
     "metadata": {},
     "output_type": "execute_result"
    }
   ],
   "source": [
    "review_df.head()"
   ]
  },
  {
   "cell_type": "markdown",
   "id": "3d57dc55",
   "metadata": {},
   "source": [
    "The first step is to only focus on the sentiment of the review to try to predict the overall sentiment so every other column will be dropped. A separate analysis will be done to include the summary text if time permits."
   ]
  },
  {
   "cell_type": "code",
   "execution_count": 5,
   "id": "9e153ce1",
   "metadata": {},
   "outputs": [
    {
     "data": {
      "text/html": [
       "<div>\n",
       "<style scoped>\n",
       "    .dataframe tbody tr th:only-of-type {\n",
       "        vertical-align: middle;\n",
       "    }\n",
       "\n",
       "    .dataframe tbody tr th {\n",
       "        vertical-align: top;\n",
       "    }\n",
       "\n",
       "    .dataframe thead th {\n",
       "        text-align: right;\n",
       "    }\n",
       "</style>\n",
       "<table border=\"1\" class=\"dataframe\">\n",
       "  <thead>\n",
       "    <tr style=\"text-align: right;\">\n",
       "      <th></th>\n",
       "      <th>reviewScore</th>\n",
       "      <th>reviewText</th>\n",
       "      <th>reviewerID</th>\n",
       "      <th>product_id</th>\n",
       "    </tr>\n",
       "  </thead>\n",
       "  <tbody>\n",
       "    <tr>\n",
       "      <th>0</th>\n",
       "      <td>5</td>\n",
       "      <td>Of course it's impossible to separate Henry Wi...</td>\n",
       "      <td>A1HP3B92A3JDQ1</td>\n",
       "      <td>0005019281</td>\n",
       "    </tr>\n",
       "    <tr>\n",
       "      <th>1</th>\n",
       "      <td>5</td>\n",
       "      <td>When this first aired in 1979, I enjoyed it so...</td>\n",
       "      <td>AZB4CQ9JZSUQB</td>\n",
       "      <td>0005019281</td>\n",
       "    </tr>\n",
       "    <tr>\n",
       "      <th>2</th>\n",
       "      <td>5</td>\n",
       "      <td>I must confess to being a bit of a coinsure of...</td>\n",
       "      <td>A1PXS5N63PS6WR</td>\n",
       "      <td>0005019281</td>\n",
       "    </tr>\n",
       "    <tr>\n",
       "      <th>3</th>\n",
       "      <td>3</td>\n",
       "      <td>If you already have (and love) the Alistair Si...</td>\n",
       "      <td>A17TPT3FWAE5T1</td>\n",
       "      <td>0005019281</td>\n",
       "    </tr>\n",
       "    <tr>\n",
       "      <th>4</th>\n",
       "      <td>4</td>\n",
       "      <td>Henry Winkler proves his acting ability in thi...</td>\n",
       "      <td>A3P98J5DZ00A75</td>\n",
       "      <td>0005019281</td>\n",
       "    </tr>\n",
       "    <tr>\n",
       "      <th>...</th>\n",
       "      <td>...</td>\n",
       "      <td>...</td>\n",
       "      <td>...</td>\n",
       "      <td>...</td>\n",
       "    </tr>\n",
       "    <tr>\n",
       "      <th>1698248</th>\n",
       "      <td>5</td>\n",
       "      <td>Loved it want to see more</td>\n",
       "      <td>A1UM0LZVGQ4RYX</td>\n",
       "      <td>B0001GF2F6</td>\n",
       "    </tr>\n",
       "    <tr>\n",
       "      <th>1698249</th>\n",
       "      <td>5</td>\n",
       "      <td>Loved it wish it was more than two seasons.</td>\n",
       "      <td>A3MWE7P29CDR5L</td>\n",
       "      <td>B0001GF2F6</td>\n",
       "    </tr>\n",
       "    <tr>\n",
       "      <th>1698250</th>\n",
       "      <td>5</td>\n",
       "      <td>Such a witty show with good acting. This show ...</td>\n",
       "      <td>A3J6N3SOCENIPB</td>\n",
       "      <td>B0001GF2F6</td>\n",
       "    </tr>\n",
       "    <tr>\n",
       "      <th>1698251</th>\n",
       "      <td>4</td>\n",
       "      <td>It's a weird (comical) look at Grim Reapers.</td>\n",
       "      <td>A5O06SYSW6V93</td>\n",
       "      <td>B0001GF2F6</td>\n",
       "    </tr>\n",
       "    <tr>\n",
       "      <th>1698252</th>\n",
       "      <td>4</td>\n",
       "      <td>I don't get it. Are they all dead?</td>\n",
       "      <td>A1KF85AQR11MDY</td>\n",
       "      <td>B0001GF2F6</td>\n",
       "    </tr>\n",
       "  </tbody>\n",
       "</table>\n",
       "<p>1698253 rows × 4 columns</p>\n",
       "</div>"
      ],
      "text/plain": [
       "         reviewScore                                         reviewText  \\\n",
       "0                  5  Of course it's impossible to separate Henry Wi...   \n",
       "1                  5  When this first aired in 1979, I enjoyed it so...   \n",
       "2                  5  I must confess to being a bit of a coinsure of...   \n",
       "3                  3  If you already have (and love) the Alistair Si...   \n",
       "4                  4  Henry Winkler proves his acting ability in thi...   \n",
       "...              ...                                                ...   \n",
       "1698248            5                          Loved it want to see more   \n",
       "1698249            5        Loved it wish it was more than two seasons.   \n",
       "1698250            5  Such a witty show with good acting. This show ...   \n",
       "1698251            4       It's a weird (comical) look at Grim Reapers.   \n",
       "1698252            4                 I don't get it. Are they all dead?   \n",
       "\n",
       "             reviewerID  product_id  \n",
       "0        A1HP3B92A3JDQ1  0005019281  \n",
       "1         AZB4CQ9JZSUQB  0005019281  \n",
       "2        A1PXS5N63PS6WR  0005019281  \n",
       "3        A17TPT3FWAE5T1  0005019281  \n",
       "4        A3P98J5DZ00A75  0005019281  \n",
       "...                 ...         ...  \n",
       "1698248  A1UM0LZVGQ4RYX  B0001GF2F6  \n",
       "1698249  A3MWE7P29CDR5L  B0001GF2F6  \n",
       "1698250  A3J6N3SOCENIPB  B0001GF2F6  \n",
       "1698251   A5O06SYSW6V93  B0001GF2F6  \n",
       "1698252  A1KF85AQR11MDY  B0001GF2F6  \n",
       "\n",
       "[1698253 rows x 4 columns]"
      ]
     },
     "execution_count": 5,
     "metadata": {},
     "output_type": "execute_result"
    }
   ],
   "source": [
    "# Only keep the necessary columns\n",
    "review_df = review_df[['reviewScore', 'reviewText','reviewerID','product_id']]\n",
    "review_df"
   ]
  },
  {
   "cell_type": "code",
   "execution_count": 6,
   "id": "33abd624",
   "metadata": {},
   "outputs": [
    {
     "data": {
      "text/plain": [
       "B00006CXSS    24436\n",
       "6305837325    16643\n",
       "B00005JLF2    10032\n",
       "7880879625     6695\n",
       "0793906091     6379\n",
       "              ...  \n",
       "B00005JM48      100\n",
       "B00000F2LK      100\n",
       "B00003CY2S      100\n",
       "6303261736      100\n",
       "B00005LIRO      100\n",
       "Name: product_id, Length: 3744, dtype: int64"
      ]
     },
     "execution_count": 6,
     "metadata": {},
     "output_type": "execute_result"
    }
   ],
   "source": [
    "review_df['product_id'].value_counts()"
   ]
  },
  {
   "cell_type": "code",
   "execution_count": 7,
   "id": "61835543",
   "metadata": {},
   "outputs": [
    {
     "name": "stdout",
     "output_type": "stream",
     "text": [
      "<class 'pandas.core.frame.DataFrame'>\n",
      "Int64Index: 1698253 entries, 0 to 1698252\n",
      "Data columns (total 4 columns):\n",
      " #   Column       Dtype \n",
      "---  ------       ----- \n",
      " 0   reviewScore  int64 \n",
      " 1   reviewText   object\n",
      " 2   reviewerID   object\n",
      " 3   product_id   object\n",
      "dtypes: int64(1), object(3)\n",
      "memory usage: 64.8+ MB\n"
     ]
    }
   ],
   "source": [
    "review_df.info()"
   ]
  },
  {
   "cell_type": "markdown",
   "id": "6ce3ee2e",
   "metadata": {},
   "source": [
    "## 2.2 Check the datatype in the column `reviewScore` <a class ='anchor' id='2_2Review'></a>"
   ]
  },
  {
   "cell_type": "markdown",
   "id": "88f63844",
   "metadata": {},
   "source": [
    "Split the reviewScore column to 'Good (value of 1)'  for reviews that are 4 or 5 and 'Bad (value of 0)' for reviews that are 1,2 or 3."
   ]
  },
  {
   "cell_type": "code",
   "execution_count": 8,
   "id": "b3cb7637",
   "metadata": {},
   "outputs": [],
   "source": [
    "review_df['review_class'] = np.where(review_df['reviewScore']>=4,1,0)"
   ]
  },
  {
   "cell_type": "code",
   "execution_count": 9,
   "id": "d4dd02c6",
   "metadata": {},
   "outputs": [
    {
     "data": {
      "text/html": [
       "<div>\n",
       "<style scoped>\n",
       "    .dataframe tbody tr th:only-of-type {\n",
       "        vertical-align: middle;\n",
       "    }\n",
       "\n",
       "    .dataframe tbody tr th {\n",
       "        vertical-align: top;\n",
       "    }\n",
       "\n",
       "    .dataframe thead th {\n",
       "        text-align: right;\n",
       "    }\n",
       "</style>\n",
       "<table border=\"1\" class=\"dataframe\">\n",
       "  <thead>\n",
       "    <tr style=\"text-align: right;\">\n",
       "      <th></th>\n",
       "      <th>reviewScore</th>\n",
       "      <th>reviewText</th>\n",
       "      <th>reviewerID</th>\n",
       "      <th>product_id</th>\n",
       "      <th>review_class</th>\n",
       "    </tr>\n",
       "  </thead>\n",
       "  <tbody>\n",
       "    <tr>\n",
       "      <th>0</th>\n",
       "      <td>5</td>\n",
       "      <td>Of course it's impossible to separate Henry Wi...</td>\n",
       "      <td>A1HP3B92A3JDQ1</td>\n",
       "      <td>0005019281</td>\n",
       "      <td>1</td>\n",
       "    </tr>\n",
       "    <tr>\n",
       "      <th>1</th>\n",
       "      <td>5</td>\n",
       "      <td>When this first aired in 1979, I enjoyed it so...</td>\n",
       "      <td>AZB4CQ9JZSUQB</td>\n",
       "      <td>0005019281</td>\n",
       "      <td>1</td>\n",
       "    </tr>\n",
       "    <tr>\n",
       "      <th>2</th>\n",
       "      <td>5</td>\n",
       "      <td>I must confess to being a bit of a coinsure of...</td>\n",
       "      <td>A1PXS5N63PS6WR</td>\n",
       "      <td>0005019281</td>\n",
       "      <td>1</td>\n",
       "    </tr>\n",
       "    <tr>\n",
       "      <th>3</th>\n",
       "      <td>3</td>\n",
       "      <td>If you already have (and love) the Alistair Si...</td>\n",
       "      <td>A17TPT3FWAE5T1</td>\n",
       "      <td>0005019281</td>\n",
       "      <td>0</td>\n",
       "    </tr>\n",
       "    <tr>\n",
       "      <th>4</th>\n",
       "      <td>4</td>\n",
       "      <td>Henry Winkler proves his acting ability in thi...</td>\n",
       "      <td>A3P98J5DZ00A75</td>\n",
       "      <td>0005019281</td>\n",
       "      <td>1</td>\n",
       "    </tr>\n",
       "  </tbody>\n",
       "</table>\n",
       "</div>"
      ],
      "text/plain": [
       "   reviewScore                                         reviewText  \\\n",
       "0            5  Of course it's impossible to separate Henry Wi...   \n",
       "1            5  When this first aired in 1979, I enjoyed it so...   \n",
       "2            5  I must confess to being a bit of a coinsure of...   \n",
       "3            3  If you already have (and love) the Alistair Si...   \n",
       "4            4  Henry Winkler proves his acting ability in thi...   \n",
       "\n",
       "       reviewerID  product_id  review_class  \n",
       "0  A1HP3B92A3JDQ1  0005019281             1  \n",
       "1   AZB4CQ9JZSUQB  0005019281             1  \n",
       "2  A1PXS5N63PS6WR  0005019281             1  \n",
       "3  A17TPT3FWAE5T1  0005019281             0  \n",
       "4  A3P98J5DZ00A75  0005019281             1  "
      ]
     },
     "execution_count": 9,
     "metadata": {},
     "output_type": "execute_result"
    }
   ],
   "source": [
    "review_df.head()"
   ]
  },
  {
   "cell_type": "markdown",
   "id": "4eb93488",
   "metadata": {},
   "source": [
    "This new `review_class` column will be used for the different models to predict the sentiment from the `reviewText`."
   ]
  },
  {
   "cell_type": "markdown",
   "id": "835de70e",
   "metadata": {},
   "source": [
    "# 3. Set up Train/Validation/Test split <a class ='anchor' id='3Test_Train'></a>"
   ]
  },
  {
   "cell_type": "markdown",
   "id": "86e87585",
   "metadata": {},
   "source": [
    "Since the dataset is 1,698,253 rows, a smaller amount will be sampled for the NLP analysis."
   ]
  },
  {
   "cell_type": "code",
   "execution_count": 10,
   "id": "0f3cdc79",
   "metadata": {},
   "outputs": [
    {
     "data": {
      "text/plain": [
       "(1698253, 5)"
      ]
     },
     "execution_count": 10,
     "metadata": {},
     "output_type": "execute_result"
    }
   ],
   "source": [
    "review_df.shape"
   ]
  },
  {
   "cell_type": "code",
   "execution_count": 11,
   "id": "a01252a3",
   "metadata": {},
   "outputs": [
    {
     "data": {
      "text/html": [
       "<div>\n",
       "<style scoped>\n",
       "    .dataframe tbody tr th:only-of-type {\n",
       "        vertical-align: middle;\n",
       "    }\n",
       "\n",
       "    .dataframe tbody tr th {\n",
       "        vertical-align: top;\n",
       "    }\n",
       "\n",
       "    .dataframe thead th {\n",
       "        text-align: right;\n",
       "    }\n",
       "</style>\n",
       "<table border=\"1\" class=\"dataframe\">\n",
       "  <thead>\n",
       "    <tr style=\"text-align: right;\">\n",
       "      <th></th>\n",
       "      <th>reviewScore</th>\n",
       "      <th>reviewText</th>\n",
       "      <th>reviewerID</th>\n",
       "      <th>product_id</th>\n",
       "      <th>review_class</th>\n",
       "    </tr>\n",
       "  </thead>\n",
       "  <tbody>\n",
       "    <tr>\n",
       "      <th>650548</th>\n",
       "      <td>1</td>\n",
       "      <td>Do not buy this version of this movie the endi...</td>\n",
       "      <td>A1SRVP8TNMWA12</td>\n",
       "      <td>6304004540</td>\n",
       "      <td>0</td>\n",
       "    </tr>\n",
       "    <tr>\n",
       "      <th>191425</th>\n",
       "      <td>5</td>\n",
       "      <td>Best movie :)</td>\n",
       "      <td>A9BJUYI09FUK9</td>\n",
       "      <td>5554452574</td>\n",
       "      <td>1</td>\n",
       "    </tr>\n",
       "    <tr>\n",
       "      <th>1407338</th>\n",
       "      <td>5</td>\n",
       "      <td>Received video in excellent shape within a wee...</td>\n",
       "      <td>A2PAX0TLGCZ7Y4</td>\n",
       "      <td>B00005LQ1L</td>\n",
       "      <td>1</td>\n",
       "    </tr>\n",
       "    <tr>\n",
       "      <th>771088</th>\n",
       "      <td>5</td>\n",
       "      <td>I have looked a long time for this movie. Saw ...</td>\n",
       "      <td>A196EAE3H2HC15</td>\n",
       "      <td>6304490399</td>\n",
       "      <td>1</td>\n",
       "    </tr>\n",
       "    <tr>\n",
       "      <th>958472</th>\n",
       "      <td>4</td>\n",
       "      <td>The movie is great - the animation is incredib...</td>\n",
       "      <td>A3OCSBEBH2ZJ2V</td>\n",
       "      <td>7799133104</td>\n",
       "      <td>1</td>\n",
       "    </tr>\n",
       "    <tr>\n",
       "      <th>...</th>\n",
       "      <td>...</td>\n",
       "      <td>...</td>\n",
       "      <td>...</td>\n",
       "      <td>...</td>\n",
       "      <td>...</td>\n",
       "    </tr>\n",
       "    <tr>\n",
       "      <th>1245043</th>\n",
       "      <td>4</td>\n",
       "      <td>Enjoyable. Sweet story.</td>\n",
       "      <td>AKRYJH06IZYMK</td>\n",
       "      <td>B00005JLOT</td>\n",
       "      <td>1</td>\n",
       "    </tr>\n",
       "    <tr>\n",
       "      <th>96423</th>\n",
       "      <td>5</td>\n",
       "      <td>What else can you say about Morgan Freeman and...</td>\n",
       "      <td>A2VJK2IKZC3KUN</td>\n",
       "      <td>0790729989</td>\n",
       "      <td>1</td>\n",
       "    </tr>\n",
       "    <tr>\n",
       "      <th>1629949</th>\n",
       "      <td>5</td>\n",
       "      <td>Great distraction for kids when mom needs a ti...</td>\n",
       "      <td>A21T7ULX37K4YE</td>\n",
       "      <td>B0000C2IQB</td>\n",
       "      <td>1</td>\n",
       "    </tr>\n",
       "    <tr>\n",
       "      <th>443398</th>\n",
       "      <td>3</td>\n",
       "      <td>How anyone could appreciate this movie after o...</td>\n",
       "      <td>A2FS38D943KX12</td>\n",
       "      <td>6302670306</td>\n",
       "      <td>0</td>\n",
       "    </tr>\n",
       "    <tr>\n",
       "      <th>813596</th>\n",
       "      <td>5</td>\n",
       "      <td>For husband's collection</td>\n",
       "      <td>A3HDREYV273WYK</td>\n",
       "      <td>6304946805</td>\n",
       "      <td>1</td>\n",
       "    </tr>\n",
       "  </tbody>\n",
       "</table>\n",
       "<p>84913 rows × 5 columns</p>\n",
       "</div>"
      ],
      "text/plain": [
       "         reviewScore                                         reviewText  \\\n",
       "650548             1  Do not buy this version of this movie the endi...   \n",
       "191425             5                                      Best movie :)   \n",
       "1407338            5  Received video in excellent shape within a wee...   \n",
       "771088             5  I have looked a long time for this movie. Saw ...   \n",
       "958472             4  The movie is great - the animation is incredib...   \n",
       "...              ...                                                ...   \n",
       "1245043            4                            Enjoyable. Sweet story.   \n",
       "96423              5  What else can you say about Morgan Freeman and...   \n",
       "1629949            5  Great distraction for kids when mom needs a ti...   \n",
       "443398             3  How anyone could appreciate this movie after o...   \n",
       "813596             5                           For husband's collection   \n",
       "\n",
       "             reviewerID  product_id  review_class  \n",
       "650548   A1SRVP8TNMWA12  6304004540             0  \n",
       "191425    A9BJUYI09FUK9  5554452574             1  \n",
       "1407338  A2PAX0TLGCZ7Y4  B00005LQ1L             1  \n",
       "771088   A196EAE3H2HC15  6304490399             1  \n",
       "958472   A3OCSBEBH2ZJ2V  7799133104             1  \n",
       "...                 ...         ...           ...  \n",
       "1245043   AKRYJH06IZYMK  B00005JLOT             1  \n",
       "96423    A2VJK2IKZC3KUN  0790729989             1  \n",
       "1629949  A21T7ULX37K4YE  B0000C2IQB             1  \n",
       "443398   A2FS38D943KX12  6302670306             0  \n",
       "813596   A3HDREYV273WYK  6304946805             1  \n",
       "\n",
       "[84913 rows x 5 columns]"
      ]
     },
     "execution_count": 11,
     "metadata": {},
     "output_type": "execute_result"
    }
   ],
   "source": [
    "subsample = review_df.sample(frac = 0.05)\n",
    "\n",
    "# Check results\n",
    "subsample"
   ]
  },
  {
   "cell_type": "code",
   "execution_count": 12,
   "id": "1927a881",
   "metadata": {},
   "outputs": [],
   "source": [
    "from sklearn.model_selection import train_test_split\n",
    "\n",
    "#Set up data for training, validation and testing\n",
    "X = subsample.drop(columns = ['review_class', 'reviewScore'])\n",
    "y = subsample['review_class']\n",
    "\n",
    "# Stratify ensures that both the train and test set includes all the classes in the data\n",
    "X_train, X_test, y_train, y_test = train_test_split(X,y, test_size = 0.25, stratify = y)\n"
   ]
  },
  {
   "cell_type": "markdown",
   "id": "8b29d22c",
   "metadata": {},
   "source": [
    "Check the split of the data for the train and test set"
   ]
  },
  {
   "cell_type": "markdown",
   "id": "7c9b0e10",
   "metadata": {},
   "source": [
    "The training data contains 82.1% of positive reviews which means that the data is highly skewed towards positive reviews. There is a 82.1% chance of predicting the review sentiment correctly if every prediction made was positive."
   ]
  },
  {
   "cell_type": "code",
   "execution_count": 13,
   "id": "ae6cb361",
   "metadata": {
    "scrolled": false
   },
   "outputs": [
    {
     "data": {
      "text/plain": [
       "1    0.8332\n",
       "0    0.1668\n",
       "Name: review_class, dtype: float64"
      ]
     },
     "execution_count": 13,
     "metadata": {},
     "output_type": "execute_result"
    }
   ],
   "source": [
    "y_test.value_counts()/y_test.shape[0]"
   ]
  },
  {
   "cell_type": "markdown",
   "id": "4e93b453",
   "metadata": {},
   "source": [
    "The testing data contains 82.1% of positive reviews which means that the data is highly skewed towards positive reviews. There is an 82.1% chance of predicting the review sentiment correctly if every prediction made is positive."
   ]
  },
  {
   "cell_type": "markdown",
   "id": "1a72d0b6",
   "metadata": {},
   "source": [
    "# 4. Set up NLP analysis <a class ='anchor' id='4NLP'></a>"
   ]
  },
  {
   "cell_type": "markdown",
   "id": "819b1151",
   "metadata": {},
   "source": [
    "To turn the review text into numeric features, a vectorizer will be used to do so."
   ]
  },
  {
   "cell_type": "markdown",
   "id": "e38b01f9",
   "metadata": {},
   "source": [
    "**Convert the text in the reviewText column to vectors**"
   ]
  },
  {
   "cell_type": "code",
   "execution_count": 14,
   "id": "214935b9",
   "metadata": {},
   "outputs": [
    {
     "data": {
      "text/plain": [
       "<63684x7795 sparse matrix of type '<class 'numpy.float64'>'\n",
       "\twith 1490328 stored elements in Compressed Sparse Row format>"
      ]
     },
     "execution_count": 14,
     "metadata": {},
     "output_type": "execute_result"
    }
   ],
   "source": [
    "from sklearn.feature_extraction.text import TfidfVectorizer\n",
    "\n",
    "# 1. Instantiate \n",
    "# Discard stop words and any words that appear less than 25 times in the dataset of reviews.\n",
    "review_wordbank = TfidfVectorizer(stop_words = \"english\", min_df = 25)\n",
    "\n",
    "# 2. Fit the train data\n",
    "review_wordbank.fit(X_train['reviewText'])\n",
    "\n",
    "# 3. Transform\n",
    "X_train_transformed = review_wordbank.transform(X_train['reviewText'])\n",
    "X_test_transformed = review_wordbank.transform(X_test['reviewText'])\n",
    "\n",
    "# Check results\n",
    "X_train_transformed"
   ]
  },
  {
   "cell_type": "markdown",
   "id": "0b4f15a7",
   "metadata": {},
   "source": [
    "After preliminary vectorization with TfidfVectorizer, 63684 rows of reviews returned 7641 unique terms or tokens. This vectorizer combines the count of the word in the text with the inverse count of the word in every document to come up with a numeric representation. As the count of the word in the text increases, the numeric value increases. As the count of the word in the whole library of text increases, the numeric value decreases. This ensures that common words like movie will get a lower value because they may appear in every text."
   ]
  },
  {
   "cell_type": "markdown",
   "id": "96d71bb6",
   "metadata": {},
   "source": [
    "The transformed words can be put into a dataframe to analyze which words appear the most."
   ]
  },
  {
   "cell_type": "code",
   "execution_count": 15,
   "id": "e7ed13f0",
   "metadata": {},
   "outputs": [
    {
     "data": {
      "text/html": [
       "<div>\n",
       "<style scoped>\n",
       "    .dataframe tbody tr th:only-of-type {\n",
       "        vertical-align: middle;\n",
       "    }\n",
       "\n",
       "    .dataframe tbody tr th {\n",
       "        vertical-align: top;\n",
       "    }\n",
       "\n",
       "    .dataframe thead th {\n",
       "        text-align: right;\n",
       "    }\n",
       "</style>\n",
       "<table border=\"1\" class=\"dataframe\">\n",
       "  <thead>\n",
       "    <tr style=\"text-align: right;\">\n",
       "      <th></th>\n",
       "      <th>counts</th>\n",
       "    </tr>\n",
       "  </thead>\n",
       "  <tbody>\n",
       "    <tr>\n",
       "      <th>movie</th>\n",
       "      <td>4728.460679</td>\n",
       "    </tr>\n",
       "    <tr>\n",
       "      <th>great</th>\n",
       "      <td>3740.909579</td>\n",
       "    </tr>\n",
       "    <tr>\n",
       "      <th>good</th>\n",
       "      <td>2541.754258</td>\n",
       "    </tr>\n",
       "    <tr>\n",
       "      <th>love</th>\n",
       "      <td>2375.141437</td>\n",
       "    </tr>\n",
       "    <tr>\n",
       "      <th>classic</th>\n",
       "      <td>1364.831220</td>\n",
       "    </tr>\n",
       "    <tr>\n",
       "      <th>...</th>\n",
       "      <td>...</td>\n",
       "    </tr>\n",
       "    <tr>\n",
       "      <th>posters</th>\n",
       "      <td>2.404170</td>\n",
       "    </tr>\n",
       "    <tr>\n",
       "      <th>informs</th>\n",
       "      <td>2.328126</td>\n",
       "    </tr>\n",
       "    <tr>\n",
       "      <th>avenge</th>\n",
       "      <td>2.315045</td>\n",
       "    </tr>\n",
       "    <tr>\n",
       "      <th>hires</th>\n",
       "      <td>2.312205</td>\n",
       "    </tr>\n",
       "    <tr>\n",
       "      <th>celebrated</th>\n",
       "      <td>2.295400</td>\n",
       "    </tr>\n",
       "  </tbody>\n",
       "</table>\n",
       "<p>7795 rows × 1 columns</p>\n",
       "</div>"
      ],
      "text/plain": [
       "                 counts\n",
       "movie       4728.460679\n",
       "great       3740.909579\n",
       "good        2541.754258\n",
       "love        2375.141437\n",
       "classic     1364.831220\n",
       "...                 ...\n",
       "posters        2.404170\n",
       "informs        2.328126\n",
       "avenge         2.315045\n",
       "hires          2.312205\n",
       "celebrated     2.295400\n",
       "\n",
       "[7795 rows x 1 columns]"
      ]
     },
     "metadata": {},
     "output_type": "display_data"
    }
   ],
   "source": [
    "word_counts = pd.DataFrame({\"counts\":X_train_transformed.toarray().sum(axis=0)},\n",
    "                          index = review_wordbank.get_feature_names()\n",
    "                          ).sort_values(\"counts\",ascending= False)\n",
    "# Check results\n",
    "display(word_counts)"
   ]
  },
  {
   "cell_type": "code",
   "execution_count": 16,
   "id": "5a730d77",
   "metadata": {
    "scrolled": false
   },
   "outputs": [
    {
     "data": {
      "image/png": "[encoded data removed]",
      "text/plain": [
       "<Figure size 1300x600 with 1 Axes>"
      ]
     },
     "metadata": {},
     "output_type": "display_data"
    }
   ],
   "source": [
    "# Plot the results\n",
    "word_counts.head(20).plot(kind=\"bar\",figsize=(13,6), legend = False)\n",
    "\n",
    "# Label the plot\n",
    "plt.title('20 highest weighted words from TF-IDF', fontweight = 'bold', fontsize =16)\n",
    "plt.xlabel('TF-IDF Coefficients', fontsize = 20)\n",
    "plt.ylabel('Total count', fontsize = 20)\n",
    "\n",
    "plt.show()"
   ]
  },
  {
   "cell_type": "markdown",
   "id": "678b6c08",
   "metadata": {},
   "source": [
    "The words that appear the most often are mainly positive and this is due to the imbalanced dataset. This high count of positive words will likely skew the results to predict more positive than negative reviews. Since this is a preliminary analysis, for future work, the positive reviews will be downsampled to have a similar distribution for positive and negative reviews."
   ]
  },
  {
   "cell_type": "markdown",
   "id": "8fad01b8",
   "metadata": {},
   "source": [
    "Now that the text features are encoded into sparse matrices, they will need to be turned into arrays to be used in the advanced models."
   ]
  },
  {
   "cell_type": "code",
   "execution_count": 17,
   "id": "4e9c2429",
   "metadata": {},
   "outputs": [],
   "source": [
    "# Turn the sparse matrices into arrays\n",
    "X_train_transformed = X_train_transformed.toarray()\n",
    "X_test_transformed = X_test_transformed.toarray()"
   ]
  },
  {
   "cell_type": "markdown",
   "id": "b37a7f5a",
   "metadata": {},
   "source": [
    "Now that the text features are arrays, they can be used in advanced models."
   ]
  },
  {
   "cell_type": "markdown",
   "id": "1b3673bf",
   "metadata": {},
   "source": [
    "# 5. Advanced Models <a class ='anchor' id='5AdvancedModels'></a>"
   ]
  },
  {
   "cell_type": "markdown",
   "id": "cc9ac4a5",
   "metadata": {},
   "source": [
    "The numeric features will have to be normalized before they are used in the models. A standard scaler will be used to normalize the data to make the mean 0 and have a variance of 1."
   ]
  },
  {
   "cell_type": "code",
   "execution_count": 18,
   "id": "e165ab67",
   "metadata": {},
   "outputs": [],
   "source": [
    "from sklearn.preprocessing import StandardScaler\n",
    "\n",
    "# Instantiate\n",
    "standscaler = StandardScaler()\n",
    "standscaler.fit(X_train_transformed)\n",
    "\n",
    "# Transform both the X train and X test data\n",
    "X_train_scaled = standscaler.transform(X_train_transformed)\n",
    "X_test_scaled = standscaler.transform(X_test_transformed)"
   ]
  },
  {
   "cell_type": "markdown",
   "id": "e1c7b566",
   "metadata": {},
   "source": [
    "Now that the features have been normalized, they can now be used in the machine learning models."
   ]
  },
  {
   "cell_type": "markdown",
   "id": "a954fee6",
   "metadata": {},
   "source": [
    "## 5.1 Logistic Regression<a class ='anchor' id='5.1logit'></a>"
   ]
  },
  {
   "cell_type": "markdown",
   "id": "89c983a1",
   "metadata": {},
   "source": [
    "A logistic regression model will be trained to fit the text features."
   ]
  },
  {
   "cell_type": "code",
   "execution_count": 19,
   "id": "9732e105",
   "metadata": {},
   "outputs": [
    {
     "name": "stdout",
     "output_type": "stream",
     "text": [
      "Train score: 0.9374568180390679\n",
      "Test score: 0.8648075745442555\n"
     ]
    }
   ],
   "source": [
    "from sklearn.linear_model import LogisticRegression\n",
    "\n",
    "# Instantiate\n",
    "logreg = LogisticRegression(C = 0.1)\n",
    "\n",
    "# Fit the model\n",
    "logreg.fit(X_train_scaled,y_train)\n",
    "\n",
    "# Score the model\n",
    "print(f\"Train score: {logreg.score(X_train_scaled,y_train)}\")\n",
    "print(f\"Test score: {logreg.score(X_test_scaled,y_test)}\")"
   ]
  },
  {
   "cell_type": "markdown",
   "id": "baa53909",
   "metadata": {},
   "source": [
    "The results are better than the models ran in notebook 2_Modelling_without_text_data. The test scores are 3% higher which can indicate that the text features have predictive power in predicting the sentiment from reviews. The coefficients will be explored to further evaluate the model."
   ]
  },
  {
   "cell_type": "code",
   "execution_count": 20,
   "id": "d48af77a",
   "metadata": {},
   "outputs": [],
   "source": [
    "# Save the above model\n",
    "pickle.dump(logreg, open('Saved_Models/3_logreg_model.pickle','wb'))"
   ]
  },
  {
   "cell_type": "code",
   "execution_count": 21,
   "id": "e072e2ed",
   "metadata": {},
   "outputs": [],
   "source": [
    "# Load the saved model\n",
    "logreg = pickle.load(open('Saved_Models/3_logreg_model.pickle','rb'))"
   ]
  },
  {
   "cell_type": "code",
   "execution_count": 22,
   "id": "57217617",
   "metadata": {},
   "outputs": [
    {
     "data": {
      "text/plain": [
       "array([ 0.01108461, -0.00093694,  0.04348092, ..., -0.01092544,\n",
       "       -0.03787629, -0.01258273])"
      ]
     },
     "execution_count": 22,
     "metadata": {},
     "output_type": "execute_result"
    }
   ],
   "source": [
    "# Determine the model coefficients\n",
    "logreg.coef_[0]"
   ]
  },
  {
   "cell_type": "code",
   "execution_count": 23,
   "id": "e538e5c3",
   "metadata": {},
   "outputs": [
    {
     "data": {
      "text/plain": [
       "['00',\n",
       " '000',\n",
       " '007',\n",
       " '10',\n",
       " '100',\n",
       " '1000',\n",
       " '101',\n",
       " '1080p',\n",
       " '10th',\n",
       " '11',\n",
       " '12',\n",
       " '13',\n",
       " '13th',\n",
       " '14',\n",
       " '15',\n",
       " '16',\n",
       " '17',\n",
       " '18',\n",
       " '19',\n",
       " '1930',\n",
       " '1930s',\n",
       " '1933',\n",
       " '1939',\n",
       " '1940',\n",
       " '1940s',\n",
       " '1941',\n",
       " '1942',\n",
       " '1943',\n",
       " '1944',\n",
       " '1945',\n",
       " '1950',\n",
       " '1950s',\n",
       " '1951',\n",
       " '1953',\n",
       " '1954',\n",
       " '1955',\n",
       " '1956',\n",
       " '1957',\n",
       " '1958',\n",
       " '1959',\n",
       " '1960',\n",
       " '1960s',\n",
       " '1962',\n",
       " '1963',\n",
       " '1964',\n",
       " '1965',\n",
       " '1966',\n",
       " '1967',\n",
       " '1968',\n",
       " '1969',\n",
       " '1970',\n",
       " '1970s',\n",
       " '1971',\n",
       " '1972',\n",
       " '1974',\n",
       " '1975',\n",
       " '1976',\n",
       " '1977',\n",
       " '1978',\n",
       " '1979',\n",
       " '1980',\n",
       " '1980s',\n",
       " '1981',\n",
       " '1982',\n",
       " '1983',\n",
       " '1984',\n",
       " '1985',\n",
       " '1986',\n",
       " '1987',\n",
       " '1988',\n",
       " '1989',\n",
       " '1990',\n",
       " '1990s',\n",
       " '1991',\n",
       " '1992',\n",
       " '1993',\n",
       " '1994',\n",
       " '1995',\n",
       " '1996',\n",
       " '1997',\n",
       " '1998',\n",
       " '1999',\n",
       " '19th',\n",
       " '1st',\n",
       " '20',\n",
       " '200',\n",
       " '2000',\n",
       " '2001',\n",
       " '2002',\n",
       " '2003',\n",
       " '2004',\n",
       " '2005',\n",
       " '2006',\n",
       " '2007',\n",
       " '2008',\n",
       " '2009',\n",
       " '2010',\n",
       " '2011',\n",
       " '2012',\n",
       " '2013',\n",
       " '2014',\n",
       " '2015',\n",
       " '2016',\n",
       " '20th',\n",
       " '21',\n",
       " '21st',\n",
       " '22',\n",
       " '23',\n",
       " '24',\n",
       " '25',\n",
       " '25th',\n",
       " '26',\n",
       " '27',\n",
       " '28',\n",
       " '29',\n",
       " '2nd',\n",
       " '30',\n",
       " '300',\n",
       " '32',\n",
       " '33',\n",
       " '35',\n",
       " '37',\n",
       " '39',\n",
       " '3d',\n",
       " '3rd',\n",
       " '40',\n",
       " '40s',\n",
       " '42',\n",
       " '45',\n",
       " '48',\n",
       " '4k',\n",
       " '4th',\n",
       " '50',\n",
       " '500',\n",
       " '50s',\n",
       " '55',\n",
       " '5th',\n",
       " '60',\n",
       " '60s',\n",
       " '66',\n",
       " '6th',\n",
       " '70',\n",
       " '70s',\n",
       " '75',\n",
       " '78',\n",
       " '7th',\n",
       " '80',\n",
       " '80s',\n",
       " '85',\n",
       " '8th',\n",
       " '90',\n",
       " '90s',\n",
       " '93',\n",
       " '95',\n",
       " '99',\n",
       " 'aaron',\n",
       " 'abandoned',\n",
       " 'abbey',\n",
       " 'abc',\n",
       " 'abides',\n",
       " 'abilities',\n",
       " 'ability',\n",
       " 'able',\n",
       " 'aboard',\n",
       " 'abound',\n",
       " 'abrupt',\n",
       " 'abruptly',\n",
       " 'abs',\n",
       " 'absence',\n",
       " 'absent',\n",
       " 'absolute',\n",
       " 'absolutely',\n",
       " 'absolutly',\n",
       " 'absorbed',\n",
       " 'absorbing',\n",
       " 'absurd',\n",
       " 'absurdity',\n",
       " 'abundance',\n",
       " 'abundant',\n",
       " 'abuse',\n",
       " 'abused',\n",
       " 'abusive',\n",
       " 'academy',\n",
       " 'accent',\n",
       " 'accents',\n",
       " 'accept',\n",
       " 'acceptable',\n",
       " 'acceptance',\n",
       " 'accepted',\n",
       " 'accepting',\n",
       " 'accepts',\n",
       " 'access',\n",
       " 'accessible',\n",
       " 'accident',\n",
       " 'accidentally',\n",
       " 'acclaim',\n",
       " 'acclaimed',\n",
       " 'accolades',\n",
       " 'accompanied',\n",
       " 'accompany',\n",
       " 'accompanying',\n",
       " 'accomplish',\n",
       " 'accomplished',\n",
       " 'accomplishment',\n",
       " 'according',\n",
       " 'account',\n",
       " 'accounts',\n",
       " 'accuracy',\n",
       " 'accurate',\n",
       " 'accurately',\n",
       " 'accused',\n",
       " 'accustomed',\n",
       " 'ace',\n",
       " 'achieve',\n",
       " 'achieved',\n",
       " 'achievement',\n",
       " 'achieves',\n",
       " 'achieving',\n",
       " 'acid',\n",
       " 'acknowledge',\n",
       " 'acquired',\n",
       " 'act',\n",
       " 'acted',\n",
       " 'acting',\n",
       " 'action',\n",
       " 'actions',\n",
       " 'active',\n",
       " 'activities',\n",
       " 'activity',\n",
       " 'actor',\n",
       " 'actors',\n",
       " 'actress',\n",
       " 'actresses',\n",
       " 'acts',\n",
       " 'actual',\n",
       " 'actually',\n",
       " 'ad',\n",
       " 'adam',\n",
       " 'adams',\n",
       " 'adapt',\n",
       " 'adaptation',\n",
       " 'adaptations',\n",
       " 'adapted',\n",
       " 'adaption',\n",
       " 'add',\n",
       " 'added',\n",
       " 'addict',\n",
       " 'addicted',\n",
       " 'addiction',\n",
       " 'addictive',\n",
       " 'addicts',\n",
       " 'adding',\n",
       " 'addition',\n",
       " 'additional',\n",
       " 'additionally',\n",
       " 'additions',\n",
       " 'address',\n",
       " 'addressed',\n",
       " 'addresses',\n",
       " 'adds',\n",
       " 'adequate',\n",
       " 'adjust',\n",
       " 'administration',\n",
       " 'admirable',\n",
       " 'admiration',\n",
       " 'admire',\n",
       " 'admired',\n",
       " 'admission',\n",
       " 'admit',\n",
       " 'admits',\n",
       " 'admittedly',\n",
       " 'adolescent',\n",
       " 'adopted',\n",
       " 'adorable',\n",
       " 'adore',\n",
       " 'adored',\n",
       " 'adrenaline',\n",
       " 'ads',\n",
       " 'adult',\n",
       " 'adulthood',\n",
       " 'adults',\n",
       " 'advance',\n",
       " 'advanced',\n",
       " 'advances',\n",
       " 'advantage',\n",
       " 'adventure',\n",
       " 'adventures',\n",
       " 'adventurous',\n",
       " 'advertised',\n",
       " 'advertising',\n",
       " 'advice',\n",
       " 'advise',\n",
       " 'advised',\n",
       " 'affair',\n",
       " 'affect',\n",
       " 'affected',\n",
       " 'affecting',\n",
       " 'affection',\n",
       " 'affects',\n",
       " 'affleck',\n",
       " 'afford',\n",
       " 'affordable',\n",
       " 'aforementioned',\n",
       " 'afraid',\n",
       " 'africa',\n",
       " 'african',\n",
       " 'aftermath',\n",
       " 'afternoon',\n",
       " 'afterward',\n",
       " 'agatha',\n",
       " 'age',\n",
       " 'aged',\n",
       " 'agency',\n",
       " 'agenda',\n",
       " 'agent',\n",
       " 'agents',\n",
       " 'ages',\n",
       " 'aggressive',\n",
       " 'aging',\n",
       " 'ago',\n",
       " 'agree',\n",
       " 'agreed',\n",
       " 'agrees',\n",
       " 'ah',\n",
       " 'ahead',\n",
       " 'aid',\n",
       " 'aids',\n",
       " 'aimed',\n",
       " 'ain',\n",
       " 'air',\n",
       " 'airborne',\n",
       " 'aircraft',\n",
       " 'aired',\n",
       " 'airing',\n",
       " 'airplane',\n",
       " 'airport',\n",
       " 'aka',\n",
       " 'akin',\n",
       " 'akira',\n",
       " 'al',\n",
       " 'aladdin',\n",
       " 'alan',\n",
       " 'alas',\n",
       " 'alba',\n",
       " 'albeit',\n",
       " 'albert',\n",
       " 'album',\n",
       " 'alcohol',\n",
       " 'alcoholic',\n",
       " 'alec',\n",
       " 'alert',\n",
       " 'alex',\n",
       " 'alexander',\n",
       " 'alfred',\n",
       " 'ali',\n",
       " 'alias',\n",
       " 'alice',\n",
       " 'alien',\n",
       " 'aliens',\n",
       " 'alike',\n",
       " 'alive',\n",
       " 'allen',\n",
       " 'alley',\n",
       " 'allied',\n",
       " 'allies',\n",
       " 'allow',\n",
       " 'allowed',\n",
       " 'allowing',\n",
       " 'allows',\n",
       " 'ally',\n",
       " 'almighty',\n",
       " 'alongside',\n",
       " 'alot',\n",
       " 'alright',\n",
       " 'alter',\n",
       " 'altered',\n",
       " 'alternate',\n",
       " 'alternative',\n",
       " 'altman',\n",
       " 'altogether',\n",
       " 'amanda',\n",
       " 'amateur',\n",
       " 'amazed',\n",
       " 'amazing',\n",
       " 'amazingly',\n",
       " 'amazon',\n",
       " 'ambiguity',\n",
       " 'ambiguous',\n",
       " 'ambition',\n",
       " 'ambitious',\n",
       " 'amelie',\n",
       " 'america',\n",
       " 'american',\n",
       " 'americans',\n",
       " 'amounts',\n",
       " 'ample',\n",
       " 'amused',\n",
       " 'amusement',\n",
       " 'amusing',\n",
       " 'amy',\n",
       " 'anakin',\n",
       " 'analysis',\n",
       " 'analyze',\n",
       " 'anamorphic',\n",
       " 'anchor',\n",
       " 'ancient',\n",
       " 'anderson',\n",
       " 'andrew',\n",
       " 'andrews',\n",
       " 'andy',\n",
       " 'angel',\n",
       " 'angela',\n",
       " 'angeles',\n",
       " 'angelina',\n",
       " 'angels',\n",
       " 'anger',\n",
       " 'angle',\n",
       " 'angles',\n",
       " 'angry',\n",
       " 'angst',\n",
       " 'anguish',\n",
       " 'animal',\n",
       " 'animals',\n",
       " 'animated',\n",
       " 'animation',\n",
       " 'animations',\n",
       " 'animators',\n",
       " 'anime',\n",
       " 'aniston',\n",
       " 'ann',\n",
       " 'anna',\n",
       " 'anne',\n",
       " 'annette',\n",
       " 'annie',\n",
       " 'anniversary',\n",
       " 'announced',\n",
       " 'annoyed',\n",
       " 'annoying',\n",
       " 'annual',\n",
       " 'answer',\n",
       " 'answered',\n",
       " 'answers',\n",
       " 'antagonist',\n",
       " 'anthology',\n",
       " 'anthony',\n",
       " 'anti',\n",
       " 'anticipated',\n",
       " 'anticipation',\n",
       " 'antics',\n",
       " 'antonio',\n",
       " 'anxiety',\n",
       " 'anxious',\n",
       " 'anybody',\n",
       " 'anymore',\n",
       " 'anytime',\n",
       " 'anyways',\n",
       " 'apart',\n",
       " 'apartment',\n",
       " 'ape',\n",
       " 'apes',\n",
       " 'apocalypse',\n",
       " 'apocalyptic',\n",
       " 'apologize',\n",
       " 'appalling',\n",
       " 'apparent',\n",
       " 'apparently',\n",
       " 'appeal',\n",
       " 'appealing',\n",
       " 'appeals',\n",
       " 'appear',\n",
       " 'appearance',\n",
       " 'appearances',\n",
       " 'appeared',\n",
       " 'appearing',\n",
       " 'appears',\n",
       " 'applaud',\n",
       " 'apple',\n",
       " 'applied',\n",
       " 'applies',\n",
       " 'apply',\n",
       " 'appreciate',\n",
       " 'appreciated',\n",
       " 'appreciation',\n",
       " 'approach',\n",
       " 'approached',\n",
       " 'approaches',\n",
       " 'appropriate',\n",
       " 'appropriately',\n",
       " 'approval',\n",
       " 'approximately',\n",
       " 'april',\n",
       " 'aragorn',\n",
       " 'arc',\n",
       " 'area',\n",
       " 'areas',\n",
       " 'aren',\n",
       " 'arena',\n",
       " 'argento',\n",
       " 'arguably',\n",
       " 'argue',\n",
       " 'arguing',\n",
       " 'argument',\n",
       " 'arguments',\n",
       " 'arise',\n",
       " 'arizona',\n",
       " 'ark',\n",
       " 'arm',\n",
       " 'armageddon',\n",
       " 'armed',\n",
       " 'arms',\n",
       " 'army',\n",
       " 'arnold',\n",
       " 'aronofsky',\n",
       " 'arquette',\n",
       " 'arranged',\n",
       " 'array',\n",
       " 'arrest',\n",
       " 'arrested',\n",
       " 'arrival',\n",
       " 'arrive',\n",
       " 'arrived',\n",
       " 'arrives',\n",
       " 'arriving',\n",
       " 'arrogant',\n",
       " 'arrow',\n",
       " 'art',\n",
       " 'arthur',\n",
       " 'article',\n",
       " 'artifacts',\n",
       " 'artificial',\n",
       " 'artist',\n",
       " 'artistic',\n",
       " 'artistically',\n",
       " 'artistry',\n",
       " 'artists',\n",
       " 'arts',\n",
       " 'artsy',\n",
       " 'artwork',\n",
       " 'asap',\n",
       " 'ashamed',\n",
       " 'ashley',\n",
       " 'asia',\n",
       " 'asian',\n",
       " 'aside',\n",
       " 'ask',\n",
       " 'asked',\n",
       " 'asking',\n",
       " 'asks',\n",
       " 'asleep',\n",
       " 'aspect',\n",
       " 'aspects',\n",
       " 'aspiring',\n",
       " 'ass',\n",
       " 'assassin',\n",
       " 'assassination',\n",
       " 'assault',\n",
       " 'assembled',\n",
       " 'assigned',\n",
       " 'assignment',\n",
       " 'assist',\n",
       " 'assistant',\n",
       " 'associate',\n",
       " 'associated',\n",
       " 'assume',\n",
       " 'assumed',\n",
       " 'assuming',\n",
       " 'assure',\n",
       " 'assured',\n",
       " 'astin',\n",
       " 'astonishing',\n",
       " 'astounding',\n",
       " 'astronaut',\n",
       " 'atkinson',\n",
       " 'atlantic',\n",
       " 'atmosphere',\n",
       " 'atmospheric',\n",
       " 'atomic',\n",
       " 'atrocious',\n",
       " 'attached',\n",
       " 'attack',\n",
       " 'attacked',\n",
       " 'attacking',\n",
       " 'attacks',\n",
       " 'attempt',\n",
       " 'attempted',\n",
       " 'attempting',\n",
       " 'attempts',\n",
       " 'attend',\n",
       " 'attended',\n",
       " 'attending',\n",
       " 'attention',\n",
       " 'attic',\n",
       " 'attitude',\n",
       " 'attitudes',\n",
       " 'attorney',\n",
       " 'attract',\n",
       " 'attracted',\n",
       " 'attraction',\n",
       " 'attractive',\n",
       " 'attributes',\n",
       " 'audience',\n",
       " 'audiences',\n",
       " 'audio',\n",
       " 'audrey',\n",
       " 'august',\n",
       " 'aunt',\n",
       " 'austen',\n",
       " 'austin',\n",
       " 'australia',\n",
       " 'australian',\n",
       " 'authentic',\n",
       " 'authenticity',\n",
       " 'author',\n",
       " 'authorities',\n",
       " 'authority',\n",
       " 'auto',\n",
       " 'automatically',\n",
       " 'available',\n",
       " 'avenge',\n",
       " 'average',\n",
       " 'avid',\n",
       " 'avoid',\n",
       " 'avoided',\n",
       " 'avoiding',\n",
       " 'awaited',\n",
       " 'awaiting',\n",
       " 'awake',\n",
       " 'award',\n",
       " 'awards',\n",
       " 'aware',\n",
       " 'awareness',\n",
       " 'away',\n",
       " 'awe',\n",
       " 'awesome',\n",
       " 'awful',\n",
       " 'awhile',\n",
       " 'awkward',\n",
       " 'awry',\n",
       " 'awsome',\n",
       " 'babe',\n",
       " 'babies',\n",
       " 'baby',\n",
       " 'backdrop',\n",
       " 'background',\n",
       " 'backgrounds',\n",
       " 'backs',\n",
       " 'backstory',\n",
       " 'backwards',\n",
       " 'bacon',\n",
       " 'bad',\n",
       " 'badly',\n",
       " 'bag',\n",
       " 'baker',\n",
       " 'balance',\n",
       " 'balanced',\n",
       " 'baldwin',\n",
       " 'bale',\n",
       " 'ball',\n",
       " 'ballet',\n",
       " 'balls',\n",
       " 'band',\n",
       " 'banderas',\n",
       " 'bands',\n",
       " 'bang',\n",
       " 'bank',\n",
       " 'banks',\n",
       " 'banter',\n",
       " 'bar',\n",
       " 'barbara',\n",
       " 'bare',\n",
       " 'barely',\n",
       " 'bargain',\n",
       " 'barry',\n",
       " 'barrymore',\n",
       " 'bars',\n",
       " 'base',\n",
       " 'baseball',\n",
       " 'based',\n",
       " 'basement',\n",
       " 'bashing',\n",
       " 'basic',\n",
       " 'basically',\n",
       " 'basics',\n",
       " 'basil',\n",
       " 'basis',\n",
       " 'bass',\n",
       " 'bat',\n",
       " 'bates',\n",
       " 'bath',\n",
       " 'bathroom',\n",
       " 'batman',\n",
       " 'battle',\n",
       " 'battlefield',\n",
       " 'battles',\n",
       " 'battling',\n",
       " 'bauer',\n",
       " 'bay',\n",
       " 'bbc',\n",
       " 'bd',\n",
       " 'beach',\n",
       " 'bean',\n",
       " 'bear',\n",
       " 'bearing',\n",
       " 'bears',\n",
       " 'beast',\n",
       " 'beat',\n",
       " 'beaten',\n",
       " 'beating',\n",
       " 'beatles',\n",
       " 'beats',\n",
       " 'beatty',\n",
       " 'beautiful',\n",
       " 'beautifully',\n",
       " 'beauty',\n",
       " 'bebop',\n",
       " 'bed',\n",
       " 'bedroom',\n",
       " 'beef',\n",
       " 'beer',\n",
       " 'befriends',\n",
       " 'beg',\n",
       " 'began',\n",
       " 'begging',\n",
       " 'begin',\n",
       " 'begining',\n",
       " 'beginner',\n",
       " 'beginners',\n",
       " 'beginning',\n",
       " 'begins',\n",
       " 'begun',\n",
       " 'behalf',\n",
       " 'behave',\n",
       " 'behavior',\n",
       " 'behold',\n",
       " 'beings',\n",
       " 'belief',\n",
       " 'beliefs',\n",
       " 'believability',\n",
       " 'believable',\n",
       " 'believe',\n",
       " 'believeable',\n",
       " 'believed',\n",
       " 'believer',\n",
       " 'believes',\n",
       " 'believing',\n",
       " 'bell',\n",
       " 'belle',\n",
       " 'belly',\n",
       " 'belong',\n",
       " 'belongs',\n",
       " 'beloved',\n",
       " 'belt',\n",
       " 'belushi',\n",
       " 'ben',\n",
       " 'beneath',\n",
       " 'benefit',\n",
       " 'benefits',\n",
       " 'benicio',\n",
       " 'benjamin',\n",
       " 'bent',\n",
       " 'bergman',\n",
       " 'berlin',\n",
       " 'bernard',\n",
       " 'berry',\n",
       " 'best',\n",
       " 'bet',\n",
       " 'betrayal',\n",
       " 'betrayed',\n",
       " 'bette',\n",
       " 'better',\n",
       " 'betty',\n",
       " 'beverly',\n",
       " 'beware',\n",
       " 'bias',\n",
       " 'biased',\n",
       " 'bible',\n",
       " 'biblical',\n",
       " 'big',\n",
       " 'bigger',\n",
       " 'biggest',\n",
       " 'bike',\n",
       " 'biker',\n",
       " 'billed',\n",
       " 'billion',\n",
       " 'billy',\n",
       " 'bin',\n",
       " 'bing',\n",
       " 'binge',\n",
       " 'binks',\n",
       " 'bio',\n",
       " 'biography',\n",
       " 'bird',\n",
       " 'birds',\n",
       " 'birth',\n",
       " 'birthday',\n",
       " 'bit',\n",
       " 'bite',\n",
       " 'bites',\n",
       " 'biting',\n",
       " 'bits',\n",
       " 'bitter',\n",
       " 'bittersweet',\n",
       " 'bizarre',\n",
       " 'black',\n",
       " 'blacks',\n",
       " 'blade',\n",
       " 'blah',\n",
       " 'blair',\n",
       " 'blake',\n",
       " 'blame',\n",
       " 'blanchett',\n",
       " 'bland',\n",
       " 'blank',\n",
       " 'blast',\n",
       " 'blatant',\n",
       " 'blazing',\n",
       " 'bleak',\n",
       " 'blend',\n",
       " 'blended',\n",
       " 'blends',\n",
       " 'bless',\n",
       " 'blessed',\n",
       " 'blew',\n",
       " 'blind',\n",
       " 'block',\n",
       " 'blockbuster',\n",
       " 'blockbusters',\n",
       " 'blond',\n",
       " 'blonde',\n",
       " 'blood',\n",
       " 'blooded',\n",
       " 'bloody',\n",
       " 'bloom',\n",
       " 'blow',\n",
       " 'blowing',\n",
       " 'blown',\n",
       " 'blows',\n",
       " 'blu',\n",
       " 'blue',\n",
       " 'blueray',\n",
       " 'blues',\n",
       " 'blunt',\n",
       " 'bluray',\n",
       " 'blurry',\n",
       " 'bo',\n",
       " 'board',\n",
       " 'boasts',\n",
       " 'boat',\n",
       " 'bob',\n",
       " 'bobby',\n",
       " 'bodies',\n",
       " 'body',\n",
       " 'bogart',\n",
       " 'bold',\n",
       " 'bomb',\n",
       " 'bombing',\n",
       " 'bombs',\n",
       " 'bond',\n",
       " 'bonding',\n",
       " 'bonds',\n",
       " 'bone',\n",
       " 'bones',\n",
       " 'bonus',\n",
       " 'boo',\n",
       " 'book',\n",
       " 'booklet',\n",
       " 'books',\n",
       " 'boom',\n",
       " 'boot',\n",
       " 'booth',\n",
       " 'bootleg',\n",
       " 'boots',\n",
       " 'border',\n",
       " 'borders',\n",
       " 'bore',\n",
       " 'bored',\n",
       " 'boredom',\n",
       " 'borg',\n",
       " 'boring',\n",
       " 'boris',\n",
       " 'born',\n",
       " 'borrow',\n",
       " 'borrowed',\n",
       " 'borrows',\n",
       " 'boss',\n",
       " 'boston',\n",
       " 'bother',\n",
       " 'bothered',\n",
       " 'bothers',\n",
       " 'bottle',\n",
       " 'bought',\n",
       " 'bound',\n",
       " 'boundaries',\n",
       " 'bounty',\n",
       " 'bow',\n",
       " 'bowl',\n",
       " 'bowling',\n",
       " 'box',\n",
       " 'boxed',\n",
       " 'boxing',\n",
       " 'boy',\n",
       " 'boyd',\n",
       " 'boyfriend',\n",
       " 'boyle',\n",
       " 'boys',\n",
       " 'brad',\n",
       " 'bradley',\n",
       " 'brain',\n",
       " 'brainer',\n",
       " 'brainless',\n",
       " 'brains',\n",
       " 'branagh',\n",
       " 'brand',\n",
       " 'brando',\n",
       " 'brandon',\n",
       " 'brash',\n",
       " 'brat',\n",
       " 'brave',\n",
       " 'bravery',\n",
       " 'bravo',\n",
       " 'brazil',\n",
       " 'bread',\n",
       " 'break',\n",
       " 'breakdown',\n",
       " 'breakfast',\n",
       " 'breaking',\n",
       " 'breaks',\n",
       " 'breakthrough',\n",
       " 'breath',\n",
       " 'breathe',\n",
       " 'breathing',\n",
       " 'breathless',\n",
       " 'breathtaking',\n",
       " 'breed',\n",
       " 'brendan',\n",
       " 'brian',\n",
       " 'bride',\n",
       " 'bridge',\n",
       " 'bridges',\n",
       " 'bridget',\n",
       " 'brief',\n",
       " 'briefly',\n",
       " 'brien',\n",
       " 'bright',\n",
       " 'brilliance',\n",
       " 'brilliant',\n",
       " 'brilliantly',\n",
       " 'bring',\n",
       " 'bringing',\n",
       " 'brings',\n",
       " 'britain',\n",
       " 'british',\n",
       " 'broad',\n",
       " 'broadcast',\n",
       " 'broadway',\n",
       " 'broke',\n",
       " 'broken',\n",
       " 'bronson',\n",
       " 'brooding',\n",
       " 'brooklyn',\n",
       " 'brooks',\n",
       " 'bros',\n",
       " 'brosnan',\n",
       " 'brother',\n",
       " 'brothers',\n",
       " 'brought',\n",
       " 'brown',\n",
       " 'bruce',\n",
       " 'brutal',\n",
       " 'brutality',\n",
       " 'brutally',\n",
       " 'bryan',\n",
       " 'btw',\n",
       " 'bubble',\n",
       " 'buck',\n",
       " 'bucks',\n",
       " 'buddies',\n",
       " 'buddy',\n",
       " 'budget',\n",
       " 'buff',\n",
       " 'buffs',\n",
       " 'buffy',\n",
       " 'bug',\n",
       " 'bugs',\n",
       " 'build',\n",
       " 'building',\n",
       " 'buildings',\n",
       " 'builds',\n",
       " 'built',\n",
       " 'bull',\n",
       " 'bullet',\n",
       " 'bullets',\n",
       " 'bullies',\n",
       " 'bullock',\n",
       " 'bully',\n",
       " 'bumbling',\n",
       " 'bummer',\n",
       " 'bumps',\n",
       " 'bunch',\n",
       " 'bunny',\n",
       " ...]"
      ]
     },
     "execution_count": 23,
     "metadata": {},
     "output_type": "execute_result"
    }
   ],
   "source": [
    "# Show which column the coefficient is referring to.\n",
    "review_wordbank.get_feature_names()"
   ]
  },
  {
   "cell_type": "markdown",
   "id": "573a293f",
   "metadata": {},
   "source": [
    "The coefficients and feature names are found above separately but they can be combined into a dataframe to better visualize which coefficients belong to which features."
   ]
  },
  {
   "cell_type": "code",
   "execution_count": 24,
   "id": "f58fc986",
   "metadata": {},
   "outputs": [
    {
     "data": {
      "text/html": [
       "<div>\n",
       "<style scoped>\n",
       "    .dataframe tbody tr th:only-of-type {\n",
       "        vertical-align: middle;\n",
       "    }\n",
       "\n",
       "    .dataframe tbody tr th {\n",
       "        vertical-align: top;\n",
       "    }\n",
       "\n",
       "    .dataframe thead th {\n",
       "        text-align: right;\n",
       "    }\n",
       "</style>\n",
       "<table border=\"1\" class=\"dataframe\">\n",
       "  <thead>\n",
       "    <tr style=\"text-align: right;\">\n",
       "      <th></th>\n",
       "      <th>coefficients</th>\n",
       "    </tr>\n",
       "  </thead>\n",
       "  <tbody>\n",
       "    <tr>\n",
       "      <th>waste</th>\n",
       "      <td>-0.361300</td>\n",
       "    </tr>\n",
       "    <tr>\n",
       "      <th>boring</th>\n",
       "      <td>-0.341485</td>\n",
       "    </tr>\n",
       "    <tr>\n",
       "      <th>horrible</th>\n",
       "      <td>-0.265009</td>\n",
       "    </tr>\n",
       "    <tr>\n",
       "      <th>worst</th>\n",
       "      <td>-0.261312</td>\n",
       "    </tr>\n",
       "    <tr>\n",
       "      <th>poor</th>\n",
       "      <td>-0.223438</td>\n",
       "    </tr>\n",
       "    <tr>\n",
       "      <th>...</th>\n",
       "      <td>...</td>\n",
       "    </tr>\n",
       "    <tr>\n",
       "      <th>loved</th>\n",
       "      <td>0.529990</td>\n",
       "    </tr>\n",
       "    <tr>\n",
       "      <th>excellent</th>\n",
       "      <td>0.619790</td>\n",
       "    </tr>\n",
       "    <tr>\n",
       "      <th>awesome</th>\n",
       "      <td>0.888955</td>\n",
       "    </tr>\n",
       "    <tr>\n",
       "      <th>love</th>\n",
       "      <td>0.962352</td>\n",
       "    </tr>\n",
       "    <tr>\n",
       "      <th>great</th>\n",
       "      <td>1.107953</td>\n",
       "    </tr>\n",
       "  </tbody>\n",
       "</table>\n",
       "<p>7795 rows × 1 columns</p>\n",
       "</div>"
      ],
      "text/plain": [
       "           coefficients\n",
       "waste         -0.361300\n",
       "boring        -0.341485\n",
       "horrible      -0.265009\n",
       "worst         -0.261312\n",
       "poor          -0.223438\n",
       "...                 ...\n",
       "loved          0.529990\n",
       "excellent      0.619790\n",
       "awesome        0.888955\n",
       "love           0.962352\n",
       "great          1.107953\n",
       "\n",
       "[7795 rows x 1 columns]"
      ]
     },
     "execution_count": 24,
     "metadata": {},
     "output_type": "execute_result"
    }
   ],
   "source": [
    "# Turn the above into a dataframe to be used in a horizontal barplot.\n",
    "coeff_df = pd.DataFrame({\"coefficients\": logreg.coef_[0]}, index = review_wordbank.get_feature_names()).sort_values('coefficients', ascending = True)\n",
    "\n",
    "# Check results\n",
    "coeff_df"
   ]
  },
  {
   "cell_type": "markdown",
   "id": "6e78d9d5",
   "metadata": {},
   "source": [
    "The coefficients and features are shown above but bar plots can be made to visualize the results better."
   ]
  },
  {
   "cell_type": "markdown",
   "id": "cb8a37e6",
   "metadata": {},
   "source": [
    "**Features to predict negative sentiment**"
   ]
  },
  {
   "cell_type": "code",
   "execution_count": 25,
   "id": "3e3766ec",
   "metadata": {
    "scrolled": true
   },
   "outputs": [
    {
     "data": {
      "image/png": "[encoded data removed]",
      "text/plain": [
       "<Figure size 1000x700 with 1 Axes>"
      ]
     },
     "metadata": {},
     "output_type": "display_data"
    }
   ],
   "source": [
    "# Make a horizontal bar plot\n",
    "coeff_df.head(10).plot(kind = 'barh', figsize = (10,7),legend = False)\n",
    "\n",
    "# Set x axis range\n",
    "plt.xlim([-1,0])\n",
    "\n",
    "# Label the plot\n",
    "plt.title('10 smallest coefficients indicating negative sentiment', fontweight = 'bold', fontsize =16)\n",
    "plt.xlabel('Coefficient', fontsize = 20)\n",
    "plt.ylabel('Features', fontsize = 20)\n",
    "\n",
    "plt.show()"
   ]
  },
  {
   "cell_type": "markdown",
   "id": "bf0a7b1d",
   "metadata": {},
   "source": [
    "The plot above shows that the logistic model is able to pick up on some negative features like `boring`, `waste`, `horrible` etc. Although these may be used to predict the negative sentiment, the absolute value of the coefficients is small. These small values may lead to a decreased performance for predicting negative sentiment."
   ]
  },
  {
   "cell_type": "markdown",
   "id": "9505458e",
   "metadata": {},
   "source": [
    "**Features to predict positive sentiment**"
   ]
  },
  {
   "cell_type": "code",
   "execution_count": 26,
   "id": "720b410a",
   "metadata": {
    "scrolled": false
   },
   "outputs": [
    {
     "data": {
      "image/png": "[encoded data removed]",
      "text/plain": [
       "<Figure size 1000x700 with 1 Axes>"
      ]
     },
     "metadata": {},
     "output_type": "display_data"
    }
   ],
   "source": [
    "# Make a horizontal bar plot\n",
    "coeff_df.tail(10).plot(kind = 'barh', figsize = (10,7),legend = False)\n",
    "\n",
    "# Set x axis range\n",
    "plt.xlim([0,1])\n",
    "\n",
    "# Label the plot\n",
    "plt.title('10 largest coefficients indicating positive sentiment', fontweight = 'bold', fontsize =16)\n",
    "plt.xlabel('Coefficient', fontsize = 20)\n",
    "plt.ylabel('Features', fontsize = 20)\n",
    "\n",
    "plt.show()"
   ]
  },
  {
   "cell_type": "markdown",
   "id": "98dc2082",
   "metadata": {},
   "source": [
    "From the coefficient plot above, it can be seen that there are some features that almost have a coefficient of 1 which is relatively high compared to every other coefficient. This makes it so that if there is the word `love` in the text, there is a higher probability that the model will predict it to be positive."
   ]
  },
  {
   "cell_type": "markdown",
   "id": "e1c423d1",
   "metadata": {},
   "source": [
    "The classification report and confusion matrix can be used to see the recall and precision of the model. The imported plotting functions will be used."
   ]
  },
  {
   "cell_type": "code",
   "execution_count": 27,
   "id": "f43e0d63",
   "metadata": {},
   "outputs": [
    {
     "name": "stdout",
     "output_type": "stream",
     "text": [
      "              precision    recall  f1-score   support\n",
      "\n",
      "           0       0.60      0.57      0.59      3541\n",
      "           1       0.92      0.92      0.92     17688\n",
      "\n",
      "    accuracy                           0.86     21229\n",
      "   macro avg       0.76      0.75      0.75     21229\n",
      "weighted avg       0.86      0.86      0.86     21229\n",
      "\n"
     ]
    }
   ],
   "source": [
    "# Determine the precision and recall of the model\n",
    "class_report(logreg,X_test_scaled,y_test)"
   ]
  },
  {
   "cell_type": "code",
   "execution_count": 28,
   "id": "9f0dbe80",
   "metadata": {},
   "outputs": [
    {
     "data": {
      "image/png": "[encoded data removed]",
      "text/plain": [
       "<Figure size 640x480 with 2 Axes>"
      ]
     },
     "metadata": {},
     "output_type": "display_data"
    }
   ],
   "source": [
    "# Plot the decision matrix\n",
    "conf_matrix(logreg,X_test_scaled,y_test, 'Logistic Regression')"
   ]
  },
  {
   "cell_type": "markdown",
   "id": "3add2304",
   "metadata": {},
   "source": [
    "The results from the above show that the model is performing better than the logistic regression model without the text features. Even though the sample size is smaller than in notebook 2_Modelling_without_text_data, the logistic regression model is able to generalize better to the test data in predicting the sentiment of the review. The recall and precision for predicting negative sentiment are better than 50% which is a good start in determining the best model to fit this text data. For future work, the logistic regression model will be optimized by tuning the hyperparameters."
   ]
  },
  {
   "cell_type": "markdown",
   "id": "8f50d9b5",
   "metadata": {},
   "source": [
    "## 5.2 Decision Tree Classification<a class ='anchor' id='5.2DT'></a>"
   ]
  },
  {
   "cell_type": "markdown",
   "id": "8f97b07d",
   "metadata": {},
   "source": [
    "In this section, a decision tree will be used to model the data."
   ]
  },
  {
   "cell_type": "code",
   "execution_count": 29,
   "id": "b6db500c",
   "metadata": {
    "scrolled": true
   },
   "outputs": [
    {
     "name": "stdout",
     "output_type": "stream",
     "text": [
      "Train score: 0.844199484956975\n",
      "Test score: 0.842620943049602\n"
     ]
    }
   ],
   "source": [
    "from sklearn.tree import DecisionTreeClassifier\n",
    "\n",
    "# Instantiate\n",
    "decisiontree_model = DecisionTreeClassifier(max_depth = 4)\n",
    "\n",
    "# Fit the model\n",
    "decisiontree_model.fit(X_train_transformed,y_train)\n",
    "\n",
    "# Score the model\n",
    "print(f\"Train score: {decisiontree_model.score(X_train_transformed,y_train)}\")\n",
    "print(f\"Test score: {decisiontree_model.score(X_test_transformed,y_test)}\")"
   ]
  },
  {
   "cell_type": "markdown",
   "id": "52e24322",
   "metadata": {},
   "source": [
    "The accuracy of the decision tree is relatively low compared to the baseline of 0.835. The precision and recall will be explored further."
   ]
  },
  {
   "cell_type": "markdown",
   "id": "541198f8",
   "metadata": {},
   "source": [
    "The above model can be saved so this notebook can be run without fitting the model again."
   ]
  },
  {
   "cell_type": "code",
   "execution_count": 30,
   "id": "247b0971",
   "metadata": {},
   "outputs": [],
   "source": [
    "# Save the above model\n",
    "pickle.dump(decisiontree_model, open('Saved_Models/3_decisiontree_model.pickle','wb'))"
   ]
  },
  {
   "cell_type": "code",
   "execution_count": 31,
   "id": "6643f0ff",
   "metadata": {},
   "outputs": [],
   "source": [
    "# # Load the saved model\n",
    "decisiontree_model = pickle.load(open('Saved_Models/3_decisiontree_model.pickle','rb'))"
   ]
  },
  {
   "cell_type": "markdown",
   "id": "f46164eb",
   "metadata": {},
   "source": [
    "The classification report and decision matrix will be determined below to look at the precision and recall of the model."
   ]
  },
  {
   "cell_type": "code",
   "execution_count": 32,
   "id": "e62ac1cd",
   "metadata": {},
   "outputs": [
    {
     "name": "stdout",
     "output_type": "stream",
     "text": [
      "              precision    recall  f1-score   support\n",
      "\n",
      "           0       0.61      0.16      0.26      3541\n",
      "           1       0.85      0.98      0.91     17688\n",
      "\n",
      "    accuracy                           0.84     21229\n",
      "   macro avg       0.73      0.57      0.58     21229\n",
      "weighted avg       0.81      0.84      0.80     21229\n",
      "\n"
     ]
    }
   ],
   "source": [
    "# Determine the precision and recall of the model\n",
    "class_report(decisiontree_model,X_test_transformed,y_test)"
   ]
  },
  {
   "cell_type": "code",
   "execution_count": 33,
   "id": "c2e31e58",
   "metadata": {},
   "outputs": [
    {
     "data": {
      "image/png": "[encoded data removed]",
      "text/plain": [
       "<Figure size 640x480 with 2 Axes>"
      ]
     },
     "metadata": {},
     "output_type": "display_data"
    }
   ],
   "source": [
    "# Plot the decision matrix\n",
    "conf_matrix(decisiontree_model,X_test_transformed,y_test, 'Decision Tree')"
   ]
  },
  {
   "cell_type": "markdown",
   "id": "b8be6d60",
   "metadata": {},
   "source": [
    "The recall for this model is not good for predicting negative sentiment which is the same case as determined in the decision tree model from Notebook 2. "
   ]
  },
  {
   "cell_type": "markdown",
   "id": "af640fc4",
   "metadata": {},
   "source": [
    "## 5.3 XGBoost<a class ='anchor' id='5.3xgboost'></a>"
   ]
  },
  {
   "cell_type": "markdown",
   "id": "ee101e18",
   "metadata": {},
   "source": [
    "In this section, a XGBoost model will be used to fit the data."
   ]
  },
  {
   "cell_type": "code",
   "execution_count": 34,
   "id": "25fe4c65",
   "metadata": {},
   "outputs": [
    {
     "name": "stdout",
     "output_type": "stream",
     "text": [
      "Train score: 0.9088939136988883\n",
      "Test score: 0.8815770879457346\n"
     ]
    }
   ],
   "source": [
    "from xgboost import XGBClassifier\n",
    "\n",
    "# Instantiate model\n",
    "XGB_model = XGBClassifier()\n",
    "\n",
    "# Fit model\n",
    "XGB_model.fit(X_train_scaled,y_train)\n",
    "\n",
    "# Score the model\n",
    "print(f\"Train score: {XGB_model.score(X_train_scaled,y_train)}\")\n",
    "print(f\"Test score: {XGB_model.score(X_test_scaled,y_test)}\")"
   ]
  },
  {
   "cell_type": "markdown",
   "id": "3d241e41",
   "metadata": {},
   "source": [
    "The train and test accuracy from this model is the highest out of all the tried models. This is a good sign that this model may be great for sentiment predictions. To further evaluate the results, the recall and precision scores will be analyzed."
   ]
  },
  {
   "cell_type": "markdown",
   "id": "6e8aa91d",
   "metadata": {},
   "source": [
    "The above model can be saved so this notebook can be run without fitting the model again."
   ]
  },
  {
   "cell_type": "code",
   "execution_count": 35,
   "id": "1b4af643",
   "metadata": {},
   "outputs": [],
   "source": [
    "# Save the above model\n",
    "pickle.dump(XGB_model, open('Saved_Models/3_XGBoost_model.pickle','wb'))"
   ]
  },
  {
   "cell_type": "code",
   "execution_count": 36,
   "id": "38322a30",
   "metadata": {},
   "outputs": [],
   "source": [
    "# # Load the saved model\n",
    "# XGB_model = pickle.load(open('Saved_Models/3_XGBoost_model.pickle','rb'))"
   ]
  },
  {
   "cell_type": "markdown",
   "id": "7b748c19",
   "metadata": {},
   "source": [
    "The classification report and decision matrix will be determined below to look at the precision and recall of the model."
   ]
  },
  {
   "cell_type": "code",
   "execution_count": 37,
   "id": "c2bbea32",
   "metadata": {},
   "outputs": [
    {
     "name": "stdout",
     "output_type": "stream",
     "text": [
      "              precision    recall  f1-score   support\n",
      "\n",
      "           0       0.78      0.41      0.53      3541\n",
      "           1       0.89      0.98      0.93     17688\n",
      "\n",
      "    accuracy                           0.88     21229\n",
      "   macro avg       0.83      0.69      0.73     21229\n",
      "weighted avg       0.87      0.88      0.87     21229\n",
      "\n"
     ]
    }
   ],
   "source": [
    "# Determine the precision and recall of the model\n",
    "class_report(XGB_model,X_test_scaled,y_test)"
   ]
  },
  {
   "cell_type": "code",
   "execution_count": 38,
   "id": "02a6a46a",
   "metadata": {},
   "outputs": [
    {
     "data": {
      "image/png": "[encoded data removed]",
      "text/plain": [
       "<Figure size 640x480 with 2 Axes>"
      ]
     },
     "metadata": {},
     "output_type": "display_data"
    }
   ],
   "source": [
    "# Plot the decision matrix\n",
    "conf_matrix(XGB_model,X_test_scaled,y_test, 'XGBoost')"
   ]
  },
  {
   "cell_type": "markdown",
   "id": "50ce455a",
   "metadata": {},
   "source": [
    "The recall for negative predictions is relatively low but this is better than the XGboost model in Notebook 2. This model shows promising results that can be improved with more hyperparameter tuning in the future. The high precision for sentiment prediction makes this a great model to move forward with in the future."
   ]
  },
  {
   "cell_type": "markdown",
   "id": "a6157b50",
   "metadata": {},
   "source": [
    "# 6. Summary<a class ='anchor' id='6summary'></a>"
   ]
  },
  {
   "cell_type": "markdown",
   "id": "5526169a",
   "metadata": {},
   "source": [
    "The logistic regression model gave decent results for predicting the sentiment and the most important features/coefficients were also determined in section 5.1. The coefficients were mainly high positive values which are mainly influenced by a large number of positive reviews in the dataset. The decision tree model did not show promising results and should not be used in the predicting sentiment. The XGBoost model showed very promising results for predicting sentiment as the precision was fairly high for both positive and negative predictions."
   ]
  }
 ],
 "metadata": {
  "kernelspec": {
   "display_name": "mlenv",
   "language": "python",
   "name": "mlenv"
  },
  "language_info": {
   "codemirror_mode": {
    "name": "ipython",
    "version": 3
   },
   "file_extension": ".py",
   "mimetype": "text/x-python",
   "name": "python",
   "nbconvert_exporter": "python",
   "pygments_lexer": "ipython3",
   "version": "3.8.13"
  },
  "vscode": {
   "interpreter": {
    "hash": "b0b87898d849d5a7e2d74c069a53aa09ad9f1d9b21997adfe24015fe0f36f48c"
   }
  }
 },
 "nbformat": 4,
 "nbformat_minor": 5
}
