{
 "cells": [
  {
   "cell_type": "markdown",
   "id": "8f97e43a",
   "metadata": {},
   "source": [
    "1. Is there something I can do now to start working on the presentation of my work. Not sure what kind of visuals/charts I can make with NLP analysis other than the word count graphs.\n",
    "2. Do you have any suggestions on how I can structure my capstone better. \n",
    "3. I also have metadata on the movie reviews but I'm not sure how to use it.\n",
    "\n",
    "count, distribution of length of reviews\n",
    "distribution of review scores\n",
    "By Genre\n",
    "product category\n",
    "\n",
    "Meta data, recommendation overlap with 'also bought column' \n",
    "\n",
    "What to do with product ids\n"
   ]
  },
  {
   "cell_type": "markdown",
   "id": "9839f88d",
   "metadata": {},
   "source": [
    "# 2 Natural Language Processing Analysis"
   ]
  },
  {
   "cell_type": "markdown",
   "id": "5eb1d276",
   "metadata": {},
   "source": [
    "- Author: Jason Truong\n",
    "- Last Modified: August 21, 2022\n",
    "- Email: Jasontruong19@gmail.com"
   ]
  },
  {
   "cell_type": "markdown",
   "id": "cb3118e6",
   "metadata": {},
   "source": [
    "# Table of Contents\n",
    "\n",
    "1. [Objective and Roadmap](#1Objective)  \n",
    "2. [Preliminary Data Setup](#2Preliminary)  \n",
    "    2.1. [Preprocessing: 'Overall'](#2_1Overall)  \n",
    "    2.2. [Preprocessing: 'reviewScore'](#2_2Review)  \n",
    "    2.3. [Preprocessing: 'Vote'](#2_3Vote)  \n",
    "    2.4. [Drop duplicates and NaNs](#2_4Drop)  \n",
    "3. [Test/Train Setup](#4Test_Train)  \n",
    "4. [NLP Analysis Setup](#3NLP)  \n",
    "5. [Advanced Models](#5AdvancedModels)  "
   ]
  },
  {
   "cell_type": "markdown",
   "id": "3996e6a2",
   "metadata": {},
   "source": [
    "# 1. Objective and Roadmap<a class ='anchor' id='1Objective'></a>"
   ]
  },
  {
   "cell_type": "markdown",
   "id": "66e2193e",
   "metadata": {},
   "source": [
    "**Goal #1:** To predict the if the review has a positive or negative sentiment to it. This prediction is related to the prediction overall review score of the product.  \n",
    "**Goal #2:** Predict if a review will have high or low votes from the community\n",
    "\n",
    "NLP Roadmap:\n",
    "1. Tokenize the review text\n",
    "2. Remove the unnecessary tokens\n",
    "3. Create a test train data split\n",
    "4. See if Stemming and Lemmatization is needed\n",
    "5. Create Models and Evaluate performance"
   ]
  },
  {
   "cell_type": "markdown",
   "id": "e02aa52c",
   "metadata": {},
   "source": [
    "# 2. Preliminary Data Setup<a class ='anchor' id='2Preliminary'></a>"
   ]
  },
  {
   "cell_type": "code",
   "execution_count": 1,
   "id": "677d06a1",
   "metadata": {},
   "outputs": [],
   "source": [
    "import json\n",
    "import pandas as pd\n",
    "import numpy as np\n",
    "import matplotlib.pyplot as plt\n",
    "\n",
    "from sklearn.linear_model import LogisticRegression\n",
    "from sklearn.feature_extraction.text import CountVectorizer\n",
    "from sklearn.model_selection import train_test_split"
   ]
  },
  {
   "cell_type": "markdown",
   "id": "48487750",
   "metadata": {},
   "source": [
    "Load in the dataset"
   ]
  },
  {
   "cell_type": "code",
   "execution_count": 2,
   "id": "b642c905",
   "metadata": {},
   "outputs": [],
   "source": [
    "review_df = pd.read_json('preprocessed_review.json')"
   ]
  },
  {
   "cell_type": "code",
   "execution_count": 3,
   "id": "043e9d79",
   "metadata": {},
   "outputs": [
    {
     "name": "stdout",
     "output_type": "stream",
     "text": [
      "<class 'pandas.core.frame.DataFrame'>\n",
      "Int64Index: 1698253 entries, 0 to 1698252\n",
      "Data columns (total 15 columns):\n",
      " #   Column              Non-Null Count    Dtype \n",
      "---  ------              --------------    ----- \n",
      " 0   reviewScore         1698253 non-null  int64 \n",
      " 1   verified            1698253 non-null  int64 \n",
      " 2   reviewerID          1698253 non-null  object\n",
      " 3   product_id          1698253 non-null  object\n",
      " 4   reviewText          1698253 non-null  object\n",
      " 5   summary             1698253 non-null  object\n",
      " 6   vote                1698253 non-null  int64 \n",
      " 7   reviewDay           1698253 non-null  int64 \n",
      " 8   reviewMonth         1698253 non-null  int64 \n",
      " 9   reviewYear          1698253 non-null  int64 \n",
      " 10  style_Amazon Video  1698253 non-null  int64 \n",
      " 11  style_Blu-ray       1698253 non-null  int64 \n",
      " 12  style_DVD           1698253 non-null  int64 \n",
      " 13  style_Other         1698253 non-null  int64 \n",
      " 14  style_VHS Tape      1698253 non-null  int64 \n",
      "dtypes: int64(11), object(4)\n",
      "memory usage: 207.3+ MB\n"
     ]
    }
   ],
   "source": [
    "review_df.info(show_counts= True)"
   ]
  },
  {
   "cell_type": "code",
   "execution_count": 4,
   "id": "4bf18b20",
   "metadata": {},
   "outputs": [
    {
     "data": {
      "text/html": [
       "<div>\n",
       "<style scoped>\n",
       "    .dataframe tbody tr th:only-of-type {\n",
       "        vertical-align: middle;\n",
       "    }\n",
       "\n",
       "    .dataframe tbody tr th {\n",
       "        vertical-align: top;\n",
       "    }\n",
       "\n",
       "    .dataframe thead th {\n",
       "        text-align: right;\n",
       "    }\n",
       "</style>\n",
       "<table border=\"1\" class=\"dataframe\">\n",
       "  <thead>\n",
       "    <tr style=\"text-align: right;\">\n",
       "      <th></th>\n",
       "      <th>reviewScore</th>\n",
       "      <th>verified</th>\n",
       "      <th>reviewerID</th>\n",
       "      <th>product_id</th>\n",
       "      <th>reviewText</th>\n",
       "      <th>summary</th>\n",
       "      <th>vote</th>\n",
       "      <th>reviewDay</th>\n",
       "      <th>reviewMonth</th>\n",
       "      <th>reviewYear</th>\n",
       "      <th>style_Amazon Video</th>\n",
       "      <th>style_Blu-ray</th>\n",
       "      <th>style_DVD</th>\n",
       "      <th>style_Other</th>\n",
       "      <th>style_VHS Tape</th>\n",
       "    </tr>\n",
       "  </thead>\n",
       "  <tbody>\n",
       "    <tr>\n",
       "      <th>0</th>\n",
       "      <td>5</td>\n",
       "      <td>1</td>\n",
       "      <td>A1HP3B92A3JDQ1</td>\n",
       "      <td>0005019281</td>\n",
       "      <td>Of course it's impossible to separate Henry Wi...</td>\n",
       "      <td>The Fonz as Scrooge</td>\n",
       "      <td>4</td>\n",
       "      <td>2</td>\n",
       "      <td>11</td>\n",
       "      <td>2002</td>\n",
       "      <td>0</td>\n",
       "      <td>0</td>\n",
       "      <td>1</td>\n",
       "      <td>0</td>\n",
       "      <td>0</td>\n",
       "    </tr>\n",
       "    <tr>\n",
       "      <th>1</th>\n",
       "      <td>5</td>\n",
       "      <td>0</td>\n",
       "      <td>AZB4CQ9JZSUQB</td>\n",
       "      <td>0005019281</td>\n",
       "      <td>When this first aired in 1979, I enjoyed it so...</td>\n",
       "      <td>A Christmas Carol to be remembered</td>\n",
       "      <td>3</td>\n",
       "      <td>28</td>\n",
       "      <td>1</td>\n",
       "      <td>2002</td>\n",
       "      <td>0</td>\n",
       "      <td>0</td>\n",
       "      <td>1</td>\n",
       "      <td>0</td>\n",
       "      <td>0</td>\n",
       "    </tr>\n",
       "    <tr>\n",
       "      <th>2</th>\n",
       "      <td>5</td>\n",
       "      <td>0</td>\n",
       "      <td>A1PXS5N63PS6WR</td>\n",
       "      <td>0005019281</td>\n",
       "      <td>I must confess to being a bit of a coinsure of...</td>\n",
       "      <td>Change can be good</td>\n",
       "      <td>2</td>\n",
       "      <td>12</td>\n",
       "      <td>12</td>\n",
       "      <td>2001</td>\n",
       "      <td>0</td>\n",
       "      <td>0</td>\n",
       "      <td>1</td>\n",
       "      <td>0</td>\n",
       "      <td>0</td>\n",
       "    </tr>\n",
       "    <tr>\n",
       "      <th>3</th>\n",
       "      <td>3</td>\n",
       "      <td>0</td>\n",
       "      <td>A17TPT3FWAE5T1</td>\n",
       "      <td>0005019281</td>\n",
       "      <td>If you already have (and love) the Alistair Si...</td>\n",
       "      <td>An interesting contrast to more traditional ve...</td>\n",
       "      <td>31</td>\n",
       "      <td>11</td>\n",
       "      <td>12</td>\n",
       "      <td>2001</td>\n",
       "      <td>0</td>\n",
       "      <td>0</td>\n",
       "      <td>0</td>\n",
       "      <td>0</td>\n",
       "      <td>1</td>\n",
       "    </tr>\n",
       "    <tr>\n",
       "      <th>4</th>\n",
       "      <td>4</td>\n",
       "      <td>0</td>\n",
       "      <td>A3P98J5DZ00A75</td>\n",
       "      <td>0005019281</td>\n",
       "      <td>Henry Winkler proves his acting ability in thi...</td>\n",
       "      <td>grey</td>\n",
       "      <td>62</td>\n",
       "      <td>19</td>\n",
       "      <td>10</td>\n",
       "      <td>2001</td>\n",
       "      <td>0</td>\n",
       "      <td>0</td>\n",
       "      <td>1</td>\n",
       "      <td>0</td>\n",
       "      <td>0</td>\n",
       "    </tr>\n",
       "  </tbody>\n",
       "</table>\n",
       "</div>"
      ],
      "text/plain": [
       "   reviewScore  verified      reviewerID  product_id  \\\n",
       "0            5         1  A1HP3B92A3JDQ1  0005019281   \n",
       "1            5         0   AZB4CQ9JZSUQB  0005019281   \n",
       "2            5         0  A1PXS5N63PS6WR  0005019281   \n",
       "3            3         0  A17TPT3FWAE5T1  0005019281   \n",
       "4            4         0  A3P98J5DZ00A75  0005019281   \n",
       "\n",
       "                                          reviewText  \\\n",
       "0  Of course it's impossible to separate Henry Wi...   \n",
       "1  When this first aired in 1979, I enjoyed it so...   \n",
       "2  I must confess to being a bit of a coinsure of...   \n",
       "3  If you already have (and love) the Alistair Si...   \n",
       "4  Henry Winkler proves his acting ability in thi...   \n",
       "\n",
       "                                             summary  vote  reviewDay  \\\n",
       "0                                The Fonz as Scrooge     4          2   \n",
       "1                 A Christmas Carol to be remembered     3         28   \n",
       "2                                 Change can be good     2         12   \n",
       "3  An interesting contrast to more traditional ve...    31         11   \n",
       "4                                               grey    62         19   \n",
       "\n",
       "   reviewMonth  reviewYear  style_Amazon Video  style_Blu-ray  style_DVD  \\\n",
       "0           11        2002                   0              0          1   \n",
       "1            1        2002                   0              0          1   \n",
       "2           12        2001                   0              0          1   \n",
       "3           12        2001                   0              0          0   \n",
       "4           10        2001                   0              0          1   \n",
       "\n",
       "   style_Other  style_VHS Tape  \n",
       "0            0               0  \n",
       "1            0               0  \n",
       "2            0               0  \n",
       "3            0               1  \n",
       "4            0               0  "
      ]
     },
     "execution_count": 4,
     "metadata": {},
     "output_type": "execute_result"
    }
   ],
   "source": [
    "review_df.head()"
   ]
  },
  {
   "cell_type": "markdown",
   "id": "3d57dc55",
   "metadata": {},
   "source": [
    "First step is to only focus on the sentiment of the review to try to predict the overall rating as well as the vote count so every other column will be dropped. A separate analysis will be done to include the summary text if time permits."
   ]
  },
  {
   "cell_type": "code",
   "execution_count": 5,
   "id": "9e153ce1",
   "metadata": {},
   "outputs": [
    {
     "data": {
      "text/html": [
       "<div>\n",
       "<style scoped>\n",
       "    .dataframe tbody tr th:only-of-type {\n",
       "        vertical-align: middle;\n",
       "    }\n",
       "\n",
       "    .dataframe tbody tr th {\n",
       "        vertical-align: top;\n",
       "    }\n",
       "\n",
       "    .dataframe thead th {\n",
       "        text-align: right;\n",
       "    }\n",
       "</style>\n",
       "<table border=\"1\" class=\"dataframe\">\n",
       "  <thead>\n",
       "    <tr style=\"text-align: right;\">\n",
       "      <th></th>\n",
       "      <th>reviewScore</th>\n",
       "      <th>vote</th>\n",
       "      <th>reviewText</th>\n",
       "      <th>reviewerID</th>\n",
       "      <th>product_id</th>\n",
       "    </tr>\n",
       "  </thead>\n",
       "  <tbody>\n",
       "    <tr>\n",
       "      <th>0</th>\n",
       "      <td>5</td>\n",
       "      <td>4</td>\n",
       "      <td>Of course it's impossible to separate Henry Wi...</td>\n",
       "      <td>A1HP3B92A3JDQ1</td>\n",
       "      <td>0005019281</td>\n",
       "    </tr>\n",
       "    <tr>\n",
       "      <th>1</th>\n",
       "      <td>5</td>\n",
       "      <td>3</td>\n",
       "      <td>When this first aired in 1979, I enjoyed it so...</td>\n",
       "      <td>AZB4CQ9JZSUQB</td>\n",
       "      <td>0005019281</td>\n",
       "    </tr>\n",
       "    <tr>\n",
       "      <th>2</th>\n",
       "      <td>5</td>\n",
       "      <td>2</td>\n",
       "      <td>I must confess to being a bit of a coinsure of...</td>\n",
       "      <td>A1PXS5N63PS6WR</td>\n",
       "      <td>0005019281</td>\n",
       "    </tr>\n",
       "    <tr>\n",
       "      <th>3</th>\n",
       "      <td>3</td>\n",
       "      <td>31</td>\n",
       "      <td>If you already have (and love) the Alistair Si...</td>\n",
       "      <td>A17TPT3FWAE5T1</td>\n",
       "      <td>0005019281</td>\n",
       "    </tr>\n",
       "    <tr>\n",
       "      <th>4</th>\n",
       "      <td>4</td>\n",
       "      <td>62</td>\n",
       "      <td>Henry Winkler proves his acting ability in thi...</td>\n",
       "      <td>A3P98J5DZ00A75</td>\n",
       "      <td>0005019281</td>\n",
       "    </tr>\n",
       "    <tr>\n",
       "      <th>...</th>\n",
       "      <td>...</td>\n",
       "      <td>...</td>\n",
       "      <td>...</td>\n",
       "      <td>...</td>\n",
       "      <td>...</td>\n",
       "    </tr>\n",
       "    <tr>\n",
       "      <th>1698248</th>\n",
       "      <td>5</td>\n",
       "      <td>0</td>\n",
       "      <td>Loved it want to see more</td>\n",
       "      <td>A1UM0LZVGQ4RYX</td>\n",
       "      <td>B0001GF2F6</td>\n",
       "    </tr>\n",
       "    <tr>\n",
       "      <th>1698249</th>\n",
       "      <td>5</td>\n",
       "      <td>0</td>\n",
       "      <td>Loved it wish it was more than two seasons.</td>\n",
       "      <td>A3MWE7P29CDR5L</td>\n",
       "      <td>B0001GF2F6</td>\n",
       "    </tr>\n",
       "    <tr>\n",
       "      <th>1698250</th>\n",
       "      <td>5</td>\n",
       "      <td>0</td>\n",
       "      <td>Such a witty show with good acting. This show ...</td>\n",
       "      <td>A3J6N3SOCENIPB</td>\n",
       "      <td>B0001GF2F6</td>\n",
       "    </tr>\n",
       "    <tr>\n",
       "      <th>1698251</th>\n",
       "      <td>4</td>\n",
       "      <td>0</td>\n",
       "      <td>It's a weird (comical) look at Grim Reapers.</td>\n",
       "      <td>A5O06SYSW6V93</td>\n",
       "      <td>B0001GF2F6</td>\n",
       "    </tr>\n",
       "    <tr>\n",
       "      <th>1698252</th>\n",
       "      <td>4</td>\n",
       "      <td>0</td>\n",
       "      <td>I don't get it. Are they all dead?</td>\n",
       "      <td>A1KF85AQR11MDY</td>\n",
       "      <td>B0001GF2F6</td>\n",
       "    </tr>\n",
       "  </tbody>\n",
       "</table>\n",
       "<p>1698253 rows × 5 columns</p>\n",
       "</div>"
      ],
      "text/plain": [
       "         reviewScore  vote                                         reviewText  \\\n",
       "0                  5     4  Of course it's impossible to separate Henry Wi...   \n",
       "1                  5     3  When this first aired in 1979, I enjoyed it so...   \n",
       "2                  5     2  I must confess to being a bit of a coinsure of...   \n",
       "3                  3    31  If you already have (and love) the Alistair Si...   \n",
       "4                  4    62  Henry Winkler proves his acting ability in thi...   \n",
       "...              ...   ...                                                ...   \n",
       "1698248            5     0                          Loved it want to see more   \n",
       "1698249            5     0        Loved it wish it was more than two seasons.   \n",
       "1698250            5     0  Such a witty show with good acting. This show ...   \n",
       "1698251            4     0       It's a weird (comical) look at Grim Reapers.   \n",
       "1698252            4     0                 I don't get it. Are they all dead?   \n",
       "\n",
       "             reviewerID  product_id  \n",
       "0        A1HP3B92A3JDQ1  0005019281  \n",
       "1         AZB4CQ9JZSUQB  0005019281  \n",
       "2        A1PXS5N63PS6WR  0005019281  \n",
       "3        A17TPT3FWAE5T1  0005019281  \n",
       "4        A3P98J5DZ00A75  0005019281  \n",
       "...                 ...         ...  \n",
       "1698248  A1UM0LZVGQ4RYX  B0001GF2F6  \n",
       "1698249  A3MWE7P29CDR5L  B0001GF2F6  \n",
       "1698250  A3J6N3SOCENIPB  B0001GF2F6  \n",
       "1698251   A5O06SYSW6V93  B0001GF2F6  \n",
       "1698252  A1KF85AQR11MDY  B0001GF2F6  \n",
       "\n",
       "[1698253 rows x 5 columns]"
      ]
     },
     "execution_count": 5,
     "metadata": {},
     "output_type": "execute_result"
    }
   ],
   "source": [
    "# Only keep the necessary columns\n",
    "review_df = review_df[['reviewScore', 'vote','reviewText','reviewerID','product_id']]\n",
    "review_df"
   ]
  },
  {
   "cell_type": "code",
   "execution_count": 6,
   "id": "33abd624",
   "metadata": {},
   "outputs": [
    {
     "data": {
      "text/plain": [
       "B00006CXSS    24436\n",
       "6305837325    16643\n",
       "B00005JLF2    10032\n",
       "7880879625     6695\n",
       "0793906091     6379\n",
       "              ...  \n",
       "B00005JM48      100\n",
       "B00000F2LK      100\n",
       "B00003CY2S      100\n",
       "6303261736      100\n",
       "B00005LIRO      100\n",
       "Name: product_id, Length: 3744, dtype: int64"
      ]
     },
     "execution_count": 6,
     "metadata": {},
     "output_type": "execute_result"
    }
   ],
   "source": [
    "review_df['product_id'].value_counts()"
   ]
  },
  {
   "cell_type": "code",
   "execution_count": 7,
   "id": "61835543",
   "metadata": {},
   "outputs": [
    {
     "name": "stdout",
     "output_type": "stream",
     "text": [
      "<class 'pandas.core.frame.DataFrame'>\n",
      "Int64Index: 1698253 entries, 0 to 1698252\n",
      "Data columns (total 5 columns):\n",
      " #   Column       Dtype \n",
      "---  ------       ----- \n",
      " 0   reviewScore  int64 \n",
      " 1   vote         int64 \n",
      " 2   reviewText   object\n",
      " 3   reviewerID   object\n",
      " 4   product_id   object\n",
      "dtypes: int64(2), object(3)\n",
      "memory usage: 77.7+ MB\n"
     ]
    }
   ],
   "source": [
    "review_df.info()"
   ]
  },
  {
   "cell_type": "markdown",
   "id": "6ce3ee2e",
   "metadata": {},
   "source": [
    "## 2.2 Check the datatype in the column `reviewScore` <a class ='anchor' id='2_2Review'></a>"
   ]
  },
  {
   "cell_type": "markdown",
   "id": "88f63844",
   "metadata": {},
   "source": [
    "Split the reviewScore column to 'Good (value of 1)'  for reviews that are 4 or 5 and 'Bad (value of 0)' for reviews that are 1,2 or 3."
   ]
  },
  {
   "cell_type": "code",
   "execution_count": 8,
   "id": "b3cb7637",
   "metadata": {},
   "outputs": [],
   "source": [
    "review_df['review_class'] = np.where(review_df['reviewScore']>=4,1,0)"
   ]
  },
  {
   "cell_type": "code",
   "execution_count": 9,
   "id": "d4dd02c6",
   "metadata": {},
   "outputs": [
    {
     "data": {
      "text/html": [
       "<div>\n",
       "<style scoped>\n",
       "    .dataframe tbody tr th:only-of-type {\n",
       "        vertical-align: middle;\n",
       "    }\n",
       "\n",
       "    .dataframe tbody tr th {\n",
       "        vertical-align: top;\n",
       "    }\n",
       "\n",
       "    .dataframe thead th {\n",
       "        text-align: right;\n",
       "    }\n",
       "</style>\n",
       "<table border=\"1\" class=\"dataframe\">\n",
       "  <thead>\n",
       "    <tr style=\"text-align: right;\">\n",
       "      <th></th>\n",
       "      <th>reviewScore</th>\n",
       "      <th>vote</th>\n",
       "      <th>reviewText</th>\n",
       "      <th>reviewerID</th>\n",
       "      <th>product_id</th>\n",
       "      <th>review_class</th>\n",
       "    </tr>\n",
       "  </thead>\n",
       "  <tbody>\n",
       "    <tr>\n",
       "      <th>0</th>\n",
       "      <td>5</td>\n",
       "      <td>4</td>\n",
       "      <td>Of course it's impossible to separate Henry Wi...</td>\n",
       "      <td>A1HP3B92A3JDQ1</td>\n",
       "      <td>0005019281</td>\n",
       "      <td>1</td>\n",
       "    </tr>\n",
       "    <tr>\n",
       "      <th>1</th>\n",
       "      <td>5</td>\n",
       "      <td>3</td>\n",
       "      <td>When this first aired in 1979, I enjoyed it so...</td>\n",
       "      <td>AZB4CQ9JZSUQB</td>\n",
       "      <td>0005019281</td>\n",
       "      <td>1</td>\n",
       "    </tr>\n",
       "    <tr>\n",
       "      <th>2</th>\n",
       "      <td>5</td>\n",
       "      <td>2</td>\n",
       "      <td>I must confess to being a bit of a coinsure of...</td>\n",
       "      <td>A1PXS5N63PS6WR</td>\n",
       "      <td>0005019281</td>\n",
       "      <td>1</td>\n",
       "    </tr>\n",
       "    <tr>\n",
       "      <th>3</th>\n",
       "      <td>3</td>\n",
       "      <td>31</td>\n",
       "      <td>If you already have (and love) the Alistair Si...</td>\n",
       "      <td>A17TPT3FWAE5T1</td>\n",
       "      <td>0005019281</td>\n",
       "      <td>0</td>\n",
       "    </tr>\n",
       "    <tr>\n",
       "      <th>4</th>\n",
       "      <td>4</td>\n",
       "      <td>62</td>\n",
       "      <td>Henry Winkler proves his acting ability in thi...</td>\n",
       "      <td>A3P98J5DZ00A75</td>\n",
       "      <td>0005019281</td>\n",
       "      <td>1</td>\n",
       "    </tr>\n",
       "  </tbody>\n",
       "</table>\n",
       "</div>"
      ],
      "text/plain": [
       "   reviewScore  vote                                         reviewText  \\\n",
       "0            5     4  Of course it's impossible to separate Henry Wi...   \n",
       "1            5     3  When this first aired in 1979, I enjoyed it so...   \n",
       "2            5     2  I must confess to being a bit of a coinsure of...   \n",
       "3            3    31  If you already have (and love) the Alistair Si...   \n",
       "4            4    62  Henry Winkler proves his acting ability in thi...   \n",
       "\n",
       "       reviewerID  product_id  review_class  \n",
       "0  A1HP3B92A3JDQ1  0005019281             1  \n",
       "1   AZB4CQ9JZSUQB  0005019281             1  \n",
       "2  A1PXS5N63PS6WR  0005019281             1  \n",
       "3  A17TPT3FWAE5T1  0005019281             0  \n",
       "4  A3P98J5DZ00A75  0005019281             1  "
      ]
     },
     "execution_count": 9,
     "metadata": {},
     "output_type": "execute_result"
    }
   ],
   "source": [
    "review_df.head()"
   ]
  },
  {
   "cell_type": "markdown",
   "id": "4eb93488",
   "metadata": {},
   "source": [
    "This new `review_class` column will be used for the logistic regression with the sentiment from the `reviewText`"
   ]
  },
  {
   "cell_type": "markdown",
   "id": "835de70e",
   "metadata": {},
   "source": [
    "# 3. Set up Train/Validation/Test split <a class ='anchor' id='4Test_Train'></a>"
   ]
  },
  {
   "cell_type": "markdown",
   "id": "86e87585",
   "metadata": {},
   "source": [
    "Since the dataset is 2,000,000 rows, a smaller amount will be sampled for NLP analysis "
   ]
  },
  {
   "cell_type": "code",
   "execution_count": 10,
   "id": "0f3cdc79",
   "metadata": {},
   "outputs": [
    {
     "data": {
      "text/plain": [
       "(1698253, 6)"
      ]
     },
     "execution_count": 10,
     "metadata": {},
     "output_type": "execute_result"
    }
   ],
   "source": [
    "review_df.shape"
   ]
  },
  {
   "cell_type": "code",
   "execution_count": 11,
   "id": "a01252a3",
   "metadata": {},
   "outputs": [
    {
     "data": {
      "text/html": [
       "<div>\n",
       "<style scoped>\n",
       "    .dataframe tbody tr th:only-of-type {\n",
       "        vertical-align: middle;\n",
       "    }\n",
       "\n",
       "    .dataframe tbody tr th {\n",
       "        vertical-align: top;\n",
       "    }\n",
       "\n",
       "    .dataframe thead th {\n",
       "        text-align: right;\n",
       "    }\n",
       "</style>\n",
       "<table border=\"1\" class=\"dataframe\">\n",
       "  <thead>\n",
       "    <tr style=\"text-align: right;\">\n",
       "      <th></th>\n",
       "      <th>reviewScore</th>\n",
       "      <th>vote</th>\n",
       "      <th>reviewText</th>\n",
       "      <th>reviewerID</th>\n",
       "      <th>product_id</th>\n",
       "      <th>review_class</th>\n",
       "    </tr>\n",
       "  </thead>\n",
       "  <tbody>\n",
       "    <tr>\n",
       "      <th>1184644</th>\n",
       "      <td>3</td>\n",
       "      <td>0</td>\n",
       "      <td>OK. I must admit reviewing this season after s...</td>\n",
       "      <td>AT0QZB3IQOJTT</td>\n",
       "      <td>B00004YWJE</td>\n",
       "      <td>0</td>\n",
       "    </tr>\n",
       "    <tr>\n",
       "      <th>1459995</th>\n",
       "      <td>5</td>\n",
       "      <td>0</td>\n",
       "      <td>Good episode from a great show.</td>\n",
       "      <td>AXVZ50UQQ3T95</td>\n",
       "      <td>B000063V8T</td>\n",
       "      <td>1</td>\n",
       "    </tr>\n",
       "    <tr>\n",
       "      <th>606930</th>\n",
       "      <td>4</td>\n",
       "      <td>0</td>\n",
       "      <td>Pleasantly surprised. Original twists.looking ...</td>\n",
       "      <td>A1VFDKFTSCZK76</td>\n",
       "      <td>630356027X</td>\n",
       "      <td>1</td>\n",
       "    </tr>\n",
       "    <tr>\n",
       "      <th>902333</th>\n",
       "      <td>4</td>\n",
       "      <td>0</td>\n",
       "      <td>This is another one of those movies where Anth...</td>\n",
       "      <td>A1IM576RP8M56J</td>\n",
       "      <td>6305608253</td>\n",
       "      <td>1</td>\n",
       "    </tr>\n",
       "    <tr>\n",
       "      <th>1130507</th>\n",
       "      <td>4</td>\n",
       "      <td>0</td>\n",
       "      <td>Follow the story of Shrek, an dissapointed Org...</td>\n",
       "      <td>A6TP956TIRS7Y</td>\n",
       "      <td>B00003CXXI</td>\n",
       "      <td>1</td>\n",
       "    </tr>\n",
       "    <tr>\n",
       "      <th>...</th>\n",
       "      <td>...</td>\n",
       "      <td>...</td>\n",
       "      <td>...</td>\n",
       "      <td>...</td>\n",
       "      <td>...</td>\n",
       "      <td>...</td>\n",
       "    </tr>\n",
       "    <tr>\n",
       "      <th>259446</th>\n",
       "      <td>5</td>\n",
       "      <td>0</td>\n",
       "      <td>Favorite Christmas Movie Ever!</td>\n",
       "      <td>AT9132IM84SKP</td>\n",
       "      <td>6300215695</td>\n",
       "      <td>1</td>\n",
       "    </tr>\n",
       "    <tr>\n",
       "      <th>445112</th>\n",
       "      <td>5</td>\n",
       "      <td>0</td>\n",
       "      <td>Classic!</td>\n",
       "      <td>AYFTU1HGUR054</td>\n",
       "      <td>6302623294</td>\n",
       "      <td>1</td>\n",
       "    </tr>\n",
       "    <tr>\n",
       "      <th>150606</th>\n",
       "      <td>5</td>\n",
       "      <td>0</td>\n",
       "      <td>One of my favorite movies from this time perio...</td>\n",
       "      <td>A3J93TSVQDUJM2</td>\n",
       "      <td>0792844645</td>\n",
       "      <td>1</td>\n",
       "    </tr>\n",
       "    <tr>\n",
       "      <th>1152131</th>\n",
       "      <td>5</td>\n",
       "      <td>0</td>\n",
       "      <td>i bought this blu ray because i love this film...</td>\n",
       "      <td>A2FOZ2CIPV4Q95</td>\n",
       "      <td>B00003OSTA</td>\n",
       "      <td>1</td>\n",
       "    </tr>\n",
       "    <tr>\n",
       "      <th>371842</th>\n",
       "      <td>4</td>\n",
       "      <td>0</td>\n",
       "      <td>Classic Bond, I have watched it long enough ag...</td>\n",
       "      <td>A32GEXU3B3PONK</td>\n",
       "      <td>630202028X</td>\n",
       "      <td>1</td>\n",
       "    </tr>\n",
       "  </tbody>\n",
       "</table>\n",
       "<p>84913 rows × 6 columns</p>\n",
       "</div>"
      ],
      "text/plain": [
       "         reviewScore  vote                                         reviewText  \\\n",
       "1184644            3     0  OK. I must admit reviewing this season after s...   \n",
       "1459995            5     0                    Good episode from a great show.   \n",
       "606930             4     0  Pleasantly surprised. Original twists.looking ...   \n",
       "902333             4     0  This is another one of those movies where Anth...   \n",
       "1130507            4     0  Follow the story of Shrek, an dissapointed Org...   \n",
       "...              ...   ...                                                ...   \n",
       "259446             5     0                     Favorite Christmas Movie Ever!   \n",
       "445112             5     0                                           Classic!   \n",
       "150606             5     0  One of my favorite movies from this time perio...   \n",
       "1152131            5     0  i bought this blu ray because i love this film...   \n",
       "371842             4     0  Classic Bond, I have watched it long enough ag...   \n",
       "\n",
       "             reviewerID  product_id  review_class  \n",
       "1184644   AT0QZB3IQOJTT  B00004YWJE             0  \n",
       "1459995   AXVZ50UQQ3T95  B000063V8T             1  \n",
       "606930   A1VFDKFTSCZK76  630356027X             1  \n",
       "902333   A1IM576RP8M56J  6305608253             1  \n",
       "1130507   A6TP956TIRS7Y  B00003CXXI             1  \n",
       "...                 ...         ...           ...  \n",
       "259446    AT9132IM84SKP  6300215695             1  \n",
       "445112    AYFTU1HGUR054  6302623294             1  \n",
       "150606   A3J93TSVQDUJM2  0792844645             1  \n",
       "1152131  A2FOZ2CIPV4Q95  B00003OSTA             1  \n",
       "371842   A32GEXU3B3PONK  630202028X             1  \n",
       "\n",
       "[84913 rows x 6 columns]"
      ]
     },
     "execution_count": 11,
     "metadata": {},
     "output_type": "execute_result"
    }
   ],
   "source": [
    "subsample = review_df.sample(frac = 0.05)\n",
    "\n",
    "# Check results\n",
    "subsample"
   ]
  },
  {
   "cell_type": "code",
   "execution_count": 12,
   "id": "1927a881",
   "metadata": {},
   "outputs": [],
   "source": [
    "#Set up data for training, validation and testing\n",
    "X = subsample.drop(columns = ['review_class', 'reviewScore'])\n",
    "y = subsample['review_class']\n",
    "\n",
    "# Stratify ensures that both the train and test set includes all the classes in the data\n",
    "X_train, X_test, y_train, y_test = train_test_split(X,y, test_size = 0.25, stratify = y)\n"
   ]
  },
  {
   "cell_type": "markdown",
   "id": "8b29d22c",
   "metadata": {},
   "source": [
    "Check the split of the data for the train and test set"
   ]
  },
  {
   "cell_type": "markdown",
   "id": "7c9b0e10",
   "metadata": {},
   "source": [
    "The training data contains 82.1% of positive reviews which means that the data is highly skewed towards positive reviews. There is a 82.1% chance of predicting the review sentiment correctly if every prediction made was positive."
   ]
  },
  {
   "cell_type": "code",
   "execution_count": 13,
   "id": "ae6cb361",
   "metadata": {
    "scrolled": false
   },
   "outputs": [
    {
     "data": {
      "text/plain": [
       "1    0.832964\n",
       "0    0.167036\n",
       "Name: review_class, dtype: float64"
      ]
     },
     "execution_count": 13,
     "metadata": {},
     "output_type": "execute_result"
    }
   ],
   "source": [
    "y_test.value_counts()/y_test.shape[0]"
   ]
  },
  {
   "cell_type": "markdown",
   "id": "4e93b453",
   "metadata": {},
   "source": [
    "The testing data contains 82.1% of positive reviews which means that the data is highly skewed towards positive reviews. There is a 82.1% chance of predicting the review sentiment correctly if every prediction made was positive."
   ]
  },
  {
   "cell_type": "markdown",
   "id": "1a72d0b6",
   "metadata": {},
   "source": [
    "# 4. Set up NLP analysis <a class ='anchor' id='3NLP'></a>"
   ]
  },
  {
   "cell_type": "code",
   "execution_count": 14,
   "id": "c8c65469",
   "metadata": {},
   "outputs": [
    {
     "data": {
      "text/plain": [
       "(63684, 4)"
      ]
     },
     "execution_count": 14,
     "metadata": {},
     "output_type": "execute_result"
    }
   ],
   "source": [
    "X_train.shape"
   ]
  },
  {
   "cell_type": "markdown",
   "id": "e38b01f9",
   "metadata": {},
   "source": [
    "## Convert the text in the reviewText column to vectors"
   ]
  },
  {
   "cell_type": "code",
   "execution_count": 15,
   "id": "214935b9",
   "metadata": {},
   "outputs": [
    {
     "data": {
      "text/plain": [
       "<63684x7709 sparse matrix of type '<class 'numpy.float64'>'\n",
       "\twith 1481418 stored elements in Compressed Sparse Row format>"
      ]
     },
     "execution_count": 15,
     "metadata": {},
     "output_type": "execute_result"
    }
   ],
   "source": [
    "from sklearn.feature_extraction.text import TfidfVectorizer\n",
    "\n",
    "# Instantiate \n",
    "# Discard stop words and words need to be in atleast 10 reviews\n",
    "review_wordbank = TfidfVectorizer(stop_words = \"english\", min_df = 25)\n",
    "\n",
    "# Fit the first 200000 reviews\n",
    "review_wordbank.fit(X_train['reviewText'])\n",
    "\n",
    "# 3. Transform\n",
    "X_train_transformed = review_wordbank.transform(X_train['reviewText'])\n",
    "X_test_transformed = review_wordbank.transform(X_test['reviewText'])\n",
    "X_train_transformed"
   ]
  },
  {
   "cell_type": "markdown",
   "id": "0b4f15a7",
   "metadata": {},
   "source": [
    "After preliminary vectorization with countvectorizer(), 66915 rows of reviews returned 15623 unique terms or tokens."
   ]
  },
  {
   "cell_type": "code",
   "execution_count": 16,
   "id": "4e54dacc",
   "metadata": {
    "scrolled": true
   },
   "outputs": [
    {
     "data": {
      "text/plain": [
       "array([17.76703765, 14.54821421, 13.65680975, ..., 18.17294673,\n",
       "        3.94791716,  9.89772115])"
      ]
     },
     "execution_count": 16,
     "metadata": {},
     "output_type": "execute_result"
    }
   ],
   "source": [
    "X_train_transformed.toarray().sum(axis=0)"
   ]
  },
  {
   "cell_type": "code",
   "execution_count": 17,
   "id": "e7ed13f0",
   "metadata": {},
   "outputs": [
    {
     "data": {
      "text/html": [
       "<div>\n",
       "<style scoped>\n",
       "    .dataframe tbody tr th:only-of-type {\n",
       "        vertical-align: middle;\n",
       "    }\n",
       "\n",
       "    .dataframe tbody tr th {\n",
       "        vertical-align: top;\n",
       "    }\n",
       "\n",
       "    .dataframe thead th {\n",
       "        text-align: right;\n",
       "    }\n",
       "</style>\n",
       "<table border=\"1\" class=\"dataframe\">\n",
       "  <thead>\n",
       "    <tr style=\"text-align: right;\">\n",
       "      <th></th>\n",
       "      <th>00</th>\n",
       "      <th>000</th>\n",
       "      <th>007</th>\n",
       "      <th>10</th>\n",
       "      <th>100</th>\n",
       "      <th>1000</th>\n",
       "      <th>1080p</th>\n",
       "      <th>10th</th>\n",
       "      <th>11</th>\n",
       "      <th>12</th>\n",
       "      <th>...</th>\n",
       "      <th>zealand</th>\n",
       "      <th>zellweger</th>\n",
       "      <th>zeppelin</th>\n",
       "      <th>zero</th>\n",
       "      <th>zeta</th>\n",
       "      <th>zombie</th>\n",
       "      <th>zombies</th>\n",
       "      <th>zone</th>\n",
       "      <th>zoom</th>\n",
       "      <th>zulu</th>\n",
       "    </tr>\n",
       "  </thead>\n",
       "  <tbody>\n",
       "    <tr>\n",
       "      <th>0</th>\n",
       "      <td>0.0</td>\n",
       "      <td>0.0</td>\n",
       "      <td>0.0</td>\n",
       "      <td>0.0</td>\n",
       "      <td>0.0</td>\n",
       "      <td>0.0</td>\n",
       "      <td>0.0</td>\n",
       "      <td>0.0</td>\n",
       "      <td>0.0</td>\n",
       "      <td>0.0</td>\n",
       "      <td>...</td>\n",
       "      <td>0.0</td>\n",
       "      <td>0.0</td>\n",
       "      <td>0.0</td>\n",
       "      <td>0.0</td>\n",
       "      <td>0.0</td>\n",
       "      <td>0.0</td>\n",
       "      <td>0.0</td>\n",
       "      <td>0.0</td>\n",
       "      <td>0.0</td>\n",
       "      <td>0.0</td>\n",
       "    </tr>\n",
       "    <tr>\n",
       "      <th>1</th>\n",
       "      <td>0.0</td>\n",
       "      <td>0.0</td>\n",
       "      <td>0.0</td>\n",
       "      <td>0.0</td>\n",
       "      <td>0.0</td>\n",
       "      <td>0.0</td>\n",
       "      <td>0.0</td>\n",
       "      <td>0.0</td>\n",
       "      <td>0.0</td>\n",
       "      <td>0.0</td>\n",
       "      <td>...</td>\n",
       "      <td>0.0</td>\n",
       "      <td>0.0</td>\n",
       "      <td>0.0</td>\n",
       "      <td>0.0</td>\n",
       "      <td>0.0</td>\n",
       "      <td>0.0</td>\n",
       "      <td>0.0</td>\n",
       "      <td>0.0</td>\n",
       "      <td>0.0</td>\n",
       "      <td>0.0</td>\n",
       "    </tr>\n",
       "    <tr>\n",
       "      <th>2</th>\n",
       "      <td>0.0</td>\n",
       "      <td>0.0</td>\n",
       "      <td>0.0</td>\n",
       "      <td>0.0</td>\n",
       "      <td>0.0</td>\n",
       "      <td>0.0</td>\n",
       "      <td>0.0</td>\n",
       "      <td>0.0</td>\n",
       "      <td>0.0</td>\n",
       "      <td>0.0</td>\n",
       "      <td>...</td>\n",
       "      <td>0.0</td>\n",
       "      <td>0.0</td>\n",
       "      <td>0.0</td>\n",
       "      <td>0.0</td>\n",
       "      <td>0.0</td>\n",
       "      <td>0.0</td>\n",
       "      <td>0.0</td>\n",
       "      <td>0.0</td>\n",
       "      <td>0.0</td>\n",
       "      <td>0.0</td>\n",
       "    </tr>\n",
       "    <tr>\n",
       "      <th>3</th>\n",
       "      <td>0.0</td>\n",
       "      <td>0.0</td>\n",
       "      <td>0.0</td>\n",
       "      <td>0.0</td>\n",
       "      <td>0.0</td>\n",
       "      <td>0.0</td>\n",
       "      <td>0.0</td>\n",
       "      <td>0.0</td>\n",
       "      <td>0.0</td>\n",
       "      <td>0.0</td>\n",
       "      <td>...</td>\n",
       "      <td>0.0</td>\n",
       "      <td>0.0</td>\n",
       "      <td>0.0</td>\n",
       "      <td>0.0</td>\n",
       "      <td>0.0</td>\n",
       "      <td>0.0</td>\n",
       "      <td>0.0</td>\n",
       "      <td>0.0</td>\n",
       "      <td>0.0</td>\n",
       "      <td>0.0</td>\n",
       "    </tr>\n",
       "    <tr>\n",
       "      <th>4</th>\n",
       "      <td>0.0</td>\n",
       "      <td>0.0</td>\n",
       "      <td>0.0</td>\n",
       "      <td>0.0</td>\n",
       "      <td>0.0</td>\n",
       "      <td>0.0</td>\n",
       "      <td>0.0</td>\n",
       "      <td>0.0</td>\n",
       "      <td>0.0</td>\n",
       "      <td>0.0</td>\n",
       "      <td>...</td>\n",
       "      <td>0.0</td>\n",
       "      <td>0.0</td>\n",
       "      <td>0.0</td>\n",
       "      <td>0.0</td>\n",
       "      <td>0.0</td>\n",
       "      <td>0.0</td>\n",
       "      <td>0.0</td>\n",
       "      <td>0.0</td>\n",
       "      <td>0.0</td>\n",
       "      <td>0.0</td>\n",
       "    </tr>\n",
       "    <tr>\n",
       "      <th>...</th>\n",
       "      <td>...</td>\n",
       "      <td>...</td>\n",
       "      <td>...</td>\n",
       "      <td>...</td>\n",
       "      <td>...</td>\n",
       "      <td>...</td>\n",
       "      <td>...</td>\n",
       "      <td>...</td>\n",
       "      <td>...</td>\n",
       "      <td>...</td>\n",
       "      <td>...</td>\n",
       "      <td>...</td>\n",
       "      <td>...</td>\n",
       "      <td>...</td>\n",
       "      <td>...</td>\n",
       "      <td>...</td>\n",
       "      <td>...</td>\n",
       "      <td>...</td>\n",
       "      <td>...</td>\n",
       "      <td>...</td>\n",
       "      <td>...</td>\n",
       "    </tr>\n",
       "    <tr>\n",
       "      <th>63679</th>\n",
       "      <td>0.0</td>\n",
       "      <td>0.0</td>\n",
       "      <td>0.0</td>\n",
       "      <td>0.0</td>\n",
       "      <td>0.0</td>\n",
       "      <td>0.0</td>\n",
       "      <td>0.0</td>\n",
       "      <td>0.0</td>\n",
       "      <td>0.0</td>\n",
       "      <td>0.0</td>\n",
       "      <td>...</td>\n",
       "      <td>0.0</td>\n",
       "      <td>0.0</td>\n",
       "      <td>0.0</td>\n",
       "      <td>0.0</td>\n",
       "      <td>0.0</td>\n",
       "      <td>0.0</td>\n",
       "      <td>0.0</td>\n",
       "      <td>0.0</td>\n",
       "      <td>0.0</td>\n",
       "      <td>0.0</td>\n",
       "    </tr>\n",
       "    <tr>\n",
       "      <th>63680</th>\n",
       "      <td>0.0</td>\n",
       "      <td>0.0</td>\n",
       "      <td>0.0</td>\n",
       "      <td>0.0</td>\n",
       "      <td>0.0</td>\n",
       "      <td>0.0</td>\n",
       "      <td>0.0</td>\n",
       "      <td>0.0</td>\n",
       "      <td>0.0</td>\n",
       "      <td>0.0</td>\n",
       "      <td>...</td>\n",
       "      <td>0.0</td>\n",
       "      <td>0.0</td>\n",
       "      <td>0.0</td>\n",
       "      <td>0.0</td>\n",
       "      <td>0.0</td>\n",
       "      <td>0.0</td>\n",
       "      <td>0.0</td>\n",
       "      <td>0.0</td>\n",
       "      <td>0.0</td>\n",
       "      <td>0.0</td>\n",
       "    </tr>\n",
       "    <tr>\n",
       "      <th>63681</th>\n",
       "      <td>0.0</td>\n",
       "      <td>0.0</td>\n",
       "      <td>0.0</td>\n",
       "      <td>0.0</td>\n",
       "      <td>0.0</td>\n",
       "      <td>0.0</td>\n",
       "      <td>0.0</td>\n",
       "      <td>0.0</td>\n",
       "      <td>0.0</td>\n",
       "      <td>0.0</td>\n",
       "      <td>...</td>\n",
       "      <td>0.0</td>\n",
       "      <td>0.0</td>\n",
       "      <td>0.0</td>\n",
       "      <td>0.0</td>\n",
       "      <td>0.0</td>\n",
       "      <td>0.0</td>\n",
       "      <td>0.0</td>\n",
       "      <td>0.0</td>\n",
       "      <td>0.0</td>\n",
       "      <td>0.0</td>\n",
       "    </tr>\n",
       "    <tr>\n",
       "      <th>63682</th>\n",
       "      <td>0.0</td>\n",
       "      <td>0.0</td>\n",
       "      <td>0.0</td>\n",
       "      <td>0.0</td>\n",
       "      <td>0.0</td>\n",
       "      <td>0.0</td>\n",
       "      <td>0.0</td>\n",
       "      <td>0.0</td>\n",
       "      <td>0.0</td>\n",
       "      <td>0.0</td>\n",
       "      <td>...</td>\n",
       "      <td>0.0</td>\n",
       "      <td>0.0</td>\n",
       "      <td>0.0</td>\n",
       "      <td>0.0</td>\n",
       "      <td>0.0</td>\n",
       "      <td>0.0</td>\n",
       "      <td>0.0</td>\n",
       "      <td>0.0</td>\n",
       "      <td>0.0</td>\n",
       "      <td>0.0</td>\n",
       "    </tr>\n",
       "    <tr>\n",
       "      <th>63683</th>\n",
       "      <td>0.0</td>\n",
       "      <td>0.0</td>\n",
       "      <td>0.0</td>\n",
       "      <td>0.0</td>\n",
       "      <td>0.0</td>\n",
       "      <td>0.0</td>\n",
       "      <td>0.0</td>\n",
       "      <td>0.0</td>\n",
       "      <td>0.0</td>\n",
       "      <td>0.0</td>\n",
       "      <td>...</td>\n",
       "      <td>0.0</td>\n",
       "      <td>0.0</td>\n",
       "      <td>0.0</td>\n",
       "      <td>0.0</td>\n",
       "      <td>0.0</td>\n",
       "      <td>0.0</td>\n",
       "      <td>0.0</td>\n",
       "      <td>0.0</td>\n",
       "      <td>0.0</td>\n",
       "      <td>0.0</td>\n",
       "    </tr>\n",
       "  </tbody>\n",
       "</table>\n",
       "<p>63684 rows × 7709 columns</p>\n",
       "</div>"
      ],
      "text/plain": [
       "        00  000  007   10  100  1000  1080p  10th   11   12  ...  zealand  \\\n",
       "0      0.0  0.0  0.0  0.0  0.0   0.0    0.0   0.0  0.0  0.0  ...      0.0   \n",
       "1      0.0  0.0  0.0  0.0  0.0   0.0    0.0   0.0  0.0  0.0  ...      0.0   \n",
       "2      0.0  0.0  0.0  0.0  0.0   0.0    0.0   0.0  0.0  0.0  ...      0.0   \n",
       "3      0.0  0.0  0.0  0.0  0.0   0.0    0.0   0.0  0.0  0.0  ...      0.0   \n",
       "4      0.0  0.0  0.0  0.0  0.0   0.0    0.0   0.0  0.0  0.0  ...      0.0   \n",
       "...    ...  ...  ...  ...  ...   ...    ...   ...  ...  ...  ...      ...   \n",
       "63679  0.0  0.0  0.0  0.0  0.0   0.0    0.0   0.0  0.0  0.0  ...      0.0   \n",
       "63680  0.0  0.0  0.0  0.0  0.0   0.0    0.0   0.0  0.0  0.0  ...      0.0   \n",
       "63681  0.0  0.0  0.0  0.0  0.0   0.0    0.0   0.0  0.0  0.0  ...      0.0   \n",
       "63682  0.0  0.0  0.0  0.0  0.0   0.0    0.0   0.0  0.0  0.0  ...      0.0   \n",
       "63683  0.0  0.0  0.0  0.0  0.0   0.0    0.0   0.0  0.0  0.0  ...      0.0   \n",
       "\n",
       "       zellweger  zeppelin  zero  zeta  zombie  zombies  zone  zoom  zulu  \n",
       "0            0.0       0.0   0.0   0.0     0.0      0.0   0.0   0.0   0.0  \n",
       "1            0.0       0.0   0.0   0.0     0.0      0.0   0.0   0.0   0.0  \n",
       "2            0.0       0.0   0.0   0.0     0.0      0.0   0.0   0.0   0.0  \n",
       "3            0.0       0.0   0.0   0.0     0.0      0.0   0.0   0.0   0.0  \n",
       "4            0.0       0.0   0.0   0.0     0.0      0.0   0.0   0.0   0.0  \n",
       "...          ...       ...   ...   ...     ...      ...   ...   ...   ...  \n",
       "63679        0.0       0.0   0.0   0.0     0.0      0.0   0.0   0.0   0.0  \n",
       "63680        0.0       0.0   0.0   0.0     0.0      0.0   0.0   0.0   0.0  \n",
       "63681        0.0       0.0   0.0   0.0     0.0      0.0   0.0   0.0   0.0  \n",
       "63682        0.0       0.0   0.0   0.0     0.0      0.0   0.0   0.0   0.0  \n",
       "63683        0.0       0.0   0.0   0.0     0.0      0.0   0.0   0.0   0.0  \n",
       "\n",
       "[63684 rows x 7709 columns]"
      ]
     },
     "metadata": {},
     "output_type": "display_data"
    }
   ],
   "source": [
    "prelim_df = pd.DataFrame(columns = review_wordbank.get_feature_names(),data = X_train_transformed.toarray())\n",
    "display(prelim_df)"
   ]
  },
  {
   "cell_type": "code",
   "execution_count": 18,
   "id": "5a730d77",
   "metadata": {
    "scrolled": true
   },
   "outputs": [
    {
     "data": {
      "image/png": "[encoded data removed]",
      "text/plain": [
       "<Figure size 1500x500 with 1 Axes>"
      ]
     },
     "metadata": {},
     "output_type": "display_data"
    }
   ],
   "source": [
    "word_counts = pd.DataFrame({\"counts\":X_train_transformed.toarray().sum(axis=0)},\n",
    "                          index = review_wordbank.get_feature_names()\n",
    "                          ).sort_values(\"counts\",ascending= False)\n",
    "\n",
    "word_counts.head(20).plot(kind=\"bar\",figsize=(15,5), legend = False)\n",
    "\n",
    "plt.show()"
   ]
  },
  {
   "cell_type": "code",
   "execution_count": 19,
   "id": "4e9c2429",
   "metadata": {},
   "outputs": [],
   "source": [
    "X_train_transformed = X_train_transformed.toarray()\n",
    "X_test_transformed = X_test_transformed.toarray()"
   ]
  },
  {
   "cell_type": "code",
   "execution_count": 20,
   "id": "ce2b029e",
   "metadata": {},
   "outputs": [
    {
     "data": {
      "text/plain": [
       "B00006CXSS    945\n",
       "6305837325    598\n",
       "B00005JLF2    362\n",
       "7880879625    277\n",
       "0793906091    220\n",
       "             ... \n",
       "B0000CGNEF      1\n",
       "B00005TPC7      1\n",
       "B000069BJH      1\n",
       "1891252135      1\n",
       "B00005ASOO      1\n",
       "Name: product_id, Length: 3734, dtype: int64"
      ]
     },
     "execution_count": 20,
     "metadata": {},
     "output_type": "execute_result"
    }
   ],
   "source": [
    "X_train['product_id'].value_counts()"
   ]
  },
  {
   "cell_type": "markdown",
   "id": "1b3673bf",
   "metadata": {},
   "source": [
    "# 5. Advanced Models <a class ='anchor' id='5AdvancedModels'></a>"
   ]
  },
  {
   "cell_type": "markdown",
   "id": "ccb35e1e",
   "metadata": {},
   "source": [
    "**REMEMBER TO SCALE THE DATA**"
   ]
  },
  {
   "cell_type": "code",
   "execution_count": 21,
   "id": "e165ab67",
   "metadata": {},
   "outputs": [],
   "source": [
    "from sklearn.preprocessing import StandardScaler\n",
    "\n",
    "# Instantiate\n",
    "standscaler = StandardScaler()\n",
    "standscaler.fit(X_train_transformed)\n",
    "\n",
    "X_train_scaled = standscaler.transform(X_train_transformed)"
   ]
  },
  {
   "cell_type": "code",
   "execution_count": 22,
   "id": "1b668ae4",
   "metadata": {},
   "outputs": [],
   "source": [
    "X_test_scaled = standscaler.transform(X_test_transformed)"
   ]
  },
  {
   "cell_type": "markdown",
   "id": "a954fee6",
   "metadata": {},
   "source": [
    "## Logistic Regression"
   ]
  },
  {
   "cell_type": "code",
   "execution_count": 23,
   "id": "9732e105",
   "metadata": {},
   "outputs": [
    {
     "name": "stderr",
     "output_type": "stream",
     "text": [
      "C:\\Users\\jason\\anaconda3\\envs\\mlenv\\lib\\site-packages\\sklearn\\linear_model\\_logistic.py:763: ConvergenceWarning: lbfgs failed to converge (status=1):\n",
      "STOP: TOTAL NO. of ITERATIONS REACHED LIMIT.\n",
      "\n",
      "Increase the number of iterations (max_iter) or scale the data as shown in:\n",
      "    https://scikit-learn.org/stable/modules/preprocessing.html\n",
      "Please also refer to the documentation for alternative solver options:\n",
      "    https://scikit-learn.org/stable/modules/linear_model.html#logistic-regression\n",
      "  n_iter_i = _check_optimize_result(\n"
     ]
    },
    {
     "name": "stdout",
     "output_type": "stream",
     "text": [
      "Train score: 0.938367564851454\n",
      "Test score: 0.86617363041123\n"
     ]
    }
   ],
   "source": [
    "# Instantiate\n",
    "logreg = LogisticRegression(C = 0.1)\n",
    "\n",
    "# Fit the model\n",
    "logreg.fit(X_train_scaled,y_train)\n",
    "\n",
    "# Score the model\n",
    "print(f\"Train score: {logreg.score(X_train_scaled,y_train)}\")\n",
    "print(f\"Test score: {logreg.score(X_test_scaled,y_test)}\")"
   ]
  },
  {
   "cell_type": "markdown",
   "id": "8f50d9b5",
   "metadata": {},
   "source": [
    "## Decision Tree Classification"
   ]
  },
  {
   "cell_type": "code",
   "execution_count": 24,
   "id": "b6db500c",
   "metadata": {
    "scrolled": true
   },
   "outputs": [
    {
     "name": "stdout",
     "output_type": "stream",
     "text": [
      "Train score: 0.8995980152000502\n",
      "Test score: 0.856234396344623\n"
     ]
    }
   ],
   "source": [
    "from sklearn.tree import DecisionTreeClassifier\n",
    "\n",
    "# Instantiate\n",
    "decisiontree_model = DecisionTreeClassifier(max_depth = 25)\n",
    "\n",
    "# Fit the model\n",
    "decisiontree_model.fit(X_train_transformed,y_train)\n",
    "\n",
    "# Score the model\n",
    "print(f\"Train score: {decisiontree_model.score(X_train_transformed,y_train)}\")\n",
    "print(f\"Test score: {decisiontree_model.score(X_test_transformed,y_test)}\")"
   ]
  },
  {
   "cell_type": "markdown",
   "id": "af640fc4",
   "metadata": {},
   "source": [
    "## XGBoost"
   ]
  },
  {
   "cell_type": "code",
   "execution_count": 25,
   "id": "3cc9036f",
   "metadata": {},
   "outputs": [
    {
     "name": "stderr",
     "output_type": "stream",
     "text": [
      "C:\\Users\\jason\\anaconda3\\envs\\mlenv\\lib\\site-packages\\xgboost\\compat.py:93: FutureWarning: pandas.Int64Index is deprecated and will be removed from pandas in a future version. Use pandas.Index with the appropriate dtype instead.\n",
      "  from pandas import MultiIndex, Int64Index\n"
     ]
    }
   ],
   "source": [
    "from xgboost import XGBClassifier"
   ]
  },
  {
   "cell_type": "code",
   "execution_count": 26,
   "id": "25fe4c65",
   "metadata": {},
   "outputs": [
    {
     "name": "stdout",
     "output_type": "stream",
     "text": [
      "Train score: 0.9084542428239433\n",
      "Test score: 0.8815770879457346\n"
     ]
    }
   ],
   "source": [
    "# Instantiate model\n",
    "XGB_model = XGBClassifier()\n",
    "\n",
    "# Fit model\n",
    "XGB_model.fit(X_train_transformed,y_train)\n",
    "\n",
    "# Score the model\n",
    "print(f\"Train score: {XGB_model.score(X_train_transformed,y_train)}\")\n",
    "print(f\"Test score: {XGB_model.score(X_test_transformed,y_test)}\")"
   ]
  },
  {
   "cell_type": "code",
   "execution_count": null,
   "id": "d104ec2a",
   "metadata": {},
   "outputs": [],
   "source": []
  },
  {
   "cell_type": "markdown",
   "id": "c9e641aa",
   "metadata": {},
   "source": [
    "Build grid search \n",
    "Make models notebook with just numeric data\n",
    "NLP notebook models with text analysis\n",
    "\n",
    "Recommendation\n"
   ]
  },
  {
   "cell_type": "code",
   "execution_count": null,
   "id": "c72abfac",
   "metadata": {},
   "outputs": [],
   "source": []
  }
 ],
 "metadata": {
  "kernelspec": {
   "display_name": "mlenv",
   "language": "python",
   "name": "mlenv"
  },
  "language_info": {
   "codemirror_mode": {
    "name": "ipython",
    "version": 3
   },
   "file_extension": ".py",
   "mimetype": "text/x-python",
   "name": "python",
   "nbconvert_exporter": "python",
   "pygments_lexer": "ipython3",
   "version": "3.8.13"
  },
  "vscode": {
   "interpreter": {
    "hash": "b0b87898d849d5a7e2d74c069a53aa09ad9f1d9b21997adfe24015fe0f36f48c"
   }
  }
 },
 "nbformat": 4,
 "nbformat_minor": 5
}
