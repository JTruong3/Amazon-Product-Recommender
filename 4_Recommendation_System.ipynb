{
 "cells": [
  {
   "cell_type": "markdown",
   "id": "9839f88d",
   "metadata": {},
   "source": [
    "# 4 Recommendation System"
   ]
  },
  {
   "cell_type": "markdown",
   "id": "5eb1d276",
   "metadata": {},
   "source": [
    "- Author: Jason Truong\n",
    "- Last Modified: September 19, 2022\n",
    "- Email: Jasontruong19@gmail.com"
   ]
  },
  {
   "cell_type": "markdown",
   "id": "cb3118e6",
   "metadata": {},
   "source": [
    "# Table of Contents\n",
    "\n",
    "1. [Objective and Roadmap](#1Objective)  \n",
    "2. [Preliminary Data Setup](#2Preliminary)   \n",
    "3. [Content Based Recommendation](#3Content_Recommend)   \n",
    "    3.1 [Single Product Comparison](#3.1_single_product)  \n",
    "    3.2 [Save Vectorizer Model](#3.2_save_vectorizer)  \n",
    "    3.3 [Recommendation Function](#3.3_recommend_function)  \n",
    "    3.4 [Test Recommendation System](#3.4_test_recommendation)   \n",
    "    3.5 [Evaluate Recommendation System](#3.5_evaluate_recommendation)  \n",
    "4. [Conclusion and Future Works](#4Conclusion)  "
   ]
  },
  {
   "cell_type": "markdown",
   "id": "3996e6a2",
   "metadata": {},
   "source": [
    "# 1. Objective<a class ='anchor' id='1Objective'></a>"
   ]
  },
  {
   "cell_type": "markdown",
   "id": "66e2193e",
   "metadata": {},
   "source": [
    "To use the predicted sentiment from review text and product description to come up with recommendations for users."
   ]
  },
  {
   "cell_type": "markdown",
   "id": "e02aa52c",
   "metadata": {},
   "source": [
    "# 2. Preliminary Data Setup<a class ='anchor' id='2Preliminary'></a>"
   ]
  },
  {
   "cell_type": "code",
   "execution_count": 1,
   "id": "677d06a1",
   "metadata": {},
   "outputs": [],
   "source": [
    "import json\n",
    "import pandas as pd\n",
    "import numpy as np\n",
    "import matplotlib.pyplot as plt\n",
    "import pickle\n",
    "import random\n",
    "\n",
    "\n",
    "from sklearn.linear_model import LogisticRegression\n",
    "from sklearn.feature_extraction.text import CountVectorizer\n",
    "from sklearn.model_selection import train_test_split"
   ]
  },
  {
   "cell_type": "markdown",
   "id": "48487750",
   "metadata": {},
   "source": [
    "Load in the dataset"
   ]
  },
  {
   "cell_type": "code",
   "execution_count": 2,
   "id": "b642c905",
   "metadata": {},
   "outputs": [],
   "source": [
    "meta_df = pd.read_csv('clean_meta.csv')"
   ]
  },
  {
   "cell_type": "code",
   "execution_count": 3,
   "id": "8b01c8fa",
   "metadata": {},
   "outputs": [
    {
     "data": {
      "text/html": [
       "<div>\n",
       "<style scoped>\n",
       "    .dataframe tbody tr th:only-of-type {\n",
       "        vertical-align: middle;\n",
       "    }\n",
       "\n",
       "    .dataframe tbody tr th {\n",
       "        vertical-align: top;\n",
       "    }\n",
       "\n",
       "    .dataframe thead th {\n",
       "        text-align: right;\n",
       "    }\n",
       "</style>\n",
       "<table border=\"1\" class=\"dataframe\">\n",
       "  <thead>\n",
       "    <tr style=\"text-align: right;\">\n",
       "      <th></th>\n",
       "      <th>title</th>\n",
       "      <th>brand</th>\n",
       "      <th>rank</th>\n",
       "      <th>product_id</th>\n",
       "      <th>description_0</th>\n",
       "      <th>category_1</th>\n",
       "      <th>category_2</th>\n",
       "    </tr>\n",
       "  </thead>\n",
       "  <tbody>\n",
       "    <tr>\n",
       "      <th>0</th>\n",
       "      <td>My Fair Pastry (Good Eats Vol. 9)</td>\n",
       "      <td>Alton Brown</td>\n",
       "      <td>370,026</td>\n",
       "      <td>0000143529</td>\n",
       "      <td>Disc 1: Flour Power (Scones; Shortcakes; South...</td>\n",
       "      <td>Movies</td>\n",
       "      <td>NaN</td>\n",
       "    </tr>\n",
       "    <tr>\n",
       "      <th>1</th>\n",
       "      <td>Barefoot Contessa (with Ina Garten), Entertain...</td>\n",
       "      <td>Ina Garten</td>\n",
       "      <td>342,914</td>\n",
       "      <td>0000143588</td>\n",
       "      <td>Barefoot Contessa Volume 2: On these three dis...</td>\n",
       "      <td>Movies</td>\n",
       "      <td>NaN</td>\n",
       "    </tr>\n",
       "    <tr>\n",
       "      <th>2</th>\n",
       "      <td>Rise and Swine (Good Eats Vol. 7)</td>\n",
       "      <td>Alton Brown</td>\n",
       "      <td>351,684</td>\n",
       "      <td>0000143502</td>\n",
       "      <td>Rise and Swine (Good Eats Vol. 7) includes bon...</td>\n",
       "      <td>Movies</td>\n",
       "      <td>NaN</td>\n",
       "    </tr>\n",
       "    <tr>\n",
       "      <th>3</th>\n",
       "      <td>The Power of the Cross Joseph Prince</td>\n",
       "      <td>Joseph Prince</td>\n",
       "      <td>444,474</td>\n",
       "      <td>000073991X</td>\n",
       "      <td>Have failures in your life caused you to feel ...</td>\n",
       "      <td>Genre for Featured Categories</td>\n",
       "      <td>Exercise &amp; Fitness</td>\n",
       "    </tr>\n",
       "    <tr>\n",
       "      <th>4</th>\n",
       "      <td>Live in Houston [VHS]</td>\n",
       "      <td>Douglas Miller</td>\n",
       "      <td>1,005,955</td>\n",
       "      <td>000107461X</td>\n",
       "      <td>Track Listings 1. Come On Everybody 2. My Stre...</td>\n",
       "      <td>Movies</td>\n",
       "      <td>NaN</td>\n",
       "    </tr>\n",
       "    <tr>\n",
       "      <th>...</th>\n",
       "      <td>...</td>\n",
       "      <td>...</td>\n",
       "      <td>...</td>\n",
       "      <td>...</td>\n",
       "      <td>...</td>\n",
       "      <td>...</td>\n",
       "      <td>...</td>\n",
       "    </tr>\n",
       "    <tr>\n",
       "      <th>156476</th>\n",
       "      <td>Verdi: Otello</td>\n",
       "      <td>Sonya Yoncheva</td>\n",
       "      <td>68,026</td>\n",
       "      <td>B01HJ1INB0</td>\n",
       "      <td>Tony Award-winning director Bartlett Sher prob...</td>\n",
       "      <td>Studio Specials</td>\n",
       "      <td>Sony Pictures Home Entertainment</td>\n",
       "    </tr>\n",
       "    <tr>\n",
       "      <th>156477</th>\n",
       "      <td>Mr. Miracle - Ihn schickt der Himmel</td>\n",
       "      <td>NaN</td>\n",
       "      <td>344,483</td>\n",
       "      <td>B01HJ3E0PQ</td>\n",
       "      <td>Mr. Miracle DVD Region 2 need an all region DV...</td>\n",
       "      <td>Movies</td>\n",
       "      <td>NaN</td>\n",
       "    </tr>\n",
       "    <tr>\n",
       "      <th>156478</th>\n",
       "      <td>The President</td>\n",
       "      <td>Misha Gomiashvili</td>\n",
       "      <td>199,854</td>\n",
       "      <td>B01HJ6R77G</td>\n",
       "      <td>The President and his family rule the land wit...</td>\n",
       "      <td>Independently Distributed</td>\n",
       "      <td>Drama</td>\n",
       "    </tr>\n",
       "    <tr>\n",
       "      <th>156479</th>\n",
       "      <td>She.....Who Would Be Pope</td>\n",
       "      <td>Liv Ullmann</td>\n",
       "      <td>246,494</td>\n",
       "      <td>B01HJCCLOY</td>\n",
       "      <td>Filmed in 1972 as Pope Joan, Michael Andersons...</td>\n",
       "      <td>Genre for Featured Categories</td>\n",
       "      <td>Action &amp; Adventure</td>\n",
       "    </tr>\n",
       "    <tr>\n",
       "      <th>156480</th>\n",
       "      <td>Mobile Suit Gundam Thunderbolt Limited Edition...</td>\n",
       "      <td>NaN</td>\n",
       "      <td>239,915</td>\n",
       "      <td>B01HJF79XO</td>\n",
       "      <td>Japanese Rare Items</td>\n",
       "      <td>Blu-ray</td>\n",
       "      <td>Movies</td>\n",
       "    </tr>\n",
       "  </tbody>\n",
       "</table>\n",
       "<p>156481 rows × 7 columns</p>\n",
       "</div>"
      ],
      "text/plain": [
       "                                                    title              brand  \\\n",
       "0                       My Fair Pastry (Good Eats Vol. 9)        Alton Brown   \n",
       "1       Barefoot Contessa (with Ina Garten), Entertain...         Ina Garten   \n",
       "2                       Rise and Swine (Good Eats Vol. 7)        Alton Brown   \n",
       "3                    The Power of the Cross Joseph Prince      Joseph Prince   \n",
       "4                                   Live in Houston [VHS]     Douglas Miller   \n",
       "...                                                   ...                ...   \n",
       "156476                                      Verdi: Otello     Sonya Yoncheva   \n",
       "156477               Mr. Miracle - Ihn schickt der Himmel                NaN   \n",
       "156478                                      The President  Misha Gomiashvili   \n",
       "156479                          She.....Who Would Be Pope        Liv Ullmann   \n",
       "156480  Mobile Suit Gundam Thunderbolt Limited Edition...                NaN   \n",
       "\n",
       "             rank  product_id  \\\n",
       "0         370,026  0000143529   \n",
       "1         342,914  0000143588   \n",
       "2         351,684  0000143502   \n",
       "3         444,474  000073991X   \n",
       "4       1,005,955  000107461X   \n",
       "...           ...         ...   \n",
       "156476     68,026  B01HJ1INB0   \n",
       "156477    344,483  B01HJ3E0PQ   \n",
       "156478    199,854  B01HJ6R77G   \n",
       "156479    246,494  B01HJCCLOY   \n",
       "156480    239,915  B01HJF79XO   \n",
       "\n",
       "                                            description_0  \\\n",
       "0       Disc 1: Flour Power (Scones; Shortcakes; South...   \n",
       "1       Barefoot Contessa Volume 2: On these three dis...   \n",
       "2       Rise and Swine (Good Eats Vol. 7) includes bon...   \n",
       "3       Have failures in your life caused you to feel ...   \n",
       "4       Track Listings 1. Come On Everybody 2. My Stre...   \n",
       "...                                                   ...   \n",
       "156476  Tony Award-winning director Bartlett Sher prob...   \n",
       "156477  Mr. Miracle DVD Region 2 need an all region DV...   \n",
       "156478  The President and his family rule the land wit...   \n",
       "156479  Filmed in 1972 as Pope Joan, Michael Andersons...   \n",
       "156480                                Japanese Rare Items   \n",
       "\n",
       "                           category_1                        category_2  \n",
       "0                              Movies                               NaN  \n",
       "1                              Movies                               NaN  \n",
       "2                              Movies                               NaN  \n",
       "3       Genre for Featured Categories                Exercise & Fitness  \n",
       "4                              Movies                               NaN  \n",
       "...                               ...                               ...  \n",
       "156476                Studio Specials  Sony Pictures Home Entertainment  \n",
       "156477                         Movies                               NaN  \n",
       "156478      Independently Distributed                             Drama  \n",
       "156479  Genre for Featured Categories                Action & Adventure  \n",
       "156480                        Blu-ray                            Movies  \n",
       "\n",
       "[156481 rows x 7 columns]"
      ]
     },
     "execution_count": 3,
     "metadata": {},
     "output_type": "execute_result"
    }
   ],
   "source": [
    "# Ensure that the description column has no null values.\n",
    "meta_df['description_0'].fillna('', inplace = True)\n",
    "\n",
    "# Check results\n",
    "meta_df"
   ]
  },
  {
   "cell_type": "markdown",
   "id": "55ba19f2",
   "metadata": {},
   "source": [
    "# 3. Content Based Recommendation<a class ='anchor' id='3Content_Recommend'></a>"
   ]
  },
  {
   "cell_type": "markdown",
   "id": "1139d2b3",
   "metadata": {},
   "source": [
    "The first step is to use the descriptions of the different Amazon items, in this case, movies/tv shows to recommend products that are similar."
   ]
  },
  {
   "cell_type": "code",
   "execution_count": 4,
   "id": "4bf18b20",
   "metadata": {},
   "outputs": [],
   "source": [
    "# Take the description, title and product id from the metadata\n",
    "rec_df = meta_df[['title','description_0','product_id']].copy()"
   ]
  },
  {
   "cell_type": "code",
   "execution_count": 10,
   "id": "371a283a",
   "metadata": {},
   "outputs": [
    {
     "data": {
      "text/html": [
       "<div>\n",
       "<style scoped>\n",
       "    .dataframe tbody tr th:only-of-type {\n",
       "        vertical-align: middle;\n",
       "    }\n",
       "\n",
       "    .dataframe tbody tr th {\n",
       "        vertical-align: top;\n",
       "    }\n",
       "\n",
       "    .dataframe thead th {\n",
       "        text-align: right;\n",
       "    }\n",
       "</style>\n",
       "<table border=\"1\" class=\"dataframe\">\n",
       "  <thead>\n",
       "    <tr style=\"text-align: right;\">\n",
       "      <th></th>\n",
       "      <th>title</th>\n",
       "      <th>description_0</th>\n",
       "      <th>product_id</th>\n",
       "    </tr>\n",
       "  </thead>\n",
       "  <tbody>\n",
       "    <tr>\n",
       "      <th>0</th>\n",
       "      <td>My Fair Pastry (Good Eats Vol. 9)</td>\n",
       "      <td>Disc 1: Flour Power (Scones; Shortcakes; South...</td>\n",
       "      <td>0000143529</td>\n",
       "    </tr>\n",
       "    <tr>\n",
       "      <th>1</th>\n",
       "      <td>Barefoot Contessa (with Ina Garten), Entertain...</td>\n",
       "      <td>Barefoot Contessa Volume 2: On these three dis...</td>\n",
       "      <td>0000143588</td>\n",
       "    </tr>\n",
       "    <tr>\n",
       "      <th>2</th>\n",
       "      <td>Rise and Swine (Good Eats Vol. 7)</td>\n",
       "      <td>Rise and Swine (Good Eats Vol. 7) includes bon...</td>\n",
       "      <td>0000143502</td>\n",
       "    </tr>\n",
       "    <tr>\n",
       "      <th>3</th>\n",
       "      <td>The Power of the Cross Joseph Prince</td>\n",
       "      <td>Have failures in your life caused you to feel ...</td>\n",
       "      <td>000073991X</td>\n",
       "    </tr>\n",
       "    <tr>\n",
       "      <th>4</th>\n",
       "      <td>Live in Houston [VHS]</td>\n",
       "      <td>Track Listings 1. Come On Everybody 2. My Stre...</td>\n",
       "      <td>000107461X</td>\n",
       "    </tr>\n",
       "    <tr>\n",
       "      <th>...</th>\n",
       "      <td>...</td>\n",
       "      <td>...</td>\n",
       "      <td>...</td>\n",
       "    </tr>\n",
       "    <tr>\n",
       "      <th>49995</th>\n",
       "      <td>Shirley Temple: America's Sweetheart Collectio...</td>\n",
       "      <td>Includes Baby Take a Bow, Bright Eyes &amp; Rebecc...</td>\n",
       "      <td>B000FKPDY8</td>\n",
       "    </tr>\n",
       "    <tr>\n",
       "      <th>49996</th>\n",
       "      <td>America's Castles - The Grand Resorts</td>\n",
       "      <td>While taverns and inns have been a part of the...</td>\n",
       "      <td>B000FKP22Q</td>\n",
       "    </tr>\n",
       "    <tr>\n",
       "      <th>49997</th>\n",
       "      <td>Dragon in Fury</td>\n",
       "      <td>Dragon in Fury movie</td>\n",
       "      <td>B000FKPDUW</td>\n",
       "    </tr>\n",
       "    <tr>\n",
       "      <th>49998</th>\n",
       "      <td>Rin Tin Tin: Double Feature, Vol. 3</td>\n",
       "      <td>Caryl of the mountains: The 1914 silent film w...</td>\n",
       "      <td>B000FKP42O</td>\n",
       "    </tr>\n",
       "    <tr>\n",
       "      <th>49999</th>\n",
       "      <td>King of the Braves Gaogaigar: Heir to the Thro...</td>\n",
       "      <td>This is the story of the brave men and women w...</td>\n",
       "      <td>B000FKPE4W</td>\n",
       "    </tr>\n",
       "  </tbody>\n",
       "</table>\n",
       "<p>50000 rows × 3 columns</p>\n",
       "</div>"
      ],
      "text/plain": [
       "                                                   title  \\\n",
       "0                      My Fair Pastry (Good Eats Vol. 9)   \n",
       "1      Barefoot Contessa (with Ina Garten), Entertain...   \n",
       "2                      Rise and Swine (Good Eats Vol. 7)   \n",
       "3                   The Power of the Cross Joseph Prince   \n",
       "4                                  Live in Houston [VHS]   \n",
       "...                                                  ...   \n",
       "49995  Shirley Temple: America's Sweetheart Collectio...   \n",
       "49996              America's Castles - The Grand Resorts   \n",
       "49997                                     Dragon in Fury   \n",
       "49998                Rin Tin Tin: Double Feature, Vol. 3   \n",
       "49999  King of the Braves Gaogaigar: Heir to the Thro...   \n",
       "\n",
       "                                           description_0  product_id  \n",
       "0      Disc 1: Flour Power (Scones; Shortcakes; South...  0000143529  \n",
       "1      Barefoot Contessa Volume 2: On these three dis...  0000143588  \n",
       "2      Rise and Swine (Good Eats Vol. 7) includes bon...  0000143502  \n",
       "3      Have failures in your life caused you to feel ...  000073991X  \n",
       "4      Track Listings 1. Come On Everybody 2. My Stre...  000107461X  \n",
       "...                                                  ...         ...  \n",
       "49995  Includes Baby Take a Bow, Bright Eyes & Rebecc...  B000FKPDY8  \n",
       "49996  While taverns and inns have been a part of the...  B000FKP22Q  \n",
       "49997                               Dragon in Fury movie  B000FKPDUW  \n",
       "49998  Caryl of the mountains: The 1914 silent film w...  B000FKP42O  \n",
       "49999  This is the story of the brave men and women w...  B000FKPE4W  \n",
       "\n",
       "[50000 rows x 3 columns]"
      ]
     },
     "execution_count": 10,
     "metadata": {},
     "output_type": "execute_result"
    }
   ],
   "source": [
    "# Start off with a subset of the data\n",
    "rec_df_subset = rec_df.iloc[0:50000,:]\n",
    "\n",
    "# Check results\n",
    "rec_df_subset"
   ]
  },
  {
   "cell_type": "markdown",
   "id": "baf924c3",
   "metadata": {},
   "source": [
    "Turn the description into numeric features with TF-IDF Vectorizer"
   ]
  },
  {
   "cell_type": "code",
   "execution_count": 15,
   "id": "eaace08e",
   "metadata": {},
   "outputs": [],
   "source": [
    "from sklearn.feature_extraction.text import TfidfVectorizer\n",
    "\n",
    "# Define the vectorizer\n",
    "vectorizer = TfidfVectorizer(stop_words = 'english', min_df = 10)\n",
    "\n",
    "# Fit\n",
    "vectorizer.fit(rec_df_subset['description_0'])\n",
    "\n",
    "# Transform the description\n",
    "TF_matrix = vectorizer.transform(rec_df_subset['description_0'])"
   ]
  },
  {
   "cell_type": "code",
   "execution_count": 16,
   "id": "0fcc747f",
   "metadata": {},
   "outputs": [],
   "source": [
    "from sklearn.metrics.pairwise import cosine_similarity\n",
    "\n",
    "movie_index = rec_df_subset[rec_df_subset['title'] =='Rise and Swine (Good Eats Vol. 7)'].index\n",
    "\n",
    "mov_similarities = cosine_similarity(TF_matrix,dense_output = False)\n",
    "\n",
    "sim_df = pd.DataFrame({'item':rec_df_subset['title'], \n",
    "                       'similarities': np.array(mov_similarities[movie_index,:].todense()).squeeze()})"
   ]
  },
  {
   "cell_type": "markdown",
   "id": "9e23efad",
   "metadata": {},
   "source": [
    "List of the top recommended products based off of similarities"
   ]
  },
  {
   "cell_type": "code",
   "execution_count": 17,
   "id": "21f49a8b",
   "metadata": {
    "scrolled": true
   },
   "outputs": [
    {
     "data": {
      "text/html": [
       "<div>\n",
       "<style scoped>\n",
       "    .dataframe tbody tr th:only-of-type {\n",
       "        vertical-align: middle;\n",
       "    }\n",
       "\n",
       "    .dataframe tbody tr th {\n",
       "        vertical-align: top;\n",
       "    }\n",
       "\n",
       "    .dataframe thead th {\n",
       "        text-align: right;\n",
       "    }\n",
       "</style>\n",
       "<table border=\"1\" class=\"dataframe\">\n",
       "  <thead>\n",
       "    <tr style=\"text-align: right;\">\n",
       "      <th></th>\n",
       "      <th>item</th>\n",
       "      <th>similarities</th>\n",
       "    </tr>\n",
       "  </thead>\n",
       "  <tbody>\n",
       "    <tr>\n",
       "      <th>2</th>\n",
       "      <td>Rise and Swine (Good Eats Vol. 7)</td>\n",
       "      <td>1.000000</td>\n",
       "    </tr>\n",
       "    <tr>\n",
       "      <th>14782</th>\n",
       "      <td>Love Is the Devil</td>\n",
       "      <td>0.220224</td>\n",
       "    </tr>\n",
       "    <tr>\n",
       "      <th>30335</th>\n",
       "      <td>Raquel Welch Collection: (One Million Years B....</td>\n",
       "      <td>0.213950</td>\n",
       "    </tr>\n",
       "    <tr>\n",
       "      <th>2530</th>\n",
       "      <td>Manly Men III: Time to Man Up</td>\n",
       "      <td>0.208671</td>\n",
       "    </tr>\n",
       "    <tr>\n",
       "      <th>25598</th>\n",
       "      <td>Charles Bronson Action Pack: (Kinjite / Messen...</td>\n",
       "      <td>0.203271</td>\n",
       "    </tr>\n",
       "    <tr>\n",
       "      <th>28781</th>\n",
       "      <td>The Ultimate Chick Flick Collection: (The Bang...</td>\n",
       "      <td>0.202631</td>\n",
       "    </tr>\n",
       "    <tr>\n",
       "      <th>29728</th>\n",
       "      <td>The Sidney Poitier Collection: (For Love of Iv...</td>\n",
       "      <td>0.194004</td>\n",
       "    </tr>\n",
       "    <tr>\n",
       "      <th>29703</th>\n",
       "      <td>The Best of Soul Cinema: (Coffy / Cooley High ...</td>\n",
       "      <td>0.190299</td>\n",
       "    </tr>\n",
       "    <tr>\n",
       "      <th>31078</th>\n",
       "      <td>Living Christ</td>\n",
       "      <td>0.185110</td>\n",
       "    </tr>\n",
       "    <tr>\n",
       "      <th>48634</th>\n",
       "      <td>Red Dawn / Navy Seals</td>\n",
       "      <td>0.183135</td>\n",
       "    </tr>\n",
       "  </tbody>\n",
       "</table>\n",
       "</div>"
      ],
      "text/plain": [
       "                                                    item  similarities\n",
       "2                      Rise and Swine (Good Eats Vol. 7)      1.000000\n",
       "14782                                  Love Is the Devil      0.220224\n",
       "30335  Raquel Welch Collection: (One Million Years B....      0.213950\n",
       "2530                       Manly Men III: Time to Man Up      0.208671\n",
       "25598  Charles Bronson Action Pack: (Kinjite / Messen...      0.203271\n",
       "28781  The Ultimate Chick Flick Collection: (The Bang...      0.202631\n",
       "29728  The Sidney Poitier Collection: (For Love of Iv...      0.194004\n",
       "29703  The Best of Soul Cinema: (Coffy / Cooley High ...      0.190299\n",
       "31078                                      Living Christ      0.185110\n",
       "48634                              Red Dawn / Navy Seals      0.183135"
      ]
     },
     "execution_count": 17,
     "metadata": {},
     "output_type": "execute_result"
    }
   ],
   "source": [
    "top_recommend = sim_df.sort_values(by = 'similarities', ascending = False)[0:10]\n",
    "\n",
    "# Check results\n",
    "top_recommend"
   ]
  },
  {
   "cell_type": "markdown",
   "id": "9fd7967b",
   "metadata": {},
   "source": [
    "**Check the actual descriptions to see if products are similar.**"
   ]
  },
  {
   "cell_type": "code",
   "execution_count": 18,
   "id": "55234e2b",
   "metadata": {},
   "outputs": [
    {
     "data": {
      "text/plain": [
       "\"This British biographical drama probes the life of painter Francis Bacon (1909-1992), critically acclaimed as the outstanding British painter of the latter half of the 20th Century. This unsympathetic portrait of Bacon (Derek Jacobi) begins when George Dyer (Daniel Craig), a small-time criminal from working-class East End environs, drops through a skylight to rob Bacon's studio -- and is ordered into bed by Bacon. The two become a familiar couple at Bacon's hangout, the Colony Room in Soho. Bacon's sexual interests lean toward S&M, but as the cruel Bacon loses interest in Dyer and begins to look elsewhere, the couple splits. Left to his own devices, Dyer turns to drugs and alcohol -- and a tragic suicide. Visual grotesqueries and a trancelike Ryuichi Sakamoto music score capture the essence of Bacon's work (although paintings by Bacon are not seen onscreen here). The film is told in the form of a flashback from Bacon's successful 1971 retrospective at the Grand Palais in Paris to a period in the mid-'60s. Bacon biographer Daniel Farson (The Gilded Gutter Life of Francis Bacon) served as consultant on the film. ~ Bhob Stewart, Rovi\""
      ]
     },
     "execution_count": 18,
     "metadata": {},
     "output_type": "execute_result"
    }
   ],
   "source": [
    "rec_df_subset['description_0'][14782]"
   ]
  },
  {
   "cell_type": "code",
   "execution_count": 19,
   "id": "04fbf9a4",
   "metadata": {},
   "outputs": [
    {
     "data": {
      "text/plain": [
       "title                                            Love Is the Devil\n",
       "description_0    This British biographical drama probes the lif...\n",
       "product_id                                              6305847045\n",
       "Name: 14782, dtype: object"
      ]
     },
     "execution_count": 19,
     "metadata": {},
     "output_type": "execute_result"
    }
   ],
   "source": [
    "rec_df_subset.loc[14782,:]"
   ]
  },
  {
   "cell_type": "code",
   "execution_count": 20,
   "id": "a5557d0d",
   "metadata": {},
   "outputs": [
    {
     "data": {
      "text/plain": [
       "'Rise and Swine (Good Eats Vol. 7) includes bonus footage \"Ask Alton\" and 3 discs. Disc 1: Breakfast Eats 3 (Bacon Vinaigrette with Grilled Radicchio; Scrap Iron Chef\\'s Bacon; Honey Mustard Cure; Molasses Black Pepper Cure; Red Pepper Brine; Soy Honey Brine; Omelet; Omelet for a Crowd; Frittata; Blueberry Muffins; And More...) Disc 2: Fruit Fest (It\\'s a Wonderful Waldorf; 10 Minute Applesauce; Baker, Baker; Clotted Cream; Macerated Strawberries; Strawberry Pudding; Frozen Strawberries; Banana Ice Cream; Bananas Foster; Fried Plantains; And more...) Disc 3: Manly Eats (Sirloin Steak; Skirt Steak; Pulled Pork; Corn Dogs; Mini Man Burgers; And More...)'"
      ]
     },
     "execution_count": 20,
     "metadata": {},
     "output_type": "execute_result"
    }
   ],
   "source": [
    "rec_df_subset['description_0'][2]"
   ]
  },
  {
   "cell_type": "code",
   "execution_count": 21,
   "id": "6fc53eea",
   "metadata": {},
   "outputs": [
    {
     "data": {
      "text/plain": [
       "14782"
      ]
     },
     "execution_count": 21,
     "metadata": {},
     "output_type": "execute_result"
    }
   ],
   "source": [
    "top_recommend.index[1]"
   ]
  },
  {
   "cell_type": "code",
   "execution_count": 22,
   "id": "aa7c3024",
   "metadata": {
    "scrolled": true
   },
   "outputs": [
    {
     "data": {
      "text/html": [
       "<div>\n",
       "<style scoped>\n",
       "    .dataframe tbody tr th:only-of-type {\n",
       "        vertical-align: middle;\n",
       "    }\n",
       "\n",
       "    .dataframe tbody tr th {\n",
       "        vertical-align: top;\n",
       "    }\n",
       "\n",
       "    .dataframe thead th {\n",
       "        text-align: right;\n",
       "    }\n",
       "</style>\n",
       "<table border=\"1\" class=\"dataframe\">\n",
       "  <thead>\n",
       "    <tr style=\"text-align: right;\">\n",
       "      <th></th>\n",
       "      <th>item</th>\n",
       "      <th>similarities</th>\n",
       "    </tr>\n",
       "  </thead>\n",
       "  <tbody>\n",
       "    <tr>\n",
       "      <th>24999</th>\n",
       "      <td>The Corpse Vanishes</td>\n",
       "      <td>0.000000</td>\n",
       "    </tr>\n",
       "    <tr>\n",
       "      <th>29976</th>\n",
       "      <td>The Best Collection: Crime</td>\n",
       "      <td>0.000000</td>\n",
       "    </tr>\n",
       "    <tr>\n",
       "      <th>29979</th>\n",
       "      <td>Psycho Santa / Satan Claus</td>\n",
       "      <td>0.000000</td>\n",
       "    </tr>\n",
       "    <tr>\n",
       "      <th>29980</th>\n",
       "      <td>Baby Human: Geniuses in Diapers</td>\n",
       "      <td>0.000000</td>\n",
       "    </tr>\n",
       "    <tr>\n",
       "      <th>29981</th>\n",
       "      <td>Star Trek Voyager - The Complete First Season</td>\n",
       "      <td>0.000000</td>\n",
       "    </tr>\n",
       "    <tr>\n",
       "      <th>...</th>\n",
       "      <td>...</td>\n",
       "      <td>...</td>\n",
       "    </tr>\n",
       "    <tr>\n",
       "      <th>25598</th>\n",
       "      <td>Charles Bronson Action Pack: (Kinjite / Messen...</td>\n",
       "      <td>0.203271</td>\n",
       "    </tr>\n",
       "    <tr>\n",
       "      <th>2530</th>\n",
       "      <td>Manly Men III: Time to Man Up</td>\n",
       "      <td>0.208671</td>\n",
       "    </tr>\n",
       "    <tr>\n",
       "      <th>30335</th>\n",
       "      <td>Raquel Welch Collection: (One Million Years B....</td>\n",
       "      <td>0.213950</td>\n",
       "    </tr>\n",
       "    <tr>\n",
       "      <th>14782</th>\n",
       "      <td>Love Is the Devil</td>\n",
       "      <td>0.220224</td>\n",
       "    </tr>\n",
       "    <tr>\n",
       "      <th>2</th>\n",
       "      <td>Rise and Swine (Good Eats Vol. 7)</td>\n",
       "      <td>1.000000</td>\n",
       "    </tr>\n",
       "  </tbody>\n",
       "</table>\n",
       "<p>50000 rows × 2 columns</p>\n",
       "</div>"
      ],
      "text/plain": [
       "                                                    item  similarities\n",
       "24999                                The Corpse Vanishes      0.000000\n",
       "29976                         The Best Collection: Crime      0.000000\n",
       "29979                         Psycho Santa / Satan Claus      0.000000\n",
       "29980                    Baby Human: Geniuses in Diapers      0.000000\n",
       "29981      Star Trek Voyager - The Complete First Season      0.000000\n",
       "...                                                  ...           ...\n",
       "25598  Charles Bronson Action Pack: (Kinjite / Messen...      0.203271\n",
       "2530                       Manly Men III: Time to Man Up      0.208671\n",
       "30335  Raquel Welch Collection: (One Million Years B....      0.213950\n",
       "14782                                  Love Is the Devil      0.220224\n",
       "2                      Rise and Swine (Good Eats Vol. 7)      1.000000\n",
       "\n",
       "[50000 rows x 2 columns]"
      ]
     },
     "execution_count": 22,
     "metadata": {},
     "output_type": "execute_result"
    }
   ],
   "source": [
    "sim_df.sort_values(by = 'similarities', ascending = True)"
   ]
  },
  {
   "cell_type": "markdown",
   "id": "48441ea7",
   "metadata": {},
   "source": [
    "Find the Cosine similarity for the requested product instead of generating te cosine similarity for all the products."
   ]
  },
  {
   "cell_type": "code",
   "execution_count": 23,
   "id": "bb4eee0a",
   "metadata": {},
   "outputs": [
    {
     "data": {
      "text/plain": [
       "TfidfVectorizer(min_df=10, stop_words='english')"
      ]
     },
     "execution_count": 23,
     "metadata": {},
     "output_type": "execute_result"
    }
   ],
   "source": [
    "# Define the vectorizer\n",
    "vectorizer2 = TfidfVectorizer(stop_words = 'english', min_df = 10)\n",
    "\n",
    "# Fit\n",
    "vectorizer2.fit(rec_df['description_0'])\n"
   ]
  },
  {
   "cell_type": "markdown",
   "id": "bbdea92a",
   "metadata": {},
   "source": [
    "This approach takes a lot of computation power and memory because the cosine similarity between every product is computed. A more efficient way is to compare only the product that is chosen with every other product."
   ]
  },
  {
   "cell_type": "markdown",
   "id": "c372aa42",
   "metadata": {},
   "source": [
    "## 3.1 Single Product Comparision<a class ='anchor' id='3.1_single_product'></a>"
   ]
  },
  {
   "cell_type": "code",
   "execution_count": 24,
   "id": "0a783dc2",
   "metadata": {},
   "outputs": [],
   "source": [
    "# Transform the description\n",
    "TF_matrix = vectorizer2.transform(rec_df['description_0'])"
   ]
  },
  {
   "cell_type": "code",
   "execution_count": 25,
   "id": "30c7e3af",
   "metadata": {},
   "outputs": [],
   "source": [
    "# Determine the index of the movie\n",
    "movie_index = rec_df_subset[rec_df_subset['title'] =='Rise and Swine (Good Eats Vol. 7)'].index"
   ]
  },
  {
   "cell_type": "code",
   "execution_count": 26,
   "id": "044d48f4",
   "metadata": {},
   "outputs": [],
   "source": [
    "TF_matrix_product = vectorizer2.transform(rec_df_subset['description_0'][movie_index])"
   ]
  },
  {
   "cell_type": "code",
   "execution_count": 27,
   "id": "9cecf9e3",
   "metadata": {
    "scrolled": true
   },
   "outputs": [
    {
     "data": {
      "text/plain": [
       "Int64Index([2], dtype='int64')"
      ]
     },
     "execution_count": 27,
     "metadata": {},
     "output_type": "execute_result"
    }
   ],
   "source": [
    "movie_index"
   ]
  },
  {
   "cell_type": "code",
   "execution_count": 28,
   "id": "51a39de8",
   "metadata": {},
   "outputs": [
    {
     "data": {
      "text/plain": [
       "(156481, 39048)"
      ]
     },
     "execution_count": 28,
     "metadata": {},
     "output_type": "execute_result"
    }
   ],
   "source": [
    "TF_matrix.shape"
   ]
  },
  {
   "cell_type": "code",
   "execution_count": 29,
   "id": "10e8e89b",
   "metadata": {},
   "outputs": [
    {
     "data": {
      "text/plain": [
       "<1x39048 sparse matrix of type '<class 'numpy.float64'>'\n",
       "\twith 54 stored elements in Compressed Sparse Row format>"
      ]
     },
     "execution_count": 29,
     "metadata": {},
     "output_type": "execute_result"
    }
   ],
   "source": [
    "TF_matrix[movie_index]"
   ]
  },
  {
   "cell_type": "code",
   "execution_count": 30,
   "id": "dce716c4",
   "metadata": {},
   "outputs": [
    {
     "data": {
      "text/plain": [
       "(1, 39048)"
      ]
     },
     "execution_count": 30,
     "metadata": {},
     "output_type": "execute_result"
    }
   ],
   "source": [
    "# Check the shape of the transformed description\n",
    "TF_matrix_product.shape"
   ]
  },
  {
   "cell_type": "code",
   "execution_count": 31,
   "id": "4e11fdf7",
   "metadata": {},
   "outputs": [
    {
     "data": {
      "text/plain": [
       "<156481x1 sparse matrix of type '<class 'numpy.float64'>'\n",
       "\twith 55953 stored elements in Compressed Sparse Row format>"
      ]
     },
     "execution_count": 31,
     "metadata": {},
     "output_type": "execute_result"
    }
   ],
   "source": [
    "# Find the similarity between the chosen product with every other product in the dataset\n",
    "mov_similarities = cosine_similarity(TF_matrix,TF_matrix_product, dense_output = False)\n",
    "\n",
    "# Check output results\n",
    "mov_similarities"
   ]
  },
  {
   "cell_type": "code",
   "execution_count": 32,
   "id": "16343401",
   "metadata": {},
   "outputs": [],
   "source": [
    "# Convert the movie similarities output into a dataframe\n",
    "single_df = pd.DataFrame({'item':rec_df['title'], \n",
    "                       'similarities': np.array(mov_similarities.todense()).squeeze()})"
   ]
  },
  {
   "cell_type": "code",
   "execution_count": 33,
   "id": "b7c14f11",
   "metadata": {},
   "outputs": [
    {
     "data": {
      "text/html": [
       "<div>\n",
       "<style scoped>\n",
       "    .dataframe tbody tr th:only-of-type {\n",
       "        vertical-align: middle;\n",
       "    }\n",
       "\n",
       "    .dataframe tbody tr th {\n",
       "        vertical-align: top;\n",
       "    }\n",
       "\n",
       "    .dataframe thead th {\n",
       "        text-align: right;\n",
       "    }\n",
       "</style>\n",
       "<table border=\"1\" class=\"dataframe\">\n",
       "  <thead>\n",
       "    <tr style=\"text-align: right;\">\n",
       "      <th></th>\n",
       "      <th>item</th>\n",
       "      <th>similarities</th>\n",
       "    </tr>\n",
       "  </thead>\n",
       "  <tbody>\n",
       "    <tr>\n",
       "      <th>2</th>\n",
       "      <td>Rise and Swine (Good Eats Vol. 7)</td>\n",
       "      <td>1.000000</td>\n",
       "    </tr>\n",
       "    <tr>\n",
       "      <th>76483</th>\n",
       "      <td>Good Eats with Alton Brown Vol. 12</td>\n",
       "      <td>0.301367</td>\n",
       "    </tr>\n",
       "    <tr>\n",
       "      <th>94294</th>\n",
       "      <td>American Eats: Holiday Foods</td>\n",
       "      <td>0.256991</td>\n",
       "    </tr>\n",
       "    <tr>\n",
       "      <th>61427</th>\n",
       "      <td>Food Network: Good Eats with Alton Brown - Bre...</td>\n",
       "      <td>0.247336</td>\n",
       "    </tr>\n",
       "    <tr>\n",
       "      <th>92830</th>\n",
       "      <td>Good Eats with Alton Brown - Holiday Treats (R...</td>\n",
       "      <td>0.244306</td>\n",
       "    </tr>\n",
       "    <tr>\n",
       "      <th>99539</th>\n",
       "      <td>Food Network Takeout Collection DVD - Good Eat...</td>\n",
       "      <td>0.243199</td>\n",
       "    </tr>\n",
       "    <tr>\n",
       "      <th>94305</th>\n",
       "      <td>American Eats: Hot Dogs</td>\n",
       "      <td>0.236412</td>\n",
       "    </tr>\n",
       "    <tr>\n",
       "      <th>76760</th>\n",
       "      <td>Good Eats: Cupboard Cuisine - Volume 11</td>\n",
       "      <td>0.224773</td>\n",
       "    </tr>\n",
       "    <tr>\n",
       "      <th>94298</th>\n",
       "      <td>American Eats</td>\n",
       "      <td>0.213358</td>\n",
       "    </tr>\n",
       "    <tr>\n",
       "      <th>95611</th>\n",
       "      <td>Kitchen Wisdom from Good Eats (Good Eats Vol. 20)</td>\n",
       "      <td>0.202247</td>\n",
       "    </tr>\n",
       "  </tbody>\n",
       "</table>\n",
       "</div>"
      ],
      "text/plain": [
       "                                                    item  similarities\n",
       "2                      Rise and Swine (Good Eats Vol. 7)      1.000000\n",
       "76483                 Good Eats with Alton Brown Vol. 12      0.301367\n",
       "94294                       American Eats: Holiday Foods      0.256991\n",
       "61427  Food Network: Good Eats with Alton Brown - Bre...      0.247336\n",
       "92830  Good Eats with Alton Brown - Holiday Treats (R...      0.244306\n",
       "99539  Food Network Takeout Collection DVD - Good Eat...      0.243199\n",
       "94305                            American Eats: Hot Dogs      0.236412\n",
       "76760            Good Eats: Cupboard Cuisine - Volume 11      0.224773\n",
       "94298                                      American Eats      0.213358\n",
       "95611  Kitchen Wisdom from Good Eats (Good Eats Vol. 20)      0.202247"
      ]
     },
     "execution_count": 33,
     "metadata": {},
     "output_type": "execute_result"
    }
   ],
   "source": [
    "# Check the top 10 most similar products\n",
    "single_df.sort_values(by = 'similarities', ascending = False).head(10)"
   ]
  },
  {
   "cell_type": "markdown",
   "id": "9c4a7504",
   "metadata": {},
   "source": [
    "## 3.2 Save the vectorizer model<a class ='anchor' id='3.2_save_vectorizer'></a>"
   ]
  },
  {
   "cell_type": "code",
   "execution_count": 34,
   "id": "787d558b",
   "metadata": {},
   "outputs": [],
   "source": [
    "pickle.dump(vectorizer2, open('recommender_vectorizer.pickle','wb'))"
   ]
  },
  {
   "cell_type": "code",
   "execution_count": 35,
   "id": "2b1ee8fd",
   "metadata": {},
   "outputs": [],
   "source": [
    "file_vectorizer = pickle.load(open('recommender_vectorizer.pickle','rb'))"
   ]
  },
  {
   "cell_type": "markdown",
   "id": "24492147",
   "metadata": {},
   "source": [
    "## 3.3 Top 10 Recommendation Function<a class ='anchor' id='3.3_recommend_function'></a>"
   ]
  },
  {
   "cell_type": "markdown",
   "id": "5006f055",
   "metadata": {},
   "source": [
    "Create a function that would take in the item and output the top 10 recommendations."
   ]
  },
  {
   "cell_type": "code",
   "execution_count": 65,
   "id": "e809b424",
   "metadata": {},
   "outputs": [],
   "source": [
    "def rec_system(vectorizer, sentiment, product_list, product_name):\n",
    "    '''\n",
    "    \n",
    "    The purpose of this function is to recommend products based on the predicted\n",
    "    sentiment and product name.\n",
    "    \n",
    "    The inputs to this function includes the vectorizer model, the sentiment of \n",
    "    the review text, the list of products, product name to be used for \n",
    "    recommending other products.\n",
    "    \n",
    "    \n",
    "    Parameters\n",
    "    ----------\n",
    "    vectorizer = sklearn.feature_extraction.text.TfidfVectorizer (Vectorizer model)\n",
    "    sentiment = int\n",
    "    product_list = pandas.core.frame.DataFrame\n",
    "    product_name = str \n",
    "    \n",
    "    \n",
    "    Returns\n",
    "    --------\n",
    "    Recommended Product list\n",
    "    \n",
    "    '''\n",
    "    \n",
    "    # Transform the description\n",
    "    TF_matrix = vectorizer.transform(product_list['description_0'])\n",
    "    \n",
    "    # Determine the index of the product of recommendation\n",
    "    product_index = product_list[product_list['title'] == product_name].index\n",
    "    \n",
    "    # Get the TF matrix of the required product\n",
    "    TF_matrix_product = TF_matrix[product_index]\n",
    "    \n",
    "    # Determine the similarity between the product and everything else\n",
    "    product_similarities = cosine_similarity(TF_matrix,TF_matrix_product, dense_output = False)\n",
    "    \n",
    "    # \n",
    "    single_df = pd.DataFrame({'item':product_list['title'], \n",
    "                       'similarities': np.array(product_similarities.todense()).squeeze()})\n",
    "    \n",
    "    # Sort the products by similarity\n",
    "    single_df_sorted = single_df.sort_values(by = 'similarities', ascending = False)\n",
    "    \n",
    "    \n",
    "    # When the sentiment is positive, recommend the top 10 most similar products\n",
    "    if sentiment == 1:\n",
    "        recommended_products = single_df_sorted.head(10)\n",
    "    \n",
    "    # Recommend 10 products randomly from the top 100 most similar products\n",
    "    else:\n",
    "        # Split out the top 100 recommended_products\n",
    "        top_100 = single_df_sorted.iloc[:100].reset_index(drop = True)\n",
    "        \n",
    "        # Randomly sample 10 numbers between 0 and 99\n",
    "        ran_num = random.sample(range(0, 100), 10)\n",
    "        \n",
    "        # Find the index where the ran_num exists in the top 100 recommended products\n",
    "        top_100_index = top_100.index.isin(ran_num)\n",
    "        \n",
    "        # Determine recommended products\n",
    "        recommended_products = top_100[top_100_index]\n",
    "        \n",
    "    return recommended_products.reset_index(drop = True)"
   ]
  },
  {
   "cell_type": "markdown",
   "id": "94489094",
   "metadata": {},
   "source": [
    "## 3.4 Test out recommendation system<a class ='anchor' id='3.4_test_recommendation'></a>"
   ]
  },
  {
   "cell_type": "code",
   "execution_count": 66,
   "id": "854d1613",
   "metadata": {
    "scrolled": true
   },
   "outputs": [
    {
     "data": {
      "text/html": [
       "<div>\n",
       "<style scoped>\n",
       "    .dataframe tbody tr th:only-of-type {\n",
       "        vertical-align: middle;\n",
       "    }\n",
       "\n",
       "    .dataframe tbody tr th {\n",
       "        vertical-align: top;\n",
       "    }\n",
       "\n",
       "    .dataframe thead th {\n",
       "        text-align: right;\n",
       "    }\n",
       "</style>\n",
       "<table border=\"1\" class=\"dataframe\">\n",
       "  <thead>\n",
       "    <tr style=\"text-align: right;\">\n",
       "      <th></th>\n",
       "      <th>item</th>\n",
       "      <th>similarities</th>\n",
       "    </tr>\n",
       "  </thead>\n",
       "  <tbody>\n",
       "    <tr>\n",
       "      <th>0</th>\n",
       "      <td>American Eats: Holiday Foods</td>\n",
       "      <td>0.256991</td>\n",
       "    </tr>\n",
       "    <tr>\n",
       "      <th>1</th>\n",
       "      <td>Love Is the Devil</td>\n",
       "      <td>0.185373</td>\n",
       "    </tr>\n",
       "    <tr>\n",
       "      <th>2</th>\n",
       "      <td>Surf, Turf &amp;amp; A Side (Good Eats Vol. 14)</td>\n",
       "      <td>0.180079</td>\n",
       "    </tr>\n",
       "    <tr>\n",
       "      <th>3</th>\n",
       "      <td>Strawberry Shortcake - Get Well Adventure</td>\n",
       "      <td>0.144364</td>\n",
       "    </tr>\n",
       "    <tr>\n",
       "      <th>4</th>\n",
       "      <td>Dare To Cook: Barbecue &amp;amp; Grilling</td>\n",
       "      <td>0.139608</td>\n",
       "    </tr>\n",
       "    <tr>\n",
       "      <th>5</th>\n",
       "      <td>Floyd Mayweather jr. Boxing DVD Collection</td>\n",
       "      <td>0.131203</td>\n",
       "    </tr>\n",
       "    <tr>\n",
       "      <th>6</th>\n",
       "      <td>Untold Secrets of the Civil War/American India...</td>\n",
       "      <td>0.125405</td>\n",
       "    </tr>\n",
       "    <tr>\n",
       "      <th>7</th>\n",
       "      <td>Partying 101: (Bio Dome / P.C.U. / Back to Sch...</td>\n",
       "      <td>0.124416</td>\n",
       "    </tr>\n",
       "    <tr>\n",
       "      <th>8</th>\n",
       "      <td>Strawberry Shortcake - Berry, Merry Christmas</td>\n",
       "      <td>0.123068</td>\n",
       "    </tr>\n",
       "    <tr>\n",
       "      <th>9</th>\n",
       "      <td>Elvis Presley MGM Movie Legends Collection: (C...</td>\n",
       "      <td>0.121558</td>\n",
       "    </tr>\n",
       "  </tbody>\n",
       "</table>\n",
       "</div>"
      ],
      "text/plain": [
       "                                                item  similarities\n",
       "0                       American Eats: Holiday Foods      0.256991\n",
       "1                                  Love Is the Devil      0.185373\n",
       "2        Surf, Turf &amp; A Side (Good Eats Vol. 14)      0.180079\n",
       "3          Strawberry Shortcake - Get Well Adventure      0.144364\n",
       "4              Dare To Cook: Barbecue &amp; Grilling      0.139608\n",
       "5         Floyd Mayweather jr. Boxing DVD Collection      0.131203\n",
       "6  Untold Secrets of the Civil War/American India...      0.125405\n",
       "7  Partying 101: (Bio Dome / P.C.U. / Back to Sch...      0.124416\n",
       "8      Strawberry Shortcake - Berry, Merry Christmas      0.123068\n",
       "9  Elvis Presley MGM Movie Legends Collection: (C...      0.121558"
      ]
     },
     "execution_count": 66,
     "metadata": {},
     "output_type": "execute_result"
    }
   ],
   "source": [
    "# Test out recommendation system\n",
    "\n",
    "rec_system(file_vectorizer, 0 ,rec_df,'Rise and Swine (Good Eats Vol. 7)')"
   ]
  },
  {
   "cell_type": "markdown",
   "id": "7d778cb9",
   "metadata": {},
   "source": [
    "## 3.5 Evaluate recommendation system<a class ='anchor' id='3.5_evaluate_recommendation'></a>"
   ]
  },
  {
   "cell_type": "markdown",
   "id": "2717830f",
   "metadata": {},
   "source": [
    "Sample tests can be a movie review + the rating -> Feed into model, Output top 10 movies the person may like."
   ]
  },
  {
   "cell_type": "markdown",
   "id": "5bfc8acf",
   "metadata": {},
   "source": [
    "Use reviews and movie descriptions to determine which movies to recommend based off of if the person rated the movie highly or not."
   ]
  },
  {
   "cell_type": "code",
   "execution_count": null,
   "id": "0e1d40b9",
   "metadata": {},
   "outputs": [],
   "source": []
  },
  {
   "cell_type": "markdown",
   "id": "3e247f39",
   "metadata": {},
   "source": [
    "# 4. Conclusion and Future Works<a class ='anchor' id='4Conclusion'></a>"
   ]
  },
  {
   "cell_type": "code",
   "execution_count": null,
   "id": "5f168c98",
   "metadata": {},
   "outputs": [],
   "source": []
  }
 ],
 "metadata": {
  "kernelspec": {
   "display_name": "Python 3",
   "language": "python",
   "name": "python3"
  },
  "language_info": {
   "codemirror_mode": {
    "name": "ipython",
    "version": 3
   },
   "file_extension": ".py",
   "mimetype": "text/x-python",
   "name": "python",
   "nbconvert_exporter": "python",
   "pygments_lexer": "ipython3",
   "version": "3.8.8"
  },
  "vscode": {
   "interpreter": {
    "hash": "b0b87898d849d5a7e2d74c069a53aa09ad9f1d9b21997adfe24015fe0f36f48c"
   }
  }
 },
 "nbformat": 4,
 "nbformat_minor": 5
}
