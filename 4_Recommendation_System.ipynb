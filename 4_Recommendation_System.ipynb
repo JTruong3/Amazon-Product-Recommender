{
 "cells": [
  {
   "cell_type": "markdown",
   "id": "2aadb5bf",
   "metadata": {},
   "source": [
    "# Amazon Product Recommender"
   ]
  },
  {
   "cell_type": "markdown",
   "id": "1e62d0f5",
   "metadata": {},
   "source": [
    "**Jason Truong**  **|**  Jasontruong19@gmail.com  **|**  September 25, 2022"
   ]
  },
  {
   "cell_type": "markdown",
   "id": "a601b21f",
   "metadata": {},
   "source": [
    "**Problem Statement:** based on a person’s review of a product, can items of similar properties be recommended to them such that they are more inclined to buy the item? This project adds business value by improving the customer buying experience on Amazon through personalized recommendations for products. These recommendations influence customer purchases by making it easier for customers to find similar products. "
   ]
  },
  {
   "cell_type": "markdown",
   "id": "5e319ece",
   "metadata": {},
   "source": [
    "***"
   ]
  },
  {
   "cell_type": "markdown",
   "id": "9839f88d",
   "metadata": {},
   "source": [
    "# 4 Recommendation System"
   ]
  },
  {
   "cell_type": "markdown",
   "id": "95e9f599",
   "metadata": {},
   "source": [
    "**Note**: This is notebook **5 of 5** for building the recommendation system."
   ]
  },
  {
   "cell_type": "markdown",
   "id": "cb3118e6",
   "metadata": {},
   "source": [
    "# Table of Contents\n",
    "\n",
    "1. **[Introduction](#1Introduction)**  \n",
    "2. **[Preliminary Data Setup](#2Preliminary)**   \n",
    "3. **[Content Based Recommendation](#3Content_Recommend)**  \n",
    "    3.1 [Comparison Between All Products](#3.1_comparision)  \n",
    "    3.2 [Evaluate Recommendation System](#3.2_evaluate_recommendation)  \n",
    "    3.3 [Single Product Comparison](#3.3_single_product)  \n",
    "    3.4 [Save Vectorizer Model](#3.4_save_vectorizer)  \n",
    "    3.5 [Recommendation Function](#3.5_recommend_function)  \n",
    "    3.6 [Test Recommendation System](#3.6_test_recommendation)    \n",
    "4. **[Conclusion and Future Works](#4Conclusion)**  "
   ]
  },
  {
   "cell_type": "markdown",
   "id": "3996e6a2",
   "metadata": {},
   "source": [
    "# 1. Introduction<a class ='anchor' id='1Introduction'></a>"
   ]
  },
  {
   "cell_type": "markdown",
   "id": "66e2193e",
   "metadata": {},
   "source": [
    "In the previous notebook, the sentiment was predicted using machine learning models. The predicted sentiment can be used in conjunction with a content-based filtering method to recommend similar products for the user. This notebook will focus on developing and evaluating a content-based recommendation system."
   ]
  },
  {
   "cell_type": "markdown",
   "id": "e02aa52c",
   "metadata": {},
   "source": [
    "# 2. Preliminary Data Setup<a class ='anchor' id='2Preliminary'></a>"
   ]
  },
  {
   "cell_type": "markdown",
   "id": "c12a6a07",
   "metadata": {},
   "source": [
    "The necessary base packages will be imported below."
   ]
  },
  {
   "cell_type": "code",
   "execution_count": 1,
   "id": "677d06a1",
   "metadata": {},
   "outputs": [],
   "source": [
    "import json\n",
    "import pandas as pd\n",
    "import numpy as np\n",
    "import matplotlib.pyplot as plt\n",
    "import pickle\n",
    "import random\n",
    "\n",
    "# Ignore warnings\n",
    "import warnings\n",
    "warnings.filterwarnings('ignore')"
   ]
  },
  {
   "cell_type": "markdown",
   "id": "48487750",
   "metadata": {},
   "source": [
    "The product meta data will be loaded in."
   ]
  },
  {
   "cell_type": "code",
   "execution_count": 2,
   "id": "b642c905",
   "metadata": {},
   "outputs": [],
   "source": [
    "# load data\n",
    "meta_df = pd.read_csv('clean_meta.csv')"
   ]
  },
  {
   "cell_type": "markdown",
   "id": "31078676",
   "metadata": {},
   "source": [
    "Check the description column and ensure that there are no null values"
   ]
  },
  {
   "cell_type": "code",
   "execution_count": 3,
   "id": "adb4b6d3",
   "metadata": {},
   "outputs": [
    {
     "data": {
      "text/plain": [
       "1748"
      ]
     },
     "execution_count": 3,
     "metadata": {},
     "output_type": "execute_result"
    }
   ],
   "source": [
    "meta_df['description_0'].isna().sum()"
   ]
  },
  {
   "cell_type": "markdown",
   "id": "c4aeb63a",
   "metadata": {},
   "source": [
    "There seems to be null values in the description although they were all removed in the preprocessing notebook. Thus these null values will be replaced with an empty string ''."
   ]
  },
  {
   "cell_type": "code",
   "execution_count": 4,
   "id": "8b01c8fa",
   "metadata": {},
   "outputs": [
    {
     "data": {
      "text/plain": [
       "0"
      ]
     },
     "execution_count": 4,
     "metadata": {},
     "output_type": "execute_result"
    }
   ],
   "source": [
    "# Ensure that the description column has no null values.\n",
    "meta_df['description_0'].fillna('', inplace = True)\n",
    "\n",
    "# Check results\n",
    "meta_df['description_0'].isna().sum()"
   ]
  },
  {
   "cell_type": "markdown",
   "id": "14f9d57f",
   "metadata": {},
   "source": [
    "There are no longer null values in the description column."
   ]
  },
  {
   "cell_type": "markdown",
   "id": "55ba19f2",
   "metadata": {},
   "source": [
    "# 3. Content Based Recommendation<a class ='anchor' id='3Content_Recommend'></a>"
   ]
  },
  {
   "cell_type": "markdown",
   "id": "1139d2b3",
   "metadata": {},
   "source": [
    "The first step is to use the descriptions of the different Amazon items, in this case, movies/tv shows to recommend similar products."
   ]
  },
  {
   "cell_type": "code",
   "execution_count": 5,
   "id": "4bf18b20",
   "metadata": {},
   "outputs": [],
   "source": [
    "# Take the description, title and product id from the metadata\n",
    "rec_df = meta_df[['title','description_0','product_id']].copy()"
   ]
  },
  {
   "cell_type": "markdown",
   "id": "68f04014",
   "metadata": {},
   "source": [
    "Start with a subset of the data since NLP can be computationally expensive."
   ]
  },
  {
   "cell_type": "code",
   "execution_count": 6,
   "id": "371a283a",
   "metadata": {},
   "outputs": [
    {
     "data": {
      "text/html": [
       "<div>\n",
       "<style scoped>\n",
       "    .dataframe tbody tr th:only-of-type {\n",
       "        vertical-align: middle;\n",
       "    }\n",
       "\n",
       "    .dataframe tbody tr th {\n",
       "        vertical-align: top;\n",
       "    }\n",
       "\n",
       "    .dataframe thead th {\n",
       "        text-align: right;\n",
       "    }\n",
       "</style>\n",
       "<table border=\"1\" class=\"dataframe\">\n",
       "  <thead>\n",
       "    <tr style=\"text-align: right;\">\n",
       "      <th></th>\n",
       "      <th>title</th>\n",
       "      <th>description_0</th>\n",
       "      <th>product_id</th>\n",
       "    </tr>\n",
       "  </thead>\n",
       "  <tbody>\n",
       "    <tr>\n",
       "      <th>0</th>\n",
       "      <td>My Fair Pastry (Good Eats Vol. 9)</td>\n",
       "      <td>Disc 1: Flour Power (Scones; Shortcakes; South...</td>\n",
       "      <td>0000143529</td>\n",
       "    </tr>\n",
       "    <tr>\n",
       "      <th>1</th>\n",
       "      <td>Barefoot Contessa (with Ina Garten), Entertain...</td>\n",
       "      <td>Barefoot Contessa Volume 2: On these three dis...</td>\n",
       "      <td>0000143588</td>\n",
       "    </tr>\n",
       "    <tr>\n",
       "      <th>2</th>\n",
       "      <td>Rise and Swine (Good Eats Vol. 7)</td>\n",
       "      <td>Rise and Swine (Good Eats Vol. 7) includes bon...</td>\n",
       "      <td>0000143502</td>\n",
       "    </tr>\n",
       "    <tr>\n",
       "      <th>3</th>\n",
       "      <td>The Power of the Cross Joseph Prince</td>\n",
       "      <td>Have failures in your life caused you to feel ...</td>\n",
       "      <td>000073991X</td>\n",
       "    </tr>\n",
       "    <tr>\n",
       "      <th>4</th>\n",
       "      <td>Live in Houston [VHS]</td>\n",
       "      <td>Track Listings 1. Come On Everybody 2. My Stre...</td>\n",
       "      <td>000107461X</td>\n",
       "    </tr>\n",
       "  </tbody>\n",
       "</table>\n",
       "</div>"
      ],
      "text/plain": [
       "                                               title  \\\n",
       "0                  My Fair Pastry (Good Eats Vol. 9)   \n",
       "1  Barefoot Contessa (with Ina Garten), Entertain...   \n",
       "2                  Rise and Swine (Good Eats Vol. 7)   \n",
       "3               The Power of the Cross Joseph Prince   \n",
       "4                              Live in Houston [VHS]   \n",
       "\n",
       "                                       description_0  product_id  \n",
       "0  Disc 1: Flour Power (Scones; Shortcakes; South...  0000143529  \n",
       "1  Barefoot Contessa Volume 2: On these three dis...  0000143588  \n",
       "2  Rise and Swine (Good Eats Vol. 7) includes bon...  0000143502  \n",
       "3  Have failures in your life caused you to feel ...  000073991X  \n",
       "4  Track Listings 1. Come On Everybody 2. My Stre...  000107461X  "
      ]
     },
     "execution_count": 6,
     "metadata": {},
     "output_type": "execute_result"
    }
   ],
   "source": [
    "# A subset of 50000 rows will be used\n",
    "rec_df_subset = rec_df.iloc[0:50000,:]\n",
    "\n",
    "# Check results\n",
    "rec_df_subset.head()"
   ]
  },
  {
   "cell_type": "markdown",
   "id": "baf924c3",
   "metadata": {},
   "source": [
    "The next step is to turn the description into numeric features using a TF-IDF Vectorizer. "
   ]
  },
  {
   "cell_type": "code",
   "execution_count": 7,
   "id": "eaace08e",
   "metadata": {},
   "outputs": [],
   "source": [
    "from sklearn.feature_extraction.text import TfidfVectorizer\n",
    "\n",
    "# Define the vectorizer\n",
    "vectorizer = TfidfVectorizer(stop_words = 'english', min_df = 10)\n",
    "\n",
    "# Fit\n",
    "vectorizer.fit(rec_df_subset['description_0'])\n",
    "\n",
    "# Transform the description\n",
    "TF_matrix = vectorizer.transform(rec_df_subset['description_0'])"
   ]
  },
  {
   "cell_type": "markdown",
   "id": "503b4bf8",
   "metadata": {},
   "source": [
    "Now that the text is turned into numeric features, the cosine similarity can be determined."
   ]
  },
  {
   "cell_type": "markdown",
   "id": "7d569d8f",
   "metadata": {},
   "source": [
    "## 3.1 Comparision between all products<a class ='anchor' id='3.1_comparision'></a>"
   ]
  },
  {
   "cell_type": "markdown",
   "id": "96876764",
   "metadata": {},
   "source": [
    "The metric cosine similarity can be used to compare the products to see which products lie in a similar direction, meaning that they are similar to one another."
   ]
  },
  {
   "cell_type": "code",
   "execution_count": 8,
   "id": "0fcc747f",
   "metadata": {},
   "outputs": [],
   "source": [
    "from sklearn.metrics.pairwise import cosine_similarity\n",
    "\n",
    "# Get the index for the movie of interest\n",
    "movie_index = rec_df_subset[rec_df_subset['title'] =='My Fair Pastry (Good Eats Vol. 9)'].index\n",
    "\n",
    "# Determine the similarity between the movie and every other movie in the dataset\n",
    "mov_similarities = cosine_similarity(TF_matrix,dense_output = False)\n"
   ]
  },
  {
   "cell_type": "markdown",
   "id": "44fd6c97",
   "metadata": {},
   "source": [
    "Put results in a dataframe table for better visualization."
   ]
  },
  {
   "cell_type": "code",
   "execution_count": 9,
   "id": "763f26ef",
   "metadata": {},
   "outputs": [],
   "source": [
    "# Store results in a dataframe\n",
    "sim_df = pd.DataFrame({'item':rec_df_subset['title'], \n",
    "                       'similarities': np.array(mov_similarities[movie_index,:].todense()).squeeze()})"
   ]
  },
  {
   "cell_type": "markdown",
   "id": "9e23efad",
   "metadata": {},
   "source": [
    "List of the top recommended products based on similarities."
   ]
  },
  {
   "cell_type": "code",
   "execution_count": 10,
   "id": "21f49a8b",
   "metadata": {
    "scrolled": true
   },
   "outputs": [
    {
     "data": {
      "text/html": [
       "<div>\n",
       "<style scoped>\n",
       "    .dataframe tbody tr th:only-of-type {\n",
       "        vertical-align: middle;\n",
       "    }\n",
       "\n",
       "    .dataframe tbody tr th {\n",
       "        vertical-align: top;\n",
       "    }\n",
       "\n",
       "    .dataframe thead th {\n",
       "        text-align: right;\n",
       "    }\n",
       "</style>\n",
       "<table border=\"1\" class=\"dataframe\">\n",
       "  <thead>\n",
       "    <tr style=\"text-align: right;\">\n",
       "      <th></th>\n",
       "      <th>item</th>\n",
       "      <th>similarities</th>\n",
       "    </tr>\n",
       "  </thead>\n",
       "  <tbody>\n",
       "    <tr>\n",
       "      <th>0</th>\n",
       "      <td>My Fair Pastry (Good Eats Vol. 9)</td>\n",
       "      <td>1.000000</td>\n",
       "    </tr>\n",
       "    <tr>\n",
       "      <th>21171</th>\n",
       "      <td>Great Chefs: Chocolate Passion</td>\n",
       "      <td>0.279596</td>\n",
       "    </tr>\n",
       "    <tr>\n",
       "      <th>30335</th>\n",
       "      <td>Raquel Welch Collection: (One Million Years B....</td>\n",
       "      <td>0.237981</td>\n",
       "    </tr>\n",
       "    <tr>\n",
       "      <th>22417</th>\n",
       "      <td>American Pie / American Pie 2</td>\n",
       "      <td>0.230922</td>\n",
       "    </tr>\n",
       "    <tr>\n",
       "      <th>24160</th>\n",
       "      <td>Angelina Ballerina - Friends Forever</td>\n",
       "      <td>0.226967</td>\n",
       "    </tr>\n",
       "    <tr>\n",
       "      <th>28781</th>\n",
       "      <td>The Ultimate Chick Flick Collection: (The Bang...</td>\n",
       "      <td>0.225391</td>\n",
       "    </tr>\n",
       "    <tr>\n",
       "      <th>30291</th>\n",
       "      <td>Penthouse: Sweet Chocolate</td>\n",
       "      <td>0.216746</td>\n",
       "    </tr>\n",
       "    <tr>\n",
       "      <th>29017</th>\n",
       "      <td>Sweet Addition - Breakfast Pastries w/ Daniell...</td>\n",
       "      <td>0.216039</td>\n",
       "    </tr>\n",
       "    <tr>\n",
       "      <th>29728</th>\n",
       "      <td>The Sidney Poitier Collection: (For Love of Iv...</td>\n",
       "      <td>0.215795</td>\n",
       "    </tr>\n",
       "    <tr>\n",
       "      <th>37041</th>\n",
       "      <td>Jacques Pepin&amp;rsquo;s Summertime Celebration</td>\n",
       "      <td>0.215467</td>\n",
       "    </tr>\n",
       "  </tbody>\n",
       "</table>\n",
       "</div>"
      ],
      "text/plain": [
       "                                                    item  similarities\n",
       "0                      My Fair Pastry (Good Eats Vol. 9)      1.000000\n",
       "21171                     Great Chefs: Chocolate Passion      0.279596\n",
       "30335  Raquel Welch Collection: (One Million Years B....      0.237981\n",
       "22417                      American Pie / American Pie 2      0.230922\n",
       "24160               Angelina Ballerina - Friends Forever      0.226967\n",
       "28781  The Ultimate Chick Flick Collection: (The Bang...      0.225391\n",
       "30291                         Penthouse: Sweet Chocolate      0.216746\n",
       "29017  Sweet Addition - Breakfast Pastries w/ Daniell...      0.216039\n",
       "29728  The Sidney Poitier Collection: (For Love of Iv...      0.215795\n",
       "37041       Jacques Pepin&rsquo;s Summertime Celebration      0.215467"
      ]
     },
     "execution_count": 10,
     "metadata": {},
     "output_type": "execute_result"
    }
   ],
   "source": [
    "# Sort the values by descending to find the most similar\n",
    "top_recommend = sim_df.sort_values(by = 'similarities', ascending = False)[0:10]\n",
    "\n",
    "# Check results\n",
    "top_recommend"
   ]
  },
  {
   "cell_type": "code",
   "execution_count": 11,
   "id": "0da1a044",
   "metadata": {},
   "outputs": [
    {
     "data": {
      "text/plain": [
       "21171"
      ]
     },
     "execution_count": 11,
     "metadata": {},
     "output_type": "execute_result"
    }
   ],
   "source": [
    "top_recommend.iloc[1].name"
   ]
  },
  {
   "cell_type": "markdown",
   "id": "9168f1cb",
   "metadata": {},
   "source": [
    "Determine the top recommendations in the dataset."
   ]
  },
  {
   "cell_type": "code",
   "execution_count": 12,
   "id": "4374e6d2",
   "metadata": {},
   "outputs": [],
   "source": [
    "# Store the index of the best recommended items\n",
    "best_rec = []\n",
    "\n",
    "for i in range(0,50000):\n",
    "    \n",
    "    # Put results in a dataframe to \n",
    "    sim_df = pd.DataFrame({'item':rec_df_subset['title'], \n",
    "                       'similarities': np.array(mov_similarities[i,:].todense()).squeeze()})\n",
    "    \n",
    "    # Sort the values by descending to find the most similar\n",
    "    top_recommend = sim_df.sort_values(by = 'similarities', ascending = False)[0:10]\n",
    "    \n",
    "    # Find the product indices that have atleast 80% similarities\n",
    "    if top_recommend.iloc[1]['similarities'] > 0.5 and top_recommend.iloc[1]['similarities'] < 1:\n",
    "        best_rec.append(top_recommend.iloc[0].name)\n",
    "        "
   ]
  },
  {
   "cell_type": "code",
   "execution_count": 13,
   "id": "e0188bce",
   "metadata": {},
   "outputs": [
    {
     "name": "stdout",
     "output_type": "stream",
     "text": [
      "There are 10558 products that have items that are at least 80% similar to them.\n"
     ]
    }
   ],
   "source": [
    "print(f'There are {len(best_rec)} products that have items that are at least 80% similar to them.')"
   ]
  },
  {
   "cell_type": "code",
   "execution_count": 14,
   "id": "c83cc4d5",
   "metadata": {},
   "outputs": [
    {
     "data": {
      "text/html": [
       "<div>\n",
       "<style scoped>\n",
       "    .dataframe tbody tr th:only-of-type {\n",
       "        vertical-align: middle;\n",
       "    }\n",
       "\n",
       "    .dataframe tbody tr th {\n",
       "        vertical-align: top;\n",
       "    }\n",
       "\n",
       "    .dataframe thead th {\n",
       "        text-align: right;\n",
       "    }\n",
       "</style>\n",
       "<table border=\"1\" class=\"dataframe\">\n",
       "  <thead>\n",
       "    <tr style=\"text-align: right;\">\n",
       "      <th></th>\n",
       "      <th>item</th>\n",
       "      <th>similarities</th>\n",
       "    </tr>\n",
       "  </thead>\n",
       "  <tbody>\n",
       "    <tr>\n",
       "      <th>9</th>\n",
       "      <td>Praise Aerobics VHS</td>\n",
       "      <td>1.000000</td>\n",
       "    </tr>\n",
       "    <tr>\n",
       "      <th>8630</th>\n",
       "      <td>Richard Simmons - Disco Sweat</td>\n",
       "      <td>0.727897</td>\n",
       "    </tr>\n",
       "    <tr>\n",
       "      <th>47294</th>\n",
       "      <td>Low Impact, High Intensity with Charlene Prickett</td>\n",
       "      <td>0.677509</td>\n",
       "    </tr>\n",
       "    <tr>\n",
       "      <th>8723</th>\n",
       "      <td>Low Impact Aerobics VHS</td>\n",
       "      <td>0.660788</td>\n",
       "    </tr>\n",
       "    <tr>\n",
       "      <th>9368</th>\n",
       "      <td>Weight Watchers: Low Impact Aerobics VHS</td>\n",
       "      <td>0.483444</td>\n",
       "    </tr>\n",
       "    <tr>\n",
       "      <th>44038</th>\n",
       "      <td>Rev Up - The Sequel</td>\n",
       "      <td>0.481968</td>\n",
       "    </tr>\n",
       "    <tr>\n",
       "      <th>6555</th>\n",
       "      <td>Aerobicise 2000 - A Workout For The Next Gener...</td>\n",
       "      <td>0.457063</td>\n",
       "    </tr>\n",
       "    <tr>\n",
       "      <th>37899</th>\n",
       "      <td>Cathe Friedrich's Low Max DVD</td>\n",
       "      <td>0.436477</td>\n",
       "    </tr>\n",
       "    <tr>\n",
       "      <th>8638</th>\n",
       "      <td>Mary Tyler Moore: Everywoman's Workout Aerobic...</td>\n",
       "      <td>0.429791</td>\n",
       "    </tr>\n",
       "    <tr>\n",
       "      <th>38748</th>\n",
       "      <td>Superbody: Aerobics Plus ! Created By Deborah ...</td>\n",
       "      <td>0.414496</td>\n",
       "    </tr>\n",
       "  </tbody>\n",
       "</table>\n",
       "</div>"
      ],
      "text/plain": [
       "                                                    item  similarities\n",
       "9                                    Praise Aerobics VHS      1.000000\n",
       "8630                       Richard Simmons - Disco Sweat      0.727897\n",
       "47294  Low Impact, High Intensity with Charlene Prickett      0.677509\n",
       "8723                             Low Impact Aerobics VHS      0.660788\n",
       "9368            Weight Watchers: Low Impact Aerobics VHS      0.483444\n",
       "44038                                Rev Up - The Sequel      0.481968\n",
       "6555   Aerobicise 2000 - A Workout For The Next Gener...      0.457063\n",
       "37899                      Cathe Friedrich's Low Max DVD      0.436477\n",
       "8638   Mary Tyler Moore: Everywoman's Workout Aerobic...      0.429791\n",
       "38748  Superbody: Aerobics Plus ! Created By Deborah ...      0.414496"
      ]
     },
     "execution_count": 14,
     "metadata": {},
     "output_type": "execute_result"
    }
   ],
   "source": [
    "sim_df = pd.DataFrame({'item':rec_df_subset['title'], \n",
    "                       'similarities': np.array(mov_similarities[best_rec[0],:].todense()).squeeze()})\n",
    "\n",
    "# Sort the values by descending to find the most similar\n",
    "top_recommend = sim_df.sort_values(by = 'similarities', ascending = False)[0:10]\n",
    "\n",
    "# Check results\n",
    "top_recommend"
   ]
  },
  {
   "cell_type": "markdown",
   "id": "af14af04",
   "metadata": {},
   "source": [
    "The first and second product descriptions can be viewed to determine how they are similar to one another."
   ]
  },
  {
   "cell_type": "markdown",
   "id": "266ff0d8",
   "metadata": {},
   "source": [
    "## 3.2 Evaluate recommendation system<a class ='anchor' id='3.2_evaluate_recommendation'></a>"
   ]
  },
  {
   "cell_type": "markdown",
   "id": "9fd7967b",
   "metadata": {},
   "source": [
    "**Check the actual descriptions to see if products are similar.**"
   ]
  },
  {
   "cell_type": "markdown",
   "id": "93337590",
   "metadata": {},
   "source": [
    "Get the indices for the first 2 items."
   ]
  },
  {
   "cell_type": "code",
   "execution_count": 15,
   "id": "b2b03016",
   "metadata": {},
   "outputs": [],
   "source": [
    "index_1 = top_recommend.iloc[0].name\n",
    "index_2 = top_recommend.iloc[1].name"
   ]
  },
  {
   "cell_type": "code",
   "execution_count": 16,
   "id": "55234e2b",
   "metadata": {},
   "outputs": [
    {
     "data": {
      "text/plain": [
       "'Praise Aerobics - A low-intensity/high-intesity low impact aerobic workout.'"
      ]
     },
     "execution_count": 16,
     "metadata": {},
     "output_type": "execute_result"
    }
   ],
   "source": [
    "rec_df_subset['description_0'][index_1]"
   ]
  },
  {
   "cell_type": "code",
   "execution_count": 17,
   "id": "a5557d0d",
   "metadata": {},
   "outputs": [
    {
     "data": {
      "text/plain": [
       "'low-impact aerobic workout'"
      ]
     },
     "execution_count": 17,
     "metadata": {},
     "output_type": "execute_result"
    }
   ],
   "source": [
    "rec_df_subset['description_0'][index_2]"
   ]
  },
  {
   "cell_type": "markdown",
   "id": "4818d16c",
   "metadata": {},
   "source": [
    "The descriptions above both contain the words 'low impact aerobic workout' which explains why there is a high similarity between the two. "
   ]
  },
  {
   "cell_type": "markdown",
   "id": "67eadc39",
   "metadata": {},
   "source": [
    "Calculate the proportion of items that have an >80% similarity. 50,000 descriptions were sampled so that will be used in calculating the proportion."
   ]
  },
  {
   "cell_type": "code",
   "execution_count": 18,
   "id": "9da8d645",
   "metadata": {},
   "outputs": [
    {
     "data": {
      "text/plain": [
       "21.176000000000002"
      ]
     },
     "execution_count": 18,
     "metadata": {},
     "output_type": "execute_result"
    }
   ],
   "source": [
    "(10588/50000)*100"
   ]
  },
  {
   "cell_type": "markdown",
   "id": "a98ce301",
   "metadata": {},
   "source": [
    "From the above, ~21.2% of the products have over 80% similarity, which shows the strength of this filtering method. For future works, different filtering methods such as item-item or user-to-item can be tested to determine if those methods result in better performance."
   ]
  },
  {
   "cell_type": "markdown",
   "id": "bbdea92a",
   "metadata": {},
   "source": [
    "This above approach in recommending products take a lot of computation power and memory because the cosine similarity between every product is computed. A more efficient way is to compare only the product that is chosen with every other product."
   ]
  },
  {
   "cell_type": "markdown",
   "id": "c372aa42",
   "metadata": {},
   "source": [
    "## 3.3 One Product Comparision<a class ='anchor' id='3.3_single_product'></a>"
   ]
  },
  {
   "cell_type": "markdown",
   "id": "48441ea7",
   "metadata": {},
   "source": [
    "Find the cosine similarity for the requested product instead of generating the cosine similarity for all the products."
   ]
  },
  {
   "cell_type": "code",
   "execution_count": 19,
   "id": "bb4eee0a",
   "metadata": {},
   "outputs": [
    {
     "data": {
      "text/plain": [
       "TfidfVectorizer(min_df=10, stop_words='english')"
      ]
     },
     "execution_count": 19,
     "metadata": {},
     "output_type": "execute_result"
    }
   ],
   "source": [
    "# Define the vectorizer\n",
    "vectorizer2 = TfidfVectorizer(stop_words = 'english', min_df = 10)\n",
    "\n",
    "# Fit\n",
    "vectorizer2.fit(rec_df['description_0'])\n"
   ]
  },
  {
   "cell_type": "markdown",
   "id": "e94e1a31",
   "metadata": {},
   "source": [
    "Now that the vectorizer has been fitted, it can be used to transform the descriptions."
   ]
  },
  {
   "cell_type": "code",
   "execution_count": 20,
   "id": "0a783dc2",
   "metadata": {},
   "outputs": [
    {
     "data": {
      "text/plain": [
       "(156481, 39048)"
      ]
     },
     "execution_count": 20,
     "metadata": {},
     "output_type": "execute_result"
    }
   ],
   "source": [
    "# Transform the description\n",
    "TF_matrix = vectorizer2.transform(rec_df['description_0'])\n",
    "\n",
    "TF_matrix.shape\n",
    "# Check the shape"
   ]
  },
  {
   "cell_type": "markdown",
   "id": "f28582c3",
   "metadata": {},
   "source": [
    "The new matrix contains 156481 products and 39048 features for each product."
   ]
  },
  {
   "cell_type": "markdown",
   "id": "12b0f56c",
   "metadata": {},
   "source": [
    "A sample movie will be used to determine the similarity below."
   ]
  },
  {
   "cell_type": "code",
   "execution_count": 21,
   "id": "30c7e3af",
   "metadata": {},
   "outputs": [],
   "source": [
    "# Determine the index of the movie\n",
    "movie_index = rec_df_subset[rec_df_subset['title'] =='Rise and Swine (Good Eats Vol. 7)'].index"
   ]
  },
  {
   "cell_type": "code",
   "execution_count": 22,
   "id": "044d48f4",
   "metadata": {},
   "outputs": [],
   "source": [
    "TF_matrix_product = vectorizer2.transform(rec_df_subset['description_0'][movie_index])"
   ]
  },
  {
   "cell_type": "code",
   "execution_count": 23,
   "id": "dce716c4",
   "metadata": {},
   "outputs": [
    {
     "data": {
      "text/plain": [
       "(1, 39048)"
      ]
     },
     "execution_count": 23,
     "metadata": {},
     "output_type": "execute_result"
    }
   ],
   "source": [
    "# Check the shape of the transformed description\n",
    "TF_matrix_product.shape"
   ]
  },
  {
   "cell_type": "markdown",
   "id": "05c77602",
   "metadata": {},
   "source": [
    "The specific product is obtained by indexing the above. The above product can now be compared with every other product in the dataset."
   ]
  },
  {
   "cell_type": "code",
   "execution_count": 24,
   "id": "4e11fdf7",
   "metadata": {},
   "outputs": [
    {
     "data": {
      "text/plain": [
       "<156481x1 sparse matrix of type '<class 'numpy.float64'>'\n",
       "\twith 55953 stored elements in Compressed Sparse Row format>"
      ]
     },
     "execution_count": 24,
     "metadata": {},
     "output_type": "execute_result"
    }
   ],
   "source": [
    "# Find the similarity between the chosen product with every other product in the dataset\n",
    "mov_similarities = cosine_similarity(TF_matrix,TF_matrix_product, dense_output = False)\n",
    "\n",
    "# Check output results\n",
    "mov_similarities"
   ]
  },
  {
   "cell_type": "markdown",
   "id": "d3e02ce4",
   "metadata": {},
   "source": [
    "The shape of the matrix makes sense because there is a similarity score between the requested product and every other product in the dataset."
   ]
  },
  {
   "cell_type": "code",
   "execution_count": 25,
   "id": "16343401",
   "metadata": {},
   "outputs": [],
   "source": [
    "# Convert the movie similarities output into a dataframe\n",
    "single_df = pd.DataFrame({'item':rec_df['title'], \n",
    "                       'similarities': np.array(mov_similarities.todense()).squeeze()})"
   ]
  },
  {
   "cell_type": "code",
   "execution_count": 26,
   "id": "b7c14f11",
   "metadata": {
    "scrolled": true
   },
   "outputs": [
    {
     "data": {
      "text/html": [
       "<div>\n",
       "<style scoped>\n",
       "    .dataframe tbody tr th:only-of-type {\n",
       "        vertical-align: middle;\n",
       "    }\n",
       "\n",
       "    .dataframe tbody tr th {\n",
       "        vertical-align: top;\n",
       "    }\n",
       "\n",
       "    .dataframe thead th {\n",
       "        text-align: right;\n",
       "    }\n",
       "</style>\n",
       "<table border=\"1\" class=\"dataframe\">\n",
       "  <thead>\n",
       "    <tr style=\"text-align: right;\">\n",
       "      <th></th>\n",
       "      <th>item</th>\n",
       "      <th>similarities</th>\n",
       "    </tr>\n",
       "  </thead>\n",
       "  <tbody>\n",
       "    <tr>\n",
       "      <th>2</th>\n",
       "      <td>Rise and Swine (Good Eats Vol. 7)</td>\n",
       "      <td>1.000000</td>\n",
       "    </tr>\n",
       "    <tr>\n",
       "      <th>76483</th>\n",
       "      <td>Good Eats with Alton Brown Vol. 12</td>\n",
       "      <td>0.301367</td>\n",
       "    </tr>\n",
       "    <tr>\n",
       "      <th>94294</th>\n",
       "      <td>American Eats: Holiday Foods</td>\n",
       "      <td>0.256991</td>\n",
       "    </tr>\n",
       "    <tr>\n",
       "      <th>61427</th>\n",
       "      <td>Food Network: Good Eats with Alton Brown - Bre...</td>\n",
       "      <td>0.247336</td>\n",
       "    </tr>\n",
       "    <tr>\n",
       "      <th>92830</th>\n",
       "      <td>Good Eats with Alton Brown - Holiday Treats (R...</td>\n",
       "      <td>0.244306</td>\n",
       "    </tr>\n",
       "    <tr>\n",
       "      <th>99539</th>\n",
       "      <td>Food Network Takeout Collection DVD - Good Eat...</td>\n",
       "      <td>0.243199</td>\n",
       "    </tr>\n",
       "    <tr>\n",
       "      <th>94305</th>\n",
       "      <td>American Eats: Hot Dogs</td>\n",
       "      <td>0.236412</td>\n",
       "    </tr>\n",
       "    <tr>\n",
       "      <th>76760</th>\n",
       "      <td>Good Eats: Cupboard Cuisine - Volume 11</td>\n",
       "      <td>0.224773</td>\n",
       "    </tr>\n",
       "    <tr>\n",
       "      <th>94298</th>\n",
       "      <td>American Eats</td>\n",
       "      <td>0.213358</td>\n",
       "    </tr>\n",
       "    <tr>\n",
       "      <th>95611</th>\n",
       "      <td>Kitchen Wisdom from Good Eats (Good Eats Vol. 20)</td>\n",
       "      <td>0.202247</td>\n",
       "    </tr>\n",
       "  </tbody>\n",
       "</table>\n",
       "</div>"
      ],
      "text/plain": [
       "                                                    item  similarities\n",
       "2                      Rise and Swine (Good Eats Vol. 7)      1.000000\n",
       "76483                 Good Eats with Alton Brown Vol. 12      0.301367\n",
       "94294                       American Eats: Holiday Foods      0.256991\n",
       "61427  Food Network: Good Eats with Alton Brown - Bre...      0.247336\n",
       "92830  Good Eats with Alton Brown - Holiday Treats (R...      0.244306\n",
       "99539  Food Network Takeout Collection DVD - Good Eat...      0.243199\n",
       "94305                            American Eats: Hot Dogs      0.236412\n",
       "76760            Good Eats: Cupboard Cuisine - Volume 11      0.224773\n",
       "94298                                      American Eats      0.213358\n",
       "95611  Kitchen Wisdom from Good Eats (Good Eats Vol. 20)      0.202247"
      ]
     },
     "execution_count": 26,
     "metadata": {},
     "output_type": "execute_result"
    }
   ],
   "source": [
    "# Check the top 10 most similar products\n",
    "single_df.sort_values(by = 'similarities', ascending = False).head(10)"
   ]
  },
  {
   "cell_type": "markdown",
   "id": "7562fd33",
   "metadata": {},
   "source": [
    "The most similar products are shown in the table above with the most similar product to Rise and Swine being itself."
   ]
  },
  {
   "cell_type": "markdown",
   "id": "9c4a7504",
   "metadata": {},
   "source": [
    "## 3.4 Save the vectorizer model<a class ='anchor' id='3.4_save_vectorizer'></a>"
   ]
  },
  {
   "cell_type": "markdown",
   "id": "fd169ba5",
   "metadata": {},
   "source": [
    "The recommender vectorizer model will be saved to be used in the future"
   ]
  },
  {
   "cell_type": "code",
   "execution_count": 27,
   "id": "787d558b",
   "metadata": {},
   "outputs": [],
   "source": [
    "pickle.dump(vectorizer2, open('Saved_Models/4_recommender_vectorizer.pickle','wb'))"
   ]
  },
  {
   "cell_type": "markdown",
   "id": "071e073a",
   "metadata": {},
   "source": [
    "The model will be loaded in as a test to ensure that the model saved properly."
   ]
  },
  {
   "cell_type": "code",
   "execution_count": 28,
   "id": "2b1ee8fd",
   "metadata": {},
   "outputs": [],
   "source": [
    "# Load in model\n",
    "file_vectorizer = pickle.load(open('Saved_Models/4_recommender_vectorizer.pickle','rb'))"
   ]
  },
  {
   "cell_type": "markdown",
   "id": "24492147",
   "metadata": {},
   "source": [
    "## 3.5 Top 10 Recommendation Function<a class ='anchor' id='3.5_recommend_function'></a>"
   ]
  },
  {
   "cell_type": "markdown",
   "id": "5006f055",
   "metadata": {},
   "source": [
    "Create a function that would take in the product list, the product name and the sentiment of the review. Then the output would be the top 10 recommendations."
   ]
  },
  {
   "cell_type": "code",
   "execution_count": 29,
   "id": "e809b424",
   "metadata": {},
   "outputs": [],
   "source": [
    "def rec_system(vectorizer, sentiment, product_list, product_name):\n",
    "    '''\n",
    "    \n",
    "    The purpose of this function is to recommend products based on the predicted\n",
    "    sentiment and product name.\n",
    "    \n",
    "    The inputs to this function include the vectorizer model, the sentiment of \n",
    "    the review text, the list of products, product name to be used for \n",
    "    recommending other products.\n",
    "    \n",
    "    \n",
    "    Parameters\n",
    "    ----------\n",
    "    vectorizer = sklearn.feature_extraction.text.TfidfVectorizer,\n",
    "                 Vectorizer model that was trained on the product descriptions\n",
    "    sentiment = int, \n",
    "                A positive or negative sentiment prediction\n",
    "    product_list = pandas.core.frame.DataFrame,\n",
    "                   A Dataframe of the products with the descriptions\n",
    "    product_name = str,\n",
    "                   The name of the movie for comparison.\n",
    "    \n",
    "    \n",
    "    Returns\n",
    "    --------\n",
    "    Recommended Product list\n",
    "    \n",
    "    '''\n",
    "    \n",
    "    # Transform the description\n",
    "    TF_matrix = vectorizer.transform(product_list['description_0'])\n",
    "    \n",
    "    # Determine the index of the product of recommendation\n",
    "    product_index = product_list[product_list['title'] == product_name].index\n",
    "    \n",
    "    # Get the TF matrix of the required product\n",
    "    TF_matrix_product = TF_matrix[product_index]\n",
    "    \n",
    "    # Determine the similarity between the product and everything else\n",
    "    product_similarities = cosine_similarity(TF_matrix,TF_matrix_product, dense_output = False)\n",
    "    \n",
    "    # \n",
    "    single_df = pd.DataFrame({'item':product_list['title'], \n",
    "                       'similarities': np.array(product_similarities.todense()).squeeze()})\n",
    "    \n",
    "    # Sort the products by similarity\n",
    "    single_df_sorted = single_df.sort_values(by = 'similarities', ascending = False)\n",
    "    \n",
    "    \n",
    "    # When the sentiment is positive, recommend the top 10 most similar products\n",
    "    if sentiment == 1:\n",
    "        recommended_products = single_df_sorted.head(10)\n",
    "    \n",
    "    # Recommend 10 products randomly from the top 100 most similar products\n",
    "    else:\n",
    "        # Split out the top 100 recommended_products\n",
    "        top_100 = single_df_sorted.iloc[:100].reset_index(drop = True)\n",
    "        \n",
    "        # Randomly sample 10 numbers between 0 and 99\n",
    "        ran_num = random.sample(range(0, 100), 10)\n",
    "        \n",
    "        # Find the index where the ran_num exists in the top 100 recommended products\n",
    "        top_100_index = top_100.index.isin(ran_num)\n",
    "        \n",
    "        # Determine recommended products\n",
    "        recommended_products = top_100[top_100_index]\n",
    "        \n",
    "    return recommended_products.reset_index(drop = True)"
   ]
  },
  {
   "cell_type": "markdown",
   "id": "94489094",
   "metadata": {},
   "source": [
    "## 3.6 Test out recommendation system<a class ='anchor' id='3.6_test_recommendation'></a>"
   ]
  },
  {
   "cell_type": "markdown",
   "id": "777bf088",
   "metadata": {},
   "source": [
    "The recommendation system function will be tested below."
   ]
  },
  {
   "cell_type": "code",
   "execution_count": 30,
   "id": "854d1613",
   "metadata": {
    "scrolled": true
   },
   "outputs": [
    {
     "data": {
      "text/html": [
       "<div>\n",
       "<style scoped>\n",
       "    .dataframe tbody tr th:only-of-type {\n",
       "        vertical-align: middle;\n",
       "    }\n",
       "\n",
       "    .dataframe tbody tr th {\n",
       "        vertical-align: top;\n",
       "    }\n",
       "\n",
       "    .dataframe thead th {\n",
       "        text-align: right;\n",
       "    }\n",
       "</style>\n",
       "<table border=\"1\" class=\"dataframe\">\n",
       "  <thead>\n",
       "    <tr style=\"text-align: right;\">\n",
       "      <th></th>\n",
       "      <th>item</th>\n",
       "      <th>similarities</th>\n",
       "    </tr>\n",
       "  </thead>\n",
       "  <tbody>\n",
       "    <tr>\n",
       "      <th>0</th>\n",
       "      <td>American Eats: Holiday Foods</td>\n",
       "      <td>0.256991</td>\n",
       "    </tr>\n",
       "    <tr>\n",
       "      <th>1</th>\n",
       "      <td>Good Eats with Alton Brown - Holiday Treats (R...</td>\n",
       "      <td>0.244306</td>\n",
       "    </tr>\n",
       "    <tr>\n",
       "      <th>2</th>\n",
       "      <td>Food Network Takeout Collection DVD - Good Eat...</td>\n",
       "      <td>0.243199</td>\n",
       "    </tr>\n",
       "    <tr>\n",
       "      <th>3</th>\n",
       "      <td>Food Network Takeout Collection DVD - Good Eat...</td>\n",
       "      <td>0.156876</td>\n",
       "    </tr>\n",
       "    <tr>\n",
       "      <th>4</th>\n",
       "      <td>Christmas Mix</td>\n",
       "      <td>0.135535</td>\n",
       "    </tr>\n",
       "    <tr>\n",
       "      <th>5</th>\n",
       "      <td>Lost Season 1 Disc 6 Replacement Disc!</td>\n",
       "      <td>0.133970</td>\n",
       "    </tr>\n",
       "    <tr>\n",
       "      <th>6</th>\n",
       "      <td>Floyd Mayweather jr. Boxing DVD Collection</td>\n",
       "      <td>0.131203</td>\n",
       "    </tr>\n",
       "    <tr>\n",
       "      <th>7</th>\n",
       "      <td>The Carmen Miranda Collection: (The Gang's All...</td>\n",
       "      <td>0.130890</td>\n",
       "    </tr>\n",
       "    <tr>\n",
       "      <th>8</th>\n",
       "      <td>Cutie Honey: The Complete TV Series</td>\n",
       "      <td>0.125494</td>\n",
       "    </tr>\n",
       "    <tr>\n",
       "      <th>9</th>\n",
       "      <td>Marx, Groucho: Groucho Marx Collection</td>\n",
       "      <td>0.117973</td>\n",
       "    </tr>\n",
       "  </tbody>\n",
       "</table>\n",
       "</div>"
      ],
      "text/plain": [
       "                                                item  similarities\n",
       "0                       American Eats: Holiday Foods      0.256991\n",
       "1  Good Eats with Alton Brown - Holiday Treats (R...      0.244306\n",
       "2  Food Network Takeout Collection DVD - Good Eat...      0.243199\n",
       "3  Food Network Takeout Collection DVD - Good Eat...      0.156876\n",
       "4                                      Christmas Mix      0.135535\n",
       "5             Lost Season 1 Disc 6 Replacement Disc!      0.133970\n",
       "6         Floyd Mayweather jr. Boxing DVD Collection      0.131203\n",
       "7  The Carmen Miranda Collection: (The Gang's All...      0.130890\n",
       "8                Cutie Honey: The Complete TV Series      0.125494\n",
       "9             Marx, Groucho: Groucho Marx Collection      0.117973"
      ]
     },
     "execution_count": 30,
     "metadata": {},
     "output_type": "execute_result"
    }
   ],
   "source": [
    "# Test out recommendation system\n",
    "rec_system(file_vectorizer, 0 ,rec_df,'Rise and Swine (Good Eats Vol. 7)')"
   ]
  },
  {
   "cell_type": "markdown",
   "id": "76fe99e5",
   "metadata": {},
   "source": [
    "The function works as expected and the items most similar to `Rise and Swine` are `American Eats` and `Love is the Devil` "
   ]
  },
  {
   "cell_type": "markdown",
   "id": "3e247f39",
   "metadata": {},
   "source": [
    "# 4. Conclusion and Future Works<a class ='anchor' id='4Conclusion'></a>"
   ]
  },
  {
   "cell_type": "code",
   "execution_count": null,
   "id": "5f168c98",
   "metadata": {},
   "outputs": [],
   "source": []
  }
 ],
 "metadata": {
  "kernelspec": {
   "display_name": "Python 3 (ipykernel)",
   "language": "python",
   "name": "python3"
  },
  "language_info": {
   "codemirror_mode": {
    "name": "ipython",
    "version": 3
   },
   "file_extension": ".py",
   "mimetype": "text/x-python",
   "name": "python",
   "nbconvert_exporter": "python",
   "pygments_lexer": "ipython3",
   "version": "3.8.13"
  },
  "vscode": {
   "interpreter": {
    "hash": "b0b87898d849d5a7e2d74c069a53aa09ad9f1d9b21997adfe24015fe0f36f48c"
   }
  }
 },
 "nbformat": 4,
 "nbformat_minor": 5
}
