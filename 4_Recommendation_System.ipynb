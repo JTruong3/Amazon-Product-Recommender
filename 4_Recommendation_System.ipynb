{
 "cells": [
  {
   "cell_type": "markdown",
   "id": "24d4aa2a",
   "metadata": {},
   "source": [
    "Running out of memory issue."
   ]
  },
  {
   "cell_type": "markdown",
   "id": "9839f88d",
   "metadata": {},
   "source": [
    "# 4 Recommendation System"
   ]
  },
  {
   "cell_type": "markdown",
   "id": "5eb1d276",
   "metadata": {},
   "source": [
    "- Author: Jason Truong\n",
    "- Last Modified: August 21, 2022\n",
    "- Email: Jasontruong19@gmail.com"
   ]
  },
  {
   "cell_type": "markdown",
   "id": "cb3118e6",
   "metadata": {},
   "source": [
    "# Table of Contents\n",
    "\n",
    "1. [Objective and Roadmap](#1Objective)  \n",
    "2. [Preliminary Data Setup](#2Preliminary)   \n",
    "3. [Content Based Recommendation](#3Content_Recommend)   \n",
    "    3.1 [Single Product Comparison](#3.1_single_product)  \n",
    "    3.2 [Save Vectorizer Model](#3.2_save_vectorizer)  \n",
    "    3.3 [Recommendation Function](#3.3_recommend_function)  \n",
    "    3.4 [Test Recommendation System](#3.4_test_recommendation)   \n",
    "    3.5 [Evaluate Recommendation System](#3.5_evaluate_recommendation)  \n",
    "4. [Conclusion and Future Works](#4Conclusion)  "
   ]
  },
  {
   "cell_type": "markdown",
   "id": "3996e6a2",
   "metadata": {},
   "source": [
    "# 1. Objective<a class ='anchor' id='1Objective'></a>"
   ]
  },
  {
   "cell_type": "markdown",
   "id": "66e2193e",
   "metadata": {},
   "source": [
    "To use the predicted sentiment from review text and product description to come up with recommendations for users."
   ]
  },
  {
   "cell_type": "markdown",
   "id": "e02aa52c",
   "metadata": {},
   "source": [
    "# 2. Preliminary Data Setup<a class ='anchor' id='2Preliminary'></a>"
   ]
  },
  {
   "cell_type": "code",
   "execution_count": 3,
   "id": "677d06a1",
   "metadata": {},
   "outputs": [],
   "source": [
    "import json\n",
    "import pandas as pd\n",
    "import numpy as np\n",
    "import matplotlib.pyplot as plt\n",
    "import pickle\n",
    "import random\n",
    "\n",
    "\n",
    "from sklearn.linear_model import LogisticRegression\n",
    "from sklearn.feature_extraction.text import CountVectorizer\n",
    "from sklearn.model_selection import train_test_split"
   ]
  },
  {
   "cell_type": "markdown",
   "id": "48487750",
   "metadata": {},
   "source": [
    "Load in the dataset"
   ]
  },
  {
   "cell_type": "code",
   "execution_count": 8,
   "id": "b642c905",
   "metadata": {},
   "outputs": [
    {
     "ename": "FileNotFoundError",
     "evalue": "[Errno 2] No such file or directory: 'clean_meta.csv'",
     "output_type": "error",
     "traceback": [
      "\u001b[0;31m---------------------------------------------------------------------------\u001b[0m",
      "\u001b[0;31mFileNotFoundError\u001b[0m                         Traceback (most recent call last)",
      "Input \u001b[0;32mIn [8]\u001b[0m, in \u001b[0;36m<cell line: 1>\u001b[0;34m()\u001b[0m\n\u001b[0;32m----> 1\u001b[0m meta_df \u001b[38;5;241m=\u001b[39m \u001b[43mpd\u001b[49m\u001b[38;5;241;43m.\u001b[39;49m\u001b[43mread_csv\u001b[49m\u001b[43m(\u001b[49m\u001b[38;5;124;43m'\u001b[39;49m\u001b[38;5;124;43mclean_meta.csv\u001b[39;49m\u001b[38;5;124;43m'\u001b[39;49m\u001b[43m)\u001b[49m\n",
      "File \u001b[0;32m~/opt/anaconda3/lib/python3.9/site-packages/pandas/util/_decorators.py:311\u001b[0m, in \u001b[0;36mdeprecate_nonkeyword_arguments.<locals>.decorate.<locals>.wrapper\u001b[0;34m(*args, **kwargs)\u001b[0m\n\u001b[1;32m    305\u001b[0m \u001b[38;5;28;01mif\u001b[39;00m \u001b[38;5;28mlen\u001b[39m(args) \u001b[38;5;241m>\u001b[39m num_allow_args:\n\u001b[1;32m    306\u001b[0m     warnings\u001b[38;5;241m.\u001b[39mwarn(\n\u001b[1;32m    307\u001b[0m         msg\u001b[38;5;241m.\u001b[39mformat(arguments\u001b[38;5;241m=\u001b[39marguments),\n\u001b[1;32m    308\u001b[0m         \u001b[38;5;167;01mFutureWarning\u001b[39;00m,\n\u001b[1;32m    309\u001b[0m         stacklevel\u001b[38;5;241m=\u001b[39mstacklevel,\n\u001b[1;32m    310\u001b[0m     )\n\u001b[0;32m--> 311\u001b[0m \u001b[38;5;28;01mreturn\u001b[39;00m \u001b[43mfunc\u001b[49m\u001b[43m(\u001b[49m\u001b[38;5;241;43m*\u001b[39;49m\u001b[43margs\u001b[49m\u001b[43m,\u001b[49m\u001b[43m \u001b[49m\u001b[38;5;241;43m*\u001b[39;49m\u001b[38;5;241;43m*\u001b[39;49m\u001b[43mkwargs\u001b[49m\u001b[43m)\u001b[49m\n",
      "File \u001b[0;32m~/opt/anaconda3/lib/python3.9/site-packages/pandas/io/parsers/readers.py:680\u001b[0m, in \u001b[0;36mread_csv\u001b[0;34m(filepath_or_buffer, sep, delimiter, header, names, index_col, usecols, squeeze, prefix, mangle_dupe_cols, dtype, engine, converters, true_values, false_values, skipinitialspace, skiprows, skipfooter, nrows, na_values, keep_default_na, na_filter, verbose, skip_blank_lines, parse_dates, infer_datetime_format, keep_date_col, date_parser, dayfirst, cache_dates, iterator, chunksize, compression, thousands, decimal, lineterminator, quotechar, quoting, doublequote, escapechar, comment, encoding, encoding_errors, dialect, error_bad_lines, warn_bad_lines, on_bad_lines, delim_whitespace, low_memory, memory_map, float_precision, storage_options)\u001b[0m\n\u001b[1;32m    665\u001b[0m kwds_defaults \u001b[38;5;241m=\u001b[39m _refine_defaults_read(\n\u001b[1;32m    666\u001b[0m     dialect,\n\u001b[1;32m    667\u001b[0m     delimiter,\n\u001b[0;32m   (...)\u001b[0m\n\u001b[1;32m    676\u001b[0m     defaults\u001b[38;5;241m=\u001b[39m{\u001b[38;5;124m\"\u001b[39m\u001b[38;5;124mdelimiter\u001b[39m\u001b[38;5;124m\"\u001b[39m: \u001b[38;5;124m\"\u001b[39m\u001b[38;5;124m,\u001b[39m\u001b[38;5;124m\"\u001b[39m},\n\u001b[1;32m    677\u001b[0m )\n\u001b[1;32m    678\u001b[0m kwds\u001b[38;5;241m.\u001b[39mupdate(kwds_defaults)\n\u001b[0;32m--> 680\u001b[0m \u001b[38;5;28;01mreturn\u001b[39;00m \u001b[43m_read\u001b[49m\u001b[43m(\u001b[49m\u001b[43mfilepath_or_buffer\u001b[49m\u001b[43m,\u001b[49m\u001b[43m \u001b[49m\u001b[43mkwds\u001b[49m\u001b[43m)\u001b[49m\n",
      "File \u001b[0;32m~/opt/anaconda3/lib/python3.9/site-packages/pandas/io/parsers/readers.py:575\u001b[0m, in \u001b[0;36m_read\u001b[0;34m(filepath_or_buffer, kwds)\u001b[0m\n\u001b[1;32m    572\u001b[0m _validate_names(kwds\u001b[38;5;241m.\u001b[39mget(\u001b[38;5;124m\"\u001b[39m\u001b[38;5;124mnames\u001b[39m\u001b[38;5;124m\"\u001b[39m, \u001b[38;5;28;01mNone\u001b[39;00m))\n\u001b[1;32m    574\u001b[0m \u001b[38;5;66;03m# Create the parser.\u001b[39;00m\n\u001b[0;32m--> 575\u001b[0m parser \u001b[38;5;241m=\u001b[39m \u001b[43mTextFileReader\u001b[49m\u001b[43m(\u001b[49m\u001b[43mfilepath_or_buffer\u001b[49m\u001b[43m,\u001b[49m\u001b[43m \u001b[49m\u001b[38;5;241;43m*\u001b[39;49m\u001b[38;5;241;43m*\u001b[39;49m\u001b[43mkwds\u001b[49m\u001b[43m)\u001b[49m\n\u001b[1;32m    577\u001b[0m \u001b[38;5;28;01mif\u001b[39;00m chunksize \u001b[38;5;129;01mor\u001b[39;00m iterator:\n\u001b[1;32m    578\u001b[0m     \u001b[38;5;28;01mreturn\u001b[39;00m parser\n",
      "File \u001b[0;32m~/opt/anaconda3/lib/python3.9/site-packages/pandas/io/parsers/readers.py:933\u001b[0m, in \u001b[0;36mTextFileReader.__init__\u001b[0;34m(self, f, engine, **kwds)\u001b[0m\n\u001b[1;32m    930\u001b[0m     \u001b[38;5;28mself\u001b[39m\u001b[38;5;241m.\u001b[39moptions[\u001b[38;5;124m\"\u001b[39m\u001b[38;5;124mhas_index_names\u001b[39m\u001b[38;5;124m\"\u001b[39m] \u001b[38;5;241m=\u001b[39m kwds[\u001b[38;5;124m\"\u001b[39m\u001b[38;5;124mhas_index_names\u001b[39m\u001b[38;5;124m\"\u001b[39m]\n\u001b[1;32m    932\u001b[0m \u001b[38;5;28mself\u001b[39m\u001b[38;5;241m.\u001b[39mhandles: IOHandles \u001b[38;5;241m|\u001b[39m \u001b[38;5;28;01mNone\u001b[39;00m \u001b[38;5;241m=\u001b[39m \u001b[38;5;28;01mNone\u001b[39;00m\n\u001b[0;32m--> 933\u001b[0m \u001b[38;5;28mself\u001b[39m\u001b[38;5;241m.\u001b[39m_engine \u001b[38;5;241m=\u001b[39m \u001b[38;5;28;43mself\u001b[39;49m\u001b[38;5;241;43m.\u001b[39;49m\u001b[43m_make_engine\u001b[49m\u001b[43m(\u001b[49m\u001b[43mf\u001b[49m\u001b[43m,\u001b[49m\u001b[43m \u001b[49m\u001b[38;5;28;43mself\u001b[39;49m\u001b[38;5;241;43m.\u001b[39;49m\u001b[43mengine\u001b[49m\u001b[43m)\u001b[49m\n",
      "File \u001b[0;32m~/opt/anaconda3/lib/python3.9/site-packages/pandas/io/parsers/readers.py:1217\u001b[0m, in \u001b[0;36mTextFileReader._make_engine\u001b[0;34m(self, f, engine)\u001b[0m\n\u001b[1;32m   1213\u001b[0m     mode \u001b[38;5;241m=\u001b[39m \u001b[38;5;124m\"\u001b[39m\u001b[38;5;124mrb\u001b[39m\u001b[38;5;124m\"\u001b[39m\n\u001b[1;32m   1214\u001b[0m \u001b[38;5;66;03m# error: No overload variant of \"get_handle\" matches argument types\u001b[39;00m\n\u001b[1;32m   1215\u001b[0m \u001b[38;5;66;03m# \"Union[str, PathLike[str], ReadCsvBuffer[bytes], ReadCsvBuffer[str]]\"\u001b[39;00m\n\u001b[1;32m   1216\u001b[0m \u001b[38;5;66;03m# , \"str\", \"bool\", \"Any\", \"Any\", \"Any\", \"Any\", \"Any\"\u001b[39;00m\n\u001b[0;32m-> 1217\u001b[0m \u001b[38;5;28mself\u001b[39m\u001b[38;5;241m.\u001b[39mhandles \u001b[38;5;241m=\u001b[39m \u001b[43mget_handle\u001b[49m\u001b[43m(\u001b[49m\u001b[43m  \u001b[49m\u001b[38;5;66;43;03m# type: ignore[call-overload]\u001b[39;49;00m\n\u001b[1;32m   1218\u001b[0m \u001b[43m    \u001b[49m\u001b[43mf\u001b[49m\u001b[43m,\u001b[49m\n\u001b[1;32m   1219\u001b[0m \u001b[43m    \u001b[49m\u001b[43mmode\u001b[49m\u001b[43m,\u001b[49m\n\u001b[1;32m   1220\u001b[0m \u001b[43m    \u001b[49m\u001b[43mencoding\u001b[49m\u001b[38;5;241;43m=\u001b[39;49m\u001b[38;5;28;43mself\u001b[39;49m\u001b[38;5;241;43m.\u001b[39;49m\u001b[43moptions\u001b[49m\u001b[38;5;241;43m.\u001b[39;49m\u001b[43mget\u001b[49m\u001b[43m(\u001b[49m\u001b[38;5;124;43m\"\u001b[39;49m\u001b[38;5;124;43mencoding\u001b[39;49m\u001b[38;5;124;43m\"\u001b[39;49m\u001b[43m,\u001b[49m\u001b[43m \u001b[49m\u001b[38;5;28;43;01mNone\u001b[39;49;00m\u001b[43m)\u001b[49m\u001b[43m,\u001b[49m\n\u001b[1;32m   1221\u001b[0m \u001b[43m    \u001b[49m\u001b[43mcompression\u001b[49m\u001b[38;5;241;43m=\u001b[39;49m\u001b[38;5;28;43mself\u001b[39;49m\u001b[38;5;241;43m.\u001b[39;49m\u001b[43moptions\u001b[49m\u001b[38;5;241;43m.\u001b[39;49m\u001b[43mget\u001b[49m\u001b[43m(\u001b[49m\u001b[38;5;124;43m\"\u001b[39;49m\u001b[38;5;124;43mcompression\u001b[39;49m\u001b[38;5;124;43m\"\u001b[39;49m\u001b[43m,\u001b[49m\u001b[43m \u001b[49m\u001b[38;5;28;43;01mNone\u001b[39;49;00m\u001b[43m)\u001b[49m\u001b[43m,\u001b[49m\n\u001b[1;32m   1222\u001b[0m \u001b[43m    \u001b[49m\u001b[43mmemory_map\u001b[49m\u001b[38;5;241;43m=\u001b[39;49m\u001b[38;5;28;43mself\u001b[39;49m\u001b[38;5;241;43m.\u001b[39;49m\u001b[43moptions\u001b[49m\u001b[38;5;241;43m.\u001b[39;49m\u001b[43mget\u001b[49m\u001b[43m(\u001b[49m\u001b[38;5;124;43m\"\u001b[39;49m\u001b[38;5;124;43mmemory_map\u001b[39;49m\u001b[38;5;124;43m\"\u001b[39;49m\u001b[43m,\u001b[49m\u001b[43m \u001b[49m\u001b[38;5;28;43;01mFalse\u001b[39;49;00m\u001b[43m)\u001b[49m\u001b[43m,\u001b[49m\n\u001b[1;32m   1223\u001b[0m \u001b[43m    \u001b[49m\u001b[43mis_text\u001b[49m\u001b[38;5;241;43m=\u001b[39;49m\u001b[43mis_text\u001b[49m\u001b[43m,\u001b[49m\n\u001b[1;32m   1224\u001b[0m \u001b[43m    \u001b[49m\u001b[43merrors\u001b[49m\u001b[38;5;241;43m=\u001b[39;49m\u001b[38;5;28;43mself\u001b[39;49m\u001b[38;5;241;43m.\u001b[39;49m\u001b[43moptions\u001b[49m\u001b[38;5;241;43m.\u001b[39;49m\u001b[43mget\u001b[49m\u001b[43m(\u001b[49m\u001b[38;5;124;43m\"\u001b[39;49m\u001b[38;5;124;43mencoding_errors\u001b[39;49m\u001b[38;5;124;43m\"\u001b[39;49m\u001b[43m,\u001b[49m\u001b[43m \u001b[49m\u001b[38;5;124;43m\"\u001b[39;49m\u001b[38;5;124;43mstrict\u001b[39;49m\u001b[38;5;124;43m\"\u001b[39;49m\u001b[43m)\u001b[49m\u001b[43m,\u001b[49m\n\u001b[1;32m   1225\u001b[0m \u001b[43m    \u001b[49m\u001b[43mstorage_options\u001b[49m\u001b[38;5;241;43m=\u001b[39;49m\u001b[38;5;28;43mself\u001b[39;49m\u001b[38;5;241;43m.\u001b[39;49m\u001b[43moptions\u001b[49m\u001b[38;5;241;43m.\u001b[39;49m\u001b[43mget\u001b[49m\u001b[43m(\u001b[49m\u001b[38;5;124;43m\"\u001b[39;49m\u001b[38;5;124;43mstorage_options\u001b[39;49m\u001b[38;5;124;43m\"\u001b[39;49m\u001b[43m,\u001b[49m\u001b[43m \u001b[49m\u001b[38;5;28;43;01mNone\u001b[39;49;00m\u001b[43m)\u001b[49m\u001b[43m,\u001b[49m\n\u001b[1;32m   1226\u001b[0m \u001b[43m\u001b[49m\u001b[43m)\u001b[49m\n\u001b[1;32m   1227\u001b[0m \u001b[38;5;28;01massert\u001b[39;00m \u001b[38;5;28mself\u001b[39m\u001b[38;5;241m.\u001b[39mhandles \u001b[38;5;129;01mis\u001b[39;00m \u001b[38;5;129;01mnot\u001b[39;00m \u001b[38;5;28;01mNone\u001b[39;00m\n\u001b[1;32m   1228\u001b[0m f \u001b[38;5;241m=\u001b[39m \u001b[38;5;28mself\u001b[39m\u001b[38;5;241m.\u001b[39mhandles\u001b[38;5;241m.\u001b[39mhandle\n",
      "File \u001b[0;32m~/opt/anaconda3/lib/python3.9/site-packages/pandas/io/common.py:789\u001b[0m, in \u001b[0;36mget_handle\u001b[0;34m(path_or_buf, mode, encoding, compression, memory_map, is_text, errors, storage_options)\u001b[0m\n\u001b[1;32m    784\u001b[0m \u001b[38;5;28;01melif\u001b[39;00m \u001b[38;5;28misinstance\u001b[39m(handle, \u001b[38;5;28mstr\u001b[39m):\n\u001b[1;32m    785\u001b[0m     \u001b[38;5;66;03m# Check whether the filename is to be opened in binary mode.\u001b[39;00m\n\u001b[1;32m    786\u001b[0m     \u001b[38;5;66;03m# Binary mode does not support 'encoding' and 'newline'.\u001b[39;00m\n\u001b[1;32m    787\u001b[0m     \u001b[38;5;28;01mif\u001b[39;00m ioargs\u001b[38;5;241m.\u001b[39mencoding \u001b[38;5;129;01mand\u001b[39;00m \u001b[38;5;124m\"\u001b[39m\u001b[38;5;124mb\u001b[39m\u001b[38;5;124m\"\u001b[39m \u001b[38;5;129;01mnot\u001b[39;00m \u001b[38;5;129;01min\u001b[39;00m ioargs\u001b[38;5;241m.\u001b[39mmode:\n\u001b[1;32m    788\u001b[0m         \u001b[38;5;66;03m# Encoding\u001b[39;00m\n\u001b[0;32m--> 789\u001b[0m         handle \u001b[38;5;241m=\u001b[39m \u001b[38;5;28;43mopen\u001b[39;49m\u001b[43m(\u001b[49m\n\u001b[1;32m    790\u001b[0m \u001b[43m            \u001b[49m\u001b[43mhandle\u001b[49m\u001b[43m,\u001b[49m\n\u001b[1;32m    791\u001b[0m \u001b[43m            \u001b[49m\u001b[43mioargs\u001b[49m\u001b[38;5;241;43m.\u001b[39;49m\u001b[43mmode\u001b[49m\u001b[43m,\u001b[49m\n\u001b[1;32m    792\u001b[0m \u001b[43m            \u001b[49m\u001b[43mencoding\u001b[49m\u001b[38;5;241;43m=\u001b[39;49m\u001b[43mioargs\u001b[49m\u001b[38;5;241;43m.\u001b[39;49m\u001b[43mencoding\u001b[49m\u001b[43m,\u001b[49m\n\u001b[1;32m    793\u001b[0m \u001b[43m            \u001b[49m\u001b[43merrors\u001b[49m\u001b[38;5;241;43m=\u001b[39;49m\u001b[43merrors\u001b[49m\u001b[43m,\u001b[49m\n\u001b[1;32m    794\u001b[0m \u001b[43m            \u001b[49m\u001b[43mnewline\u001b[49m\u001b[38;5;241;43m=\u001b[39;49m\u001b[38;5;124;43m\"\u001b[39;49m\u001b[38;5;124;43m\"\u001b[39;49m\u001b[43m,\u001b[49m\n\u001b[1;32m    795\u001b[0m \u001b[43m        \u001b[49m\u001b[43m)\u001b[49m\n\u001b[1;32m    796\u001b[0m     \u001b[38;5;28;01melse\u001b[39;00m:\n\u001b[1;32m    797\u001b[0m         \u001b[38;5;66;03m# Binary mode\u001b[39;00m\n\u001b[1;32m    798\u001b[0m         handle \u001b[38;5;241m=\u001b[39m \u001b[38;5;28mopen\u001b[39m(handle, ioargs\u001b[38;5;241m.\u001b[39mmode)\n",
      "\u001b[0;31mFileNotFoundError\u001b[0m: [Errno 2] No such file or directory: 'clean_meta.csv'"
     ]
    }
   ],
   "source": [
    "meta_df = pd.read_csv('clean_meta.csv')"
   ]
  },
  {
   "cell_type": "code",
   "execution_count": 1,
   "id": "8b01c8fa",
   "metadata": {},
   "outputs": [
    {
     "ename": "NameError",
     "evalue": "name 'meta_df' is not defined",
     "output_type": "error",
     "traceback": [
      "\u001b[0;31m---------------------------------------------------------------------------\u001b[0m",
      "\u001b[0;31mNameError\u001b[0m                                 Traceback (most recent call last)",
      "Input \u001b[0;32mIn [1]\u001b[0m, in \u001b[0;36m<cell line: 2>\u001b[0;34m()\u001b[0m\n\u001b[1;32m      1\u001b[0m \u001b[38;5;66;03m# Ensure that the description column has no null values.\u001b[39;00m\n\u001b[0;32m----> 2\u001b[0m \u001b[43mmeta_df\u001b[49m[\u001b[38;5;124m'\u001b[39m\u001b[38;5;124mdescription_0\u001b[39m\u001b[38;5;124m'\u001b[39m]\u001b[38;5;241m.\u001b[39mfillna(\u001b[38;5;124m'\u001b[39m\u001b[38;5;124m'\u001b[39m, inplace \u001b[38;5;241m=\u001b[39m \u001b[38;5;28;01mTrue\u001b[39;00m)\n",
      "\u001b[0;31mNameError\u001b[0m: name 'meta_df' is not defined"
     ]
    }
   ],
   "source": [
    "# Ensure that the description column has no null values.\n",
    "meta_df['description_0'].fillna('', inplace = True)\n",
    "\n",
    "# Check results\n",
    "meta_df"
   ]
  },
  {
   "cell_type": "markdown",
   "id": "55ba19f2",
   "metadata": {},
   "source": [
    "# 3. Content Based Recommendation<a class ='anchor' id='3Content_Recommend'></a>"
   ]
  },
  {
   "cell_type": "markdown",
   "id": "1139d2b3",
   "metadata": {},
   "source": [
    "The first step is to use the descriptions of the different Amazon items, in this case, movies/tv shows to recommend products that are similar."
   ]
  },
  {
   "cell_type": "code",
   "execution_count": 10,
   "id": "4bf18b20",
   "metadata": {},
   "outputs": [],
   "source": [
    "# Take the description, title and product id from the metadata\n",
    "rec_df = meta_df[['title','description_0','product_id']].copy()"
   ]
  },
  {
   "cell_type": "code",
   "execution_count": 12,
   "id": "371a283a",
   "metadata": {},
   "outputs": [
    {
     "data": {
      "text/html": [
       "<div>\n",
       "<style scoped>\n",
       "    .dataframe tbody tr th:only-of-type {\n",
       "        vertical-align: middle;\n",
       "    }\n",
       "\n",
       "    .dataframe tbody tr th {\n",
       "        vertical-align: top;\n",
       "    }\n",
       "\n",
       "    .dataframe thead th {\n",
       "        text-align: right;\n",
       "    }\n",
       "</style>\n",
       "<table border=\"1\" class=\"dataframe\">\n",
       "  <thead>\n",
       "    <tr style=\"text-align: right;\">\n",
       "      <th></th>\n",
       "      <th>title</th>\n",
       "      <th>description_0</th>\n",
       "      <th>product_id</th>\n",
       "    </tr>\n",
       "  </thead>\n",
       "  <tbody>\n",
       "    <tr>\n",
       "      <th>0</th>\n",
       "      <td>My Fair Pastry (Good Eats Vol. 9)</td>\n",
       "      <td>Disc 1: Flour Power (Scones; Shortcakes; South...</td>\n",
       "      <td>0000143529</td>\n",
       "    </tr>\n",
       "    <tr>\n",
       "      <th>1</th>\n",
       "      <td>Barefoot Contessa (with Ina Garten), Entertain...</td>\n",
       "      <td>Barefoot Contessa Volume 2: On these three dis...</td>\n",
       "      <td>0000143588</td>\n",
       "    </tr>\n",
       "    <tr>\n",
       "      <th>2</th>\n",
       "      <td>Rise and Swine (Good Eats Vol. 7)</td>\n",
       "      <td>Rise and Swine (Good Eats Vol. 7) includes bon...</td>\n",
       "      <td>0000143502</td>\n",
       "    </tr>\n",
       "    <tr>\n",
       "      <th>3</th>\n",
       "      <td>The Power of the Cross Joseph Prince</td>\n",
       "      <td>Have failures in your life caused you to feel ...</td>\n",
       "      <td>000073991X</td>\n",
       "    </tr>\n",
       "    <tr>\n",
       "      <th>4</th>\n",
       "      <td>Live in Houston [VHS]</td>\n",
       "      <td>Track Listings 1. Come On Everybody 2. My Stre...</td>\n",
       "      <td>000107461X</td>\n",
       "    </tr>\n",
       "    <tr>\n",
       "      <th>...</th>\n",
       "      <td>...</td>\n",
       "      <td>...</td>\n",
       "      <td>...</td>\n",
       "    </tr>\n",
       "    <tr>\n",
       "      <th>49995</th>\n",
       "      <td>Shirley Temple: America's Sweetheart Collectio...</td>\n",
       "      <td>Includes Baby Take a Bow, Bright Eyes &amp; Rebecc...</td>\n",
       "      <td>B000FKPDY8</td>\n",
       "    </tr>\n",
       "    <tr>\n",
       "      <th>49996</th>\n",
       "      <td>America's Castles - The Grand Resorts</td>\n",
       "      <td>While taverns and inns have been a part of the...</td>\n",
       "      <td>B000FKP22Q</td>\n",
       "    </tr>\n",
       "    <tr>\n",
       "      <th>49997</th>\n",
       "      <td>Dragon in Fury</td>\n",
       "      <td>Dragon in Fury movie</td>\n",
       "      <td>B000FKPDUW</td>\n",
       "    </tr>\n",
       "    <tr>\n",
       "      <th>49998</th>\n",
       "      <td>Rin Tin Tin: Double Feature, Vol. 3</td>\n",
       "      <td>Caryl of the mountains: The 1914 silent film w...</td>\n",
       "      <td>B000FKP42O</td>\n",
       "    </tr>\n",
       "    <tr>\n",
       "      <th>49999</th>\n",
       "      <td>King of the Braves Gaogaigar: Heir to the Thro...</td>\n",
       "      <td>This is the story of the brave men and women w...</td>\n",
       "      <td>B000FKPE4W</td>\n",
       "    </tr>\n",
       "  </tbody>\n",
       "</table>\n",
       "<p>50000 rows × 3 columns</p>\n",
       "</div>"
      ],
      "text/plain": [
       "                                                   title  \\\n",
       "0                      My Fair Pastry (Good Eats Vol. 9)   \n",
       "1      Barefoot Contessa (with Ina Garten), Entertain...   \n",
       "2                      Rise and Swine (Good Eats Vol. 7)   \n",
       "3                   The Power of the Cross Joseph Prince   \n",
       "4                                  Live in Houston [VHS]   \n",
       "...                                                  ...   \n",
       "49995  Shirley Temple: America's Sweetheart Collectio...   \n",
       "49996              America's Castles - The Grand Resorts   \n",
       "49997                                     Dragon in Fury   \n",
       "49998                Rin Tin Tin: Double Feature, Vol. 3   \n",
       "49999  King of the Braves Gaogaigar: Heir to the Thro...   \n",
       "\n",
       "                                           description_0  product_id  \n",
       "0      Disc 1: Flour Power (Scones; Shortcakes; South...  0000143529  \n",
       "1      Barefoot Contessa Volume 2: On these three dis...  0000143588  \n",
       "2      Rise and Swine (Good Eats Vol. 7) includes bon...  0000143502  \n",
       "3      Have failures in your life caused you to feel ...  000073991X  \n",
       "4      Track Listings 1. Come On Everybody 2. My Stre...  000107461X  \n",
       "...                                                  ...         ...  \n",
       "49995  Includes Baby Take a Bow, Bright Eyes & Rebecc...  B000FKPDY8  \n",
       "49996  While taverns and inns have been a part of the...  B000FKP22Q  \n",
       "49997                               Dragon in Fury movie  B000FKPDUW  \n",
       "49998  Caryl of the mountains: The 1914 silent film w...  B000FKP42O  \n",
       "49999  This is the story of the brave men and women w...  B000FKPE4W  \n",
       "\n",
       "[50000 rows x 3 columns]"
      ]
     },
     "execution_count": 12,
     "metadata": {},
     "output_type": "execute_result"
    }
   ],
   "source": [
    "# Start off with a subset of the data\n",
    "rec_df_subset = rec_df.iloc[0:50000,:]\n",
    "\n",
    "# Check results\n",
    "rec_df_subset"
   ]
  },
  {
   "cell_type": "markdown",
   "id": "baf924c3",
   "metadata": {},
   "source": [
    "Turn the description into numeric features with TF-IDF Vectorizer"
   ]
  },
  {
   "cell_type": "code",
   "execution_count": 15,
   "id": "eaace08e",
   "metadata": {},
   "outputs": [],
   "source": [
    "from sklearn.feature_extraction.text import TfidfVectorizer\n",
    "\n",
    "# Define the vectorizer\n",
    "vectorizer = TfidfVectorizer(stop_words = 'english', min_df = 10)\n",
    "\n",
    "# Fit\n",
    "vectorizer.fit(rec_df_subset['description_0'])\n",
    "\n",
    "# Transform the description\n",
    "TF_matrix2 = vectorizer.transform(rec_df_subset['description_0'])"
   ]
  },
  {
   "cell_type": "code",
   "execution_count": null,
   "id": "0fcc747f",
   "metadata": {},
   "outputs": [],
   "source": [
    "\n",
    "movie_index = rec_df_subset[rec_df_subset['title'] =='Rise and Swine (Good Eats Vol. 7)'].index\n",
    "\n",
    "sim_df = pd.DataFrame({'item':rec_df_subset['title'], \n",
    "                       'similarities': np.array(mov_similaries[movie_index,:].todense()).squeeze()})"
   ]
  },
  {
   "cell_type": "markdown",
   "id": "9e23efad",
   "metadata": {},
   "source": [
    "List of the top recommended products based off of similarities"
   ]
  },
  {
   "cell_type": "code",
   "execution_count": null,
   "id": "21f49a8b",
   "metadata": {
    "scrolled": true
   },
   "outputs": [],
   "source": [
    "top_recommend = sim_df.sort_values(by = 'similarities', ascending = False)[0:10]\n",
    "\n",
    "# Check results\n",
    "top_recommend"
   ]
  },
  {
   "cell_type": "markdown",
   "id": "9fd7967b",
   "metadata": {},
   "source": [
    "**Check the actual descriptions to see if products are similar.**"
   ]
  },
  {
   "cell_type": "code",
   "execution_count": null,
   "id": "55234e2b",
   "metadata": {},
   "outputs": [],
   "source": [
    "rec_df_subset['description_0'][14782]"
   ]
  },
  {
   "cell_type": "code",
   "execution_count": null,
   "id": "04fbf9a4",
   "metadata": {},
   "outputs": [],
   "source": [
    "rec_df_subset.loc[14782,:]"
   ]
  },
  {
   "cell_type": "code",
   "execution_count": null,
   "id": "a5557d0d",
   "metadata": {},
   "outputs": [],
   "source": [
    "rec_df_subset['description_0'][2]"
   ]
  },
  {
   "cell_type": "code",
   "execution_count": null,
   "id": "6fc53eea",
   "metadata": {},
   "outputs": [],
   "source": [
    "top_recommend.index[1]"
   ]
  },
  {
   "cell_type": "code",
   "execution_count": null,
   "id": "aa7c3024",
   "metadata": {
    "scrolled": true
   },
   "outputs": [],
   "source": [
    "sim_df.sort_values(by = 'similarities', ascending = True)"
   ]
  },
  {
   "cell_type": "markdown",
   "id": "48441ea7",
   "metadata": {},
   "source": [
    "Find the Cosine similarity for the requested product instead of generating te cosine similarity for all the products."
   ]
  },
  {
   "cell_type": "code",
   "execution_count": 44,
   "id": "bb4eee0a",
   "metadata": {},
   "outputs": [
    {
     "data": {
      "text/plain": [
       "TfidfVectorizer(min_df=10, stop_words='english')"
      ]
     },
     "execution_count": 44,
     "metadata": {},
     "output_type": "execute_result"
    }
   ],
   "source": [
    "# Define the vectorizer\n",
    "vectorizer2 = TfidfVectorizer(stop_words = 'english', min_df = 10)\n",
    "\n",
    "# Fit\n",
    "vectorizer2.fit(rec_df['description_0'])\n"
   ]
  },
  {
   "cell_type": "markdown",
   "id": "bbdea92a",
   "metadata": {},
   "source": [
    "This approach takes a lot of computation power and memory because the cosine similarity between every product is computed. A more efficient way is to compare only the product that is chosen with every other product."
   ]
  },
  {
   "cell_type": "markdown",
   "id": "c372aa42",
   "metadata": {},
   "source": [
    "## 3.1 Single Product Comparision<a class ='anchor' id='3.1_single_product'></a>"
   ]
  },
  {
   "cell_type": "code",
   "execution_count": null,
   "id": "0a783dc2",
   "metadata": {},
   "outputs": [],
   "source": [
    "# Transform the description\n",
    "TF_matrix = vectorizer2.transform(rec_df['description_0'])"
   ]
  },
  {
   "cell_type": "code",
   "execution_count": 18,
   "id": "30c7e3af",
   "metadata": {},
   "outputs": [],
   "source": [
    "# Determine the index of the movie\n",
    "movie_index = rec_df_subset[rec_df_subset['title'] =='Rise and Swine (Good Eats Vol. 7)'].index"
   ]
  },
  {
   "cell_type": "code",
   "execution_count": 39,
   "id": "044d48f4",
   "metadata": {},
   "outputs": [],
   "source": [
    "TF_matrix_product = vectorizer2.transform(rec_df_subset['description_0'][movie_index])"
   ]
  },
  {
   "cell_type": "code",
   "execution_count": 29,
   "id": "9cecf9e3",
   "metadata": {
    "scrolled": true
   },
   "outputs": [
    {
     "data": {
      "text/plain": [
       "Int64Index([2], dtype='int64')"
      ]
     },
     "execution_count": 29,
     "metadata": {},
     "output_type": "execute_result"
    }
   ],
   "source": [
    "movie_index"
   ]
  },
  {
   "cell_type": "code",
   "execution_count": 30,
   "id": "51a39de8",
   "metadata": {},
   "outputs": [
    {
     "data": {
      "text/plain": [
       "(156481, 39048)"
      ]
     },
     "execution_count": 30,
     "metadata": {},
     "output_type": "execute_result"
    }
   ],
   "source": [
    "TF_matrix.shape"
   ]
  },
  {
   "cell_type": "code",
   "execution_count": 54,
   "id": "10e8e89b",
   "metadata": {},
   "outputs": [
    {
     "data": {
      "text/plain": [
       "<1x39048 sparse matrix of type '<class 'numpy.float64'>'\n",
       "\twith 54 stored elements in Compressed Sparse Row format>"
      ]
     },
     "execution_count": 54,
     "metadata": {},
     "output_type": "execute_result"
    }
   ],
   "source": [
    "TF_matrix[movie_index]"
   ]
  },
  {
   "cell_type": "code",
   "execution_count": 31,
   "id": "dce716c4",
   "metadata": {},
   "outputs": [
    {
     "data": {
      "text/plain": [
       "(1, 39048)"
      ]
     },
     "execution_count": 31,
     "metadata": {},
     "output_type": "execute_result"
    }
   ],
   "source": [
    "# Check the shape of the transformed description\n",
    "TF_matrix_product.shape"
   ]
  },
  {
   "cell_type": "code",
   "execution_count": 2,
   "id": "4e11fdf7",
   "metadata": {},
   "outputs": [
    {
     "ename": "NameError",
     "evalue": "name 'TF_matrix' is not defined",
     "output_type": "error",
     "traceback": [
      "\u001b[0;31m---------------------------------------------------------------------------\u001b[0m",
      "\u001b[0;31mNameError\u001b[0m                                 Traceback (most recent call last)",
      "Input \u001b[0;32mIn [2]\u001b[0m, in \u001b[0;36m<cell line: 4>\u001b[0;34m()\u001b[0m\n\u001b[1;32m      1\u001b[0m \u001b[38;5;28;01mfrom\u001b[39;00m \u001b[38;5;21;01msklearn\u001b[39;00m\u001b[38;5;21;01m.\u001b[39;00m\u001b[38;5;21;01mmetrics\u001b[39;00m\u001b[38;5;21;01m.\u001b[39;00m\u001b[38;5;21;01mpairwise\u001b[39;00m \u001b[38;5;28;01mimport\u001b[39;00m cosine_similarity\n\u001b[1;32m      3\u001b[0m \u001b[38;5;66;03m# Find the similarity between the chosen product with every other product in the dataset\u001b[39;00m\n\u001b[0;32m----> 4\u001b[0m mov_similaries \u001b[38;5;241m=\u001b[39m cosine_similarity(\u001b[43mTF_matrix\u001b[49m,TF_matrix_product, dense_output \u001b[38;5;241m=\u001b[39m \u001b[38;5;28;01mFalse\u001b[39;00m)\n",
      "\u001b[0;31mNameError\u001b[0m: name 'TF_matrix' is not defined"
     ]
    }
   ],
   "source": [
    "from sklearn.metrics.pairwise import cosine_similarity\n",
    "\n",
    "# Find the similarity between the chosen product with every other product in the dataset\n",
    "mov_similarities = cosine_similarity(TF_matrix,TF_matrix_product, dense_output = False)\n",
    "\n",
    "# Check output results\n",
    "mov_similarities"
   ]
  },
  {
   "cell_type": "code",
   "execution_count": 35,
   "id": "16343401",
   "metadata": {},
   "outputs": [],
   "source": [
    "# Convert the movie similarities output into a dataframe\n",
    "single_df = pd.DataFrame({'item':rec_df['title'], \n",
    "                       'similarities': np.array(mov_similarities.todense()).squeeze()})"
   ]
  },
  {
   "cell_type": "code",
   "execution_count": 37,
   "id": "b7c14f11",
   "metadata": {},
   "outputs": [
    {
     "data": {
      "text/html": [
       "<div>\n",
       "<style scoped>\n",
       "    .dataframe tbody tr th:only-of-type {\n",
       "        vertical-align: middle;\n",
       "    }\n",
       "\n",
       "    .dataframe tbody tr th {\n",
       "        vertical-align: top;\n",
       "    }\n",
       "\n",
       "    .dataframe thead th {\n",
       "        text-align: right;\n",
       "    }\n",
       "</style>\n",
       "<table border=\"1\" class=\"dataframe\">\n",
       "  <thead>\n",
       "    <tr style=\"text-align: right;\">\n",
       "      <th></th>\n",
       "      <th>item</th>\n",
       "      <th>similarities</th>\n",
       "    </tr>\n",
       "  </thead>\n",
       "  <tbody>\n",
       "    <tr>\n",
       "      <th>2</th>\n",
       "      <td>Rise and Swine (Good Eats Vol. 7)</td>\n",
       "      <td>1.000000</td>\n",
       "    </tr>\n",
       "    <tr>\n",
       "      <th>76483</th>\n",
       "      <td>Good Eats with Alton Brown Vol. 12</td>\n",
       "      <td>0.301367</td>\n",
       "    </tr>\n",
       "    <tr>\n",
       "      <th>94294</th>\n",
       "      <td>American Eats: Holiday Foods</td>\n",
       "      <td>0.256991</td>\n",
       "    </tr>\n",
       "    <tr>\n",
       "      <th>61427</th>\n",
       "      <td>Food Network: Good Eats with Alton Brown - Bre...</td>\n",
       "      <td>0.247336</td>\n",
       "    </tr>\n",
       "    <tr>\n",
       "      <th>92830</th>\n",
       "      <td>Good Eats with Alton Brown - Holiday Treats (R...</td>\n",
       "      <td>0.244306</td>\n",
       "    </tr>\n",
       "    <tr>\n",
       "      <th>99539</th>\n",
       "      <td>Food Network Takeout Collection DVD - Good Eat...</td>\n",
       "      <td>0.243199</td>\n",
       "    </tr>\n",
       "    <tr>\n",
       "      <th>94305</th>\n",
       "      <td>American Eats: Hot Dogs</td>\n",
       "      <td>0.236412</td>\n",
       "    </tr>\n",
       "    <tr>\n",
       "      <th>76760</th>\n",
       "      <td>Good Eats: Cupboard Cuisine - Volume 11</td>\n",
       "      <td>0.224773</td>\n",
       "    </tr>\n",
       "    <tr>\n",
       "      <th>94298</th>\n",
       "      <td>American Eats</td>\n",
       "      <td>0.213358</td>\n",
       "    </tr>\n",
       "    <tr>\n",
       "      <th>95611</th>\n",
       "      <td>Kitchen Wisdom from Good Eats (Good Eats Vol. 20)</td>\n",
       "      <td>0.202247</td>\n",
       "    </tr>\n",
       "  </tbody>\n",
       "</table>\n",
       "</div>"
      ],
      "text/plain": [
       "                                                    item  similarities\n",
       "2                      Rise and Swine (Good Eats Vol. 7)      1.000000\n",
       "76483                 Good Eats with Alton Brown Vol. 12      0.301367\n",
       "94294                       American Eats: Holiday Foods      0.256991\n",
       "61427  Food Network: Good Eats with Alton Brown - Bre...      0.247336\n",
       "92830  Good Eats with Alton Brown - Holiday Treats (R...      0.244306\n",
       "99539  Food Network Takeout Collection DVD - Good Eat...      0.243199\n",
       "94305                            American Eats: Hot Dogs      0.236412\n",
       "76760            Good Eats: Cupboard Cuisine - Volume 11      0.224773\n",
       "94298                                      American Eats      0.213358\n",
       "95611  Kitchen Wisdom from Good Eats (Good Eats Vol. 20)      0.202247"
      ]
     },
     "execution_count": 37,
     "metadata": {},
     "output_type": "execute_result"
    }
   ],
   "source": [
    "# Check the top 10 most similar products\n",
    "single_df.sort_values(by = 'similarities', ascending = False).head(10)"
   ]
  },
  {
   "cell_type": "markdown",
   "id": "9c4a7504",
   "metadata": {},
   "source": [
    "## 3.2 Save the vectorizer model<a class ='anchor' id='3.2_save_vectorizer'></a>"
   ]
  },
  {
   "cell_type": "code",
   "execution_count": 46,
   "id": "787d558b",
   "metadata": {},
   "outputs": [],
   "source": [
    "pickle.dump(vectorizer2, open('recommender_vectorizer.pickle','wb'))"
   ]
  },
  {
   "cell_type": "code",
   "execution_count": 48,
   "id": "2b1ee8fd",
   "metadata": {},
   "outputs": [],
   "source": [
    "file_vectorizer = pickle.load(open('recommender_vectorizer.pickle','rb'))"
   ]
  },
  {
   "cell_type": "markdown",
   "id": "24492147",
   "metadata": {},
   "source": [
    "## 3.3 Top 10 Recommendation Function<a class ='anchor' id='3.3_recommend_function'></a>"
   ]
  },
  {
   "cell_type": "markdown",
   "id": "5006f055",
   "metadata": {},
   "source": [
    "Create a function that would take in the item and output the top 10 recommendations."
   ]
  },
  {
   "cell_type": "code",
   "execution_count": 55,
   "id": "e809b424",
   "metadata": {},
   "outputs": [],
   "source": [
    "def rec_system(vectorizer, sentiment, product_list, product_name):\n",
    "    '''\n",
    "    \n",
    "    The purpose of this function is to recommend products based on the predicted\n",
    "    sentiment and product name.\n",
    "    \n",
    "    The inputs to this function includes the vectorizer model, the sentiment of \n",
    "    the review text, the list of products, product name to be used for \n",
    "    recommending other products.\n",
    "    \n",
    "    \n",
    "    Parameters\n",
    "    ----------\n",
    "    vectorizer = sklearn.feature_extraction.text.TfidfVectorizer (Vectorizer model)\n",
    "    sentiment = int\n",
    "    product_list = pandas.core.frame.DataFrame\n",
    "    product_name = str \n",
    "    \n",
    "    \n",
    "    Returns\n",
    "    --------\n",
    "    Recommended Product list\n",
    "    \n",
    "    '''\n",
    "    \n",
    "    # Transform the description\n",
    "    TF_matrix = vectorizer.transform(product_list['description_0'])\n",
    "    \n",
    "    # Determine the index of the product of recommendation\n",
    "    product_index = product_list[product_list['title'] == product_name].index\n",
    "    \n",
    "    # Get the TF matrix of the required product\n",
    "    TF_matrix_product = TF_matrix[product_index]\n",
    "    \n",
    "    # Determine the similarity between the product and everything else\n",
    "    product_similarities = cosine_similarity(TF_matrix,TF_matrix_product, dense_output = False)\n",
    "    \n",
    "    # \n",
    "    single_df = pd.DataFrame({'item':product_list['title'], \n",
    "                       'similarities': np.array(product_similarities.todense()).squeeze()})\n",
    "    \n",
    "    # Sort the products by similarity\n",
    "    single_df_sorted = single_df.sort_values(by = 'similarities', ascending = False)\n",
    "    \n",
    "    \n",
    "    # When the sentiment is positive, recommend the top 10 most similar products\n",
    "    if sentiment == 1:\n",
    "        recommended_products = single_df_sorted.head(10)\n",
    "    \n",
    "    # Recommend 10 products randomly from the top 100 most similar products\n",
    "    else:\n",
    "        # Split out the top 100 recommended_products\n",
    "        top_100 = single_df_sorted.iloc[:100]\n",
    "        \n",
    "        # Randomly sample 10 numbers between 0 and 99\n",
    "        ran_num = random.sample(range(0, 100), 10)\n",
    "        \n",
    "        # Find the index where the ran_num exists in the top 100 recommended products\n",
    "        top_100_index = top_100.index.isin([ran_num])\n",
    "        \n",
    "        # Determine recommended products\n",
    "        recommended_products = top_100[top_100_index]\n",
    "        \n",
    "    return recommended_products.reset_index(drop = True)"
   ]
  },
  {
   "cell_type": "markdown",
   "id": "94489094",
   "metadata": {},
   "source": [
    "## 3.4 Test out recommendation system<a class ='anchor' id='3.4_test_recommendation'></a>"
   ]
  },
  {
   "cell_type": "code",
   "execution_count": 56,
   "id": "854d1613",
   "metadata": {
    "scrolled": true
   },
   "outputs": [
    {
     "data": {
      "text/html": [
       "<div>\n",
       "<style scoped>\n",
       "    .dataframe tbody tr th:only-of-type {\n",
       "        vertical-align: middle;\n",
       "    }\n",
       "\n",
       "    .dataframe tbody tr th {\n",
       "        vertical-align: top;\n",
       "    }\n",
       "\n",
       "    .dataframe thead th {\n",
       "        text-align: right;\n",
       "    }\n",
       "</style>\n",
       "<table border=\"1\" class=\"dataframe\">\n",
       "  <thead>\n",
       "    <tr style=\"text-align: right;\">\n",
       "      <th></th>\n",
       "      <th>item</th>\n",
       "      <th>similarities</th>\n",
       "    </tr>\n",
       "  </thead>\n",
       "  <tbody>\n",
       "    <tr>\n",
       "      <th>2</th>\n",
       "      <td>Rise and Swine (Good Eats Vol. 7)</td>\n",
       "      <td>1.000000</td>\n",
       "    </tr>\n",
       "    <tr>\n",
       "      <th>76483</th>\n",
       "      <td>Good Eats with Alton Brown Vol. 12</td>\n",
       "      <td>0.301367</td>\n",
       "    </tr>\n",
       "    <tr>\n",
       "      <th>94294</th>\n",
       "      <td>American Eats: Holiday Foods</td>\n",
       "      <td>0.256991</td>\n",
       "    </tr>\n",
       "    <tr>\n",
       "      <th>61427</th>\n",
       "      <td>Food Network: Good Eats with Alton Brown - Bre...</td>\n",
       "      <td>0.247336</td>\n",
       "    </tr>\n",
       "    <tr>\n",
       "      <th>92830</th>\n",
       "      <td>Good Eats with Alton Brown - Holiday Treats (R...</td>\n",
       "      <td>0.244306</td>\n",
       "    </tr>\n",
       "    <tr>\n",
       "      <th>99539</th>\n",
       "      <td>Food Network Takeout Collection DVD - Good Eat...</td>\n",
       "      <td>0.243199</td>\n",
       "    </tr>\n",
       "    <tr>\n",
       "      <th>94305</th>\n",
       "      <td>American Eats: Hot Dogs</td>\n",
       "      <td>0.236412</td>\n",
       "    </tr>\n",
       "    <tr>\n",
       "      <th>76760</th>\n",
       "      <td>Good Eats: Cupboard Cuisine - Volume 11</td>\n",
       "      <td>0.224773</td>\n",
       "    </tr>\n",
       "    <tr>\n",
       "      <th>94298</th>\n",
       "      <td>American Eats</td>\n",
       "      <td>0.213358</td>\n",
       "    </tr>\n",
       "    <tr>\n",
       "      <th>95611</th>\n",
       "      <td>Kitchen Wisdom from Good Eats (Good Eats Vol. 20)</td>\n",
       "      <td>0.202247</td>\n",
       "    </tr>\n",
       "  </tbody>\n",
       "</table>\n",
       "</div>"
      ],
      "text/plain": [
       "                                                    item  similarities\n",
       "2                      Rise and Swine (Good Eats Vol. 7)      1.000000\n",
       "76483                 Good Eats with Alton Brown Vol. 12      0.301367\n",
       "94294                       American Eats: Holiday Foods      0.256991\n",
       "61427  Food Network: Good Eats with Alton Brown - Bre...      0.247336\n",
       "92830  Good Eats with Alton Brown - Holiday Treats (R...      0.244306\n",
       "99539  Food Network Takeout Collection DVD - Good Eat...      0.243199\n",
       "94305                            American Eats: Hot Dogs      0.236412\n",
       "76760            Good Eats: Cupboard Cuisine - Volume 11      0.224773\n",
       "94298                                      American Eats      0.213358\n",
       "95611  Kitchen Wisdom from Good Eats (Good Eats Vol. 20)      0.202247"
      ]
     },
     "execution_count": 56,
     "metadata": {},
     "output_type": "execute_result"
    }
   ],
   "source": [
    "# Test out recommendation system\n",
    "\n",
    "rec_system(file_vectorizer, rec_df,'Rise and Swine (Good Eats Vol. 7)')"
   ]
  },
  {
   "cell_type": "markdown",
   "id": "7d778cb9",
   "metadata": {},
   "source": [
    "## 3.5 Evaluate recommendation system<a class ='anchor' id='3.5_evaluate_recommendation'></a>"
   ]
  },
  {
   "cell_type": "markdown",
   "id": "2717830f",
   "metadata": {},
   "source": [
    "Sample tests can be a movie review + the rating -> Feed into model, Output top 10 movies the person may like."
   ]
  },
  {
   "cell_type": "markdown",
   "id": "5bfc8acf",
   "metadata": {},
   "source": [
    "Use reviews and movie descriptions to determine which movies to recommend based off of if the person rated the movie highly or not."
   ]
  },
  {
   "cell_type": "code",
   "execution_count": null,
   "id": "0e1d40b9",
   "metadata": {},
   "outputs": [],
   "source": []
  },
  {
   "cell_type": "markdown",
   "id": "3e247f39",
   "metadata": {},
   "source": [
    "# 4. Conclusion and Future Works<a class ='anchor' id='4Conclusion'></a>"
   ]
  },
  {
   "cell_type": "code",
   "execution_count": null,
   "id": "5f168c98",
   "metadata": {},
   "outputs": [],
   "source": []
  }
 ],
 "metadata": {
  "kernelspec": {
   "display_name": "Python 3 (ipykernel)",
   "language": "python",
   "name": "python3"
  },
  "language_info": {
   "codemirror_mode": {
    "name": "ipython",
    "version": 3
   },
   "file_extension": ".py",
   "mimetype": "text/x-python",
   "name": "python",
   "nbconvert_exporter": "python",
   "pygments_lexer": "ipython3",
   "version": "3.9.12"
  },
  "vscode": {
   "interpreter": {
    "hash": "b0b87898d849d5a7e2d74c069a53aa09ad9f1d9b21997adfe24015fe0f36f48c"
   }
  }
 },
 "nbformat": 4,
 "nbformat_minor": 5
}
