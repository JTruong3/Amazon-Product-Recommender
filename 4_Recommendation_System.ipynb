{
 "cells": [
  {
   "cell_type": "markdown",
   "id": "24d4aa2a",
   "metadata": {},
   "source": [
    "Running out of memory issue."
   ]
  },
  {
   "cell_type": "markdown",
   "id": "9839f88d",
   "metadata": {},
   "source": [
    "# 4 Recommendation System"
   ]
  },
  {
   "cell_type": "markdown",
   "id": "5eb1d276",
   "metadata": {},
   "source": [
    "- Author: Jason Truong\n",
    "- Last Modified: August 21, 2022\n",
    "- Email: Jasontruong19@gmail.com"
   ]
  },
  {
   "cell_type": "markdown",
   "id": "cb3118e6",
   "metadata": {},
   "source": [
    "# Table of Contents\n",
    "\n",
    "1. [Objective and Roadmap](#1Objective)  \n",
    "2. [Preliminary Data Setup](#2Preliminary)   \n",
    "3. [Content Based Recommendation](#4Test_Train)  \n",
    "4. [Collaborative Based Recommendation](#3NLP)  \n",
    "5. [Conclusion and Future Works](#5AdvancedModels)  "
   ]
  },
  {
   "cell_type": "markdown",
   "id": "3996e6a2",
   "metadata": {},
   "source": [
    "# 1. Objective<a class ='anchor' id='1Objective'></a>"
   ]
  },
  {
   "cell_type": "markdown",
   "id": "66e2193e",
   "metadata": {},
   "source": [
    "To use review text and product description to come up with recommendations for users."
   ]
  },
  {
   "cell_type": "markdown",
   "id": "e02aa52c",
   "metadata": {},
   "source": [
    "# 2. Preliminary Data Setup<a class ='anchor' id='2Preliminary'></a>"
   ]
  },
  {
   "cell_type": "code",
   "execution_count": 43,
   "id": "677d06a1",
   "metadata": {},
   "outputs": [],
   "source": [
    "import json\n",
    "import pandas as pd\n",
    "import numpy as np\n",
    "import matplotlib.pyplot as plt\n",
    "import pickle\n",
    "\n",
    "\n",
    "from sklearn.linear_model import LogisticRegression\n",
    "from sklearn.feature_extraction.text import CountVectorizer\n",
    "from sklearn.model_selection import train_test_split"
   ]
  },
  {
   "cell_type": "markdown",
   "id": "48487750",
   "metadata": {},
   "source": [
    "Load in the dataset"
   ]
  },
  {
   "cell_type": "code",
   "execution_count": 2,
   "id": "b642c905",
   "metadata": {},
   "outputs": [],
   "source": [
    "meta_df = pd.read_csv('clean_meta.csv')"
   ]
  },
  {
   "cell_type": "code",
   "execution_count": 6,
   "id": "d734bfa6",
   "metadata": {},
   "outputs": [],
   "source": [
    "meta_df['description_0'].fillna('', inplace = True)"
   ]
  },
  {
   "cell_type": "code",
   "execution_count": 25,
   "id": "08a1e372",
   "metadata": {},
   "outputs": [
    {
     "data": {
      "text/html": [
       "<div>\n",
       "<style scoped>\n",
       "    .dataframe tbody tr th:only-of-type {\n",
       "        vertical-align: middle;\n",
       "    }\n",
       "\n",
       "    .dataframe tbody tr th {\n",
       "        vertical-align: top;\n",
       "    }\n",
       "\n",
       "    .dataframe thead th {\n",
       "        text-align: right;\n",
       "    }\n",
       "</style>\n",
       "<table border=\"1\" class=\"dataframe\">\n",
       "  <thead>\n",
       "    <tr style=\"text-align: right;\">\n",
       "      <th></th>\n",
       "      <th>title</th>\n",
       "      <th>brand</th>\n",
       "      <th>rank</th>\n",
       "      <th>product_id</th>\n",
       "      <th>description_0</th>\n",
       "      <th>category_1</th>\n",
       "      <th>category_2</th>\n",
       "    </tr>\n",
       "  </thead>\n",
       "  <tbody>\n",
       "    <tr>\n",
       "      <th>0</th>\n",
       "      <td>My Fair Pastry (Good Eats Vol. 9)</td>\n",
       "      <td>Alton Brown</td>\n",
       "      <td>370,026</td>\n",
       "      <td>0000143529</td>\n",
       "      <td>Disc 1: Flour Power (Scones; Shortcakes; South...</td>\n",
       "      <td>Movies</td>\n",
       "      <td>NaN</td>\n",
       "    </tr>\n",
       "    <tr>\n",
       "      <th>1</th>\n",
       "      <td>Barefoot Contessa (with Ina Garten), Entertain...</td>\n",
       "      <td>Ina Garten</td>\n",
       "      <td>342,914</td>\n",
       "      <td>0000143588</td>\n",
       "      <td>Barefoot Contessa Volume 2: On these three dis...</td>\n",
       "      <td>Movies</td>\n",
       "      <td>NaN</td>\n",
       "    </tr>\n",
       "    <tr>\n",
       "      <th>2</th>\n",
       "      <td>Rise and Swine (Good Eats Vol. 7)</td>\n",
       "      <td>Alton Brown</td>\n",
       "      <td>351,684</td>\n",
       "      <td>0000143502</td>\n",
       "      <td>Rise and Swine (Good Eats Vol. 7) includes bon...</td>\n",
       "      <td>Movies</td>\n",
       "      <td>NaN</td>\n",
       "    </tr>\n",
       "    <tr>\n",
       "      <th>3</th>\n",
       "      <td>The Power of the Cross Joseph Prince</td>\n",
       "      <td>Joseph Prince</td>\n",
       "      <td>444,474</td>\n",
       "      <td>000073991X</td>\n",
       "      <td>Have failures in your life caused you to feel ...</td>\n",
       "      <td>Genre for Featured Categories</td>\n",
       "      <td>Exercise &amp; Fitness</td>\n",
       "    </tr>\n",
       "    <tr>\n",
       "      <th>4</th>\n",
       "      <td>Live in Houston [VHS]</td>\n",
       "      <td>Douglas Miller</td>\n",
       "      <td>1,005,955</td>\n",
       "      <td>000107461X</td>\n",
       "      <td>Track Listings 1. Come On Everybody 2. My Stre...</td>\n",
       "      <td>Movies</td>\n",
       "      <td>NaN</td>\n",
       "    </tr>\n",
       "    <tr>\n",
       "      <th>...</th>\n",
       "      <td>...</td>\n",
       "      <td>...</td>\n",
       "      <td>...</td>\n",
       "      <td>...</td>\n",
       "      <td>...</td>\n",
       "      <td>...</td>\n",
       "      <td>...</td>\n",
       "    </tr>\n",
       "    <tr>\n",
       "      <th>156476</th>\n",
       "      <td>Verdi: Otello</td>\n",
       "      <td>Sonya Yoncheva</td>\n",
       "      <td>68,026</td>\n",
       "      <td>B01HJ1INB0</td>\n",
       "      <td>Tony Award-winning director Bartlett Sher prob...</td>\n",
       "      <td>Studio Specials</td>\n",
       "      <td>Sony Pictures Home Entertainment</td>\n",
       "    </tr>\n",
       "    <tr>\n",
       "      <th>156477</th>\n",
       "      <td>Mr. Miracle - Ihn schickt der Himmel</td>\n",
       "      <td>NaN</td>\n",
       "      <td>344,483</td>\n",
       "      <td>B01HJ3E0PQ</td>\n",
       "      <td>Mr. Miracle DVD Region 2 need an all region DV...</td>\n",
       "      <td>Movies</td>\n",
       "      <td>NaN</td>\n",
       "    </tr>\n",
       "    <tr>\n",
       "      <th>156478</th>\n",
       "      <td>The President</td>\n",
       "      <td>Misha Gomiashvili</td>\n",
       "      <td>199,854</td>\n",
       "      <td>B01HJ6R77G</td>\n",
       "      <td>The President and his family rule the land wit...</td>\n",
       "      <td>Independently Distributed</td>\n",
       "      <td>Drama</td>\n",
       "    </tr>\n",
       "    <tr>\n",
       "      <th>156479</th>\n",
       "      <td>She.....Who Would Be Pope</td>\n",
       "      <td>Liv Ullmann</td>\n",
       "      <td>246,494</td>\n",
       "      <td>B01HJCCLOY</td>\n",
       "      <td>Filmed in 1972 as Pope Joan, Michael Andersons...</td>\n",
       "      <td>Genre for Featured Categories</td>\n",
       "      <td>Action &amp; Adventure</td>\n",
       "    </tr>\n",
       "    <tr>\n",
       "      <th>156480</th>\n",
       "      <td>Mobile Suit Gundam Thunderbolt Limited Edition...</td>\n",
       "      <td>NaN</td>\n",
       "      <td>239,915</td>\n",
       "      <td>B01HJF79XO</td>\n",
       "      <td>Japanese Rare Items</td>\n",
       "      <td>Blu-ray</td>\n",
       "      <td>Movies</td>\n",
       "    </tr>\n",
       "  </tbody>\n",
       "</table>\n",
       "<p>156481 rows × 7 columns</p>\n",
       "</div>"
      ],
      "text/plain": [
       "                                                    title              brand  \\\n",
       "0                       My Fair Pastry (Good Eats Vol. 9)        Alton Brown   \n",
       "1       Barefoot Contessa (with Ina Garten), Entertain...         Ina Garten   \n",
       "2                       Rise and Swine (Good Eats Vol. 7)        Alton Brown   \n",
       "3                    The Power of the Cross Joseph Prince      Joseph Prince   \n",
       "4                                   Live in Houston [VHS]     Douglas Miller   \n",
       "...                                                   ...                ...   \n",
       "156476                                      Verdi: Otello     Sonya Yoncheva   \n",
       "156477               Mr. Miracle - Ihn schickt der Himmel                NaN   \n",
       "156478                                      The President  Misha Gomiashvili   \n",
       "156479                          She.....Who Would Be Pope        Liv Ullmann   \n",
       "156480  Mobile Suit Gundam Thunderbolt Limited Edition...                NaN   \n",
       "\n",
       "             rank  product_id  \\\n",
       "0         370,026  0000143529   \n",
       "1         342,914  0000143588   \n",
       "2         351,684  0000143502   \n",
       "3         444,474  000073991X   \n",
       "4       1,005,955  000107461X   \n",
       "...           ...         ...   \n",
       "156476     68,026  B01HJ1INB0   \n",
       "156477    344,483  B01HJ3E0PQ   \n",
       "156478    199,854  B01HJ6R77G   \n",
       "156479    246,494  B01HJCCLOY   \n",
       "156480    239,915  B01HJF79XO   \n",
       "\n",
       "                                            description_0  \\\n",
       "0       Disc 1: Flour Power (Scones; Shortcakes; South...   \n",
       "1       Barefoot Contessa Volume 2: On these three dis...   \n",
       "2       Rise and Swine (Good Eats Vol. 7) includes bon...   \n",
       "3       Have failures in your life caused you to feel ...   \n",
       "4       Track Listings 1. Come On Everybody 2. My Stre...   \n",
       "...                                                   ...   \n",
       "156476  Tony Award-winning director Bartlett Sher prob...   \n",
       "156477  Mr. Miracle DVD Region 2 need an all region DV...   \n",
       "156478  The President and his family rule the land wit...   \n",
       "156479  Filmed in 1972 as Pope Joan, Michael Andersons...   \n",
       "156480                                Japanese Rare Items   \n",
       "\n",
       "                           category_1                        category_2  \n",
       "0                              Movies                               NaN  \n",
       "1                              Movies                               NaN  \n",
       "2                              Movies                               NaN  \n",
       "3       Genre for Featured Categories                Exercise & Fitness  \n",
       "4                              Movies                               NaN  \n",
       "...                               ...                               ...  \n",
       "156476                Studio Specials  Sony Pictures Home Entertainment  \n",
       "156477                         Movies                               NaN  \n",
       "156478      Independently Distributed                             Drama  \n",
       "156479  Genre for Featured Categories                Action & Adventure  \n",
       "156480                        Blu-ray                            Movies  \n",
       "\n",
       "[156481 rows x 7 columns]"
      ]
     },
     "execution_count": 25,
     "metadata": {},
     "output_type": "execute_result"
    }
   ],
   "source": [
    "meta_df"
   ]
  },
  {
   "cell_type": "code",
   "execution_count": 9,
   "id": "043e9d79",
   "metadata": {},
   "outputs": [
    {
     "data": {
      "text/plain": [
       "Documentary             13297\n",
       "Drama                   11489\n",
       "Action & Adventure       9986\n",
       "Comedy                   8762\n",
       "Special Interests        8195\n",
       "                        ...  \n",
       "MGM DVDs Under $15          1\n",
       "Soap Operas                 1\n",
       "Cine espaol                 1\n",
       "Other Topics                1\n",
       "Five Star Collection        1\n",
       "Name: category_2, Length: 337, dtype: int64"
      ]
     },
     "execution_count": 9,
     "metadata": {},
     "output_type": "execute_result"
    }
   ],
   "source": [
    "meta_df['category_2'].value_counts()"
   ]
  },
  {
   "cell_type": "markdown",
   "id": "55ba19f2",
   "metadata": {},
   "source": [
    "# 3. Content Based Recommendation"
   ]
  },
  {
   "cell_type": "markdown",
   "id": "1139d2b3",
   "metadata": {},
   "source": [
    "The first step is to use the descriptions of the different Amazon items, in this case, movies/tv shows to recommend products that are similar."
   ]
  },
  {
   "cell_type": "code",
   "execution_count": 10,
   "id": "4bf18b20",
   "metadata": {},
   "outputs": [],
   "source": [
    "rec_df = meta_df[['title','description_0','product_id']].copy()"
   ]
  },
  {
   "cell_type": "code",
   "execution_count": 12,
   "id": "371a283a",
   "metadata": {},
   "outputs": [
    {
     "data": {
      "text/html": [
       "<div>\n",
       "<style scoped>\n",
       "    .dataframe tbody tr th:only-of-type {\n",
       "        vertical-align: middle;\n",
       "    }\n",
       "\n",
       "    .dataframe tbody tr th {\n",
       "        vertical-align: top;\n",
       "    }\n",
       "\n",
       "    .dataframe thead th {\n",
       "        text-align: right;\n",
       "    }\n",
       "</style>\n",
       "<table border=\"1\" class=\"dataframe\">\n",
       "  <thead>\n",
       "    <tr style=\"text-align: right;\">\n",
       "      <th></th>\n",
       "      <th>title</th>\n",
       "      <th>description_0</th>\n",
       "      <th>product_id</th>\n",
       "    </tr>\n",
       "  </thead>\n",
       "  <tbody>\n",
       "    <tr>\n",
       "      <th>0</th>\n",
       "      <td>My Fair Pastry (Good Eats Vol. 9)</td>\n",
       "      <td>Disc 1: Flour Power (Scones; Shortcakes; South...</td>\n",
       "      <td>0000143529</td>\n",
       "    </tr>\n",
       "    <tr>\n",
       "      <th>1</th>\n",
       "      <td>Barefoot Contessa (with Ina Garten), Entertain...</td>\n",
       "      <td>Barefoot Contessa Volume 2: On these three dis...</td>\n",
       "      <td>0000143588</td>\n",
       "    </tr>\n",
       "    <tr>\n",
       "      <th>2</th>\n",
       "      <td>Rise and Swine (Good Eats Vol. 7)</td>\n",
       "      <td>Rise and Swine (Good Eats Vol. 7) includes bon...</td>\n",
       "      <td>0000143502</td>\n",
       "    </tr>\n",
       "    <tr>\n",
       "      <th>3</th>\n",
       "      <td>The Power of the Cross Joseph Prince</td>\n",
       "      <td>Have failures in your life caused you to feel ...</td>\n",
       "      <td>000073991X</td>\n",
       "    </tr>\n",
       "    <tr>\n",
       "      <th>4</th>\n",
       "      <td>Live in Houston [VHS]</td>\n",
       "      <td>Track Listings 1. Come On Everybody 2. My Stre...</td>\n",
       "      <td>000107461X</td>\n",
       "    </tr>\n",
       "    <tr>\n",
       "      <th>...</th>\n",
       "      <td>...</td>\n",
       "      <td>...</td>\n",
       "      <td>...</td>\n",
       "    </tr>\n",
       "    <tr>\n",
       "      <th>49995</th>\n",
       "      <td>Shirley Temple: America's Sweetheart Collectio...</td>\n",
       "      <td>Includes Baby Take a Bow, Bright Eyes &amp; Rebecc...</td>\n",
       "      <td>B000FKPDY8</td>\n",
       "    </tr>\n",
       "    <tr>\n",
       "      <th>49996</th>\n",
       "      <td>America's Castles - The Grand Resorts</td>\n",
       "      <td>While taverns and inns have been a part of the...</td>\n",
       "      <td>B000FKP22Q</td>\n",
       "    </tr>\n",
       "    <tr>\n",
       "      <th>49997</th>\n",
       "      <td>Dragon in Fury</td>\n",
       "      <td>Dragon in Fury movie</td>\n",
       "      <td>B000FKPDUW</td>\n",
       "    </tr>\n",
       "    <tr>\n",
       "      <th>49998</th>\n",
       "      <td>Rin Tin Tin: Double Feature, Vol. 3</td>\n",
       "      <td>Caryl of the mountains: The 1914 silent film w...</td>\n",
       "      <td>B000FKP42O</td>\n",
       "    </tr>\n",
       "    <tr>\n",
       "      <th>49999</th>\n",
       "      <td>King of the Braves Gaogaigar: Heir to the Thro...</td>\n",
       "      <td>This is the story of the brave men and women w...</td>\n",
       "      <td>B000FKPE4W</td>\n",
       "    </tr>\n",
       "  </tbody>\n",
       "</table>\n",
       "<p>50000 rows × 3 columns</p>\n",
       "</div>"
      ],
      "text/plain": [
       "                                                   title  \\\n",
       "0                      My Fair Pastry (Good Eats Vol. 9)   \n",
       "1      Barefoot Contessa (with Ina Garten), Entertain...   \n",
       "2                      Rise and Swine (Good Eats Vol. 7)   \n",
       "3                   The Power of the Cross Joseph Prince   \n",
       "4                                  Live in Houston [VHS]   \n",
       "...                                                  ...   \n",
       "49995  Shirley Temple: America's Sweetheart Collectio...   \n",
       "49996              America's Castles - The Grand Resorts   \n",
       "49997                                     Dragon in Fury   \n",
       "49998                Rin Tin Tin: Double Feature, Vol. 3   \n",
       "49999  King of the Braves Gaogaigar: Heir to the Thro...   \n",
       "\n",
       "                                           description_0  product_id  \n",
       "0      Disc 1: Flour Power (Scones; Shortcakes; South...  0000143529  \n",
       "1      Barefoot Contessa Volume 2: On these three dis...  0000143588  \n",
       "2      Rise and Swine (Good Eats Vol. 7) includes bon...  0000143502  \n",
       "3      Have failures in your life caused you to feel ...  000073991X  \n",
       "4      Track Listings 1. Come On Everybody 2. My Stre...  000107461X  \n",
       "...                                                  ...         ...  \n",
       "49995  Includes Baby Take a Bow, Bright Eyes & Rebecc...  B000FKPDY8  \n",
       "49996  While taverns and inns have been a part of the...  B000FKP22Q  \n",
       "49997                               Dragon in Fury movie  B000FKPDUW  \n",
       "49998  Caryl of the mountains: The 1914 silent film w...  B000FKP42O  \n",
       "49999  This is the story of the brave men and women w...  B000FKPE4W  \n",
       "\n",
       "[50000 rows x 3 columns]"
      ]
     },
     "execution_count": 12,
     "metadata": {},
     "output_type": "execute_result"
    }
   ],
   "source": [
    "rec_df_subset = rec_df.iloc[0:50000,:]\n",
    "\n",
    "# Check results\n",
    "rec_df_subset"
   ]
  },
  {
   "cell_type": "code",
   "execution_count": 13,
   "id": "d0fa8a5a",
   "metadata": {},
   "outputs": [
    {
     "data": {
      "text/html": [
       "<div>\n",
       "<style scoped>\n",
       "    .dataframe tbody tr th:only-of-type {\n",
       "        vertical-align: middle;\n",
       "    }\n",
       "\n",
       "    .dataframe tbody tr th {\n",
       "        vertical-align: top;\n",
       "    }\n",
       "\n",
       "    .dataframe thead th {\n",
       "        text-align: right;\n",
       "    }\n",
       "</style>\n",
       "<table border=\"1\" class=\"dataframe\">\n",
       "  <thead>\n",
       "    <tr style=\"text-align: right;\">\n",
       "      <th></th>\n",
       "      <th>title</th>\n",
       "      <th>description_0</th>\n",
       "      <th>product_id</th>\n",
       "    </tr>\n",
       "  </thead>\n",
       "  <tbody>\n",
       "    <tr>\n",
       "      <th>0</th>\n",
       "      <td>My Fair Pastry (Good Eats Vol. 9)</td>\n",
       "      <td>Disc 1: Flour Power (Scones; Shortcakes; South...</td>\n",
       "      <td>0000143529</td>\n",
       "    </tr>\n",
       "    <tr>\n",
       "      <th>1</th>\n",
       "      <td>Barefoot Contessa (with Ina Garten), Entertain...</td>\n",
       "      <td>Barefoot Contessa Volume 2: On these three dis...</td>\n",
       "      <td>0000143588</td>\n",
       "    </tr>\n",
       "    <tr>\n",
       "      <th>2</th>\n",
       "      <td>Rise and Swine (Good Eats Vol. 7)</td>\n",
       "      <td>Rise and Swine (Good Eats Vol. 7) includes bon...</td>\n",
       "      <td>0000143502</td>\n",
       "    </tr>\n",
       "    <tr>\n",
       "      <th>3</th>\n",
       "      <td>The Power of the Cross Joseph Prince</td>\n",
       "      <td>Have failures in your life caused you to feel ...</td>\n",
       "      <td>000073991X</td>\n",
       "    </tr>\n",
       "    <tr>\n",
       "      <th>4</th>\n",
       "      <td>Live in Houston [VHS]</td>\n",
       "      <td>Track Listings 1. Come On Everybody 2. My Stre...</td>\n",
       "      <td>000107461X</td>\n",
       "    </tr>\n",
       "    <tr>\n",
       "      <th>...</th>\n",
       "      <td>...</td>\n",
       "      <td>...</td>\n",
       "      <td>...</td>\n",
       "    </tr>\n",
       "    <tr>\n",
       "      <th>49995</th>\n",
       "      <td>Shirley Temple: America's Sweetheart Collectio...</td>\n",
       "      <td>Includes Baby Take a Bow, Bright Eyes &amp; Rebecc...</td>\n",
       "      <td>B000FKPDY8</td>\n",
       "    </tr>\n",
       "    <tr>\n",
       "      <th>49996</th>\n",
       "      <td>America's Castles - The Grand Resorts</td>\n",
       "      <td>While taverns and inns have been a part of the...</td>\n",
       "      <td>B000FKP22Q</td>\n",
       "    </tr>\n",
       "    <tr>\n",
       "      <th>49997</th>\n",
       "      <td>Dragon in Fury</td>\n",
       "      <td>Dragon in Fury movie</td>\n",
       "      <td>B000FKPDUW</td>\n",
       "    </tr>\n",
       "    <tr>\n",
       "      <th>49998</th>\n",
       "      <td>Rin Tin Tin: Double Feature, Vol. 3</td>\n",
       "      <td>Caryl of the mountains: The 1914 silent film w...</td>\n",
       "      <td>B000FKP42O</td>\n",
       "    </tr>\n",
       "    <tr>\n",
       "      <th>49999</th>\n",
       "      <td>King of the Braves Gaogaigar: Heir to the Thro...</td>\n",
       "      <td>This is the story of the brave men and women w...</td>\n",
       "      <td>B000FKPE4W</td>\n",
       "    </tr>\n",
       "  </tbody>\n",
       "</table>\n",
       "<p>50000 rows × 3 columns</p>\n",
       "</div>"
      ],
      "text/plain": [
       "                                                   title  \\\n",
       "0                      My Fair Pastry (Good Eats Vol. 9)   \n",
       "1      Barefoot Contessa (with Ina Garten), Entertain...   \n",
       "2                      Rise and Swine (Good Eats Vol. 7)   \n",
       "3                   The Power of the Cross Joseph Prince   \n",
       "4                                  Live in Houston [VHS]   \n",
       "...                                                  ...   \n",
       "49995  Shirley Temple: America's Sweetheart Collectio...   \n",
       "49996              America's Castles - The Grand Resorts   \n",
       "49997                                     Dragon in Fury   \n",
       "49998                Rin Tin Tin: Double Feature, Vol. 3   \n",
       "49999  King of the Braves Gaogaigar: Heir to the Thro...   \n",
       "\n",
       "                                           description_0  product_id  \n",
       "0      Disc 1: Flour Power (Scones; Shortcakes; South...  0000143529  \n",
       "1      Barefoot Contessa Volume 2: On these three dis...  0000143588  \n",
       "2      Rise and Swine (Good Eats Vol. 7) includes bon...  0000143502  \n",
       "3      Have failures in your life caused you to feel ...  000073991X  \n",
       "4      Track Listings 1. Come On Everybody 2. My Stre...  000107461X  \n",
       "...                                                  ...         ...  \n",
       "49995  Includes Baby Take a Bow, Bright Eyes & Rebecc...  B000FKPDY8  \n",
       "49996  While taverns and inns have been a part of the...  B000FKP22Q  \n",
       "49997                               Dragon in Fury movie  B000FKPDUW  \n",
       "49998  Caryl of the mountains: The 1914 silent film w...  B000FKP42O  \n",
       "49999  This is the story of the brave men and women w...  B000FKPE4W  \n",
       "\n",
       "[50000 rows x 3 columns]"
      ]
     },
     "execution_count": 13,
     "metadata": {},
     "output_type": "execute_result"
    }
   ],
   "source": [
    "rec_df_subset"
   ]
  },
  {
   "cell_type": "code",
   "execution_count": 15,
   "id": "eaace08e",
   "metadata": {},
   "outputs": [],
   "source": [
    "from sklearn.feature_extraction.text import TfidfVectorizer\n",
    "\n",
    "# Define the vectorizer\n",
    "vectorizer = TfidfVectorizer(stop_words = 'english', min_df = 10)\n",
    "\n",
    "# Fit\n",
    "vectorizer.fit(rec_df_subset['description_0'])\n",
    "\n",
    "# Transform the description\n",
    "TF_matrix2 = vectorizer.transform(rec_df_subset['description_0'])"
   ]
  },
  {
   "cell_type": "code",
   "execution_count": null,
   "id": "0fcc747f",
   "metadata": {},
   "outputs": [],
   "source": [
    "movie_index = rec_df_subset[rec_df_subset['title'] =='Rise and Swine (Good Eats Vol. 7)'].index\n",
    "\n",
    "sim_df = pd.DataFrame({'item':rec_df_subset['title'], \n",
    "                       'similarities': np.array(mov_similaries[movie_index,:].todense()).squeeze()})"
   ]
  },
  {
   "cell_type": "markdown",
   "id": "a71cf0e2",
   "metadata": {},
   "source": [
    "List of the top recommended products based off of similarities"
   ]
  },
  {
   "cell_type": "code",
   "execution_count": null,
   "id": "21f49a8b",
   "metadata": {
    "scrolled": true
   },
   "outputs": [],
   "source": [
    "top_recommend = sim_df.sort_values(by = 'similarities', ascending = False)[0:10]\n",
    "\n",
    "# Check results\n",
    "top_recommend"
   ]
  },
  {
   "cell_type": "markdown",
   "id": "afd9c345",
   "metadata": {},
   "source": [
    "**Check the actual descriptions to see if products are similar.**"
   ]
  },
  {
   "cell_type": "code",
   "execution_count": null,
   "id": "9a96c32b",
   "metadata": {},
   "outputs": [],
   "source": [
    "rec_df_subset['description_0'][14782]"
   ]
  },
  {
   "cell_type": "code",
   "execution_count": null,
   "id": "7d2afb76",
   "metadata": {},
   "outputs": [],
   "source": [
    "rec_df_subset.loc[14782,:]"
   ]
  },
  {
   "cell_type": "code",
   "execution_count": null,
   "id": "3f567e88",
   "metadata": {},
   "outputs": [],
   "source": [
    "rec_df_subset['description_0'][2]"
   ]
  },
  {
   "cell_type": "code",
   "execution_count": null,
   "id": "68bbbf06",
   "metadata": {},
   "outputs": [],
   "source": [
    "top_recommend.index[1]"
   ]
  },
  {
   "cell_type": "code",
   "execution_count": null,
   "id": "aa7c3024",
   "metadata": {
    "scrolled": true
   },
   "outputs": [],
   "source": [
    "sim_df.sort_values(by = 'similarities', ascending = True)"
   ]
  },
  {
   "cell_type": "markdown",
   "id": "e9e23a67",
   "metadata": {},
   "source": [
    "Find the Cosine similarity for the requested product instead of generating te cosine similarity for all the products."
   ]
  },
  {
   "cell_type": "code",
   "execution_count": 44,
   "id": "05b65571",
   "metadata": {},
   "outputs": [
    {
     "data": {
      "text/plain": [
       "TfidfVectorizer(min_df=10, stop_words='english')"
      ]
     },
     "execution_count": 44,
     "metadata": {},
     "output_type": "execute_result"
    }
   ],
   "source": [
    "# Define the vectorizer\n",
    "vectorizer2 = TfidfVectorizer(stop_words = 'english', min_df = 10)\n",
    "\n",
    "# Fit\n",
    "vectorizer2.fit(rec_df['description_0'])\n"
   ]
  },
  {
   "cell_type": "code",
   "execution_count": null,
   "id": "2f5dec98",
   "metadata": {},
   "outputs": [],
   "source": [
    "# Transform the description\n",
    "TF_matrix = vectorizer2.transform(rec_df['description_0'])"
   ]
  },
  {
   "cell_type": "code",
   "execution_count": 18,
   "id": "8841064e",
   "metadata": {},
   "outputs": [],
   "source": [
    "movie_index = rec_df_subset[rec_df_subset['title'] =='Rise and Swine (Good Eats Vol. 7)'].index"
   ]
  },
  {
   "cell_type": "code",
   "execution_count": 39,
   "id": "a5e33884",
   "metadata": {},
   "outputs": [],
   "source": [
    "TF_matrix1 = vectorizer2.transform(rec_df_subset['description_0'][movie_index])"
   ]
  },
  {
   "cell_type": "code",
   "execution_count": 29,
   "id": "3ec51625",
   "metadata": {
    "scrolled": true
   },
   "outputs": [
    {
     "data": {
      "text/plain": [
       "Int64Index([2], dtype='int64')"
      ]
     },
     "execution_count": 29,
     "metadata": {},
     "output_type": "execute_result"
    }
   ],
   "source": [
    "movie_index"
   ]
  },
  {
   "cell_type": "code",
   "execution_count": 30,
   "id": "3a1a7d46",
   "metadata": {},
   "outputs": [
    {
     "data": {
      "text/plain": [
       "(156481, 39048)"
      ]
     },
     "execution_count": 30,
     "metadata": {},
     "output_type": "execute_result"
    }
   ],
   "source": [
    "TF_matrix.shape"
   ]
  },
  {
   "cell_type": "code",
   "execution_count": 54,
   "id": "93c161c9",
   "metadata": {},
   "outputs": [
    {
     "data": {
      "text/plain": [
       "<1x39048 sparse matrix of type '<class 'numpy.float64'>'\n",
       "\twith 54 stored elements in Compressed Sparse Row format>"
      ]
     },
     "execution_count": 54,
     "metadata": {},
     "output_type": "execute_result"
    }
   ],
   "source": [
    "TF_matrix[movie_index]"
   ]
  },
  {
   "cell_type": "code",
   "execution_count": 31,
   "id": "dce716c4",
   "metadata": {},
   "outputs": [
    {
     "data": {
      "text/plain": [
       "(1, 39048)"
      ]
     },
     "execution_count": 31,
     "metadata": {},
     "output_type": "execute_result"
    }
   ],
   "source": [
    "# Check the shape of the transformed description\n",
    "TF_matrix1.shape"
   ]
  },
  {
   "cell_type": "code",
   "execution_count": 32,
   "id": "4e11fdf7",
   "metadata": {},
   "outputs": [],
   "source": [
    "from sklearn.metrics.pairwise import cosine_similarity\n",
    "\n",
    "mov_similaries = cosine_similarity(TF_matrix,TF_matrix1, dense_output = False)"
   ]
  },
  {
   "cell_type": "code",
   "execution_count": 33,
   "id": "aba35405",
   "metadata": {
    "scrolled": true
   },
   "outputs": [
    {
     "data": {
      "text/plain": [
       "<156481x1 sparse matrix of type '<class 'numpy.float64'>'\n",
       "\twith 55953 stored elements in Compressed Sparse Row format>"
      ]
     },
     "execution_count": 33,
     "metadata": {},
     "output_type": "execute_result"
    }
   ],
   "source": [
    "mov_similaries"
   ]
  },
  {
   "cell_type": "code",
   "execution_count": 35,
   "id": "aaa2b0b0",
   "metadata": {},
   "outputs": [],
   "source": [
    "single_df = pd.DataFrame({'item':rec_df['title'], \n",
    "                       'similarities': np.array(mov_similaries.todense()).squeeze()})"
   ]
  },
  {
   "cell_type": "code",
   "execution_count": 37,
   "id": "294dcc9b",
   "metadata": {},
   "outputs": [
    {
     "data": {
      "text/html": [
       "<div>\n",
       "<style scoped>\n",
       "    .dataframe tbody tr th:only-of-type {\n",
       "        vertical-align: middle;\n",
       "    }\n",
       "\n",
       "    .dataframe tbody tr th {\n",
       "        vertical-align: top;\n",
       "    }\n",
       "\n",
       "    .dataframe thead th {\n",
       "        text-align: right;\n",
       "    }\n",
       "</style>\n",
       "<table border=\"1\" class=\"dataframe\">\n",
       "  <thead>\n",
       "    <tr style=\"text-align: right;\">\n",
       "      <th></th>\n",
       "      <th>item</th>\n",
       "      <th>similarities</th>\n",
       "    </tr>\n",
       "  </thead>\n",
       "  <tbody>\n",
       "    <tr>\n",
       "      <th>2</th>\n",
       "      <td>Rise and Swine (Good Eats Vol. 7)</td>\n",
       "      <td>1.000000</td>\n",
       "    </tr>\n",
       "    <tr>\n",
       "      <th>76483</th>\n",
       "      <td>Good Eats with Alton Brown Vol. 12</td>\n",
       "      <td>0.301367</td>\n",
       "    </tr>\n",
       "    <tr>\n",
       "      <th>94294</th>\n",
       "      <td>American Eats: Holiday Foods</td>\n",
       "      <td>0.256991</td>\n",
       "    </tr>\n",
       "    <tr>\n",
       "      <th>61427</th>\n",
       "      <td>Food Network: Good Eats with Alton Brown - Bre...</td>\n",
       "      <td>0.247336</td>\n",
       "    </tr>\n",
       "    <tr>\n",
       "      <th>92830</th>\n",
       "      <td>Good Eats with Alton Brown - Holiday Treats (R...</td>\n",
       "      <td>0.244306</td>\n",
       "    </tr>\n",
       "    <tr>\n",
       "      <th>99539</th>\n",
       "      <td>Food Network Takeout Collection DVD - Good Eat...</td>\n",
       "      <td>0.243199</td>\n",
       "    </tr>\n",
       "    <tr>\n",
       "      <th>94305</th>\n",
       "      <td>American Eats: Hot Dogs</td>\n",
       "      <td>0.236412</td>\n",
       "    </tr>\n",
       "    <tr>\n",
       "      <th>76760</th>\n",
       "      <td>Good Eats: Cupboard Cuisine - Volume 11</td>\n",
       "      <td>0.224773</td>\n",
       "    </tr>\n",
       "    <tr>\n",
       "      <th>94298</th>\n",
       "      <td>American Eats</td>\n",
       "      <td>0.213358</td>\n",
       "    </tr>\n",
       "    <tr>\n",
       "      <th>95611</th>\n",
       "      <td>Kitchen Wisdom from Good Eats (Good Eats Vol. 20)</td>\n",
       "      <td>0.202247</td>\n",
       "    </tr>\n",
       "  </tbody>\n",
       "</table>\n",
       "</div>"
      ],
      "text/plain": [
       "                                                    item  similarities\n",
       "2                      Rise and Swine (Good Eats Vol. 7)      1.000000\n",
       "76483                 Good Eats with Alton Brown Vol. 12      0.301367\n",
       "94294                       American Eats: Holiday Foods      0.256991\n",
       "61427  Food Network: Good Eats with Alton Brown - Bre...      0.247336\n",
       "92830  Good Eats with Alton Brown - Holiday Treats (R...      0.244306\n",
       "99539  Food Network Takeout Collection DVD - Good Eat...      0.243199\n",
       "94305                            American Eats: Hot Dogs      0.236412\n",
       "76760            Good Eats: Cupboard Cuisine - Volume 11      0.224773\n",
       "94298                                      American Eats      0.213358\n",
       "95611  Kitchen Wisdom from Good Eats (Good Eats Vol. 20)      0.202247"
      ]
     },
     "execution_count": 37,
     "metadata": {},
     "output_type": "execute_result"
    }
   ],
   "source": [
    "single_df.sort_values(by = 'similarities', ascending = False).head(10)"
   ]
  },
  {
   "cell_type": "markdown",
   "id": "1a7e3f1e",
   "metadata": {},
   "source": [
    "# Save the vectorizer into a file to be reused in the function"
   ]
  },
  {
   "cell_type": "code",
   "execution_count": 46,
   "id": "d1f53e4d",
   "metadata": {},
   "outputs": [],
   "source": [
    "pickle.dump(vectorizer2, open('recommender_vectorizer.pickle','wb'))"
   ]
  },
  {
   "cell_type": "code",
   "execution_count": 48,
   "id": "838fe2df",
   "metadata": {},
   "outputs": [],
   "source": [
    "file_vectorizer = pickle.load(open('recommender_vectorizer.pickle','rb'))"
   ]
  },
  {
   "cell_type": "markdown",
   "id": "ceb2672d",
   "metadata": {},
   "source": [
    "## Create a function that would take in the item and output the top 10 recommendations."
   ]
  },
  {
   "cell_type": "code",
   "execution_count": 55,
   "id": "bfade76f",
   "metadata": {},
   "outputs": [],
   "source": [
    "def rec_system(vectorizer, product_list, product_name):\n",
    "    '''\n",
    "    The inputs to this function include the product_name to be used for recommending other products.\n",
    "    '''\n",
    "    \n",
    "    # Transform the description\n",
    "    TF_matrix = vectorizer.transform(product_list['description_0'])\n",
    "    \n",
    "    # Determine the index of the product of recommendation\n",
    "    product_index = product_list[product_list['title'] == product_name].index\n",
    "    \n",
    "    # Get the TF matrix of the required product\n",
    "    TF_matrix_product = TF_matrix[product_index]\n",
    "    \n",
    "    # Determine the similarity between the product and everything else\n",
    "    product_similaries = cosine_similarity(TF_matrix,TF_matrix1, dense_output = False)\n",
    "    \n",
    "    single_df = pd.DataFrame({'item':product_list['title'], \n",
    "                       'similarities': np.array(product_similaries.todense()).squeeze()})\n",
    "    \n",
    "    recommended_products = single_df.sort_values(by = 'similarities', ascending = False).head(10)\n",
    "    \n",
    "    return recommended_products"
   ]
  },
  {
   "cell_type": "code",
   "execution_count": 56,
   "id": "4875d334",
   "metadata": {
    "scrolled": true
   },
   "outputs": [
    {
     "data": {
      "text/html": [
       "<div>\n",
       "<style scoped>\n",
       "    .dataframe tbody tr th:only-of-type {\n",
       "        vertical-align: middle;\n",
       "    }\n",
       "\n",
       "    .dataframe tbody tr th {\n",
       "        vertical-align: top;\n",
       "    }\n",
       "\n",
       "    .dataframe thead th {\n",
       "        text-align: right;\n",
       "    }\n",
       "</style>\n",
       "<table border=\"1\" class=\"dataframe\">\n",
       "  <thead>\n",
       "    <tr style=\"text-align: right;\">\n",
       "      <th></th>\n",
       "      <th>item</th>\n",
       "      <th>similarities</th>\n",
       "    </tr>\n",
       "  </thead>\n",
       "  <tbody>\n",
       "    <tr>\n",
       "      <th>2</th>\n",
       "      <td>Rise and Swine (Good Eats Vol. 7)</td>\n",
       "      <td>1.000000</td>\n",
       "    </tr>\n",
       "    <tr>\n",
       "      <th>76483</th>\n",
       "      <td>Good Eats with Alton Brown Vol. 12</td>\n",
       "      <td>0.301367</td>\n",
       "    </tr>\n",
       "    <tr>\n",
       "      <th>94294</th>\n",
       "      <td>American Eats: Holiday Foods</td>\n",
       "      <td>0.256991</td>\n",
       "    </tr>\n",
       "    <tr>\n",
       "      <th>61427</th>\n",
       "      <td>Food Network: Good Eats with Alton Brown - Bre...</td>\n",
       "      <td>0.247336</td>\n",
       "    </tr>\n",
       "    <tr>\n",
       "      <th>92830</th>\n",
       "      <td>Good Eats with Alton Brown - Holiday Treats (R...</td>\n",
       "      <td>0.244306</td>\n",
       "    </tr>\n",
       "    <tr>\n",
       "      <th>99539</th>\n",
       "      <td>Food Network Takeout Collection DVD - Good Eat...</td>\n",
       "      <td>0.243199</td>\n",
       "    </tr>\n",
       "    <tr>\n",
       "      <th>94305</th>\n",
       "      <td>American Eats: Hot Dogs</td>\n",
       "      <td>0.236412</td>\n",
       "    </tr>\n",
       "    <tr>\n",
       "      <th>76760</th>\n",
       "      <td>Good Eats: Cupboard Cuisine - Volume 11</td>\n",
       "      <td>0.224773</td>\n",
       "    </tr>\n",
       "    <tr>\n",
       "      <th>94298</th>\n",
       "      <td>American Eats</td>\n",
       "      <td>0.213358</td>\n",
       "    </tr>\n",
       "    <tr>\n",
       "      <th>95611</th>\n",
       "      <td>Kitchen Wisdom from Good Eats (Good Eats Vol. 20)</td>\n",
       "      <td>0.202247</td>\n",
       "    </tr>\n",
       "  </tbody>\n",
       "</table>\n",
       "</div>"
      ],
      "text/plain": [
       "                                                    item  similarities\n",
       "2                      Rise and Swine (Good Eats Vol. 7)      1.000000\n",
       "76483                 Good Eats with Alton Brown Vol. 12      0.301367\n",
       "94294                       American Eats: Holiday Foods      0.256991\n",
       "61427  Food Network: Good Eats with Alton Brown - Bre...      0.247336\n",
       "92830  Good Eats with Alton Brown - Holiday Treats (R...      0.244306\n",
       "99539  Food Network Takeout Collection DVD - Good Eat...      0.243199\n",
       "94305                            American Eats: Hot Dogs      0.236412\n",
       "76760            Good Eats: Cupboard Cuisine - Volume 11      0.224773\n",
       "94298                                      American Eats      0.213358\n",
       "95611  Kitchen Wisdom from Good Eats (Good Eats Vol. 20)      0.202247"
      ]
     },
     "execution_count": 56,
     "metadata": {},
     "output_type": "execute_result"
    }
   ],
   "source": [
    "rec_system(file_vectorizer, rec_df,'Rise and Swine (Good Eats Vol. 7)')"
   ]
  },
  {
   "cell_type": "markdown",
   "id": "4f829329",
   "metadata": {},
   "source": [
    "# 4. Collaborative Based Recommendations"
   ]
  },
  {
   "cell_type": "markdown",
   "id": "e9a16433",
   "metadata": {},
   "source": [
    "In this section, the review text will be converted to features and then combined with the the product description features. This combination of features allow for a user based recommendation based off of similar user reviews and product descriptions."
   ]
  },
  {
   "cell_type": "markdown",
   "id": "4ae4ab8e",
   "metadata": {},
   "source": [
    "### Load in the processed review data"
   ]
  },
  {
   "cell_type": "code",
   "execution_count": null,
   "id": "2abeb926",
   "metadata": {},
   "outputs": [],
   "source": [
    "# Load in the data\n",
    "review_df = pd.read_json('preprocessed_review.json')\n",
    "\n",
    "# Check the datatypes and null values in the data\n",
    "review_df.info(show_counts= True)"
   ]
  },
  {
   "cell_type": "code",
   "execution_count": null,
   "id": "a1d2bf1f",
   "metadata": {},
   "outputs": [],
   "source": [
    "review_df.head()"
   ]
  },
  {
   "cell_type": "code",
   "execution_count": null,
   "id": "8b17efbe",
   "metadata": {},
   "outputs": [],
   "source": [
    "review_subsample = review_df[0:5000]\n",
    "\n",
    "#check results\n",
    "review_subsample"
   ]
  },
  {
   "cell_type": "markdown",
   "id": "ccd2bd89",
   "metadata": {},
   "source": [
    "### Transform all the review text to a vector"
   ]
  },
  {
   "cell_type": "code",
   "execution_count": null,
   "id": "78f1e6f0",
   "metadata": {},
   "outputs": [],
   "source": [
    "## Convert the text in the reviewText column to vectors\n",
    "from sklearn.feature_extraction.text import TfidfVectorizer\n",
    "\n",
    "# Instantiate \n",
    "# Discard stop words and words need to be in atleast 10 reviews\n",
    "review_wordbank = TfidfVectorizer(stop_words = \"english\", min_df = 25)\n",
    "\n",
    "# Fit the first 50000 reviews\n",
    "review_wordbank.fit(review_subsample['reviewText'])\n",
    "\n",
    "# 3. Transform\n",
    "X_train_transformed = review_wordbank.transform(review_subsample['reviewText'])\n",
    "X_train_transformed"
   ]
  },
  {
   "cell_type": "markdown",
   "id": "43723ff1",
   "metadata": {},
   "source": [
    "### Combine with numeric features"
   ]
  },
  {
   "cell_type": "code",
   "execution_count": null,
   "id": "db551f15",
   "metadata": {},
   "outputs": [],
   "source": [
    "review_numeric = pd.DataFrame(columns = review_wordbank.get_feature_names(),data = X_train_transformed.toarray())\n",
    "\n",
    "# Check results\n",
    "review_numeric"
   ]
  },
  {
   "cell_type": "code",
   "execution_count": null,
   "id": "5f547b7f",
   "metadata": {},
   "outputs": [],
   "source": [
    "review_numeric_df = pd.concat([review_subsample[['reviewScore','product_id']],review_numeric], axis = 1)\n",
    "\n",
    "# check results\n",
    "review_numeric_df"
   ]
  },
  {
   "cell_type": "markdown",
   "id": "4992cb0f",
   "metadata": {},
   "source": [
    "Combine the with meta data"
   ]
  },
  {
   "cell_type": "markdown",
   "id": "afbfb82a",
   "metadata": {},
   "source": [
    "### Combine with meta data features based on product_id"
   ]
  },
  {
   "cell_type": "code",
   "execution_count": null,
   "id": "86c07fec",
   "metadata": {},
   "outputs": [],
   "source": [
    "meta_numeric = pd.DataFrame(columns = vectorizer.get_feature_names(),data = TF_matrix2.toarray())\n",
    "\n",
    "# Check results\n",
    "meta_numeric"
   ]
  },
  {
   "cell_type": "code",
   "execution_count": null,
   "id": "faa0e9fb",
   "metadata": {},
   "outputs": [],
   "source": [
    "meta_numeric_df = pd.concat([new_df['product_id'],meta_numeric], axis = 1)\n",
    "\n",
    "# Check results\n",
    "meta_numeric_df"
   ]
  },
  {
   "cell_type": "code",
   "execution_count": null,
   "id": "0356159b",
   "metadata": {},
   "outputs": [],
   "source": [
    "meta_numeric_df['product_id']"
   ]
  },
  {
   "cell_type": "code",
   "execution_count": null,
   "id": "c5ae065a",
   "metadata": {},
   "outputs": [],
   "source": [
    "combined_df = pd.merge(review_numeric_df, meta_numeric_df,  how='left', left_on='product_id', right_on = 'product_id')\n",
    "\n",
    "# Check results\n",
    "combined_df"
   ]
  },
  {
   "cell_type": "code",
   "execution_count": null,
   "id": "91a416ab",
   "metadata": {},
   "outputs": [],
   "source": [
    "combined_similar = combined_df.drop(columns = 'product_id')"
   ]
  },
  {
   "cell_type": "code",
   "execution_count": null,
   "id": "e26bd3e8",
   "metadata": {},
   "outputs": [],
   "source": [
    "combined_similar.dropna(inplace = True)"
   ]
  },
  {
   "cell_type": "code",
   "execution_count": null,
   "id": "c0af5615",
   "metadata": {},
   "outputs": [],
   "source": [
    "combined_similar"
   ]
  },
  {
   "cell_type": "code",
   "execution_count": null,
   "id": "120b54d1",
   "metadata": {},
   "outputs": [],
   "source": [
    "from sklearn.metrics.pairwise import cosine_similarity\n",
    "review_similaries = cosine_similarity(combined_similar, dense_output = False)"
   ]
  },
  {
   "cell_type": "code",
   "execution_count": null,
   "id": "5af759a3",
   "metadata": {},
   "outputs": [],
   "source": [
    "review_similaries[1]"
   ]
  },
  {
   "cell_type": "code",
   "execution_count": null,
   "id": "e26a546d",
   "metadata": {},
   "outputs": [],
   "source": [
    "combined_similar"
   ]
  },
  {
   "cell_type": "markdown",
   "id": "52c99ed6",
   "metadata": {},
   "source": [
    "Combine the with meta data"
   ]
  },
  {
   "cell_type": "code",
   "execution_count": null,
   "id": "3b4dad02",
   "metadata": {},
   "outputs": [],
   "source": [
    "combined_df['product_id'].value_counts()"
   ]
  },
  {
   "cell_type": "markdown",
   "id": "7cb3642f",
   "metadata": {},
   "source": [
    "### Use cosine similarity"
   ]
  },
  {
   "cell_type": "markdown",
   "id": "94489094",
   "metadata": {},
   "source": [
    "### Test out recommendation system"
   ]
  },
  {
   "cell_type": "code",
   "execution_count": null,
   "id": "9029b224",
   "metadata": {},
   "outputs": [],
   "source": []
  },
  {
   "cell_type": "markdown",
   "id": "2717830f",
   "metadata": {},
   "source": [
    "Sample tests can be a movie review + the rating -> Feed into model, Output top 10 movies the person may like."
   ]
  },
  {
   "cell_type": "markdown",
   "id": "5bfc8acf",
   "metadata": {},
   "source": [
    "Use reviews and movie descriptions to determine which movies to recommend based off of if the person rated the movie highly or not."
   ]
  },
  {
   "cell_type": "code",
   "execution_count": null,
   "id": "0e1d40b9",
   "metadata": {},
   "outputs": [],
   "source": []
  },
  {
   "cell_type": "markdown",
   "id": "3e247f39",
   "metadata": {},
   "source": [
    "# 5. Conclusion and Future Works"
   ]
  },
  {
   "cell_type": "code",
   "execution_count": null,
   "id": "5f168c98",
   "metadata": {},
   "outputs": [],
   "source": []
  }
 ],
 "metadata": {
  "kernelspec": {
   "display_name": "Python 3",
   "language": "python",
   "name": "python3"
  },
  "language_info": {
   "codemirror_mode": {
    "name": "ipython",
    "version": 3
   },
   "file_extension": ".py",
   "mimetype": "text/x-python",
   "name": "python",
   "nbconvert_exporter": "python",
   "pygments_lexer": "ipython3",
   "version": "3.8.8"
  },
  "vscode": {
   "interpreter": {
    "hash": "b0b87898d849d5a7e2d74c069a53aa09ad9f1d9b21997adfe24015fe0f36f48c"
   }
  }
 },
 "nbformat": 4,
 "nbformat_minor": 5
}
