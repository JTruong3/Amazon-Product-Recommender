{
 "cells": [
  {
   "cell_type": "markdown",
   "id": "9839f88d",
   "metadata": {},
   "source": [
    "# 4 Recommendation System"
   ]
  },
  {
   "cell_type": "markdown",
   "id": "5eb1d276",
   "metadata": {},
   "source": [
    "- Author: Jason Truong\n",
    "- Last Modified: September 19, 2022\n",
    "- Email: Jasontruong19@gmail.com"
   ]
  },
  {
   "cell_type": "markdown",
   "id": "cb3118e6",
   "metadata": {},
   "source": [
    "# Table of Contents\n",
    "\n",
    "1. **[Objective and Roadmap](#1Objective)**  \n",
    "2. **[Preliminary Data Setup](#2Preliminary)**   \n",
    "3. **[Content Based Recommendation](#3Content_Recommend)**   \n",
    "    3.1 [Single Product Comparison](#3.1_single_product)  \n",
    "    3.2 [Save Vectorizer Model](#3.2_save_vectorizer)  \n",
    "    3.3 [Recommendation Function](#3.3_recommend_function)  \n",
    "    3.4 [Test Recommendation System](#3.4_test_recommendation)   \n",
    "    3.5 [Evaluate Recommendation System](#3.5_evaluate_recommendation)  \n",
    "4. **[Conclusion and Future Works](#4Conclusion)**  "
   ]
  },
  {
   "cell_type": "markdown",
   "id": "3996e6a2",
   "metadata": {},
   "source": [
    "# 1. Objective<a class ='anchor' id='1Objective'></a>"
   ]
  },
  {
   "cell_type": "markdown",
   "id": "66e2193e",
   "metadata": {},
   "source": [
    "To use the predicted sentiment from review text and product description to come up with recommendations for users."
   ]
  },
  {
   "cell_type": "markdown",
   "id": "e02aa52c",
   "metadata": {},
   "source": [
    "# 2. Preliminary Data Setup<a class ='anchor' id='2Preliminary'></a>"
   ]
  },
  {
   "cell_type": "code",
   "execution_count": 2,
   "id": "677d06a1",
   "metadata": {},
   "outputs": [],
   "source": [
    "import json\n",
    "import pandas as pd\n",
    "import numpy as np\n",
    "import matplotlib.pyplot as plt\n",
    "import pickle\n",
    "import random\n",
    "\n",
    "\n",
    "from sklearn.linear_model import LogisticRegression\n",
    "from sklearn.feature_extraction.text import CountVectorizer\n",
    "from sklearn.model_selection import train_test_split"
   ]
  },
  {
   "cell_type": "markdown",
   "id": "48487750",
   "metadata": {},
   "source": [
    "Load in the dataset"
   ]
  },
  {
   "cell_type": "code",
   "execution_count": 3,
   "id": "b642c905",
   "metadata": {},
   "outputs": [],
   "source": [
    "meta_df = pd.read_csv('clean_meta.csv')"
   ]
  },
  {
   "cell_type": "markdown",
   "id": "31078676",
   "metadata": {},
   "source": [
    "Check the description column and ensure that there are no null values"
   ]
  },
  {
   "cell_type": "code",
   "execution_count": 4,
   "id": "adb4b6d3",
   "metadata": {},
   "outputs": [
    {
     "data": {
      "text/plain": [
       "1748"
      ]
     },
     "execution_count": 4,
     "metadata": {},
     "output_type": "execute_result"
    }
   ],
   "source": [
    "meta_df['description_0'].isna().sum()"
   ]
  },
  {
   "cell_type": "code",
   "execution_count": 6,
   "id": "8b01c8fa",
   "metadata": {},
   "outputs": [
    {
     "data": {
      "text/plain": [
       "0"
      ]
     },
     "execution_count": 6,
     "metadata": {},
     "output_type": "execute_result"
    }
   ],
   "source": [
    "# Ensure that the description column has no null values.\n",
    "meta_df['description_0'].fillna('', inplace = True)\n",
    "\n",
    "# Check results\n",
    "meta_df['description_0'].isna().sum()"
   ]
  },
  {
   "cell_type": "markdown",
   "id": "55ba19f2",
   "metadata": {},
   "source": [
    "# 3. Content Based Recommendation<a class ='anchor' id='3Content_Recommend'></a>"
   ]
  },
  {
   "cell_type": "markdown",
   "id": "1139d2b3",
   "metadata": {},
   "source": [
    "The first step is to use the descriptions of the different Amazon items, in this case, movies/tv shows to recommend products that are similar."
   ]
  },
  {
   "cell_type": "code",
   "execution_count": 8,
   "id": "4bf18b20",
   "metadata": {},
   "outputs": [],
   "source": [
    "# Take the description, title and product id from the metadata\n",
    "rec_df = meta_df[['title','description_0','product_id']].copy()"
   ]
  },
  {
   "cell_type": "markdown",
   "id": "68f04014",
   "metadata": {},
   "source": [
    "Start off with a subset of the data since NLP can be computationally expensive"
   ]
  },
  {
   "cell_type": "code",
   "execution_count": 9,
   "id": "371a283a",
   "metadata": {},
   "outputs": [
    {
     "data": {
      "text/html": [
       "<div>\n",
       "<style scoped>\n",
       "    .dataframe tbody tr th:only-of-type {\n",
       "        vertical-align: middle;\n",
       "    }\n",
       "\n",
       "    .dataframe tbody tr th {\n",
       "        vertical-align: top;\n",
       "    }\n",
       "\n",
       "    .dataframe thead th {\n",
       "        text-align: right;\n",
       "    }\n",
       "</style>\n",
       "<table border=\"1\" class=\"dataframe\">\n",
       "  <thead>\n",
       "    <tr style=\"text-align: right;\">\n",
       "      <th></th>\n",
       "      <th>title</th>\n",
       "      <th>description_0</th>\n",
       "      <th>product_id</th>\n",
       "    </tr>\n",
       "  </thead>\n",
       "  <tbody>\n",
       "    <tr>\n",
       "      <th>0</th>\n",
       "      <td>My Fair Pastry (Good Eats Vol. 9)</td>\n",
       "      <td>Disc 1: Flour Power (Scones; Shortcakes; South...</td>\n",
       "      <td>0000143529</td>\n",
       "    </tr>\n",
       "    <tr>\n",
       "      <th>1</th>\n",
       "      <td>Barefoot Contessa (with Ina Garten), Entertain...</td>\n",
       "      <td>Barefoot Contessa Volume 2: On these three dis...</td>\n",
       "      <td>0000143588</td>\n",
       "    </tr>\n",
       "    <tr>\n",
       "      <th>2</th>\n",
       "      <td>Rise and Swine (Good Eats Vol. 7)</td>\n",
       "      <td>Rise and Swine (Good Eats Vol. 7) includes bon...</td>\n",
       "      <td>0000143502</td>\n",
       "    </tr>\n",
       "    <tr>\n",
       "      <th>3</th>\n",
       "      <td>The Power of the Cross Joseph Prince</td>\n",
       "      <td>Have failures in your life caused you to feel ...</td>\n",
       "      <td>000073991X</td>\n",
       "    </tr>\n",
       "    <tr>\n",
       "      <th>4</th>\n",
       "      <td>Live in Houston [VHS]</td>\n",
       "      <td>Track Listings 1. Come On Everybody 2. My Stre...</td>\n",
       "      <td>000107461X</td>\n",
       "    </tr>\n",
       "  </tbody>\n",
       "</table>\n",
       "</div>"
      ],
      "text/plain": [
       "                                               title  \\\n",
       "0                  My Fair Pastry (Good Eats Vol. 9)   \n",
       "1  Barefoot Contessa (with Ina Garten), Entertain...   \n",
       "2                  Rise and Swine (Good Eats Vol. 7)   \n",
       "3               The Power of the Cross Joseph Prince   \n",
       "4                              Live in Houston [VHS]   \n",
       "\n",
       "                                       description_0  product_id  \n",
       "0  Disc 1: Flour Power (Scones; Shortcakes; South...  0000143529  \n",
       "1  Barefoot Contessa Volume 2: On these three dis...  0000143588  \n",
       "2  Rise and Swine (Good Eats Vol. 7) includes bon...  0000143502  \n",
       "3  Have failures in your life caused you to feel ...  000073991X  \n",
       "4  Track Listings 1. Come On Everybody 2. My Stre...  000107461X  "
      ]
     },
     "execution_count": 9,
     "metadata": {},
     "output_type": "execute_result"
    }
   ],
   "source": [
    "# A subset of 50000 rows will be used\n",
    "rec_df_subset = rec_df.iloc[0:50000,:]\n",
    "\n",
    "# Check results\n",
    "rec_df_subset.head()"
   ]
  },
  {
   "cell_type": "markdown",
   "id": "baf924c3",
   "metadata": {},
   "source": [
    "The next step is to turn the description into numeric features with TF-IDF Vectorizer. This vectorizer combines the count of the word in the text with the inverse count of the word in every document to come up with a numeric representation. As the count of the word in the text increases, the numeric value increases. As the count of the word in the whole library of text increases, the numeric value decreases. This ensures that common words like movie will get a lower value because it may appear in every text."
   ]
  },
  {
   "cell_type": "code",
   "execution_count": 11,
   "id": "eaace08e",
   "metadata": {},
   "outputs": [],
   "source": [
    "from sklearn.feature_extraction.text import TfidfVectorizer\n",
    "\n",
    "# Define the vectorizer\n",
    "vectorizer = TfidfVectorizer(stop_words = 'english', min_df = 10)\n",
    "\n",
    "# Fit\n",
    "vectorizer.fit(rec_df_subset['description_0'])\n",
    "\n",
    "# Transform the description\n",
    "TF_matrix = vectorizer.transform(rec_df_subset['description_0'])"
   ]
  },
  {
   "cell_type": "markdown",
   "id": "503b4bf8",
   "metadata": {},
   "source": [
    "Now that the text is turned into numeric features, the cosine similarity can be determined."
   ]
  },
  {
   "cell_type": "markdown",
   "id": "7d569d8f",
   "metadata": {},
   "source": [
    "## 3.1 Comparision between all products"
   ]
  },
  {
   "cell_type": "code",
   "execution_count": 16,
   "id": "0fcc747f",
   "metadata": {},
   "outputs": [],
   "source": [
    "from sklearn.metrics.pairwise import cosine_similarity\n",
    "\n",
    "# Get the index for the movie of interest\n",
    "movie_index = rec_df_subset[rec_df_subset['title'] =='My Fair Pastry (Good Eats Vol. 9)'].index\n",
    "\n",
    "# Determine the similarity between the movie and every other movie in the dataset\n",
    "mov_similarities = cosine_similarity(TF_matrix,dense_output = False)\n"
   ]
  },
  {
   "cell_type": "markdown",
   "id": "44fd6c97",
   "metadata": {},
   "source": [
    "Put results in a dataframe table for better visualization"
   ]
  },
  {
   "cell_type": "code",
   "execution_count": 35,
   "id": "763f26ef",
   "metadata": {},
   "outputs": [],
   "source": [
    "sim_df = pd.DataFrame({'item':rec_df_subset['title'], \n",
    "                       'similarities': np.array(mov_similarities[movie_index,:].todense()).squeeze()})"
   ]
  },
  {
   "cell_type": "markdown",
   "id": "9e23efad",
   "metadata": {},
   "source": [
    "List of the top recommended products based off of similarities"
   ]
  },
  {
   "cell_type": "code",
   "execution_count": 36,
   "id": "21f49a8b",
   "metadata": {
    "scrolled": true
   },
   "outputs": [
    {
     "data": {
      "text/html": [
       "<div>\n",
       "<style scoped>\n",
       "    .dataframe tbody tr th:only-of-type {\n",
       "        vertical-align: middle;\n",
       "    }\n",
       "\n",
       "    .dataframe tbody tr th {\n",
       "        vertical-align: top;\n",
       "    }\n",
       "\n",
       "    .dataframe thead th {\n",
       "        text-align: right;\n",
       "    }\n",
       "</style>\n",
       "<table border=\"1\" class=\"dataframe\">\n",
       "  <thead>\n",
       "    <tr style=\"text-align: right;\">\n",
       "      <th></th>\n",
       "      <th>item</th>\n",
       "      <th>similarities</th>\n",
       "    </tr>\n",
       "  </thead>\n",
       "  <tbody>\n",
       "    <tr>\n",
       "      <th>300</th>\n",
       "      <td>Le Million</td>\n",
       "      <td>1.000000</td>\n",
       "    </tr>\n",
       "    <tr>\n",
       "      <th>17810</th>\n",
       "      <td>Lotto Land</td>\n",
       "      <td>0.298626</td>\n",
       "    </tr>\n",
       "    <tr>\n",
       "      <th>10928</th>\n",
       "      <td>Just Your Luck VHS</td>\n",
       "      <td>0.198216</td>\n",
       "    </tr>\n",
       "    <tr>\n",
       "      <th>25677</th>\n",
       "      <td>Go For Broke</td>\n",
       "      <td>0.196722</td>\n",
       "    </tr>\n",
       "    <tr>\n",
       "      <th>25926</th>\n",
       "      <td>Lucky Day</td>\n",
       "      <td>0.188302</td>\n",
       "    </tr>\n",
       "    <tr>\n",
       "      <th>17483</th>\n",
       "      <td>Winning at Varna VHS</td>\n",
       "      <td>0.188189</td>\n",
       "    </tr>\n",
       "    <tr>\n",
       "      <th>37341</th>\n",
       "      <td>Anthology Of Surreal Cinema, Volume 1</td>\n",
       "      <td>0.183959</td>\n",
       "    </tr>\n",
       "    <tr>\n",
       "      <th>48928</th>\n",
       "      <td>'Allo 'Allo! - The Complete Series Five, Parts...</td>\n",
       "      <td>0.178894</td>\n",
       "    </tr>\n",
       "    <tr>\n",
       "      <th>2832</th>\n",
       "      <td>Goober &amp;amp; the Ghost Chasers - The Chase Is ...</td>\n",
       "      <td>0.177632</td>\n",
       "    </tr>\n",
       "    <tr>\n",
       "      <th>46843</th>\n",
       "      <td>Hotel Du Nord</td>\n",
       "      <td>0.175046</td>\n",
       "    </tr>\n",
       "  </tbody>\n",
       "</table>\n",
       "</div>"
      ],
      "text/plain": [
       "                                                    item  similarities\n",
       "300                                           Le Million      1.000000\n",
       "17810                                         Lotto Land      0.298626\n",
       "10928                                 Just Your Luck VHS      0.198216\n",
       "25677                                       Go For Broke      0.196722\n",
       "25926                                          Lucky Day      0.188302\n",
       "17483                               Winning at Varna VHS      0.188189\n",
       "37341              Anthology Of Surreal Cinema, Volume 1      0.183959\n",
       "48928  'Allo 'Allo! - The Complete Series Five, Parts...      0.178894\n",
       "2832   Goober &amp; the Ghost Chasers - The Chase Is ...      0.177632\n",
       "46843                                      Hotel Du Nord      0.175046"
      ]
     },
     "execution_count": 36,
     "metadata": {},
     "output_type": "execute_result"
    }
   ],
   "source": [
    "# Sort the values by descending to find the most similar\n",
    "top_recommend = sim_df.sort_values(by = 'similarities', ascending = False)[0:10]\n",
    "\n",
    "# Check results\n",
    "top_recommend"
   ]
  },
  {
   "cell_type": "code",
   "execution_count": 50,
   "id": "0da1a044",
   "metadata": {},
   "outputs": [
    {
     "data": {
      "text/plain": [
       "17810"
      ]
     },
     "execution_count": 50,
     "metadata": {},
     "output_type": "execute_result"
    }
   ],
   "source": [
    "top_recommend.iloc[1].name"
   ]
  },
  {
   "cell_type": "markdown",
   "id": "9168f1cb",
   "metadata": {},
   "source": [
    "Determine the top recommends in the dataset."
   ]
  },
  {
   "cell_type": "code",
   "execution_count": 90,
   "id": "4374e6d2",
   "metadata": {},
   "outputs": [],
   "source": [
    "# Store the index of the best recommended items\n",
    "best_rec = []\n",
    "\n",
    "for i in range(0,50000):\n",
    "    \n",
    "    # Put results in a dataframe to \n",
    "    sim_df = pd.DataFrame({'item':rec_df_subset['title'], \n",
    "                       'similarities': np.array(mov_similarities[i,:].todense()).squeeze()})\n",
    "    \n",
    "    # Sort the values by descending to find the most similar\n",
    "    top_recommend = sim_df.sort_values(by = 'similarities', ascending = False)[0:10]\n",
    "    \n",
    "    # Find the product indices that have atleast 80% similarities\n",
    "    if top_recommend.iloc[1]['similarities'] > 0.5 and top_recommend.iloc[1]['similarities'] < 1:\n",
    "        best_rec.append(top_recommend.iloc[0].name)\n",
    "        "
   ]
  },
  {
   "cell_type": "code",
   "execution_count": 91,
   "id": "e0188bce",
   "metadata": {},
   "outputs": [
    {
     "name": "stdout",
     "output_type": "stream",
     "text": [
      "There are 10558 products that have items that are atleast 80% similar to them.\n"
     ]
    }
   ],
   "source": [
    "print(f'There are {len(best_rec)} products that have items that are atleast 80% similar to them.')"
   ]
  },
  {
   "cell_type": "code",
   "execution_count": 117,
   "id": "c83cc4d5",
   "metadata": {},
   "outputs": [
    {
     "data": {
      "text/html": [
       "<div>\n",
       "<style scoped>\n",
       "    .dataframe tbody tr th:only-of-type {\n",
       "        vertical-align: middle;\n",
       "    }\n",
       "\n",
       "    .dataframe tbody tr th {\n",
       "        vertical-align: top;\n",
       "    }\n",
       "\n",
       "    .dataframe thead th {\n",
       "        text-align: right;\n",
       "    }\n",
       "</style>\n",
       "<table border=\"1\" class=\"dataframe\">\n",
       "  <thead>\n",
       "    <tr style=\"text-align: right;\">\n",
       "      <th></th>\n",
       "      <th>item</th>\n",
       "      <th>similarities</th>\n",
       "    </tr>\n",
       "  </thead>\n",
       "  <tbody>\n",
       "    <tr>\n",
       "      <th>9</th>\n",
       "      <td>Praise Aerobics VHS</td>\n",
       "      <td>1.000000</td>\n",
       "    </tr>\n",
       "    <tr>\n",
       "      <th>8630</th>\n",
       "      <td>Richard Simmons - Disco Sweat</td>\n",
       "      <td>0.727897</td>\n",
       "    </tr>\n",
       "    <tr>\n",
       "      <th>47294</th>\n",
       "      <td>Low Impact, High Intensity with Charlene Prickett</td>\n",
       "      <td>0.677509</td>\n",
       "    </tr>\n",
       "    <tr>\n",
       "      <th>8723</th>\n",
       "      <td>Low Impact Aerobics VHS</td>\n",
       "      <td>0.660788</td>\n",
       "    </tr>\n",
       "    <tr>\n",
       "      <th>9368</th>\n",
       "      <td>Weight Watchers: Low Impact Aerobics VHS</td>\n",
       "      <td>0.483444</td>\n",
       "    </tr>\n",
       "    <tr>\n",
       "      <th>44038</th>\n",
       "      <td>Rev Up - The Sequel</td>\n",
       "      <td>0.481968</td>\n",
       "    </tr>\n",
       "    <tr>\n",
       "      <th>6555</th>\n",
       "      <td>Aerobicise 2000 - A Workout For The Next Gener...</td>\n",
       "      <td>0.457063</td>\n",
       "    </tr>\n",
       "    <tr>\n",
       "      <th>37899</th>\n",
       "      <td>Cathe Friedrich's Low Max DVD</td>\n",
       "      <td>0.436477</td>\n",
       "    </tr>\n",
       "    <tr>\n",
       "      <th>8638</th>\n",
       "      <td>Mary Tyler Moore: Everywoman's Workout Aerobic...</td>\n",
       "      <td>0.429791</td>\n",
       "    </tr>\n",
       "    <tr>\n",
       "      <th>38748</th>\n",
       "      <td>Superbody: Aerobics Plus ! Created By Deborah ...</td>\n",
       "      <td>0.414496</td>\n",
       "    </tr>\n",
       "  </tbody>\n",
       "</table>\n",
       "</div>"
      ],
      "text/plain": [
       "                                                    item  similarities\n",
       "9                                    Praise Aerobics VHS      1.000000\n",
       "8630                       Richard Simmons - Disco Sweat      0.727897\n",
       "47294  Low Impact, High Intensity with Charlene Prickett      0.677509\n",
       "8723                             Low Impact Aerobics VHS      0.660788\n",
       "9368            Weight Watchers: Low Impact Aerobics VHS      0.483444\n",
       "44038                                Rev Up - The Sequel      0.481968\n",
       "6555   Aerobicise 2000 - A Workout For The Next Gener...      0.457063\n",
       "37899                      Cathe Friedrich's Low Max DVD      0.436477\n",
       "8638   Mary Tyler Moore: Everywoman's Workout Aerobic...      0.429791\n",
       "38748  Superbody: Aerobics Plus ! Created By Deborah ...      0.414496"
      ]
     },
     "execution_count": 117,
     "metadata": {},
     "output_type": "execute_result"
    }
   ],
   "source": [
    "sim_df = pd.DataFrame({'item':rec_df_subset['title'], \n",
    "                       'similarities': np.array(mov_similarities[best_rec[0],:].todense()).squeeze()})\n",
    "\n",
    "# Sort the values by descending to find the most similar\n",
    "top_recommend = sim_df.sort_values(by = 'similarities', ascending = False)[0:10]\n",
    "\n",
    "# Check results\n",
    "top_recommend"
   ]
  },
  {
   "cell_type": "markdown",
   "id": "af14af04",
   "metadata": {},
   "source": [
    "The first and second product's description can be viewed to determine how they are similar to one another."
   ]
  },
  {
   "cell_type": "markdown",
   "id": "266ff0d8",
   "metadata": {},
   "source": [
    "## 3.2 Evaluate recommendation system<a class ='anchor' id='3.5_evaluate_recommendation'></a>"
   ]
  },
  {
   "cell_type": "markdown",
   "id": "9fd7967b",
   "metadata": {},
   "source": [
    "**Check the actual descriptions to see if products are similar.**"
   ]
  },
  {
   "cell_type": "markdown",
   "id": "93337590",
   "metadata": {},
   "source": [
    "Get the indices for the first 2 items."
   ]
  },
  {
   "cell_type": "code",
   "execution_count": 118,
   "id": "b2b03016",
   "metadata": {},
   "outputs": [],
   "source": [
    "index_1 = top_recommend.iloc[0].name\n",
    "index_2 = top_recommend.iloc[1].name"
   ]
  },
  {
   "cell_type": "code",
   "execution_count": 119,
   "id": "55234e2b",
   "metadata": {},
   "outputs": [
    {
     "data": {
      "text/plain": [
       "'Praise Aerobics - A low-intensity/high-intesity low impact aerobic workout.'"
      ]
     },
     "execution_count": 119,
     "metadata": {},
     "output_type": "execute_result"
    }
   ],
   "source": [
    "rec_df_subset['description_0'][index_1]"
   ]
  },
  {
   "cell_type": "code",
   "execution_count": 120,
   "id": "a5557d0d",
   "metadata": {},
   "outputs": [
    {
     "data": {
      "text/plain": [
       "'low-impact aerobic workout'"
      ]
     },
     "execution_count": 120,
     "metadata": {},
     "output_type": "execute_result"
    }
   ],
   "source": [
    "rec_df_subset['description_0'][index_2]"
   ]
  },
  {
   "cell_type": "markdown",
   "id": "4818d16c",
   "metadata": {},
   "source": [
    "The descriptions above both contain the words 'low impact aerobic workout' which explains why there is a 72.7% similarity between the two."
   ]
  },
  {
   "cell_type": "markdown",
   "id": "9b07d274",
   "metadata": {},
   "source": [
    "Another recommendation can be evaluated"
   ]
  },
  {
   "cell_type": "code",
   "execution_count": 125,
   "id": "44151f5c",
   "metadata": {},
   "outputs": [
    {
     "data": {
      "text/html": [
       "<div>\n",
       "<style scoped>\n",
       "    .dataframe tbody tr th:only-of-type {\n",
       "        vertical-align: middle;\n",
       "    }\n",
       "\n",
       "    .dataframe tbody tr th {\n",
       "        vertical-align: top;\n",
       "    }\n",
       "\n",
       "    .dataframe thead th {\n",
       "        text-align: right;\n",
       "    }\n",
       "</style>\n",
       "<table border=\"1\" class=\"dataframe\">\n",
       "  <thead>\n",
       "    <tr style=\"text-align: right;\">\n",
       "      <th></th>\n",
       "      <th>item</th>\n",
       "      <th>similarities</th>\n",
       "    </tr>\n",
       "  </thead>\n",
       "  <tbody>\n",
       "    <tr>\n",
       "      <th>14</th>\n",
       "      <td>50 Years of Thorns and Roses VHS</td>\n",
       "      <td>1.000000</td>\n",
       "    </tr>\n",
       "    <tr>\n",
       "      <th>5442</th>\n",
       "      <td>Richard Strauss - Salome / Petr Weigl, Giusepp...</td>\n",
       "      <td>0.976313</td>\n",
       "    </tr>\n",
       "    <tr>\n",
       "      <th>10097</th>\n",
       "      <td>Faster Pussycat Kill Kill VHS</td>\n",
       "      <td>0.967741</td>\n",
       "    </tr>\n",
       "    <tr>\n",
       "      <th>9955</th>\n",
       "      <td>Robinson Crusoe and the Tiger VHS</td>\n",
       "      <td>0.955238</td>\n",
       "    </tr>\n",
       "    <tr>\n",
       "      <th>5447</th>\n",
       "      <td>Tchaikovsky: Sleeping Beauty VHS</td>\n",
       "      <td>0.955238</td>\n",
       "    </tr>\n",
       "    <tr>\n",
       "      <th>4045</th>\n",
       "      <td>Stevie VHS</td>\n",
       "      <td>0.928834</td>\n",
       "    </tr>\n",
       "    <tr>\n",
       "      <th>910</th>\n",
       "      <td>How To Behave So Your Children Will, Too! VHS</td>\n",
       "      <td>0.905555</td>\n",
       "    </tr>\n",
       "    <tr>\n",
       "      <th>7879</th>\n",
       "      <td>Simply Moguls VHS</td>\n",
       "      <td>0.789825</td>\n",
       "    </tr>\n",
       "    <tr>\n",
       "      <th>459</th>\n",
       "      <td>Belle's Magical World VHS</td>\n",
       "      <td>0.758028</td>\n",
       "    </tr>\n",
       "    <tr>\n",
       "      <th>18233</th>\n",
       "      <td>Air Power: SR-71 Blackbird: The Secret Vigil VHS</td>\n",
       "      <td>0.757445</td>\n",
       "    </tr>\n",
       "  </tbody>\n",
       "</table>\n",
       "</div>"
      ],
      "text/plain": [
       "                                                    item  similarities\n",
       "14                      50 Years of Thorns and Roses VHS      1.000000\n",
       "5442   Richard Strauss - Salome / Petr Weigl, Giusepp...      0.976313\n",
       "10097                      Faster Pussycat Kill Kill VHS      0.967741\n",
       "9955                   Robinson Crusoe and the Tiger VHS      0.955238\n",
       "5447                    Tchaikovsky: Sleeping Beauty VHS      0.955238\n",
       "4045                                          Stevie VHS      0.928834\n",
       "910        How To Behave So Your Children Will, Too! VHS      0.905555\n",
       "7879                                   Simply Moguls VHS      0.789825\n",
       "459                            Belle's Magical World VHS      0.758028\n",
       "18233   Air Power: SR-71 Blackbird: The Secret Vigil VHS      0.757445"
      ]
     },
     "execution_count": 125,
     "metadata": {},
     "output_type": "execute_result"
    }
   ],
   "source": [
    "sim_df = pd.DataFrame({'item':rec_df_subset['title'], \n",
    "                       'similarities': np.array(mov_similarities[best_rec[1],:].todense()).squeeze()})\n",
    "\n",
    "# Sort the values by descending to find the most similar\n",
    "top_recommend = sim_df.sort_values(by = 'similarities', ascending = False)[0:10]\n",
    "\n",
    "# Check results\n",
    "top_recommend"
   ]
  },
  {
   "cell_type": "markdown",
   "id": "a994f092",
   "metadata": {},
   "source": [
    "The first and second product's description can be viewed to determine how they are similar to one another."
   ]
  },
  {
   "cell_type": "markdown",
   "id": "1cbd91e2",
   "metadata": {},
   "source": [
    "**Check the actual descriptions to see if products are similar.**"
   ]
  },
  {
   "cell_type": "markdown",
   "id": "61a96afe",
   "metadata": {},
   "source": [
    "Get the indices for the first 2 items."
   ]
  },
  {
   "cell_type": "code",
   "execution_count": 118,
   "id": "16620c93",
   "metadata": {},
   "outputs": [],
   "source": [
    "index_1 = top_recommend.iloc[0].name\n",
    "index_2 = top_recommend.iloc[1].name"
   ]
  },
  {
   "cell_type": "code",
   "execution_count": 119,
   "id": "bd7ce631",
   "metadata": {},
   "outputs": [
    {
     "data": {
      "text/plain": [
       "'Praise Aerobics - A low-intensity/high-intesity low impact aerobic workout.'"
      ]
     },
     "execution_count": 119,
     "metadata": {},
     "output_type": "execute_result"
    }
   ],
   "source": [
    "rec_df_subset['description_0'][index_1]"
   ]
  },
  {
   "cell_type": "code",
   "execution_count": 120,
   "id": "aa313515",
   "metadata": {},
   "outputs": [
    {
     "data": {
      "text/plain": [
       "'low-impact aerobic workout'"
      ]
     },
     "execution_count": 120,
     "metadata": {},
     "output_type": "execute_result"
    }
   ],
   "source": [
    "rec_df_subset['description_0'][index_2]"
   ]
  },
  {
   "cell_type": "code",
   "execution_count": null,
   "id": "55571593",
   "metadata": {},
   "outputs": [],
   "source": []
  },
  {
   "cell_type": "markdown",
   "id": "bbdea92a",
   "metadata": {},
   "source": [
    "This above approach in recommending products take a lot of computation power and memory because the cosine similarity between every product is computed. A more efficient way is to compare only the product that is chosen with every other product."
   ]
  },
  {
   "cell_type": "markdown",
   "id": "c372aa42",
   "metadata": {},
   "source": [
    "## 3.1 One Product Comparision<a class ='anchor' id='3.1_single_product'></a>"
   ]
  },
  {
   "cell_type": "markdown",
   "id": "48441ea7",
   "metadata": {},
   "source": [
    "Find the Cosine similarity for the requested product instead of generating the cosine similarity for all the products."
   ]
  },
  {
   "cell_type": "code",
   "execution_count": 23,
   "id": "bb4eee0a",
   "metadata": {},
   "outputs": [
    {
     "data": {
      "text/plain": [
       "TfidfVectorizer(min_df=10, stop_words='english')"
      ]
     },
     "execution_count": 23,
     "metadata": {},
     "output_type": "execute_result"
    }
   ],
   "source": [
    "# Define the vectorizer\n",
    "vectorizer2 = TfidfVectorizer(stop_words = 'english', min_df = 10)\n",
    "\n",
    "# Fit\n",
    "vectorizer2.fit(rec_df['description_0'])\n"
   ]
  },
  {
   "cell_type": "code",
   "execution_count": 24,
   "id": "0a783dc2",
   "metadata": {},
   "outputs": [],
   "source": [
    "# Transform the description\n",
    "TF_matrix = vectorizer2.transform(rec_df['description_0'])"
   ]
  },
  {
   "cell_type": "code",
   "execution_count": 25,
   "id": "30c7e3af",
   "metadata": {},
   "outputs": [],
   "source": [
    "# Determine the index of the movie\n",
    "movie_index = rec_df_subset[rec_df_subset['title'] =='Rise and Swine (Good Eats Vol. 7)'].index"
   ]
  },
  {
   "cell_type": "code",
   "execution_count": 26,
   "id": "044d48f4",
   "metadata": {},
   "outputs": [],
   "source": [
    "TF_matrix_product = vectorizer2.transform(rec_df_subset['description_0'][movie_index])"
   ]
  },
  {
   "cell_type": "code",
   "execution_count": 27,
   "id": "9cecf9e3",
   "metadata": {
    "scrolled": true
   },
   "outputs": [
    {
     "data": {
      "text/plain": [
       "Int64Index([2], dtype='int64')"
      ]
     },
     "execution_count": 27,
     "metadata": {},
     "output_type": "execute_result"
    }
   ],
   "source": [
    "movie_index"
   ]
  },
  {
   "cell_type": "code",
   "execution_count": 28,
   "id": "51a39de8",
   "metadata": {},
   "outputs": [
    {
     "data": {
      "text/plain": [
       "(156481, 39048)"
      ]
     },
     "execution_count": 28,
     "metadata": {},
     "output_type": "execute_result"
    }
   ],
   "source": [
    "TF_matrix.shape"
   ]
  },
  {
   "cell_type": "code",
   "execution_count": 29,
   "id": "10e8e89b",
   "metadata": {},
   "outputs": [
    {
     "data": {
      "text/plain": [
       "<1x39048 sparse matrix of type '<class 'numpy.float64'>'\n",
       "\twith 54 stored elements in Compressed Sparse Row format>"
      ]
     },
     "execution_count": 29,
     "metadata": {},
     "output_type": "execute_result"
    }
   ],
   "source": [
    "TF_matrix[movie_index]"
   ]
  },
  {
   "cell_type": "code",
   "execution_count": 30,
   "id": "dce716c4",
   "metadata": {},
   "outputs": [
    {
     "data": {
      "text/plain": [
       "(1, 39048)"
      ]
     },
     "execution_count": 30,
     "metadata": {},
     "output_type": "execute_result"
    }
   ],
   "source": [
    "# Check the shape of the transformed description\n",
    "TF_matrix_product.shape"
   ]
  },
  {
   "cell_type": "code",
   "execution_count": 31,
   "id": "4e11fdf7",
   "metadata": {},
   "outputs": [
    {
     "data": {
      "text/plain": [
       "<156481x1 sparse matrix of type '<class 'numpy.float64'>'\n",
       "\twith 55953 stored elements in Compressed Sparse Row format>"
      ]
     },
     "execution_count": 31,
     "metadata": {},
     "output_type": "execute_result"
    }
   ],
   "source": [
    "# Find the similarity between the chosen product with every other product in the dataset\n",
    "mov_similarities = cosine_similarity(TF_matrix,TF_matrix_product, dense_output = False)\n",
    "\n",
    "# Check output results\n",
    "mov_similarities"
   ]
  },
  {
   "cell_type": "code",
   "execution_count": 32,
   "id": "16343401",
   "metadata": {},
   "outputs": [],
   "source": [
    "# Convert the movie similarities output into a dataframe\n",
    "single_df = pd.DataFrame({'item':rec_df['title'], \n",
    "                       'similarities': np.array(mov_similarities.todense()).squeeze()})"
   ]
  },
  {
   "cell_type": "code",
   "execution_count": 33,
   "id": "b7c14f11",
   "metadata": {},
   "outputs": [
    {
     "data": {
      "text/html": [
       "<div>\n",
       "<style scoped>\n",
       "    .dataframe tbody tr th:only-of-type {\n",
       "        vertical-align: middle;\n",
       "    }\n",
       "\n",
       "    .dataframe tbody tr th {\n",
       "        vertical-align: top;\n",
       "    }\n",
       "\n",
       "    .dataframe thead th {\n",
       "        text-align: right;\n",
       "    }\n",
       "</style>\n",
       "<table border=\"1\" class=\"dataframe\">\n",
       "  <thead>\n",
       "    <tr style=\"text-align: right;\">\n",
       "      <th></th>\n",
       "      <th>item</th>\n",
       "      <th>similarities</th>\n",
       "    </tr>\n",
       "  </thead>\n",
       "  <tbody>\n",
       "    <tr>\n",
       "      <th>2</th>\n",
       "      <td>Rise and Swine (Good Eats Vol. 7)</td>\n",
       "      <td>1.000000</td>\n",
       "    </tr>\n",
       "    <tr>\n",
       "      <th>76483</th>\n",
       "      <td>Good Eats with Alton Brown Vol. 12</td>\n",
       "      <td>0.301367</td>\n",
       "    </tr>\n",
       "    <tr>\n",
       "      <th>94294</th>\n",
       "      <td>American Eats: Holiday Foods</td>\n",
       "      <td>0.256991</td>\n",
       "    </tr>\n",
       "    <tr>\n",
       "      <th>61427</th>\n",
       "      <td>Food Network: Good Eats with Alton Brown - Bre...</td>\n",
       "      <td>0.247336</td>\n",
       "    </tr>\n",
       "    <tr>\n",
       "      <th>92830</th>\n",
       "      <td>Good Eats with Alton Brown - Holiday Treats (R...</td>\n",
       "      <td>0.244306</td>\n",
       "    </tr>\n",
       "    <tr>\n",
       "      <th>99539</th>\n",
       "      <td>Food Network Takeout Collection DVD - Good Eat...</td>\n",
       "      <td>0.243199</td>\n",
       "    </tr>\n",
       "    <tr>\n",
       "      <th>94305</th>\n",
       "      <td>American Eats: Hot Dogs</td>\n",
       "      <td>0.236412</td>\n",
       "    </tr>\n",
       "    <tr>\n",
       "      <th>76760</th>\n",
       "      <td>Good Eats: Cupboard Cuisine - Volume 11</td>\n",
       "      <td>0.224773</td>\n",
       "    </tr>\n",
       "    <tr>\n",
       "      <th>94298</th>\n",
       "      <td>American Eats</td>\n",
       "      <td>0.213358</td>\n",
       "    </tr>\n",
       "    <tr>\n",
       "      <th>95611</th>\n",
       "      <td>Kitchen Wisdom from Good Eats (Good Eats Vol. 20)</td>\n",
       "      <td>0.202247</td>\n",
       "    </tr>\n",
       "  </tbody>\n",
       "</table>\n",
       "</div>"
      ],
      "text/plain": [
       "                                                    item  similarities\n",
       "2                      Rise and Swine (Good Eats Vol. 7)      1.000000\n",
       "76483                 Good Eats with Alton Brown Vol. 12      0.301367\n",
       "94294                       American Eats: Holiday Foods      0.256991\n",
       "61427  Food Network: Good Eats with Alton Brown - Bre...      0.247336\n",
       "92830  Good Eats with Alton Brown - Holiday Treats (R...      0.244306\n",
       "99539  Food Network Takeout Collection DVD - Good Eat...      0.243199\n",
       "94305                            American Eats: Hot Dogs      0.236412\n",
       "76760            Good Eats: Cupboard Cuisine - Volume 11      0.224773\n",
       "94298                                      American Eats      0.213358\n",
       "95611  Kitchen Wisdom from Good Eats (Good Eats Vol. 20)      0.202247"
      ]
     },
     "execution_count": 33,
     "metadata": {},
     "output_type": "execute_result"
    }
   ],
   "source": [
    "# Check the top 10 most similar products\n",
    "single_df.sort_values(by = 'similarities', ascending = False).head(10)"
   ]
  },
  {
   "cell_type": "markdown",
   "id": "9c4a7504",
   "metadata": {},
   "source": [
    "## 3.2 Save the vectorizer model<a class ='anchor' id='3.2_save_vectorizer'></a>"
   ]
  },
  {
   "cell_type": "markdown",
   "id": "fd169ba5",
   "metadata": {},
   "source": [
    "Ther recommender vectorizer model will be saved to be used in the future"
   ]
  },
  {
   "cell_type": "code",
   "execution_count": 34,
   "id": "787d558b",
   "metadata": {},
   "outputs": [],
   "source": [
    "pickle.dump(vectorizer2, open('recommender_vectorizer.pickle','wb'))"
   ]
  },
  {
   "cell_type": "markdown",
   "id": "071e073a",
   "metadata": {},
   "source": [
    "The model will be loaded in as a test to ensure that the model saved properly."
   ]
  },
  {
   "cell_type": "code",
   "execution_count": 35,
   "id": "2b1ee8fd",
   "metadata": {},
   "outputs": [],
   "source": [
    "file_vectorizer = pickle.load(open('recommender_vectorizer.pickle','rb'))"
   ]
  },
  {
   "cell_type": "markdown",
   "id": "24492147",
   "metadata": {},
   "source": [
    "## 3.3 Top 10 Recommendation Function<a class ='anchor' id='3.3_recommend_function'></a>"
   ]
  },
  {
   "cell_type": "markdown",
   "id": "5006f055",
   "metadata": {},
   "source": [
    "Create a function that would take in the item and output the top 10 recommendations."
   ]
  },
  {
   "cell_type": "code",
   "execution_count": 65,
   "id": "e809b424",
   "metadata": {},
   "outputs": [],
   "source": [
    "def rec_system(vectorizer, sentiment, product_list, product_name):\n",
    "    '''\n",
    "    \n",
    "    The purpose of this function is to recommend products based on the predicted\n",
    "    sentiment and product name.\n",
    "    \n",
    "    The inputs to this function includes the vectorizer model, the sentiment of \n",
    "    the review text, the list of products, product name to be used for \n",
    "    recommending other products.\n",
    "    \n",
    "    \n",
    "    Parameters\n",
    "    ----------\n",
    "    vectorizer = sklearn.feature_extraction.text.TfidfVectorizer (Vectorizer model)\n",
    "    sentiment = int\n",
    "    product_list = pandas.core.frame.DataFrame\n",
    "    product_name = str \n",
    "    \n",
    "    \n",
    "    Returns\n",
    "    --------\n",
    "    Recommended Product list\n",
    "    \n",
    "    '''\n",
    "    \n",
    "    # Transform the description\n",
    "    TF_matrix = vectorizer.transform(product_list['description_0'])\n",
    "    \n",
    "    # Determine the index of the product of recommendation\n",
    "    product_index = product_list[product_list['title'] == product_name].index\n",
    "    \n",
    "    # Get the TF matrix of the required product\n",
    "    TF_matrix_product = TF_matrix[product_index]\n",
    "    \n",
    "    # Determine the similarity between the product and everything else\n",
    "    product_similarities = cosine_similarity(TF_matrix,TF_matrix_product, dense_output = False)\n",
    "    \n",
    "    # \n",
    "    single_df = pd.DataFrame({'item':product_list['title'], \n",
    "                       'similarities': np.array(product_similarities.todense()).squeeze()})\n",
    "    \n",
    "    # Sort the products by similarity\n",
    "    single_df_sorted = single_df.sort_values(by = 'similarities', ascending = False)\n",
    "    \n",
    "    \n",
    "    # When the sentiment is positive, recommend the top 10 most similar products\n",
    "    if sentiment == 1:\n",
    "        recommended_products = single_df_sorted.head(10)\n",
    "    \n",
    "    # Recommend 10 products randomly from the top 100 most similar products\n",
    "    else:\n",
    "        # Split out the top 100 recommended_products\n",
    "        top_100 = single_df_sorted.iloc[:100].reset_index(drop = True)\n",
    "        \n",
    "        # Randomly sample 10 numbers between 0 and 99\n",
    "        ran_num = random.sample(range(0, 100), 10)\n",
    "        \n",
    "        # Find the index where the ran_num exists in the top 100 recommended products\n",
    "        top_100_index = top_100.index.isin(ran_num)\n",
    "        \n",
    "        # Determine recommended products\n",
    "        recommended_products = top_100[top_100_index]\n",
    "        \n",
    "    return recommended_products.reset_index(drop = True)"
   ]
  },
  {
   "cell_type": "markdown",
   "id": "94489094",
   "metadata": {},
   "source": [
    "## 3.4 Test out recommendation system<a class ='anchor' id='3.4_test_recommendation'></a>"
   ]
  },
  {
   "cell_type": "code",
   "execution_count": 66,
   "id": "854d1613",
   "metadata": {
    "scrolled": true
   },
   "outputs": [
    {
     "data": {
      "text/html": [
       "<div>\n",
       "<style scoped>\n",
       "    .dataframe tbody tr th:only-of-type {\n",
       "        vertical-align: middle;\n",
       "    }\n",
       "\n",
       "    .dataframe tbody tr th {\n",
       "        vertical-align: top;\n",
       "    }\n",
       "\n",
       "    .dataframe thead th {\n",
       "        text-align: right;\n",
       "    }\n",
       "</style>\n",
       "<table border=\"1\" class=\"dataframe\">\n",
       "  <thead>\n",
       "    <tr style=\"text-align: right;\">\n",
       "      <th></th>\n",
       "      <th>item</th>\n",
       "      <th>similarities</th>\n",
       "    </tr>\n",
       "  </thead>\n",
       "  <tbody>\n",
       "    <tr>\n",
       "      <th>0</th>\n",
       "      <td>American Eats: Holiday Foods</td>\n",
       "      <td>0.256991</td>\n",
       "    </tr>\n",
       "    <tr>\n",
       "      <th>1</th>\n",
       "      <td>Love Is the Devil</td>\n",
       "      <td>0.185373</td>\n",
       "    </tr>\n",
       "    <tr>\n",
       "      <th>2</th>\n",
       "      <td>Surf, Turf &amp;amp; A Side (Good Eats Vol. 14)</td>\n",
       "      <td>0.180079</td>\n",
       "    </tr>\n",
       "    <tr>\n",
       "      <th>3</th>\n",
       "      <td>Strawberry Shortcake - Get Well Adventure</td>\n",
       "      <td>0.144364</td>\n",
       "    </tr>\n",
       "    <tr>\n",
       "      <th>4</th>\n",
       "      <td>Dare To Cook: Barbecue &amp;amp; Grilling</td>\n",
       "      <td>0.139608</td>\n",
       "    </tr>\n",
       "    <tr>\n",
       "      <th>5</th>\n",
       "      <td>Floyd Mayweather jr. Boxing DVD Collection</td>\n",
       "      <td>0.131203</td>\n",
       "    </tr>\n",
       "    <tr>\n",
       "      <th>6</th>\n",
       "      <td>Untold Secrets of the Civil War/American India...</td>\n",
       "      <td>0.125405</td>\n",
       "    </tr>\n",
       "    <tr>\n",
       "      <th>7</th>\n",
       "      <td>Partying 101: (Bio Dome / P.C.U. / Back to Sch...</td>\n",
       "      <td>0.124416</td>\n",
       "    </tr>\n",
       "    <tr>\n",
       "      <th>8</th>\n",
       "      <td>Strawberry Shortcake - Berry, Merry Christmas</td>\n",
       "      <td>0.123068</td>\n",
       "    </tr>\n",
       "    <tr>\n",
       "      <th>9</th>\n",
       "      <td>Elvis Presley MGM Movie Legends Collection: (C...</td>\n",
       "      <td>0.121558</td>\n",
       "    </tr>\n",
       "  </tbody>\n",
       "</table>\n",
       "</div>"
      ],
      "text/plain": [
       "                                                item  similarities\n",
       "0                       American Eats: Holiday Foods      0.256991\n",
       "1                                  Love Is the Devil      0.185373\n",
       "2        Surf, Turf &amp; A Side (Good Eats Vol. 14)      0.180079\n",
       "3          Strawberry Shortcake - Get Well Adventure      0.144364\n",
       "4              Dare To Cook: Barbecue &amp; Grilling      0.139608\n",
       "5         Floyd Mayweather jr. Boxing DVD Collection      0.131203\n",
       "6  Untold Secrets of the Civil War/American India...      0.125405\n",
       "7  Partying 101: (Bio Dome / P.C.U. / Back to Sch...      0.124416\n",
       "8      Strawberry Shortcake - Berry, Merry Christmas      0.123068\n",
       "9  Elvis Presley MGM Movie Legends Collection: (C...      0.121558"
      ]
     },
     "execution_count": 66,
     "metadata": {},
     "output_type": "execute_result"
    }
   ],
   "source": [
    "# Test out recommendation system\n",
    "\n",
    "rec_system(file_vectorizer, 0 ,rec_df,'Rise and Swine (Good Eats Vol. 7)')"
   ]
  },
  {
   "cell_type": "code",
   "execution_count": null,
   "id": "1536c409",
   "metadata": {},
   "outputs": [],
   "source": []
  },
  {
   "cell_type": "markdown",
   "id": "2717830f",
   "metadata": {},
   "source": [
    "Sample tests can be a movie review + the rating -> Feed into model, Output top 10 movies the person may like."
   ]
  },
  {
   "cell_type": "markdown",
   "id": "5bfc8acf",
   "metadata": {},
   "source": [
    "Use reviews and movie descriptions to determine which movies to recommend based off of if the person rated the movie highly or not."
   ]
  },
  {
   "cell_type": "code",
   "execution_count": null,
   "id": "0e1d40b9",
   "metadata": {},
   "outputs": [],
   "source": []
  },
  {
   "cell_type": "markdown",
   "id": "3e247f39",
   "metadata": {},
   "source": [
    "# 4. Conclusion and Future Works<a class ='anchor' id='4Conclusion'></a>"
   ]
  },
  {
   "cell_type": "code",
   "execution_count": null,
   "id": "5f168c98",
   "metadata": {},
   "outputs": [],
   "source": []
  }
 ],
 "metadata": {
  "kernelspec": {
   "display_name": "Python 3",
   "language": "python",
   "name": "python3"
  },
  "language_info": {
   "codemirror_mode": {
    "name": "ipython",
    "version": 3
   },
   "file_extension": ".py",
   "mimetype": "text/x-python",
   "name": "python",
   "nbconvert_exporter": "python",
   "pygments_lexer": "ipython3",
   "version": "3.8.8"
  },
  "vscode": {
   "interpreter": {
    "hash": "b0b87898d849d5a7e2d74c069a53aa09ad9f1d9b21997adfe24015fe0f36f48c"
   }
  }
 },
 "nbformat": 4,
 "nbformat_minor": 5
}
