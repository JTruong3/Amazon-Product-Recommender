{
 "cells": [
  {
   "cell_type": "markdown",
   "id": "9839f88d",
   "metadata": {},
   "source": [
    "# 4 Recommendation System"
   ]
  },
  {
   "cell_type": "markdown",
   "id": "5eb1d276",
   "metadata": {},
   "source": [
    "- Author: Jason Truong\n",
    "- Last Modified: August 21, 2022\n",
    "- Email: Jasontruong19@gmail.com"
   ]
  },
  {
   "cell_type": "markdown",
   "id": "cb3118e6",
   "metadata": {},
   "source": [
    "# Table of Contents\n",
    "\n",
    "1. [Objective and Roadmap](#1Objective)  \n",
    "2. [Preliminary Data Setup](#2Preliminary)   \n",
    "3. [Content Based Recommendation](#4Test_Train)  \n",
    "4. [Collaborative Based Recommendation](#3NLP)  \n",
    "5. [Conclusion and Future Works](#5AdvancedModels)  "
   ]
  },
  {
   "cell_type": "markdown",
   "id": "3996e6a2",
   "metadata": {},
   "source": [
    "# 1. Objective<a class ='anchor' id='1Objective'></a>"
   ]
  },
  {
   "cell_type": "markdown",
   "id": "66e2193e",
   "metadata": {},
   "source": [
    "To use review text and product description to come up with recommendations for users."
   ]
  },
  {
   "cell_type": "markdown",
   "id": "e02aa52c",
   "metadata": {},
   "source": [
    "# 2. Preliminary Data Setup<a class ='anchor' id='2Preliminary'></a>"
   ]
  },
  {
   "cell_type": "code",
   "execution_count": 7,
   "id": "677d06a1",
   "metadata": {},
   "outputs": [],
   "source": [
    "import json\n",
    "import pandas as pd\n",
    "import numpy as np\n",
    "import matplotlib.pyplot as plt\n",
    "\n",
    "from sklearn.linear_model import LogisticRegression\n",
    "from sklearn.feature_extraction.text import CountVectorizer\n",
    "from sklearn.model_selection import train_test_split"
   ]
  },
  {
   "cell_type": "markdown",
   "id": "48487750",
   "metadata": {},
   "source": [
    "Load in the dataset"
   ]
  },
  {
   "cell_type": "code",
   "execution_count": 8,
   "id": "b642c905",
   "metadata": {},
   "outputs": [],
   "source": [
    "meta_df = pd.read_csv('clean_meta.csv')"
   ]
  },
  {
   "cell_type": "code",
   "execution_count": 40,
   "id": "08a1e372",
   "metadata": {},
   "outputs": [
    {
     "data": {
      "text/html": [
       "<div>\n",
       "<style scoped>\n",
       "    .dataframe tbody tr th:only-of-type {\n",
       "        vertical-align: middle;\n",
       "    }\n",
       "\n",
       "    .dataframe tbody tr th {\n",
       "        vertical-align: top;\n",
       "    }\n",
       "\n",
       "    .dataframe thead th {\n",
       "        text-align: right;\n",
       "    }\n",
       "</style>\n",
       "<table border=\"1\" class=\"dataframe\">\n",
       "  <thead>\n",
       "    <tr style=\"text-align: right;\">\n",
       "      <th></th>\n",
       "      <th>title</th>\n",
       "      <th>brand</th>\n",
       "      <th>rank</th>\n",
       "      <th>price</th>\n",
       "      <th>asin</th>\n",
       "      <th>description_0</th>\n",
       "      <th>category_1</th>\n",
       "      <th>category_2</th>\n",
       "    </tr>\n",
       "  </thead>\n",
       "  <tbody>\n",
       "    <tr>\n",
       "      <th>0</th>\n",
       "      <td>Understanding Seizures and Epilepsy</td>\n",
       "      <td>NaN</td>\n",
       "      <td>886,503</td>\n",
       "      <td>NaN</td>\n",
       "      <td>0000695009</td>\n",
       "      <td>NaN</td>\n",
       "      <td>Movies</td>\n",
       "      <td>NaN</td>\n",
       "    </tr>\n",
       "    <tr>\n",
       "      <th>1</th>\n",
       "      <td>Spirit Led&amp;mdash;Moving By Grace In The Holy S...</td>\n",
       "      <td>NaN</td>\n",
       "      <td>342,688</td>\n",
       "      <td>NaN</td>\n",
       "      <td>0000791156</td>\n",
       "      <td>NaN</td>\n",
       "      <td>Movies</td>\n",
       "      <td>NaN</td>\n",
       "    </tr>\n",
       "    <tr>\n",
       "      <th>2</th>\n",
       "      <td>My Fair Pastry (Good Eats Vol. 9)</td>\n",
       "      <td>Alton Brown</td>\n",
       "      <td>370,026</td>\n",
       "      <td>NaN</td>\n",
       "      <td>0000143529</td>\n",
       "      <td>Disc 1: Flour Power (Scones; Shortcakes; South...</td>\n",
       "      <td>Movies</td>\n",
       "      <td>NaN</td>\n",
       "    </tr>\n",
       "    <tr>\n",
       "      <th>3</th>\n",
       "      <td>Barefoot Contessa (with Ina Garten), Entertain...</td>\n",
       "      <td>Ina Garten</td>\n",
       "      <td>342,914</td>\n",
       "      <td>74.95</td>\n",
       "      <td>0000143588</td>\n",
       "      <td>Barefoot Contessa Volume 2: On these three dis...</td>\n",
       "      <td>Movies</td>\n",
       "      <td>NaN</td>\n",
       "    </tr>\n",
       "    <tr>\n",
       "      <th>4</th>\n",
       "      <td>Rise and Swine (Good Eats Vol. 7)</td>\n",
       "      <td>Alton Brown</td>\n",
       "      <td>351,684</td>\n",
       "      <td>NaN</td>\n",
       "      <td>0000143502</td>\n",
       "      <td>Rise and Swine (Good Eats Vol. 7) includes bon...</td>\n",
       "      <td>Movies</td>\n",
       "      <td>NaN</td>\n",
       "    </tr>\n",
       "    <tr>\n",
       "      <th>5</th>\n",
       "      <td>The Power of the Cross Joseph Prince</td>\n",
       "      <td>Joseph Prince</td>\n",
       "      <td>444,474</td>\n",
       "      <td>NaN</td>\n",
       "      <td>000073991X</td>\n",
       "      <td>Have failures in your life caused you to feel ...</td>\n",
       "      <td>Genre for Featured Categories</td>\n",
       "      <td>Exercise &amp; Fitness</td>\n",
       "    </tr>\n",
       "    <tr>\n",
       "      <th>6</th>\n",
       "      <td>Live in Houston [VHS]</td>\n",
       "      <td>Douglas Miller</td>\n",
       "      <td>1,005,955</td>\n",
       "      <td>NaN</td>\n",
       "      <td>000107461X</td>\n",
       "      <td>Track Listings 1. Come On Everybody 2. My Stre...</td>\n",
       "      <td>Movies</td>\n",
       "      <td>NaN</td>\n",
       "    </tr>\n",
       "    <tr>\n",
       "      <th>7</th>\n",
       "      <td>Everyday Italian (with Giada de Laurentiis), V...</td>\n",
       "      <td>NaN</td>\n",
       "      <td>409,173</td>\n",
       "      <td>24.95</td>\n",
       "      <td>0000143561</td>\n",
       "      <td>Giada de Laurentis on \"Everyday Italian\" DVDs,...</td>\n",
       "      <td>Movies</td>\n",
       "      <td>NaN</td>\n",
       "    </tr>\n",
       "    <tr>\n",
       "      <th>8</th>\n",
       "      <td>At Home with the Guitar VHS</td>\n",
       "      <td>NaN</td>\n",
       "      <td>806,803</td>\n",
       "      <td>NaN</td>\n",
       "      <td>0001499572</td>\n",
       "      <td>like new</td>\n",
       "      <td>Genre for Featured Categories</td>\n",
       "      <td>Faith &amp; Spirituality</td>\n",
       "    </tr>\n",
       "    <tr>\n",
       "      <th>9</th>\n",
       "      <td>Steve Green: Hide 'em in Your Heart: 13 Bible ...</td>\n",
       "      <td>Steve Green</td>\n",
       "      <td>282,599</td>\n",
       "      <td>NaN</td>\n",
       "      <td>0001526863</td>\n",
       "      <td>Steve Green: Hide 'em in Your Heart: 13 Bible ...</td>\n",
       "      <td>Christian Video</td>\n",
       "      <td>Bible</td>\n",
       "    </tr>\n",
       "  </tbody>\n",
       "</table>\n",
       "</div>"
      ],
      "text/plain": [
       "                                               title           brand  \\\n",
       "0                Understanding Seizures and Epilepsy             NaN   \n",
       "1  Spirit Led&mdash;Moving By Grace In The Holy S...             NaN   \n",
       "2                  My Fair Pastry (Good Eats Vol. 9)     Alton Brown   \n",
       "3  Barefoot Contessa (with Ina Garten), Entertain...      Ina Garten   \n",
       "4                  Rise and Swine (Good Eats Vol. 7)     Alton Brown   \n",
       "5               The Power of the Cross Joseph Prince   Joseph Prince   \n",
       "6                              Live in Houston [VHS]  Douglas Miller   \n",
       "7  Everyday Italian (with Giada de Laurentiis), V...             NaN   \n",
       "8                        At Home with the Guitar VHS             NaN   \n",
       "9  Steve Green: Hide 'em in Your Heart: 13 Bible ...     Steve Green   \n",
       "\n",
       "        rank  price        asin  \\\n",
       "0    886,503    NaN  0000695009   \n",
       "1    342,688    NaN  0000791156   \n",
       "2    370,026    NaN  0000143529   \n",
       "3    342,914  74.95  0000143588   \n",
       "4    351,684    NaN  0000143502   \n",
       "5    444,474    NaN  000073991X   \n",
       "6  1,005,955    NaN  000107461X   \n",
       "7    409,173  24.95  0000143561   \n",
       "8    806,803    NaN  0001499572   \n",
       "9    282,599    NaN  0001526863   \n",
       "\n",
       "                                       description_0  \\\n",
       "0                                                NaN   \n",
       "1                                                NaN   \n",
       "2  Disc 1: Flour Power (Scones; Shortcakes; South...   \n",
       "3  Barefoot Contessa Volume 2: On these three dis...   \n",
       "4  Rise and Swine (Good Eats Vol. 7) includes bon...   \n",
       "5  Have failures in your life caused you to feel ...   \n",
       "6  Track Listings 1. Come On Everybody 2. My Stre...   \n",
       "7  Giada de Laurentis on \"Everyday Italian\" DVDs,...   \n",
       "8                                           like new   \n",
       "9  Steve Green: Hide 'em in Your Heart: 13 Bible ...   \n",
       "\n",
       "                      category_1            category_2  \n",
       "0                         Movies                   NaN  \n",
       "1                         Movies                   NaN  \n",
       "2                         Movies                   NaN  \n",
       "3                         Movies                   NaN  \n",
       "4                         Movies                   NaN  \n",
       "5  Genre for Featured Categories    Exercise & Fitness  \n",
       "6                         Movies                   NaN  \n",
       "7                         Movies                   NaN  \n",
       "8  Genre for Featured Categories  Faith & Spirituality  \n",
       "9                Christian Video                 Bible  "
      ]
     },
     "execution_count": 40,
     "metadata": {},
     "output_type": "execute_result"
    }
   ],
   "source": [
    "meta_df.head(10)"
   ]
  },
  {
   "cell_type": "code",
   "execution_count": 10,
   "id": "043e9d79",
   "metadata": {},
   "outputs": [
    {
     "data": {
      "text/plain": [
       "Documentary                  14242\n",
       "Drama                        12693\n",
       "Action & Adventure           11136\n",
       "Comedy                        9590\n",
       "Special Interests             8881\n",
       "                             ...  \n",
       "Two-Disc Special Editions        1\n",
       "Krauss, Alison                   1\n",
       "Amazing Vacation Homes           1\n",
       "Spanish-Language                 1\n",
       "Buble, Michael                   1\n",
       "Name: category_2, Length: 340, dtype: int64"
      ]
     },
     "execution_count": 10,
     "metadata": {},
     "output_type": "execute_result"
    }
   ],
   "source": [
    "meta_df['category_2'].value_counts()"
   ]
  },
  {
   "cell_type": "markdown",
   "id": "55ba19f2",
   "metadata": {},
   "source": [
    "# 3. Content Based Recommendation"
   ]
  },
  {
   "cell_type": "markdown",
   "id": "1139d2b3",
   "metadata": {},
   "source": [
    "The first step is to use the descriptions of the different Amazon items, in this case, movies/tv shows to recommend products that are similar."
   ]
  },
  {
   "cell_type": "code",
   "execution_count": 11,
   "id": "4bf18b20",
   "metadata": {},
   "outputs": [],
   "source": [
    "working_df = meta_df[['title','description_0']].copy()"
   ]
  },
  {
   "cell_type": "code",
   "execution_count": 12,
   "id": "9cc97002",
   "metadata": {},
   "outputs": [],
   "source": [
    "working_df['description_0'] = working_df['description_0'].fillna(\"\")"
   ]
  },
  {
   "cell_type": "code",
   "execution_count": 27,
   "id": "371a283a",
   "metadata": {},
   "outputs": [],
   "source": [
    "new_df = working_df.iloc[0:50000,:]"
   ]
  },
  {
   "cell_type": "code",
   "execution_count": 28,
   "id": "d0fa8a5a",
   "metadata": {},
   "outputs": [
    {
     "data": {
      "text/html": [
       "<div>\n",
       "<style scoped>\n",
       "    .dataframe tbody tr th:only-of-type {\n",
       "        vertical-align: middle;\n",
       "    }\n",
       "\n",
       "    .dataframe tbody tr th {\n",
       "        vertical-align: top;\n",
       "    }\n",
       "\n",
       "    .dataframe thead th {\n",
       "        text-align: right;\n",
       "    }\n",
       "</style>\n",
       "<table border=\"1\" class=\"dataframe\">\n",
       "  <thead>\n",
       "    <tr style=\"text-align: right;\">\n",
       "      <th></th>\n",
       "      <th>title</th>\n",
       "      <th>description_0</th>\n",
       "    </tr>\n",
       "  </thead>\n",
       "  <tbody>\n",
       "    <tr>\n",
       "      <th>0</th>\n",
       "      <td>Understanding Seizures and Epilepsy</td>\n",
       "      <td></td>\n",
       "    </tr>\n",
       "    <tr>\n",
       "      <th>1</th>\n",
       "      <td>Spirit Led&amp;mdash;Moving By Grace In The Holy S...</td>\n",
       "      <td></td>\n",
       "    </tr>\n",
       "    <tr>\n",
       "      <th>2</th>\n",
       "      <td>My Fair Pastry (Good Eats Vol. 9)</td>\n",
       "      <td>Disc 1: Flour Power (Scones; Shortcakes; South...</td>\n",
       "    </tr>\n",
       "    <tr>\n",
       "      <th>3</th>\n",
       "      <td>Barefoot Contessa (with Ina Garten), Entertain...</td>\n",
       "      <td>Barefoot Contessa Volume 2: On these three dis...</td>\n",
       "    </tr>\n",
       "    <tr>\n",
       "      <th>4</th>\n",
       "      <td>Rise and Swine (Good Eats Vol. 7)</td>\n",
       "      <td>Rise and Swine (Good Eats Vol. 7) includes bon...</td>\n",
       "    </tr>\n",
       "    <tr>\n",
       "      <th>...</th>\n",
       "      <td>...</td>\n",
       "      <td>...</td>\n",
       "    </tr>\n",
       "    <tr>\n",
       "      <th>49995</th>\n",
       "      <td>Mitr: My Friend</td>\n",
       "      <td>Chidambaram-based Lakshmi gets married to Prit...</td>\n",
       "    </tr>\n",
       "    <tr>\n",
       "      <th>49996</th>\n",
       "      <td>Glitter &amp;amp; Queer</td>\n",
       "      <td>From the label that brought you the Divas Of D...</td>\n",
       "    </tr>\n",
       "    <tr>\n",
       "      <th>49997</th>\n",
       "      <td>Kics Flix - Volume 5</td>\n",
       "      <td></td>\n",
       "    </tr>\n",
       "    <tr>\n",
       "      <th>49998</th>\n",
       "      <td>Fragile Machine</td>\n",
       "      <td>Merging computer animation and music in what m...</td>\n",
       "    </tr>\n",
       "    <tr>\n",
       "      <th>49999</th>\n",
       "      <td>Master The Ball Volume 1</td>\n",
       "      <td>Master the Ball Volume 1. is a high-energy spo...</td>\n",
       "    </tr>\n",
       "  </tbody>\n",
       "</table>\n",
       "<p>50000 rows × 2 columns</p>\n",
       "</div>"
      ],
      "text/plain": [
       "                                                   title  \\\n",
       "0                    Understanding Seizures and Epilepsy   \n",
       "1      Spirit Led&mdash;Moving By Grace In The Holy S...   \n",
       "2                      My Fair Pastry (Good Eats Vol. 9)   \n",
       "3      Barefoot Contessa (with Ina Garten), Entertain...   \n",
       "4                      Rise and Swine (Good Eats Vol. 7)   \n",
       "...                                                  ...   \n",
       "49995                                    Mitr: My Friend   \n",
       "49996                                Glitter &amp; Queer   \n",
       "49997                               Kics Flix - Volume 5   \n",
       "49998                                    Fragile Machine   \n",
       "49999                           Master The Ball Volume 1   \n",
       "\n",
       "                                           description_0  \n",
       "0                                                         \n",
       "1                                                         \n",
       "2      Disc 1: Flour Power (Scones; Shortcakes; South...  \n",
       "3      Barefoot Contessa Volume 2: On these three dis...  \n",
       "4      Rise and Swine (Good Eats Vol. 7) includes bon...  \n",
       "...                                                  ...  \n",
       "49995  Chidambaram-based Lakshmi gets married to Prit...  \n",
       "49996  From the label that brought you the Divas Of D...  \n",
       "49997                                                     \n",
       "49998  Merging computer animation and music in what m...  \n",
       "49999  Master the Ball Volume 1. is a high-energy spo...  \n",
       "\n",
       "[50000 rows x 2 columns]"
      ]
     },
     "execution_count": 28,
     "metadata": {},
     "output_type": "execute_result"
    }
   ],
   "source": [
    "new_df"
   ]
  },
  {
   "cell_type": "code",
   "execution_count": 29,
   "id": "eaace08e",
   "metadata": {},
   "outputs": [],
   "source": [
    "from sklearn.feature_extraction.text import TfidfVectorizer\n",
    "\n",
    "# Define the vectorizer\n",
    "vectorizer = TfidfVectorizer(stop_words = 'english', min_df = 25)\n",
    "\n",
    "# Fit\n",
    "vectorizer.fit(new_df['description_0'])\n",
    "\n",
    "# Transform the description\n",
    "TF_matrix2 = vectorizer.transform(new_df['description_0'])"
   ]
  },
  {
   "cell_type": "code",
   "execution_count": 31,
   "id": "dce716c4",
   "metadata": {},
   "outputs": [
    {
     "data": {
      "text/plain": [
       "(50000, 9046)"
      ]
     },
     "execution_count": 31,
     "metadata": {},
     "output_type": "execute_result"
    }
   ],
   "source": [
    "# Check the shape of the transformed description\n",
    "TF_matrix2.shape"
   ]
  },
  {
   "cell_type": "code",
   "execution_count": 32,
   "id": "4e11fdf7",
   "metadata": {},
   "outputs": [],
   "source": [
    "from sklearn.metrics.pairwise import cosine_similarity\n",
    "\n",
    "mov_similaries = cosine_similarity(TF_matrix2, dense_output = False)"
   ]
  },
  {
   "cell_type": "code",
   "execution_count": 33,
   "id": "aba35405",
   "metadata": {},
   "outputs": [
    {
     "data": {
      "text/plain": [
       "<50000x50000 sparse matrix of type '<class 'numpy.float64'>'\n",
       "\twith 483157748 stored elements in Compressed Sparse Row format>"
      ]
     },
     "execution_count": 33,
     "metadata": {},
     "output_type": "execute_result"
    }
   ],
   "source": [
    "mov_similaries"
   ]
  },
  {
   "cell_type": "code",
   "execution_count": 41,
   "id": "0fcc747f",
   "metadata": {},
   "outputs": [],
   "source": [
    "movie_index = new_df[new_df['title'] =='At Home with the Guitar VHS'].index\n",
    "\n",
    "sim_df = pd.DataFrame({'item':new_df['title'], \n",
    "                       'similarities': np.array(mov_similaries[movie_index,:].todense()).squeeze()})"
   ]
  },
  {
   "cell_type": "code",
   "execution_count": 42,
   "id": "21f49a8b",
   "metadata": {},
   "outputs": [
    {
     "data": {
      "text/html": [
       "<div>\n",
       "<style scoped>\n",
       "    .dataframe tbody tr th:only-of-type {\n",
       "        vertical-align: middle;\n",
       "    }\n",
       "\n",
       "    .dataframe tbody tr th {\n",
       "        vertical-align: top;\n",
       "    }\n",
       "\n",
       "    .dataframe thead th {\n",
       "        text-align: right;\n",
       "    }\n",
       "</style>\n",
       "<table border=\"1\" class=\"dataframe\">\n",
       "  <thead>\n",
       "    <tr style=\"text-align: right;\">\n",
       "      <th></th>\n",
       "      <th>item</th>\n",
       "      <th>similarities</th>\n",
       "    </tr>\n",
       "  </thead>\n",
       "  <tbody>\n",
       "    <tr>\n",
       "      <th>7166</th>\n",
       "      <td>Warren Miller's Snowboarding: Tweaked &amp;amp; Tw...</td>\n",
       "      <td>1.0</td>\n",
       "    </tr>\n",
       "    <tr>\n",
       "      <th>7168</th>\n",
       "      <td>Casanova VHS</td>\n",
       "      <td>1.0</td>\n",
       "    </tr>\n",
       "    <tr>\n",
       "      <th>4217</th>\n",
       "      <td>The Living Legend VHS</td>\n",
       "      <td>1.0</td>\n",
       "    </tr>\n",
       "    <tr>\n",
       "      <th>465</th>\n",
       "      <td>It's a Gift VHS</td>\n",
       "      <td>1.0</td>\n",
       "    </tr>\n",
       "    <tr>\n",
       "      <th>39929</th>\n",
       "      <td>Best Of Street Fury Uncut</td>\n",
       "      <td>1.0</td>\n",
       "    </tr>\n",
       "    <tr>\n",
       "      <th>...</th>\n",
       "      <td>...</td>\n",
       "      <td>...</td>\n",
       "    </tr>\n",
       "    <tr>\n",
       "      <th>17701</th>\n",
       "      <td>Mr. Wong Collection (Mr. Wong: Detective / Mys...</td>\n",
       "      <td>0.0</td>\n",
       "    </tr>\n",
       "    <tr>\n",
       "      <th>17703</th>\n",
       "      <td>JKA Shotokan Karate Kata Series-Vol 1 Heian 1-...</td>\n",
       "      <td>0.0</td>\n",
       "    </tr>\n",
       "    <tr>\n",
       "      <th>17704</th>\n",
       "      <td>Land of the Lost  Vol. 2 VHS</td>\n",
       "      <td>0.0</td>\n",
       "    </tr>\n",
       "    <tr>\n",
       "      <th>17705</th>\n",
       "      <td>JKA Shotokan Karate Kata Series-Vol 11 Unsu Ts...</td>\n",
       "      <td>0.0</td>\n",
       "    </tr>\n",
       "    <tr>\n",
       "      <th>25000</th>\n",
       "      <td>Bob Hope Collector's Set No. 2 VHS</td>\n",
       "      <td>0.0</td>\n",
       "    </tr>\n",
       "  </tbody>\n",
       "</table>\n",
       "<p>50000 rows × 2 columns</p>\n",
       "</div>"
      ],
      "text/plain": [
       "                                                    item  similarities\n",
       "7166   Warren Miller's Snowboarding: Tweaked &amp; Tw...           1.0\n",
       "7168                                        Casanova VHS           1.0\n",
       "4217                               The Living Legend VHS           1.0\n",
       "465                                      It's a Gift VHS           1.0\n",
       "39929                          Best Of Street Fury Uncut           1.0\n",
       "...                                                  ...           ...\n",
       "17701  Mr. Wong Collection (Mr. Wong: Detective / Mys...           0.0\n",
       "17703  JKA Shotokan Karate Kata Series-Vol 1 Heian 1-...           0.0\n",
       "17704                       Land of the Lost  Vol. 2 VHS           0.0\n",
       "17705  JKA Shotokan Karate Kata Series-Vol 11 Unsu Ts...           0.0\n",
       "25000                 Bob Hope Collector's Set No. 2 VHS           0.0\n",
       "\n",
       "[50000 rows x 2 columns]"
      ]
     },
     "execution_count": 42,
     "metadata": {},
     "output_type": "execute_result"
    }
   ],
   "source": [
    "sim_df.sort_values(by = 'similarities', ascending = False)"
   ]
  },
  {
   "cell_type": "code",
   "execution_count": null,
   "id": "aa7c3024",
   "metadata": {},
   "outputs": [],
   "source": []
  },
  {
   "cell_type": "markdown",
   "id": "4f829329",
   "metadata": {},
   "source": [
    "# 4. Collaborative Based Recommendations"
   ]
  },
  {
   "cell_type": "markdown",
   "id": "e9a16433",
   "metadata": {},
   "source": [
    "In this section, the review text will be converted to features and then combined with the the product description features. This combination of features allow for a user based recommendation based off of similar user reviews and product descriptions."
   ]
  },
  {
   "cell_type": "markdown",
   "id": "4ae4ab8e",
   "metadata": {},
   "source": [
    "### Load in the processed review data"
   ]
  },
  {
   "cell_type": "code",
   "execution_count": 43,
   "id": "2abeb926",
   "metadata": {},
   "outputs": [
    {
     "name": "stdout",
     "output_type": "stream",
     "text": [
      "<class 'pandas.core.frame.DataFrame'>\n",
      "Int64Index: 1698253 entries, 0 to 1698252\n",
      "Data columns (total 15 columns):\n",
      " #   Column              Non-Null Count    Dtype \n",
      "---  ------              --------------    ----- \n",
      " 0   reviewScore         1698253 non-null  int64 \n",
      " 1   verified            1698253 non-null  int64 \n",
      " 2   reviewerID          1698253 non-null  object\n",
      " 3   asin                1698253 non-null  object\n",
      " 4   reviewText          1698253 non-null  object\n",
      " 5   summary             1698253 non-null  object\n",
      " 6   vote                1698253 non-null  int64 \n",
      " 7   reviewDay           1698253 non-null  int64 \n",
      " 8   reviewMonth         1698253 non-null  int64 \n",
      " 9   reviewYear          1698253 non-null  int64 \n",
      " 10  style_Amazon Video  1698253 non-null  int64 \n",
      " 11  style_Blu-ray       1698253 non-null  int64 \n",
      " 12  style_DVD           1698253 non-null  int64 \n",
      " 13  style_Other         1698253 non-null  int64 \n",
      " 14  style_VHS Tape      1698253 non-null  int64 \n",
      "dtypes: int64(11), object(4)\n",
      "memory usage: 207.3+ MB\n"
     ]
    }
   ],
   "source": [
    "# Load in the data\n",
    "review_df = pd.read_json('preprocessed_review.json')\n",
    "\n",
    "# Check the datatypes and null values in the data\n",
    "review_df.info(show_counts= True)"
   ]
  },
  {
   "cell_type": "code",
   "execution_count": 44,
   "id": "a1d2bf1f",
   "metadata": {},
   "outputs": [
    {
     "data": {
      "text/html": [
       "<div>\n",
       "<style scoped>\n",
       "    .dataframe tbody tr th:only-of-type {\n",
       "        vertical-align: middle;\n",
       "    }\n",
       "\n",
       "    .dataframe tbody tr th {\n",
       "        vertical-align: top;\n",
       "    }\n",
       "\n",
       "    .dataframe thead th {\n",
       "        text-align: right;\n",
       "    }\n",
       "</style>\n",
       "<table border=\"1\" class=\"dataframe\">\n",
       "  <thead>\n",
       "    <tr style=\"text-align: right;\">\n",
       "      <th></th>\n",
       "      <th>reviewScore</th>\n",
       "      <th>verified</th>\n",
       "      <th>reviewerID</th>\n",
       "      <th>asin</th>\n",
       "      <th>reviewText</th>\n",
       "      <th>summary</th>\n",
       "      <th>vote</th>\n",
       "      <th>reviewDay</th>\n",
       "      <th>reviewMonth</th>\n",
       "      <th>reviewYear</th>\n",
       "      <th>style_Amazon Video</th>\n",
       "      <th>style_Blu-ray</th>\n",
       "      <th>style_DVD</th>\n",
       "      <th>style_Other</th>\n",
       "      <th>style_VHS Tape</th>\n",
       "    </tr>\n",
       "  </thead>\n",
       "  <tbody>\n",
       "    <tr>\n",
       "      <th>0</th>\n",
       "      <td>5</td>\n",
       "      <td>1</td>\n",
       "      <td>A1HP3B92A3JDQ1</td>\n",
       "      <td>0005019281</td>\n",
       "      <td>Of course it's impossible to separate Henry Wi...</td>\n",
       "      <td>The Fonz as Scrooge</td>\n",
       "      <td>4</td>\n",
       "      <td>2</td>\n",
       "      <td>11</td>\n",
       "      <td>2002</td>\n",
       "      <td>0</td>\n",
       "      <td>0</td>\n",
       "      <td>1</td>\n",
       "      <td>0</td>\n",
       "      <td>0</td>\n",
       "    </tr>\n",
       "    <tr>\n",
       "      <th>1</th>\n",
       "      <td>5</td>\n",
       "      <td>0</td>\n",
       "      <td>AZB4CQ9JZSUQB</td>\n",
       "      <td>0005019281</td>\n",
       "      <td>When this first aired in 1979, I enjoyed it so...</td>\n",
       "      <td>A Christmas Carol to be remembered</td>\n",
       "      <td>3</td>\n",
       "      <td>28</td>\n",
       "      <td>1</td>\n",
       "      <td>2002</td>\n",
       "      <td>0</td>\n",
       "      <td>0</td>\n",
       "      <td>1</td>\n",
       "      <td>0</td>\n",
       "      <td>0</td>\n",
       "    </tr>\n",
       "    <tr>\n",
       "      <th>2</th>\n",
       "      <td>5</td>\n",
       "      <td>0</td>\n",
       "      <td>A1PXS5N63PS6WR</td>\n",
       "      <td>0005019281</td>\n",
       "      <td>I must confess to being a bit of a coinsure of...</td>\n",
       "      <td>Change can be good</td>\n",
       "      <td>2</td>\n",
       "      <td>12</td>\n",
       "      <td>12</td>\n",
       "      <td>2001</td>\n",
       "      <td>0</td>\n",
       "      <td>0</td>\n",
       "      <td>1</td>\n",
       "      <td>0</td>\n",
       "      <td>0</td>\n",
       "    </tr>\n",
       "    <tr>\n",
       "      <th>3</th>\n",
       "      <td>3</td>\n",
       "      <td>0</td>\n",
       "      <td>A17TPT3FWAE5T1</td>\n",
       "      <td>0005019281</td>\n",
       "      <td>If you already have (and love) the Alistair Si...</td>\n",
       "      <td>An interesting contrast to more traditional ve...</td>\n",
       "      <td>31</td>\n",
       "      <td>11</td>\n",
       "      <td>12</td>\n",
       "      <td>2001</td>\n",
       "      <td>0</td>\n",
       "      <td>0</td>\n",
       "      <td>0</td>\n",
       "      <td>0</td>\n",
       "      <td>1</td>\n",
       "    </tr>\n",
       "    <tr>\n",
       "      <th>4</th>\n",
       "      <td>4</td>\n",
       "      <td>0</td>\n",
       "      <td>A3P98J5DZ00A75</td>\n",
       "      <td>0005019281</td>\n",
       "      <td>Henry Winkler proves his acting ability in thi...</td>\n",
       "      <td>grey</td>\n",
       "      <td>62</td>\n",
       "      <td>19</td>\n",
       "      <td>10</td>\n",
       "      <td>2001</td>\n",
       "      <td>0</td>\n",
       "      <td>0</td>\n",
       "      <td>1</td>\n",
       "      <td>0</td>\n",
       "      <td>0</td>\n",
       "    </tr>\n",
       "  </tbody>\n",
       "</table>\n",
       "</div>"
      ],
      "text/plain": [
       "   reviewScore  verified      reviewerID        asin  \\\n",
       "0            5         1  A1HP3B92A3JDQ1  0005019281   \n",
       "1            5         0   AZB4CQ9JZSUQB  0005019281   \n",
       "2            5         0  A1PXS5N63PS6WR  0005019281   \n",
       "3            3         0  A17TPT3FWAE5T1  0005019281   \n",
       "4            4         0  A3P98J5DZ00A75  0005019281   \n",
       "\n",
       "                                          reviewText  \\\n",
       "0  Of course it's impossible to separate Henry Wi...   \n",
       "1  When this first aired in 1979, I enjoyed it so...   \n",
       "2  I must confess to being a bit of a coinsure of...   \n",
       "3  If you already have (and love) the Alistair Si...   \n",
       "4  Henry Winkler proves his acting ability in thi...   \n",
       "\n",
       "                                             summary  vote  reviewDay  \\\n",
       "0                                The Fonz as Scrooge     4          2   \n",
       "1                 A Christmas Carol to be remembered     3         28   \n",
       "2                                 Change can be good     2         12   \n",
       "3  An interesting contrast to more traditional ve...    31         11   \n",
       "4                                               grey    62         19   \n",
       "\n",
       "   reviewMonth  reviewYear  style_Amazon Video  style_Blu-ray  style_DVD  \\\n",
       "0           11        2002                   0              0          1   \n",
       "1            1        2002                   0              0          1   \n",
       "2           12        2001                   0              0          1   \n",
       "3           12        2001                   0              0          0   \n",
       "4           10        2001                   0              0          1   \n",
       "\n",
       "   style_Other  style_VHS Tape  \n",
       "0            0               0  \n",
       "1            0               0  \n",
       "2            0               0  \n",
       "3            0               1  \n",
       "4            0               0  "
      ]
     },
     "execution_count": 44,
     "metadata": {},
     "output_type": "execute_result"
    }
   ],
   "source": [
    "review_df.head()"
   ]
  },
  {
   "cell_type": "markdown",
   "id": "ccd2bd89",
   "metadata": {},
   "source": [
    "### Transform all the review text to a vector"
   ]
  },
  {
   "cell_type": "code",
   "execution_count": null,
   "id": "78f1e6f0",
   "metadata": {},
   "outputs": [],
   "source": [
    "## Convert the text in the reviewText column to vectors\n",
    "from sklearn.feature_extraction.text import TfidfVectorizer\n",
    "\n",
    "# Instantiate \n",
    "# Discard stop words and words need to be in atleast 10 reviews\n",
    "review_wordbank = TfidfVectorizer(stop_words = \"english\", min_df = 25)\n",
    "\n",
    "# Fit the first 200000 reviews\n",
    "review_wordbank.fit(X_train['reviewText'])\n",
    "\n",
    "# 3. Transform\n",
    "X_train_transformed = review_wordbank.transform(X_train['reviewText'])\n",
    "X_test_transformed = review_wordbank.transform(X_test['reviewText'])\n",
    "X_train_transformed"
   ]
  },
  {
   "cell_type": "markdown",
   "id": "43723ff1",
   "metadata": {},
   "source": [
    "### Combine with numeric features"
   ]
  },
  {
   "cell_type": "markdown",
   "id": "afbfb82a",
   "metadata": {},
   "source": [
    "### Combine with meta data features based on ASIN"
   ]
  },
  {
   "cell_type": "markdown",
   "id": "7cb3642f",
   "metadata": {},
   "source": [
    "### Use cosine similarity"
   ]
  },
  {
   "cell_type": "markdown",
   "id": "94489094",
   "metadata": {},
   "source": [
    "### Test out recommendation system"
   ]
  },
  {
   "cell_type": "code",
   "execution_count": null,
   "id": "9029b224",
   "metadata": {},
   "outputs": [],
   "source": []
  },
  {
   "cell_type": "markdown",
   "id": "2717830f",
   "metadata": {},
   "source": [
    "Sample tests can be a movie review + the rating -> Feed into model, Output top 10 movies the person may like."
   ]
  },
  {
   "cell_type": "markdown",
   "id": "5bfc8acf",
   "metadata": {},
   "source": [
    "Use reviews and movie descriptions to determine which movies to recommend based off of if the person rated the movie highly or not."
   ]
  },
  {
   "cell_type": "code",
   "execution_count": null,
   "id": "0e1d40b9",
   "metadata": {},
   "outputs": [],
   "source": []
  },
  {
   "cell_type": "markdown",
   "id": "3e247f39",
   "metadata": {},
   "source": [
    "# 5. Conclusion and Future Works"
   ]
  },
  {
   "cell_type": "code",
   "execution_count": null,
   "id": "5f168c98",
   "metadata": {},
   "outputs": [],
   "source": []
  }
 ],
 "metadata": {
  "kernelspec": {
   "display_name": "Python 3 (ipykernel)",
   "language": "python",
   "name": "python3"
  },
  "language_info": {
   "codemirror_mode": {
    "name": "ipython",
    "version": 3
   },
   "file_extension": ".py",
   "mimetype": "text/x-python",
   "name": "python",
   "nbconvert_exporter": "python",
   "pygments_lexer": "ipython3",
   "version": "3.8.13"
  },
  "vscode": {
   "interpreter": {
    "hash": "b0b87898d849d5a7e2d74c069a53aa09ad9f1d9b21997adfe24015fe0f36f48c"
   }
  }
 },
 "nbformat": 4,
 "nbformat_minor": 5
}
