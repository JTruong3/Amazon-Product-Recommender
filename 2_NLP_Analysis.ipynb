{
 "cells": [
  {
   "cell_type": "markdown",
   "id": "8f97e43a",
   "metadata": {},
   "source": [
    "1. Is there something I can do now to start working on the presentation of my work. Not sure what kind of visuals/charts I can make with NLP analysis other than the word count graphs.\n",
    "2. Do you have any suggestions on how I can structure my capstone better. \n",
    "3. I also have metadata on the movie reviews but I'm not sure how to use it.\n",
    "\n",
    "count, distribution of length of reviews\n",
    "distribution of review scores\n",
    "By Genre\n",
    "product category\n",
    "\n",
    "Meta data, recommendation overlap with 'also bought column' \n"
   ]
  },
  {
   "cell_type": "markdown",
   "id": "9839f88d",
   "metadata": {},
   "source": [
    "# 2 Natural Language Processing Analysis"
   ]
  },
  {
   "cell_type": "markdown",
   "id": "5eb1d276",
   "metadata": {},
   "source": [
    "- Author: Jason Truong\n",
    "- Last Modified: August 21, 2022\n",
    "- Email: Jasontruong19@gmail.com"
   ]
  },
  {
   "cell_type": "markdown",
   "id": "cb3118e6",
   "metadata": {},
   "source": [
    "# Table of Contents\n",
    "\n",
    "1. [Objective and Roadmap](#1Objective)  \n",
    "2. [Preliminary Data Setup](#2Preliminary)  \n",
    "    2.1. [Preprocessing: 'Overall'](#2_1Overall)  \n",
    "    2.2. [Preprocessing: 'reviewScore'](#2_2Review)  \n",
    "    2.3. [Preprocessing: 'Vote'](#2_3Vote)  \n",
    "    2.4. [Drop duplicates and NaNs](#2_4Drop)  \n",
    "3. [NLP Analysis Setup](#3NLP)  \n",
    "4. [Test/Train Setup](#4Test_Train)  \n",
    "5. [Logistic Regression](#5Logistic)  "
   ]
  },
  {
   "cell_type": "markdown",
   "id": "3996e6a2",
   "metadata": {},
   "source": [
    "# 1. Objective and Roadmap<a class ='anchor' id='1Objective'></a>"
   ]
  },
  {
   "cell_type": "markdown",
   "id": "66e2193e",
   "metadata": {},
   "source": [
    "**Goal #1:** To predict the if the review has a positive or negative sentiment to it. This prediction is related to the prediction overall review score of the product.  \n",
    "**Goal #2:** Predict if a review will have high or low votes from the community\n",
    "\n",
    "NLP Roadmap:\n",
    "1. Tokenize the review text\n",
    "2. Remove the unnecessary tokens\n",
    "3. Create a test train data split\n",
    "4. See if Stemming and Lemmatization is needed\n",
    "5. Create Models and Evaluate performance"
   ]
  },
  {
   "cell_type": "markdown",
   "id": "e02aa52c",
   "metadata": {},
   "source": [
    "# 2. Preliminary Data Setup<a class ='anchor' id='2Preliminary'></a>"
   ]
  },
  {
   "cell_type": "code",
   "execution_count": 30,
   "id": "677d06a1",
   "metadata": {},
   "outputs": [],
   "source": [
    "import json\n",
    "import pandas as pd\n",
    "import numpy as np\n",
    "import matplotlib.pyplot as plt\n",
    "\n",
    "from sklearn.linear_model import LogisticRegression\n",
    "from sklearn.feature_extraction.text import CountVectorizer\n",
    "from sklearn.model_selection import train_test_split"
   ]
  },
  {
   "cell_type": "markdown",
   "id": "48487750",
   "metadata": {},
   "source": [
    "Load in the dataset"
   ]
  },
  {
   "cell_type": "code",
   "execution_count": 2,
   "id": "7d477150",
   "metadata": {},
   "outputs": [],
   "source": [
    "review_data = []\n",
    "with open('Movies_and_TV.json','r') as metafile:\n",
    "    for x in range(50000):\n",
    "        review_data.append(json.loads(next(metafile)))"
   ]
  },
  {
   "cell_type": "markdown",
   "id": "ea4002de",
   "metadata": {},
   "source": [
    "Create the dataframe and explore the data"
   ]
  },
  {
   "cell_type": "code",
   "execution_count": 3,
   "id": "8e99a678",
   "metadata": {},
   "outputs": [],
   "source": [
    "review_df = pd.DataFrame(review_data)"
   ]
  },
  {
   "cell_type": "code",
   "execution_count": 4,
   "id": "043e9d79",
   "metadata": {},
   "outputs": [
    {
     "name": "stdout",
     "output_type": "stream",
     "text": [
      "<class 'pandas.core.frame.DataFrame'>\n",
      "RangeIndex: 50000 entries, 0 to 49999\n",
      "Data columns (total 12 columns):\n",
      " #   Column          Non-Null Count  Dtype  \n",
      "---  ------          --------------  -----  \n",
      " 0   overall         50000 non-null  float64\n",
      " 1   verified        50000 non-null  bool   \n",
      " 2   reviewTime      50000 non-null  object \n",
      " 3   reviewerID      50000 non-null  object \n",
      " 4   asin            50000 non-null  object \n",
      " 5   style           49624 non-null  object \n",
      " 6   reviewerName    49999 non-null  object \n",
      " 7   reviewText      49951 non-null  object \n",
      " 8   summary         49991 non-null  object \n",
      " 9   unixReviewTime  50000 non-null  int64  \n",
      " 10  vote            9238 non-null   object \n",
      " 11  image           76 non-null     object \n",
      "dtypes: bool(1), float64(1), int64(1), object(9)\n",
      "memory usage: 4.2+ MB\n"
     ]
    }
   ],
   "source": [
    "review_df.info(show_counts= True)"
   ]
  },
  {
   "cell_type": "markdown",
   "id": "3d57dc55",
   "metadata": {},
   "source": [
    "First step is to only focus on the sentiment of the review to try to predict the overall rating as well as the vote count so every other column will be dropped. A separate analysis will be done to include the summary text if time permits."
   ]
  },
  {
   "cell_type": "code",
   "execution_count": 5,
   "id": "9e153ce1",
   "metadata": {},
   "outputs": [
    {
     "data": {
      "text/html": [
       "<div>\n",
       "<style scoped>\n",
       "    .dataframe tbody tr th:only-of-type {\n",
       "        vertical-align: middle;\n",
       "    }\n",
       "\n",
       "    .dataframe tbody tr th {\n",
       "        vertical-align: top;\n",
       "    }\n",
       "\n",
       "    .dataframe thead th {\n",
       "        text-align: right;\n",
       "    }\n",
       "</style>\n",
       "<table border=\"1\" class=\"dataframe\">\n",
       "  <thead>\n",
       "    <tr style=\"text-align: right;\">\n",
       "      <th></th>\n",
       "      <th>overall</th>\n",
       "      <th>vote</th>\n",
       "      <th>reviewText</th>\n",
       "      <th>reviewerID</th>\n",
       "      <th>asin</th>\n",
       "    </tr>\n",
       "  </thead>\n",
       "  <tbody>\n",
       "    <tr>\n",
       "      <th>0</th>\n",
       "      <td>5.0</td>\n",
       "      <td>NaN</td>\n",
       "      <td>really happy they got evangelised .. spoiler a...</td>\n",
       "      <td>A3478QRKQDOPQ2</td>\n",
       "      <td>0001527665</td>\n",
       "    </tr>\n",
       "    <tr>\n",
       "      <th>1</th>\n",
       "      <td>5.0</td>\n",
       "      <td>3</td>\n",
       "      <td>Having lived in West New Guinea (Papua) during...</td>\n",
       "      <td>A2VHSG6TZHU1OB</td>\n",
       "      <td>0001527665</td>\n",
       "    </tr>\n",
       "    <tr>\n",
       "      <th>2</th>\n",
       "      <td>5.0</td>\n",
       "      <td>NaN</td>\n",
       "      <td>Excellent look into contextualizing the Gospel...</td>\n",
       "      <td>A23EJWOW1TLENE</td>\n",
       "      <td>0001527665</td>\n",
       "    </tr>\n",
       "    <tr>\n",
       "      <th>3</th>\n",
       "      <td>5.0</td>\n",
       "      <td>NaN</td>\n",
       "      <td>More than anything, I've been challenged to fi...</td>\n",
       "      <td>A1KM9FNEJ8Q171</td>\n",
       "      <td>0001527665</td>\n",
       "    </tr>\n",
       "    <tr>\n",
       "      <th>4</th>\n",
       "      <td>4.0</td>\n",
       "      <td>NaN</td>\n",
       "      <td>This is a great movie for a missionary going i...</td>\n",
       "      <td>A38LY2SSHVHRYB</td>\n",
       "      <td>0001527665</td>\n",
       "    </tr>\n",
       "    <tr>\n",
       "      <th>...</th>\n",
       "      <td>...</td>\n",
       "      <td>...</td>\n",
       "      <td>...</td>\n",
       "      <td>...</td>\n",
       "      <td>...</td>\n",
       "    </tr>\n",
       "    <tr>\n",
       "      <th>49995</th>\n",
       "      <td>5.0</td>\n",
       "      <td>NaN</td>\n",
       "      <td>Very good move</td>\n",
       "      <td>A6DWOZHJAQMDI</td>\n",
       "      <td>0783225857</td>\n",
       "    </tr>\n",
       "    <tr>\n",
       "      <th>49996</th>\n",
       "      <td>5.0</td>\n",
       "      <td>NaN</td>\n",
       "      <td>Thank you, Rick</td>\n",
       "      <td>A2WTMSH1OVB8GN</td>\n",
       "      <td>0783225857</td>\n",
       "    </tr>\n",
       "    <tr>\n",
       "      <th>49997</th>\n",
       "      <td>5.0</td>\n",
       "      <td>NaN</td>\n",
       "      <td>Great classic film. If u didn't read the book,...</td>\n",
       "      <td>A3KDAC88FV2GMS</td>\n",
       "      <td>0783225857</td>\n",
       "    </tr>\n",
       "    <tr>\n",
       "      <th>49998</th>\n",
       "      <td>5.0</td>\n",
       "      <td>NaN</td>\n",
       "      <td>Gregory Pecks classic moving of the classic no...</td>\n",
       "      <td>A1H8C9ODLXR7HW</td>\n",
       "      <td>0783225857</td>\n",
       "    </tr>\n",
       "    <tr>\n",
       "      <th>49999</th>\n",
       "      <td>5.0</td>\n",
       "      <td>NaN</td>\n",
       "      <td>I am giving this as a gift along with the 50th...</td>\n",
       "      <td>A2SJ2QXUPIIFI</td>\n",
       "      <td>0783225857</td>\n",
       "    </tr>\n",
       "  </tbody>\n",
       "</table>\n",
       "<p>50000 rows × 5 columns</p>\n",
       "</div>"
      ],
      "text/plain": [
       "       overall vote                                         reviewText  \\\n",
       "0          5.0  NaN  really happy they got evangelised .. spoiler a...   \n",
       "1          5.0    3  Having lived in West New Guinea (Papua) during...   \n",
       "2          5.0  NaN  Excellent look into contextualizing the Gospel...   \n",
       "3          5.0  NaN  More than anything, I've been challenged to fi...   \n",
       "4          4.0  NaN  This is a great movie for a missionary going i...   \n",
       "...        ...  ...                                                ...   \n",
       "49995      5.0  NaN                                     Very good move   \n",
       "49996      5.0  NaN                                    Thank you, Rick   \n",
       "49997      5.0  NaN  Great classic film. If u didn't read the book,...   \n",
       "49998      5.0  NaN  Gregory Pecks classic moving of the classic no...   \n",
       "49999      5.0  NaN  I am giving this as a gift along with the 50th...   \n",
       "\n",
       "           reviewerID        asin  \n",
       "0      A3478QRKQDOPQ2  0001527665  \n",
       "1      A2VHSG6TZHU1OB  0001527665  \n",
       "2      A23EJWOW1TLENE  0001527665  \n",
       "3      A1KM9FNEJ8Q171  0001527665  \n",
       "4      A38LY2SSHVHRYB  0001527665  \n",
       "...               ...         ...  \n",
       "49995   A6DWOZHJAQMDI  0783225857  \n",
       "49996  A2WTMSH1OVB8GN  0783225857  \n",
       "49997  A3KDAC88FV2GMS  0783225857  \n",
       "49998  A1H8C9ODLXR7HW  0783225857  \n",
       "49999   A2SJ2QXUPIIFI  0783225857  \n",
       "\n",
       "[50000 rows x 5 columns]"
      ]
     },
     "execution_count": 5,
     "metadata": {},
     "output_type": "execute_result"
    }
   ],
   "source": [
    "# Only keep the necessary columns\n",
    "review_df = review_df[['overall', 'vote','reviewText','reviewerID','asin']]\n",
    "review_df"
   ]
  },
  {
   "cell_type": "code",
   "execution_count": 6,
   "id": "61835543",
   "metadata": {},
   "outputs": [
    {
     "name": "stdout",
     "output_type": "stream",
     "text": [
      "<class 'pandas.core.frame.DataFrame'>\n",
      "RangeIndex: 50000 entries, 0 to 49999\n",
      "Data columns (total 5 columns):\n",
      " #   Column      Non-Null Count  Dtype  \n",
      "---  ------      --------------  -----  \n",
      " 0   overall     50000 non-null  float64\n",
      " 1   vote        9238 non-null   object \n",
      " 2   reviewText  49951 non-null  object \n",
      " 3   reviewerID  50000 non-null  object \n",
      " 4   asin        50000 non-null  object \n",
      "dtypes: float64(1), object(4)\n",
      "memory usage: 1.9+ MB\n"
     ]
    }
   ],
   "source": [
    "review_df.info()"
   ]
  },
  {
   "cell_type": "markdown",
   "id": "843b97bf",
   "metadata": {},
   "source": [
    "## 2.1. Check the datatype in the column `overall`<a class ='anchor' id='2_1Overall'></a> "
   ]
  },
  {
   "cell_type": "code",
   "execution_count": 7,
   "id": "2975b9cc",
   "metadata": {},
   "outputs": [
    {
     "data": {
      "text/plain": [
       "5.0    34556\n",
       "4.0     7912\n",
       "3.0     3334\n",
       "1.0     2508\n",
       "2.0     1690\n",
       "Name: overall, dtype: int64"
      ]
     },
     "execution_count": 7,
     "metadata": {},
     "output_type": "execute_result"
    }
   ],
   "source": [
    "review_df['overall'].value_counts()"
   ]
  },
  {
   "cell_type": "markdown",
   "id": "ee7d61f3",
   "metadata": {},
   "source": [
    "It looks like the values for the overall column are contained between 1 and 5 which makes sense since its a review out of 5. All of these are also integers so the datatype can be changed to a int8 type. This column represents the review score so it will be renamed for clarity."
   ]
  },
  {
   "cell_type": "code",
   "execution_count": 8,
   "id": "f3114785",
   "metadata": {
    "scrolled": true
   },
   "outputs": [
    {
     "data": {
      "text/html": [
       "<div>\n",
       "<style scoped>\n",
       "    .dataframe tbody tr th:only-of-type {\n",
       "        vertical-align: middle;\n",
       "    }\n",
       "\n",
       "    .dataframe tbody tr th {\n",
       "        vertical-align: top;\n",
       "    }\n",
       "\n",
       "    .dataframe thead th {\n",
       "        text-align: right;\n",
       "    }\n",
       "</style>\n",
       "<table border=\"1\" class=\"dataframe\">\n",
       "  <thead>\n",
       "    <tr style=\"text-align: right;\">\n",
       "      <th></th>\n",
       "      <th>reviewScore</th>\n",
       "      <th>vote</th>\n",
       "      <th>reviewText</th>\n",
       "      <th>reviewerID</th>\n",
       "      <th>asin</th>\n",
       "    </tr>\n",
       "  </thead>\n",
       "  <tbody>\n",
       "    <tr>\n",
       "      <th>0</th>\n",
       "      <td>5</td>\n",
       "      <td>NaN</td>\n",
       "      <td>really happy they got evangelised .. spoiler a...</td>\n",
       "      <td>A3478QRKQDOPQ2</td>\n",
       "      <td>0001527665</td>\n",
       "    </tr>\n",
       "    <tr>\n",
       "      <th>1</th>\n",
       "      <td>5</td>\n",
       "      <td>3</td>\n",
       "      <td>Having lived in West New Guinea (Papua) during...</td>\n",
       "      <td>A2VHSG6TZHU1OB</td>\n",
       "      <td>0001527665</td>\n",
       "    </tr>\n",
       "    <tr>\n",
       "      <th>2</th>\n",
       "      <td>5</td>\n",
       "      <td>NaN</td>\n",
       "      <td>Excellent look into contextualizing the Gospel...</td>\n",
       "      <td>A23EJWOW1TLENE</td>\n",
       "      <td>0001527665</td>\n",
       "    </tr>\n",
       "    <tr>\n",
       "      <th>3</th>\n",
       "      <td>5</td>\n",
       "      <td>NaN</td>\n",
       "      <td>More than anything, I've been challenged to fi...</td>\n",
       "      <td>A1KM9FNEJ8Q171</td>\n",
       "      <td>0001527665</td>\n",
       "    </tr>\n",
       "    <tr>\n",
       "      <th>4</th>\n",
       "      <td>4</td>\n",
       "      <td>NaN</td>\n",
       "      <td>This is a great movie for a missionary going i...</td>\n",
       "      <td>A38LY2SSHVHRYB</td>\n",
       "      <td>0001527665</td>\n",
       "    </tr>\n",
       "    <tr>\n",
       "      <th>...</th>\n",
       "      <td>...</td>\n",
       "      <td>...</td>\n",
       "      <td>...</td>\n",
       "      <td>...</td>\n",
       "      <td>...</td>\n",
       "    </tr>\n",
       "    <tr>\n",
       "      <th>49995</th>\n",
       "      <td>5</td>\n",
       "      <td>NaN</td>\n",
       "      <td>Very good move</td>\n",
       "      <td>A6DWOZHJAQMDI</td>\n",
       "      <td>0783225857</td>\n",
       "    </tr>\n",
       "    <tr>\n",
       "      <th>49996</th>\n",
       "      <td>5</td>\n",
       "      <td>NaN</td>\n",
       "      <td>Thank you, Rick</td>\n",
       "      <td>A2WTMSH1OVB8GN</td>\n",
       "      <td>0783225857</td>\n",
       "    </tr>\n",
       "    <tr>\n",
       "      <th>49997</th>\n",
       "      <td>5</td>\n",
       "      <td>NaN</td>\n",
       "      <td>Great classic film. If u didn't read the book,...</td>\n",
       "      <td>A3KDAC88FV2GMS</td>\n",
       "      <td>0783225857</td>\n",
       "    </tr>\n",
       "    <tr>\n",
       "      <th>49998</th>\n",
       "      <td>5</td>\n",
       "      <td>NaN</td>\n",
       "      <td>Gregory Pecks classic moving of the classic no...</td>\n",
       "      <td>A1H8C9ODLXR7HW</td>\n",
       "      <td>0783225857</td>\n",
       "    </tr>\n",
       "    <tr>\n",
       "      <th>49999</th>\n",
       "      <td>5</td>\n",
       "      <td>NaN</td>\n",
       "      <td>I am giving this as a gift along with the 50th...</td>\n",
       "      <td>A2SJ2QXUPIIFI</td>\n",
       "      <td>0783225857</td>\n",
       "    </tr>\n",
       "  </tbody>\n",
       "</table>\n",
       "<p>50000 rows × 5 columns</p>\n",
       "</div>"
      ],
      "text/plain": [
       "       reviewScore vote                                         reviewText  \\\n",
       "0                5  NaN  really happy they got evangelised .. spoiler a...   \n",
       "1                5    3  Having lived in West New Guinea (Papua) during...   \n",
       "2                5  NaN  Excellent look into contextualizing the Gospel...   \n",
       "3                5  NaN  More than anything, I've been challenged to fi...   \n",
       "4                4  NaN  This is a great movie for a missionary going i...   \n",
       "...            ...  ...                                                ...   \n",
       "49995            5  NaN                                     Very good move   \n",
       "49996            5  NaN                                    Thank you, Rick   \n",
       "49997            5  NaN  Great classic film. If u didn't read the book,...   \n",
       "49998            5  NaN  Gregory Pecks classic moving of the classic no...   \n",
       "49999            5  NaN  I am giving this as a gift along with the 50th...   \n",
       "\n",
       "           reviewerID        asin  \n",
       "0      A3478QRKQDOPQ2  0001527665  \n",
       "1      A2VHSG6TZHU1OB  0001527665  \n",
       "2      A23EJWOW1TLENE  0001527665  \n",
       "3      A1KM9FNEJ8Q171  0001527665  \n",
       "4      A38LY2SSHVHRYB  0001527665  \n",
       "...               ...         ...  \n",
       "49995   A6DWOZHJAQMDI  0783225857  \n",
       "49996  A2WTMSH1OVB8GN  0783225857  \n",
       "49997  A3KDAC88FV2GMS  0783225857  \n",
       "49998  A1H8C9ODLXR7HW  0783225857  \n",
       "49999   A2SJ2QXUPIIFI  0783225857  \n",
       "\n",
       "[50000 rows x 5 columns]"
      ]
     },
     "execution_count": 8,
     "metadata": {},
     "output_type": "execute_result"
    }
   ],
   "source": [
    "review_df['overall'] = review_df['overall'].astype('int8')\n",
    "review_df.rename(columns={'overall':'reviewScore'}, inplace = True)\n",
    "review_df"
   ]
  },
  {
   "cell_type": "markdown",
   "id": "6ce3ee2e",
   "metadata": {},
   "source": [
    "## 2.2 Check the datatype in the column `reviewScore` <a class ='anchor' id='2_2Review'></a>"
   ]
  },
  {
   "cell_type": "markdown",
   "id": "88f63844",
   "metadata": {},
   "source": [
    "Split the reviewScore column to 'Good (value of 1)'  for reviews that are 4 or 5 and 'Bad (value of 0)' for reviews that are 1,2 or 3."
   ]
  },
  {
   "cell_type": "code",
   "execution_count": 9,
   "id": "b3cb7637",
   "metadata": {},
   "outputs": [],
   "source": [
    "review_df['review_class'] = np.where(review_df['reviewScore']>=4,1,0)"
   ]
  },
  {
   "cell_type": "code",
   "execution_count": 10,
   "id": "d4dd02c6",
   "metadata": {},
   "outputs": [
    {
     "data": {
      "text/html": [
       "<div>\n",
       "<style scoped>\n",
       "    .dataframe tbody tr th:only-of-type {\n",
       "        vertical-align: middle;\n",
       "    }\n",
       "\n",
       "    .dataframe tbody tr th {\n",
       "        vertical-align: top;\n",
       "    }\n",
       "\n",
       "    .dataframe thead th {\n",
       "        text-align: right;\n",
       "    }\n",
       "</style>\n",
       "<table border=\"1\" class=\"dataframe\">\n",
       "  <thead>\n",
       "    <tr style=\"text-align: right;\">\n",
       "      <th></th>\n",
       "      <th>reviewScore</th>\n",
       "      <th>vote</th>\n",
       "      <th>reviewText</th>\n",
       "      <th>reviewerID</th>\n",
       "      <th>asin</th>\n",
       "      <th>review_class</th>\n",
       "    </tr>\n",
       "  </thead>\n",
       "  <tbody>\n",
       "    <tr>\n",
       "      <th>0</th>\n",
       "      <td>5</td>\n",
       "      <td>NaN</td>\n",
       "      <td>really happy they got evangelised .. spoiler a...</td>\n",
       "      <td>A3478QRKQDOPQ2</td>\n",
       "      <td>0001527665</td>\n",
       "      <td>1</td>\n",
       "    </tr>\n",
       "    <tr>\n",
       "      <th>1</th>\n",
       "      <td>5</td>\n",
       "      <td>3</td>\n",
       "      <td>Having lived in West New Guinea (Papua) during...</td>\n",
       "      <td>A2VHSG6TZHU1OB</td>\n",
       "      <td>0001527665</td>\n",
       "      <td>1</td>\n",
       "    </tr>\n",
       "    <tr>\n",
       "      <th>2</th>\n",
       "      <td>5</td>\n",
       "      <td>NaN</td>\n",
       "      <td>Excellent look into contextualizing the Gospel...</td>\n",
       "      <td>A23EJWOW1TLENE</td>\n",
       "      <td>0001527665</td>\n",
       "      <td>1</td>\n",
       "    </tr>\n",
       "    <tr>\n",
       "      <th>3</th>\n",
       "      <td>5</td>\n",
       "      <td>NaN</td>\n",
       "      <td>More than anything, I've been challenged to fi...</td>\n",
       "      <td>A1KM9FNEJ8Q171</td>\n",
       "      <td>0001527665</td>\n",
       "      <td>1</td>\n",
       "    </tr>\n",
       "    <tr>\n",
       "      <th>4</th>\n",
       "      <td>4</td>\n",
       "      <td>NaN</td>\n",
       "      <td>This is a great movie for a missionary going i...</td>\n",
       "      <td>A38LY2SSHVHRYB</td>\n",
       "      <td>0001527665</td>\n",
       "      <td>1</td>\n",
       "    </tr>\n",
       "  </tbody>\n",
       "</table>\n",
       "</div>"
      ],
      "text/plain": [
       "   reviewScore vote                                         reviewText  \\\n",
       "0            5  NaN  really happy they got evangelised .. spoiler a...   \n",
       "1            5    3  Having lived in West New Guinea (Papua) during...   \n",
       "2            5  NaN  Excellent look into contextualizing the Gospel...   \n",
       "3            5  NaN  More than anything, I've been challenged to fi...   \n",
       "4            4  NaN  This is a great movie for a missionary going i...   \n",
       "\n",
       "       reviewerID        asin  review_class  \n",
       "0  A3478QRKQDOPQ2  0001527665             1  \n",
       "1  A2VHSG6TZHU1OB  0001527665             1  \n",
       "2  A23EJWOW1TLENE  0001527665             1  \n",
       "3  A1KM9FNEJ8Q171  0001527665             1  \n",
       "4  A38LY2SSHVHRYB  0001527665             1  "
      ]
     },
     "execution_count": 10,
     "metadata": {},
     "output_type": "execute_result"
    }
   ],
   "source": [
    "review_df.head()"
   ]
  },
  {
   "cell_type": "markdown",
   "id": "4eb93488",
   "metadata": {},
   "source": [
    "This new `review_class` column will be used for the logistic regression with the sentiment from the `reviewText`"
   ]
  },
  {
   "cell_type": "markdown",
   "id": "bd56a941",
   "metadata": {},
   "source": [
    "## 2.3 Check the datatype in the column `Vote`<a class ='anchor' id='2_3Vote'></a>"
   ]
  },
  {
   "cell_type": "markdown",
   "id": "3ff87659",
   "metadata": {},
   "source": [
    "For the `vote` column, since the NaN values are essentially no votes with can be represented with 0, the NaN values will be replaced with a zero. There are also commas within the vote that causes problems when converted to an int so they will be removed."
   ]
  },
  {
   "cell_type": "code",
   "execution_count": 11,
   "id": "8203861a",
   "metadata": {},
   "outputs": [
    {
     "data": {
      "text/html": [
       "<div>\n",
       "<style scoped>\n",
       "    .dataframe tbody tr th:only-of-type {\n",
       "        vertical-align: middle;\n",
       "    }\n",
       "\n",
       "    .dataframe tbody tr th {\n",
       "        vertical-align: top;\n",
       "    }\n",
       "\n",
       "    .dataframe thead th {\n",
       "        text-align: right;\n",
       "    }\n",
       "</style>\n",
       "<table border=\"1\" class=\"dataframe\">\n",
       "  <thead>\n",
       "    <tr style=\"text-align: right;\">\n",
       "      <th></th>\n",
       "      <th>reviewScore</th>\n",
       "      <th>vote</th>\n",
       "      <th>reviewText</th>\n",
       "      <th>reviewerID</th>\n",
       "      <th>asin</th>\n",
       "      <th>review_class</th>\n",
       "    </tr>\n",
       "  </thead>\n",
       "  <tbody>\n",
       "    <tr>\n",
       "      <th>0</th>\n",
       "      <td>5</td>\n",
       "      <td>0</td>\n",
       "      <td>really happy they got evangelised .. spoiler a...</td>\n",
       "      <td>A3478QRKQDOPQ2</td>\n",
       "      <td>0001527665</td>\n",
       "      <td>1</td>\n",
       "    </tr>\n",
       "    <tr>\n",
       "      <th>1</th>\n",
       "      <td>5</td>\n",
       "      <td>3</td>\n",
       "      <td>Having lived in West New Guinea (Papua) during...</td>\n",
       "      <td>A2VHSG6TZHU1OB</td>\n",
       "      <td>0001527665</td>\n",
       "      <td>1</td>\n",
       "    </tr>\n",
       "    <tr>\n",
       "      <th>2</th>\n",
       "      <td>5</td>\n",
       "      <td>0</td>\n",
       "      <td>Excellent look into contextualizing the Gospel...</td>\n",
       "      <td>A23EJWOW1TLENE</td>\n",
       "      <td>0001527665</td>\n",
       "      <td>1</td>\n",
       "    </tr>\n",
       "    <tr>\n",
       "      <th>3</th>\n",
       "      <td>5</td>\n",
       "      <td>0</td>\n",
       "      <td>More than anything, I've been challenged to fi...</td>\n",
       "      <td>A1KM9FNEJ8Q171</td>\n",
       "      <td>0001527665</td>\n",
       "      <td>1</td>\n",
       "    </tr>\n",
       "    <tr>\n",
       "      <th>4</th>\n",
       "      <td>4</td>\n",
       "      <td>0</td>\n",
       "      <td>This is a great movie for a missionary going i...</td>\n",
       "      <td>A38LY2SSHVHRYB</td>\n",
       "      <td>0001527665</td>\n",
       "      <td>1</td>\n",
       "    </tr>\n",
       "  </tbody>\n",
       "</table>\n",
       "</div>"
      ],
      "text/plain": [
       "   reviewScore vote                                         reviewText  \\\n",
       "0            5    0  really happy they got evangelised .. spoiler a...   \n",
       "1            5    3  Having lived in West New Guinea (Papua) during...   \n",
       "2            5    0  Excellent look into contextualizing the Gospel...   \n",
       "3            5    0  More than anything, I've been challenged to fi...   \n",
       "4            4    0  This is a great movie for a missionary going i...   \n",
       "\n",
       "       reviewerID        asin  review_class  \n",
       "0  A3478QRKQDOPQ2  0001527665             1  \n",
       "1  A2VHSG6TZHU1OB  0001527665             1  \n",
       "2  A23EJWOW1TLENE  0001527665             1  \n",
       "3  A1KM9FNEJ8Q171  0001527665             1  \n",
       "4  A38LY2SSHVHRYB  0001527665             1  "
      ]
     },
     "execution_count": 11,
     "metadata": {},
     "output_type": "execute_result"
    }
   ],
   "source": [
    "review_df['vote'] = review_df['vote'].str.replace(r\"\\,\",\"\",regex = True)\n",
    "review_df['vote'] = review_df['vote'].fillna(0)\n",
    "review_df.head()"
   ]
  },
  {
   "cell_type": "code",
   "execution_count": 12,
   "id": "a99e7570",
   "metadata": {
    "scrolled": true
   },
   "outputs": [
    {
     "name": "stdout",
     "output_type": "stream",
     "text": [
      "<class 'pandas.core.frame.DataFrame'>\n",
      "RangeIndex: 50000 entries, 0 to 49999\n",
      "Data columns (total 6 columns):\n",
      " #   Column        Non-Null Count  Dtype \n",
      "---  ------        --------------  ----- \n",
      " 0   reviewScore   50000 non-null  int8  \n",
      " 1   vote          50000 non-null  int32 \n",
      " 2   reviewText    49951 non-null  object\n",
      " 3   reviewerID    50000 non-null  object\n",
      " 4   asin          50000 non-null  object\n",
      " 5   review_class  50000 non-null  int32 \n",
      "dtypes: int32(2), int8(1), object(3)\n",
      "memory usage: 1.6+ MB\n"
     ]
    }
   ],
   "source": [
    "review_df['vote'] = review_df['vote'].astype('int32')\n",
    "review_df.info(show_counts= True)"
   ]
  },
  {
   "cell_type": "markdown",
   "id": "a13f899c",
   "metadata": {},
   "source": [
    "## 2.4 Drop any duplicates and NaNs in the dataframe <a class ='anchor' id='2_4Drop'></a>"
   ]
  },
  {
   "cell_type": "markdown",
   "id": "920477b5",
   "metadata": {},
   "source": [
    "The votes have now all been converted to numbers and the datatype can now be changed."
   ]
  },
  {
   "cell_type": "code",
   "execution_count": 13,
   "id": "94fbf32f",
   "metadata": {},
   "outputs": [
    {
     "name": "stdout",
     "output_type": "stream",
     "text": [
      "<class 'pandas.core.frame.DataFrame'>\n",
      "RangeIndex: 49948 entries, 0 to 49947\n",
      "Data columns (total 6 columns):\n",
      " #   Column        Non-Null Count  Dtype \n",
      "---  ------        --------------  ----- \n",
      " 0   reviewScore   49948 non-null  int8  \n",
      " 1   vote          49948 non-null  int32 \n",
      " 2   reviewText    49899 non-null  object\n",
      " 3   reviewerID    49948 non-null  object\n",
      " 4   asin          49948 non-null  object\n",
      " 5   review_class  49948 non-null  int32 \n",
      "dtypes: int32(2), int8(1), object(3)\n",
      "memory usage: 1.6+ MB\n"
     ]
    }
   ],
   "source": [
    "review_df.drop_duplicates(inplace = True, ignore_index = True)\n",
    "review_df.info()"
   ]
  },
  {
   "cell_type": "markdown",
   "id": "01588aa4",
   "metadata": {},
   "source": [
    "1365 entries has been dropped."
   ]
  },
  {
   "cell_type": "markdown",
   "id": "c7e82655",
   "metadata": {},
   "source": [
    "### Remove any NaNs in the dataframe"
   ]
  },
  {
   "cell_type": "markdown",
   "id": "96de63e2",
   "metadata": {},
   "source": [
    "Check the number of NaN values in the dataframe"
   ]
  },
  {
   "cell_type": "code",
   "execution_count": 14,
   "id": "1982e93a",
   "metadata": {},
   "outputs": [
    {
     "data": {
      "text/plain": [
       "reviewScore      0\n",
       "vote             0\n",
       "reviewText      49\n",
       "reviewerID       0\n",
       "asin             0\n",
       "review_class     0\n",
       "dtype: int64"
      ]
     },
     "execution_count": 14,
     "metadata": {},
     "output_type": "execute_result"
    }
   ],
   "source": [
    "review_df.isna().sum()"
   ]
  },
  {
   "cell_type": "markdown",
   "id": "598098a4",
   "metadata": {},
   "source": [
    "There seems to be 1497 NaN's in the `reviewText` column, since the NLP model is dependent on the `reviewText` those rows will be dropped."
   ]
  },
  {
   "cell_type": "code",
   "execution_count": 15,
   "id": "4ea6cb9c",
   "metadata": {},
   "outputs": [
    {
     "name": "stdout",
     "output_type": "stream",
     "text": [
      "<class 'pandas.core.frame.DataFrame'>\n",
      "RangeIndex: 49899 entries, 0 to 49898\n",
      "Data columns (total 6 columns):\n",
      " #   Column        Non-Null Count  Dtype \n",
      "---  ------        --------------  ----- \n",
      " 0   reviewScore   49899 non-null  int8  \n",
      " 1   vote          49899 non-null  int32 \n",
      " 2   reviewText    49899 non-null  object\n",
      " 3   reviewerID    49899 non-null  object\n",
      " 4   asin          49899 non-null  object\n",
      " 5   review_class  49899 non-null  int32 \n",
      "dtypes: int32(2), int8(1), object(3)\n",
      "memory usage: 1.6+ MB\n"
     ]
    }
   ],
   "source": [
    "review_df.dropna(inplace = True)\n",
    "review_df.reset_index(drop=True, inplace= True)\n",
    "review_df.info(show_counts= True)"
   ]
  },
  {
   "cell_type": "markdown",
   "id": "13d979e6",
   "metadata": {},
   "source": [
    "The null values have been dropped since the dataframe now only contains 1997484 entries"
   ]
  },
  {
   "cell_type": "markdown",
   "id": "1a72d0b6",
   "metadata": {},
   "source": [
    "# 3. Set up NLP analysis <a class ='anchor' id='3NLP'></a>"
   ]
  },
  {
   "cell_type": "code",
   "execution_count": 16,
   "id": "47aa6f0b",
   "metadata": {},
   "outputs": [
    {
     "name": "stdout",
     "output_type": "stream",
     "text": [
      "<class 'pandas.core.frame.DataFrame'>\n",
      "RangeIndex: 49899 entries, 0 to 49898\n",
      "Data columns (total 6 columns):\n",
      " #   Column        Non-Null Count  Dtype \n",
      "---  ------        --------------  ----- \n",
      " 0   reviewScore   49899 non-null  int8  \n",
      " 1   vote          49899 non-null  int32 \n",
      " 2   reviewText    49899 non-null  object\n",
      " 3   reviewerID    49899 non-null  object\n",
      " 4   asin          49899 non-null  object\n",
      " 5   review_class  49899 non-null  int32 \n",
      "dtypes: int32(2), int8(1), object(3)\n",
      "memory usage: 1.6+ MB\n"
     ]
    }
   ],
   "source": [
    "review_df.info(show_counts= True)"
   ]
  },
  {
   "cell_type": "markdown",
   "id": "e38b01f9",
   "metadata": {},
   "source": [
    "## Convert the text in the reviewText column to vectors"
   ]
  },
  {
   "cell_type": "code",
   "execution_count": 17,
   "id": "214935b9",
   "metadata": {},
   "outputs": [
    {
     "data": {
      "text/plain": [
       "<49899x52260 sparse matrix of type '<class 'numpy.int64'>'\n",
       "\twith 2058671 stored elements in Compressed Sparse Row format>"
      ]
     },
     "execution_count": 17,
     "metadata": {},
     "output_type": "execute_result"
    }
   ],
   "source": [
    "# Instantiate \n",
    "review_wordbank = CountVectorizer()\n",
    "\n",
    "# Fit the first 200000 reviews\n",
    "review_wordbank.fit(review_df['reviewText'][:200000])\n",
    "\n",
    "# 3. Transform\n",
    "review_transformed = review_wordbank.transform(review_df['reviewText'][:200000])\n",
    "review_transformed"
   ]
  },
  {
   "cell_type": "markdown",
   "id": "0b4f15a7",
   "metadata": {},
   "source": [
    "After preliminary vectorization with countvectorizer(), 200000 rows of reviews returned 106932 unique terms or tokens. Since this is unreasonable to load into memory."
   ]
  },
  {
   "cell_type": "markdown",
   "id": "52e594af",
   "metadata": {},
   "source": [
    "Look at the first 10000 reviews to determine the approximate distribution of words"
   ]
  },
  {
   "cell_type": "code",
   "execution_count": 18,
   "id": "6db0dea0",
   "metadata": {},
   "outputs": [
    {
     "data": {
      "text/plain": [
       "<10000x21721 sparse matrix of type '<class 'numpy.int64'>'\n",
       "\twith 383999 stored elements in Compressed Sparse Row format>"
      ]
     },
     "execution_count": 18,
     "metadata": {},
     "output_type": "execute_result"
    }
   ],
   "source": [
    "# Instantiate \n",
    "review_wordbank1 = CountVectorizer()\n",
    "\n",
    "# Fit the first 10000 reviews\n",
    "review_wordbank1.fit(review_df['reviewText'][:10000])\n",
    "\n",
    "# 3. Transform\n",
    "review_transformed1 = review_wordbank1.transform(review_df['reviewText'][:10000])\n",
    "review_transformed1"
   ]
  },
  {
   "cell_type": "code",
   "execution_count": 19,
   "id": "4e54dacc",
   "metadata": {},
   "outputs": [
    {
     "data": {
      "text/plain": [
       "array([14, 32,  1, ...,  1,  1,  1], dtype=int64)"
      ]
     },
     "execution_count": 19,
     "metadata": {},
     "output_type": "execute_result"
    }
   ],
   "source": [
    "review_transformed1.toarray().sum(axis=0)"
   ]
  },
  {
   "cell_type": "code",
   "execution_count": 20,
   "id": "e7ed13f0",
   "metadata": {},
   "outputs": [
    {
     "data": {
      "text/html": [
       "<div>\n",
       "<style scoped>\n",
       "    .dataframe tbody tr th:only-of-type {\n",
       "        vertical-align: middle;\n",
       "    }\n",
       "\n",
       "    .dataframe tbody tr th {\n",
       "        vertical-align: top;\n",
       "    }\n",
       "\n",
       "    .dataframe thead th {\n",
       "        text-align: right;\n",
       "    }\n",
       "</style>\n",
       "<table border=\"1\" class=\"dataframe\">\n",
       "  <thead>\n",
       "    <tr style=\"text-align: right;\">\n",
       "      <th></th>\n",
       "      <th>00</th>\n",
       "      <th>000</th>\n",
       "      <th>000ft</th>\n",
       "      <th>001</th>\n",
       "      <th>007</th>\n",
       "      <th>00am</th>\n",
       "      <th>01qj6bc2sks</th>\n",
       "      <th>02</th>\n",
       "      <th>03</th>\n",
       "      <th>04</th>\n",
       "      <th>...</th>\n",
       "      <th>zombie</th>\n",
       "      <th>zondervan</th>\n",
       "      <th>zone</th>\n",
       "      <th>zoo</th>\n",
       "      <th>zoom</th>\n",
       "      <th>zorro</th>\n",
       "      <th>zowie</th>\n",
       "      <th>zsigmond</th>\n",
       "      <th>zuckerberg</th>\n",
       "      <th>zzzzz</th>\n",
       "    </tr>\n",
       "  </thead>\n",
       "  <tbody>\n",
       "    <tr>\n",
       "      <th>0</th>\n",
       "      <td>0</td>\n",
       "      <td>0</td>\n",
       "      <td>0</td>\n",
       "      <td>0</td>\n",
       "      <td>0</td>\n",
       "      <td>0</td>\n",
       "      <td>0</td>\n",
       "      <td>0</td>\n",
       "      <td>0</td>\n",
       "      <td>0</td>\n",
       "      <td>...</td>\n",
       "      <td>0</td>\n",
       "      <td>0</td>\n",
       "      <td>0</td>\n",
       "      <td>0</td>\n",
       "      <td>0</td>\n",
       "      <td>0</td>\n",
       "      <td>0</td>\n",
       "      <td>0</td>\n",
       "      <td>0</td>\n",
       "      <td>0</td>\n",
       "    </tr>\n",
       "    <tr>\n",
       "      <th>1</th>\n",
       "      <td>0</td>\n",
       "      <td>0</td>\n",
       "      <td>0</td>\n",
       "      <td>0</td>\n",
       "      <td>0</td>\n",
       "      <td>0</td>\n",
       "      <td>0</td>\n",
       "      <td>0</td>\n",
       "      <td>0</td>\n",
       "      <td>0</td>\n",
       "      <td>...</td>\n",
       "      <td>0</td>\n",
       "      <td>0</td>\n",
       "      <td>0</td>\n",
       "      <td>0</td>\n",
       "      <td>0</td>\n",
       "      <td>0</td>\n",
       "      <td>0</td>\n",
       "      <td>0</td>\n",
       "      <td>0</td>\n",
       "      <td>0</td>\n",
       "    </tr>\n",
       "    <tr>\n",
       "      <th>2</th>\n",
       "      <td>0</td>\n",
       "      <td>0</td>\n",
       "      <td>0</td>\n",
       "      <td>0</td>\n",
       "      <td>0</td>\n",
       "      <td>0</td>\n",
       "      <td>0</td>\n",
       "      <td>0</td>\n",
       "      <td>0</td>\n",
       "      <td>0</td>\n",
       "      <td>...</td>\n",
       "      <td>0</td>\n",
       "      <td>0</td>\n",
       "      <td>0</td>\n",
       "      <td>0</td>\n",
       "      <td>0</td>\n",
       "      <td>0</td>\n",
       "      <td>0</td>\n",
       "      <td>0</td>\n",
       "      <td>0</td>\n",
       "      <td>0</td>\n",
       "    </tr>\n",
       "    <tr>\n",
       "      <th>3</th>\n",
       "      <td>0</td>\n",
       "      <td>0</td>\n",
       "      <td>0</td>\n",
       "      <td>0</td>\n",
       "      <td>0</td>\n",
       "      <td>0</td>\n",
       "      <td>0</td>\n",
       "      <td>0</td>\n",
       "      <td>0</td>\n",
       "      <td>0</td>\n",
       "      <td>...</td>\n",
       "      <td>0</td>\n",
       "      <td>0</td>\n",
       "      <td>0</td>\n",
       "      <td>0</td>\n",
       "      <td>0</td>\n",
       "      <td>0</td>\n",
       "      <td>0</td>\n",
       "      <td>0</td>\n",
       "      <td>0</td>\n",
       "      <td>0</td>\n",
       "    </tr>\n",
       "    <tr>\n",
       "      <th>4</th>\n",
       "      <td>0</td>\n",
       "      <td>0</td>\n",
       "      <td>0</td>\n",
       "      <td>0</td>\n",
       "      <td>0</td>\n",
       "      <td>0</td>\n",
       "      <td>0</td>\n",
       "      <td>0</td>\n",
       "      <td>0</td>\n",
       "      <td>0</td>\n",
       "      <td>...</td>\n",
       "      <td>0</td>\n",
       "      <td>0</td>\n",
       "      <td>0</td>\n",
       "      <td>0</td>\n",
       "      <td>0</td>\n",
       "      <td>0</td>\n",
       "      <td>0</td>\n",
       "      <td>0</td>\n",
       "      <td>0</td>\n",
       "      <td>0</td>\n",
       "    </tr>\n",
       "    <tr>\n",
       "      <th>...</th>\n",
       "      <td>...</td>\n",
       "      <td>...</td>\n",
       "      <td>...</td>\n",
       "      <td>...</td>\n",
       "      <td>...</td>\n",
       "      <td>...</td>\n",
       "      <td>...</td>\n",
       "      <td>...</td>\n",
       "      <td>...</td>\n",
       "      <td>...</td>\n",
       "      <td>...</td>\n",
       "      <td>...</td>\n",
       "      <td>...</td>\n",
       "      <td>...</td>\n",
       "      <td>...</td>\n",
       "      <td>...</td>\n",
       "      <td>...</td>\n",
       "      <td>...</td>\n",
       "      <td>...</td>\n",
       "      <td>...</td>\n",
       "      <td>...</td>\n",
       "    </tr>\n",
       "    <tr>\n",
       "      <th>9995</th>\n",
       "      <td>0</td>\n",
       "      <td>0</td>\n",
       "      <td>0</td>\n",
       "      <td>0</td>\n",
       "      <td>0</td>\n",
       "      <td>0</td>\n",
       "      <td>0</td>\n",
       "      <td>0</td>\n",
       "      <td>0</td>\n",
       "      <td>0</td>\n",
       "      <td>...</td>\n",
       "      <td>0</td>\n",
       "      <td>0</td>\n",
       "      <td>0</td>\n",
       "      <td>0</td>\n",
       "      <td>0</td>\n",
       "      <td>0</td>\n",
       "      <td>0</td>\n",
       "      <td>0</td>\n",
       "      <td>0</td>\n",
       "      <td>0</td>\n",
       "    </tr>\n",
       "    <tr>\n",
       "      <th>9996</th>\n",
       "      <td>0</td>\n",
       "      <td>0</td>\n",
       "      <td>0</td>\n",
       "      <td>0</td>\n",
       "      <td>0</td>\n",
       "      <td>0</td>\n",
       "      <td>0</td>\n",
       "      <td>0</td>\n",
       "      <td>0</td>\n",
       "      <td>0</td>\n",
       "      <td>...</td>\n",
       "      <td>0</td>\n",
       "      <td>0</td>\n",
       "      <td>0</td>\n",
       "      <td>0</td>\n",
       "      <td>0</td>\n",
       "      <td>0</td>\n",
       "      <td>0</td>\n",
       "      <td>0</td>\n",
       "      <td>0</td>\n",
       "      <td>0</td>\n",
       "    </tr>\n",
       "    <tr>\n",
       "      <th>9997</th>\n",
       "      <td>0</td>\n",
       "      <td>0</td>\n",
       "      <td>0</td>\n",
       "      <td>0</td>\n",
       "      <td>0</td>\n",
       "      <td>0</td>\n",
       "      <td>0</td>\n",
       "      <td>0</td>\n",
       "      <td>0</td>\n",
       "      <td>0</td>\n",
       "      <td>...</td>\n",
       "      <td>0</td>\n",
       "      <td>0</td>\n",
       "      <td>0</td>\n",
       "      <td>0</td>\n",
       "      <td>0</td>\n",
       "      <td>0</td>\n",
       "      <td>0</td>\n",
       "      <td>0</td>\n",
       "      <td>0</td>\n",
       "      <td>0</td>\n",
       "    </tr>\n",
       "    <tr>\n",
       "      <th>9998</th>\n",
       "      <td>0</td>\n",
       "      <td>0</td>\n",
       "      <td>0</td>\n",
       "      <td>0</td>\n",
       "      <td>0</td>\n",
       "      <td>0</td>\n",
       "      <td>0</td>\n",
       "      <td>0</td>\n",
       "      <td>0</td>\n",
       "      <td>0</td>\n",
       "      <td>...</td>\n",
       "      <td>0</td>\n",
       "      <td>0</td>\n",
       "      <td>0</td>\n",
       "      <td>0</td>\n",
       "      <td>0</td>\n",
       "      <td>0</td>\n",
       "      <td>0</td>\n",
       "      <td>0</td>\n",
       "      <td>0</td>\n",
       "      <td>0</td>\n",
       "    </tr>\n",
       "    <tr>\n",
       "      <th>9999</th>\n",
       "      <td>0</td>\n",
       "      <td>0</td>\n",
       "      <td>0</td>\n",
       "      <td>0</td>\n",
       "      <td>0</td>\n",
       "      <td>0</td>\n",
       "      <td>0</td>\n",
       "      <td>0</td>\n",
       "      <td>0</td>\n",
       "      <td>0</td>\n",
       "      <td>...</td>\n",
       "      <td>0</td>\n",
       "      <td>0</td>\n",
       "      <td>0</td>\n",
       "      <td>0</td>\n",
       "      <td>0</td>\n",
       "      <td>0</td>\n",
       "      <td>0</td>\n",
       "      <td>0</td>\n",
       "      <td>0</td>\n",
       "      <td>0</td>\n",
       "    </tr>\n",
       "  </tbody>\n",
       "</table>\n",
       "<p>10000 rows × 21721 columns</p>\n",
       "</div>"
      ],
      "text/plain": [
       "      00  000  000ft  001  007  00am  01qj6bc2sks  02  03  04  ...  zombie  \\\n",
       "0      0    0      0    0    0     0            0   0   0   0  ...       0   \n",
       "1      0    0      0    0    0     0            0   0   0   0  ...       0   \n",
       "2      0    0      0    0    0     0            0   0   0   0  ...       0   \n",
       "3      0    0      0    0    0     0            0   0   0   0  ...       0   \n",
       "4      0    0      0    0    0     0            0   0   0   0  ...       0   \n",
       "...   ..  ...    ...  ...  ...   ...          ...  ..  ..  ..  ...     ...   \n",
       "9995   0    0      0    0    0     0            0   0   0   0  ...       0   \n",
       "9996   0    0      0    0    0     0            0   0   0   0  ...       0   \n",
       "9997   0    0      0    0    0     0            0   0   0   0  ...       0   \n",
       "9998   0    0      0    0    0     0            0   0   0   0  ...       0   \n",
       "9999   0    0      0    0    0     0            0   0   0   0  ...       0   \n",
       "\n",
       "      zondervan  zone  zoo  zoom  zorro  zowie  zsigmond  zuckerberg  zzzzz  \n",
       "0             0     0    0     0      0      0         0           0      0  \n",
       "1             0     0    0     0      0      0         0           0      0  \n",
       "2             0     0    0     0      0      0         0           0      0  \n",
       "3             0     0    0     0      0      0         0           0      0  \n",
       "4             0     0    0     0      0      0         0           0      0  \n",
       "...         ...   ...  ...   ...    ...    ...       ...         ...    ...  \n",
       "9995          0     0    0     0      0      0         0           0      0  \n",
       "9996          0     0    0     0      0      0         0           0      0  \n",
       "9997          0     0    0     0      0      0         0           0      0  \n",
       "9998          0     0    0     0      0      0         0           0      0  \n",
       "9999          0     0    0     0      0      0         0           0      0  \n",
       "\n",
       "[10000 rows x 21721 columns]"
      ]
     },
     "metadata": {},
     "output_type": "display_data"
    }
   ],
   "source": [
    "prelim_df = pd.DataFrame(columns = review_wordbank1.get_feature_names(),data = review_transformed1.toarray())\n",
    "display(prelim_df)"
   ]
  },
  {
   "cell_type": "code",
   "execution_count": 21,
   "id": "5a730d77",
   "metadata": {
    "scrolled": true
   },
   "outputs": [
    {
     "data": {
      "image/png": "[encoded data removed]",
      "text/plain": [
       "<Figure size 1080x360 with 1 Axes>"
      ]
     },
     "metadata": {
      "needs_background": "light"
     },
     "output_type": "display_data"
    }
   ],
   "source": [
    "word_counts = pd.DataFrame({\"counts\":review_transformed1.toarray().sum(axis=0)},\n",
    "                          index = review_wordbank1.get_feature_names()\n",
    "                          ).sort_values(\"counts\",ascending= False)\n",
    "\n",
    "word_counts.head(20).plot(kind=\"bar\",figsize=(15,5), legend = False)\n",
    "\n",
    "plt.show()"
   ]
  },
  {
   "cell_type": "markdown",
   "id": "e6b30699",
   "metadata": {},
   "source": [
    "By looking at the plot, the bulk of the words are stopwords which are not representative of the important words for the review text so they will be removed."
   ]
  },
  {
   "cell_type": "code",
   "execution_count": 22,
   "id": "171f681d",
   "metadata": {},
   "outputs": [
    {
     "data": {
      "text/plain": [
       "<10000x21420 sparse matrix of type '<class 'numpy.int64'>'\n",
       "\twith 230456 stored elements in Compressed Sparse Row format>"
      ]
     },
     "execution_count": 22,
     "metadata": {},
     "output_type": "execute_result"
    }
   ],
   "source": [
    "# Instantiate \n",
    "review_wordbank2= CountVectorizer(stop_words=\"english\")\n",
    "\n",
    "# Fit the first 200000 reviews\n",
    "review_wordbank2.fit(review_df['reviewText'][:10000])\n",
    "\n",
    "# 3. Transform\n",
    "review_transformed2 = review_wordbank2.transform(review_df['reviewText'][:10000])\n",
    "review_transformed2"
   ]
  },
  {
   "cell_type": "markdown",
   "id": "dfffafbf",
   "metadata": {},
   "source": [
    "301 tokens have been removed from the new model."
   ]
  },
  {
   "cell_type": "code",
   "execution_count": 23,
   "id": "bc70805d",
   "metadata": {},
   "outputs": [
    {
     "data": {
      "image/png": "[encoded data removed]",
      "text/plain": [
       "<Figure size 1080x360 with 1 Axes>"
      ]
     },
     "metadata": {
      "needs_background": "light"
     },
     "output_type": "display_data"
    }
   ],
   "source": [
    "word_counts1 = pd.DataFrame({\"counts\":review_transformed2.toarray().sum(axis=0)},\n",
    "                          index = review_wordbank2.get_feature_names()\n",
    "                          ).sort_values(\"counts\",ascending= False)\n",
    "\n",
    "word_counts1.head(20).plot(kind=\"bar\",figsize=(15,5), legend = False)\n",
    "\n",
    "plt.show()"
   ]
  },
  {
   "cell_type": "markdown",
   "id": "835de70e",
   "metadata": {},
   "source": [
    "# 4. Set up Test/Train split <a class ='anchor' id='4Test_Train'></a>"
   ]
  },
  {
   "cell_type": "markdown",
   "id": "86e87585",
   "metadata": {},
   "source": [
    "Since the dataset is 2,000,000 rows, th"
   ]
  },
  {
   "cell_type": "code",
   "execution_count": 24,
   "id": "1927a881",
   "metadata": {},
   "outputs": [],
   "source": [
    "#Set up data for training and testing\n",
    "X = review_df['reviewText']\n",
    "y = review_df['review_class']\n",
    "X_train, X_test, y_train, y_test = train_test_split(X,y, test_size = 0.33, random_state = 2022)"
   ]
  },
  {
   "cell_type": "markdown",
   "id": "8b29d22c",
   "metadata": {},
   "source": [
    "Check the split of the data for the train and test set"
   ]
  },
  {
   "cell_type": "code",
   "execution_count": 25,
   "id": "924d9d38",
   "metadata": {},
   "outputs": [
    {
     "data": {
      "text/plain": [
       "1    0.849964\n",
       "0    0.150036\n",
       "Name: review_class, dtype: float64"
      ]
     },
     "execution_count": 25,
     "metadata": {},
     "output_type": "execute_result"
    }
   ],
   "source": [
    "y_train.value_counts()/y_train.shape[0]"
   ]
  },
  {
   "cell_type": "markdown",
   "id": "7c9b0e10",
   "metadata": {},
   "source": [
    "The training data contains 82.2% of positive reviews which means that the data is highly skewed towards positive reviews. There is a 82.2% chance of predicting the review sentiment correctly if every prediction made was positive."
   ]
  },
  {
   "cell_type": "code",
   "execution_count": 26,
   "id": "ae6cb361",
   "metadata": {},
   "outputs": [
    {
     "data": {
      "text/plain": [
       "1    0.847635\n",
       "0    0.152365\n",
       "Name: review_class, dtype: float64"
      ]
     },
     "execution_count": 26,
     "metadata": {},
     "output_type": "execute_result"
    }
   ],
   "source": [
    "y_test.value_counts()/y_test.shape[0]"
   ]
  },
  {
   "cell_type": "markdown",
   "id": "4e93b453",
   "metadata": {},
   "source": [
    "The testing data contains 82.3% of positive reviews which means that the data is highly skewed towards positive reviews. There is a 82.2% chance of predicting the review sentiment correctly if every prediction made was positive."
   ]
  },
  {
   "cell_type": "code",
   "execution_count": null,
   "id": "4e9c2429",
   "metadata": {},
   "outputs": [],
   "source": []
  },
  {
   "cell_type": "markdown",
   "id": "1b3673bf",
   "metadata": {},
   "source": [
    "# 5. Logistic Regression <a class ='anchor' id='5Logistic'></a>"
   ]
  },
  {
   "cell_type": "code",
   "execution_count": 31,
   "id": "f939ce05",
   "metadata": {},
   "outputs": [],
   "source": [
    "# Instantiate \n",
    "review_wordbank3= CountVectorizer(stop_words=\"english\")\n",
    "\n",
    "# Fit the first 200000 reviews\n",
    "review_wordbank3.fit(X_train)\n",
    "\n",
    "# Transform\n",
    "X_train_transformed = review_wordbank3.transform(X_train)\n",
    "X_test_transformed = review_wordbank3.transform(X_test)"
   ]
  },
  {
   "cell_type": "code",
   "execution_count": 28,
   "id": "b6db500c",
   "metadata": {},
   "outputs": [
    {
     "name": "stdout",
     "output_type": "stream",
     "text": [
      "0.919059583632448\n",
      "0.8896581040869618\n"
     ]
    }
   ],
   "source": [
    "logreg = LogisticRegression(C = 0.1)\n",
    "logreg.fit(X_train_transformed,y_train)\n",
    "\n",
    "print(logreg.score(X_train_transformed,y_train))\n",
    "print(logreg.score(X_test_transformed,y_test))"
   ]
  },
  {
   "cell_type": "code",
   "execution_count": null,
   "id": "940b607c",
   "metadata": {},
   "outputs": [],
   "source": []
  },
  {
   "cell_type": "code",
   "execution_count": 29,
   "id": "5c8fd555",
   "metadata": {},
   "outputs": [
    {
     "data": {
      "text/plain": [
       "array([ 80, 136,   1, ...,   1,   1,   1], dtype=int64)"
      ]
     },
     "execution_count": 29,
     "metadata": {},
     "output_type": "execute_result"
    }
   ],
   "source": [
    "#review_transformed.toarray().sum(axis=0)"
   ]
  },
  {
   "cell_type": "code",
   "execution_count": null,
   "id": "24eea6dc",
   "metadata": {},
   "outputs": [],
   "source": []
  }
 ],
 "metadata": {
  "kernelspec": {
   "display_name": "Python 3 (ipykernel)",
   "language": "python",
   "name": "python3"
  },
  "language_info": {
   "codemirror_mode": {
    "name": "ipython",
    "version": 3
   },
   "file_extension": ".py",
   "mimetype": "text/x-python",
   "name": "python",
   "nbconvert_exporter": "python",
   "pygments_lexer": "ipython3",
   "version": "3.9.12"
  }
 },
 "nbformat": 4,
 "nbformat_minor": 5
}
