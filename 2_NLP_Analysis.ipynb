{
 "cells": [
  {
   "cell_type": "markdown",
   "id": "8f97e43a",
   "metadata": {},
   "source": [
    "1. Is there something I can do now to start working on the presentation of my work. Not sure what kind of visuals/charts I can make with NLP analysis other than the word count graphs.\n",
    "2. Do you have any suggestions on how I can structure my capstone better. \n",
    "3. I also have metadata on the movie reviews but I'm not sure how to use it.\n",
    "\n",
    "count, distribution of length of reviews\n",
    "distribution of review scores\n",
    "By Genre\n",
    "product category\n",
    "\n",
    "Meta data, recommendation overlap with 'also bought column' \n"
   ]
  },
  {
   "cell_type": "markdown",
   "id": "9839f88d",
   "metadata": {},
   "source": [
    "# 2 Natural Language Processing Analysis"
   ]
  },
  {
   "cell_type": "markdown",
   "id": "5eb1d276",
   "metadata": {},
   "source": [
    "- Author: Jason Truong\n",
    "- Last Modified: August 21, 2022\n",
    "- Email: Jasontruong19@gmail.com"
   ]
  },
  {
   "cell_type": "markdown",
   "id": "cb3118e6",
   "metadata": {},
   "source": [
    "# Table of Contents\n",
    "\n",
    "1. [Objective and Roadmap](#1Objective)  \n",
    "2. [Preliminary Data Setup](#2Preliminary)  \n",
    "    2.1. [Preprocessing: 'Overall'](#2_1Overall)  \n",
    "    2.2. [Preprocessing: 'reviewScore'](#2_2Review)  \n",
    "    2.3. [Preprocessing: 'Vote'](#2_3Vote)  \n",
    "    2.4. [Drop duplicates and NaNs](#2_4Drop)  \n",
    "3. [Test/Train Setup](#4Test_Train)  \n",
    "4. [NLP Analysis Setup](#3NLP)  \n",
    "5. [Advanced Models](#5AdvancedModels)  "
   ]
  },
  {
   "cell_type": "markdown",
   "id": "3996e6a2",
   "metadata": {},
   "source": [
    "# 1. Objective and Roadmap<a class ='anchor' id='1Objective'></a>"
   ]
  },
  {
   "cell_type": "markdown",
   "id": "66e2193e",
   "metadata": {},
   "source": [
    "**Goal #1:** To predict the if the review has a positive or negative sentiment to it. This prediction is related to the prediction overall review score of the product.  \n",
    "**Goal #2:** Predict if a review will have high or low votes from the community\n",
    "\n",
    "NLP Roadmap:\n",
    "1. Tokenize the review text\n",
    "2. Remove the unnecessary tokens\n",
    "3. Create a test train data split\n",
    "4. See if Stemming and Lemmatization is needed\n",
    "5. Create Models and Evaluate performance"
   ]
  },
  {
   "cell_type": "markdown",
   "id": "e02aa52c",
   "metadata": {},
   "source": [
    "# 2. Preliminary Data Setup<a class ='anchor' id='2Preliminary'></a>"
   ]
  },
  {
   "cell_type": "code",
   "execution_count": 1,
   "id": "677d06a1",
   "metadata": {},
   "outputs": [],
   "source": [
    "import json\n",
    "import pandas as pd\n",
    "import numpy as np\n",
    "import matplotlib.pyplot as plt\n",
    "\n",
    "from sklearn.linear_model import LogisticRegression\n",
    "from sklearn.feature_extraction.text import CountVectorizer\n",
    "from sklearn.model_selection import train_test_split"
   ]
  },
  {
   "cell_type": "markdown",
   "id": "48487750",
   "metadata": {},
   "source": [
    "Load in the dataset"
   ]
  },
  {
   "cell_type": "code",
   "execution_count": 2,
   "id": "7d477150",
   "metadata": {},
   "outputs": [],
   "source": [
    "review_data = []\n",
    "with open('Movies_and_TV.json','r') as metafile:\n",
    "    for x in range(2000000):\n",
    "        review_data.append(json.loads(next(metafile)))"
   ]
  },
  {
   "cell_type": "markdown",
   "id": "ea4002de",
   "metadata": {},
   "source": [
    "Create the dataframe and explore the data"
   ]
  },
  {
   "cell_type": "code",
   "execution_count": 3,
   "id": "8e99a678",
   "metadata": {},
   "outputs": [],
   "source": [
    "review_df = pd.DataFrame(review_data)"
   ]
  },
  {
   "cell_type": "code",
   "execution_count": 4,
   "id": "043e9d79",
   "metadata": {},
   "outputs": [
    {
     "name": "stdout",
     "output_type": "stream",
     "text": [
      "<class 'pandas.core.frame.DataFrame'>\n",
      "RangeIndex: 2000000 entries, 0 to 1999999\n",
      "Data columns (total 12 columns):\n",
      " #   Column          Non-Null Count    Dtype  \n",
      "---  ------          --------------    -----  \n",
      " 0   overall         2000000 non-null  float64\n",
      " 1   verified        2000000 non-null  bool   \n",
      " 2   reviewTime      2000000 non-null  object \n",
      " 3   reviewerID      2000000 non-null  object \n",
      " 4   asin            2000000 non-null  object \n",
      " 5   style           1869058 non-null  object \n",
      " 6   reviewerName    1999947 non-null  object \n",
      " 7   reviewText      1998502 non-null  object \n",
      " 8   summary         1999606 non-null  object \n",
      " 9   unixReviewTime  2000000 non-null  int64  \n",
      " 10  vote            413317 non-null   object \n",
      " 11  image           2912 non-null     object \n",
      "dtypes: bool(1), float64(1), int64(1), object(9)\n",
      "memory usage: 169.8+ MB\n"
     ]
    }
   ],
   "source": [
    "review_df.info(show_counts= True)"
   ]
  },
  {
   "cell_type": "markdown",
   "id": "3d57dc55",
   "metadata": {},
   "source": [
    "First step is to only focus on the sentiment of the review to try to predict the overall rating as well as the vote count so every other column will be dropped. A separate analysis will be done to include the summary text if time permits."
   ]
  },
  {
   "cell_type": "code",
   "execution_count": 5,
   "id": "9e153ce1",
   "metadata": {},
   "outputs": [
    {
     "data": {
      "text/html": [
       "<div>\n",
       "<style scoped>\n",
       "    .dataframe tbody tr th:only-of-type {\n",
       "        vertical-align: middle;\n",
       "    }\n",
       "\n",
       "    .dataframe tbody tr th {\n",
       "        vertical-align: top;\n",
       "    }\n",
       "\n",
       "    .dataframe thead th {\n",
       "        text-align: right;\n",
       "    }\n",
       "</style>\n",
       "<table border=\"1\" class=\"dataframe\">\n",
       "  <thead>\n",
       "    <tr style=\"text-align: right;\">\n",
       "      <th></th>\n",
       "      <th>overall</th>\n",
       "      <th>vote</th>\n",
       "      <th>reviewText</th>\n",
       "      <th>reviewerID</th>\n",
       "      <th>asin</th>\n",
       "    </tr>\n",
       "  </thead>\n",
       "  <tbody>\n",
       "    <tr>\n",
       "      <th>0</th>\n",
       "      <td>5.0</td>\n",
       "      <td>NaN</td>\n",
       "      <td>really happy they got evangelised .. spoiler a...</td>\n",
       "      <td>A3478QRKQDOPQ2</td>\n",
       "      <td>0001527665</td>\n",
       "    </tr>\n",
       "    <tr>\n",
       "      <th>1</th>\n",
       "      <td>5.0</td>\n",
       "      <td>3</td>\n",
       "      <td>Having lived in West New Guinea (Papua) during...</td>\n",
       "      <td>A2VHSG6TZHU1OB</td>\n",
       "      <td>0001527665</td>\n",
       "    </tr>\n",
       "    <tr>\n",
       "      <th>2</th>\n",
       "      <td>5.0</td>\n",
       "      <td>NaN</td>\n",
       "      <td>Excellent look into contextualizing the Gospel...</td>\n",
       "      <td>A23EJWOW1TLENE</td>\n",
       "      <td>0001527665</td>\n",
       "    </tr>\n",
       "    <tr>\n",
       "      <th>3</th>\n",
       "      <td>5.0</td>\n",
       "      <td>NaN</td>\n",
       "      <td>More than anything, I've been challenged to fi...</td>\n",
       "      <td>A1KM9FNEJ8Q171</td>\n",
       "      <td>0001527665</td>\n",
       "    </tr>\n",
       "    <tr>\n",
       "      <th>4</th>\n",
       "      <td>4.0</td>\n",
       "      <td>NaN</td>\n",
       "      <td>This is a great movie for a missionary going i...</td>\n",
       "      <td>A38LY2SSHVHRYB</td>\n",
       "      <td>0001527665</td>\n",
       "    </tr>\n",
       "    <tr>\n",
       "      <th>...</th>\n",
       "      <td>...</td>\n",
       "      <td>...</td>\n",
       "      <td>...</td>\n",
       "      <td>...</td>\n",
       "      <td>...</td>\n",
       "    </tr>\n",
       "    <tr>\n",
       "      <th>1999995</th>\n",
       "      <td>5.0</td>\n",
       "      <td>NaN</td>\n",
       "      <td>Loved it want to see more</td>\n",
       "      <td>A1UM0LZVGQ4RYX</td>\n",
       "      <td>B0001GF2F6</td>\n",
       "    </tr>\n",
       "    <tr>\n",
       "      <th>1999996</th>\n",
       "      <td>5.0</td>\n",
       "      <td>NaN</td>\n",
       "      <td>Loved it wish it was more than two seasons.</td>\n",
       "      <td>A3MWE7P29CDR5L</td>\n",
       "      <td>B0001GF2F6</td>\n",
       "    </tr>\n",
       "    <tr>\n",
       "      <th>1999997</th>\n",
       "      <td>5.0</td>\n",
       "      <td>NaN</td>\n",
       "      <td>Such a witty show with good acting. This show ...</td>\n",
       "      <td>A3J6N3SOCENIPB</td>\n",
       "      <td>B0001GF2F6</td>\n",
       "    </tr>\n",
       "    <tr>\n",
       "      <th>1999998</th>\n",
       "      <td>4.0</td>\n",
       "      <td>NaN</td>\n",
       "      <td>It's a weird (comical) look at Grim Reapers.</td>\n",
       "      <td>A5O06SYSW6V93</td>\n",
       "      <td>B0001GF2F6</td>\n",
       "    </tr>\n",
       "    <tr>\n",
       "      <th>1999999</th>\n",
       "      <td>4.0</td>\n",
       "      <td>NaN</td>\n",
       "      <td>I don't get it. Are they all dead?</td>\n",
       "      <td>A1KF85AQR11MDY</td>\n",
       "      <td>B0001GF2F6</td>\n",
       "    </tr>\n",
       "  </tbody>\n",
       "</table>\n",
       "<p>2000000 rows × 5 columns</p>\n",
       "</div>"
      ],
      "text/plain": [
       "         overall vote                                         reviewText  \\\n",
       "0            5.0  NaN  really happy they got evangelised .. spoiler a...   \n",
       "1            5.0    3  Having lived in West New Guinea (Papua) during...   \n",
       "2            5.0  NaN  Excellent look into contextualizing the Gospel...   \n",
       "3            5.0  NaN  More than anything, I've been challenged to fi...   \n",
       "4            4.0  NaN  This is a great movie for a missionary going i...   \n",
       "...          ...  ...                                                ...   \n",
       "1999995      5.0  NaN                          Loved it want to see more   \n",
       "1999996      5.0  NaN        Loved it wish it was more than two seasons.   \n",
       "1999997      5.0  NaN  Such a witty show with good acting. This show ...   \n",
       "1999998      4.0  NaN       It's a weird (comical) look at Grim Reapers.   \n",
       "1999999      4.0  NaN                 I don't get it. Are they all dead?   \n",
       "\n",
       "             reviewerID        asin  \n",
       "0        A3478QRKQDOPQ2  0001527665  \n",
       "1        A2VHSG6TZHU1OB  0001527665  \n",
       "2        A23EJWOW1TLENE  0001527665  \n",
       "3        A1KM9FNEJ8Q171  0001527665  \n",
       "4        A38LY2SSHVHRYB  0001527665  \n",
       "...                 ...         ...  \n",
       "1999995  A1UM0LZVGQ4RYX  B0001GF2F6  \n",
       "1999996  A3MWE7P29CDR5L  B0001GF2F6  \n",
       "1999997  A3J6N3SOCENIPB  B0001GF2F6  \n",
       "1999998   A5O06SYSW6V93  B0001GF2F6  \n",
       "1999999  A1KF85AQR11MDY  B0001GF2F6  \n",
       "\n",
       "[2000000 rows x 5 columns]"
      ]
     },
     "execution_count": 5,
     "metadata": {},
     "output_type": "execute_result"
    }
   ],
   "source": [
    "# Only keep the necessary columns\n",
    "review_df = review_df[['overall', 'vote','reviewText','reviewerID','asin']]\n",
    "review_df"
   ]
  },
  {
   "cell_type": "code",
   "execution_count": 6,
   "id": "61835543",
   "metadata": {},
   "outputs": [
    {
     "name": "stdout",
     "output_type": "stream",
     "text": [
      "<class 'pandas.core.frame.DataFrame'>\n",
      "RangeIndex: 2000000 entries, 0 to 1999999\n",
      "Data columns (total 5 columns):\n",
      " #   Column      Dtype  \n",
      "---  ------      -----  \n",
      " 0   overall     float64\n",
      " 1   vote        object \n",
      " 2   reviewText  object \n",
      " 3   reviewerID  object \n",
      " 4   asin        object \n",
      "dtypes: float64(1), object(4)\n",
      "memory usage: 76.3+ MB\n"
     ]
    }
   ],
   "source": [
    "review_df.info()"
   ]
  },
  {
   "cell_type": "markdown",
   "id": "843b97bf",
   "metadata": {},
   "source": [
    "## 2.1. Check the datatype in the column `overall`<a class ='anchor' id='2_1Overall'></a> "
   ]
  },
  {
   "cell_type": "code",
   "execution_count": 7,
   "id": "2975b9cc",
   "metadata": {},
   "outputs": [
    {
     "data": {
      "text/plain": [
       "5.0    1304630\n",
       "4.0     340073\n",
       "3.0     151321\n",
       "1.0     123501\n",
       "2.0      80475\n",
       "Name: overall, dtype: int64"
      ]
     },
     "execution_count": 7,
     "metadata": {},
     "output_type": "execute_result"
    }
   ],
   "source": [
    "review_df['overall'].value_counts()"
   ]
  },
  {
   "cell_type": "markdown",
   "id": "ee7d61f3",
   "metadata": {},
   "source": [
    "It looks like the values for the overall column are contained between 1 and 5 which makes sense since its a review out of 5. All of these are also integers so the datatype can be changed to a int8 type. This column represents the review score so it will be renamed for clarity."
   ]
  },
  {
   "cell_type": "code",
   "execution_count": 8,
   "id": "f3114785",
   "metadata": {
    "scrolled": true
   },
   "outputs": [
    {
     "data": {
      "text/html": [
       "<div>\n",
       "<style scoped>\n",
       "    .dataframe tbody tr th:only-of-type {\n",
       "        vertical-align: middle;\n",
       "    }\n",
       "\n",
       "    .dataframe tbody tr th {\n",
       "        vertical-align: top;\n",
       "    }\n",
       "\n",
       "    .dataframe thead th {\n",
       "        text-align: right;\n",
       "    }\n",
       "</style>\n",
       "<table border=\"1\" class=\"dataframe\">\n",
       "  <thead>\n",
       "    <tr style=\"text-align: right;\">\n",
       "      <th></th>\n",
       "      <th>reviewScore</th>\n",
       "      <th>vote</th>\n",
       "      <th>reviewText</th>\n",
       "      <th>reviewerID</th>\n",
       "      <th>asin</th>\n",
       "    </tr>\n",
       "  </thead>\n",
       "  <tbody>\n",
       "    <tr>\n",
       "      <th>0</th>\n",
       "      <td>5</td>\n",
       "      <td>NaN</td>\n",
       "      <td>really happy they got evangelised .. spoiler a...</td>\n",
       "      <td>A3478QRKQDOPQ2</td>\n",
       "      <td>0001527665</td>\n",
       "    </tr>\n",
       "    <tr>\n",
       "      <th>1</th>\n",
       "      <td>5</td>\n",
       "      <td>3</td>\n",
       "      <td>Having lived in West New Guinea (Papua) during...</td>\n",
       "      <td>A2VHSG6TZHU1OB</td>\n",
       "      <td>0001527665</td>\n",
       "    </tr>\n",
       "    <tr>\n",
       "      <th>2</th>\n",
       "      <td>5</td>\n",
       "      <td>NaN</td>\n",
       "      <td>Excellent look into contextualizing the Gospel...</td>\n",
       "      <td>A23EJWOW1TLENE</td>\n",
       "      <td>0001527665</td>\n",
       "    </tr>\n",
       "    <tr>\n",
       "      <th>3</th>\n",
       "      <td>5</td>\n",
       "      <td>NaN</td>\n",
       "      <td>More than anything, I've been challenged to fi...</td>\n",
       "      <td>A1KM9FNEJ8Q171</td>\n",
       "      <td>0001527665</td>\n",
       "    </tr>\n",
       "    <tr>\n",
       "      <th>4</th>\n",
       "      <td>4</td>\n",
       "      <td>NaN</td>\n",
       "      <td>This is a great movie for a missionary going i...</td>\n",
       "      <td>A38LY2SSHVHRYB</td>\n",
       "      <td>0001527665</td>\n",
       "    </tr>\n",
       "    <tr>\n",
       "      <th>...</th>\n",
       "      <td>...</td>\n",
       "      <td>...</td>\n",
       "      <td>...</td>\n",
       "      <td>...</td>\n",
       "      <td>...</td>\n",
       "    </tr>\n",
       "    <tr>\n",
       "      <th>1999995</th>\n",
       "      <td>5</td>\n",
       "      <td>NaN</td>\n",
       "      <td>Loved it want to see more</td>\n",
       "      <td>A1UM0LZVGQ4RYX</td>\n",
       "      <td>B0001GF2F6</td>\n",
       "    </tr>\n",
       "    <tr>\n",
       "      <th>1999996</th>\n",
       "      <td>5</td>\n",
       "      <td>NaN</td>\n",
       "      <td>Loved it wish it was more than two seasons.</td>\n",
       "      <td>A3MWE7P29CDR5L</td>\n",
       "      <td>B0001GF2F6</td>\n",
       "    </tr>\n",
       "    <tr>\n",
       "      <th>1999997</th>\n",
       "      <td>5</td>\n",
       "      <td>NaN</td>\n",
       "      <td>Such a witty show with good acting. This show ...</td>\n",
       "      <td>A3J6N3SOCENIPB</td>\n",
       "      <td>B0001GF2F6</td>\n",
       "    </tr>\n",
       "    <tr>\n",
       "      <th>1999998</th>\n",
       "      <td>4</td>\n",
       "      <td>NaN</td>\n",
       "      <td>It's a weird (comical) look at Grim Reapers.</td>\n",
       "      <td>A5O06SYSW6V93</td>\n",
       "      <td>B0001GF2F6</td>\n",
       "    </tr>\n",
       "    <tr>\n",
       "      <th>1999999</th>\n",
       "      <td>4</td>\n",
       "      <td>NaN</td>\n",
       "      <td>I don't get it. Are they all dead?</td>\n",
       "      <td>A1KF85AQR11MDY</td>\n",
       "      <td>B0001GF2F6</td>\n",
       "    </tr>\n",
       "  </tbody>\n",
       "</table>\n",
       "<p>2000000 rows × 5 columns</p>\n",
       "</div>"
      ],
      "text/plain": [
       "         reviewScore vote                                         reviewText  \\\n",
       "0                  5  NaN  really happy they got evangelised .. spoiler a...   \n",
       "1                  5    3  Having lived in West New Guinea (Papua) during...   \n",
       "2                  5  NaN  Excellent look into contextualizing the Gospel...   \n",
       "3                  5  NaN  More than anything, I've been challenged to fi...   \n",
       "4                  4  NaN  This is a great movie for a missionary going i...   \n",
       "...              ...  ...                                                ...   \n",
       "1999995            5  NaN                          Loved it want to see more   \n",
       "1999996            5  NaN        Loved it wish it was more than two seasons.   \n",
       "1999997            5  NaN  Such a witty show with good acting. This show ...   \n",
       "1999998            4  NaN       It's a weird (comical) look at Grim Reapers.   \n",
       "1999999            4  NaN                 I don't get it. Are they all dead?   \n",
       "\n",
       "             reviewerID        asin  \n",
       "0        A3478QRKQDOPQ2  0001527665  \n",
       "1        A2VHSG6TZHU1OB  0001527665  \n",
       "2        A23EJWOW1TLENE  0001527665  \n",
       "3        A1KM9FNEJ8Q171  0001527665  \n",
       "4        A38LY2SSHVHRYB  0001527665  \n",
       "...                 ...         ...  \n",
       "1999995  A1UM0LZVGQ4RYX  B0001GF2F6  \n",
       "1999996  A3MWE7P29CDR5L  B0001GF2F6  \n",
       "1999997  A3J6N3SOCENIPB  B0001GF2F6  \n",
       "1999998   A5O06SYSW6V93  B0001GF2F6  \n",
       "1999999  A1KF85AQR11MDY  B0001GF2F6  \n",
       "\n",
       "[2000000 rows x 5 columns]"
      ]
     },
     "execution_count": 8,
     "metadata": {},
     "output_type": "execute_result"
    }
   ],
   "source": [
    "review_df['overall'] = review_df['overall'].astype('int8')\n",
    "review_df.rename(columns={'overall':'reviewScore'}, inplace = True)\n",
    "review_df"
   ]
  },
  {
   "cell_type": "markdown",
   "id": "6ce3ee2e",
   "metadata": {},
   "source": [
    "## 2.2 Check the datatype in the column `reviewScore` <a class ='anchor' id='2_2Review'></a>"
   ]
  },
  {
   "cell_type": "markdown",
   "id": "88f63844",
   "metadata": {},
   "source": [
    "Split the reviewScore column to 'Good (value of 1)'  for reviews that are 4 or 5 and 'Bad (value of 0)' for reviews that are 1,2 or 3."
   ]
  },
  {
   "cell_type": "code",
   "execution_count": 9,
   "id": "b3cb7637",
   "metadata": {},
   "outputs": [],
   "source": [
    "review_df['review_class'] = np.where(review_df['reviewScore']>=4,1,0)"
   ]
  },
  {
   "cell_type": "code",
   "execution_count": 10,
   "id": "d4dd02c6",
   "metadata": {},
   "outputs": [
    {
     "data": {
      "text/html": [
       "<div>\n",
       "<style scoped>\n",
       "    .dataframe tbody tr th:only-of-type {\n",
       "        vertical-align: middle;\n",
       "    }\n",
       "\n",
       "    .dataframe tbody tr th {\n",
       "        vertical-align: top;\n",
       "    }\n",
       "\n",
       "    .dataframe thead th {\n",
       "        text-align: right;\n",
       "    }\n",
       "</style>\n",
       "<table border=\"1\" class=\"dataframe\">\n",
       "  <thead>\n",
       "    <tr style=\"text-align: right;\">\n",
       "      <th></th>\n",
       "      <th>reviewScore</th>\n",
       "      <th>vote</th>\n",
       "      <th>reviewText</th>\n",
       "      <th>reviewerID</th>\n",
       "      <th>asin</th>\n",
       "      <th>review_class</th>\n",
       "    </tr>\n",
       "  </thead>\n",
       "  <tbody>\n",
       "    <tr>\n",
       "      <th>0</th>\n",
       "      <td>5</td>\n",
       "      <td>NaN</td>\n",
       "      <td>really happy they got evangelised .. spoiler a...</td>\n",
       "      <td>A3478QRKQDOPQ2</td>\n",
       "      <td>0001527665</td>\n",
       "      <td>1</td>\n",
       "    </tr>\n",
       "    <tr>\n",
       "      <th>1</th>\n",
       "      <td>5</td>\n",
       "      <td>3</td>\n",
       "      <td>Having lived in West New Guinea (Papua) during...</td>\n",
       "      <td>A2VHSG6TZHU1OB</td>\n",
       "      <td>0001527665</td>\n",
       "      <td>1</td>\n",
       "    </tr>\n",
       "    <tr>\n",
       "      <th>2</th>\n",
       "      <td>5</td>\n",
       "      <td>NaN</td>\n",
       "      <td>Excellent look into contextualizing the Gospel...</td>\n",
       "      <td>A23EJWOW1TLENE</td>\n",
       "      <td>0001527665</td>\n",
       "      <td>1</td>\n",
       "    </tr>\n",
       "    <tr>\n",
       "      <th>3</th>\n",
       "      <td>5</td>\n",
       "      <td>NaN</td>\n",
       "      <td>More than anything, I've been challenged to fi...</td>\n",
       "      <td>A1KM9FNEJ8Q171</td>\n",
       "      <td>0001527665</td>\n",
       "      <td>1</td>\n",
       "    </tr>\n",
       "    <tr>\n",
       "      <th>4</th>\n",
       "      <td>4</td>\n",
       "      <td>NaN</td>\n",
       "      <td>This is a great movie for a missionary going i...</td>\n",
       "      <td>A38LY2SSHVHRYB</td>\n",
       "      <td>0001527665</td>\n",
       "      <td>1</td>\n",
       "    </tr>\n",
       "  </tbody>\n",
       "</table>\n",
       "</div>"
      ],
      "text/plain": [
       "   reviewScore vote                                         reviewText  \\\n",
       "0            5  NaN  really happy they got evangelised .. spoiler a...   \n",
       "1            5    3  Having lived in West New Guinea (Papua) during...   \n",
       "2            5  NaN  Excellent look into contextualizing the Gospel...   \n",
       "3            5  NaN  More than anything, I've been challenged to fi...   \n",
       "4            4  NaN  This is a great movie for a missionary going i...   \n",
       "\n",
       "       reviewerID        asin  review_class  \n",
       "0  A3478QRKQDOPQ2  0001527665             1  \n",
       "1  A2VHSG6TZHU1OB  0001527665             1  \n",
       "2  A23EJWOW1TLENE  0001527665             1  \n",
       "3  A1KM9FNEJ8Q171  0001527665             1  \n",
       "4  A38LY2SSHVHRYB  0001527665             1  "
      ]
     },
     "execution_count": 10,
     "metadata": {},
     "output_type": "execute_result"
    }
   ],
   "source": [
    "review_df.head()"
   ]
  },
  {
   "cell_type": "markdown",
   "id": "4eb93488",
   "metadata": {},
   "source": [
    "This new `review_class` column will be used for the logistic regression with the sentiment from the `reviewText`"
   ]
  },
  {
   "cell_type": "markdown",
   "id": "bd56a941",
   "metadata": {},
   "source": [
    "## 2.3 Check the datatype in the column `Vote`<a class ='anchor' id='2_3Vote'></a>"
   ]
  },
  {
   "cell_type": "markdown",
   "id": "3ff87659",
   "metadata": {},
   "source": [
    "For the `vote` column, since the NaN values are essentially no votes with can be represented with 0, the NaN values will be replaced with a zero. There are also commas within the vote that causes problems when converted to an int so they will be removed."
   ]
  },
  {
   "cell_type": "code",
   "execution_count": 11,
   "id": "8203861a",
   "metadata": {},
   "outputs": [
    {
     "data": {
      "text/html": [
       "<div>\n",
       "<style scoped>\n",
       "    .dataframe tbody tr th:only-of-type {\n",
       "        vertical-align: middle;\n",
       "    }\n",
       "\n",
       "    .dataframe tbody tr th {\n",
       "        vertical-align: top;\n",
       "    }\n",
       "\n",
       "    .dataframe thead th {\n",
       "        text-align: right;\n",
       "    }\n",
       "</style>\n",
       "<table border=\"1\" class=\"dataframe\">\n",
       "  <thead>\n",
       "    <tr style=\"text-align: right;\">\n",
       "      <th></th>\n",
       "      <th>reviewScore</th>\n",
       "      <th>vote</th>\n",
       "      <th>reviewText</th>\n",
       "      <th>reviewerID</th>\n",
       "      <th>asin</th>\n",
       "      <th>review_class</th>\n",
       "    </tr>\n",
       "  </thead>\n",
       "  <tbody>\n",
       "    <tr>\n",
       "      <th>0</th>\n",
       "      <td>5</td>\n",
       "      <td>0</td>\n",
       "      <td>really happy they got evangelised .. spoiler a...</td>\n",
       "      <td>A3478QRKQDOPQ2</td>\n",
       "      <td>0001527665</td>\n",
       "      <td>1</td>\n",
       "    </tr>\n",
       "    <tr>\n",
       "      <th>1</th>\n",
       "      <td>5</td>\n",
       "      <td>3</td>\n",
       "      <td>Having lived in West New Guinea (Papua) during...</td>\n",
       "      <td>A2VHSG6TZHU1OB</td>\n",
       "      <td>0001527665</td>\n",
       "      <td>1</td>\n",
       "    </tr>\n",
       "    <tr>\n",
       "      <th>2</th>\n",
       "      <td>5</td>\n",
       "      <td>0</td>\n",
       "      <td>Excellent look into contextualizing the Gospel...</td>\n",
       "      <td>A23EJWOW1TLENE</td>\n",
       "      <td>0001527665</td>\n",
       "      <td>1</td>\n",
       "    </tr>\n",
       "    <tr>\n",
       "      <th>3</th>\n",
       "      <td>5</td>\n",
       "      <td>0</td>\n",
       "      <td>More than anything, I've been challenged to fi...</td>\n",
       "      <td>A1KM9FNEJ8Q171</td>\n",
       "      <td>0001527665</td>\n",
       "      <td>1</td>\n",
       "    </tr>\n",
       "    <tr>\n",
       "      <th>4</th>\n",
       "      <td>4</td>\n",
       "      <td>0</td>\n",
       "      <td>This is a great movie for a missionary going i...</td>\n",
       "      <td>A38LY2SSHVHRYB</td>\n",
       "      <td>0001527665</td>\n",
       "      <td>1</td>\n",
       "    </tr>\n",
       "  </tbody>\n",
       "</table>\n",
       "</div>"
      ],
      "text/plain": [
       "   reviewScore vote                                         reviewText  \\\n",
       "0            5    0  really happy they got evangelised .. spoiler a...   \n",
       "1            5    3  Having lived in West New Guinea (Papua) during...   \n",
       "2            5    0  Excellent look into contextualizing the Gospel...   \n",
       "3            5    0  More than anything, I've been challenged to fi...   \n",
       "4            4    0  This is a great movie for a missionary going i...   \n",
       "\n",
       "       reviewerID        asin  review_class  \n",
       "0  A3478QRKQDOPQ2  0001527665             1  \n",
       "1  A2VHSG6TZHU1OB  0001527665             1  \n",
       "2  A23EJWOW1TLENE  0001527665             1  \n",
       "3  A1KM9FNEJ8Q171  0001527665             1  \n",
       "4  A38LY2SSHVHRYB  0001527665             1  "
      ]
     },
     "execution_count": 11,
     "metadata": {},
     "output_type": "execute_result"
    }
   ],
   "source": [
    "review_df['vote'] = review_df['vote'].str.replace(r\"\\,\",\"\",regex = True)\n",
    "review_df['vote'] = review_df['vote'].fillna(0)\n",
    "review_df.head()"
   ]
  },
  {
   "cell_type": "code",
   "execution_count": 12,
   "id": "a99e7570",
   "metadata": {
    "scrolled": true
   },
   "outputs": [
    {
     "name": "stdout",
     "output_type": "stream",
     "text": [
      "<class 'pandas.core.frame.DataFrame'>\n",
      "RangeIndex: 2000000 entries, 0 to 1999999\n",
      "Data columns (total 6 columns):\n",
      " #   Column        Non-Null Count    Dtype \n",
      "---  ------        --------------    ----- \n",
      " 0   reviewScore   2000000 non-null  int8  \n",
      " 1   vote          2000000 non-null  int32 \n",
      " 2   reviewText    1998502 non-null  object\n",
      " 3   reviewerID    2000000 non-null  object\n",
      " 4   asin          2000000 non-null  object\n",
      " 5   review_class  2000000 non-null  int32 \n",
      "dtypes: int32(2), int8(1), object(3)\n",
      "memory usage: 62.9+ MB\n"
     ]
    }
   ],
   "source": [
    "review_df['vote'] = review_df['vote'].astype('int32')\n",
    "review_df.info(show_counts= True)"
   ]
  },
  {
   "cell_type": "markdown",
   "id": "a13f899c",
   "metadata": {},
   "source": [
    "## 2.4 Drop any duplicates and NaNs in the dataframe <a class ='anchor' id='2_4Drop'></a>"
   ]
  },
  {
   "cell_type": "markdown",
   "id": "920477b5",
   "metadata": {},
   "source": [
    "The votes have now all been converted to numbers and the datatype can now be changed."
   ]
  },
  {
   "cell_type": "code",
   "execution_count": 13,
   "id": "94fbf32f",
   "metadata": {},
   "outputs": [
    {
     "name": "stdout",
     "output_type": "stream",
     "text": [
      "<class 'pandas.core.frame.DataFrame'>\n",
      "RangeIndex: 1998981 entries, 0 to 1998980\n",
      "Data columns (total 6 columns):\n",
      " #   Column        Dtype \n",
      "---  ------        ----- \n",
      " 0   reviewScore   int8  \n",
      " 1   vote          int32 \n",
      " 2   reviewText    object\n",
      " 3   reviewerID    object\n",
      " 4   asin          object\n",
      " 5   review_class  int32 \n",
      "dtypes: int32(2), int8(1), object(3)\n",
      "memory usage: 62.9+ MB\n"
     ]
    }
   ],
   "source": [
    "review_df.drop_duplicates(inplace = True, ignore_index = True)\n",
    "review_df.info()"
   ]
  },
  {
   "cell_type": "markdown",
   "id": "01588aa4",
   "metadata": {},
   "source": [
    "1365 entries has been dropped."
   ]
  },
  {
   "cell_type": "markdown",
   "id": "c7e82655",
   "metadata": {},
   "source": [
    "### Remove any NaNs in the dataframe"
   ]
  },
  {
   "cell_type": "markdown",
   "id": "96de63e2",
   "metadata": {},
   "source": [
    "Check the number of NaN values in the dataframe"
   ]
  },
  {
   "cell_type": "code",
   "execution_count": 14,
   "id": "1982e93a",
   "metadata": {},
   "outputs": [
    {
     "data": {
      "text/plain": [
       "reviewScore        0\n",
       "vote               0\n",
       "reviewText      1497\n",
       "reviewerID         0\n",
       "asin               0\n",
       "review_class       0\n",
       "dtype: int64"
      ]
     },
     "execution_count": 14,
     "metadata": {},
     "output_type": "execute_result"
    }
   ],
   "source": [
    "review_df.isna().sum()"
   ]
  },
  {
   "cell_type": "markdown",
   "id": "598098a4",
   "metadata": {},
   "source": [
    "There seems to be 1497 NaN's in the `reviewText` column, since the NLP model is dependent on the `reviewText` those rows will be dropped."
   ]
  },
  {
   "cell_type": "code",
   "execution_count": 15,
   "id": "4ea6cb9c",
   "metadata": {},
   "outputs": [
    {
     "name": "stdout",
     "output_type": "stream",
     "text": [
      "<class 'pandas.core.frame.DataFrame'>\n",
      "RangeIndex: 1997484 entries, 0 to 1997483\n",
      "Data columns (total 6 columns):\n",
      " #   Column        Non-Null Count    Dtype \n",
      "---  ------        --------------    ----- \n",
      " 0   reviewScore   1997484 non-null  int8  \n",
      " 1   vote          1997484 non-null  int32 \n",
      " 2   reviewText    1997484 non-null  object\n",
      " 3   reviewerID    1997484 non-null  object\n",
      " 4   asin          1997484 non-null  object\n",
      " 5   review_class  1997484 non-null  int32 \n",
      "dtypes: int32(2), int8(1), object(3)\n",
      "memory usage: 62.9+ MB\n"
     ]
    }
   ],
   "source": [
    "review_df.dropna(inplace = True)\n",
    "review_df.reset_index(drop=True, inplace= True)\n",
    "review_df.info(show_counts= True)"
   ]
  },
  {
   "cell_type": "markdown",
   "id": "13d979e6",
   "metadata": {},
   "source": [
    "The null values have been dropped since the dataframe now only contains 1997484 entries"
   ]
  },
  {
   "cell_type": "markdown",
   "id": "835de70e",
   "metadata": {},
   "source": [
    "# 3. Set up Train/Validation/Test split <a class ='anchor' id='4Test_Train'></a>"
   ]
  },
  {
   "cell_type": "markdown",
   "id": "86e87585",
   "metadata": {},
   "source": [
    "Since the dataset is 2,000,000 rows, a smaller amount will be sampled for NLP analysis "
   ]
  },
  {
   "cell_type": "code",
   "execution_count": 16,
   "id": "0f3cdc79",
   "metadata": {},
   "outputs": [
    {
     "data": {
      "text/plain": [
       "(1997484, 6)"
      ]
     },
     "execution_count": 16,
     "metadata": {},
     "output_type": "execute_result"
    }
   ],
   "source": [
    "review_df.shape"
   ]
  },
  {
   "cell_type": "code",
   "execution_count": 17,
   "id": "a01252a3",
   "metadata": {},
   "outputs": [
    {
     "data": {
      "text/html": [
       "<div>\n",
       "<style scoped>\n",
       "    .dataframe tbody tr th:only-of-type {\n",
       "        vertical-align: middle;\n",
       "    }\n",
       "\n",
       "    .dataframe tbody tr th {\n",
       "        vertical-align: top;\n",
       "    }\n",
       "\n",
       "    .dataframe thead th {\n",
       "        text-align: right;\n",
       "    }\n",
       "</style>\n",
       "<table border=\"1\" class=\"dataframe\">\n",
       "  <thead>\n",
       "    <tr style=\"text-align: right;\">\n",
       "      <th></th>\n",
       "      <th>reviewScore</th>\n",
       "      <th>vote</th>\n",
       "      <th>reviewText</th>\n",
       "      <th>reviewerID</th>\n",
       "      <th>asin</th>\n",
       "      <th>review_class</th>\n",
       "    </tr>\n",
       "  </thead>\n",
       "  <tbody>\n",
       "    <tr>\n",
       "      <th>853122</th>\n",
       "      <td>5</td>\n",
       "      <td>0</td>\n",
       "      <td>all i can say is i must be a knuckle head ,hav...</td>\n",
       "      <td>A3RWAOPZTX9X23</td>\n",
       "      <td>6304366086</td>\n",
       "      <td>1</td>\n",
       "    </tr>\n",
       "    <tr>\n",
       "      <th>1549192</th>\n",
       "      <td>5</td>\n",
       "      <td>214</td>\n",
       "      <td>It was Thermopylae. It was the Alamo. It was l...</td>\n",
       "      <td>A1EXS156IQG7OA</td>\n",
       "      <td>B00005JOZI</td>\n",
       "      <td>1</td>\n",
       "    </tr>\n",
       "    <tr>\n",
       "      <th>1489712</th>\n",
       "      <td>3</td>\n",
       "      <td>0</td>\n",
       "      <td>it had its moments. I would call this movies c...</td>\n",
       "      <td>A1PHI3A5MHNEWL</td>\n",
       "      <td>B00005JMFQ</td>\n",
       "      <td>0</td>\n",
       "    </tr>\n",
       "    <tr>\n",
       "      <th>584779</th>\n",
       "      <td>5</td>\n",
       "      <td>0</td>\n",
       "      <td>Great movie. Came in as expected.</td>\n",
       "      <td>A21G3GPNPGHULA</td>\n",
       "      <td>6303142346</td>\n",
       "      <td>1</td>\n",
       "    </tr>\n",
       "    <tr>\n",
       "      <th>870801</th>\n",
       "      <td>5</td>\n",
       "      <td>0</td>\n",
       "      <td>This is a great movie. loved the fact that it ...</td>\n",
       "      <td>A2IEYFQ99D5OJG</td>\n",
       "      <td>6304340532</td>\n",
       "      <td>1</td>\n",
       "    </tr>\n",
       "    <tr>\n",
       "      <th>...</th>\n",
       "      <td>...</td>\n",
       "      <td>...</td>\n",
       "      <td>...</td>\n",
       "      <td>...</td>\n",
       "      <td>...</td>\n",
       "      <td>...</td>\n",
       "    </tr>\n",
       "    <tr>\n",
       "      <th>1699671</th>\n",
       "      <td>5</td>\n",
       "      <td>0</td>\n",
       "      <td>Must have if you liked the series explains much</td>\n",
       "      <td>A3DKUA65NITXPV</td>\n",
       "      <td>B00006422R</td>\n",
       "      <td>1</td>\n",
       "    </tr>\n",
       "    <tr>\n",
       "      <th>1948349</th>\n",
       "      <td>3</td>\n",
       "      <td>28</td>\n",
       "      <td>The movie content is fine if you're a Conan fa...</td>\n",
       "      <td>A19CZ59O4CNDGP</td>\n",
       "      <td>B0000VD12I</td>\n",
       "      <td>0</td>\n",
       "    </tr>\n",
       "    <tr>\n",
       "      <th>216209</th>\n",
       "      <td>5</td>\n",
       "      <td>2</td>\n",
       "      <td>Dennis Weaver's masterly portrayal of a pacifi...</td>\n",
       "      <td>A213KRJG67ESPB</td>\n",
       "      <td>6300181987</td>\n",
       "      <td>1</td>\n",
       "    </tr>\n",
       "    <tr>\n",
       "      <th>360071</th>\n",
       "      <td>2</td>\n",
       "      <td>0</td>\n",
       "      <td>My guess is the stars (Jamie Lee Curtis, David...</td>\n",
       "      <td>A3MENXHZSLMX7E</td>\n",
       "      <td>630179821X</td>\n",
       "      <td>0</td>\n",
       "    </tr>\n",
       "    <tr>\n",
       "      <th>639359</th>\n",
       "      <td>5</td>\n",
       "      <td>0</td>\n",
       "      <td>One of my most favorite films. It keeps you in...</td>\n",
       "      <td>A1HI5LTCALRESL</td>\n",
       "      <td>6303347665</td>\n",
       "      <td>1</td>\n",
       "    </tr>\n",
       "  </tbody>\n",
       "</table>\n",
       "<p>99874 rows × 6 columns</p>\n",
       "</div>"
      ],
      "text/plain": [
       "         reviewScore  vote                                         reviewText  \\\n",
       "853122             5     0  all i can say is i must be a knuckle head ,hav...   \n",
       "1549192            5   214  It was Thermopylae. It was the Alamo. It was l...   \n",
       "1489712            3     0  it had its moments. I would call this movies c...   \n",
       "584779             5     0                  Great movie. Came in as expected.   \n",
       "870801             5     0  This is a great movie. loved the fact that it ...   \n",
       "...              ...   ...                                                ...   \n",
       "1699671            5     0    Must have if you liked the series explains much   \n",
       "1948349            3    28  The movie content is fine if you're a Conan fa...   \n",
       "216209             5     2  Dennis Weaver's masterly portrayal of a pacifi...   \n",
       "360071             2     0  My guess is the stars (Jamie Lee Curtis, David...   \n",
       "639359             5     0  One of my most favorite films. It keeps you in...   \n",
       "\n",
       "             reviewerID        asin  review_class  \n",
       "853122   A3RWAOPZTX9X23  6304366086             1  \n",
       "1549192  A1EXS156IQG7OA  B00005JOZI             1  \n",
       "1489712  A1PHI3A5MHNEWL  B00005JMFQ             0  \n",
       "584779   A21G3GPNPGHULA  6303142346             1  \n",
       "870801   A2IEYFQ99D5OJG  6304340532             1  \n",
       "...                 ...         ...           ...  \n",
       "1699671  A3DKUA65NITXPV  B00006422R             1  \n",
       "1948349  A19CZ59O4CNDGP  B0000VD12I             0  \n",
       "216209   A213KRJG67ESPB  6300181987             1  \n",
       "360071   A3MENXHZSLMX7E  630179821X             0  \n",
       "639359   A1HI5LTCALRESL  6303347665             1  \n",
       "\n",
       "[99874 rows x 6 columns]"
      ]
     },
     "execution_count": 17,
     "metadata": {},
     "output_type": "execute_result"
    }
   ],
   "source": [
    "subsample = review_df.sample(frac = 0.05)\n",
    "\n",
    "# Check results\n",
    "subsample"
   ]
  },
  {
   "cell_type": "code",
   "execution_count": 45,
   "id": "1927a881",
   "metadata": {},
   "outputs": [],
   "source": [
    "#Set up data for training, validation and testing\n",
    "X = subsample.drop(columns = ['review_class', 'reviewScore'])\n",
    "y = subsample['review_class']\n",
    "\n",
    "# Stratify ensures that both the train and test set includes all the classes in the data\n",
    "X_train_val, X_test, y_train_val, y_test = train_test_split(X,y, test_size = 0.25, stratify = y)\n",
    "\n",
    "# Make the train validation split\n",
    "X_train, X_validation, y_train, y_validation = train_test_split(X,y, test_size = 0.25, stratify = y)"
   ]
  },
  {
   "cell_type": "markdown",
   "id": "8b29d22c",
   "metadata": {},
   "source": [
    "Check the split of the data for the train and test set"
   ]
  },
  {
   "cell_type": "code",
   "execution_count": 46,
   "id": "924d9d38",
   "metadata": {},
   "outputs": [
    {
     "data": {
      "text/plain": [
       "1    0.821841\n",
       "0    0.178159\n",
       "Name: review_class, dtype: float64"
      ]
     },
     "execution_count": 46,
     "metadata": {},
     "output_type": "execute_result"
    }
   ],
   "source": [
    "y_train_val.value_counts()/y_train.shape[0]"
   ]
  },
  {
   "cell_type": "markdown",
   "id": "7c9b0e10",
   "metadata": {},
   "source": [
    "The training data contains 82.1% of positive reviews which means that the data is highly skewed towards positive reviews. There is a 82.1% chance of predicting the review sentiment correctly if every prediction made was positive."
   ]
  },
  {
   "cell_type": "code",
   "execution_count": 47,
   "id": "ae6cb361",
   "metadata": {
    "scrolled": true
   },
   "outputs": [
    {
     "data": {
      "text/plain": [
       "1    0.821859\n",
       "0    0.178141\n",
       "Name: review_class, dtype: float64"
      ]
     },
     "execution_count": 47,
     "metadata": {},
     "output_type": "execute_result"
    }
   ],
   "source": [
    "y_test.value_counts()/y_test.shape[0]"
   ]
  },
  {
   "cell_type": "markdown",
   "id": "4e93b453",
   "metadata": {},
   "source": [
    "The testing data contains 82.1% of positive reviews which means that the data is highly skewed towards positive reviews. There is a 82.1% chance of predicting the review sentiment correctly if every prediction made was positive."
   ]
  },
  {
   "cell_type": "markdown",
   "id": "1a72d0b6",
   "metadata": {},
   "source": [
    "# 4. Set up NLP analysis <a class ='anchor' id='3NLP'></a>"
   ]
  },
  {
   "cell_type": "code",
   "execution_count": 48,
   "id": "c8c65469",
   "metadata": {},
   "outputs": [
    {
     "data": {
      "text/plain": [
       "(74905, 4)"
      ]
     },
     "execution_count": 48,
     "metadata": {},
     "output_type": "execute_result"
    }
   ],
   "source": [
    "X_train.shape"
   ]
  },
  {
   "cell_type": "markdown",
   "id": "e38b01f9",
   "metadata": {},
   "source": [
    "## Convert the text in the reviewText column to vectors"
   ]
  },
  {
   "cell_type": "code",
   "execution_count": 49,
   "id": "214935b9",
   "metadata": {},
   "outputs": [
    {
     "data": {
      "text/plain": [
       "<74905x16732 sparse matrix of type '<class 'numpy.int64'>'\n",
       "\twith 2063757 stored elements in Compressed Sparse Row format>"
      ]
     },
     "execution_count": 49,
     "metadata": {},
     "output_type": "execute_result"
    }
   ],
   "source": [
    "# Instantiate \n",
    "# Discard stop words and words need to be in atleast 10 reviews\n",
    "review_wordbank = CountVectorizer(stop_words = \"english\", min_df = 10)\n",
    "\n",
    "# Fit the first 200000 reviews\n",
    "review_wordbank.fit(X_train['reviewText'])\n",
    "\n",
    "# 3. Transform\n",
    "X_train_transformed = review_wordbank.transform(X_train['reviewText'])\n",
    "X_validation_transformed = review_wordbank.transform(X_validation['reviewText'])\n",
    "X_test_transformed = review_wordbank.transform(X_test['reviewText'])\n",
    "X_train_transformed"
   ]
  },
  {
   "cell_type": "markdown",
   "id": "0b4f15a7",
   "metadata": {},
   "source": [
    "After preliminary vectorization with countvectorizer(), 66915 rows of reviews returned 15623 unique terms or tokens."
   ]
  },
  {
   "cell_type": "code",
   "execution_count": 23,
   "id": "4e54dacc",
   "metadata": {
    "scrolled": true
   },
   "outputs": [
    {
     "data": {
      "text/plain": [
       "array([115, 204,  75, ...,  19,  20,  52], dtype=int64)"
      ]
     },
     "execution_count": 23,
     "metadata": {},
     "output_type": "execute_result"
    }
   ],
   "source": [
    "X_train_transformed.toarray().sum(axis=0)"
   ]
  },
  {
   "cell_type": "code",
   "execution_count": 50,
   "id": "e7ed13f0",
   "metadata": {},
   "outputs": [
    {
     "data": {
      "text/html": [
       "<div>\n",
       "<style scoped>\n",
       "    .dataframe tbody tr th:only-of-type {\n",
       "        vertical-align: middle;\n",
       "    }\n",
       "\n",
       "    .dataframe tbody tr th {\n",
       "        vertical-align: top;\n",
       "    }\n",
       "\n",
       "    .dataframe thead th {\n",
       "        text-align: right;\n",
       "    }\n",
       "</style>\n",
       "<table border=\"1\" class=\"dataframe\">\n",
       "  <thead>\n",
       "    <tr style=\"text-align: right;\">\n",
       "      <th></th>\n",
       "      <th>00</th>\n",
       "      <th>000</th>\n",
       "      <th>007</th>\n",
       "      <th>01</th>\n",
       "      <th>02</th>\n",
       "      <th>03</th>\n",
       "      <th>04</th>\n",
       "      <th>05</th>\n",
       "      <th>06</th>\n",
       "      <th>07</th>\n",
       "      <th>...</th>\n",
       "      <th>zombie</th>\n",
       "      <th>zombies</th>\n",
       "      <th>zone</th>\n",
       "      <th>zoo</th>\n",
       "      <th>zoom</th>\n",
       "      <th>zoomed</th>\n",
       "      <th>zooming</th>\n",
       "      <th>zorro</th>\n",
       "      <th>zucker</th>\n",
       "      <th>zulu</th>\n",
       "    </tr>\n",
       "  </thead>\n",
       "  <tbody>\n",
       "    <tr>\n",
       "      <th>0</th>\n",
       "      <td>0</td>\n",
       "      <td>0</td>\n",
       "      <td>0</td>\n",
       "      <td>0</td>\n",
       "      <td>0</td>\n",
       "      <td>0</td>\n",
       "      <td>0</td>\n",
       "      <td>0</td>\n",
       "      <td>0</td>\n",
       "      <td>0</td>\n",
       "      <td>...</td>\n",
       "      <td>0</td>\n",
       "      <td>0</td>\n",
       "      <td>0</td>\n",
       "      <td>0</td>\n",
       "      <td>0</td>\n",
       "      <td>0</td>\n",
       "      <td>0</td>\n",
       "      <td>0</td>\n",
       "      <td>0</td>\n",
       "      <td>0</td>\n",
       "    </tr>\n",
       "    <tr>\n",
       "      <th>1</th>\n",
       "      <td>0</td>\n",
       "      <td>0</td>\n",
       "      <td>0</td>\n",
       "      <td>0</td>\n",
       "      <td>0</td>\n",
       "      <td>0</td>\n",
       "      <td>0</td>\n",
       "      <td>0</td>\n",
       "      <td>0</td>\n",
       "      <td>0</td>\n",
       "      <td>...</td>\n",
       "      <td>0</td>\n",
       "      <td>0</td>\n",
       "      <td>0</td>\n",
       "      <td>0</td>\n",
       "      <td>0</td>\n",
       "      <td>0</td>\n",
       "      <td>0</td>\n",
       "      <td>0</td>\n",
       "      <td>0</td>\n",
       "      <td>0</td>\n",
       "    </tr>\n",
       "    <tr>\n",
       "      <th>2</th>\n",
       "      <td>0</td>\n",
       "      <td>0</td>\n",
       "      <td>0</td>\n",
       "      <td>0</td>\n",
       "      <td>0</td>\n",
       "      <td>0</td>\n",
       "      <td>0</td>\n",
       "      <td>0</td>\n",
       "      <td>0</td>\n",
       "      <td>0</td>\n",
       "      <td>...</td>\n",
       "      <td>0</td>\n",
       "      <td>0</td>\n",
       "      <td>0</td>\n",
       "      <td>0</td>\n",
       "      <td>0</td>\n",
       "      <td>0</td>\n",
       "      <td>0</td>\n",
       "      <td>0</td>\n",
       "      <td>0</td>\n",
       "      <td>0</td>\n",
       "    </tr>\n",
       "    <tr>\n",
       "      <th>3</th>\n",
       "      <td>0</td>\n",
       "      <td>0</td>\n",
       "      <td>0</td>\n",
       "      <td>0</td>\n",
       "      <td>0</td>\n",
       "      <td>0</td>\n",
       "      <td>0</td>\n",
       "      <td>0</td>\n",
       "      <td>0</td>\n",
       "      <td>0</td>\n",
       "      <td>...</td>\n",
       "      <td>0</td>\n",
       "      <td>0</td>\n",
       "      <td>0</td>\n",
       "      <td>0</td>\n",
       "      <td>0</td>\n",
       "      <td>0</td>\n",
       "      <td>0</td>\n",
       "      <td>0</td>\n",
       "      <td>0</td>\n",
       "      <td>0</td>\n",
       "    </tr>\n",
       "    <tr>\n",
       "      <th>4</th>\n",
       "      <td>0</td>\n",
       "      <td>0</td>\n",
       "      <td>0</td>\n",
       "      <td>0</td>\n",
       "      <td>0</td>\n",
       "      <td>0</td>\n",
       "      <td>0</td>\n",
       "      <td>0</td>\n",
       "      <td>0</td>\n",
       "      <td>0</td>\n",
       "      <td>...</td>\n",
       "      <td>0</td>\n",
       "      <td>0</td>\n",
       "      <td>0</td>\n",
       "      <td>0</td>\n",
       "      <td>0</td>\n",
       "      <td>0</td>\n",
       "      <td>0</td>\n",
       "      <td>0</td>\n",
       "      <td>0</td>\n",
       "      <td>0</td>\n",
       "    </tr>\n",
       "    <tr>\n",
       "      <th>...</th>\n",
       "      <td>...</td>\n",
       "      <td>...</td>\n",
       "      <td>...</td>\n",
       "      <td>...</td>\n",
       "      <td>...</td>\n",
       "      <td>...</td>\n",
       "      <td>...</td>\n",
       "      <td>...</td>\n",
       "      <td>...</td>\n",
       "      <td>...</td>\n",
       "      <td>...</td>\n",
       "      <td>...</td>\n",
       "      <td>...</td>\n",
       "      <td>...</td>\n",
       "      <td>...</td>\n",
       "      <td>...</td>\n",
       "      <td>...</td>\n",
       "      <td>...</td>\n",
       "      <td>...</td>\n",
       "      <td>...</td>\n",
       "      <td>...</td>\n",
       "    </tr>\n",
       "    <tr>\n",
       "      <th>74900</th>\n",
       "      <td>0</td>\n",
       "      <td>0</td>\n",
       "      <td>0</td>\n",
       "      <td>0</td>\n",
       "      <td>0</td>\n",
       "      <td>0</td>\n",
       "      <td>0</td>\n",
       "      <td>0</td>\n",
       "      <td>0</td>\n",
       "      <td>0</td>\n",
       "      <td>...</td>\n",
       "      <td>0</td>\n",
       "      <td>0</td>\n",
       "      <td>0</td>\n",
       "      <td>0</td>\n",
       "      <td>0</td>\n",
       "      <td>0</td>\n",
       "      <td>0</td>\n",
       "      <td>0</td>\n",
       "      <td>0</td>\n",
       "      <td>0</td>\n",
       "    </tr>\n",
       "    <tr>\n",
       "      <th>74901</th>\n",
       "      <td>0</td>\n",
       "      <td>0</td>\n",
       "      <td>0</td>\n",
       "      <td>0</td>\n",
       "      <td>0</td>\n",
       "      <td>0</td>\n",
       "      <td>0</td>\n",
       "      <td>0</td>\n",
       "      <td>0</td>\n",
       "      <td>0</td>\n",
       "      <td>...</td>\n",
       "      <td>0</td>\n",
       "      <td>0</td>\n",
       "      <td>0</td>\n",
       "      <td>0</td>\n",
       "      <td>0</td>\n",
       "      <td>0</td>\n",
       "      <td>0</td>\n",
       "      <td>0</td>\n",
       "      <td>0</td>\n",
       "      <td>0</td>\n",
       "    </tr>\n",
       "    <tr>\n",
       "      <th>74902</th>\n",
       "      <td>0</td>\n",
       "      <td>0</td>\n",
       "      <td>0</td>\n",
       "      <td>0</td>\n",
       "      <td>0</td>\n",
       "      <td>0</td>\n",
       "      <td>0</td>\n",
       "      <td>0</td>\n",
       "      <td>0</td>\n",
       "      <td>0</td>\n",
       "      <td>...</td>\n",
       "      <td>0</td>\n",
       "      <td>0</td>\n",
       "      <td>0</td>\n",
       "      <td>0</td>\n",
       "      <td>0</td>\n",
       "      <td>0</td>\n",
       "      <td>0</td>\n",
       "      <td>0</td>\n",
       "      <td>0</td>\n",
       "      <td>0</td>\n",
       "    </tr>\n",
       "    <tr>\n",
       "      <th>74903</th>\n",
       "      <td>0</td>\n",
       "      <td>0</td>\n",
       "      <td>0</td>\n",
       "      <td>0</td>\n",
       "      <td>0</td>\n",
       "      <td>0</td>\n",
       "      <td>0</td>\n",
       "      <td>0</td>\n",
       "      <td>0</td>\n",
       "      <td>0</td>\n",
       "      <td>...</td>\n",
       "      <td>0</td>\n",
       "      <td>0</td>\n",
       "      <td>0</td>\n",
       "      <td>0</td>\n",
       "      <td>0</td>\n",
       "      <td>0</td>\n",
       "      <td>0</td>\n",
       "      <td>0</td>\n",
       "      <td>0</td>\n",
       "      <td>0</td>\n",
       "    </tr>\n",
       "    <tr>\n",
       "      <th>74904</th>\n",
       "      <td>0</td>\n",
       "      <td>0</td>\n",
       "      <td>0</td>\n",
       "      <td>0</td>\n",
       "      <td>0</td>\n",
       "      <td>0</td>\n",
       "      <td>0</td>\n",
       "      <td>0</td>\n",
       "      <td>0</td>\n",
       "      <td>0</td>\n",
       "      <td>...</td>\n",
       "      <td>0</td>\n",
       "      <td>0</td>\n",
       "      <td>0</td>\n",
       "      <td>0</td>\n",
       "      <td>0</td>\n",
       "      <td>0</td>\n",
       "      <td>0</td>\n",
       "      <td>0</td>\n",
       "      <td>0</td>\n",
       "      <td>0</td>\n",
       "    </tr>\n",
       "  </tbody>\n",
       "</table>\n",
       "<p>74905 rows × 16732 columns</p>\n",
       "</div>"
      ],
      "text/plain": [
       "       00  000  007  01  02  03  04  05  06  07  ...  zombie  zombies  zone  \\\n",
       "0       0    0    0   0   0   0   0   0   0   0  ...       0        0     0   \n",
       "1       0    0    0   0   0   0   0   0   0   0  ...       0        0     0   \n",
       "2       0    0    0   0   0   0   0   0   0   0  ...       0        0     0   \n",
       "3       0    0    0   0   0   0   0   0   0   0  ...       0        0     0   \n",
       "4       0    0    0   0   0   0   0   0   0   0  ...       0        0     0   \n",
       "...    ..  ...  ...  ..  ..  ..  ..  ..  ..  ..  ...     ...      ...   ...   \n",
       "74900   0    0    0   0   0   0   0   0   0   0  ...       0        0     0   \n",
       "74901   0    0    0   0   0   0   0   0   0   0  ...       0        0     0   \n",
       "74902   0    0    0   0   0   0   0   0   0   0  ...       0        0     0   \n",
       "74903   0    0    0   0   0   0   0   0   0   0  ...       0        0     0   \n",
       "74904   0    0    0   0   0   0   0   0   0   0  ...       0        0     0   \n",
       "\n",
       "       zoo  zoom  zoomed  zooming  zorro  zucker  zulu  \n",
       "0        0     0       0        0      0       0     0  \n",
       "1        0     0       0        0      0       0     0  \n",
       "2        0     0       0        0      0       0     0  \n",
       "3        0     0       0        0      0       0     0  \n",
       "4        0     0       0        0      0       0     0  \n",
       "...    ...   ...     ...      ...    ...     ...   ...  \n",
       "74900    0     0       0        0      0       0     0  \n",
       "74901    0     0       0        0      0       0     0  \n",
       "74902    0     0       0        0      0       0     0  \n",
       "74903    0     0       0        0      0       0     0  \n",
       "74904    0     0       0        0      0       0     0  \n",
       "\n",
       "[74905 rows x 16732 columns]"
      ]
     },
     "metadata": {},
     "output_type": "display_data"
    }
   ],
   "source": [
    "prelim_df = pd.DataFrame(columns = review_wordbank.get_feature_names(),data = X_train_transformed.toarray())\n",
    "display(prelim_df)"
   ]
  },
  {
   "cell_type": "code",
   "execution_count": 25,
   "id": "5a730d77",
   "metadata": {
    "scrolled": true
   },
   "outputs": [
    {
     "data": {
      "image/png": "[encoded data removed]",
      "text/plain": [
       "<Figure size 1080x360 with 1 Axes>"
      ]
     },
     "metadata": {
      "needs_background": "light"
     },
     "output_type": "display_data"
    }
   ],
   "source": [
    "word_counts = pd.DataFrame({\"counts\":X_train_transformed.toarray().sum(axis=0)},\n",
    "                          index = review_wordbank.get_feature_names()\n",
    "                          ).sort_values(\"counts\",ascending= False)\n",
    "\n",
    "word_counts.head(20).plot(kind=\"bar\",figsize=(15,5), legend = False)\n",
    "\n",
    "plt.show()"
   ]
  },
  {
   "cell_type": "code",
   "execution_count": 37,
   "id": "4e9c2429",
   "metadata": {},
   "outputs": [],
   "source": [
    "X_train_transformed = X_train_transformed.toarray()\n",
    "X_test_transformed = X_test_transformed.toarray()"
   ]
  },
  {
   "cell_type": "code",
   "execution_count": null,
   "id": "ce2b029e",
   "metadata": {},
   "outputs": [],
   "source": []
  },
  {
   "cell_type": "code",
   "execution_count": null,
   "id": "43c5f78f",
   "metadata": {},
   "outputs": [],
   "source": []
  },
  {
   "cell_type": "markdown",
   "id": "1b3673bf",
   "metadata": {},
   "source": [
    "# 5. Advanced Models <a class ='anchor' id='5AdvancedModels'></a>"
   ]
  },
  {
   "cell_type": "markdown",
   "id": "ccb35e1e",
   "metadata": {},
   "source": [
    "**REMEMBER TO SCALE THE DATA**"
   ]
  },
  {
   "cell_type": "code",
   "execution_count": 38,
   "id": "e165ab67",
   "metadata": {},
   "outputs": [
    {
     "ename": "KeyboardInterrupt",
     "evalue": "",
     "output_type": "error",
     "traceback": [
      "\u001b[1;31m---------------------------------------------------------------------------\u001b[0m",
      "\u001b[1;31mKeyboardInterrupt\u001b[0m                         Traceback (most recent call last)",
      "\u001b[1;32m<ipython-input-38-33b87cd6a39c>\u001b[0m in \u001b[0;36m<module>\u001b[1;34m\u001b[0m\n\u001b[0;32m      3\u001b[0m \u001b[1;31m# Instantiate\u001b[0m\u001b[1;33m\u001b[0m\u001b[1;33m\u001b[0m\u001b[1;33m\u001b[0m\u001b[0m\n\u001b[0;32m      4\u001b[0m \u001b[0mstandscaler\u001b[0m \u001b[1;33m=\u001b[0m \u001b[0mStandardScaler\u001b[0m\u001b[1;33m(\u001b[0m\u001b[1;33m)\u001b[0m\u001b[1;33m\u001b[0m\u001b[1;33m\u001b[0m\u001b[0m\n\u001b[1;32m----> 5\u001b[1;33m \u001b[0mstandscaler\u001b[0m\u001b[1;33m.\u001b[0m\u001b[0mfit\u001b[0m\u001b[1;33m(\u001b[0m\u001b[0mX_train_transformed\u001b[0m\u001b[1;33m)\u001b[0m\u001b[1;33m\u001b[0m\u001b[1;33m\u001b[0m\u001b[0m\n\u001b[0m\u001b[0;32m      6\u001b[0m \u001b[1;33m\u001b[0m\u001b[0m\n\u001b[0;32m      7\u001b[0m \u001b[0mX_train_scaled\u001b[0m \u001b[1;33m=\u001b[0m \u001b[0mscaler\u001b[0m\u001b[1;33m.\u001b[0m\u001b[0mtransform\u001b[0m\u001b[1;33m(\u001b[0m\u001b[0mX_train_transformed\u001b[0m\u001b[1;33m)\u001b[0m\u001b[1;33m\u001b[0m\u001b[1;33m\u001b[0m\u001b[0m\n",
      "\u001b[1;32m~\\anaconda3\\lib\\site-packages\\sklearn\\preprocessing\\_data.py\u001b[0m in \u001b[0;36mfit\u001b[1;34m(self, X, y, sample_weight)\u001b[0m\n\u001b[0;32m    728\u001b[0m         \u001b[1;31m# Reset internal state before fitting\u001b[0m\u001b[1;33m\u001b[0m\u001b[1;33m\u001b[0m\u001b[1;33m\u001b[0m\u001b[0m\n\u001b[0;32m    729\u001b[0m         \u001b[0mself\u001b[0m\u001b[1;33m.\u001b[0m\u001b[0m_reset\u001b[0m\u001b[1;33m(\u001b[0m\u001b[1;33m)\u001b[0m\u001b[1;33m\u001b[0m\u001b[1;33m\u001b[0m\u001b[0m\n\u001b[1;32m--> 730\u001b[1;33m         \u001b[1;32mreturn\u001b[0m \u001b[0mself\u001b[0m\u001b[1;33m.\u001b[0m\u001b[0mpartial_fit\u001b[0m\u001b[1;33m(\u001b[0m\u001b[0mX\u001b[0m\u001b[1;33m,\u001b[0m \u001b[0my\u001b[0m\u001b[1;33m,\u001b[0m \u001b[0msample_weight\u001b[0m\u001b[1;33m)\u001b[0m\u001b[1;33m\u001b[0m\u001b[1;33m\u001b[0m\u001b[0m\n\u001b[0m\u001b[0;32m    731\u001b[0m \u001b[1;33m\u001b[0m\u001b[0m\n\u001b[0;32m    732\u001b[0m     \u001b[1;32mdef\u001b[0m \u001b[0mpartial_fit\u001b[0m\u001b[1;33m(\u001b[0m\u001b[0mself\u001b[0m\u001b[1;33m,\u001b[0m \u001b[0mX\u001b[0m\u001b[1;33m,\u001b[0m \u001b[0my\u001b[0m\u001b[1;33m=\u001b[0m\u001b[1;32mNone\u001b[0m\u001b[1;33m,\u001b[0m \u001b[0msample_weight\u001b[0m\u001b[1;33m=\u001b[0m\u001b[1;32mNone\u001b[0m\u001b[1;33m)\u001b[0m\u001b[1;33m:\u001b[0m\u001b[1;33m\u001b[0m\u001b[1;33m\u001b[0m\u001b[0m\n",
      "\u001b[1;32m~\\anaconda3\\lib\\site-packages\\sklearn\\preprocessing\\_data.py\u001b[0m in \u001b[0;36mpartial_fit\u001b[1;34m(self, X, y, sample_weight)\u001b[0m\n\u001b[0;32m    847\u001b[0m             \u001b[1;32melse\u001b[0m\u001b[1;33m:\u001b[0m\u001b[1;33m\u001b[0m\u001b[1;33m\u001b[0m\u001b[0m\n\u001b[0;32m    848\u001b[0m                 \u001b[0mself\u001b[0m\u001b[1;33m.\u001b[0m\u001b[0mmean_\u001b[0m\u001b[1;33m,\u001b[0m \u001b[0mself\u001b[0m\u001b[1;33m.\u001b[0m\u001b[0mvar_\u001b[0m\u001b[1;33m,\u001b[0m \u001b[0mself\u001b[0m\u001b[1;33m.\u001b[0m\u001b[0mn_samples_seen_\u001b[0m \u001b[1;33m=\u001b[0m\u001b[0;31m \u001b[0m\u001b[0;31m\\\u001b[0m\u001b[1;33m\u001b[0m\u001b[1;33m\u001b[0m\u001b[0m\n\u001b[1;32m--> 849\u001b[1;33m                     _incremental_mean_and_var(X, self.mean_, self.var_,\n\u001b[0m\u001b[0;32m    850\u001b[0m                                               self.n_samples_seen_)\n\u001b[0;32m    851\u001b[0m \u001b[1;33m\u001b[0m\u001b[0m\n",
      "\u001b[1;32m~\\anaconda3\\lib\\site-packages\\sklearn\\utils\\extmath.py\u001b[0m in \u001b[0;36m_incremental_mean_and_var\u001b[1;34m(X, last_mean, last_variance, last_sample_count)\u001b[0m\n\u001b[0;32m    840\u001b[0m     \u001b[1;31m# updated = the aggregated stats\u001b[0m\u001b[1;33m\u001b[0m\u001b[1;33m\u001b[0m\u001b[1;33m\u001b[0m\u001b[0m\n\u001b[0;32m    841\u001b[0m     \u001b[0mlast_sum\u001b[0m \u001b[1;33m=\u001b[0m \u001b[0mlast_mean\u001b[0m \u001b[1;33m*\u001b[0m \u001b[0mlast_sample_count\u001b[0m\u001b[1;33m\u001b[0m\u001b[1;33m\u001b[0m\u001b[0m\n\u001b[1;32m--> 842\u001b[1;33m     \u001b[0mnew_sum\u001b[0m \u001b[1;33m=\u001b[0m \u001b[0m_safe_accumulator_op\u001b[0m\u001b[1;33m(\u001b[0m\u001b[0mnp\u001b[0m\u001b[1;33m.\u001b[0m\u001b[0mnansum\u001b[0m\u001b[1;33m,\u001b[0m \u001b[0mX\u001b[0m\u001b[1;33m,\u001b[0m \u001b[0maxis\u001b[0m\u001b[1;33m=\u001b[0m\u001b[1;36m0\u001b[0m\u001b[1;33m)\u001b[0m\u001b[1;33m\u001b[0m\u001b[1;33m\u001b[0m\u001b[0m\n\u001b[0m\u001b[0;32m    843\u001b[0m \u001b[1;33m\u001b[0m\u001b[0m\n\u001b[0;32m    844\u001b[0m     \u001b[0mnew_sample_count\u001b[0m \u001b[1;33m=\u001b[0m \u001b[0mnp\u001b[0m\u001b[1;33m.\u001b[0m\u001b[0msum\u001b[0m\u001b[1;33m(\u001b[0m\u001b[1;33m~\u001b[0m\u001b[0mnp\u001b[0m\u001b[1;33m.\u001b[0m\u001b[0misnan\u001b[0m\u001b[1;33m(\u001b[0m\u001b[0mX\u001b[0m\u001b[1;33m)\u001b[0m\u001b[1;33m,\u001b[0m \u001b[0maxis\u001b[0m\u001b[1;33m=\u001b[0m\u001b[1;36m0\u001b[0m\u001b[1;33m)\u001b[0m\u001b[1;33m\u001b[0m\u001b[1;33m\u001b[0m\u001b[0m\n",
      "\u001b[1;32m~\\anaconda3\\lib\\site-packages\\sklearn\\utils\\extmath.py\u001b[0m in \u001b[0;36m_safe_accumulator_op\u001b[1;34m(op, x, *args, **kwargs)\u001b[0m\n\u001b[0;32m    687\u001b[0m         \u001b[0mresult\u001b[0m \u001b[1;33m=\u001b[0m \u001b[0mop\u001b[0m\u001b[1;33m(\u001b[0m\u001b[0mx\u001b[0m\u001b[1;33m,\u001b[0m \u001b[1;33m*\u001b[0m\u001b[0margs\u001b[0m\u001b[1;33m,\u001b[0m \u001b[1;33m**\u001b[0m\u001b[0mkwargs\u001b[0m\u001b[1;33m,\u001b[0m \u001b[0mdtype\u001b[0m\u001b[1;33m=\u001b[0m\u001b[0mnp\u001b[0m\u001b[1;33m.\u001b[0m\u001b[0mfloat64\u001b[0m\u001b[1;33m)\u001b[0m\u001b[1;33m\u001b[0m\u001b[1;33m\u001b[0m\u001b[0m\n\u001b[0;32m    688\u001b[0m     \u001b[1;32melse\u001b[0m\u001b[1;33m:\u001b[0m\u001b[1;33m\u001b[0m\u001b[1;33m\u001b[0m\u001b[0m\n\u001b[1;32m--> 689\u001b[1;33m         \u001b[0mresult\u001b[0m \u001b[1;33m=\u001b[0m \u001b[0mop\u001b[0m\u001b[1;33m(\u001b[0m\u001b[0mx\u001b[0m\u001b[1;33m,\u001b[0m \u001b[1;33m*\u001b[0m\u001b[0margs\u001b[0m\u001b[1;33m,\u001b[0m \u001b[1;33m**\u001b[0m\u001b[0mkwargs\u001b[0m\u001b[1;33m)\u001b[0m\u001b[1;33m\u001b[0m\u001b[1;33m\u001b[0m\u001b[0m\n\u001b[0m\u001b[0;32m    690\u001b[0m     \u001b[1;32mreturn\u001b[0m \u001b[0mresult\u001b[0m\u001b[1;33m\u001b[0m\u001b[1;33m\u001b[0m\u001b[0m\n\u001b[0;32m    691\u001b[0m \u001b[1;33m\u001b[0m\u001b[0m\n",
      "\u001b[1;32m<__array_function__ internals>\u001b[0m in \u001b[0;36mnansum\u001b[1;34m(*args, **kwargs)\u001b[0m\n",
      "\u001b[1;32m~\\anaconda3\\lib\\site-packages\\numpy\\lib\\nanfunctions.py\u001b[0m in \u001b[0;36mnansum\u001b[1;34m(a, axis, dtype, out, keepdims)\u001b[0m\n\u001b[0;32m    645\u001b[0m \u001b[1;33m\u001b[0m\u001b[0m\n\u001b[0;32m    646\u001b[0m     \"\"\"\n\u001b[1;32m--> 647\u001b[1;33m     \u001b[0ma\u001b[0m\u001b[1;33m,\u001b[0m \u001b[0mmask\u001b[0m \u001b[1;33m=\u001b[0m \u001b[0m_replace_nan\u001b[0m\u001b[1;33m(\u001b[0m\u001b[0ma\u001b[0m\u001b[1;33m,\u001b[0m \u001b[1;36m0\u001b[0m\u001b[1;33m)\u001b[0m\u001b[1;33m\u001b[0m\u001b[1;33m\u001b[0m\u001b[0m\n\u001b[0m\u001b[0;32m    648\u001b[0m     \u001b[1;32mreturn\u001b[0m \u001b[0mnp\u001b[0m\u001b[1;33m.\u001b[0m\u001b[0msum\u001b[0m\u001b[1;33m(\u001b[0m\u001b[0ma\u001b[0m\u001b[1;33m,\u001b[0m \u001b[0maxis\u001b[0m\u001b[1;33m=\u001b[0m\u001b[0maxis\u001b[0m\u001b[1;33m,\u001b[0m \u001b[0mdtype\u001b[0m\u001b[1;33m=\u001b[0m\u001b[0mdtype\u001b[0m\u001b[1;33m,\u001b[0m \u001b[0mout\u001b[0m\u001b[1;33m=\u001b[0m\u001b[0mout\u001b[0m\u001b[1;33m,\u001b[0m \u001b[0mkeepdims\u001b[0m\u001b[1;33m=\u001b[0m\u001b[0mkeepdims\u001b[0m\u001b[1;33m)\u001b[0m\u001b[1;33m\u001b[0m\u001b[1;33m\u001b[0m\u001b[0m\n\u001b[0;32m    649\u001b[0m \u001b[1;33m\u001b[0m\u001b[0m\n",
      "\u001b[1;32m~\\anaconda3\\lib\\site-packages\\numpy\\lib\\nanfunctions.py\u001b[0m in \u001b[0;36m_replace_nan\u001b[1;34m(a, val)\u001b[0m\n\u001b[0;32m    105\u001b[0m \u001b[1;33m\u001b[0m\u001b[0m\n\u001b[0;32m    106\u001b[0m     \u001b[1;32mif\u001b[0m \u001b[0mmask\u001b[0m \u001b[1;32mis\u001b[0m \u001b[1;32mnot\u001b[0m \u001b[1;32mNone\u001b[0m\u001b[1;33m:\u001b[0m\u001b[1;33m\u001b[0m\u001b[1;33m\u001b[0m\u001b[0m\n\u001b[1;32m--> 107\u001b[1;33m         \u001b[0ma\u001b[0m \u001b[1;33m=\u001b[0m \u001b[0mnp\u001b[0m\u001b[1;33m.\u001b[0m\u001b[0marray\u001b[0m\u001b[1;33m(\u001b[0m\u001b[0ma\u001b[0m\u001b[1;33m,\u001b[0m \u001b[0msubok\u001b[0m\u001b[1;33m=\u001b[0m\u001b[1;32mTrue\u001b[0m\u001b[1;33m,\u001b[0m \u001b[0mcopy\u001b[0m\u001b[1;33m=\u001b[0m\u001b[1;32mTrue\u001b[0m\u001b[1;33m)\u001b[0m\u001b[1;33m\u001b[0m\u001b[1;33m\u001b[0m\u001b[0m\n\u001b[0m\u001b[0;32m    108\u001b[0m         \u001b[0mnp\u001b[0m\u001b[1;33m.\u001b[0m\u001b[0mcopyto\u001b[0m\u001b[1;33m(\u001b[0m\u001b[0ma\u001b[0m\u001b[1;33m,\u001b[0m \u001b[0mval\u001b[0m\u001b[1;33m,\u001b[0m \u001b[0mwhere\u001b[0m\u001b[1;33m=\u001b[0m\u001b[0mmask\u001b[0m\u001b[1;33m)\u001b[0m\u001b[1;33m\u001b[0m\u001b[1;33m\u001b[0m\u001b[0m\n\u001b[0;32m    109\u001b[0m \u001b[1;33m\u001b[0m\u001b[0m\n",
      "\u001b[1;31mKeyboardInterrupt\u001b[0m: "
     ]
    }
   ],
   "source": [
    "from sklearn.preprocessing import StandardScaler\n",
    "\n",
    "# Instantiate\n",
    "standscaler = StandardScaler()\n",
    "standscaler.fit(X_train_transformed)\n",
    "\n",
    "X_train_scaled = scaler.transform(X_train_transformed)\n",
    "X_train_scaled = scaler.transform(y_train_transformed)"
   ]
  },
  {
   "cell_type": "markdown",
   "id": "a954fee6",
   "metadata": {},
   "source": [
    "## Logistic Regression"
   ]
  },
  {
   "cell_type": "code",
   "execution_count": 35,
   "id": "9732e105",
   "metadata": {},
   "outputs": [
    {
     "ename": "NameError",
     "evalue": "name 'X_train_scaled' is not defined",
     "output_type": "error",
     "traceback": [
      "\u001b[1;31m---------------------------------------------------------------------------\u001b[0m",
      "\u001b[1;31mNameError\u001b[0m                                 Traceback (most recent call last)",
      "\u001b[1;32m<ipython-input-35-38f9b75eac97>\u001b[0m in \u001b[0;36m<module>\u001b[1;34m\u001b[0m\n\u001b[0;32m      3\u001b[0m \u001b[1;33m\u001b[0m\u001b[0m\n\u001b[0;32m      4\u001b[0m \u001b[1;31m# Fit the model\u001b[0m\u001b[1;33m\u001b[0m\u001b[1;33m\u001b[0m\u001b[1;33m\u001b[0m\u001b[0m\n\u001b[1;32m----> 5\u001b[1;33m \u001b[0mlogreg\u001b[0m\u001b[1;33m.\u001b[0m\u001b[0mfit\u001b[0m\u001b[1;33m(\u001b[0m\u001b[0mX_train_scaled\u001b[0m\u001b[1;33m,\u001b[0m\u001b[0my_train\u001b[0m\u001b[1;33m)\u001b[0m\u001b[1;33m\u001b[0m\u001b[1;33m\u001b[0m\u001b[0m\n\u001b[0m\u001b[0;32m      6\u001b[0m \u001b[1;33m\u001b[0m\u001b[0m\n\u001b[0;32m      7\u001b[0m \u001b[1;31m# Score the model\u001b[0m\u001b[1;33m\u001b[0m\u001b[1;33m\u001b[0m\u001b[1;33m\u001b[0m\u001b[0m\n",
      "\u001b[1;31mNameError\u001b[0m: name 'X_train_scaled' is not defined"
     ]
    }
   ],
   "source": [
    "# Instantiate\n",
    "logreg = LogisticRegression(C = 0.1)\n",
    "\n",
    "# Fit the model\n",
    "logreg.fit(X_train_scaled,y_train)\n",
    "\n",
    "# Score the model\n",
    "print(f\"Train score: {logreg.score(X_train_scaled,y_train)}\")\n",
    "print(f\"Test score: {logreg.score(X_test_scaled,y_test)}\")"
   ]
  },
  {
   "cell_type": "markdown",
   "id": "8f50d9b5",
   "metadata": {},
   "source": [
    "## Decision Tree Classification"
   ]
  },
  {
   "cell_type": "code",
   "execution_count": 27,
   "id": "b6db500c",
   "metadata": {
    "scrolled": true
   },
   "outputs": [
    {
     "name": "stdout",
     "output_type": "stream",
     "text": [
      "Train score: 0.8952402301427184\n",
      "Test score: 0.8377681361691799\n"
     ]
    }
   ],
   "source": [
    "from sklearn.tree import DecisionTreeClassifier\n",
    "\n",
    "# Instantiate\n",
    "decisiontree_model = DecisionTreeClassifier(max_depth = 25)\n",
    "\n",
    "# Fit the model\n",
    "decisiontree_model.fit(X_train_transformed,y_train)\n",
    "\n",
    "# Score the model\n",
    "print(f\"Train score: {decisiontree_model.score(X_train_transformed,y_train)}\")\n",
    "print(f\"Test score: {decisiontree_model.score(X_test_transformed,y_test)}\")"
   ]
  },
  {
   "cell_type": "markdown",
   "id": "21dceea5",
   "metadata": {},
   "source": [
    "## Support Vector Machine Classification"
   ]
  },
  {
   "cell_type": "code",
   "execution_count": 42,
   "id": "7ffad4db",
   "metadata": {
    "scrolled": true
   },
   "outputs": [
    {
     "ename": "KeyboardInterrupt",
     "evalue": "",
     "output_type": "error",
     "traceback": [
      "\u001b[1;31m---------------------------------------------------------------------------\u001b[0m",
      "\u001b[1;31mKeyboardInterrupt\u001b[0m                         Traceback (most recent call last)",
      "\u001b[1;32m<ipython-input-42-7fb3564d7b88>\u001b[0m in \u001b[0;36m<module>\u001b[1;34m\u001b[0m\n\u001b[0;32m      5\u001b[0m \u001b[1;33m\u001b[0m\u001b[0m\n\u001b[0;32m      6\u001b[0m \u001b[1;31m# Fit the model\u001b[0m\u001b[1;33m\u001b[0m\u001b[1;33m\u001b[0m\u001b[1;33m\u001b[0m\u001b[0m\n\u001b[1;32m----> 7\u001b[1;33m \u001b[0msvm_model\u001b[0m\u001b[1;33m.\u001b[0m\u001b[0mfit\u001b[0m\u001b[1;33m(\u001b[0m\u001b[0mX_train_transformed\u001b[0m\u001b[1;33m,\u001b[0m\u001b[0my_train\u001b[0m\u001b[1;33m)\u001b[0m\u001b[1;33m\u001b[0m\u001b[1;33m\u001b[0m\u001b[0m\n\u001b[0m\u001b[0;32m      8\u001b[0m \u001b[1;33m\u001b[0m\u001b[0m\n\u001b[0;32m      9\u001b[0m \u001b[1;31m# Score the model\u001b[0m\u001b[1;33m\u001b[0m\u001b[1;33m\u001b[0m\u001b[1;33m\u001b[0m\u001b[0m\n",
      "\u001b[1;32m~\\anaconda3\\lib\\site-packages\\sklearn\\svm\\_base.py\u001b[0m in \u001b[0;36mfit\u001b[1;34m(self, X, y, sample_weight)\u001b[0m\n\u001b[0;32m    224\u001b[0m \u001b[1;33m\u001b[0m\u001b[0m\n\u001b[0;32m    225\u001b[0m         \u001b[0mseed\u001b[0m \u001b[1;33m=\u001b[0m \u001b[0mrnd\u001b[0m\u001b[1;33m.\u001b[0m\u001b[0mrandint\u001b[0m\u001b[1;33m(\u001b[0m\u001b[0mnp\u001b[0m\u001b[1;33m.\u001b[0m\u001b[0miinfo\u001b[0m\u001b[1;33m(\u001b[0m\u001b[1;34m'i'\u001b[0m\u001b[1;33m)\u001b[0m\u001b[1;33m.\u001b[0m\u001b[0mmax\u001b[0m\u001b[1;33m)\u001b[0m\u001b[1;33m\u001b[0m\u001b[1;33m\u001b[0m\u001b[0m\n\u001b[1;32m--> 226\u001b[1;33m         \u001b[0mfit\u001b[0m\u001b[1;33m(\u001b[0m\u001b[0mX\u001b[0m\u001b[1;33m,\u001b[0m \u001b[0my\u001b[0m\u001b[1;33m,\u001b[0m \u001b[0msample_weight\u001b[0m\u001b[1;33m,\u001b[0m \u001b[0msolver_type\u001b[0m\u001b[1;33m,\u001b[0m \u001b[0mkernel\u001b[0m\u001b[1;33m,\u001b[0m \u001b[0mrandom_seed\u001b[0m\u001b[1;33m=\u001b[0m\u001b[0mseed\u001b[0m\u001b[1;33m)\u001b[0m\u001b[1;33m\u001b[0m\u001b[1;33m\u001b[0m\u001b[0m\n\u001b[0m\u001b[0;32m    227\u001b[0m         \u001b[1;31m# see comment on the other call to np.iinfo in this file\u001b[0m\u001b[1;33m\u001b[0m\u001b[1;33m\u001b[0m\u001b[1;33m\u001b[0m\u001b[0m\n\u001b[0;32m    228\u001b[0m \u001b[1;33m\u001b[0m\u001b[0m\n",
      "\u001b[1;32m~\\anaconda3\\lib\\site-packages\\sklearn\\svm\\_base.py\u001b[0m in \u001b[0;36m_sparse_fit\u001b[1;34m(self, X, y, sample_weight, solver_type, kernel, random_seed)\u001b[0m\n\u001b[0;32m    299\u001b[0m             \u001b[0mself\u001b[0m\u001b[1;33m.\u001b[0m\u001b[0mintercept_\u001b[0m\u001b[1;33m,\u001b[0m \u001b[0mself\u001b[0m\u001b[1;33m.\u001b[0m\u001b[0m_n_support\u001b[0m\u001b[1;33m,\u001b[0m\u001b[0;31m \u001b[0m\u001b[0;31m\\\u001b[0m\u001b[1;33m\u001b[0m\u001b[1;33m\u001b[0m\u001b[0m\n\u001b[0;32m    300\u001b[0m             \u001b[0mself\u001b[0m\u001b[1;33m.\u001b[0m\u001b[0m_probA\u001b[0m\u001b[1;33m,\u001b[0m \u001b[0mself\u001b[0m\u001b[1;33m.\u001b[0m\u001b[0m_probB\u001b[0m\u001b[1;33m,\u001b[0m \u001b[0mself\u001b[0m\u001b[1;33m.\u001b[0m\u001b[0mfit_status_\u001b[0m \u001b[1;33m=\u001b[0m\u001b[0;31m \u001b[0m\u001b[0;31m\\\u001b[0m\u001b[1;33m\u001b[0m\u001b[1;33m\u001b[0m\u001b[0m\n\u001b[1;32m--> 301\u001b[1;33m             libsvm_sparse.libsvm_sparse_train(\n\u001b[0m\u001b[0;32m    302\u001b[0m                 \u001b[0mX\u001b[0m\u001b[1;33m.\u001b[0m\u001b[0mshape\u001b[0m\u001b[1;33m[\u001b[0m\u001b[1;36m1\u001b[0m\u001b[1;33m]\u001b[0m\u001b[1;33m,\u001b[0m \u001b[0mX\u001b[0m\u001b[1;33m.\u001b[0m\u001b[0mdata\u001b[0m\u001b[1;33m,\u001b[0m \u001b[0mX\u001b[0m\u001b[1;33m.\u001b[0m\u001b[0mindices\u001b[0m\u001b[1;33m,\u001b[0m \u001b[0mX\u001b[0m\u001b[1;33m.\u001b[0m\u001b[0mindptr\u001b[0m\u001b[1;33m,\u001b[0m \u001b[0my\u001b[0m\u001b[1;33m,\u001b[0m \u001b[0msolver_type\u001b[0m\u001b[1;33m,\u001b[0m\u001b[1;33m\u001b[0m\u001b[1;33m\u001b[0m\u001b[0m\n\u001b[0;32m    303\u001b[0m                 \u001b[0mkernel_type\u001b[0m\u001b[1;33m,\u001b[0m \u001b[0mself\u001b[0m\u001b[1;33m.\u001b[0m\u001b[0mdegree\u001b[0m\u001b[1;33m,\u001b[0m \u001b[0mself\u001b[0m\u001b[1;33m.\u001b[0m\u001b[0m_gamma\u001b[0m\u001b[1;33m,\u001b[0m \u001b[0mself\u001b[0m\u001b[1;33m.\u001b[0m\u001b[0mcoef0\u001b[0m\u001b[1;33m,\u001b[0m \u001b[0mself\u001b[0m\u001b[1;33m.\u001b[0m\u001b[0mtol\u001b[0m\u001b[1;33m,\u001b[0m\u001b[1;33m\u001b[0m\u001b[1;33m\u001b[0m\u001b[0m\n",
      "\u001b[1;32msklearn\\svm\\_libsvm_sparse.pyx\u001b[0m in \u001b[0;36msklearn.svm._libsvm_sparse.libsvm_sparse_train\u001b[1;34m()\u001b[0m\n",
      "\u001b[1;32m~\\anaconda3\\lib\\site-packages\\scipy\\sparse\\compressed.py\u001b[0m in \u001b[0;36m__init__\u001b[1;34m(self, arg1, shape, dtype, copy)\u001b[0m\n\u001b[0;32m     25\u001b[0m     \u001b[1;34m\"\"\"base matrix class for compressed row- and column-oriented matrices\"\"\"\u001b[0m\u001b[1;33m\u001b[0m\u001b[1;33m\u001b[0m\u001b[0m\n\u001b[0;32m     26\u001b[0m \u001b[1;33m\u001b[0m\u001b[0m\n\u001b[1;32m---> 27\u001b[1;33m     \u001b[1;32mdef\u001b[0m \u001b[0m__init__\u001b[0m\u001b[1;33m(\u001b[0m\u001b[0mself\u001b[0m\u001b[1;33m,\u001b[0m \u001b[0marg1\u001b[0m\u001b[1;33m,\u001b[0m \u001b[0mshape\u001b[0m\u001b[1;33m=\u001b[0m\u001b[1;32mNone\u001b[0m\u001b[1;33m,\u001b[0m \u001b[0mdtype\u001b[0m\u001b[1;33m=\u001b[0m\u001b[1;32mNone\u001b[0m\u001b[1;33m,\u001b[0m \u001b[0mcopy\u001b[0m\u001b[1;33m=\u001b[0m\u001b[1;32mFalse\u001b[0m\u001b[1;33m)\u001b[0m\u001b[1;33m:\u001b[0m\u001b[1;33m\u001b[0m\u001b[1;33m\u001b[0m\u001b[0m\n\u001b[0m\u001b[0;32m     28\u001b[0m         \u001b[0m_data_matrix\u001b[0m\u001b[1;33m.\u001b[0m\u001b[0m__init__\u001b[0m\u001b[1;33m(\u001b[0m\u001b[0mself\u001b[0m\u001b[1;33m)\u001b[0m\u001b[1;33m\u001b[0m\u001b[1;33m\u001b[0m\u001b[0m\n\u001b[0;32m     29\u001b[0m \u001b[1;33m\u001b[0m\u001b[0m\n",
      "\u001b[1;31mKeyboardInterrupt\u001b[0m: "
     ]
    }
   ],
   "source": [
    "from sklearn.svm import SVC\n",
    "\n",
    "# Instantiate\n",
    "svm_model = SVC(kernel='rbf')\n",
    "\n",
    "# Fit the model\n",
    "svm_model.fit(X_train_transformed,y_train)\n",
    "\n",
    "# Score the model\n",
    "print(f\"Train score: {svm_model.score(X_train_transformed,y_train)}\")\n",
    "print(f\"Train score: {svm_model.score(X_train_transformed,y_train)}\")\n",
    "print(f\"Test score: {svm_model.score(X_test_transformed,y_test)}\")"
   ]
  },
  {
   "cell_type": "code",
   "execution_count": null,
   "id": "940b607c",
   "metadata": {},
   "outputs": [],
   "source": []
  },
  {
   "cell_type": "code",
   "execution_count": 29,
   "id": "5c8fd555",
   "metadata": {},
   "outputs": [],
   "source": [
    "#review_transformed.toarray().sum(axis=0)"
   ]
  },
  {
   "cell_type": "markdown",
   "id": "0d85f1e8",
   "metadata": {},
   "source": [
    "Use grid search to determine the best model and hyperparameter"
   ]
  },
  {
   "cell_type": "code",
   "execution_count": null,
   "id": "24eea6dc",
   "metadata": {},
   "outputs": [],
   "source": [
    "from sklearn.pipeline import Pipeline\n",
    "from sklearn.model_selection import GridSearchCV\n",
    "\n",
    "estimators = [('normalize', StandardScaler()),\n",
    "             ('svm', )]"
   ]
  }
 ],
 "metadata": {
  "kernelspec": {
   "display_name": "Python 3",
   "language": "python",
   "name": "python3"
  },
  "language_info": {
   "codemirror_mode": {
    "name": "ipython",
    "version": 3
   },
   "file_extension": ".py",
   "mimetype": "text/x-python",
   "name": "python",
   "nbconvert_exporter": "python",
   "pygments_lexer": "ipython3",
   "version": "3.8.8"
  },
  "vscode": {
   "interpreter": {
    "hash": "b0b87898d849d5a7e2d74c069a53aa09ad9f1d9b21997adfe24015fe0f36f48c"
   }
  }
 },
 "nbformat": 4,
 "nbformat_minor": 5
}
