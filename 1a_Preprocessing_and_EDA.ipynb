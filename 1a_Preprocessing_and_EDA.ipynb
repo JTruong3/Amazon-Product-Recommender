{
 "cells": [
  {
   "cell_type": "markdown",
   "id": "0280661e",
   "metadata": {},
   "source": [
    "# Amazon Product Recommender"
   ]
  },
  {
   "cell_type": "markdown",
   "id": "de201645",
   "metadata": {},
   "source": [
    "**Jason Truong**  **|**  Jasontruong19@gmail.com  **|**  September 25, 2022"
   ]
  },
  {
   "cell_type": "markdown",
   "id": "ee70f74c",
   "metadata": {},
   "source": [
    "**Problem Statement:** based on a person’s review of a product, can items of similar properties be recommended to them such that they are more inclined to buy the item? This project adds business value by improving the customer buying experience on Amazon through personalized recommendations for products. These recommendations influence customer purchases by making it easier for customers to find similar products. "
   ]
  },
  {
   "cell_type": "markdown",
   "id": "f4cb3b0d",
   "metadata": {},
   "source": [
    "***"
   ]
  },
  {
   "cell_type": "markdown",
   "id": "62d3e56f",
   "metadata": {},
   "source": [
    "# 1 Preliminary Data Cleaning, Preprocessing and EDA"
   ]
  },
  {
   "cell_type": "markdown",
   "id": "3e2385e0",
   "metadata": {},
   "source": [
    "**Note**: This is notebook **1 of 5** for building the recommendation system."
   ]
  },
  {
   "cell_type": "markdown",
   "id": "60253b1d",
   "metadata": {},
   "source": [
    "This Jupyter workbook contains the review data for the category Movies and TV. The data was sourced from http://deepyeti.ucsd.edu/jianmo/amazon/index.html\n",
    "\n",
    "**Citing source:** Justifying recommendations using distantly-labeled reviews and fined-grained aspects\n",
    "Jianmo Ni, Jiacheng Li, Julian McAuley\n",
    "Empirical Methods in Natural Language Processing (EMNLP), 2019\n"
   ]
  },
  {
   "cell_type": "markdown",
   "id": "38a88bb5",
   "metadata": {},
   "source": [
    "# Table of Contents\n",
    "\n",
    "1. **[Objective](#1Objective)**\n",
    "2. **[Data Dictionary](#2DataDict)**\n",
    "3. **[Preliminary Data Cleaning](#3Preliminary)**     \n",
    "    3.1. [Remove Duplicated Columns](#3.1duplicated)  \n",
    "    3.2. [Preprocess: 'Overall'](#3.2overall)  \n",
    "    3.3. [Preprocess: 'Vote'](#3.3vote)  \n",
    "    3.4. [Preprocess: 'reviewTime'](#3.4reviewTime)  \n",
    "    3.5. [Preprocess: 'style'](#3.5style)   \n",
    "    3.6. [Preprocess: 'verified'](#3.6verified)  \n",
    "    3.7. [Preprocess: 'ASIN'](#3.7asin)  \n",
    "    3.8. [Preprocess: Duplicated Rows and NaNs](#3.8droprows)  \n",
    "    3.9. [Narrow down dataset](#3.9compress)  \n",
    "    3.10. [Create clean dataframe for EDA](#3.10cleandf)  \n",
    "    3.11. [Save data to JSON file](#3.11save)  \n",
    "4. **[Exploratory Data Analysis](#4EDA)**  \n",
    "    4.1 [What is the Review Score distribution?](#4.1reviewscore)  \n",
    "    4.2 [What is the general distribution of all the categorical columns?](#4.2distribution)  \n",
    "    4.3 [What is the average review score over time?](#4.3avgreviewscore)  \n",
    "    4.4 [Is there a trend to the verified review counts over time?](#4.4verifiedtrend)  \n",
    "    4.5 [What is the distribution of the Votes column?](#4.5votesdistribution)  \n",
    "    4.6 [Feature Correlations](#4.6featurecorrelation)  \n",
    "5. **[Summary](#5summary)**  "
   ]
  },
  {
   "cell_type": "markdown",
   "id": "86751a2c",
   "metadata": {},
   "source": [
    "# 1. Objective<a class ='anchor' id='1Objective'></a>"
   ]
  },
  {
   "cell_type": "markdown",
   "id": "273c72b6",
   "metadata": {},
   "source": [
    "Reviews provide users with feedback about whether a purchased product is good or not. Reviews play a big role in influencing people's decisions to purchase a product. In this notebook, the Amazon review data will be loaded in, preprocessed and cleaned for further analysis. The cleaned review data will also be used for a preliminary exploratory data analysis to expose any trends in the data."
   ]
  },
  {
   "cell_type": "markdown",
   "id": "b18f40a1",
   "metadata": {},
   "source": [
    "# 2. Data Dictionary<a class ='anchor' id='2DataDict'></a>"
   ]
  },
  {
   "cell_type": "markdown",
   "id": "10901ae1",
   "metadata": {},
   "source": [
    "Below is a list of the different columns and the type of content that is stored."
   ]
  },
  {
   "cell_type": "markdown",
   "id": "8f0ffaae",
   "metadata": {},
   "source": [
    "<table>\n",
    "  <tr>\n",
    "    <th style=\"text-align: left; background: lightgrey\">Column Name</th>\n",
    "    <th style=\"text-align: left; background: lightgrey\">Column Contents</th>\n",
    "  </tr>\n",
    "  <tr>\n",
    "    <td style=\"text-align: left\"> <code>Overall</code> </td>\n",
    "    <td style=\"text-align: left\">Review score of the product given by the user.</td>\n",
    "  </tr>\n",
    "  <tr>\n",
    "    <td style=\"text-align: left\"><code>Verified</code></td>\n",
    "    <td style=\"text-align: left\">If the reviewer actually bought the item or not (1: The user bought the item, 0: The user did not buy the item)</td>\n",
    "  </tr>\n",
    "  <tr>\n",
    "    <td style=\"text-align: left\"><code>ReviewTime</code></td>\n",
    "    <td style=\"text-align: left\">The date of the review.</td>\n",
    "  </tr>\n",
    "  <tr>\n",
    "    <td style=\"text-align: left\"><code>ReviewerID</code></td>\n",
    "    <td style=\"text-align: left\">The unique ID associated with the Reviewer's account.</td>\n",
    "  </tr>\n",
    "  <tr>\n",
    "    <td style=\"text-align: left\"><code>asin</code></td>\n",
    "    <td style=\"text-align: left\">The unique ID associated with the product in review</td>\n",
    "  </tr>\n",
    "  <tr>\n",
    "    <td style=\"text-align: left\"><code>Style</code></td>\n",
    "    <td style=\"text-align: left\">The category for the product. In this case for movies, the category includes DVD, Amazon video, Blu-Ray, etc...</td>\n",
    "  </tr>\n",
    "  <tr>\n",
    "    <td style=\"text-align: left\"><code>reviewerName</code></td>\n",
    "    <td style=\"text-align: left\">The name of the reviewer reviewing the product</td>\n",
    "  </tr>\n",
    "  <tr>\n",
    "    <td style=\"text-align: left\"><code>reviewText</code></td>\n",
    "    <td style=\"text-align: left\"> The text review of the product.</td>\n",
    "  </tr>\n",
    "  <tr>\n",
    "    <td style=\"text-align: left\"><code>Summary</code></td>\n",
    "    <td style=\"text-align: left\">A short summary of the review text.</td>\n",
    "  </tr>\n",
    "  <tr>\n",
    "    <td style=\"text-align: left\"><code>unixReviewTime</code></td>\n",
    "    <td style=\"text-align: left\">The date of the review in unix form.</td>\n",
    "  </tr>\n",
    "  <tr>\n",
    "    <td style=\"text-align: left\"><code>Vote</code></td>\n",
    "    <td style=\"text-align: left\">How many upvotes the review got from other Amazon users.</td>\n",
    "  </tr>\n",
    "  <tr>\n",
    "    <td style=\"text-align: left\"><code>Image</code></td>\n",
    "    <td style=\"text-align: left\">Links to images of the product\" </td>\n",
    "  </tr>\n",
    "</table>\n"
   ]
  },
  {
   "cell_type": "markdown",
   "id": "b9bd39bf",
   "metadata": {},
   "source": [
    "# 3. Preliminary Data Cleaning <a class ='anchor' id='3Preliminary'></a>"
   ]
  },
  {
   "cell_type": "code",
   "execution_count": 1,
   "id": "5dd532af",
   "metadata": {},
   "outputs": [],
   "source": [
    "# Import necessary packages.\n",
    "import json\n",
    "from datetime import datetime\n",
    "import pandas as pd\n",
    "import numpy as np\n",
    "\n",
    "# Ignore warnings\n",
    "import warnings\n",
    "warnings.filterwarnings('ignore')\n",
    "\n",
    "# Plotting package\n",
    "import matplotlib.pyplot as plt\n",
    "import seaborn as sns"
   ]
  },
  {
   "cell_type": "markdown",
   "id": "20aa50b6",
   "metadata": {},
   "source": [
    "Since the dataset contains 8.9 million rows of data and is 5.2 GBs, only a small subset of the data will be loaded in."
   ]
  },
  {
   "cell_type": "markdown",
   "id": "44c2b140",
   "metadata": {},
   "source": [
    "Load in the dataset."
   ]
  },
  {
   "cell_type": "code",
   "execution_count": 2,
   "id": "2cc7464f",
   "metadata": {},
   "outputs": [],
   "source": [
    "review_data = []\n",
    "\n",
    "# Read in the first 2,000,000 rows from the dataset\n",
    "with open('Movies_and_TV.json','r') as metafile:\n",
    "    for x in range(2000000):\n",
    "        review_data.append(json.loads(next(metafile)))"
   ]
  },
  {
   "cell_type": "markdown",
   "id": "9b99a64d",
   "metadata": {},
   "source": [
    "Create the dataframe and explore the data"
   ]
  },
  {
   "cell_type": "code",
   "execution_count": 3,
   "id": "6ae62880",
   "metadata": {},
   "outputs": [],
   "source": [
    "review_df = pd.DataFrame(review_data)"
   ]
  },
  {
   "cell_type": "code",
   "execution_count": 4,
   "id": "6b59171f",
   "metadata": {},
   "outputs": [
    {
     "name": "stdout",
     "output_type": "stream",
     "text": [
      "<class 'pandas.core.frame.DataFrame'>\n",
      "RangeIndex: 2000000 entries, 0 to 1999999\n",
      "Data columns (total 12 columns):\n",
      " #   Column          Non-Null Count    Dtype  \n",
      "---  ------          --------------    -----  \n",
      " 0   overall         2000000 non-null  float64\n",
      " 1   verified        2000000 non-null  bool   \n",
      " 2   reviewTime      2000000 non-null  object \n",
      " 3   reviewerID      2000000 non-null  object \n",
      " 4   asin            2000000 non-null  object \n",
      " 5   style           1869058 non-null  object \n",
      " 6   reviewerName    1999947 non-null  object \n",
      " 7   reviewText      1998502 non-null  object \n",
      " 8   summary         1999606 non-null  object \n",
      " 9   unixReviewTime  2000000 non-null  int64  \n",
      " 10  vote            413317 non-null   object \n",
      " 11  image           2912 non-null     object \n",
      "dtypes: bool(1), float64(1), int64(1), object(9)\n",
      "memory usage: 169.8+ MB\n"
     ]
    }
   ],
   "source": [
    "review_df.info(show_counts= True)"
   ]
  },
  {
   "cell_type": "markdown",
   "id": "d9d7c071",
   "metadata": {},
   "source": [
    "There are 12 columns of data with 9 object columns that will be converted to numeric."
   ]
  },
  {
   "cell_type": "markdown",
   "id": "79963a76",
   "metadata": {},
   "source": [
    "## 3.1 Preprocess Duplicated Columns<a class ='anchor' id='3.1duplicated'></a>"
   ]
  },
  {
   "cell_type": "markdown",
   "id": "42bafe56",
   "metadata": {},
   "source": [
    "In this section, duplicated columns will be removed."
   ]
  },
  {
   "cell_type": "code",
   "execution_count": 5,
   "id": "77e02091",
   "metadata": {},
   "outputs": [
    {
     "data": {
      "text/html": [
       "<div>\n",
       "<style scoped>\n",
       "    .dataframe tbody tr th:only-of-type {\n",
       "        vertical-align: middle;\n",
       "    }\n",
       "\n",
       "    .dataframe tbody tr th {\n",
       "        vertical-align: top;\n",
       "    }\n",
       "\n",
       "    .dataframe thead th {\n",
       "        text-align: right;\n",
       "    }\n",
       "</style>\n",
       "<table border=\"1\" class=\"dataframe\">\n",
       "  <thead>\n",
       "    <tr style=\"text-align: right;\">\n",
       "      <th></th>\n",
       "      <th>overall</th>\n",
       "      <th>verified</th>\n",
       "      <th>reviewTime</th>\n",
       "      <th>reviewerID</th>\n",
       "      <th>asin</th>\n",
       "      <th>style</th>\n",
       "      <th>reviewerName</th>\n",
       "      <th>reviewText</th>\n",
       "      <th>summary</th>\n",
       "      <th>unixReviewTime</th>\n",
       "      <th>vote</th>\n",
       "      <th>image</th>\n",
       "    </tr>\n",
       "  </thead>\n",
       "  <tbody>\n",
       "    <tr>\n",
       "      <th>0</th>\n",
       "      <td>5.0</td>\n",
       "      <td>True</td>\n",
       "      <td>03 11, 2013</td>\n",
       "      <td>A3478QRKQDOPQ2</td>\n",
       "      <td>0001527665</td>\n",
       "      <td>{'Format:': ' VHS Tape'}</td>\n",
       "      <td>jacki</td>\n",
       "      <td>really happy they got evangelised .. spoiler a...</td>\n",
       "      <td>great</td>\n",
       "      <td>1362960000</td>\n",
       "      <td>NaN</td>\n",
       "      <td>NaN</td>\n",
       "    </tr>\n",
       "    <tr>\n",
       "      <th>1</th>\n",
       "      <td>5.0</td>\n",
       "      <td>True</td>\n",
       "      <td>02 18, 2013</td>\n",
       "      <td>A2VHSG6TZHU1OB</td>\n",
       "      <td>0001527665</td>\n",
       "      <td>{'Format:': ' Amazon Video'}</td>\n",
       "      <td>Ken P</td>\n",
       "      <td>Having lived in West New Guinea (Papua) during...</td>\n",
       "      <td>Realistic and Accurate</td>\n",
       "      <td>1361145600</td>\n",
       "      <td>3</td>\n",
       "      <td>NaN</td>\n",
       "    </tr>\n",
       "    <tr>\n",
       "      <th>2</th>\n",
       "      <td>5.0</td>\n",
       "      <td>False</td>\n",
       "      <td>01 17, 2013</td>\n",
       "      <td>A23EJWOW1TLENE</td>\n",
       "      <td>0001527665</td>\n",
       "      <td>{'Format:': ' Amazon Video'}</td>\n",
       "      <td>Reina Berumen</td>\n",
       "      <td>Excellent look into contextualizing the Gospel...</td>\n",
       "      <td>Peace Child</td>\n",
       "      <td>1358380800</td>\n",
       "      <td>NaN</td>\n",
       "      <td>NaN</td>\n",
       "    </tr>\n",
       "    <tr>\n",
       "      <th>3</th>\n",
       "      <td>5.0</td>\n",
       "      <td>True</td>\n",
       "      <td>01 10, 2013</td>\n",
       "      <td>A1KM9FNEJ8Q171</td>\n",
       "      <td>0001527665</td>\n",
       "      <td>{'Format:': ' Amazon Video'}</td>\n",
       "      <td>N Coyle</td>\n",
       "      <td>More than anything, I've been challenged to fi...</td>\n",
       "      <td>Culturally relevant ways to share the love of ...</td>\n",
       "      <td>1357776000</td>\n",
       "      <td>NaN</td>\n",
       "      <td>NaN</td>\n",
       "    </tr>\n",
       "    <tr>\n",
       "      <th>4</th>\n",
       "      <td>4.0</td>\n",
       "      <td>True</td>\n",
       "      <td>12 26, 2012</td>\n",
       "      <td>A38LY2SSHVHRYB</td>\n",
       "      <td>0001527665</td>\n",
       "      <td>{'Format:': ' Amazon Video'}</td>\n",
       "      <td>Jodie Vesely</td>\n",
       "      <td>This is a great movie for a missionary going i...</td>\n",
       "      <td>Good Movie! Great for cross-cultural missionar...</td>\n",
       "      <td>1356480000</td>\n",
       "      <td>NaN</td>\n",
       "      <td>NaN</td>\n",
       "    </tr>\n",
       "  </tbody>\n",
       "</table>\n",
       "</div>"
      ],
      "text/plain": [
       "   overall  verified   reviewTime      reviewerID        asin  \\\n",
       "0      5.0      True  03 11, 2013  A3478QRKQDOPQ2  0001527665   \n",
       "1      5.0      True  02 18, 2013  A2VHSG6TZHU1OB  0001527665   \n",
       "2      5.0     False  01 17, 2013  A23EJWOW1TLENE  0001527665   \n",
       "3      5.0      True  01 10, 2013  A1KM9FNEJ8Q171  0001527665   \n",
       "4      4.0      True  12 26, 2012  A38LY2SSHVHRYB  0001527665   \n",
       "\n",
       "                          style   reviewerName  \\\n",
       "0      {'Format:': ' VHS Tape'}          jacki   \n",
       "1  {'Format:': ' Amazon Video'}          Ken P   \n",
       "2  {'Format:': ' Amazon Video'}  Reina Berumen   \n",
       "3  {'Format:': ' Amazon Video'}        N Coyle   \n",
       "4  {'Format:': ' Amazon Video'}   Jodie Vesely   \n",
       "\n",
       "                                          reviewText  \\\n",
       "0  really happy they got evangelised .. spoiler a...   \n",
       "1  Having lived in West New Guinea (Papua) during...   \n",
       "2  Excellent look into contextualizing the Gospel...   \n",
       "3  More than anything, I've been challenged to fi...   \n",
       "4  This is a great movie for a missionary going i...   \n",
       "\n",
       "                                             summary  unixReviewTime vote  \\\n",
       "0                                              great      1362960000  NaN   \n",
       "1                             Realistic and Accurate      1361145600    3   \n",
       "2                                        Peace Child      1358380800  NaN   \n",
       "3  Culturally relevant ways to share the love of ...      1357776000  NaN   \n",
       "4  Good Movie! Great for cross-cultural missionar...      1356480000  NaN   \n",
       "\n",
       "  image  \n",
       "0   NaN  \n",
       "1   NaN  \n",
       "2   NaN  \n",
       "3   NaN  \n",
       "4   NaN  "
      ]
     },
     "execution_count": 5,
     "metadata": {},
     "output_type": "execute_result"
    }
   ],
   "source": [
    "review_df.head()"
   ]
  },
  {
   "cell_type": "markdown",
   "id": "ade3f4bb",
   "metadata": {},
   "source": [
    "Looking at the columns, `reviewTime` and `unixReviewTime` may display the same information, a check will be completed to verify if they display the same information. The `reviewerName` does not provide any useful information since there is a unique `reviewerID` for each reviewer. Two reviewers can have the same name but may not be the same person. Thus `reviewerName` will be dropped. The `image` column can be dropped because this project will not deal with image data. "
   ]
  },
  {
   "cell_type": "markdown",
   "id": "c0990a66",
   "metadata": {},
   "source": [
    "**Before the `reviewerName` is dropped, it will be compared with the `reviewerID` column to ensure they contain the same information**"
   ]
  },
  {
   "cell_type": "code",
   "execution_count": 6,
   "id": "1a9f8e4d",
   "metadata": {},
   "outputs": [
    {
     "data": {
      "text/plain": [
       "A16CZRQL23NOIW    978\n",
       "A2NJO6YE954DBH    920\n",
       "ANCOMAI0I7LVG     876\n",
       "A1GGOC9PVDXW7Z    745\n",
       "A3LZGLA88K0LA0    745\n",
       "                 ... \n",
       "AIBCZFUP2G8O6       1\n",
       "A3NGF63TCMLWUA      1\n",
       "ACZES1TSRGV7W       1\n",
       "A1LRRB9W9TVL5W      1\n",
       "A1KF85AQR11MDY      1\n",
       "Name: reviewerID, Length: 1184787, dtype: int64"
      ]
     },
     "execution_count": 6,
     "metadata": {},
     "output_type": "execute_result"
    }
   ],
   "source": [
    "review_df['reviewerID'].value_counts()"
   ]
  },
  {
   "cell_type": "code",
   "execution_count": 7,
   "id": "137b46e7",
   "metadata": {},
   "outputs": [
    {
     "data": {
      "text/plain": [
       "Amazon Customer        116732\n",
       "Kindle Customer          9982\n",
       "Mike                     1880\n",
       "John                     1879\n",
       "Chris                    1632\n",
       "                        ...  \n",
       "Patrick Keegan              1\n",
       "Bev Smith                   1\n",
       "Joseph L. Maple Jr.         1\n",
       "K. Malladi                  1\n",
       "Jimie Ramos                 1\n",
       "Name: reviewerName, Length: 821904, dtype: int64"
      ]
     },
     "execution_count": 7,
     "metadata": {},
     "output_type": "execute_result"
    }
   ],
   "source": [
    "review_df['reviewerName'].value_counts()"
   ]
  },
  {
   "cell_type": "markdown",
   "id": "0cc2a360",
   "metadata": {},
   "source": [
    "The `reviewerID` and `reviewerName` columns show different lengths. The `reviewerName` column contains less information than the `reviewerID` column because users can have the same names but reviewerID is unique. Thus reviewerID should be used."
   ]
  },
  {
   "cell_type": "markdown",
   "id": "942e7d6a",
   "metadata": {},
   "source": [
    "**Verify that the `unixReviewTime` is the same as the `reviewTime` column. First, the `reviewTime` will be converted to a datetime type.**"
   ]
  },
  {
   "cell_type": "code",
   "execution_count": 8,
   "id": "b9424d39",
   "metadata": {},
   "outputs": [
    {
     "data": {
      "text/plain": [
       "dtype('<M8[ns]')"
      ]
     },
     "execution_count": 8,
     "metadata": {},
     "output_type": "execute_result"
    }
   ],
   "source": [
    "# Convert reviewTime column to datetime type\n",
    "review_df['reviewTime'] = pd.to_datetime(review_df['reviewTime'])\n",
    "\n",
    "# Check results\n",
    "review_df['reviewTime'].dtype"
   ]
  },
  {
   "cell_type": "markdown",
   "id": "c17b60e9",
   "metadata": {},
   "source": [
    "Next, convert the unixReviewTime to a datetime format."
   ]
  },
  {
   "cell_type": "code",
   "execution_count": 9,
   "id": "6f0fe71e",
   "metadata": {
    "scrolled": true
   },
   "outputs": [
    {
     "data": {
      "text/plain": [
       "0         2013-03-11\n",
       "1         2013-02-18\n",
       "2         2013-01-17\n",
       "3         2013-01-10\n",
       "4         2012-12-26\n",
       "             ...    \n",
       "1999995   2015-08-31\n",
       "1999996   2015-08-31\n",
       "1999997   2015-08-30\n",
       "1999998   2015-08-29\n",
       "1999999   2015-08-29\n",
       "Name: unixReviewTime, Length: 2000000, dtype: datetime64[ns]"
      ]
     },
     "execution_count": 9,
     "metadata": {},
     "output_type": "execute_result"
    }
   ],
   "source": [
    "# Convert unixReviewTime column to datetime type\n",
    "review_df['unixReviewTime'] = pd.to_datetime(review_df['unixReviewTime'], unit = 's')\n",
    "\n",
    "# Check results\n",
    "review_df['unixReviewTime']"
   ]
  },
  {
   "cell_type": "markdown",
   "id": "58efe174",
   "metadata": {},
   "source": [
    "Check if the column values are the same."
   ]
  },
  {
   "cell_type": "code",
   "execution_count": 10,
   "id": "a5e1545a",
   "metadata": {},
   "outputs": [
    {
     "data": {
      "text/plain": [
       "2000000"
      ]
     },
     "execution_count": 10,
     "metadata": {},
     "output_type": "execute_result"
    }
   ],
   "source": [
    "(review_df['reviewTime'] == review_df['unixReviewTime']).sum()"
   ]
  },
  {
   "cell_type": "markdown",
   "id": "b8088114",
   "metadata": {},
   "source": [
    "All rows of dates are identical so one of them can be dropped. ReviewTime will be dropped."
   ]
  },
  {
   "cell_type": "markdown",
   "id": "b1e02927",
   "metadata": {},
   "source": [
    "**The unnecessary columns can be dropped from the dataframe.**"
   ]
  },
  {
   "cell_type": "code",
   "execution_count": 11,
   "id": "6e3ca678",
   "metadata": {},
   "outputs": [
    {
     "data": {
      "text/html": [
       "<div>\n",
       "<style scoped>\n",
       "    .dataframe tbody tr th:only-of-type {\n",
       "        vertical-align: middle;\n",
       "    }\n",
       "\n",
       "    .dataframe tbody tr th {\n",
       "        vertical-align: top;\n",
       "    }\n",
       "\n",
       "    .dataframe thead th {\n",
       "        text-align: right;\n",
       "    }\n",
       "</style>\n",
       "<table border=\"1\" class=\"dataframe\">\n",
       "  <thead>\n",
       "    <tr style=\"text-align: right;\">\n",
       "      <th></th>\n",
       "      <th>overall</th>\n",
       "      <th>verified</th>\n",
       "      <th>reviewerID</th>\n",
       "      <th>asin</th>\n",
       "      <th>style</th>\n",
       "      <th>reviewText</th>\n",
       "      <th>summary</th>\n",
       "      <th>unixReviewTime</th>\n",
       "      <th>vote</th>\n",
       "    </tr>\n",
       "  </thead>\n",
       "  <tbody>\n",
       "    <tr>\n",
       "      <th>0</th>\n",
       "      <td>5.0</td>\n",
       "      <td>True</td>\n",
       "      <td>A3478QRKQDOPQ2</td>\n",
       "      <td>0001527665</td>\n",
       "      <td>{'Format:': ' VHS Tape'}</td>\n",
       "      <td>really happy they got evangelised .. spoiler a...</td>\n",
       "      <td>great</td>\n",
       "      <td>2013-03-11</td>\n",
       "      <td>NaN</td>\n",
       "    </tr>\n",
       "    <tr>\n",
       "      <th>1</th>\n",
       "      <td>5.0</td>\n",
       "      <td>True</td>\n",
       "      <td>A2VHSG6TZHU1OB</td>\n",
       "      <td>0001527665</td>\n",
       "      <td>{'Format:': ' Amazon Video'}</td>\n",
       "      <td>Having lived in West New Guinea (Papua) during...</td>\n",
       "      <td>Realistic and Accurate</td>\n",
       "      <td>2013-02-18</td>\n",
       "      <td>3</td>\n",
       "    </tr>\n",
       "    <tr>\n",
       "      <th>2</th>\n",
       "      <td>5.0</td>\n",
       "      <td>False</td>\n",
       "      <td>A23EJWOW1TLENE</td>\n",
       "      <td>0001527665</td>\n",
       "      <td>{'Format:': ' Amazon Video'}</td>\n",
       "      <td>Excellent look into contextualizing the Gospel...</td>\n",
       "      <td>Peace Child</td>\n",
       "      <td>2013-01-17</td>\n",
       "      <td>NaN</td>\n",
       "    </tr>\n",
       "    <tr>\n",
       "      <th>3</th>\n",
       "      <td>5.0</td>\n",
       "      <td>True</td>\n",
       "      <td>A1KM9FNEJ8Q171</td>\n",
       "      <td>0001527665</td>\n",
       "      <td>{'Format:': ' Amazon Video'}</td>\n",
       "      <td>More than anything, I've been challenged to fi...</td>\n",
       "      <td>Culturally relevant ways to share the love of ...</td>\n",
       "      <td>2013-01-10</td>\n",
       "      <td>NaN</td>\n",
       "    </tr>\n",
       "    <tr>\n",
       "      <th>4</th>\n",
       "      <td>4.0</td>\n",
       "      <td>True</td>\n",
       "      <td>A38LY2SSHVHRYB</td>\n",
       "      <td>0001527665</td>\n",
       "      <td>{'Format:': ' Amazon Video'}</td>\n",
       "      <td>This is a great movie for a missionary going i...</td>\n",
       "      <td>Good Movie! Great for cross-cultural missionar...</td>\n",
       "      <td>2012-12-26</td>\n",
       "      <td>NaN</td>\n",
       "    </tr>\n",
       "  </tbody>\n",
       "</table>\n",
       "</div>"
      ],
      "text/plain": [
       "   overall  verified      reviewerID        asin  \\\n",
       "0      5.0      True  A3478QRKQDOPQ2  0001527665   \n",
       "1      5.0      True  A2VHSG6TZHU1OB  0001527665   \n",
       "2      5.0     False  A23EJWOW1TLENE  0001527665   \n",
       "3      5.0      True  A1KM9FNEJ8Q171  0001527665   \n",
       "4      4.0      True  A38LY2SSHVHRYB  0001527665   \n",
       "\n",
       "                          style  \\\n",
       "0      {'Format:': ' VHS Tape'}   \n",
       "1  {'Format:': ' Amazon Video'}   \n",
       "2  {'Format:': ' Amazon Video'}   \n",
       "3  {'Format:': ' Amazon Video'}   \n",
       "4  {'Format:': ' Amazon Video'}   \n",
       "\n",
       "                                          reviewText  \\\n",
       "0  really happy they got evangelised .. spoiler a...   \n",
       "1  Having lived in West New Guinea (Papua) during...   \n",
       "2  Excellent look into contextualizing the Gospel...   \n",
       "3  More than anything, I've been challenged to fi...   \n",
       "4  This is a great movie for a missionary going i...   \n",
       "\n",
       "                                             summary unixReviewTime vote  \n",
       "0                                              great     2013-03-11  NaN  \n",
       "1                             Realistic and Accurate     2013-02-18    3  \n",
       "2                                        Peace Child     2013-01-17  NaN  \n",
       "3  Culturally relevant ways to share the love of ...     2013-01-10  NaN  \n",
       "4  Good Movie! Great for cross-cultural missionar...     2012-12-26  NaN  "
      ]
     },
     "execution_count": 11,
     "metadata": {},
     "output_type": "execute_result"
    }
   ],
   "source": [
    "# Drop the unnecessary columns\n",
    "review_df.drop(columns = ['reviewTime','reviewerName','image'],inplace = True)\n",
    "\n",
    "# Check results\n",
    "review_df.head()"
   ]
  },
  {
   "cell_type": "code",
   "execution_count": 12,
   "id": "34bc338f",
   "metadata": {},
   "outputs": [
    {
     "name": "stdout",
     "output_type": "stream",
     "text": [
      "<class 'pandas.core.frame.DataFrame'>\n",
      "RangeIndex: 2000000 entries, 0 to 1999999\n",
      "Data columns (total 9 columns):\n",
      " #   Column          Dtype         \n",
      "---  ------          -----         \n",
      " 0   overall         float64       \n",
      " 1   verified        bool          \n",
      " 2   reviewerID      object        \n",
      " 3   asin            object        \n",
      " 4   style           object        \n",
      " 5   reviewText      object        \n",
      " 6   summary         object        \n",
      " 7   unixReviewTime  datetime64[ns]\n",
      " 8   vote            object        \n",
      "dtypes: bool(1), datetime64[ns](1), float64(1), object(6)\n",
      "memory usage: 124.0+ MB\n"
     ]
    }
   ],
   "source": [
    "# Check results\n",
    "review_df.info()"
   ]
  },
  {
   "cell_type": "markdown",
   "id": "bf029da2",
   "metadata": {},
   "source": [
    "## 3.2 Check column `overall` <a class ='anchor' id='3.2overall'></a>"
   ]
  },
  {
   "cell_type": "markdown",
   "id": "ad84bd5b",
   "metadata": {},
   "source": [
    "In this section, the `overall` column will be processed."
   ]
  },
  {
   "cell_type": "code",
   "execution_count": 13,
   "id": "455abb60",
   "metadata": {
    "scrolled": true
   },
   "outputs": [
    {
     "data": {
      "text/plain": [
       "5.0    1304630\n",
       "4.0     340073\n",
       "3.0     151321\n",
       "1.0     123501\n",
       "2.0      80475\n",
       "Name: overall, dtype: int64"
      ]
     },
     "execution_count": 13,
     "metadata": {},
     "output_type": "execute_result"
    }
   ],
   "source": [
    "review_df['overall'].value_counts()"
   ]
  },
  {
   "cell_type": "markdown",
   "id": "c4713786",
   "metadata": {},
   "source": [
    "It looks like the values for the overall column are contained between 1 and 5 which makes sense since the reviews are out of 5. This column represents the review score so it will be renamed for clarity."
   ]
  },
  {
   "cell_type": "code",
   "execution_count": 14,
   "id": "20f8c349",
   "metadata": {},
   "outputs": [
    {
     "data": {
      "text/html": [
       "<div>\n",
       "<style scoped>\n",
       "    .dataframe tbody tr th:only-of-type {\n",
       "        vertical-align: middle;\n",
       "    }\n",
       "\n",
       "    .dataframe tbody tr th {\n",
       "        vertical-align: top;\n",
       "    }\n",
       "\n",
       "    .dataframe thead th {\n",
       "        text-align: right;\n",
       "    }\n",
       "</style>\n",
       "<table border=\"1\" class=\"dataframe\">\n",
       "  <thead>\n",
       "    <tr style=\"text-align: right;\">\n",
       "      <th></th>\n",
       "      <th>reviewScore</th>\n",
       "      <th>verified</th>\n",
       "      <th>reviewerID</th>\n",
       "      <th>asin</th>\n",
       "      <th>style</th>\n",
       "      <th>reviewText</th>\n",
       "      <th>summary</th>\n",
       "      <th>unixReviewTime</th>\n",
       "      <th>vote</th>\n",
       "    </tr>\n",
       "  </thead>\n",
       "  <tbody>\n",
       "    <tr>\n",
       "      <th>0</th>\n",
       "      <td>5</td>\n",
       "      <td>True</td>\n",
       "      <td>A3478QRKQDOPQ2</td>\n",
       "      <td>0001527665</td>\n",
       "      <td>{'Format:': ' VHS Tape'}</td>\n",
       "      <td>really happy they got evangelised .. spoiler a...</td>\n",
       "      <td>great</td>\n",
       "      <td>2013-03-11</td>\n",
       "      <td>NaN</td>\n",
       "    </tr>\n",
       "    <tr>\n",
       "      <th>1</th>\n",
       "      <td>5</td>\n",
       "      <td>True</td>\n",
       "      <td>A2VHSG6TZHU1OB</td>\n",
       "      <td>0001527665</td>\n",
       "      <td>{'Format:': ' Amazon Video'}</td>\n",
       "      <td>Having lived in West New Guinea (Papua) during...</td>\n",
       "      <td>Realistic and Accurate</td>\n",
       "      <td>2013-02-18</td>\n",
       "      <td>3</td>\n",
       "    </tr>\n",
       "    <tr>\n",
       "      <th>2</th>\n",
       "      <td>5</td>\n",
       "      <td>False</td>\n",
       "      <td>A23EJWOW1TLENE</td>\n",
       "      <td>0001527665</td>\n",
       "      <td>{'Format:': ' Amazon Video'}</td>\n",
       "      <td>Excellent look into contextualizing the Gospel...</td>\n",
       "      <td>Peace Child</td>\n",
       "      <td>2013-01-17</td>\n",
       "      <td>NaN</td>\n",
       "    </tr>\n",
       "    <tr>\n",
       "      <th>3</th>\n",
       "      <td>5</td>\n",
       "      <td>True</td>\n",
       "      <td>A1KM9FNEJ8Q171</td>\n",
       "      <td>0001527665</td>\n",
       "      <td>{'Format:': ' Amazon Video'}</td>\n",
       "      <td>More than anything, I've been challenged to fi...</td>\n",
       "      <td>Culturally relevant ways to share the love of ...</td>\n",
       "      <td>2013-01-10</td>\n",
       "      <td>NaN</td>\n",
       "    </tr>\n",
       "    <tr>\n",
       "      <th>4</th>\n",
       "      <td>4</td>\n",
       "      <td>True</td>\n",
       "      <td>A38LY2SSHVHRYB</td>\n",
       "      <td>0001527665</td>\n",
       "      <td>{'Format:': ' Amazon Video'}</td>\n",
       "      <td>This is a great movie for a missionary going i...</td>\n",
       "      <td>Good Movie! Great for cross-cultural missionar...</td>\n",
       "      <td>2012-12-26</td>\n",
       "      <td>NaN</td>\n",
       "    </tr>\n",
       "  </tbody>\n",
       "</table>\n",
       "</div>"
      ],
      "text/plain": [
       "   reviewScore  verified      reviewerID        asin  \\\n",
       "0            5      True  A3478QRKQDOPQ2  0001527665   \n",
       "1            5      True  A2VHSG6TZHU1OB  0001527665   \n",
       "2            5     False  A23EJWOW1TLENE  0001527665   \n",
       "3            5      True  A1KM9FNEJ8Q171  0001527665   \n",
       "4            4      True  A38LY2SSHVHRYB  0001527665   \n",
       "\n",
       "                          style  \\\n",
       "0      {'Format:': ' VHS Tape'}   \n",
       "1  {'Format:': ' Amazon Video'}   \n",
       "2  {'Format:': ' Amazon Video'}   \n",
       "3  {'Format:': ' Amazon Video'}   \n",
       "4  {'Format:': ' Amazon Video'}   \n",
       "\n",
       "                                          reviewText  \\\n",
       "0  really happy they got evangelised .. spoiler a...   \n",
       "1  Having lived in West New Guinea (Papua) during...   \n",
       "2  Excellent look into contextualizing the Gospel...   \n",
       "3  More than anything, I've been challenged to fi...   \n",
       "4  This is a great movie for a missionary going i...   \n",
       "\n",
       "                                             summary unixReviewTime vote  \n",
       "0                                              great     2013-03-11  NaN  \n",
       "1                             Realistic and Accurate     2013-02-18    3  \n",
       "2                                        Peace Child     2013-01-17  NaN  \n",
       "3  Culturally relevant ways to share the love of ...     2013-01-10  NaN  \n",
       "4  Good Movie! Great for cross-cultural missionar...     2012-12-26  NaN  "
      ]
     },
     "execution_count": 14,
     "metadata": {},
     "output_type": "execute_result"
    }
   ],
   "source": [
    "# Rename column\n",
    "review_df.rename(columns={'overall':'reviewScore'}, inplace = True)\n",
    "\n",
    "# Change the column to integers since all the scores are integers\n",
    "review_df['reviewScore'] = review_df['reviewScore'].astype('int')\n",
    "\n",
    "# Check results\n",
    "review_df.head()"
   ]
  },
  {
   "cell_type": "markdown",
   "id": "42b35a52",
   "metadata": {},
   "source": [
    "Check the distribution of the review score."
   ]
  },
  {
   "cell_type": "code",
   "execution_count": 15,
   "id": "8f1417c7",
   "metadata": {},
   "outputs": [
    {
     "data": {
      "text/plain": [
       "5    65.23150\n",
       "4    17.00365\n",
       "3     7.56605\n",
       "1     6.17505\n",
       "2     4.02375\n",
       "Name: reviewScore, dtype: float64"
      ]
     },
     "execution_count": 15,
     "metadata": {},
     "output_type": "execute_result"
    }
   ],
   "source": [
    "review_df['reviewScore'].value_counts()/review_df.shape[0]*100"
   ]
  },
  {
   "cell_type": "markdown",
   "id": "0776bf30",
   "metadata": {},
   "source": [
    "The above shows the proportion that review value makes up in the dataset."
   ]
  },
  {
   "cell_type": "markdown",
   "id": "0ab8bcce",
   "metadata": {},
   "source": [
    "## 3.3 Check the column `Vote`<a class ='anchor' id='3.3vote'></a>"
   ]
  },
  {
   "cell_type": "markdown",
   "id": "b964c010",
   "metadata": {},
   "source": [
    "For the `vote` column, since the NaN values are essentially no votes which can be represented with 0, the NaN values will be replaced with a zero. There are also commas within the vote that causes problems when converted to an int so they will be removed."
   ]
  },
  {
   "cell_type": "code",
   "execution_count": 16,
   "id": "f8d14314",
   "metadata": {},
   "outputs": [
    {
     "data": {
      "text/html": [
       "<div>\n",
       "<style scoped>\n",
       "    .dataframe tbody tr th:only-of-type {\n",
       "        vertical-align: middle;\n",
       "    }\n",
       "\n",
       "    .dataframe tbody tr th {\n",
       "        vertical-align: top;\n",
       "    }\n",
       "\n",
       "    .dataframe thead th {\n",
       "        text-align: right;\n",
       "    }\n",
       "</style>\n",
       "<table border=\"1\" class=\"dataframe\">\n",
       "  <thead>\n",
       "    <tr style=\"text-align: right;\">\n",
       "      <th></th>\n",
       "      <th>reviewScore</th>\n",
       "      <th>verified</th>\n",
       "      <th>reviewerID</th>\n",
       "      <th>asin</th>\n",
       "      <th>style</th>\n",
       "      <th>reviewText</th>\n",
       "      <th>summary</th>\n",
       "      <th>unixReviewTime</th>\n",
       "      <th>vote</th>\n",
       "    </tr>\n",
       "  </thead>\n",
       "  <tbody>\n",
       "    <tr>\n",
       "      <th>0</th>\n",
       "      <td>5</td>\n",
       "      <td>True</td>\n",
       "      <td>A3478QRKQDOPQ2</td>\n",
       "      <td>0001527665</td>\n",
       "      <td>{'Format:': ' VHS Tape'}</td>\n",
       "      <td>really happy they got evangelised .. spoiler a...</td>\n",
       "      <td>great</td>\n",
       "      <td>2013-03-11</td>\n",
       "      <td>0</td>\n",
       "    </tr>\n",
       "    <tr>\n",
       "      <th>1</th>\n",
       "      <td>5</td>\n",
       "      <td>True</td>\n",
       "      <td>A2VHSG6TZHU1OB</td>\n",
       "      <td>0001527665</td>\n",
       "      <td>{'Format:': ' Amazon Video'}</td>\n",
       "      <td>Having lived in West New Guinea (Papua) during...</td>\n",
       "      <td>Realistic and Accurate</td>\n",
       "      <td>2013-02-18</td>\n",
       "      <td>3</td>\n",
       "    </tr>\n",
       "    <tr>\n",
       "      <th>2</th>\n",
       "      <td>5</td>\n",
       "      <td>False</td>\n",
       "      <td>A23EJWOW1TLENE</td>\n",
       "      <td>0001527665</td>\n",
       "      <td>{'Format:': ' Amazon Video'}</td>\n",
       "      <td>Excellent look into contextualizing the Gospel...</td>\n",
       "      <td>Peace Child</td>\n",
       "      <td>2013-01-17</td>\n",
       "      <td>0</td>\n",
       "    </tr>\n",
       "    <tr>\n",
       "      <th>3</th>\n",
       "      <td>5</td>\n",
       "      <td>True</td>\n",
       "      <td>A1KM9FNEJ8Q171</td>\n",
       "      <td>0001527665</td>\n",
       "      <td>{'Format:': ' Amazon Video'}</td>\n",
       "      <td>More than anything, I've been challenged to fi...</td>\n",
       "      <td>Culturally relevant ways to share the love of ...</td>\n",
       "      <td>2013-01-10</td>\n",
       "      <td>0</td>\n",
       "    </tr>\n",
       "    <tr>\n",
       "      <th>4</th>\n",
       "      <td>4</td>\n",
       "      <td>True</td>\n",
       "      <td>A38LY2SSHVHRYB</td>\n",
       "      <td>0001527665</td>\n",
       "      <td>{'Format:': ' Amazon Video'}</td>\n",
       "      <td>This is a great movie for a missionary going i...</td>\n",
       "      <td>Good Movie! Great for cross-cultural missionar...</td>\n",
       "      <td>2012-12-26</td>\n",
       "      <td>0</td>\n",
       "    </tr>\n",
       "  </tbody>\n",
       "</table>\n",
       "</div>"
      ],
      "text/plain": [
       "   reviewScore  verified      reviewerID        asin  \\\n",
       "0            5      True  A3478QRKQDOPQ2  0001527665   \n",
       "1            5      True  A2VHSG6TZHU1OB  0001527665   \n",
       "2            5     False  A23EJWOW1TLENE  0001527665   \n",
       "3            5      True  A1KM9FNEJ8Q171  0001527665   \n",
       "4            4      True  A38LY2SSHVHRYB  0001527665   \n",
       "\n",
       "                          style  \\\n",
       "0      {'Format:': ' VHS Tape'}   \n",
       "1  {'Format:': ' Amazon Video'}   \n",
       "2  {'Format:': ' Amazon Video'}   \n",
       "3  {'Format:': ' Amazon Video'}   \n",
       "4  {'Format:': ' Amazon Video'}   \n",
       "\n",
       "                                          reviewText  \\\n",
       "0  really happy they got evangelised .. spoiler a...   \n",
       "1  Having lived in West New Guinea (Papua) during...   \n",
       "2  Excellent look into contextualizing the Gospel...   \n",
       "3  More than anything, I've been challenged to fi...   \n",
       "4  This is a great movie for a missionary going i...   \n",
       "\n",
       "                                             summary unixReviewTime  vote  \n",
       "0                                              great     2013-03-11     0  \n",
       "1                             Realistic and Accurate     2013-02-18     3  \n",
       "2                                        Peace Child     2013-01-17     0  \n",
       "3  Culturally relevant ways to share the love of ...     2013-01-10     0  \n",
       "4  Good Movie! Great for cross-cultural missionar...     2012-12-26     0  "
      ]
     },
     "execution_count": 16,
     "metadata": {},
     "output_type": "execute_result"
    }
   ],
   "source": [
    "# Remove commas\n",
    "review_df['vote'] = review_df['vote'].str.replace(r\"\\,\",\"\",regex = True)\n",
    "\n",
    "# Fill NaNs with 0\n",
    "review_df['vote'] = review_df['vote'].fillna(0)\n",
    "\n",
    "# Change datatype to int\n",
    "review_df['vote'] = review_df['vote'].astype('int')\n",
    "\n",
    "# Check results\n",
    "review_df.head()"
   ]
  },
  {
   "cell_type": "markdown",
   "id": "545f0886",
   "metadata": {},
   "source": [
    "## 3.4 Split the reviewTime into date, month and year<a class ='anchor' id='3.4reviewTime'></a>"
   ]
  },
  {
   "cell_type": "markdown",
   "id": "49b67259",
   "metadata": {},
   "source": [
    "The date column will be split up to determine if the data shows any trends in the days, months and years that the reviews were made."
   ]
  },
  {
   "cell_type": "code",
   "execution_count": 17,
   "id": "f2a9a578",
   "metadata": {},
   "outputs": [
    {
     "data": {
      "text/html": [
       "<div>\n",
       "<style scoped>\n",
       "    .dataframe tbody tr th:only-of-type {\n",
       "        vertical-align: middle;\n",
       "    }\n",
       "\n",
       "    .dataframe tbody tr th {\n",
       "        vertical-align: top;\n",
       "    }\n",
       "\n",
       "    .dataframe thead th {\n",
       "        text-align: right;\n",
       "    }\n",
       "</style>\n",
       "<table border=\"1\" class=\"dataframe\">\n",
       "  <thead>\n",
       "    <tr style=\"text-align: right;\">\n",
       "      <th></th>\n",
       "      <th>reviewScore</th>\n",
       "      <th>verified</th>\n",
       "      <th>reviewerID</th>\n",
       "      <th>asin</th>\n",
       "      <th>style</th>\n",
       "      <th>reviewText</th>\n",
       "      <th>summary</th>\n",
       "      <th>unixReviewTime</th>\n",
       "      <th>vote</th>\n",
       "      <th>reviewDay</th>\n",
       "      <th>reviewMonth</th>\n",
       "      <th>reviewYear</th>\n",
       "    </tr>\n",
       "  </thead>\n",
       "  <tbody>\n",
       "    <tr>\n",
       "      <th>0</th>\n",
       "      <td>5</td>\n",
       "      <td>True</td>\n",
       "      <td>A3478QRKQDOPQ2</td>\n",
       "      <td>0001527665</td>\n",
       "      <td>{'Format:': ' VHS Tape'}</td>\n",
       "      <td>really happy they got evangelised .. spoiler a...</td>\n",
       "      <td>great</td>\n",
       "      <td>2013-03-11</td>\n",
       "      <td>0</td>\n",
       "      <td>11</td>\n",
       "      <td>3</td>\n",
       "      <td>2013</td>\n",
       "    </tr>\n",
       "    <tr>\n",
       "      <th>1</th>\n",
       "      <td>5</td>\n",
       "      <td>True</td>\n",
       "      <td>A2VHSG6TZHU1OB</td>\n",
       "      <td>0001527665</td>\n",
       "      <td>{'Format:': ' Amazon Video'}</td>\n",
       "      <td>Having lived in West New Guinea (Papua) during...</td>\n",
       "      <td>Realistic and Accurate</td>\n",
       "      <td>2013-02-18</td>\n",
       "      <td>3</td>\n",
       "      <td>18</td>\n",
       "      <td>2</td>\n",
       "      <td>2013</td>\n",
       "    </tr>\n",
       "    <tr>\n",
       "      <th>2</th>\n",
       "      <td>5</td>\n",
       "      <td>False</td>\n",
       "      <td>A23EJWOW1TLENE</td>\n",
       "      <td>0001527665</td>\n",
       "      <td>{'Format:': ' Amazon Video'}</td>\n",
       "      <td>Excellent look into contextualizing the Gospel...</td>\n",
       "      <td>Peace Child</td>\n",
       "      <td>2013-01-17</td>\n",
       "      <td>0</td>\n",
       "      <td>17</td>\n",
       "      <td>1</td>\n",
       "      <td>2013</td>\n",
       "    </tr>\n",
       "    <tr>\n",
       "      <th>3</th>\n",
       "      <td>5</td>\n",
       "      <td>True</td>\n",
       "      <td>A1KM9FNEJ8Q171</td>\n",
       "      <td>0001527665</td>\n",
       "      <td>{'Format:': ' Amazon Video'}</td>\n",
       "      <td>More than anything, I've been challenged to fi...</td>\n",
       "      <td>Culturally relevant ways to share the love of ...</td>\n",
       "      <td>2013-01-10</td>\n",
       "      <td>0</td>\n",
       "      <td>10</td>\n",
       "      <td>1</td>\n",
       "      <td>2013</td>\n",
       "    </tr>\n",
       "    <tr>\n",
       "      <th>4</th>\n",
       "      <td>4</td>\n",
       "      <td>True</td>\n",
       "      <td>A38LY2SSHVHRYB</td>\n",
       "      <td>0001527665</td>\n",
       "      <td>{'Format:': ' Amazon Video'}</td>\n",
       "      <td>This is a great movie for a missionary going i...</td>\n",
       "      <td>Good Movie! Great for cross-cultural missionar...</td>\n",
       "      <td>2012-12-26</td>\n",
       "      <td>0</td>\n",
       "      <td>26</td>\n",
       "      <td>12</td>\n",
       "      <td>2012</td>\n",
       "    </tr>\n",
       "  </tbody>\n",
       "</table>\n",
       "</div>"
      ],
      "text/plain": [
       "   reviewScore  verified      reviewerID        asin  \\\n",
       "0            5      True  A3478QRKQDOPQ2  0001527665   \n",
       "1            5      True  A2VHSG6TZHU1OB  0001527665   \n",
       "2            5     False  A23EJWOW1TLENE  0001527665   \n",
       "3            5      True  A1KM9FNEJ8Q171  0001527665   \n",
       "4            4      True  A38LY2SSHVHRYB  0001527665   \n",
       "\n",
       "                          style  \\\n",
       "0      {'Format:': ' VHS Tape'}   \n",
       "1  {'Format:': ' Amazon Video'}   \n",
       "2  {'Format:': ' Amazon Video'}   \n",
       "3  {'Format:': ' Amazon Video'}   \n",
       "4  {'Format:': ' Amazon Video'}   \n",
       "\n",
       "                                          reviewText  \\\n",
       "0  really happy they got evangelised .. spoiler a...   \n",
       "1  Having lived in West New Guinea (Papua) during...   \n",
       "2  Excellent look into contextualizing the Gospel...   \n",
       "3  More than anything, I've been challenged to fi...   \n",
       "4  This is a great movie for a missionary going i...   \n",
       "\n",
       "                                             summary unixReviewTime  vote  \\\n",
       "0                                              great     2013-03-11     0   \n",
       "1                             Realistic and Accurate     2013-02-18     3   \n",
       "2                                        Peace Child     2013-01-17     0   \n",
       "3  Culturally relevant ways to share the love of ...     2013-01-10     0   \n",
       "4  Good Movie! Great for cross-cultural missionar...     2012-12-26     0   \n",
       "\n",
       "   reviewDay  reviewMonth  reviewYear  \n",
       "0         11            3        2013  \n",
       "1         18            2        2013  \n",
       "2         17            1        2013  \n",
       "3         10            1        2013  \n",
       "4         26           12        2012  "
      ]
     },
     "execution_count": 17,
     "metadata": {},
     "output_type": "execute_result"
    }
   ],
   "source": [
    "# Extract the day information\n",
    "review_df['reviewDay'] = review_df['unixReviewTime'].dt.day\n",
    "\n",
    "# Extract the month information\n",
    "review_df['reviewMonth'] = review_df['unixReviewTime'].dt.month\n",
    "\n",
    "# Extract the year information\n",
    "review_df['reviewYear'] = review_df['unixReviewTime'].dt.year\n",
    "\n",
    "# Check results\n",
    "review_df.head()"
   ]
  },
  {
   "cell_type": "markdown",
   "id": "810b9b79",
   "metadata": {},
   "source": [
    "Drop the unixReviewTime column."
   ]
  },
  {
   "cell_type": "code",
   "execution_count": 18,
   "id": "fde6eec7",
   "metadata": {},
   "outputs": [
    {
     "data": {
      "text/html": [
       "<div>\n",
       "<style scoped>\n",
       "    .dataframe tbody tr th:only-of-type {\n",
       "        vertical-align: middle;\n",
       "    }\n",
       "\n",
       "    .dataframe tbody tr th {\n",
       "        vertical-align: top;\n",
       "    }\n",
       "\n",
       "    .dataframe thead th {\n",
       "        text-align: right;\n",
       "    }\n",
       "</style>\n",
       "<table border=\"1\" class=\"dataframe\">\n",
       "  <thead>\n",
       "    <tr style=\"text-align: right;\">\n",
       "      <th></th>\n",
       "      <th>reviewScore</th>\n",
       "      <th>verified</th>\n",
       "      <th>reviewerID</th>\n",
       "      <th>asin</th>\n",
       "      <th>style</th>\n",
       "      <th>reviewText</th>\n",
       "      <th>summary</th>\n",
       "      <th>vote</th>\n",
       "      <th>reviewDay</th>\n",
       "      <th>reviewMonth</th>\n",
       "      <th>reviewYear</th>\n",
       "    </tr>\n",
       "  </thead>\n",
       "  <tbody>\n",
       "    <tr>\n",
       "      <th>0</th>\n",
       "      <td>5</td>\n",
       "      <td>True</td>\n",
       "      <td>A3478QRKQDOPQ2</td>\n",
       "      <td>0001527665</td>\n",
       "      <td>{'Format:': ' VHS Tape'}</td>\n",
       "      <td>really happy they got evangelised .. spoiler a...</td>\n",
       "      <td>great</td>\n",
       "      <td>0</td>\n",
       "      <td>11</td>\n",
       "      <td>3</td>\n",
       "      <td>2013</td>\n",
       "    </tr>\n",
       "    <tr>\n",
       "      <th>1</th>\n",
       "      <td>5</td>\n",
       "      <td>True</td>\n",
       "      <td>A2VHSG6TZHU1OB</td>\n",
       "      <td>0001527665</td>\n",
       "      <td>{'Format:': ' Amazon Video'}</td>\n",
       "      <td>Having lived in West New Guinea (Papua) during...</td>\n",
       "      <td>Realistic and Accurate</td>\n",
       "      <td>3</td>\n",
       "      <td>18</td>\n",
       "      <td>2</td>\n",
       "      <td>2013</td>\n",
       "    </tr>\n",
       "    <tr>\n",
       "      <th>2</th>\n",
       "      <td>5</td>\n",
       "      <td>False</td>\n",
       "      <td>A23EJWOW1TLENE</td>\n",
       "      <td>0001527665</td>\n",
       "      <td>{'Format:': ' Amazon Video'}</td>\n",
       "      <td>Excellent look into contextualizing the Gospel...</td>\n",
       "      <td>Peace Child</td>\n",
       "      <td>0</td>\n",
       "      <td>17</td>\n",
       "      <td>1</td>\n",
       "      <td>2013</td>\n",
       "    </tr>\n",
       "    <tr>\n",
       "      <th>3</th>\n",
       "      <td>5</td>\n",
       "      <td>True</td>\n",
       "      <td>A1KM9FNEJ8Q171</td>\n",
       "      <td>0001527665</td>\n",
       "      <td>{'Format:': ' Amazon Video'}</td>\n",
       "      <td>More than anything, I've been challenged to fi...</td>\n",
       "      <td>Culturally relevant ways to share the love of ...</td>\n",
       "      <td>0</td>\n",
       "      <td>10</td>\n",
       "      <td>1</td>\n",
       "      <td>2013</td>\n",
       "    </tr>\n",
       "    <tr>\n",
       "      <th>4</th>\n",
       "      <td>4</td>\n",
       "      <td>True</td>\n",
       "      <td>A38LY2SSHVHRYB</td>\n",
       "      <td>0001527665</td>\n",
       "      <td>{'Format:': ' Amazon Video'}</td>\n",
       "      <td>This is a great movie for a missionary going i...</td>\n",
       "      <td>Good Movie! Great for cross-cultural missionar...</td>\n",
       "      <td>0</td>\n",
       "      <td>26</td>\n",
       "      <td>12</td>\n",
       "      <td>2012</td>\n",
       "    </tr>\n",
       "    <tr>\n",
       "      <th>...</th>\n",
       "      <td>...</td>\n",
       "      <td>...</td>\n",
       "      <td>...</td>\n",
       "      <td>...</td>\n",
       "      <td>...</td>\n",
       "      <td>...</td>\n",
       "      <td>...</td>\n",
       "      <td>...</td>\n",
       "      <td>...</td>\n",
       "      <td>...</td>\n",
       "      <td>...</td>\n",
       "    </tr>\n",
       "    <tr>\n",
       "      <th>1999995</th>\n",
       "      <td>5</td>\n",
       "      <td>True</td>\n",
       "      <td>A1UM0LZVGQ4RYX</td>\n",
       "      <td>B0001GF2F6</td>\n",
       "      <td>{'Format:': ' Amazon Video'}</td>\n",
       "      <td>Loved it want to see more</td>\n",
       "      <td>Five Stars</td>\n",
       "      <td>0</td>\n",
       "      <td>31</td>\n",
       "      <td>8</td>\n",
       "      <td>2015</td>\n",
       "    </tr>\n",
       "    <tr>\n",
       "      <th>1999996</th>\n",
       "      <td>5</td>\n",
       "      <td>True</td>\n",
       "      <td>A3MWE7P29CDR5L</td>\n",
       "      <td>B0001GF2F6</td>\n",
       "      <td>{'Format:': ' Amazon Video'}</td>\n",
       "      <td>Loved it wish it was more than two seasons.</td>\n",
       "      <td>Five Stars</td>\n",
       "      <td>0</td>\n",
       "      <td>31</td>\n",
       "      <td>8</td>\n",
       "      <td>2015</td>\n",
       "    </tr>\n",
       "    <tr>\n",
       "      <th>1999997</th>\n",
       "      <td>5</td>\n",
       "      <td>True</td>\n",
       "      <td>A3J6N3SOCENIPB</td>\n",
       "      <td>B0001GF2F6</td>\n",
       "      <td>{'Format:': ' Amazon Video'}</td>\n",
       "      <td>Such a witty show with good acting. This show ...</td>\n",
       "      <td>Dark humor with lessons about life.</td>\n",
       "      <td>0</td>\n",
       "      <td>30</td>\n",
       "      <td>8</td>\n",
       "      <td>2015</td>\n",
       "    </tr>\n",
       "    <tr>\n",
       "      <th>1999998</th>\n",
       "      <td>4</td>\n",
       "      <td>True</td>\n",
       "      <td>A5O06SYSW6V93</td>\n",
       "      <td>B0001GF2F6</td>\n",
       "      <td>{'Format:': ' Amazon Video'}</td>\n",
       "      <td>It's a weird (comical) look at Grim Reapers.</td>\n",
       "      <td>Four Stars</td>\n",
       "      <td>0</td>\n",
       "      <td>29</td>\n",
       "      <td>8</td>\n",
       "      <td>2015</td>\n",
       "    </tr>\n",
       "    <tr>\n",
       "      <th>1999999</th>\n",
       "      <td>4</td>\n",
       "      <td>True</td>\n",
       "      <td>A1KF85AQR11MDY</td>\n",
       "      <td>B0001GF2F6</td>\n",
       "      <td>{'Format:': ' Amazon Video'}</td>\n",
       "      <td>I don't get it. Are they all dead?</td>\n",
       "      <td>Four Stars</td>\n",
       "      <td>0</td>\n",
       "      <td>29</td>\n",
       "      <td>8</td>\n",
       "      <td>2015</td>\n",
       "    </tr>\n",
       "  </tbody>\n",
       "</table>\n",
       "<p>2000000 rows × 11 columns</p>\n",
       "</div>"
      ],
      "text/plain": [
       "         reviewScore  verified      reviewerID        asin  \\\n",
       "0                  5      True  A3478QRKQDOPQ2  0001527665   \n",
       "1                  5      True  A2VHSG6TZHU1OB  0001527665   \n",
       "2                  5     False  A23EJWOW1TLENE  0001527665   \n",
       "3                  5      True  A1KM9FNEJ8Q171  0001527665   \n",
       "4                  4      True  A38LY2SSHVHRYB  0001527665   \n",
       "...              ...       ...             ...         ...   \n",
       "1999995            5      True  A1UM0LZVGQ4RYX  B0001GF2F6   \n",
       "1999996            5      True  A3MWE7P29CDR5L  B0001GF2F6   \n",
       "1999997            5      True  A3J6N3SOCENIPB  B0001GF2F6   \n",
       "1999998            4      True   A5O06SYSW6V93  B0001GF2F6   \n",
       "1999999            4      True  A1KF85AQR11MDY  B0001GF2F6   \n",
       "\n",
       "                                style  \\\n",
       "0            {'Format:': ' VHS Tape'}   \n",
       "1        {'Format:': ' Amazon Video'}   \n",
       "2        {'Format:': ' Amazon Video'}   \n",
       "3        {'Format:': ' Amazon Video'}   \n",
       "4        {'Format:': ' Amazon Video'}   \n",
       "...                               ...   \n",
       "1999995  {'Format:': ' Amazon Video'}   \n",
       "1999996  {'Format:': ' Amazon Video'}   \n",
       "1999997  {'Format:': ' Amazon Video'}   \n",
       "1999998  {'Format:': ' Amazon Video'}   \n",
       "1999999  {'Format:': ' Amazon Video'}   \n",
       "\n",
       "                                                reviewText  \\\n",
       "0        really happy they got evangelised .. spoiler a...   \n",
       "1        Having lived in West New Guinea (Papua) during...   \n",
       "2        Excellent look into contextualizing the Gospel...   \n",
       "3        More than anything, I've been challenged to fi...   \n",
       "4        This is a great movie for a missionary going i...   \n",
       "...                                                    ...   \n",
       "1999995                          Loved it want to see more   \n",
       "1999996        Loved it wish it was more than two seasons.   \n",
       "1999997  Such a witty show with good acting. This show ...   \n",
       "1999998       It's a weird (comical) look at Grim Reapers.   \n",
       "1999999                 I don't get it. Are they all dead?   \n",
       "\n",
       "                                                   summary  vote  reviewDay  \\\n",
       "0                                                    great     0         11   \n",
       "1                                   Realistic and Accurate     3         18   \n",
       "2                                              Peace Child     0         17   \n",
       "3        Culturally relevant ways to share the love of ...     0         10   \n",
       "4        Good Movie! Great for cross-cultural missionar...     0         26   \n",
       "...                                                    ...   ...        ...   \n",
       "1999995                                         Five Stars     0         31   \n",
       "1999996                                         Five Stars     0         31   \n",
       "1999997                Dark humor with lessons about life.     0         30   \n",
       "1999998                                         Four Stars     0         29   \n",
       "1999999                                         Four Stars     0         29   \n",
       "\n",
       "         reviewMonth  reviewYear  \n",
       "0                  3        2013  \n",
       "1                  2        2013  \n",
       "2                  1        2013  \n",
       "3                  1        2013  \n",
       "4                 12        2012  \n",
       "...              ...         ...  \n",
       "1999995            8        2015  \n",
       "1999996            8        2015  \n",
       "1999997            8        2015  \n",
       "1999998            8        2015  \n",
       "1999999            8        2015  \n",
       "\n",
       "[2000000 rows x 11 columns]"
      ]
     },
     "execution_count": 18,
     "metadata": {},
     "output_type": "execute_result"
    }
   ],
   "source": [
    "review_df.drop(columns ='unixReviewTime', inplace = True)\n",
    "\n",
    "# Check results\n",
    "review_df"
   ]
  },
  {
   "cell_type": "markdown",
   "id": "6d4a434a",
   "metadata": {},
   "source": [
    "## 3.5 Check the column `style`<a class ='anchor' id='3.5style'></a>"
   ]
  },
  {
   "cell_type": "markdown",
   "id": "8f5dd8d3",
   "metadata": {},
   "source": [
    "The NaN values in the column `style` will be filled with 'other' since the values are unknown.\n",
    "The column style will be converted to strings so that a duplicate check can be performed for the dataset. (Converting to str, then removing the key for the dictionary is more computationally effective for getting the value in the key-value pair than looping through every individual key and accessing the value. *Note: the latter was tried and took 10 mins for 1 million key-value pairs. The former took <5s.)"
   ]
  },
  {
   "cell_type": "code",
   "execution_count": 19,
   "id": "562dab96",
   "metadata": {},
   "outputs": [],
   "source": [
    "review_df['style'] = review_df['style'].fillna('Unknown')"
   ]
  },
  {
   "cell_type": "code",
   "execution_count": 20,
   "id": "3428c925",
   "metadata": {},
   "outputs": [],
   "source": [
    "# Change values in the style column from dict to str\n",
    "review_df['style'] = review_df['style'].astype('str')"
   ]
  },
  {
   "cell_type": "code",
   "execution_count": 21,
   "id": "244f1c4a",
   "metadata": {},
   "outputs": [
    {
     "data": {
      "text/plain": [
       "0              VHS Tape\n",
       "1          Amazon Video\n",
       "2          Amazon Video\n",
       "3          Amazon Video\n",
       "4          Amazon Video\n",
       "               ...     \n",
       "1999995    Amazon Video\n",
       "1999996    Amazon Video\n",
       "1999997    Amazon Video\n",
       "1999998    Amazon Video\n",
       "1999999    Amazon Video\n",
       "Name: style, Length: 2000000, dtype: object"
      ]
     },
     "execution_count": 21,
     "metadata": {},
     "output_type": "execute_result"
    }
   ],
   "source": [
    "# Remove the keys in the key-value pair\n",
    "review_df['style'] = review_df['style'].str.replace(r\"{'Format:': ' \",\"\",regex = True)\n",
    "review_df['style'] = review_df['style'].str.replace(r\"'}\",\"\",regex = True)\n",
    "\n",
    "# Check results\n",
    "review_df['style']"
   ]
  },
  {
   "cell_type": "markdown",
   "id": "f6783738",
   "metadata": {},
   "source": [
    "The style column now contains the relevant data."
   ]
  },
  {
   "cell_type": "markdown",
   "id": "9fe41e94",
   "metadata": {},
   "source": [
    "Check which styles should be kept by checking the frequency of the different style entries"
   ]
  },
  {
   "cell_type": "code",
   "execution_count": 22,
   "id": "7f332737",
   "metadata": {
    "scrolled": true
   },
   "outputs": [
    {
     "data": {
      "text/plain": [
       "DVD                                953773\n",
       "Amazon Video                       679407\n",
       "Unknown                            130942\n",
       "Blu-ray                            117169\n",
       "VHS Tape                           111249\n",
       "HD DVD                               1541\n",
       "Theatrical Release                   1263\n",
       "Audio CD                             1098\n",
       "DVD-ROM                              1038\n",
       "DVD-R                                 610\n",
       "UMD for PSP                           491\n",
       "Paperback                             266\n",
       "Staple Bound                          188\n",
       "Kindle Edition                        187\n",
       "Hardcover                             152\n",
       "Amazon Instant Video                  140\n",
       "Kindle Edition with Audio/Video       108\n",
       "Laser Disc                            105\n",
       "MP3 Music                              65\n",
       "Toy                                    45\n",
       "CD-ROM                                 42\n",
       "Video Game                             27\n",
       "Unknown Binding                        26\n",
       "Videotape                              16\n",
       "Audio Cassette                         16\n",
       "Vinyl                                   9\n",
       "Video CD                                8\n",
       "DVD Audio                               4\n",
       "Interactive DVD                         4\n",
       "Electronics                             2\n",
       "Misc. Supplies                          2\n",
       "MiniDisc                                2\n",
       "Plastic Comb                            1\n",
       "Unbound                                 1\n",
       "S-VHS                                   1\n",
       "MP3 CD                                  1\n",
       "Kitchen                                 1\n",
       "Name: style, dtype: int64"
      ]
     },
     "execution_count": 22,
     "metadata": {},
     "output_type": "execute_result"
    }
   ],
   "source": [
    "review_df['style'].value_counts()"
   ]
  },
  {
   "cell_type": "markdown",
   "id": "5d1187a4",
   "metadata": {},
   "source": [
    "It looks like the top 5 styles represent the majority of the data."
   ]
  },
  {
   "cell_type": "code",
   "execution_count": 23,
   "id": "dd25d446",
   "metadata": {},
   "outputs": [
    {
     "data": {
      "text/plain": [
       "0.99627"
      ]
     },
     "execution_count": 23,
     "metadata": {},
     "output_type": "execute_result"
    }
   ],
   "source": [
    "# Check the percentage the top 5 styles represent\n",
    "review_df['style'].value_counts().head(5).sum()/review_df.shape[0]"
   ]
  },
  {
   "cell_type": "markdown",
   "id": "1850de18",
   "metadata": {},
   "source": [
    "The top 5 styles represent 99.6% of the data so group everything else to \"other\" and transform this column into one hot encoded variables."
   ]
  },
  {
   "cell_type": "code",
   "execution_count": 24,
   "id": "fa5d30c8",
   "metadata": {},
   "outputs": [],
   "source": [
    "styles_keep = review_df['style'].value_counts().index[:5]"
   ]
  },
  {
   "cell_type": "markdown",
   "id": "9c7e1a4c",
   "metadata": {},
   "source": [
    "Replace all the other styles with \"Other\""
   ]
  },
  {
   "cell_type": "code",
   "execution_count": 25,
   "id": "2da667d0",
   "metadata": {},
   "outputs": [
    {
     "data": {
      "text/plain": [
       "DVD             953773\n",
       "Amazon Video    679407\n",
       "Unknown         130942\n",
       "Blu-ray         117169\n",
       "VHS Tape        111249\n",
       "Other             7460\n",
       "Name: style, dtype: int64"
      ]
     },
     "execution_count": 25,
     "metadata": {},
     "output_type": "execute_result"
    }
   ],
   "source": [
    "# If the style is in the top 5 styles, keep it, else change it to Other\n",
    "review_df['style'] = np.where(review_df['style'].isin(styles_keep), \n",
    "                              review_df['style'], \n",
    "                              \"Other\")\n",
    "# Check results\n",
    "review_df['style'].value_counts()"
   ]
  },
  {
   "cell_type": "markdown",
   "id": "42885c5a",
   "metadata": {},
   "source": [
    "The transformation was successful and now there are only 6 style options. The next step is to dummy encode this column and drop the `unknown` column because that column contained NaN values to start with. One column has to be dropped to ensure that there is no multicollinearity when we use the dummy style columns in the models in the future."
   ]
  },
  {
   "cell_type": "code",
   "execution_count": 26,
   "id": "5848f242",
   "metadata": {},
   "outputs": [
    {
     "data": {
      "text/html": [
       "<div>\n",
       "<style scoped>\n",
       "    .dataframe tbody tr th:only-of-type {\n",
       "        vertical-align: middle;\n",
       "    }\n",
       "\n",
       "    .dataframe tbody tr th {\n",
       "        vertical-align: top;\n",
       "    }\n",
       "\n",
       "    .dataframe thead th {\n",
       "        text-align: right;\n",
       "    }\n",
       "</style>\n",
       "<table border=\"1\" class=\"dataframe\">\n",
       "  <thead>\n",
       "    <tr style=\"text-align: right;\">\n",
       "      <th></th>\n",
       "      <th>style_Amazon Video</th>\n",
       "      <th>style_Blu-ray</th>\n",
       "      <th>style_DVD</th>\n",
       "      <th>style_Other</th>\n",
       "      <th>style_VHS Tape</th>\n",
       "    </tr>\n",
       "  </thead>\n",
       "  <tbody>\n",
       "    <tr>\n",
       "      <th>0</th>\n",
       "      <td>0</td>\n",
       "      <td>0</td>\n",
       "      <td>0</td>\n",
       "      <td>0</td>\n",
       "      <td>1</td>\n",
       "    </tr>\n",
       "    <tr>\n",
       "      <th>1</th>\n",
       "      <td>1</td>\n",
       "      <td>0</td>\n",
       "      <td>0</td>\n",
       "      <td>0</td>\n",
       "      <td>0</td>\n",
       "    </tr>\n",
       "    <tr>\n",
       "      <th>2</th>\n",
       "      <td>1</td>\n",
       "      <td>0</td>\n",
       "      <td>0</td>\n",
       "      <td>0</td>\n",
       "      <td>0</td>\n",
       "    </tr>\n",
       "    <tr>\n",
       "      <th>3</th>\n",
       "      <td>1</td>\n",
       "      <td>0</td>\n",
       "      <td>0</td>\n",
       "      <td>0</td>\n",
       "      <td>0</td>\n",
       "    </tr>\n",
       "    <tr>\n",
       "      <th>4</th>\n",
       "      <td>1</td>\n",
       "      <td>0</td>\n",
       "      <td>0</td>\n",
       "      <td>0</td>\n",
       "      <td>0</td>\n",
       "    </tr>\n",
       "  </tbody>\n",
       "</table>\n",
       "</div>"
      ],
      "text/plain": [
       "   style_Amazon Video  style_Blu-ray  style_DVD  style_Other  style_VHS Tape\n",
       "0                   0              0          0            0               1\n",
       "1                   1              0          0            0               0\n",
       "2                   1              0          0            0               0\n",
       "3                   1              0          0            0               0\n",
       "4                   1              0          0            0               0"
      ]
     },
     "execution_count": 26,
     "metadata": {},
     "output_type": "execute_result"
    }
   ],
   "source": [
    "# Use get_dummies function, drop the 'unknown' column and \n",
    "# add the prefix 'style_' to know which column these dummy variables came from\n",
    "style_dummies = pd.get_dummies(review_df['style']).drop(columns = 'Unknown').add_prefix('style_')\n",
    "\n",
    "# Check results\n",
    "style_dummies.head()"
   ]
  },
  {
   "cell_type": "markdown",
   "id": "0e684ce6",
   "metadata": {},
   "source": [
    "The style column was successfully encoded into dummy variables so now combine it with the original dataframe."
   ]
  },
  {
   "cell_type": "code",
   "execution_count": 27,
   "id": "2630e550",
   "metadata": {},
   "outputs": [
    {
     "data": {
      "text/html": [
       "<div>\n",
       "<style scoped>\n",
       "    .dataframe tbody tr th:only-of-type {\n",
       "        vertical-align: middle;\n",
       "    }\n",
       "\n",
       "    .dataframe tbody tr th {\n",
       "        vertical-align: top;\n",
       "    }\n",
       "\n",
       "    .dataframe thead th {\n",
       "        text-align: right;\n",
       "    }\n",
       "</style>\n",
       "<table border=\"1\" class=\"dataframe\">\n",
       "  <thead>\n",
       "    <tr style=\"text-align: right;\">\n",
       "      <th></th>\n",
       "      <th>reviewScore</th>\n",
       "      <th>verified</th>\n",
       "      <th>reviewerID</th>\n",
       "      <th>asin</th>\n",
       "      <th>style</th>\n",
       "      <th>reviewText</th>\n",
       "      <th>summary</th>\n",
       "      <th>vote</th>\n",
       "      <th>reviewDay</th>\n",
       "      <th>reviewMonth</th>\n",
       "      <th>reviewYear</th>\n",
       "      <th>style_Amazon Video</th>\n",
       "      <th>style_Blu-ray</th>\n",
       "      <th>style_DVD</th>\n",
       "      <th>style_Other</th>\n",
       "      <th>style_VHS Tape</th>\n",
       "    </tr>\n",
       "  </thead>\n",
       "  <tbody>\n",
       "    <tr>\n",
       "      <th>0</th>\n",
       "      <td>5</td>\n",
       "      <td>True</td>\n",
       "      <td>A3478QRKQDOPQ2</td>\n",
       "      <td>0001527665</td>\n",
       "      <td>VHS Tape</td>\n",
       "      <td>really happy they got evangelised .. spoiler a...</td>\n",
       "      <td>great</td>\n",
       "      <td>0</td>\n",
       "      <td>11</td>\n",
       "      <td>3</td>\n",
       "      <td>2013</td>\n",
       "      <td>0</td>\n",
       "      <td>0</td>\n",
       "      <td>0</td>\n",
       "      <td>0</td>\n",
       "      <td>1</td>\n",
       "    </tr>\n",
       "    <tr>\n",
       "      <th>1</th>\n",
       "      <td>5</td>\n",
       "      <td>True</td>\n",
       "      <td>A2VHSG6TZHU1OB</td>\n",
       "      <td>0001527665</td>\n",
       "      <td>Amazon Video</td>\n",
       "      <td>Having lived in West New Guinea (Papua) during...</td>\n",
       "      <td>Realistic and Accurate</td>\n",
       "      <td>3</td>\n",
       "      <td>18</td>\n",
       "      <td>2</td>\n",
       "      <td>2013</td>\n",
       "      <td>1</td>\n",
       "      <td>0</td>\n",
       "      <td>0</td>\n",
       "      <td>0</td>\n",
       "      <td>0</td>\n",
       "    </tr>\n",
       "    <tr>\n",
       "      <th>2</th>\n",
       "      <td>5</td>\n",
       "      <td>False</td>\n",
       "      <td>A23EJWOW1TLENE</td>\n",
       "      <td>0001527665</td>\n",
       "      <td>Amazon Video</td>\n",
       "      <td>Excellent look into contextualizing the Gospel...</td>\n",
       "      <td>Peace Child</td>\n",
       "      <td>0</td>\n",
       "      <td>17</td>\n",
       "      <td>1</td>\n",
       "      <td>2013</td>\n",
       "      <td>1</td>\n",
       "      <td>0</td>\n",
       "      <td>0</td>\n",
       "      <td>0</td>\n",
       "      <td>0</td>\n",
       "    </tr>\n",
       "    <tr>\n",
       "      <th>3</th>\n",
       "      <td>5</td>\n",
       "      <td>True</td>\n",
       "      <td>A1KM9FNEJ8Q171</td>\n",
       "      <td>0001527665</td>\n",
       "      <td>Amazon Video</td>\n",
       "      <td>More than anything, I've been challenged to fi...</td>\n",
       "      <td>Culturally relevant ways to share the love of ...</td>\n",
       "      <td>0</td>\n",
       "      <td>10</td>\n",
       "      <td>1</td>\n",
       "      <td>2013</td>\n",
       "      <td>1</td>\n",
       "      <td>0</td>\n",
       "      <td>0</td>\n",
       "      <td>0</td>\n",
       "      <td>0</td>\n",
       "    </tr>\n",
       "    <tr>\n",
       "      <th>4</th>\n",
       "      <td>4</td>\n",
       "      <td>True</td>\n",
       "      <td>A38LY2SSHVHRYB</td>\n",
       "      <td>0001527665</td>\n",
       "      <td>Amazon Video</td>\n",
       "      <td>This is a great movie for a missionary going i...</td>\n",
       "      <td>Good Movie! Great for cross-cultural missionar...</td>\n",
       "      <td>0</td>\n",
       "      <td>26</td>\n",
       "      <td>12</td>\n",
       "      <td>2012</td>\n",
       "      <td>1</td>\n",
       "      <td>0</td>\n",
       "      <td>0</td>\n",
       "      <td>0</td>\n",
       "      <td>0</td>\n",
       "    </tr>\n",
       "  </tbody>\n",
       "</table>\n",
       "</div>"
      ],
      "text/plain": [
       "   reviewScore  verified      reviewerID        asin         style  \\\n",
       "0            5      True  A3478QRKQDOPQ2  0001527665      VHS Tape   \n",
       "1            5      True  A2VHSG6TZHU1OB  0001527665  Amazon Video   \n",
       "2            5     False  A23EJWOW1TLENE  0001527665  Amazon Video   \n",
       "3            5      True  A1KM9FNEJ8Q171  0001527665  Amazon Video   \n",
       "4            4      True  A38LY2SSHVHRYB  0001527665  Amazon Video   \n",
       "\n",
       "                                          reviewText  \\\n",
       "0  really happy they got evangelised .. spoiler a...   \n",
       "1  Having lived in West New Guinea (Papua) during...   \n",
       "2  Excellent look into contextualizing the Gospel...   \n",
       "3  More than anything, I've been challenged to fi...   \n",
       "4  This is a great movie for a missionary going i...   \n",
       "\n",
       "                                             summary  vote  reviewDay  \\\n",
       "0                                              great     0         11   \n",
       "1                             Realistic and Accurate     3         18   \n",
       "2                                        Peace Child     0         17   \n",
       "3  Culturally relevant ways to share the love of ...     0         10   \n",
       "4  Good Movie! Great for cross-cultural missionar...     0         26   \n",
       "\n",
       "   reviewMonth  reviewYear  style_Amazon Video  style_Blu-ray  style_DVD  \\\n",
       "0            3        2013                   0              0          0   \n",
       "1            2        2013                   1              0          0   \n",
       "2            1        2013                   1              0          0   \n",
       "3            1        2013                   1              0          0   \n",
       "4           12        2012                   1              0          0   \n",
       "\n",
       "   style_Other  style_VHS Tape  \n",
       "0            0               1  \n",
       "1            0               0  \n",
       "2            0               0  \n",
       "3            0               0  \n",
       "4            0               0  "
      ]
     },
     "execution_count": 27,
     "metadata": {},
     "output_type": "execute_result"
    }
   ],
   "source": [
    "# Combine the style columns with the original dataframe\n",
    "review_df = pd.concat([review_df,style_dummies], axis = 1)\n",
    "\n",
    "# Check results.\n",
    "review_df.head()"
   ]
  },
  {
   "cell_type": "markdown",
   "id": "60d28b15",
   "metadata": {},
   "source": [
    "The `style` column can now be dropped since it has been dummy encoded."
   ]
  },
  {
   "cell_type": "code",
   "execution_count": 28,
   "id": "d660edc6",
   "metadata": {},
   "outputs": [
    {
     "data": {
      "text/html": [
       "<div>\n",
       "<style scoped>\n",
       "    .dataframe tbody tr th:only-of-type {\n",
       "        vertical-align: middle;\n",
       "    }\n",
       "\n",
       "    .dataframe tbody tr th {\n",
       "        vertical-align: top;\n",
       "    }\n",
       "\n",
       "    .dataframe thead th {\n",
       "        text-align: right;\n",
       "    }\n",
       "</style>\n",
       "<table border=\"1\" class=\"dataframe\">\n",
       "  <thead>\n",
       "    <tr style=\"text-align: right;\">\n",
       "      <th></th>\n",
       "      <th>reviewScore</th>\n",
       "      <th>verified</th>\n",
       "      <th>reviewerID</th>\n",
       "      <th>asin</th>\n",
       "      <th>reviewText</th>\n",
       "      <th>summary</th>\n",
       "      <th>vote</th>\n",
       "      <th>reviewDay</th>\n",
       "      <th>reviewMonth</th>\n",
       "      <th>reviewYear</th>\n",
       "      <th>style_Amazon Video</th>\n",
       "      <th>style_Blu-ray</th>\n",
       "      <th>style_DVD</th>\n",
       "      <th>style_Other</th>\n",
       "      <th>style_VHS Tape</th>\n",
       "    </tr>\n",
       "  </thead>\n",
       "  <tbody>\n",
       "    <tr>\n",
       "      <th>0</th>\n",
       "      <td>5</td>\n",
       "      <td>True</td>\n",
       "      <td>A3478QRKQDOPQ2</td>\n",
       "      <td>0001527665</td>\n",
       "      <td>really happy they got evangelised .. spoiler a...</td>\n",
       "      <td>great</td>\n",
       "      <td>0</td>\n",
       "      <td>11</td>\n",
       "      <td>3</td>\n",
       "      <td>2013</td>\n",
       "      <td>0</td>\n",
       "      <td>0</td>\n",
       "      <td>0</td>\n",
       "      <td>0</td>\n",
       "      <td>1</td>\n",
       "    </tr>\n",
       "    <tr>\n",
       "      <th>1</th>\n",
       "      <td>5</td>\n",
       "      <td>True</td>\n",
       "      <td>A2VHSG6TZHU1OB</td>\n",
       "      <td>0001527665</td>\n",
       "      <td>Having lived in West New Guinea (Papua) during...</td>\n",
       "      <td>Realistic and Accurate</td>\n",
       "      <td>3</td>\n",
       "      <td>18</td>\n",
       "      <td>2</td>\n",
       "      <td>2013</td>\n",
       "      <td>1</td>\n",
       "      <td>0</td>\n",
       "      <td>0</td>\n",
       "      <td>0</td>\n",
       "      <td>0</td>\n",
       "    </tr>\n",
       "    <tr>\n",
       "      <th>2</th>\n",
       "      <td>5</td>\n",
       "      <td>False</td>\n",
       "      <td>A23EJWOW1TLENE</td>\n",
       "      <td>0001527665</td>\n",
       "      <td>Excellent look into contextualizing the Gospel...</td>\n",
       "      <td>Peace Child</td>\n",
       "      <td>0</td>\n",
       "      <td>17</td>\n",
       "      <td>1</td>\n",
       "      <td>2013</td>\n",
       "      <td>1</td>\n",
       "      <td>0</td>\n",
       "      <td>0</td>\n",
       "      <td>0</td>\n",
       "      <td>0</td>\n",
       "    </tr>\n",
       "    <tr>\n",
       "      <th>3</th>\n",
       "      <td>5</td>\n",
       "      <td>True</td>\n",
       "      <td>A1KM9FNEJ8Q171</td>\n",
       "      <td>0001527665</td>\n",
       "      <td>More than anything, I've been challenged to fi...</td>\n",
       "      <td>Culturally relevant ways to share the love of ...</td>\n",
       "      <td>0</td>\n",
       "      <td>10</td>\n",
       "      <td>1</td>\n",
       "      <td>2013</td>\n",
       "      <td>1</td>\n",
       "      <td>0</td>\n",
       "      <td>0</td>\n",
       "      <td>0</td>\n",
       "      <td>0</td>\n",
       "    </tr>\n",
       "    <tr>\n",
       "      <th>4</th>\n",
       "      <td>4</td>\n",
       "      <td>True</td>\n",
       "      <td>A38LY2SSHVHRYB</td>\n",
       "      <td>0001527665</td>\n",
       "      <td>This is a great movie for a missionary going i...</td>\n",
       "      <td>Good Movie! Great for cross-cultural missionar...</td>\n",
       "      <td>0</td>\n",
       "      <td>26</td>\n",
       "      <td>12</td>\n",
       "      <td>2012</td>\n",
       "      <td>1</td>\n",
       "      <td>0</td>\n",
       "      <td>0</td>\n",
       "      <td>0</td>\n",
       "      <td>0</td>\n",
       "    </tr>\n",
       "  </tbody>\n",
       "</table>\n",
       "</div>"
      ],
      "text/plain": [
       "   reviewScore  verified      reviewerID        asin  \\\n",
       "0            5      True  A3478QRKQDOPQ2  0001527665   \n",
       "1            5      True  A2VHSG6TZHU1OB  0001527665   \n",
       "2            5     False  A23EJWOW1TLENE  0001527665   \n",
       "3            5      True  A1KM9FNEJ8Q171  0001527665   \n",
       "4            4      True  A38LY2SSHVHRYB  0001527665   \n",
       "\n",
       "                                          reviewText  \\\n",
       "0  really happy they got evangelised .. spoiler a...   \n",
       "1  Having lived in West New Guinea (Papua) during...   \n",
       "2  Excellent look into contextualizing the Gospel...   \n",
       "3  More than anything, I've been challenged to fi...   \n",
       "4  This is a great movie for a missionary going i...   \n",
       "\n",
       "                                             summary  vote  reviewDay  \\\n",
       "0                                              great     0         11   \n",
       "1                             Realistic and Accurate     3         18   \n",
       "2                                        Peace Child     0         17   \n",
       "3  Culturally relevant ways to share the love of ...     0         10   \n",
       "4  Good Movie! Great for cross-cultural missionar...     0         26   \n",
       "\n",
       "   reviewMonth  reviewYear  style_Amazon Video  style_Blu-ray  style_DVD  \\\n",
       "0            3        2013                   0              0          0   \n",
       "1            2        2013                   1              0          0   \n",
       "2            1        2013                   1              0          0   \n",
       "3            1        2013                   1              0          0   \n",
       "4           12        2012                   1              0          0   \n",
       "\n",
       "   style_Other  style_VHS Tape  \n",
       "0            0               1  \n",
       "1            0               0  \n",
       "2            0               0  \n",
       "3            0               0  \n",
       "4            0               0  "
      ]
     },
     "execution_count": 28,
     "metadata": {},
     "output_type": "execute_result"
    }
   ],
   "source": [
    "# Drop the original style column\n",
    "review_df.drop(columns='style', inplace = True)\n",
    "\n",
    "# Check results\n",
    "review_df.head()"
   ]
  },
  {
   "cell_type": "markdown",
   "id": "5d1663a1",
   "metadata": {},
   "source": [
    "## 3.6 Preprocess `verified` column<a class ='anchor' id='3.6verified'></a>"
   ]
  },
  {
   "cell_type": "markdown",
   "id": "176fdee7",
   "metadata": {},
   "source": [
    "In this section, the verified column will be processed."
   ]
  },
  {
   "cell_type": "code",
   "execution_count": 29,
   "id": "5a332a48",
   "metadata": {},
   "outputs": [
    {
     "data": {
      "text/plain": [
       "True     1313327\n",
       "False     686673\n",
       "Name: verified, dtype: int64"
      ]
     },
     "execution_count": 29,
     "metadata": {},
     "output_type": "execute_result"
    }
   ],
   "source": [
    "# Check the values in this column\n",
    "review_df['verified'].value_counts()"
   ]
  },
  {
   "cell_type": "markdown",
   "id": "87475181",
   "metadata": {},
   "source": [
    "Since the verified column contains only true and false, the datatype can be changed to int8 to reduce memory usage."
   ]
  },
  {
   "cell_type": "code",
   "execution_count": 30,
   "id": "c399f87a",
   "metadata": {},
   "outputs": [],
   "source": [
    "# Map Trues to 1 and false to 0\n",
    "review_df['verified'] = review_df['verified'].astype('int8')"
   ]
  },
  {
   "cell_type": "code",
   "execution_count": 31,
   "id": "c329f958",
   "metadata": {},
   "outputs": [
    {
     "name": "stdout",
     "output_type": "stream",
     "text": [
      "<class 'pandas.core.frame.DataFrame'>\n",
      "RangeIndex: 2000000 entries, 0 to 1999999\n",
      "Data columns (total 15 columns):\n",
      " #   Column              Dtype \n",
      "---  ------              ----- \n",
      " 0   reviewScore         int32 \n",
      " 1   verified            int8  \n",
      " 2   reviewerID          object\n",
      " 3   asin                object\n",
      " 4   reviewText          object\n",
      " 5   summary             object\n",
      " 6   vote                int32 \n",
      " 7   reviewDay           int64 \n",
      " 8   reviewMonth         int64 \n",
      " 9   reviewYear          int64 \n",
      " 10  style_Amazon Video  uint8 \n",
      " 11  style_Blu-ray       uint8 \n",
      " 12  style_DVD           uint8 \n",
      " 13  style_Other         uint8 \n",
      " 14  style_VHS Tape      uint8 \n",
      "dtypes: int32(2), int64(3), int8(1), object(4), uint8(5)\n",
      "memory usage: 133.5+ MB\n"
     ]
    }
   ],
   "source": [
    "review_df.info()"
   ]
  },
  {
   "cell_type": "markdown",
   "id": "107d22a0",
   "metadata": {},
   "source": [
    "## 3.7 Preprocess `asin` column<a class ='anchor' id='3.7asin'></a>"
   ]
  },
  {
   "cell_type": "markdown",
   "id": "40bf7913",
   "metadata": {},
   "source": [
    "This section will be for processing the `asin` column. The column name will be changed from asin to product_ID for a more informative title."
   ]
  },
  {
   "cell_type": "code",
   "execution_count": 32,
   "id": "9b269749",
   "metadata": {},
   "outputs": [
    {
     "data": {
      "text/html": [
       "<div>\n",
       "<style scoped>\n",
       "    .dataframe tbody tr th:only-of-type {\n",
       "        vertical-align: middle;\n",
       "    }\n",
       "\n",
       "    .dataframe tbody tr th {\n",
       "        vertical-align: top;\n",
       "    }\n",
       "\n",
       "    .dataframe thead th {\n",
       "        text-align: right;\n",
       "    }\n",
       "</style>\n",
       "<table border=\"1\" class=\"dataframe\">\n",
       "  <thead>\n",
       "    <tr style=\"text-align: right;\">\n",
       "      <th></th>\n",
       "      <th>reviewScore</th>\n",
       "      <th>verified</th>\n",
       "      <th>reviewerID</th>\n",
       "      <th>product_id</th>\n",
       "      <th>reviewText</th>\n",
       "      <th>summary</th>\n",
       "      <th>vote</th>\n",
       "      <th>reviewDay</th>\n",
       "      <th>reviewMonth</th>\n",
       "      <th>reviewYear</th>\n",
       "      <th>style_Amazon Video</th>\n",
       "      <th>style_Blu-ray</th>\n",
       "      <th>style_DVD</th>\n",
       "      <th>style_Other</th>\n",
       "      <th>style_VHS Tape</th>\n",
       "    </tr>\n",
       "  </thead>\n",
       "  <tbody>\n",
       "    <tr>\n",
       "      <th>0</th>\n",
       "      <td>5</td>\n",
       "      <td>1</td>\n",
       "      <td>A3478QRKQDOPQ2</td>\n",
       "      <td>0001527665</td>\n",
       "      <td>really happy they got evangelised .. spoiler a...</td>\n",
       "      <td>great</td>\n",
       "      <td>0</td>\n",
       "      <td>11</td>\n",
       "      <td>3</td>\n",
       "      <td>2013</td>\n",
       "      <td>0</td>\n",
       "      <td>0</td>\n",
       "      <td>0</td>\n",
       "      <td>0</td>\n",
       "      <td>1</td>\n",
       "    </tr>\n",
       "    <tr>\n",
       "      <th>1</th>\n",
       "      <td>5</td>\n",
       "      <td>1</td>\n",
       "      <td>A2VHSG6TZHU1OB</td>\n",
       "      <td>0001527665</td>\n",
       "      <td>Having lived in West New Guinea (Papua) during...</td>\n",
       "      <td>Realistic and Accurate</td>\n",
       "      <td>3</td>\n",
       "      <td>18</td>\n",
       "      <td>2</td>\n",
       "      <td>2013</td>\n",
       "      <td>1</td>\n",
       "      <td>0</td>\n",
       "      <td>0</td>\n",
       "      <td>0</td>\n",
       "      <td>0</td>\n",
       "    </tr>\n",
       "    <tr>\n",
       "      <th>2</th>\n",
       "      <td>5</td>\n",
       "      <td>0</td>\n",
       "      <td>A23EJWOW1TLENE</td>\n",
       "      <td>0001527665</td>\n",
       "      <td>Excellent look into contextualizing the Gospel...</td>\n",
       "      <td>Peace Child</td>\n",
       "      <td>0</td>\n",
       "      <td>17</td>\n",
       "      <td>1</td>\n",
       "      <td>2013</td>\n",
       "      <td>1</td>\n",
       "      <td>0</td>\n",
       "      <td>0</td>\n",
       "      <td>0</td>\n",
       "      <td>0</td>\n",
       "    </tr>\n",
       "    <tr>\n",
       "      <th>3</th>\n",
       "      <td>5</td>\n",
       "      <td>1</td>\n",
       "      <td>A1KM9FNEJ8Q171</td>\n",
       "      <td>0001527665</td>\n",
       "      <td>More than anything, I've been challenged to fi...</td>\n",
       "      <td>Culturally relevant ways to share the love of ...</td>\n",
       "      <td>0</td>\n",
       "      <td>10</td>\n",
       "      <td>1</td>\n",
       "      <td>2013</td>\n",
       "      <td>1</td>\n",
       "      <td>0</td>\n",
       "      <td>0</td>\n",
       "      <td>0</td>\n",
       "      <td>0</td>\n",
       "    </tr>\n",
       "    <tr>\n",
       "      <th>4</th>\n",
       "      <td>4</td>\n",
       "      <td>1</td>\n",
       "      <td>A38LY2SSHVHRYB</td>\n",
       "      <td>0001527665</td>\n",
       "      <td>This is a great movie for a missionary going i...</td>\n",
       "      <td>Good Movie! Great for cross-cultural missionar...</td>\n",
       "      <td>0</td>\n",
       "      <td>26</td>\n",
       "      <td>12</td>\n",
       "      <td>2012</td>\n",
       "      <td>1</td>\n",
       "      <td>0</td>\n",
       "      <td>0</td>\n",
       "      <td>0</td>\n",
       "      <td>0</td>\n",
       "    </tr>\n",
       "  </tbody>\n",
       "</table>\n",
       "</div>"
      ],
      "text/plain": [
       "   reviewScore  verified      reviewerID  product_id  \\\n",
       "0            5         1  A3478QRKQDOPQ2  0001527665   \n",
       "1            5         1  A2VHSG6TZHU1OB  0001527665   \n",
       "2            5         0  A23EJWOW1TLENE  0001527665   \n",
       "3            5         1  A1KM9FNEJ8Q171  0001527665   \n",
       "4            4         1  A38LY2SSHVHRYB  0001527665   \n",
       "\n",
       "                                          reviewText  \\\n",
       "0  really happy they got evangelised .. spoiler a...   \n",
       "1  Having lived in West New Guinea (Papua) during...   \n",
       "2  Excellent look into contextualizing the Gospel...   \n",
       "3  More than anything, I've been challenged to fi...   \n",
       "4  This is a great movie for a missionary going i...   \n",
       "\n",
       "                                             summary  vote  reviewDay  \\\n",
       "0                                              great     0         11   \n",
       "1                             Realistic and Accurate     3         18   \n",
       "2                                        Peace Child     0         17   \n",
       "3  Culturally relevant ways to share the love of ...     0         10   \n",
       "4  Good Movie! Great for cross-cultural missionar...     0         26   \n",
       "\n",
       "   reviewMonth  reviewYear  style_Amazon Video  style_Blu-ray  style_DVD  \\\n",
       "0            3        2013                   0              0          0   \n",
       "1            2        2013                   1              0          0   \n",
       "2            1        2013                   1              0          0   \n",
       "3            1        2013                   1              0          0   \n",
       "4           12        2012                   1              0          0   \n",
       "\n",
       "   style_Other  style_VHS Tape  \n",
       "0            0               1  \n",
       "1            0               0  \n",
       "2            0               0  \n",
       "3            0               0  \n",
       "4            0               0  "
      ]
     },
     "execution_count": 32,
     "metadata": {},
     "output_type": "execute_result"
    }
   ],
   "source": [
    "# Rename the column\n",
    "review_df.rename(columns = {'asin':'product_id'}, inplace = True)\n",
    "\n",
    "# Check results\n",
    "review_df.head()"
   ]
  },
  {
   "cell_type": "markdown",
   "id": "bd97f026",
   "metadata": {},
   "source": [
    "## 3.8 Duplicated Rows and NaNs<a class ='anchor' id='3.8droprows'></a>"
   ]
  },
  {
   "cell_type": "markdown",
   "id": "7bfc4b65",
   "metadata": {},
   "source": [
    "In this section, the duplicated rows and rows with NaN values will be removed."
   ]
  },
  {
   "cell_type": "markdown",
   "id": "0f282360",
   "metadata": {},
   "source": [
    "### Check NaNs"
   ]
  },
  {
   "cell_type": "markdown",
   "id": "13b00f01",
   "metadata": {},
   "source": [
    "Check the number of NaN values in the columns."
   ]
  },
  {
   "cell_type": "code",
   "execution_count": 33,
   "id": "ed4cecd5",
   "metadata": {
    "scrolled": true
   },
   "outputs": [
    {
     "data": {
      "text/plain": [
       "reviewScore              0\n",
       "verified                 0\n",
       "reviewerID               0\n",
       "product_id               0\n",
       "reviewText            1498\n",
       "summary                394\n",
       "vote                     0\n",
       "reviewDay                0\n",
       "reviewMonth              0\n",
       "reviewYear               0\n",
       "style_Amazon Video       0\n",
       "style_Blu-ray            0\n",
       "style_DVD                0\n",
       "style_Other              0\n",
       "style_VHS Tape           0\n",
       "dtype: int64"
      ]
     },
     "execution_count": 33,
     "metadata": {},
     "output_type": "execute_result"
    }
   ],
   "source": [
    "review_df.isna().sum()"
   ]
  },
  {
   "cell_type": "markdown",
   "id": "6e7f9095",
   "metadata": {},
   "source": [
    "There are 1497 NaNs in the reviewText column and 394 NaNs in the summary column. This represents a very very small proportion of the data since there are ~ 2 million rows so these rows will just be dropped. Also, the reviewText is the main feature for the machine learning models thus, the rows that have NaNs for ReviewText will essentially be useless for the NLP analysis use case."
   ]
  },
  {
   "cell_type": "code",
   "execution_count": 34,
   "id": "1b18961f",
   "metadata": {},
   "outputs": [
    {
     "data": {
      "text/plain": [
       "reviewScore           0\n",
       "verified              0\n",
       "reviewerID            0\n",
       "product_id            0\n",
       "reviewText            0\n",
       "summary               0\n",
       "vote                  0\n",
       "reviewDay             0\n",
       "reviewMonth           0\n",
       "reviewYear            0\n",
       "style_Amazon Video    0\n",
       "style_Blu-ray         0\n",
       "style_DVD             0\n",
       "style_Other           0\n",
       "style_VHS Tape        0\n",
       "dtype: int64"
      ]
     },
     "execution_count": 34,
     "metadata": {},
     "output_type": "execute_result"
    }
   ],
   "source": [
    "# Drop NaNs\n",
    "review_df.dropna(inplace= True)\n",
    "\n",
    "# Check results\n",
    "review_df.isna().sum()"
   ]
  },
  {
   "cell_type": "markdown",
   "id": "9f60d6f0",
   "metadata": {},
   "source": [
    "All the columns no longer contain NaN values."
   ]
  },
  {
   "cell_type": "markdown",
   "id": "493a3e99",
   "metadata": {},
   "source": [
    "### Drop any duplicated rows in the dataframe"
   ]
  },
  {
   "cell_type": "code",
   "execution_count": 35,
   "id": "18218a8a",
   "metadata": {
    "scrolled": true
   },
   "outputs": [],
   "source": [
    "# Drop duplicated rows.\n",
    "review_df.drop_duplicates(inplace = True, ignore_index = True)"
   ]
  },
  {
   "cell_type": "code",
   "execution_count": 36,
   "id": "7d110475",
   "metadata": {
    "scrolled": true
   },
   "outputs": [
    {
     "name": "stdout",
     "output_type": "stream",
     "text": [
      "<class 'pandas.core.frame.DataFrame'>\n",
      "RangeIndex: 1997545 entries, 0 to 1997544\n",
      "Data columns (total 15 columns):\n",
      " #   Column              Dtype \n",
      "---  ------              ----- \n",
      " 0   reviewScore         int32 \n",
      " 1   verified            int8  \n",
      " 2   reviewerID          object\n",
      " 3   product_id          object\n",
      " 4   reviewText          object\n",
      " 5   summary             object\n",
      " 6   vote                int32 \n",
      " 7   reviewDay           int64 \n",
      " 8   reviewMonth         int64 \n",
      " 9   reviewYear          int64 \n",
      " 10  style_Amazon Video  uint8 \n",
      " 11  style_Blu-ray       uint8 \n",
      " 12  style_DVD           uint8 \n",
      " 13  style_Other         uint8 \n",
      " 14  style_VHS Tape      uint8 \n",
      "dtypes: int32(2), int64(3), int8(1), object(4), uint8(5)\n",
      "memory usage: 133.4+ MB\n"
     ]
    }
   ],
   "source": [
    "review_df.info()"
   ]
  },
  {
   "cell_type": "markdown",
   "id": "959a5963",
   "metadata": {},
   "source": [
    "1365 entries have been dropped."
   ]
  },
  {
   "cell_type": "markdown",
   "id": "f8e044c0",
   "metadata": {},
   "source": [
    "## 3.9 Narrowing down Dataset <a class ='anchor' id='3.9compress'></a>"
   ]
  },
  {
   "cell_type": "markdown",
   "id": "145b1e7d",
   "metadata": {},
   "source": [
    "In this section, the dataset will be reduced to include only items that have been reviewed many times. This is done so that only the most popular movies are analyzed for the time being."
   ]
  },
  {
   "cell_type": "markdown",
   "id": "acbada03",
   "metadata": {},
   "source": [
    "To narrow in the recommendation capabilities, only the movies with > 1000 reviews will be looked at for now."
   ]
  },
  {
   "cell_type": "code",
   "execution_count": 37,
   "id": "0ba9762b",
   "metadata": {},
   "outputs": [
    {
     "data": {
      "text/plain": [
       "B00006CXSS    24436\n",
       "6305837325    16643\n",
       "B00005JLF2    10032\n",
       "7880879625     6695\n",
       "0793906091     6379\n",
       "              ...  \n",
       "6303048226        1\n",
       "6303025692        1\n",
       "6303039596        1\n",
       "6305385920        1\n",
       "6304267274        1\n",
       "Name: product_id, Length: 15434, dtype: int64"
      ]
     },
     "execution_count": 37,
     "metadata": {},
     "output_type": "execute_result"
    }
   ],
   "source": [
    "# Find the count of the different products.\n",
    "review_df['product_id'].value_counts()"
   ]
  },
  {
   "cell_type": "code",
   "execution_count": 38,
   "id": "809ac32a",
   "metadata": {},
   "outputs": [
    {
     "data": {
      "text/plain": [
       "0             9\n",
       "1             9\n",
       "2             9\n",
       "3             9\n",
       "4             9\n",
       "           ... \n",
       "1997540    1009\n",
       "1997541    1009\n",
       "1997542    1009\n",
       "1997543    1009\n",
       "1997544    1009\n",
       "Name: product_id, Length: 1997545, dtype: int64"
      ]
     },
     "execution_count": 38,
     "metadata": {},
     "output_type": "execute_result"
    }
   ],
   "source": [
    "# Determine the review occurrence for every item \n",
    "# Output the index and the count for the # of reviews for every row.\n",
    "review_df.groupby('product_id')['product_id'].transform('size')"
   ]
  },
  {
   "cell_type": "markdown",
   "id": "2328fa8f",
   "metadata": {},
   "source": [
    "From the above, it can be seen that there are 15,434 unique items from the 2 million rows of reviews."
   ]
  },
  {
   "cell_type": "code",
   "execution_count": 39,
   "id": "d0d2d346",
   "metadata": {},
   "outputs": [
    {
     "data": {
      "text/plain": [
       "0          False\n",
       "1          False\n",
       "2          False\n",
       "3          False\n",
       "4          False\n",
       "           ...  \n",
       "1997540     True\n",
       "1997541     True\n",
       "1997542     True\n",
       "1997543     True\n",
       "1997544     True\n",
       "Name: product_id, Length: 1997545, dtype: bool"
      ]
     },
     "execution_count": 39,
     "metadata": {},
     "output_type": "execute_result"
    }
   ],
   "source": [
    "item_subset = review_df.groupby('product_id')['product_id'].transform('size') >= 100\n",
    "\n",
    "# Check results\n",
    "\n",
    "item_subset"
   ]
  },
  {
   "cell_type": "code",
   "execution_count": 40,
   "id": "18318f91",
   "metadata": {
    "scrolled": true
   },
   "outputs": [
    {
     "data": {
      "text/html": [
       "<div>\n",
       "<style scoped>\n",
       "    .dataframe tbody tr th:only-of-type {\n",
       "        vertical-align: middle;\n",
       "    }\n",
       "\n",
       "    .dataframe tbody tr th {\n",
       "        vertical-align: top;\n",
       "    }\n",
       "\n",
       "    .dataframe thead th {\n",
       "        text-align: right;\n",
       "    }\n",
       "</style>\n",
       "<table border=\"1\" class=\"dataframe\">\n",
       "  <thead>\n",
       "    <tr style=\"text-align: right;\">\n",
       "      <th></th>\n",
       "      <th>reviewScore</th>\n",
       "      <th>verified</th>\n",
       "      <th>reviewerID</th>\n",
       "      <th>product_id</th>\n",
       "      <th>reviewText</th>\n",
       "      <th>summary</th>\n",
       "      <th>vote</th>\n",
       "      <th>reviewDay</th>\n",
       "      <th>reviewMonth</th>\n",
       "      <th>reviewYear</th>\n",
       "      <th>style_Amazon Video</th>\n",
       "      <th>style_Blu-ray</th>\n",
       "      <th>style_DVD</th>\n",
       "      <th>style_Other</th>\n",
       "      <th>style_VHS Tape</th>\n",
       "    </tr>\n",
       "  </thead>\n",
       "  <tbody>\n",
       "    <tr>\n",
       "      <th>111</th>\n",
       "      <td>5</td>\n",
       "      <td>1</td>\n",
       "      <td>A1HP3B92A3JDQ1</td>\n",
       "      <td>0005019281</td>\n",
       "      <td>Of course it's impossible to separate Henry Wi...</td>\n",
       "      <td>The Fonz as Scrooge</td>\n",
       "      <td>4</td>\n",
       "      <td>2</td>\n",
       "      <td>11</td>\n",
       "      <td>2002</td>\n",
       "      <td>0</td>\n",
       "      <td>0</td>\n",
       "      <td>1</td>\n",
       "      <td>0</td>\n",
       "      <td>0</td>\n",
       "    </tr>\n",
       "    <tr>\n",
       "      <th>112</th>\n",
       "      <td>5</td>\n",
       "      <td>0</td>\n",
       "      <td>AZB4CQ9JZSUQB</td>\n",
       "      <td>0005019281</td>\n",
       "      <td>When this first aired in 1979, I enjoyed it so...</td>\n",
       "      <td>A Christmas Carol to be remembered</td>\n",
       "      <td>3</td>\n",
       "      <td>28</td>\n",
       "      <td>1</td>\n",
       "      <td>2002</td>\n",
       "      <td>0</td>\n",
       "      <td>0</td>\n",
       "      <td>1</td>\n",
       "      <td>0</td>\n",
       "      <td>0</td>\n",
       "    </tr>\n",
       "    <tr>\n",
       "      <th>113</th>\n",
       "      <td>5</td>\n",
       "      <td>0</td>\n",
       "      <td>A1PXS5N63PS6WR</td>\n",
       "      <td>0005019281</td>\n",
       "      <td>I must confess to being a bit of a coinsure of...</td>\n",
       "      <td>Change can be good</td>\n",
       "      <td>2</td>\n",
       "      <td>12</td>\n",
       "      <td>12</td>\n",
       "      <td>2001</td>\n",
       "      <td>0</td>\n",
       "      <td>0</td>\n",
       "      <td>1</td>\n",
       "      <td>0</td>\n",
       "      <td>0</td>\n",
       "    </tr>\n",
       "    <tr>\n",
       "      <th>114</th>\n",
       "      <td>3</td>\n",
       "      <td>0</td>\n",
       "      <td>A17TPT3FWAE5T1</td>\n",
       "      <td>0005019281</td>\n",
       "      <td>If you already have (and love) the Alistair Si...</td>\n",
       "      <td>An interesting contrast to more traditional ve...</td>\n",
       "      <td>31</td>\n",
       "      <td>11</td>\n",
       "      <td>12</td>\n",
       "      <td>2001</td>\n",
       "      <td>0</td>\n",
       "      <td>0</td>\n",
       "      <td>0</td>\n",
       "      <td>0</td>\n",
       "      <td>1</td>\n",
       "    </tr>\n",
       "    <tr>\n",
       "      <th>115</th>\n",
       "      <td>4</td>\n",
       "      <td>0</td>\n",
       "      <td>A3P98J5DZ00A75</td>\n",
       "      <td>0005019281</td>\n",
       "      <td>Henry Winkler proves his acting ability in thi...</td>\n",
       "      <td>grey</td>\n",
       "      <td>62</td>\n",
       "      <td>19</td>\n",
       "      <td>10</td>\n",
       "      <td>2001</td>\n",
       "      <td>0</td>\n",
       "      <td>0</td>\n",
       "      <td>1</td>\n",
       "      <td>0</td>\n",
       "      <td>0</td>\n",
       "    </tr>\n",
       "  </tbody>\n",
       "</table>\n",
       "</div>"
      ],
      "text/plain": [
       "     reviewScore  verified      reviewerID  product_id  \\\n",
       "111            5         1  A1HP3B92A3JDQ1  0005019281   \n",
       "112            5         0   AZB4CQ9JZSUQB  0005019281   \n",
       "113            5         0  A1PXS5N63PS6WR  0005019281   \n",
       "114            3         0  A17TPT3FWAE5T1  0005019281   \n",
       "115            4         0  A3P98J5DZ00A75  0005019281   \n",
       "\n",
       "                                            reviewText  \\\n",
       "111  Of course it's impossible to separate Henry Wi...   \n",
       "112  When this first aired in 1979, I enjoyed it so...   \n",
       "113  I must confess to being a bit of a coinsure of...   \n",
       "114  If you already have (and love) the Alistair Si...   \n",
       "115  Henry Winkler proves his acting ability in thi...   \n",
       "\n",
       "                                               summary  vote  reviewDay  \\\n",
       "111                                The Fonz as Scrooge     4          2   \n",
       "112                 A Christmas Carol to be remembered     3         28   \n",
       "113                                 Change can be good     2         12   \n",
       "114  An interesting contrast to more traditional ve...    31         11   \n",
       "115                                               grey    62         19   \n",
       "\n",
       "     reviewMonth  reviewYear  style_Amazon Video  style_Blu-ray  style_DVD  \\\n",
       "111           11        2002                   0              0          1   \n",
       "112            1        2002                   0              0          1   \n",
       "113           12        2001                   0              0          1   \n",
       "114           12        2001                   0              0          0   \n",
       "115           10        2001                   0              0          1   \n",
       "\n",
       "     style_Other  style_VHS Tape  \n",
       "111            0               0  \n",
       "112            0               0  \n",
       "113            0               0  \n",
       "114            0               1  \n",
       "115            0               0  "
      ]
     },
     "execution_count": 40,
     "metadata": {},
     "output_type": "execute_result"
    }
   ],
   "source": [
    "new_review_df = review_df[item_subset].copy()\n",
    "\n",
    "# Check results\n",
    "new_review_df.head()"
   ]
  },
  {
   "cell_type": "markdown",
   "id": "805a4eda",
   "metadata": {},
   "source": [
    "Reset the index"
   ]
  },
  {
   "cell_type": "code",
   "execution_count": 41,
   "id": "213ee311",
   "metadata": {},
   "outputs": [],
   "source": [
    "new_review_df.reset_index(drop = True, inplace=True)"
   ]
  },
  {
   "cell_type": "markdown",
   "id": "32cefcfc",
   "metadata": {},
   "source": [
    "Check that all items have over 1000 reviews"
   ]
  },
  {
   "cell_type": "code",
   "execution_count": 42,
   "id": "d1d26e18",
   "metadata": {},
   "outputs": [
    {
     "data": {
      "text/plain": [
       "B00006CXSS    24436\n",
       "6305837325    16643\n",
       "B00005JLF2    10032\n",
       "7880879625     6695\n",
       "0793906091     6379\n",
       "              ...  \n",
       "B00005JM48      100\n",
       "B00000F2LK      100\n",
       "B00003CY2S      100\n",
       "6303261736      100\n",
       "B00005LIRO      100\n",
       "Name: product_id, Length: 3744, dtype: int64"
      ]
     },
     "execution_count": 42,
     "metadata": {},
     "output_type": "execute_result"
    }
   ],
   "source": [
    "new_review_df['product_id'].value_counts()"
   ]
  },
  {
   "cell_type": "markdown",
   "id": "6e52549e",
   "metadata": {},
   "source": [
    "There are 3744 unique items and all of them have at least 100 reviews"
   ]
  },
  {
   "cell_type": "markdown",
   "id": "aeec1fd2",
   "metadata": {},
   "source": [
    "## 3.10 Create Clean Dataframe<a class ='anchor' id='3.10cleandf'></a>"
   ]
  },
  {
   "cell_type": "markdown",
   "id": "423e2917",
   "metadata": {},
   "source": [
    "In this section, a clean df that only has numeric values will be created for exploratory data analysis."
   ]
  },
  {
   "cell_type": "code",
   "execution_count": 43,
   "id": "34474ae1",
   "metadata": {},
   "outputs": [
    {
     "data": {
      "text/html": [
       "<div>\n",
       "<style scoped>\n",
       "    .dataframe tbody tr th:only-of-type {\n",
       "        vertical-align: middle;\n",
       "    }\n",
       "\n",
       "    .dataframe tbody tr th {\n",
       "        vertical-align: top;\n",
       "    }\n",
       "\n",
       "    .dataframe thead th {\n",
       "        text-align: right;\n",
       "    }\n",
       "</style>\n",
       "<table border=\"1\" class=\"dataframe\">\n",
       "  <thead>\n",
       "    <tr style=\"text-align: right;\">\n",
       "      <th></th>\n",
       "      <th>reviewScore</th>\n",
       "      <th>verified</th>\n",
       "      <th>vote</th>\n",
       "      <th>reviewDay</th>\n",
       "      <th>reviewMonth</th>\n",
       "      <th>reviewYear</th>\n",
       "      <th>style_Amazon Video</th>\n",
       "      <th>style_Blu-ray</th>\n",
       "      <th>style_DVD</th>\n",
       "      <th>style_Other</th>\n",
       "      <th>style_VHS Tape</th>\n",
       "    </tr>\n",
       "  </thead>\n",
       "  <tbody>\n",
       "    <tr>\n",
       "      <th>0</th>\n",
       "      <td>5</td>\n",
       "      <td>1</td>\n",
       "      <td>4</td>\n",
       "      <td>2</td>\n",
       "      <td>11</td>\n",
       "      <td>2002</td>\n",
       "      <td>0</td>\n",
       "      <td>0</td>\n",
       "      <td>1</td>\n",
       "      <td>0</td>\n",
       "      <td>0</td>\n",
       "    </tr>\n",
       "    <tr>\n",
       "      <th>1</th>\n",
       "      <td>5</td>\n",
       "      <td>0</td>\n",
       "      <td>3</td>\n",
       "      <td>28</td>\n",
       "      <td>1</td>\n",
       "      <td>2002</td>\n",
       "      <td>0</td>\n",
       "      <td>0</td>\n",
       "      <td>1</td>\n",
       "      <td>0</td>\n",
       "      <td>0</td>\n",
       "    </tr>\n",
       "    <tr>\n",
       "      <th>2</th>\n",
       "      <td>5</td>\n",
       "      <td>0</td>\n",
       "      <td>2</td>\n",
       "      <td>12</td>\n",
       "      <td>12</td>\n",
       "      <td>2001</td>\n",
       "      <td>0</td>\n",
       "      <td>0</td>\n",
       "      <td>1</td>\n",
       "      <td>0</td>\n",
       "      <td>0</td>\n",
       "    </tr>\n",
       "    <tr>\n",
       "      <th>3</th>\n",
       "      <td>3</td>\n",
       "      <td>0</td>\n",
       "      <td>31</td>\n",
       "      <td>11</td>\n",
       "      <td>12</td>\n",
       "      <td>2001</td>\n",
       "      <td>0</td>\n",
       "      <td>0</td>\n",
       "      <td>0</td>\n",
       "      <td>0</td>\n",
       "      <td>1</td>\n",
       "    </tr>\n",
       "    <tr>\n",
       "      <th>4</th>\n",
       "      <td>4</td>\n",
       "      <td>0</td>\n",
       "      <td>62</td>\n",
       "      <td>19</td>\n",
       "      <td>10</td>\n",
       "      <td>2001</td>\n",
       "      <td>0</td>\n",
       "      <td>0</td>\n",
       "      <td>1</td>\n",
       "      <td>0</td>\n",
       "      <td>0</td>\n",
       "    </tr>\n",
       "  </tbody>\n",
       "</table>\n",
       "</div>"
      ],
      "text/plain": [
       "   reviewScore  verified  vote  reviewDay  reviewMonth  reviewYear  \\\n",
       "0            5         1     4          2           11        2002   \n",
       "1            5         0     3         28            1        2002   \n",
       "2            5         0     2         12           12        2001   \n",
       "3            3         0    31         11           12        2001   \n",
       "4            4         0    62         19           10        2001   \n",
       "\n",
       "   style_Amazon Video  style_Blu-ray  style_DVD  style_Other  style_VHS Tape  \n",
       "0                   0              0          1            0               0  \n",
       "1                   0              0          1            0               0  \n",
       "2                   0              0          1            0               0  \n",
       "3                   0              0          0            0               1  \n",
       "4                   0              0          1            0               0  "
      ]
     },
     "execution_count": 43,
     "metadata": {},
     "output_type": "execute_result"
    }
   ],
   "source": [
    "# Seperate out the numeric columns\n",
    "numeric_col = list(new_review_df.select_dtypes(\"number\").columns)\n",
    "\n",
    "# Make a new clean dataframe with only the numeric columns\n",
    "clean_df = new_review_df[numeric_col].copy()\n",
    "\n",
    "# Check results\n",
    "clean_df.head()"
   ]
  },
  {
   "cell_type": "markdown",
   "id": "9fa990cb",
   "metadata": {},
   "source": [
    "### Change reviewerName and ASIN column to numeric"
   ]
  },
  {
   "cell_type": "markdown",
   "id": "87887ab6",
   "metadata": {},
   "source": [
    "Convert the reviewerName column to a numeric representation using `pd.factorize`."
   ]
  },
  {
   "cell_type": "code",
   "execution_count": 44,
   "id": "ae09dd25",
   "metadata": {},
   "outputs": [
    {
     "data": {
      "text/html": [
       "<div>\n",
       "<style scoped>\n",
       "    .dataframe tbody tr th:only-of-type {\n",
       "        vertical-align: middle;\n",
       "    }\n",
       "\n",
       "    .dataframe tbody tr th {\n",
       "        vertical-align: top;\n",
       "    }\n",
       "\n",
       "    .dataframe thead th {\n",
       "        text-align: right;\n",
       "    }\n",
       "</style>\n",
       "<table border=\"1\" class=\"dataframe\">\n",
       "  <thead>\n",
       "    <tr style=\"text-align: right;\">\n",
       "      <th></th>\n",
       "      <th>reviewScore</th>\n",
       "      <th>verified</th>\n",
       "      <th>vote</th>\n",
       "      <th>reviewDay</th>\n",
       "      <th>reviewMonth</th>\n",
       "      <th>reviewYear</th>\n",
       "      <th>style_Amazon Video</th>\n",
       "      <th>style_Blu-ray</th>\n",
       "      <th>style_DVD</th>\n",
       "      <th>style_Other</th>\n",
       "      <th>style_VHS Tape</th>\n",
       "      <th>reviewer_ID</th>\n",
       "    </tr>\n",
       "  </thead>\n",
       "  <tbody>\n",
       "    <tr>\n",
       "      <th>0</th>\n",
       "      <td>5</td>\n",
       "      <td>1</td>\n",
       "      <td>4</td>\n",
       "      <td>2</td>\n",
       "      <td>11</td>\n",
       "      <td>2002</td>\n",
       "      <td>0</td>\n",
       "      <td>0</td>\n",
       "      <td>1</td>\n",
       "      <td>0</td>\n",
       "      <td>0</td>\n",
       "      <td>0</td>\n",
       "    </tr>\n",
       "    <tr>\n",
       "      <th>1</th>\n",
       "      <td>5</td>\n",
       "      <td>0</td>\n",
       "      <td>3</td>\n",
       "      <td>28</td>\n",
       "      <td>1</td>\n",
       "      <td>2002</td>\n",
       "      <td>0</td>\n",
       "      <td>0</td>\n",
       "      <td>1</td>\n",
       "      <td>0</td>\n",
       "      <td>0</td>\n",
       "      <td>1</td>\n",
       "    </tr>\n",
       "    <tr>\n",
       "      <th>2</th>\n",
       "      <td>5</td>\n",
       "      <td>0</td>\n",
       "      <td>2</td>\n",
       "      <td>12</td>\n",
       "      <td>12</td>\n",
       "      <td>2001</td>\n",
       "      <td>0</td>\n",
       "      <td>0</td>\n",
       "      <td>1</td>\n",
       "      <td>0</td>\n",
       "      <td>0</td>\n",
       "      <td>2</td>\n",
       "    </tr>\n",
       "    <tr>\n",
       "      <th>3</th>\n",
       "      <td>3</td>\n",
       "      <td>0</td>\n",
       "      <td>31</td>\n",
       "      <td>11</td>\n",
       "      <td>12</td>\n",
       "      <td>2001</td>\n",
       "      <td>0</td>\n",
       "      <td>0</td>\n",
       "      <td>0</td>\n",
       "      <td>0</td>\n",
       "      <td>1</td>\n",
       "      <td>3</td>\n",
       "    </tr>\n",
       "    <tr>\n",
       "      <th>4</th>\n",
       "      <td>4</td>\n",
       "      <td>0</td>\n",
       "      <td>62</td>\n",
       "      <td>19</td>\n",
       "      <td>10</td>\n",
       "      <td>2001</td>\n",
       "      <td>0</td>\n",
       "      <td>0</td>\n",
       "      <td>1</td>\n",
       "      <td>0</td>\n",
       "      <td>0</td>\n",
       "      <td>4</td>\n",
       "    </tr>\n",
       "  </tbody>\n",
       "</table>\n",
       "</div>"
      ],
      "text/plain": [
       "   reviewScore  verified  vote  reviewDay  reviewMonth  reviewYear  \\\n",
       "0            5         1     4          2           11        2002   \n",
       "1            5         0     3         28            1        2002   \n",
       "2            5         0     2         12           12        2001   \n",
       "3            3         0    31         11           12        2001   \n",
       "4            4         0    62         19           10        2001   \n",
       "\n",
       "   style_Amazon Video  style_Blu-ray  style_DVD  style_Other  style_VHS Tape  \\\n",
       "0                   0              0          1            0               0   \n",
       "1                   0              0          1            0               0   \n",
       "2                   0              0          1            0               0   \n",
       "3                   0              0          0            0               1   \n",
       "4                   0              0          1            0               0   \n",
       "\n",
       "   reviewer_ID  \n",
       "0            0  \n",
       "1            1  \n",
       "2            2  \n",
       "3            3  \n",
       "4            4  "
      ]
     },
     "execution_count": 44,
     "metadata": {},
     "output_type": "execute_result"
    }
   ],
   "source": [
    "# Change this column to numeric values\n",
    "clean_df['reviewer_ID'] = pd.factorize(new_review_df['reviewerID'])[0]\n",
    "\n",
    "# Check results\n",
    "clean_df.head()"
   ]
  },
  {
   "cell_type": "markdown",
   "id": "a912a92e",
   "metadata": {},
   "source": [
    "Do the same for the product column (ASIN)"
   ]
  },
  {
   "cell_type": "code",
   "execution_count": 45,
   "id": "d97870d4",
   "metadata": {},
   "outputs": [
    {
     "data": {
      "text/html": [
       "<div>\n",
       "<style scoped>\n",
       "    .dataframe tbody tr th:only-of-type {\n",
       "        vertical-align: middle;\n",
       "    }\n",
       "\n",
       "    .dataframe tbody tr th {\n",
       "        vertical-align: top;\n",
       "    }\n",
       "\n",
       "    .dataframe thead th {\n",
       "        text-align: right;\n",
       "    }\n",
       "</style>\n",
       "<table border=\"1\" class=\"dataframe\">\n",
       "  <thead>\n",
       "    <tr style=\"text-align: right;\">\n",
       "      <th></th>\n",
       "      <th>reviewScore</th>\n",
       "      <th>verified</th>\n",
       "      <th>vote</th>\n",
       "      <th>reviewDay</th>\n",
       "      <th>reviewMonth</th>\n",
       "      <th>reviewYear</th>\n",
       "      <th>style_Amazon Video</th>\n",
       "      <th>style_Blu-ray</th>\n",
       "      <th>style_DVD</th>\n",
       "      <th>style_Other</th>\n",
       "      <th>style_VHS Tape</th>\n",
       "      <th>reviewer_ID</th>\n",
       "      <th>itemID</th>\n",
       "    </tr>\n",
       "  </thead>\n",
       "  <tbody>\n",
       "    <tr>\n",
       "      <th>0</th>\n",
       "      <td>5</td>\n",
       "      <td>1</td>\n",
       "      <td>4</td>\n",
       "      <td>2</td>\n",
       "      <td>11</td>\n",
       "      <td>2002</td>\n",
       "      <td>0</td>\n",
       "      <td>0</td>\n",
       "      <td>1</td>\n",
       "      <td>0</td>\n",
       "      <td>0</td>\n",
       "      <td>0</td>\n",
       "      <td>0</td>\n",
       "    </tr>\n",
       "    <tr>\n",
       "      <th>1</th>\n",
       "      <td>5</td>\n",
       "      <td>0</td>\n",
       "      <td>3</td>\n",
       "      <td>28</td>\n",
       "      <td>1</td>\n",
       "      <td>2002</td>\n",
       "      <td>0</td>\n",
       "      <td>0</td>\n",
       "      <td>1</td>\n",
       "      <td>0</td>\n",
       "      <td>0</td>\n",
       "      <td>1</td>\n",
       "      <td>0</td>\n",
       "    </tr>\n",
       "    <tr>\n",
       "      <th>2</th>\n",
       "      <td>5</td>\n",
       "      <td>0</td>\n",
       "      <td>2</td>\n",
       "      <td>12</td>\n",
       "      <td>12</td>\n",
       "      <td>2001</td>\n",
       "      <td>0</td>\n",
       "      <td>0</td>\n",
       "      <td>1</td>\n",
       "      <td>0</td>\n",
       "      <td>0</td>\n",
       "      <td>2</td>\n",
       "      <td>0</td>\n",
       "    </tr>\n",
       "    <tr>\n",
       "      <th>3</th>\n",
       "      <td>3</td>\n",
       "      <td>0</td>\n",
       "      <td>31</td>\n",
       "      <td>11</td>\n",
       "      <td>12</td>\n",
       "      <td>2001</td>\n",
       "      <td>0</td>\n",
       "      <td>0</td>\n",
       "      <td>0</td>\n",
       "      <td>0</td>\n",
       "      <td>1</td>\n",
       "      <td>3</td>\n",
       "      <td>0</td>\n",
       "    </tr>\n",
       "    <tr>\n",
       "      <th>4</th>\n",
       "      <td>4</td>\n",
       "      <td>0</td>\n",
       "      <td>62</td>\n",
       "      <td>19</td>\n",
       "      <td>10</td>\n",
       "      <td>2001</td>\n",
       "      <td>0</td>\n",
       "      <td>0</td>\n",
       "      <td>1</td>\n",
       "      <td>0</td>\n",
       "      <td>0</td>\n",
       "      <td>4</td>\n",
       "      <td>0</td>\n",
       "    </tr>\n",
       "  </tbody>\n",
       "</table>\n",
       "</div>"
      ],
      "text/plain": [
       "   reviewScore  verified  vote  reviewDay  reviewMonth  reviewYear  \\\n",
       "0            5         1     4          2           11        2002   \n",
       "1            5         0     3         28            1        2002   \n",
       "2            5         0     2         12           12        2001   \n",
       "3            3         0    31         11           12        2001   \n",
       "4            4         0    62         19           10        2001   \n",
       "\n",
       "   style_Amazon Video  style_Blu-ray  style_DVD  style_Other  style_VHS Tape  \\\n",
       "0                   0              0          1            0               0   \n",
       "1                   0              0          1            0               0   \n",
       "2                   0              0          1            0               0   \n",
       "3                   0              0          0            0               1   \n",
       "4                   0              0          1            0               0   \n",
       "\n",
       "   reviewer_ID  itemID  \n",
       "0            0       0  \n",
       "1            1       0  \n",
       "2            2       0  \n",
       "3            3       0  \n",
       "4            4       0  "
      ]
     },
     "execution_count": 45,
     "metadata": {},
     "output_type": "execute_result"
    }
   ],
   "source": [
    "# Change this column to numeric values\n",
    "clean_df['itemID'] = pd.factorize(new_review_df['product_id'])[0]\n",
    "\n",
    "# Check results\n",
    "clean_df.head()"
   ]
  },
  {
   "cell_type": "markdown",
   "id": "9b276e78",
   "metadata": {},
   "source": [
    "The preprocessing for the review data is now complete and the EDA and regression analysis can now be performed."
   ]
  },
  {
   "cell_type": "markdown",
   "id": "7a537976",
   "metadata": {},
   "source": [
    "## 3.11 Save the data to a JSON file<a class ='anchor' id='3.11save'></a>"
   ]
  },
  {
   "cell_type": "code",
   "execution_count": 46,
   "id": "24962542",
   "metadata": {},
   "outputs": [],
   "source": [
    "# Save the preprocessed data as one file\n",
    "new_review_df.to_json(r'preprocessed_review.json')"
   ]
  },
  {
   "cell_type": "code",
   "execution_count": 47,
   "id": "efaf1d5d",
   "metadata": {},
   "outputs": [],
   "source": [
    "# Save the numeric data as another file\n",
    "clean_df.to_json(r'numeric_review.json')"
   ]
  },
  {
   "cell_type": "markdown",
   "id": "c7498172",
   "metadata": {},
   "source": [
    "# 4. Exploratory Data Analysis<a class ='anchor' id='4EDA'></a>"
   ]
  },
  {
   "cell_type": "markdown",
   "id": "98173b4c",
   "metadata": {},
   "source": [
    "Almost all the columns contain categorical data thus bar charts will be used to visualize the data"
   ]
  },
  {
   "cell_type": "markdown",
   "id": "7bd62f5b",
   "metadata": {},
   "source": [
    "## 4.1 What is the Review Score distribution?<a class ='anchor' id='4.1reviewscore'></a>"
   ]
  },
  {
   "cell_type": "code",
   "execution_count": 48,
   "id": "945a8779",
   "metadata": {
    "scrolled": false
   },
   "outputs": [
    {
     "data": {
      "image/png": "[encoded data removed]",
      "text/plain": [
       "<Figure size 1000x700 with 1 Axes>"
      ]
     },
     "metadata": {},
     "output_type": "display_data"
    }
   ],
   "source": [
    "plt.figure(figsize = (10,7))\n",
    "\n",
    "# Separate the count of the values in the specific column\n",
    "x_val = clean_df['reviewScore'].value_counts().index\n",
    "y_val =  clean_df['reviewScore'].value_counts().values/1000\n",
    "\n",
    "# Make the barplot\n",
    "sns.barplot(x = x_val, y = y_val, data = clean_df, color = 'darkorange')\n",
    "\n",
    "plt.ylim([0,1300])\n",
    "\n",
    "# Label the plot\n",
    "plt.title(f'Review Score Distribution', fontweight = 'bold', fontsize = 24)\n",
    "plt.xlabel('Review Score', fontsize = 20)\n",
    "plt.ylabel('# of reviews in thousands', fontsize = 20)\n",
    "plt.xticks(fontsize = 14)\n",
    "plt.yticks(fontsize = 14)\n",
    "plt.show()\n"
   ]
  },
  {
   "cell_type": "markdown",
   "id": "c9fc6df8",
   "metadata": {},
   "source": [
    "From the bar chart above, the review score is highly left skewed. This may be caused by people only giving reviews when they love the product. When the product is bad or average, they don't leave a review."
   ]
  },
  {
   "cell_type": "markdown",
   "id": "88245e20",
   "metadata": {},
   "source": [
    "## 4.2 What is the general distribution of all the categorical columns?<a class ='anchor' id='4.2distribution'></a>"
   ]
  },
  {
   "cell_type": "markdown",
   "id": "e561bd81",
   "metadata": {},
   "source": [
    "**A function will be created to plot bar charts for the columns that are categorical.**"
   ]
  },
  {
   "cell_type": "code",
   "execution_count": 49,
   "id": "2ba12ba0",
   "metadata": {},
   "outputs": [],
   "source": [
    "def bar_plotter(df_column,clean_df):\n",
    "    \n",
    "    plt.figure(figsize = (8,5))\n",
    "\n",
    "    # Separate the count of the values in the specific column\n",
    "    x_val = clean_df[df_column].value_counts().index\n",
    "    y_val =  clean_df[df_column].value_counts().values\n",
    "\n",
    "    # Make the barplot\n",
    "    sns.barplot(x = x_val, y = y_val, data = clean_df, color = 'darkorange')\n",
    "\n",
    "    # Label the plot\n",
    "    plt.title(f'{df_column} Column Distribution')\n",
    "    \n",
    "    # When there are many x values, the labels will be rotated to be more readable\n",
    "    if len(x_val) > 5:\n",
    "        plt.xticks(rotation = 45)\n",
    "    \n",
    "    plt.xlabel(df_column)\n",
    "    plt.ylabel('count')\n",
    "    plt.show()\n"
   ]
  },
  {
   "cell_type": "code",
   "execution_count": 50,
   "id": "23cc1c91",
   "metadata": {},
   "outputs": [
    {
     "data": {
      "text/plain": [
       "Index(['reviewScore', 'verified', 'vote', 'reviewDay', 'reviewMonth',\n",
       "       'reviewYear', 'style_Amazon Video', 'style_Blu-ray', 'style_DVD',\n",
       "       'style_Other', 'style_VHS Tape'],\n",
       "      dtype='object')"
      ]
     },
     "execution_count": 50,
     "metadata": {},
     "output_type": "execute_result"
    }
   ],
   "source": [
    "# Find categorical columns\n",
    "clean_df.columns[0:11]"
   ]
  },
  {
   "cell_type": "markdown",
   "id": "3b66be3e",
   "metadata": {},
   "source": [
    "The bar plotting function will be used for every column except for vote, product id and itemID because those columns contain continuous data."
   ]
  },
  {
   "cell_type": "code",
   "execution_count": 51,
   "id": "28c7132e",
   "metadata": {
    "scrolled": false
   },
   "outputs": [
    {
     "data": {
      "image/png": "[encoded data removed]",
      "text/plain": [
       "<Figure size 800x500 with 1 Axes>"
      ]
     },
     "metadata": {},
     "output_type": "display_data"
    },
    {
     "data": {
      "image/png": "[encoded data removed]",
      "text/plain": [
       "<Figure size 800x500 with 1 Axes>"
      ]
     },
     "metadata": {},
     "output_type": "display_data"
    },
    {
     "data": {
      "image/png": "[encoded data removed]",
      "text/plain": [
       "<Figure size 800x500 with 1 Axes>"
      ]
     },
     "metadata": {},
     "output_type": "display_data"
    },
    {
     "data": {
      "image/png": "[encoded data removed]",
      "text/plain": [
       "<Figure size 800x500 with 1 Axes>"
      ]
     },
     "metadata": {},
     "output_type": "display_data"
    },
    {
     "data": {
      "image/png": "[encoded data removed]",
      "text/plain": [
       "<Figure size 800x500 with 1 Axes>"
      ]
     },
     "metadata": {},
     "output_type": "display_data"
    },
    {
     "data": {
      "image/png": "[encoded data removed]",
      "text/plain": [
       "<Figure size 800x500 with 1 Axes>"
      ]
     },
     "metadata": {},
     "output_type": "display_data"
    },
    {
     "data": {
      "image/png": "[encoded data removed]",
      "text/plain": [
       "<Figure size 800x500 with 1 Axes>"
      ]
     },
     "metadata": {},
     "output_type": "display_data"
    },
    {
     "data": {
      "image/png": "[encoded data removed]",
      "text/plain": [
       "<Figure size 800x500 with 1 Axes>"
      ]
     },
     "metadata": {},
     "output_type": "display_data"
    },
    {
     "data": {
      "image/png": "[encoded data removed]",
      "text/plain": [
       "<Figure size 800x500 with 1 Axes>"
      ]
     },
     "metadata": {},
     "output_type": "display_data"
    },
    {
     "data": {
      "image/png": "[encoded data removed]",
      "text/plain": [
       "<Figure size 800x500 with 1 Axes>"
      ]
     },
     "metadata": {},
     "output_type": "display_data"
    }
   ],
   "source": [
    "# Loop through the different columns\n",
    "for column in clean_df.columns[0:11]:\n",
    "    if column != 'vote':\n",
    "        # Make the bar plot\n",
    "        bar_plotter(column,clean_df)"
   ]
  },
  {
   "cell_type": "markdown",
   "id": "a3247f2c",
   "metadata": {},
   "source": [
    "None of the data in the columns look normally distributed.  \n",
    "- The `reviewScore` is left-skewed with most of the data rated at 5.  \n",
    "- The `verified` had a two times higher count for '1' than '0', thus most reviews are verified.  \n",
    "- The `reviewDay` column seems to have a random distribution with a much lower count on the 31st day of the month. This can be due to the fact that there are only 7 months in a year that has 31 days whereas almost every month/year has 30 days. \n",
    "- The `reviewMonth` plot shows a random distribution as well. The months with the most reviews are in December and January which is expected because people buy more items during the Christmas/New Year holidays and since there are more purchases, this would lead to more reviews.  \n",
    "- The `reviewYear` plot shows a left skewed distribution with a peak of review counts in 2016 and a sudden drop in 2017 and 2018. This can be due to streaming platforms being more popular so fewer people are buying movies, thus there would be fewer reviews overall.  \n",
    "- The `style` plots show that there is a big uneven distribution for styles such as VHS, other and BLU-RAY. This is the case because the majority of the reviews are for the style Amazon video or DVDs.\n"
   ]
  },
  {
   "cell_type": "markdown",
   "id": "1a7e0998",
   "metadata": {},
   "source": [
    "## 4.3 What is the average review score over time?<a class ='anchor' id='4.3avgreviewscore'></a>"
   ]
  },
  {
   "cell_type": "markdown",
   "id": "0521673a",
   "metadata": {},
   "source": [
    "The review day and review month seem to be relatively distributed through the different days of the month and months of the year. A bar plot can be made to determine if the average review score changes over time."
   ]
  },
  {
   "cell_type": "markdown",
   "id": "19abc6e0",
   "metadata": {},
   "source": [
    "**Average review score throughout the different years**"
   ]
  },
  {
   "cell_type": "code",
   "execution_count": 52,
   "id": "7b857940",
   "metadata": {},
   "outputs": [
    {
     "data": {
      "text/plain": [
       "reviewYear\n",
       "1997    4.266667\n",
       "1998    4.502188\n",
       "1999    4.290518\n",
       "2000    4.119599\n",
       "2001    4.045065\n",
       "2002    4.072868\n",
       "2003    4.083500\n",
       "2004    3.974307\n",
       "2005    4.005810\n",
       "2006    4.121588\n",
       "2007    4.259072\n",
       "2008    4.197150\n",
       "2009    4.232272\n",
       "2010    4.248706\n",
       "2011    4.187172\n",
       "2012    4.331903\n",
       "2013    4.439610\n",
       "2014    4.454440\n",
       "2015    4.481578\n",
       "2016    4.396480\n",
       "2017    4.422679\n",
       "2018    4.427378\n",
       "Name: reviewScore, dtype: float64"
      ]
     },
     "execution_count": 52,
     "metadata": {},
     "output_type": "execute_result"
    }
   ],
   "source": [
    "# Determine the average review Score for every year can be determined using mean() and a groupby function\n",
    "reviewscore_Y =clean_df.groupby('reviewYear')['reviewScore'].mean()\n",
    "\n",
    "#Check results\n",
    "reviewscore_Y"
   ]
  },
  {
   "cell_type": "markdown",
   "id": "d50d41ae",
   "metadata": {},
   "source": [
    "The review scores don't seem to change much, a bar plot will be made to visualize these results."
   ]
  },
  {
   "cell_type": "code",
   "execution_count": 53,
   "id": "256ecd06",
   "metadata": {
    "scrolled": false
   },
   "outputs": [
    {
     "data": {
      "image/png": "[encoded data removed]",
      "text/plain": [
       "<Figure size 1000x700 with 1 Axes>"
      ]
     },
     "metadata": {},
     "output_type": "display_data"
    }
   ],
   "source": [
    "# Set up figure size\n",
    "plt.figure(figsize = (10,7))\n",
    "\n",
    "# Make a bar plot using the index and values from above\n",
    "plt.bar(reviewscore_Y.index, reviewscore_Y.values,  color = 'darkorange')\n",
    "\n",
    "# Change size of tick labels\n",
    "plt.xticks(fontsize = 14)\n",
    "plt.yticks(fontsize = 14)\n",
    "\n",
    "# Set y axis range\n",
    "plt.ylim([0,5])\n",
    "\n",
    "# Label the plot\n",
    "plt.title(f'Average Review Score Distribution', fontweight = 'bold', fontsize = 24)\n",
    "plt.xlabel('Year', fontsize = 20)\n",
    "plt.ylabel('Average Review Score', fontsize = 20)\n",
    "\n",
    "plt.show()"
   ]
  },
  {
   "cell_type": "markdown",
   "id": "722650cf",
   "metadata": {},
   "source": [
    "The average review score is relatively unchanged throughout the years but there is a lower average review score in the early 2000s than between 2010 to 2018."
   ]
  },
  {
   "cell_type": "markdown",
   "id": "221c8127",
   "metadata": {},
   "source": [
    "**Average review score throughout the different months**"
   ]
  },
  {
   "cell_type": "code",
   "execution_count": 54,
   "id": "f95c4c0c",
   "metadata": {},
   "outputs": [
    {
     "data": {
      "text/plain": [
       "reviewMonth\n",
       "1     4.381595\n",
       "2     4.370647\n",
       "3     4.368980\n",
       "4     4.337486\n",
       "5     4.325104\n",
       "6     4.339689\n",
       "7     4.342724\n",
       "8     4.345854\n",
       "9     4.338892\n",
       "10    4.333328\n",
       "11    4.345605\n",
       "12    4.379311\n",
       "Name: reviewScore, dtype: float64"
      ]
     },
     "execution_count": 54,
     "metadata": {},
     "output_type": "execute_result"
    }
   ],
   "source": [
    "# Determine the average review Score for every month can be determined using mean() and a groupby function\n",
    "reviewscore_M =clean_df.groupby('reviewMonth')['reviewScore'].mean()\n",
    "\n",
    "# Check results\n",
    "reviewscore_M"
   ]
  },
  {
   "cell_type": "code",
   "execution_count": 55,
   "id": "207ceabf",
   "metadata": {},
   "outputs": [
    {
     "data": {
      "image/png": "[encoded data removed]",
      "text/plain": [
       "<Figure size 1000x700 with 1 Axes>"
      ]
     },
     "metadata": {},
     "output_type": "display_data"
    }
   ],
   "source": [
    "# Set up figure size\n",
    "plt.figure(figsize = (10,7))\n",
    "\n",
    "# Make a bar plot using the index and values from above\n",
    "plt.bar(reviewscore_M.index, reviewscore_M.values,  color = 'darkorange')\n",
    "\n",
    "# Change size of tick labels\n",
    "plt.xticks(fontsize = 14)\n",
    "plt.yticks(fontsize = 14)\n",
    "\n",
    "# Set y axis range\n",
    "plt.ylim([0,5])\n",
    "\n",
    "# Label the plot\n",
    "plt.title(f'Average Review Score Distribution', fontweight = 'bold', fontsize = 24)\n",
    "plt.xlabel('Month', fontsize = 20)\n",
    "plt.ylabel('Average Review Score', fontsize = 20)\n",
    "\n",
    "plt.show()"
   ]
  },
  {
   "cell_type": "markdown",
   "id": "5547f100",
   "metadata": {},
   "source": [
    "The average review score is unchanged throughout different months of the year thus showing that review scores are not dependent on the month of the year."
   ]
  },
  {
   "cell_type": "markdown",
   "id": "0658ed55",
   "metadata": {},
   "source": [
    "**Average Review Score when grouping by the month and year**"
   ]
  },
  {
   "cell_type": "markdown",
   "id": "eafacbed",
   "metadata": {},
   "source": [
    "Since the average review is not changing much by year, the data can be grouped by month and year to see a more granular view of the average review score over time"
   ]
  },
  {
   "cell_type": "code",
   "execution_count": 56,
   "id": "8687370a",
   "metadata": {},
   "outputs": [],
   "source": [
    "reviewscore_Y_M =clean_df.groupby(['reviewYear','reviewMonth'])['reviewScore'].mean()\n",
    "\n",
    "dates = []\n",
    "for val in reviewscore_Y_M.index:\n",
    "    dates.append(datetime(val[0],val[1],1))"
   ]
  },
  {
   "cell_type": "code",
   "execution_count": 57,
   "id": "16302406",
   "metadata": {
    "scrolled": false
   },
   "outputs": [
    {
     "data": {
      "image/png": "[encoded data removed]",
      "text/plain": [
       "<Figure size 1000x700 with 1 Axes>"
      ]
     },
     "metadata": {},
     "output_type": "display_data"
    }
   ],
   "source": [
    "# Set up figure size\n",
    "plt.figure(figsize = (10,7))\n",
    "\n",
    "# Make bar plot using the index and values from above\n",
    "plt.scatter(dates, reviewscore_Y_M.values,  color = 'darkorange')\n",
    "\n",
    "# Change size of tick labels\n",
    "plt.xticks(fontsize = 14)\n",
    "plt.yticks(fontsize = 14)\n",
    "\n",
    "# Set y axis range\n",
    "plt.ylim([0,5])\n",
    "\n",
    "# Label the plot\n",
    "plt.title(f'Average Review Score Distribution', fontweight = 'bold', fontsize = 24)\n",
    "plt.xlabel('Year', fontsize = 20)\n",
    "plt.ylabel('Average Review Score', fontsize = 20)\n",
    "\n",
    "plt.show()"
   ]
  },
  {
   "cell_type": "markdown",
   "id": "7e9aaa3b",
   "metadata": {},
   "source": [
    "The average review score starts out very high in 1996 and decreases to a minimum average review score of about 3.9 in around 2004. Then the average review scores start increasing until 2018 which is the time span of the dataset. There are 2 outliers in the data, one in 1996 and one in 2018. These outliers may be caused by the lack of data points for those two dates. The count of these two time periods can be explored."
   ]
  },
  {
   "cell_type": "code",
   "execution_count": 58,
   "id": "c68aac9d",
   "metadata": {},
   "outputs": [
    {
     "data": {
      "text/plain": [
       "reviewYear  reviewMonth\n",
       "1997        8                 1\n",
       "            10                3\n",
       "            11                6\n",
       "            12                5\n",
       "1998        1                11\n",
       "                           ... \n",
       "2018        1              6709\n",
       "            2              5250\n",
       "            3              4757\n",
       "            4              2055\n",
       "            5               142\n",
       "Name: reviewScore, Length: 249, dtype: int64"
      ]
     },
     "execution_count": 58,
     "metadata": {},
     "output_type": "execute_result"
    }
   ],
   "source": [
    "# Determine count of reviews for Year, Month combinations\n",
    "clean_df.groupby(['reviewYear','reviewMonth'])['reviewScore'].count()"
   ]
  },
  {
   "cell_type": "markdown",
   "id": "0bda3130",
   "metadata": {},
   "source": [
    "As expected, there is only one review in August of 1997 which resulted in the outlier. There are 142 reviews in May of 2018. Since the AverageScore was low for that point, this can be due to people rating products lower during that month of the year."
   ]
  },
  {
   "cell_type": "markdown",
   "id": "39097f8a",
   "metadata": {},
   "source": [
    "## 4.4 Is there a trend in the verified review counts over time?<a class ='anchor' id='4.4verifiedtrend'></a>"
   ]
  },
  {
   "cell_type": "markdown",
   "id": "4642f024",
   "metadata": {},
   "source": [
    "**Count of verified when looking at the month and year**"
   ]
  },
  {
   "cell_type": "code",
   "execution_count": 59,
   "id": "1265923f",
   "metadata": {},
   "outputs": [],
   "source": [
    "verified_Y_M =clean_df[clean_df['verified'] == 1].groupby(['reviewYear','reviewMonth'])['verified'].count()\n",
    "\n",
    "not_verified_Y_M =clean_df[clean_df['verified'] == 0].groupby(['reviewYear','reviewMonth'])['verified'].count()\n",
    "verified_dates = []\n",
    "for val in verified_Y_M.index:\n",
    "    verified_dates.append(datetime(val[0],val[1],1))\n",
    "    \n",
    "not_verified_dates =[]    \n",
    "for val in not_verified_Y_M.index:\n",
    "    not_verified_dates.append(datetime(val[0],val[1],1))"
   ]
  },
  {
   "cell_type": "code",
   "execution_count": 60,
   "id": "c7c4eafb",
   "metadata": {},
   "outputs": [
    {
     "data": {
      "image/png": "[encoded data removed]",
      "text/plain": [
       "<Figure size 1000x700 with 1 Axes>"
      ]
     },
     "metadata": {},
     "output_type": "display_data"
    }
   ],
   "source": [
    "plt.figure(figsize = (10,7))\n",
    "\n",
    "plt.scatter(verified_dates,verified_Y_M, color = 'darkorange', label = 'Verified')\n",
    "plt.scatter(not_verified_dates,not_verified_Y_M, label = 'Not verified')\n",
    "\n",
    "# Change size of tick labels\n",
    "plt.xticks(fontsize = 14)\n",
    "plt.yticks(fontsize = 14)\n",
    "\n",
    "\n",
    "# Label the plot\n",
    "plt.title('Verified Count Distribution Over the Months and Years', fontweight = 'bold', fontsize = 16)\n",
    "plt.xlabel('Year', fontsize = 20)\n",
    "plt.ylabel('Count', fontsize = 20)\n",
    "\n",
    "plt.legend()\n",
    "plt.show()"
   ]
  },
  {
   "cell_type": "markdown",
   "id": "f5a95db8",
   "metadata": {},
   "source": [
    "From the plot above, the non verified reviews were dominating the reviews between 2000 to 2009. This means that these reviews may be inaccurate because the reviewer may not have bought the product to know if the product is good or not. The verified reviews increase drastically from 2012 to 2018 which can be caused by the customer influx into the Amazon ecosystem. More people are buying products on Amazon which inherently leads to more potential reviews. The non verified reviews start decreasing in 2015 which is good because people who bought the products can give a better reviews than those who didn't purchase the product."
   ]
  },
  {
   "cell_type": "markdown",
   "id": "379e0eca",
   "metadata": {},
   "source": [
    "## 4.5 What is the distribution of the Votes column?<a class ='anchor' id='4.5votesdistribution'></a>"
   ]
  },
  {
   "cell_type": "code",
   "execution_count": 61,
   "id": "b2f583f3",
   "metadata": {},
   "outputs": [
    {
     "data": {
      "text/plain": [
       "0      1407058\n",
       "2        95490\n",
       "3        52428\n",
       "4        33284\n",
       "5        22774\n",
       "        ...   \n",
       "469          1\n",
       "741          1\n",
       "481          1\n",
       "263          1\n",
       "774          1\n",
       "Name: vote, Length: 492, dtype: int64"
      ]
     },
     "execution_count": 61,
     "metadata": {},
     "output_type": "execute_result"
    }
   ],
   "source": [
    "vote_count = clean_df['vote'].value_counts()\n",
    "\n",
    "# Check results\n",
    "vote_count"
   ]
  },
  {
   "cell_type": "markdown",
   "id": "0fc8fa14",
   "metadata": {},
   "source": [
    "Most reviews had 0 votes and many reviews had below 5 votes."
   ]
  },
  {
   "cell_type": "code",
   "execution_count": 62,
   "id": "b888e655",
   "metadata": {},
   "outputs": [
    {
     "data": {
      "text/plain": [
       "0    0.828533\n",
       "2    0.056228\n",
       "3    0.030872\n",
       "4    0.019599\n",
       "5    0.013410\n",
       "Name: vote, dtype: float64"
      ]
     },
     "execution_count": 62,
     "metadata": {},
     "output_type": "execute_result"
    }
   ],
   "source": [
    "top_vote_counts = clean_df['vote'].value_counts().head(5)/clean_df.shape[0]\n",
    "\n",
    "# Check results\n",
    "top_vote_counts"
   ]
  },
  {
   "cell_type": "code",
   "execution_count": 63,
   "id": "fb1f2bed",
   "metadata": {},
   "outputs": [
    {
     "data": {
      "text/plain": [
       "0.9486419279106235"
      ]
     },
     "execution_count": 63,
     "metadata": {},
     "output_type": "execute_result"
    }
   ],
   "source": [
    "top_vote_counts.sum()"
   ]
  },
  {
   "cell_type": "markdown",
   "id": "7e5b3a9b",
   "metadata": {},
   "source": [
    "About 83% of the reviews have 0 votes which is an extremely high percentage that will certainly skew the `vote` data. 95% of the review data have under 5 votes."
   ]
  },
  {
   "cell_type": "markdown",
   "id": "77a56c8d",
   "metadata": {},
   "source": [
    "## 4.6 Feature Correlations<a class ='anchor' id='4.6featurecorrelation'></a>"
   ]
  },
  {
   "cell_type": "markdown",
   "id": "e5592caa",
   "metadata": {},
   "source": [
    "The correlations between different features will be determined in this section."
   ]
  },
  {
   "cell_type": "code",
   "execution_count": 64,
   "id": "281e9d31",
   "metadata": {
    "scrolled": false
   },
   "outputs": [
    {
     "data": {
      "image/png": "[encoded data removed]",
      "text/plain": [
       "<Figure size 1200x800 with 2 Axes>"
      ]
     },
     "metadata": {},
     "output_type": "display_data"
    }
   ],
   "source": [
    "# Create plot with set figure size\n",
    "plt.figure(figsize= [12,8])\n",
    "\n",
    "# Plot correlation matrix\n",
    "sns.heatmap(clean_df.corr().round(2), vmin=-1, vmax=1, cmap='coolwarm', annot=True)\n",
    "\n",
    "# Label plot\n",
    "plt.title('Features Correlation Heatmap', fontweight = 'bold', fontsize = 24)\n",
    "plt.xlabel('Features', fontsize = 20)\n",
    "plt.ylabel('Features', fontsize = 20)\n",
    "\n",
    "plt.show()"
   ]
  },
  {
   "cell_type": "markdown",
   "id": "3887d075",
   "metadata": {},
   "source": [
    "**ReviewScore Correlation**:   \n",
    "\n",
    "Looking at the reviewScore, there is a small positive correlation between reviewScore and verified as well as reviewScore reviewYear. All the other columns are close to 0 thus there seems to be no correlation between reviewScore and the other columns"
   ]
  },
  {
   "cell_type": "markdown",
   "id": "e4ac7a41",
   "metadata": {},
   "source": [
    "**Verified Correlation**:  \n",
    "\n",
    "There seems to be a strong positive correlation between verified and reviewYear thus a boxplot will be made to visualize the relation."
   ]
  },
  {
   "cell_type": "code",
   "execution_count": 65,
   "id": "1e05fb83",
   "metadata": {},
   "outputs": [
    {
     "data": {
      "image/png": "[encoded data removed]",
      "text/plain": [
       "<Figure size 1000x800 with 1 Axes>"
      ]
     },
     "metadata": {},
     "output_type": "display_data"
    }
   ],
   "source": [
    "plt.figure(figsize =(10,8))\n",
    "\n",
    "# Create the boxplot\n",
    "sns.boxplot(data = clean_df, x ='verified',y = 'reviewYear')\n",
    "\n",
    "# Plot labels and settings\n",
    "plt.title('Boxplot Between Verified and Review Year', fontweight = 'bold', fontsize = 24)\n",
    "\n",
    "plt.show()"
   ]
  },
  {
   "cell_type": "markdown",
   "id": "279cde1c",
   "metadata": {},
   "source": [
    "**Style_Amazon Video Correlation**:  \n",
    "\n",
    "There seems to be a strong positive correlation between the Amazon video Style and reviewYear thus a boxplot will be made to visualize the relation."
   ]
  },
  {
   "cell_type": "code",
   "execution_count": 66,
   "id": "3420ff2b",
   "metadata": {},
   "outputs": [
    {
     "data": {
      "image/png": "[encoded data removed]",
      "text/plain": [
       "<Figure size 1000x800 with 1 Axes>"
      ]
     },
     "metadata": {},
     "output_type": "display_data"
    }
   ],
   "source": [
    "plt.figure(figsize =(10,8))\n",
    "\n",
    "# Create the boxplot\n",
    "sns.boxplot(data = clean_df, x ='style_Amazon Video',y = 'reviewYear')\n",
    "\n",
    "# Plot labels and settings\n",
    "plt.title('Boxplot Between Amazon Video and Review Year', fontweight = 'bold', fontsize = 24)\n",
    "\n",
    "\n",
    "plt.show()"
   ]
  },
  {
   "cell_type": "markdown",
   "id": "0b92a6e4",
   "metadata": {},
   "source": [
    "From the above boxplot, there are many outliers for Amazon made videos before 2011. This may be the case because of Amazon's rapid growth as the company expands toward creating its own streaming content on its streaming platform. "
   ]
  },
  {
   "cell_type": "markdown",
   "id": "3181e11b",
   "metadata": {},
   "source": [
    "**Negative Correlations**:  \n",
    "\n",
    "Some of the styles have negative correlations with one another which is reasonable because each data point contains a review and if the review is for a specific style, it can't be the other styles. Thus creating a negative correlation."
   ]
  },
  {
   "cell_type": "markdown",
   "id": "4143219e",
   "metadata": {},
   "source": [
    "# 5. Summary<a class ='anchor' id='5summary'></a>"
   ]
  },
  {
   "cell_type": "markdown",
   "id": "7e12078c",
   "metadata": {},
   "source": [
    "The review score distribution is highly skewed towards higher scores. Approximately 65% of the reviews are represented by a review score of 5. The number of reviews increased between 2012 to 2016 and this could be due to the quick adoption of online shopping. There were no trends found between the average review score and the year or month the review was made. The average review score stayed at about 4 throughout the different months and years. the number of verified reviews increased drastically between 2012 to 2017. This can be due to people buying more items on Amazon. As expected, the numeric features such as review date, the style of the movie/tv show, if the reviewer is verified or not and the number of upvotes on the review do not influence the outcome of the review score. This can be the case because the review score mainly depends on if the buyer loves or hates the product and that information is found in the review text. "
   ]
  }
 ],
 "metadata": {
  "kernelspec": {
   "display_name": "Python 3 (ipykernel)",
   "language": "python",
   "name": "python3"
  },
  "language_info": {
   "codemirror_mode": {
    "name": "ipython",
    "version": 3
   },
   "file_extension": ".py",
   "mimetype": "text/x-python",
   "name": "python",
   "nbconvert_exporter": "python",
   "pygments_lexer": "ipython3",
   "version": "3.8.13"
  },
  "vscode": {
   "interpreter": {
    "hash": "5e820f3ddc028a719ffe50e7d80dd01658ce1fe998d4f6f388d9b09d11d3d164"
   }
  }
 },
 "nbformat": 4,
 "nbformat_minor": 5
}
