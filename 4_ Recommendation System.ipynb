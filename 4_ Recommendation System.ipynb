{
 "cells": [
  {
   "cell_type": "markdown",
   "id": "8f97e43a",
   "metadata": {},
   "source": [
    "1. Is there something I can do now to start working on the presentation of my work. Not sure what kind of visuals/charts I can make with NLP analysis other than the word count graphs.\n",
    "2. Do you have any suggestions on how I can structure my capstone better. \n",
    "3. I also have metadata on the movie reviews but I'm not sure how to use it.\n",
    "\n",
    "count, distribution of length of reviews\n",
    "distribution of review scores\n",
    "By Genre\n",
    "product category\n",
    "\n",
    "Meta data, recommendation overlap with 'also bought column' \n",
    "\n",
    "What to do with product ids\n"
   ]
  },
  {
   "cell_type": "markdown",
   "id": "9839f88d",
   "metadata": {},
   "source": [
    "# 3 Recommendation System"
   ]
  },
  {
   "cell_type": "markdown",
   "id": "5eb1d276",
   "metadata": {},
   "source": [
    "- Author: Jason Truong\n",
    "- Last Modified: August 21, 2022\n",
    "- Email: Jasontruong19@gmail.com"
   ]
  },
  {
   "cell_type": "markdown",
   "id": "cb3118e6",
   "metadata": {},
   "source": [
    "# Table of Contents\n",
    "\n",
    "1. [Objective and Roadmap](#1Objective)  \n",
    "2. [Preliminary Data Setup](#2Preliminary)  \n",
    "    2.1. [Preprocessing: 'Overall'](#2_1Overall)  \n",
    "    2.2. [Preprocessing: 'reviewScore'](#2_2Review)  \n",
    "    2.3. [Preprocessing: 'Vote'](#2_3Vote)  \n",
    "    2.4. [Drop duplicates and NaNs](#2_4Drop)  \n",
    "3. [Test/Train Setup](#4Test_Train)  \n",
    "4. [NLP Analysis Setup](#3NLP)  \n",
    "5. [Advanced Models](#5AdvancedModels)  "
   ]
  },
  {
   "cell_type": "markdown",
   "id": "3996e6a2",
   "metadata": {},
   "source": [
    "# 1. Objective and Roadmap<a class ='anchor' id='1Objective'></a>"
   ]
  },
  {
   "cell_type": "markdown",
   "id": "66e2193e",
   "metadata": {},
   "source": [
    "**Goal #1:** To predict the if the review has a positive or negative sentiment to it. This prediction is related to the prediction overall review score of the product.  \n",
    "**Goal #2:** Predict if a review will have high or low votes from the community\n",
    "\n",
    "NLP Roadmap:\n",
    "1. Tokenize the review text\n",
    "2. Remove the unnecessary tokens\n",
    "3. Create a test train data split\n",
    "4. See if Stemming and Lemmatization is needed\n",
    "5. Create Models and Evaluate performance"
   ]
  },
  {
   "cell_type": "markdown",
   "id": "e02aa52c",
   "metadata": {},
   "source": [
    "# 2. Preliminary Data Setup<a class ='anchor' id='2Preliminary'></a>"
   ]
  },
  {
   "cell_type": "code",
   "execution_count": 1,
   "id": "677d06a1",
   "metadata": {},
   "outputs": [],
   "source": [
    "import json\n",
    "import pandas as pd\n",
    "import numpy as np\n",
    "import matplotlib.pyplot as plt\n",
    "\n",
    "from sklearn.linear_model import LogisticRegression\n",
    "from sklearn.feature_extraction.text import CountVectorizer\n",
    "from sklearn.model_selection import train_test_split"
   ]
  },
  {
   "cell_type": "markdown",
   "id": "48487750",
   "metadata": {},
   "source": [
    "Load in the dataset"
   ]
  },
  {
   "cell_type": "code",
   "execution_count": 2,
   "id": "b642c905",
   "metadata": {},
   "outputs": [],
   "source": [
    "meta_df = pd.read_csv('clean_meta.csv')"
   ]
  },
  {
   "cell_type": "code",
   "execution_count": 3,
   "id": "08a1e372",
   "metadata": {},
   "outputs": [
    {
     "data": {
      "text/html": [
       "<div>\n",
       "<style scoped>\n",
       "    .dataframe tbody tr th:only-of-type {\n",
       "        vertical-align: middle;\n",
       "    }\n",
       "\n",
       "    .dataframe tbody tr th {\n",
       "        vertical-align: top;\n",
       "    }\n",
       "\n",
       "    .dataframe thead th {\n",
       "        text-align: right;\n",
       "    }\n",
       "</style>\n",
       "<table border=\"1\" class=\"dataframe\">\n",
       "  <thead>\n",
       "    <tr style=\"text-align: right;\">\n",
       "      <th></th>\n",
       "      <th>title</th>\n",
       "      <th>brand</th>\n",
       "      <th>rank</th>\n",
       "      <th>price</th>\n",
       "      <th>asin</th>\n",
       "      <th>description_0</th>\n",
       "      <th>category_1</th>\n",
       "      <th>category_2</th>\n",
       "    </tr>\n",
       "  </thead>\n",
       "  <tbody>\n",
       "    <tr>\n",
       "      <th>0</th>\n",
       "      <td>Understanding Seizures and Epilepsy</td>\n",
       "      <td>NaN</td>\n",
       "      <td>886,503</td>\n",
       "      <td>NaN</td>\n",
       "      <td>0000695009</td>\n",
       "      <td>NaN</td>\n",
       "      <td>Movies</td>\n",
       "      <td>NaN</td>\n",
       "    </tr>\n",
       "    <tr>\n",
       "      <th>1</th>\n",
       "      <td>Spirit Led&amp;mdash;Moving By Grace In The Holy S...</td>\n",
       "      <td>NaN</td>\n",
       "      <td>342,688</td>\n",
       "      <td>NaN</td>\n",
       "      <td>0000791156</td>\n",
       "      <td>NaN</td>\n",
       "      <td>Movies</td>\n",
       "      <td>NaN</td>\n",
       "    </tr>\n",
       "    <tr>\n",
       "      <th>2</th>\n",
       "      <td>My Fair Pastry (Good Eats Vol. 9)</td>\n",
       "      <td>Alton Brown</td>\n",
       "      <td>370,026</td>\n",
       "      <td>NaN</td>\n",
       "      <td>0000143529</td>\n",
       "      <td>Disc 1: Flour Power (Scones; Shortcakes; South...</td>\n",
       "      <td>Movies</td>\n",
       "      <td>NaN</td>\n",
       "    </tr>\n",
       "    <tr>\n",
       "      <th>3</th>\n",
       "      <td>Barefoot Contessa (with Ina Garten), Entertain...</td>\n",
       "      <td>Ina Garten</td>\n",
       "      <td>342,914</td>\n",
       "      <td>74.95</td>\n",
       "      <td>0000143588</td>\n",
       "      <td>Barefoot Contessa Volume 2: On these three dis...</td>\n",
       "      <td>Movies</td>\n",
       "      <td>NaN</td>\n",
       "    </tr>\n",
       "    <tr>\n",
       "      <th>4</th>\n",
       "      <td>Rise and Swine (Good Eats Vol. 7)</td>\n",
       "      <td>Alton Brown</td>\n",
       "      <td>351,684</td>\n",
       "      <td>NaN</td>\n",
       "      <td>0000143502</td>\n",
       "      <td>Rise and Swine (Good Eats Vol. 7) includes bon...</td>\n",
       "      <td>Movies</td>\n",
       "      <td>NaN</td>\n",
       "    </tr>\n",
       "  </tbody>\n",
       "</table>\n",
       "</div>"
      ],
      "text/plain": [
       "                                               title        brand     rank  \\\n",
       "0                Understanding Seizures and Epilepsy          NaN  886,503   \n",
       "1  Spirit Led&mdash;Moving By Grace In The Holy S...          NaN  342,688   \n",
       "2                  My Fair Pastry (Good Eats Vol. 9)  Alton Brown  370,026   \n",
       "3  Barefoot Contessa (with Ina Garten), Entertain...   Ina Garten  342,914   \n",
       "4                  Rise and Swine (Good Eats Vol. 7)  Alton Brown  351,684   \n",
       "\n",
       "   price        asin                                      description_0  \\\n",
       "0    NaN  0000695009                                                NaN   \n",
       "1    NaN  0000791156                                                NaN   \n",
       "2    NaN  0000143529  Disc 1: Flour Power (Scones; Shortcakes; South...   \n",
       "3  74.95  0000143588  Barefoot Contessa Volume 2: On these three dis...   \n",
       "4    NaN  0000143502  Rise and Swine (Good Eats Vol. 7) includes bon...   \n",
       "\n",
       "  category_1 category_2  \n",
       "0     Movies        NaN  \n",
       "1     Movies        NaN  \n",
       "2     Movies        NaN  \n",
       "3     Movies        NaN  \n",
       "4     Movies        NaN  "
      ]
     },
     "execution_count": 3,
     "metadata": {},
     "output_type": "execute_result"
    }
   ],
   "source": [
    "meta_df.head()"
   ]
  },
  {
   "cell_type": "code",
   "execution_count": null,
   "id": "043e9d79",
   "metadata": {},
   "outputs": [],
   "source": [
    "meta_df['category_2'].value_counts()"
   ]
  },
  {
   "cell_type": "code",
   "execution_count": null,
   "id": "4bf18b20",
   "metadata": {},
   "outputs": [],
   "source": [
    "working_df = meta_df[['title','description_0']].copy()"
   ]
  },
  {
   "cell_type": "code",
   "execution_count": null,
   "id": "9cc97002",
   "metadata": {},
   "outputs": [],
   "source": [
    "working_df['description_0'] = working_df['description_0'].fillna(\"\")"
   ]
  },
  {
   "cell_type": "code",
   "execution_count": null,
   "id": "371a283a",
   "metadata": {},
   "outputs": [],
   "source": [
    "new_df = working_df.iloc[0:100000,:]"
   ]
  },
  {
   "cell_type": "code",
   "execution_count": null,
   "id": "d0fa8a5a",
   "metadata": {},
   "outputs": [],
   "source": [
    "new_df"
   ]
  },
  {
   "cell_type": "code",
   "execution_count": null,
   "id": "eaace08e",
   "metadata": {},
   "outputs": [],
   "source": [
    "from sklearn.feature_extraction.text import TfidfVectorizer\n",
    "\n",
    "vectorizer = TfidfVectorizer(stop_words = 'english', min_df = 10)\n",
    "\n",
    "vectorizer.fit(new_df['description_0'])\n",
    "\n",
    "TF_matrix2 = vectorizer.transform(new_df['description_0'])"
   ]
  },
  {
   "cell_type": "code",
   "execution_count": null,
   "id": "dce716c4",
   "metadata": {},
   "outputs": [],
   "source": [
    "TF_matrix2.shape"
   ]
  },
  {
   "cell_type": "code",
   "execution_count": null,
   "id": "fd6c3d47",
   "metadata": {},
   "outputs": [],
   "source": [
    "1356*181552"
   ]
  },
  {
   "cell_type": "code",
   "execution_count": null,
   "id": "4a7d4e40",
   "metadata": {},
   "outputs": [],
   "source": [
    "42278**2"
   ]
  },
  {
   "cell_type": "code",
   "execution_count": null,
   "id": "4e11fdf7",
   "metadata": {},
   "outputs": [],
   "source": [
    "from sklearn.metrics.pairwise import cosine_similarity\n",
    "\n",
    "mov_similaries = cosine_similarity(TF_matrix2, dense_output = False)"
   ]
  },
  {
   "cell_type": "code",
   "execution_count": null,
   "id": "aba35405",
   "metadata": {},
   "outputs": [],
   "source": []
  },
  {
   "cell_type": "code",
   "execution_count": null,
   "id": "0fcc747f",
   "metadata": {},
   "outputs": [],
   "source": [
    "movie_index = new_df[new_df['title'] =='Mitr: My Friend'].index\n",
    "\n",
    "sim_df = pd.DataFrame({'item':new_df['title'], \n",
    "                       'similarities': np.array(mov_similaries[movie_index,:].todense()).squeeze()})"
   ]
  },
  {
   "cell_type": "code",
   "execution_count": null,
   "id": "21f49a8b",
   "metadata": {},
   "outputs": [],
   "source": [
    "sim_df.sort_values(by = 'similarities', ascending = False).head(10)"
   ]
  },
  {
   "cell_type": "code",
   "execution_count": null,
   "id": "aa7c3024",
   "metadata": {},
   "outputs": [],
   "source": []
  },
  {
   "cell_type": "markdown",
   "id": "3d57dc55",
   "metadata": {},
   "source": [
    "First step is to only focus on the sentiment of the review to try to predict the overall rating as well as the vote count so every other column will be dropped. A separate analysis will be done to include the summary text if time permits."
   ]
  },
  {
   "cell_type": "code",
   "execution_count": null,
   "id": "9e153ce1",
   "metadata": {},
   "outputs": [],
   "source": [
    "# Only keep the necessary columns\n",
    "review_df = review_df[['overall', 'vote','reviewText','reviewerID','asin']]\n",
    "review_df"
   ]
  },
  {
   "cell_type": "code",
   "execution_count": null,
   "id": "61835543",
   "metadata": {},
   "outputs": [],
   "source": [
    "review_df.info()"
   ]
  },
  {
   "cell_type": "code",
   "execution_count": null,
   "id": "762d1312",
   "metadata": {},
   "outputs": [],
   "source": []
  },
  {
   "cell_type": "markdown",
   "id": "2717830f",
   "metadata": {},
   "source": [
    "Sample tests can be a movie review + the rating -> Feed into model, Output top 10 movies the person may like."
   ]
  },
  {
   "cell_type": "markdown",
   "id": "5bfc8acf",
   "metadata": {},
   "source": [
    "Use reviews and movie descriptions to determine which movies to recommend based off of if the person rated the movie highly or not."
   ]
  },
  {
   "cell_type": "markdown",
   "id": "8f4f2605",
   "metadata": {},
   "source": [
    "# FINAL OBJECTIVE"
   ]
  },
  {
   "cell_type": "code",
   "execution_count": null,
   "id": "3b06e2f9",
   "metadata": {},
   "outputs": [],
   "source": []
  },
  {
   "cell_type": "markdown",
   "id": "c9e641aa",
   "metadata": {},
   "source": [
    "Build grid search \n",
    "Make models notebook with just numeric data\n",
    "NLP notebook models with text analysis\n",
    "\n",
    "Recommendation\n"
   ]
  },
  {
   "cell_type": "markdown",
   "id": "4ae4ab8e",
   "metadata": {},
   "source": [
    "### Load in the processed review data"
   ]
  },
  {
   "cell_type": "markdown",
   "id": "ccd2bd89",
   "metadata": {},
   "source": [
    "### Transform all the review text to a vector"
   ]
  },
  {
   "cell_type": "markdown",
   "id": "43723ff1",
   "metadata": {},
   "source": [
    "### Combine with numeric features"
   ]
  },
  {
   "cell_type": "markdown",
   "id": "afbfb82a",
   "metadata": {},
   "source": [
    "### Combine with meta data features based on ASIN"
   ]
  },
  {
   "cell_type": "markdown",
   "id": "7cb3642f",
   "metadata": {},
   "source": [
    "### Use cosine similarity"
   ]
  },
  {
   "cell_type": "markdown",
   "id": "94489094",
   "metadata": {},
   "source": [
    "### Test out recommendation system"
   ]
  },
  {
   "cell_type": "code",
   "execution_count": null,
   "id": "9029b224",
   "metadata": {},
   "outputs": [],
   "source": []
  },
  {
   "cell_type": "code",
   "execution_count": null,
   "id": "fdc9a1eb",
   "metadata": {},
   "outputs": [],
   "source": []
  },
  {
   "cell_type": "code",
   "execution_count": null,
   "id": "24eea6dc",
   "metadata": {},
   "outputs": [],
   "source": [
    "from sklearn.pipeline import Pipeline\n",
    "from sklearn.model_selection import GridSearchCV\n",
    "\n",
    "estimators = [('normalize', StandardScaler()),\n",
    "             ('svm', )]"
   ]
  },
  {
   "cell_type": "markdown",
   "id": "edf15d72",
   "metadata": {},
   "source": [
    "Use grid search to determine the best model and hyperparameter"
   ]
  },
  {
   "cell_type": "code",
   "execution_count": null,
   "id": "5c8fd555",
   "metadata": {},
   "outputs": [],
   "source": [
    "#review_transformed.toarray().sum(axis=0)"
   ]
  },
  {
   "cell_type": "code",
   "execution_count": null,
   "id": "940b607c",
   "metadata": {},
   "outputs": [],
   "source": []
  },
  {
   "cell_type": "code",
   "execution_count": null,
   "id": "7ffad4db",
   "metadata": {
    "scrolled": true
   },
   "outputs": [],
   "source": [
    "from sklearn.svm import SVC\n",
    "\n",
    "# Instantiate\n",
    "svm_model = SVC(kernel='rbf')\n",
    "\n",
    "# Fit the model\n",
    "svm_model.fit(X_train_transformed,y_train)\n",
    "\n",
    "# Score the model\n",
    "print(f\"Train score: {svm_model.score(X_train_transformed,y_train)}\")\n",
    "print(f\"Train score: {svm_model.score(X_train_transformed,y_train)}\")\n",
    "print(f\"Test score: {svm_model.score(X_test_transformed,y_test)}\")"
   ]
  },
  {
   "cell_type": "markdown",
   "id": "21dceea5",
   "metadata": {},
   "source": [
    "## Support Vector Machine Classification"
   ]
  },
  {
   "cell_type": "code",
   "execution_count": null,
   "id": "b6db500c",
   "metadata": {
    "scrolled": true
   },
   "outputs": [],
   "source": [
    "from sklearn.tree import DecisionTreeClassifier\n",
    "\n",
    "# Instantiate\n",
    "decisiontree_model = DecisionTreeClassifier(max_depth = 25)\n",
    "\n",
    "# Fit the model\n",
    "decisiontree_model.fit(X_train_transformed,y_train)\n",
    "\n",
    "# Score the model\n",
    "print(f\"Train score: {decisiontree_model.score(X_train_transformed,y_train)}\")\n",
    "print(f\"Test score: {decisiontree_model.score(X_test_transformed,y_test)}\")"
   ]
  },
  {
   "cell_type": "markdown",
   "id": "8f50d9b5",
   "metadata": {},
   "source": [
    "## Decision Tree Classification"
   ]
  },
  {
   "cell_type": "code",
   "execution_count": null,
   "id": "9732e105",
   "metadata": {},
   "outputs": [],
   "source": [
    "# Instantiate\n",
    "logreg = LogisticRegression(C = 0.1)\n",
    "\n",
    "# Fit the model\n",
    "logreg.fit(X_train_scaled,y_train)\n",
    "\n",
    "# Score the model\n",
    "print(f\"Train score: {logreg.score(X_train_scaled,y_train)}\")\n",
    "print(f\"Test score: {logreg.score(X_test_scaled,y_test)}\")"
   ]
  },
  {
   "cell_type": "markdown",
   "id": "a954fee6",
   "metadata": {},
   "source": [
    "## Logistic Regression"
   ]
  },
  {
   "cell_type": "code",
   "execution_count": null,
   "id": "e165ab67",
   "metadata": {},
   "outputs": [],
   "source": [
    "# from sklearn.preprocessing import StandardScaler\n",
    "\n",
    "# # Instantiate\n",
    "# standscaler = StandardScaler()\n",
    "# standscaler.fit(X_train_transformed)\n",
    "\n",
    "# X_train_scaled = standscaler.transform(X_train_transformed)"
   ]
  },
  {
   "cell_type": "markdown",
   "id": "ccb35e1e",
   "metadata": {},
   "source": [
    "**REMEMBER TO SCALE THE DATA**"
   ]
  },
  {
   "cell_type": "code",
   "execution_count": null,
   "id": "40a61ec8",
   "metadata": {},
   "outputs": [],
   "source": []
  },
  {
   "cell_type": "code",
   "execution_count": null,
   "id": "1becb0c2",
   "metadata": {},
   "outputs": [],
   "source": []
  },
  {
   "cell_type": "markdown",
   "id": "1b3673bf",
   "metadata": {},
   "source": [
    "# 5. Advanced Models <a class ='anchor' id='5AdvancedModels'></a>"
   ]
  },
  {
   "cell_type": "code",
   "execution_count": null,
   "id": "43c5f78f",
   "metadata": {},
   "outputs": [],
   "source": [
    "X_train_transformed.shape"
   ]
  },
  {
   "cell_type": "code",
   "execution_count": null,
   "id": "ce2b029e",
   "metadata": {},
   "outputs": [],
   "source": []
  },
  {
   "cell_type": "code",
   "execution_count": null,
   "id": "4e9c2429",
   "metadata": {},
   "outputs": [],
   "source": [
    "X_train_transformed = X_train_transformed.toarray()\n",
    "X_test_transformed = X_test_transformed.toarray()"
   ]
  },
  {
   "cell_type": "code",
   "execution_count": null,
   "id": "5a730d77",
   "metadata": {
    "scrolled": true
   },
   "outputs": [],
   "source": [
    "word_counts = pd.DataFrame({\"counts\":X_train_transformed.toarray().sum(axis=0)},\n",
    "                          index = review_wordbank.get_feature_names()\n",
    "                          ).sort_values(\"counts\",ascending= False)\n",
    "\n",
    "word_counts.head(20).plot(kind=\"bar\",figsize=(15,5), legend = False)\n",
    "\n",
    "plt.show()"
   ]
  },
  {
   "cell_type": "code",
   "execution_count": null,
   "id": "e7ed13f0",
   "metadata": {},
   "outputs": [],
   "source": [
    "prelim_df = pd.DataFrame(columns = review_wordbank.get_feature_names(),data = X_train_transformed.toarray())\n",
    "display(prelim_df)"
   ]
  },
  {
   "cell_type": "code",
   "execution_count": null,
   "id": "4e54dacc",
   "metadata": {
    "scrolled": true
   },
   "outputs": [],
   "source": [
    "X_train_transformed.toarray().sum(axis=0)"
   ]
  },
  {
   "cell_type": "markdown",
   "id": "0b4f15a7",
   "metadata": {},
   "source": [
    "After preliminary vectorization with countvectorizer(), 66915 rows of reviews returned 15623 unique terms or tokens."
   ]
  },
  {
   "cell_type": "code",
   "execution_count": null,
   "id": "214935b9",
   "metadata": {},
   "outputs": [],
   "source": [
    "# Instantiate \n",
    "# Discard stop words and words need to be in atleast 10 reviews\n",
    "review_wordbank = CountVectorizer(stop_words = \"english\", min_df = 100)\n",
    "\n",
    "# Fit the first 200000 reviews\n",
    "review_wordbank.fit(X_train['reviewText'])\n",
    "\n",
    "# 3. Transform\n",
    "X_train_transformed = review_wordbank.transform(X_train['reviewText'])\n",
    "X_validation_transformed = review_wordbank.transform(X_validation['reviewText'])\n",
    "X_test_transformed = review_wordbank.transform(X_test['reviewText'])\n",
    "X_train_transformed"
   ]
  },
  {
   "cell_type": "markdown",
   "id": "e38b01f9",
   "metadata": {},
   "source": [
    "## Convert the text in the reviewText column to vectors"
   ]
  },
  {
   "cell_type": "code",
   "execution_count": null,
   "id": "c8c65469",
   "metadata": {},
   "outputs": [],
   "source": [
    "X_train.shape"
   ]
  },
  {
   "cell_type": "markdown",
   "id": "1a72d0b6",
   "metadata": {},
   "source": [
    "# 4. Set up NLP analysis <a class ='anchor' id='3NLP'></a>"
   ]
  },
  {
   "cell_type": "markdown",
   "id": "4e93b453",
   "metadata": {},
   "source": [
    "The testing data contains 82.1% of positive reviews which means that the data is highly skewed towards positive reviews. There is a 82.1% chance of predicting the review sentiment correctly if every prediction made was positive."
   ]
  },
  {
   "cell_type": "code",
   "execution_count": null,
   "id": "ae6cb361",
   "metadata": {
    "scrolled": true
   },
   "outputs": [],
   "source": [
    "y_test.value_counts()/y_test.shape[0]"
   ]
  },
  {
   "cell_type": "markdown",
   "id": "7c9b0e10",
   "metadata": {},
   "source": [
    "The training data contains 82.1% of positive reviews which means that the data is highly skewed towards positive reviews. There is a 82.1% chance of predicting the review sentiment correctly if every prediction made was positive."
   ]
  },
  {
   "cell_type": "code",
   "execution_count": null,
   "id": "924d9d38",
   "metadata": {},
   "outputs": [],
   "source": [
    "y_train_val.value_counts()/y_train.shape[0]"
   ]
  },
  {
   "cell_type": "markdown",
   "id": "8b29d22c",
   "metadata": {},
   "source": [
    "Check the split of the data for the train and test set"
   ]
  },
  {
   "cell_type": "code",
   "execution_count": null,
   "id": "1927a881",
   "metadata": {},
   "outputs": [],
   "source": [
    "#Set up data for training, validation and testing\n",
    "X = subsample.drop(columns = ['review_class', 'reviewScore'])\n",
    "y = subsample['review_class']\n",
    "\n",
    "# Stratify ensures that both the train and test set includes all the classes in the data\n",
    "X_train_val, X_test, y_train_val, y_test = train_test_split(X,y, test_size = 0.25, stratify = y)\n"
   ]
  },
  {
   "cell_type": "code",
   "execution_count": null,
   "id": "a01252a3",
   "metadata": {},
   "outputs": [],
   "source": [
    "subsample = review_df.sample(frac = 0.05)\n",
    "\n",
    "# Check results\n",
    "subsample"
   ]
  },
  {
   "cell_type": "code",
   "execution_count": null,
   "id": "0f3cdc79",
   "metadata": {},
   "outputs": [],
   "source": [
    "review_df.shape"
   ]
  },
  {
   "cell_type": "markdown",
   "id": "86e87585",
   "metadata": {},
   "source": [
    "Since the dataset is 2,000,000 rows, a smaller amount will be sampled for NLP analysis "
   ]
  },
  {
   "cell_type": "markdown",
   "id": "835de70e",
   "metadata": {},
   "source": [
    "# 3. Set up Train/Validation/Test split <a class ='anchor' id='4Test_Train'></a>"
   ]
  },
  {
   "cell_type": "markdown",
   "id": "13d979e6",
   "metadata": {},
   "source": [
    "The null values have been dropped since the dataframe now only contains 1997484 entries"
   ]
  },
  {
   "cell_type": "code",
   "execution_count": null,
   "id": "4ea6cb9c",
   "metadata": {},
   "outputs": [],
   "source": [
    "review_df.dropna(inplace = True)\n",
    "review_df.reset_index(drop=True, inplace= True)\n",
    "review_df.info(show_counts= True)"
   ]
  },
  {
   "cell_type": "markdown",
   "id": "598098a4",
   "metadata": {},
   "source": [
    "There seems to be 1497 NaN's in the `reviewText` column, since the NLP model is dependent on the `reviewText` those rows will be dropped."
   ]
  },
  {
   "cell_type": "code",
   "execution_count": null,
   "id": "1982e93a",
   "metadata": {},
   "outputs": [],
   "source": [
    "review_df.isna().sum()"
   ]
  },
  {
   "cell_type": "markdown",
   "id": "96de63e2",
   "metadata": {},
   "source": [
    "Check the number of NaN values in the dataframe"
   ]
  },
  {
   "cell_type": "markdown",
   "id": "c7e82655",
   "metadata": {},
   "source": [
    "### Remove any NaNs in the dataframe"
   ]
  },
  {
   "cell_type": "markdown",
   "id": "01588aa4",
   "metadata": {},
   "source": [
    "1365 entries has been dropped."
   ]
  },
  {
   "cell_type": "code",
   "execution_count": null,
   "id": "94fbf32f",
   "metadata": {},
   "outputs": [],
   "source": [
    "review_df.drop_duplicates(inplace = True, ignore_index = True)\n",
    "review_df.info()"
   ]
  },
  {
   "cell_type": "markdown",
   "id": "920477b5",
   "metadata": {},
   "source": [
    "The votes have now all been converted to numbers and the datatype can now be changed."
   ]
  },
  {
   "cell_type": "markdown",
   "id": "a13f899c",
   "metadata": {},
   "source": [
    "## 2.4 Drop any duplicates and NaNs in the dataframe <a class ='anchor' id='2_4Drop'></a>"
   ]
  },
  {
   "cell_type": "code",
   "execution_count": null,
   "id": "a99e7570",
   "metadata": {
    "scrolled": true
   },
   "outputs": [],
   "source": [
    "review_df['vote'] = review_df['vote'].astype('int32')\n",
    "review_df.info(show_counts= True)"
   ]
  },
  {
   "cell_type": "code",
   "execution_count": null,
   "id": "8203861a",
   "metadata": {},
   "outputs": [],
   "source": [
    "review_df['vote'] = review_df['vote'].str.replace(r\"\\,\",\"\",regex = True)\n",
    "review_df['vote'] = review_df['vote'].fillna(0)\n",
    "review_df.head()"
   ]
  },
  {
   "cell_type": "markdown",
   "id": "3ff87659",
   "metadata": {},
   "source": [
    "For the `vote` column, since the NaN values are essentially no votes with can be represented with 0, the NaN values will be replaced with a zero. There are also commas within the vote that causes problems when converted to an int so they will be removed."
   ]
  },
  {
   "cell_type": "markdown",
   "id": "bd56a941",
   "metadata": {},
   "source": [
    "## 2.3 Check the datatype in the column `Vote`<a class ='anchor' id='2_3Vote'></a>"
   ]
  },
  {
   "cell_type": "markdown",
   "id": "4eb93488",
   "metadata": {},
   "source": [
    "This new `review_class` column will be used for the logistic regression with the sentiment from the `reviewText`"
   ]
  },
  {
   "cell_type": "code",
   "execution_count": null,
   "id": "d4dd02c6",
   "metadata": {},
   "outputs": [],
   "source": [
    "review_df.head()"
   ]
  },
  {
   "cell_type": "code",
   "execution_count": null,
   "id": "b3cb7637",
   "metadata": {},
   "outputs": [],
   "source": [
    "review_df['review_class'] = np.where(review_df['reviewScore']>=4,1,0)"
   ]
  },
  {
   "cell_type": "markdown",
   "id": "88f63844",
   "metadata": {},
   "source": [
    "Split the reviewScore column to 'Good (value of 1)'  for reviews that are 4 or 5 and 'Bad (value of 0)' for reviews that are 1,2 or 3."
   ]
  },
  {
   "cell_type": "markdown",
   "id": "6ce3ee2e",
   "metadata": {},
   "source": [
    "## 2.2 Check the datatype in the column `reviewScore` <a class ='anchor' id='2_2Review'></a>"
   ]
  },
  {
   "cell_type": "code",
   "execution_count": null,
   "id": "f3114785",
   "metadata": {
    "scrolled": true
   },
   "outputs": [],
   "source": [
    "review_df['overall'] = review_df['overall'].astype('int8')\n",
    "review_df.rename(columns={'overall':'reviewScore'}, inplace = True)\n",
    "review_df"
   ]
  },
  {
   "cell_type": "markdown",
   "id": "ee7d61f3",
   "metadata": {},
   "source": [
    "It looks like the values for the overall column are contained between 1 and 5 which makes sense since its a review out of 5. All of these are also integers so the datatype can be changed to a int8 type. This column represents the review score so it will be renamed for clarity."
   ]
  },
  {
   "cell_type": "code",
   "execution_count": null,
   "id": "2975b9cc",
   "metadata": {},
   "outputs": [],
   "source": [
    "review_df['overall'].value_counts()"
   ]
  },
  {
   "cell_type": "markdown",
   "id": "843b97bf",
   "metadata": {},
   "source": [
    "## 2.1. Check the datatype in the column `overall`<a class ='anchor' id='2_1Overall'></a> "
   ]
  }
 ],
 "metadata": {
  "kernelspec": {
   "display_name": "Python 3 (ipykernel)",
   "language": "python",
   "name": "python3"
  },
  "language_info": {
   "codemirror_mode": {
    "name": "ipython",
    "version": 3
   },
   "file_extension": ".py",
   "mimetype": "text/x-python",
   "name": "python",
   "nbconvert_exporter": "python",
   "pygments_lexer": "ipython3",
   "version": "3.8.13"
  },
  "vscode": {
   "interpreter": {
    "hash": "b0b87898d849d5a7e2d74c069a53aa09ad9f1d9b21997adfe24015fe0f36f48c"
   }
  }
 },
 "nbformat": 4,
 "nbformat_minor": 5
}
