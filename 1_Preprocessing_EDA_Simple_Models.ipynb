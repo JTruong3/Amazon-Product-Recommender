{
 "cells": [
  {
   "cell_type": "markdown",
   "id": "62d3e56f",
   "metadata": {},
   "source": [
    "# 1 Preliminary Data Cleaning, Preprocessing, EDA, Simple Modelling"
   ]
  },
  {
   "cell_type": "markdown",
   "id": "3e2385e0",
   "metadata": {},
   "source": [
    "- Author: Jason Truong\n",
    "- Last Modified: August 26, 2022\n",
    "- Email: Jasontruong19@gmail.com"
   ]
  },
  {
   "cell_type": "markdown",
   "id": "38a88bb5",
   "metadata": {},
   "source": [
    "# Table of Contents\n",
    "\n",
    "1. [Objective and Roadmap](#1Objective)  \n",
    "2. [Preliminary Data Cleaning](#2Preliminary)  \n",
    "    2.1. [Preprocessing: 'Overall'](#2_1Overall)  \n",
    "    2.2. [Preprocessing: 'reviewScore'](#2_2Review)  \n",
    "    2.3. [Preprocessing: 'Vote'](#2_3Vote)  \n",
    "    2.4. [Drop duplicates and NaNs](#2_4Drop)  \n",
    "3. [Exploratory Data Analysis](#3EDA)  \n",
    "4. [Simple Modeling](#4Simple_Model)  "
   ]
  },
  {
   "cell_type": "markdown",
   "id": "86751a2c",
   "metadata": {},
   "source": [
    "# 1. Objective and Roadmap<a class ='anchor' id='1Objective'></a>"
   ]
  },
  {
   "cell_type": "markdown",
   "id": "273c72b6",
   "metadata": {},
   "source": [
    "\n",
    "**Goal 1:** Preprocess and finish cleaning the review data   \n",
    "**Goal 2:** Simple Exploratory data analysis and modelling\n",
    "\n",
    "Data analysis Roadmap:\n",
    "1. Load in the data\n",
    "2. Clean data\n",
    "    - Check for nulls\n",
    "    - Unpack any\n",
    "3. Preprocessing\n",
    "4. EDA"
   ]
  },
  {
   "cell_type": "markdown",
   "id": "b9bd39bf",
   "metadata": {},
   "source": [
    "# 2. Preliminary Data Cleaning <a class ='anchor' id='2Preliminary'></a>"
   ]
  },
  {
   "cell_type": "code",
   "execution_count": 1,
   "id": "5dd532af",
   "metadata": {},
   "outputs": [],
   "source": [
    "# Import necessary packages.\n",
    "import json\n",
    "import pandas as pd\n",
    "import numpy as np\n",
    "import matplotlib.pyplot as plt\n",
    "import seaborn as sns\n",
    "import statsmodels.api as sm\n",
    "from datetime import datetime"
   ]
  },
  {
   "cell_type": "markdown",
   "id": "20aa50b6",
   "metadata": {},
   "source": [
    "Since the dataset contains 8.9 million rows of data and is 5.2 gbs, only a small subset of the data will be loaded in first."
   ]
  },
  {
   "cell_type": "markdown",
   "id": "44c2b140",
   "metadata": {},
   "source": [
    "Load in the dataset"
   ]
  },
  {
   "cell_type": "code",
   "execution_count": 2,
   "id": "2cc7464f",
   "metadata": {},
   "outputs": [],
   "source": [
    "review_data = []\n",
    "with open('Movies_and_TV.json','r') as metafile:\n",
    "    for x in range(2000000):\n",
    "        review_data.append(json.loads(next(metafile)))"
   ]
  },
  {
   "cell_type": "markdown",
   "id": "9b99a64d",
   "metadata": {},
   "source": [
    "Create the dataframe and explore the data"
   ]
  },
  {
   "cell_type": "code",
   "execution_count": 3,
   "id": "6ae62880",
   "metadata": {},
   "outputs": [],
   "source": [
    "review_df = pd.DataFrame(review_data)"
   ]
  },
  {
   "cell_type": "code",
   "execution_count": 4,
   "id": "6b59171f",
   "metadata": {},
   "outputs": [
    {
     "name": "stdout",
     "output_type": "stream",
     "text": [
      "<class 'pandas.core.frame.DataFrame'>\n",
      "RangeIndex: 2000000 entries, 0 to 1999999\n",
      "Data columns (total 12 columns):\n",
      " #   Column          Non-Null Count    Dtype  \n",
      "---  ------          --------------    -----  \n",
      " 0   overall         2000000 non-null  float64\n",
      " 1   verified        2000000 non-null  bool   \n",
      " 2   reviewTime      2000000 non-null  object \n",
      " 3   reviewerID      2000000 non-null  object \n",
      " 4   asin            2000000 non-null  object \n",
      " 5   style           1869058 non-null  object \n",
      " 6   reviewerName    1999947 non-null  object \n",
      " 7   reviewText      1998502 non-null  object \n",
      " 8   summary         1999606 non-null  object \n",
      " 9   unixReviewTime  2000000 non-null  int64  \n",
      " 10  vote            413317 non-null   object \n",
      " 11  image           2912 non-null     object \n",
      "dtypes: bool(1), float64(1), int64(1), object(9)\n",
      "memory usage: 169.8+ MB\n"
     ]
    }
   ],
   "source": [
    "review_df.info(show_counts= True)"
   ]
  },
  {
   "cell_type": "markdown",
   "id": "d9d7c071",
   "metadata": {},
   "source": [
    "There are 12 columns of data and some datatypes can be changed to take up less space when storing the data"
   ]
  },
  {
   "cell_type": "code",
   "execution_count": 5,
   "id": "77e02091",
   "metadata": {},
   "outputs": [
    {
     "data": {
      "text/html": [
       "<div>\n",
       "<style scoped>\n",
       "    .dataframe tbody tr th:only-of-type {\n",
       "        vertical-align: middle;\n",
       "    }\n",
       "\n",
       "    .dataframe tbody tr th {\n",
       "        vertical-align: top;\n",
       "    }\n",
       "\n",
       "    .dataframe thead th {\n",
       "        text-align: right;\n",
       "    }\n",
       "</style>\n",
       "<table border=\"1\" class=\"dataframe\">\n",
       "  <thead>\n",
       "    <tr style=\"text-align: right;\">\n",
       "      <th></th>\n",
       "      <th>overall</th>\n",
       "      <th>verified</th>\n",
       "      <th>reviewTime</th>\n",
       "      <th>reviewerID</th>\n",
       "      <th>asin</th>\n",
       "      <th>style</th>\n",
       "      <th>reviewerName</th>\n",
       "      <th>reviewText</th>\n",
       "      <th>summary</th>\n",
       "      <th>unixReviewTime</th>\n",
       "      <th>vote</th>\n",
       "      <th>image</th>\n",
       "    </tr>\n",
       "  </thead>\n",
       "  <tbody>\n",
       "    <tr>\n",
       "      <th>0</th>\n",
       "      <td>5.0</td>\n",
       "      <td>True</td>\n",
       "      <td>03 11, 2013</td>\n",
       "      <td>A3478QRKQDOPQ2</td>\n",
       "      <td>0001527665</td>\n",
       "      <td>{'Format:': ' VHS Tape'}</td>\n",
       "      <td>jacki</td>\n",
       "      <td>really happy they got evangelised .. spoiler a...</td>\n",
       "      <td>great</td>\n",
       "      <td>1362960000</td>\n",
       "      <td>NaN</td>\n",
       "      <td>NaN</td>\n",
       "    </tr>\n",
       "    <tr>\n",
       "      <th>1</th>\n",
       "      <td>5.0</td>\n",
       "      <td>True</td>\n",
       "      <td>02 18, 2013</td>\n",
       "      <td>A2VHSG6TZHU1OB</td>\n",
       "      <td>0001527665</td>\n",
       "      <td>{'Format:': ' Amazon Video'}</td>\n",
       "      <td>Ken P</td>\n",
       "      <td>Having lived in West New Guinea (Papua) during...</td>\n",
       "      <td>Realistic and Accurate</td>\n",
       "      <td>1361145600</td>\n",
       "      <td>3</td>\n",
       "      <td>NaN</td>\n",
       "    </tr>\n",
       "    <tr>\n",
       "      <th>2</th>\n",
       "      <td>5.0</td>\n",
       "      <td>False</td>\n",
       "      <td>01 17, 2013</td>\n",
       "      <td>A23EJWOW1TLENE</td>\n",
       "      <td>0001527665</td>\n",
       "      <td>{'Format:': ' Amazon Video'}</td>\n",
       "      <td>Reina Berumen</td>\n",
       "      <td>Excellent look into contextualizing the Gospel...</td>\n",
       "      <td>Peace Child</td>\n",
       "      <td>1358380800</td>\n",
       "      <td>NaN</td>\n",
       "      <td>NaN</td>\n",
       "    </tr>\n",
       "    <tr>\n",
       "      <th>3</th>\n",
       "      <td>5.0</td>\n",
       "      <td>True</td>\n",
       "      <td>01 10, 2013</td>\n",
       "      <td>A1KM9FNEJ8Q171</td>\n",
       "      <td>0001527665</td>\n",
       "      <td>{'Format:': ' Amazon Video'}</td>\n",
       "      <td>N Coyle</td>\n",
       "      <td>More than anything, I've been challenged to fi...</td>\n",
       "      <td>Culturally relevant ways to share the love of ...</td>\n",
       "      <td>1357776000</td>\n",
       "      <td>NaN</td>\n",
       "      <td>NaN</td>\n",
       "    </tr>\n",
       "    <tr>\n",
       "      <th>4</th>\n",
       "      <td>4.0</td>\n",
       "      <td>True</td>\n",
       "      <td>12 26, 2012</td>\n",
       "      <td>A38LY2SSHVHRYB</td>\n",
       "      <td>0001527665</td>\n",
       "      <td>{'Format:': ' Amazon Video'}</td>\n",
       "      <td>Jodie Vesely</td>\n",
       "      <td>This is a great movie for a missionary going i...</td>\n",
       "      <td>Good Movie! Great for cross-cultural missionar...</td>\n",
       "      <td>1356480000</td>\n",
       "      <td>NaN</td>\n",
       "      <td>NaN</td>\n",
       "    </tr>\n",
       "  </tbody>\n",
       "</table>\n",
       "</div>"
      ],
      "text/plain": [
       "   overall  verified   reviewTime      reviewerID        asin  \\\n",
       "0      5.0      True  03 11, 2013  A3478QRKQDOPQ2  0001527665   \n",
       "1      5.0      True  02 18, 2013  A2VHSG6TZHU1OB  0001527665   \n",
       "2      5.0     False  01 17, 2013  A23EJWOW1TLENE  0001527665   \n",
       "3      5.0      True  01 10, 2013  A1KM9FNEJ8Q171  0001527665   \n",
       "4      4.0      True  12 26, 2012  A38LY2SSHVHRYB  0001527665   \n",
       "\n",
       "                          style   reviewerName  \\\n",
       "0      {'Format:': ' VHS Tape'}          jacki   \n",
       "1  {'Format:': ' Amazon Video'}          Ken P   \n",
       "2  {'Format:': ' Amazon Video'}  Reina Berumen   \n",
       "3  {'Format:': ' Amazon Video'}        N Coyle   \n",
       "4  {'Format:': ' Amazon Video'}   Jodie Vesely   \n",
       "\n",
       "                                          reviewText  \\\n",
       "0  really happy they got evangelised .. spoiler a...   \n",
       "1  Having lived in West New Guinea (Papua) during...   \n",
       "2  Excellent look into contextualizing the Gospel...   \n",
       "3  More than anything, I've been challenged to fi...   \n",
       "4  This is a great movie for a missionary going i...   \n",
       "\n",
       "                                             summary  unixReviewTime vote  \\\n",
       "0                                              great      1362960000  NaN   \n",
       "1                             Realistic and Accurate      1361145600    3   \n",
       "2                                        Peace Child      1358380800  NaN   \n",
       "3  Culturally relevant ways to share the love of ...      1357776000  NaN   \n",
       "4  Good Movie! Great for cross-cultural missionar...      1356480000  NaN   \n",
       "\n",
       "  image  \n",
       "0   NaN  \n",
       "1   NaN  \n",
       "2   NaN  \n",
       "3   NaN  \n",
       "4   NaN  "
      ]
     },
     "execution_count": 5,
     "metadata": {},
     "output_type": "execute_result"
    }
   ],
   "source": [
    "review_df.head()"
   ]
  },
  {
   "cell_type": "markdown",
   "id": "ade3f4bb",
   "metadata": {},
   "source": [
    "Looking at the columns, `reviewTime` and `unixReviewTime` display the same information so `reviewTime` will be dropped. (The numeric column is kept so that it can be used for regression models in the future.) The `reviewerName` does not provide any useful information since there is a unique `reviewerID` for each reviewer. Two reviewers can have the same name but may not be the same person. Thus `reviewerName` will be dropped. The `image` column can be dropped because this project will not deal with image data. "
   ]
  },
  {
   "cell_type": "markdown",
   "id": "c0990a66",
   "metadata": {},
   "source": [
    "Before the reviewername is dropped, it will be compared with the reviewerID column to ensure they contain the same information"
   ]
  },
  {
   "cell_type": "code",
   "execution_count": 6,
   "id": "1a9f8e4d",
   "metadata": {},
   "outputs": [
    {
     "data": {
      "text/plain": [
       "A16CZRQL23NOIW    978\n",
       "A2NJO6YE954DBH    920\n",
       "ANCOMAI0I7LVG     876\n",
       "A3LZGLA88K0LA0    745\n",
       "A1GGOC9PVDXW7Z    745\n",
       "                 ... \n",
       "A3BUAKVPE7ABR2      1\n",
       "A1YYNTB5IRZG7F      1\n",
       "A3P8F2SDDL1FWA      1\n",
       "AFCK7WLM0BDC1       1\n",
       "A2BIKHB6UWFJ7B      1\n",
       "Name: reviewerID, Length: 1184787, dtype: int64"
      ]
     },
     "execution_count": 6,
     "metadata": {},
     "output_type": "execute_result"
    }
   ],
   "source": [
    "review_df['reviewerID'].value_counts()"
   ]
  },
  {
   "cell_type": "code",
   "execution_count": 7,
   "id": "137b46e7",
   "metadata": {},
   "outputs": [
    {
     "data": {
      "text/plain": [
       "Amazon Customer     116732\n",
       "Kindle Customer       9982\n",
       "Mike                  1880\n",
       "John                  1879\n",
       "Chris                 1632\n",
       "                     ...  \n",
       "arizona1981              1\n",
       "yurguin A. slack         1\n",
       "lynn p foltz             1\n",
       "paul aygar               1\n",
       "B Movie Maniac           1\n",
       "Name: reviewerName, Length: 821904, dtype: int64"
      ]
     },
     "execution_count": 7,
     "metadata": {},
     "output_type": "execute_result"
    }
   ],
   "source": [
    "review_df['reviewerName'].value_counts()"
   ]
  },
  {
   "cell_type": "markdown",
   "id": "0cc2a360",
   "metadata": {},
   "source": [
    "The `reviewerID` and `reviewerName` column show differrent lengths. The `reviewerName` column contains less information than the `reviewerID` column because users can have the same names but reviewerID is unique. Thus reviewerID should be used."
   ]
  },
  {
   "cell_type": "code",
   "execution_count": 8,
   "id": "6e3ca678",
   "metadata": {},
   "outputs": [
    {
     "data": {
      "text/html": [
       "<div>\n",
       "<style scoped>\n",
       "    .dataframe tbody tr th:only-of-type {\n",
       "        vertical-align: middle;\n",
       "    }\n",
       "\n",
       "    .dataframe tbody tr th {\n",
       "        vertical-align: top;\n",
       "    }\n",
       "\n",
       "    .dataframe thead th {\n",
       "        text-align: right;\n",
       "    }\n",
       "</style>\n",
       "<table border=\"1\" class=\"dataframe\">\n",
       "  <thead>\n",
       "    <tr style=\"text-align: right;\">\n",
       "      <th></th>\n",
       "      <th>overall</th>\n",
       "      <th>verified</th>\n",
       "      <th>reviewerID</th>\n",
       "      <th>asin</th>\n",
       "      <th>style</th>\n",
       "      <th>reviewText</th>\n",
       "      <th>summary</th>\n",
       "      <th>unixReviewTime</th>\n",
       "      <th>vote</th>\n",
       "    </tr>\n",
       "  </thead>\n",
       "  <tbody>\n",
       "    <tr>\n",
       "      <th>0</th>\n",
       "      <td>5.0</td>\n",
       "      <td>True</td>\n",
       "      <td>A3478QRKQDOPQ2</td>\n",
       "      <td>0001527665</td>\n",
       "      <td>{'Format:': ' VHS Tape'}</td>\n",
       "      <td>really happy they got evangelised .. spoiler a...</td>\n",
       "      <td>great</td>\n",
       "      <td>1362960000</td>\n",
       "      <td>NaN</td>\n",
       "    </tr>\n",
       "    <tr>\n",
       "      <th>1</th>\n",
       "      <td>5.0</td>\n",
       "      <td>True</td>\n",
       "      <td>A2VHSG6TZHU1OB</td>\n",
       "      <td>0001527665</td>\n",
       "      <td>{'Format:': ' Amazon Video'}</td>\n",
       "      <td>Having lived in West New Guinea (Papua) during...</td>\n",
       "      <td>Realistic and Accurate</td>\n",
       "      <td>1361145600</td>\n",
       "      <td>3</td>\n",
       "    </tr>\n",
       "    <tr>\n",
       "      <th>2</th>\n",
       "      <td>5.0</td>\n",
       "      <td>False</td>\n",
       "      <td>A23EJWOW1TLENE</td>\n",
       "      <td>0001527665</td>\n",
       "      <td>{'Format:': ' Amazon Video'}</td>\n",
       "      <td>Excellent look into contextualizing the Gospel...</td>\n",
       "      <td>Peace Child</td>\n",
       "      <td>1358380800</td>\n",
       "      <td>NaN</td>\n",
       "    </tr>\n",
       "    <tr>\n",
       "      <th>3</th>\n",
       "      <td>5.0</td>\n",
       "      <td>True</td>\n",
       "      <td>A1KM9FNEJ8Q171</td>\n",
       "      <td>0001527665</td>\n",
       "      <td>{'Format:': ' Amazon Video'}</td>\n",
       "      <td>More than anything, I've been challenged to fi...</td>\n",
       "      <td>Culturally relevant ways to share the love of ...</td>\n",
       "      <td>1357776000</td>\n",
       "      <td>NaN</td>\n",
       "    </tr>\n",
       "    <tr>\n",
       "      <th>4</th>\n",
       "      <td>4.0</td>\n",
       "      <td>True</td>\n",
       "      <td>A38LY2SSHVHRYB</td>\n",
       "      <td>0001527665</td>\n",
       "      <td>{'Format:': ' Amazon Video'}</td>\n",
       "      <td>This is a great movie for a missionary going i...</td>\n",
       "      <td>Good Movie! Great for cross-cultural missionar...</td>\n",
       "      <td>1356480000</td>\n",
       "      <td>NaN</td>\n",
       "    </tr>\n",
       "    <tr>\n",
       "      <th>...</th>\n",
       "      <td>...</td>\n",
       "      <td>...</td>\n",
       "      <td>...</td>\n",
       "      <td>...</td>\n",
       "      <td>...</td>\n",
       "      <td>...</td>\n",
       "      <td>...</td>\n",
       "      <td>...</td>\n",
       "      <td>...</td>\n",
       "    </tr>\n",
       "    <tr>\n",
       "      <th>1999995</th>\n",
       "      <td>5.0</td>\n",
       "      <td>True</td>\n",
       "      <td>A1UM0LZVGQ4RYX</td>\n",
       "      <td>B0001GF2F6</td>\n",
       "      <td>{'Format:': ' Amazon Video'}</td>\n",
       "      <td>Loved it want to see more</td>\n",
       "      <td>Five Stars</td>\n",
       "      <td>1440979200</td>\n",
       "      <td>NaN</td>\n",
       "    </tr>\n",
       "    <tr>\n",
       "      <th>1999996</th>\n",
       "      <td>5.0</td>\n",
       "      <td>True</td>\n",
       "      <td>A3MWE7P29CDR5L</td>\n",
       "      <td>B0001GF2F6</td>\n",
       "      <td>{'Format:': ' Amazon Video'}</td>\n",
       "      <td>Loved it wish it was more than two seasons.</td>\n",
       "      <td>Five Stars</td>\n",
       "      <td>1440979200</td>\n",
       "      <td>NaN</td>\n",
       "    </tr>\n",
       "    <tr>\n",
       "      <th>1999997</th>\n",
       "      <td>5.0</td>\n",
       "      <td>True</td>\n",
       "      <td>A3J6N3SOCENIPB</td>\n",
       "      <td>B0001GF2F6</td>\n",
       "      <td>{'Format:': ' Amazon Video'}</td>\n",
       "      <td>Such a witty show with good acting. This show ...</td>\n",
       "      <td>Dark humor with lessons about life.</td>\n",
       "      <td>1440892800</td>\n",
       "      <td>NaN</td>\n",
       "    </tr>\n",
       "    <tr>\n",
       "      <th>1999998</th>\n",
       "      <td>4.0</td>\n",
       "      <td>True</td>\n",
       "      <td>A5O06SYSW6V93</td>\n",
       "      <td>B0001GF2F6</td>\n",
       "      <td>{'Format:': ' Amazon Video'}</td>\n",
       "      <td>It's a weird (comical) look at Grim Reapers.</td>\n",
       "      <td>Four Stars</td>\n",
       "      <td>1440806400</td>\n",
       "      <td>NaN</td>\n",
       "    </tr>\n",
       "    <tr>\n",
       "      <th>1999999</th>\n",
       "      <td>4.0</td>\n",
       "      <td>True</td>\n",
       "      <td>A1KF85AQR11MDY</td>\n",
       "      <td>B0001GF2F6</td>\n",
       "      <td>{'Format:': ' Amazon Video'}</td>\n",
       "      <td>I don't get it. Are they all dead?</td>\n",
       "      <td>Four Stars</td>\n",
       "      <td>1440806400</td>\n",
       "      <td>NaN</td>\n",
       "    </tr>\n",
       "  </tbody>\n",
       "</table>\n",
       "<p>2000000 rows × 9 columns</p>\n",
       "</div>"
      ],
      "text/plain": [
       "         overall  verified      reviewerID        asin  \\\n",
       "0            5.0      True  A3478QRKQDOPQ2  0001527665   \n",
       "1            5.0      True  A2VHSG6TZHU1OB  0001527665   \n",
       "2            5.0     False  A23EJWOW1TLENE  0001527665   \n",
       "3            5.0      True  A1KM9FNEJ8Q171  0001527665   \n",
       "4            4.0      True  A38LY2SSHVHRYB  0001527665   \n",
       "...          ...       ...             ...         ...   \n",
       "1999995      5.0      True  A1UM0LZVGQ4RYX  B0001GF2F6   \n",
       "1999996      5.0      True  A3MWE7P29CDR5L  B0001GF2F6   \n",
       "1999997      5.0      True  A3J6N3SOCENIPB  B0001GF2F6   \n",
       "1999998      4.0      True   A5O06SYSW6V93  B0001GF2F6   \n",
       "1999999      4.0      True  A1KF85AQR11MDY  B0001GF2F6   \n",
       "\n",
       "                                style  \\\n",
       "0            {'Format:': ' VHS Tape'}   \n",
       "1        {'Format:': ' Amazon Video'}   \n",
       "2        {'Format:': ' Amazon Video'}   \n",
       "3        {'Format:': ' Amazon Video'}   \n",
       "4        {'Format:': ' Amazon Video'}   \n",
       "...                               ...   \n",
       "1999995  {'Format:': ' Amazon Video'}   \n",
       "1999996  {'Format:': ' Amazon Video'}   \n",
       "1999997  {'Format:': ' Amazon Video'}   \n",
       "1999998  {'Format:': ' Amazon Video'}   \n",
       "1999999  {'Format:': ' Amazon Video'}   \n",
       "\n",
       "                                                reviewText  \\\n",
       "0        really happy they got evangelised .. spoiler a...   \n",
       "1        Having lived in West New Guinea (Papua) during...   \n",
       "2        Excellent look into contextualizing the Gospel...   \n",
       "3        More than anything, I've been challenged to fi...   \n",
       "4        This is a great movie for a missionary going i...   \n",
       "...                                                    ...   \n",
       "1999995                          Loved it want to see more   \n",
       "1999996        Loved it wish it was more than two seasons.   \n",
       "1999997  Such a witty show with good acting. This show ...   \n",
       "1999998       It's a weird (comical) look at Grim Reapers.   \n",
       "1999999                 I don't get it. Are they all dead?   \n",
       "\n",
       "                                                   summary  unixReviewTime  \\\n",
       "0                                                    great      1362960000   \n",
       "1                                   Realistic and Accurate      1361145600   \n",
       "2                                              Peace Child      1358380800   \n",
       "3        Culturally relevant ways to share the love of ...      1357776000   \n",
       "4        Good Movie! Great for cross-cultural missionar...      1356480000   \n",
       "...                                                    ...             ...   \n",
       "1999995                                         Five Stars      1440979200   \n",
       "1999996                                         Five Stars      1440979200   \n",
       "1999997                Dark humor with lessons about life.      1440892800   \n",
       "1999998                                         Four Stars      1440806400   \n",
       "1999999                                         Four Stars      1440806400   \n",
       "\n",
       "        vote  \n",
       "0        NaN  \n",
       "1          3  \n",
       "2        NaN  \n",
       "3        NaN  \n",
       "4        NaN  \n",
       "...      ...  \n",
       "1999995  NaN  \n",
       "1999996  NaN  \n",
       "1999997  NaN  \n",
       "1999998  NaN  \n",
       "1999999  NaN  \n",
       "\n",
       "[2000000 rows x 9 columns]"
      ]
     },
     "execution_count": 8,
     "metadata": {},
     "output_type": "execute_result"
    }
   ],
   "source": [
    "# Drop the unnecessary columns\n",
    "review_df.drop(columns = ['reviewTime','reviewerName','image'],inplace = True)\n",
    "review_df"
   ]
  },
  {
   "cell_type": "code",
   "execution_count": 9,
   "id": "34bc338f",
   "metadata": {},
   "outputs": [
    {
     "name": "stdout",
     "output_type": "stream",
     "text": [
      "<class 'pandas.core.frame.DataFrame'>\n",
      "RangeIndex: 2000000 entries, 0 to 1999999\n",
      "Data columns (total 9 columns):\n",
      " #   Column          Dtype  \n",
      "---  ------          -----  \n",
      " 0   overall         float64\n",
      " 1   verified        bool   \n",
      " 2   reviewerID      object \n",
      " 3   asin            object \n",
      " 4   style           object \n",
      " 5   reviewText      object \n",
      " 6   summary         object \n",
      " 7   unixReviewTime  int64  \n",
      " 8   vote            object \n",
      "dtypes: bool(1), float64(1), int64(1), object(6)\n",
      "memory usage: 124.0+ MB\n"
     ]
    }
   ],
   "source": [
    "review_df.info()"
   ]
  },
  {
   "cell_type": "markdown",
   "id": "bf029da2",
   "metadata": {},
   "source": [
    "### Check the datatype in the column `overall`"
   ]
  },
  {
   "cell_type": "code",
   "execution_count": 10,
   "id": "455abb60",
   "metadata": {},
   "outputs": [
    {
     "data": {
      "text/plain": [
       "5.0    1304630\n",
       "4.0     340073\n",
       "3.0     151321\n",
       "1.0     123501\n",
       "2.0      80475\n",
       "Name: overall, dtype: int64"
      ]
     },
     "execution_count": 10,
     "metadata": {},
     "output_type": "execute_result"
    }
   ],
   "source": [
    "review_df['overall'].value_counts()"
   ]
  },
  {
   "cell_type": "markdown",
   "id": "c4713786",
   "metadata": {},
   "source": [
    "It looks like the values for the overall column are contained between 1 and 5 which makes sense since its a review out of 5. All of these are also integers so the datatype can be changed to a int8 type. This column represents the review score so it will be renamed for clarity."
   ]
  },
  {
   "cell_type": "code",
   "execution_count": 50,
   "id": "20f8c349",
   "metadata": {},
   "outputs": [
    {
     "data": {
      "text/html": [
       "<div>\n",
       "<style scoped>\n",
       "    .dataframe tbody tr th:only-of-type {\n",
       "        vertical-align: middle;\n",
       "    }\n",
       "\n",
       "    .dataframe tbody tr th {\n",
       "        vertical-align: top;\n",
       "    }\n",
       "\n",
       "    .dataframe thead th {\n",
       "        text-align: right;\n",
       "    }\n",
       "</style>\n",
       "<table border=\"1\" class=\"dataframe\">\n",
       "  <thead>\n",
       "    <tr style=\"text-align: right;\">\n",
       "      <th></th>\n",
       "      <th>reviewScore</th>\n",
       "      <th>verified</th>\n",
       "      <th>reviewerID</th>\n",
       "      <th>asin</th>\n",
       "      <th>unixReviewTime</th>\n",
       "      <th>vote</th>\n",
       "      <th>style_Amazon Video</th>\n",
       "      <th>style_Blu-ray</th>\n",
       "      <th>style_DVD</th>\n",
       "      <th>style_Other</th>\n",
       "      <th>style_VHS Tape</th>\n",
       "    </tr>\n",
       "  </thead>\n",
       "  <tbody>\n",
       "    <tr>\n",
       "      <th>0</th>\n",
       "      <td>5</td>\n",
       "      <td>True</td>\n",
       "      <td>A3478QRKQDOPQ2</td>\n",
       "      <td>0001527665</td>\n",
       "      <td>1362960000</td>\n",
       "      <td>0</td>\n",
       "      <td>0</td>\n",
       "      <td>0</td>\n",
       "      <td>0</td>\n",
       "      <td>0</td>\n",
       "      <td>1</td>\n",
       "    </tr>\n",
       "    <tr>\n",
       "      <th>1</th>\n",
       "      <td>5</td>\n",
       "      <td>True</td>\n",
       "      <td>A2VHSG6TZHU1OB</td>\n",
       "      <td>0001527665</td>\n",
       "      <td>1361145600</td>\n",
       "      <td>3</td>\n",
       "      <td>1</td>\n",
       "      <td>0</td>\n",
       "      <td>0</td>\n",
       "      <td>0</td>\n",
       "      <td>0</td>\n",
       "    </tr>\n",
       "    <tr>\n",
       "      <th>2</th>\n",
       "      <td>5</td>\n",
       "      <td>False</td>\n",
       "      <td>A23EJWOW1TLENE</td>\n",
       "      <td>0001527665</td>\n",
       "      <td>1358380800</td>\n",
       "      <td>0</td>\n",
       "      <td>1</td>\n",
       "      <td>0</td>\n",
       "      <td>0</td>\n",
       "      <td>0</td>\n",
       "      <td>0</td>\n",
       "    </tr>\n",
       "    <tr>\n",
       "      <th>3</th>\n",
       "      <td>5</td>\n",
       "      <td>True</td>\n",
       "      <td>A1KM9FNEJ8Q171</td>\n",
       "      <td>0001527665</td>\n",
       "      <td>1357776000</td>\n",
       "      <td>0</td>\n",
       "      <td>1</td>\n",
       "      <td>0</td>\n",
       "      <td>0</td>\n",
       "      <td>0</td>\n",
       "      <td>0</td>\n",
       "    </tr>\n",
       "    <tr>\n",
       "      <th>4</th>\n",
       "      <td>4</td>\n",
       "      <td>True</td>\n",
       "      <td>A38LY2SSHVHRYB</td>\n",
       "      <td>0001527665</td>\n",
       "      <td>1356480000</td>\n",
       "      <td>0</td>\n",
       "      <td>1</td>\n",
       "      <td>0</td>\n",
       "      <td>0</td>\n",
       "      <td>0</td>\n",
       "      <td>0</td>\n",
       "    </tr>\n",
       "    <tr>\n",
       "      <th>...</th>\n",
       "      <td>...</td>\n",
       "      <td>...</td>\n",
       "      <td>...</td>\n",
       "      <td>...</td>\n",
       "      <td>...</td>\n",
       "      <td>...</td>\n",
       "      <td>...</td>\n",
       "      <td>...</td>\n",
       "      <td>...</td>\n",
       "      <td>...</td>\n",
       "      <td>...</td>\n",
       "    </tr>\n",
       "    <tr>\n",
       "      <th>1998629</th>\n",
       "      <td>5</td>\n",
       "      <td>True</td>\n",
       "      <td>A1UM0LZVGQ4RYX</td>\n",
       "      <td>B0001GF2F6</td>\n",
       "      <td>1440979200</td>\n",
       "      <td>0</td>\n",
       "      <td>1</td>\n",
       "      <td>0</td>\n",
       "      <td>0</td>\n",
       "      <td>0</td>\n",
       "      <td>0</td>\n",
       "    </tr>\n",
       "    <tr>\n",
       "      <th>1998630</th>\n",
       "      <td>5</td>\n",
       "      <td>True</td>\n",
       "      <td>A3MWE7P29CDR5L</td>\n",
       "      <td>B0001GF2F6</td>\n",
       "      <td>1440979200</td>\n",
       "      <td>0</td>\n",
       "      <td>1</td>\n",
       "      <td>0</td>\n",
       "      <td>0</td>\n",
       "      <td>0</td>\n",
       "      <td>0</td>\n",
       "    </tr>\n",
       "    <tr>\n",
       "      <th>1998631</th>\n",
       "      <td>5</td>\n",
       "      <td>True</td>\n",
       "      <td>A3J6N3SOCENIPB</td>\n",
       "      <td>B0001GF2F6</td>\n",
       "      <td>1440892800</td>\n",
       "      <td>0</td>\n",
       "      <td>1</td>\n",
       "      <td>0</td>\n",
       "      <td>0</td>\n",
       "      <td>0</td>\n",
       "      <td>0</td>\n",
       "    </tr>\n",
       "    <tr>\n",
       "      <th>1998632</th>\n",
       "      <td>4</td>\n",
       "      <td>True</td>\n",
       "      <td>A5O06SYSW6V93</td>\n",
       "      <td>B0001GF2F6</td>\n",
       "      <td>1440806400</td>\n",
       "      <td>0</td>\n",
       "      <td>1</td>\n",
       "      <td>0</td>\n",
       "      <td>0</td>\n",
       "      <td>0</td>\n",
       "      <td>0</td>\n",
       "    </tr>\n",
       "    <tr>\n",
       "      <th>1998633</th>\n",
       "      <td>4</td>\n",
       "      <td>True</td>\n",
       "      <td>A1KF85AQR11MDY</td>\n",
       "      <td>B0001GF2F6</td>\n",
       "      <td>1440806400</td>\n",
       "      <td>0</td>\n",
       "      <td>1</td>\n",
       "      <td>0</td>\n",
       "      <td>0</td>\n",
       "      <td>0</td>\n",
       "      <td>0</td>\n",
       "    </tr>\n",
       "  </tbody>\n",
       "</table>\n",
       "<p>1998634 rows × 11 columns</p>\n",
       "</div>"
      ],
      "text/plain": [
       "         reviewScore  verified      reviewerID        asin  unixReviewTime  \\\n",
       "0                  5      True  A3478QRKQDOPQ2  0001527665      1362960000   \n",
       "1                  5      True  A2VHSG6TZHU1OB  0001527665      1361145600   \n",
       "2                  5     False  A23EJWOW1TLENE  0001527665      1358380800   \n",
       "3                  5      True  A1KM9FNEJ8Q171  0001527665      1357776000   \n",
       "4                  4      True  A38LY2SSHVHRYB  0001527665      1356480000   \n",
       "...              ...       ...             ...         ...             ...   \n",
       "1998629            5      True  A1UM0LZVGQ4RYX  B0001GF2F6      1440979200   \n",
       "1998630            5      True  A3MWE7P29CDR5L  B0001GF2F6      1440979200   \n",
       "1998631            5      True  A3J6N3SOCENIPB  B0001GF2F6      1440892800   \n",
       "1998632            4      True   A5O06SYSW6V93  B0001GF2F6      1440806400   \n",
       "1998633            4      True  A1KF85AQR11MDY  B0001GF2F6      1440806400   \n",
       "\n",
       "         vote  style_Amazon Video  style_Blu-ray  style_DVD  style_Other  \\\n",
       "0           0                   0              0          0            0   \n",
       "1           3                   1              0          0            0   \n",
       "2           0                   1              0          0            0   \n",
       "3           0                   1              0          0            0   \n",
       "4           0                   1              0          0            0   \n",
       "...       ...                 ...            ...        ...          ...   \n",
       "1998629     0                   1              0          0            0   \n",
       "1998630     0                   1              0          0            0   \n",
       "1998631     0                   1              0          0            0   \n",
       "1998632     0                   1              0          0            0   \n",
       "1998633     0                   1              0          0            0   \n",
       "\n",
       "         style_VHS Tape  \n",
       "0                     1  \n",
       "1                     0  \n",
       "2                     0  \n",
       "3                     0  \n",
       "4                     0  \n",
       "...                 ...  \n",
       "1998629               0  \n",
       "1998630               0  \n",
       "1998631               0  \n",
       "1998632               0  \n",
       "1998633               0  \n",
       "\n",
       "[1998634 rows x 11 columns]"
      ]
     },
     "execution_count": 50,
     "metadata": {},
     "output_type": "execute_result"
    }
   ],
   "source": [
    "review_df['overall'] = review_df['overall'].astype('int8')\n",
    "review_df.rename(columns={'overall':'reviewScore'}, inplace = True)\n",
    "review_df"
   ]
  },
  {
   "cell_type": "markdown",
   "id": "0ab8bcce",
   "metadata": {},
   "source": [
    "### Check the datatype in the column `Vote`"
   ]
  },
  {
   "cell_type": "markdown",
   "id": "b964c010",
   "metadata": {},
   "source": [
    "For the `vote` column, since the NaN values are essentially no votes with can be represented with 0, the NaN values will be replaced with a zero. There are also commas within the vote that causes problems when converted to an int so they will be removed."
   ]
  },
  {
   "cell_type": "code",
   "execution_count": 12,
   "id": "f8d14314",
   "metadata": {},
   "outputs": [
    {
     "data": {
      "text/html": [
       "<div>\n",
       "<style scoped>\n",
       "    .dataframe tbody tr th:only-of-type {\n",
       "        vertical-align: middle;\n",
       "    }\n",
       "\n",
       "    .dataframe tbody tr th {\n",
       "        vertical-align: top;\n",
       "    }\n",
       "\n",
       "    .dataframe thead th {\n",
       "        text-align: right;\n",
       "    }\n",
       "</style>\n",
       "<table border=\"1\" class=\"dataframe\">\n",
       "  <thead>\n",
       "    <tr style=\"text-align: right;\">\n",
       "      <th></th>\n",
       "      <th>overall</th>\n",
       "      <th>verified</th>\n",
       "      <th>reviewerID</th>\n",
       "      <th>asin</th>\n",
       "      <th>style</th>\n",
       "      <th>reviewText</th>\n",
       "      <th>summary</th>\n",
       "      <th>unixReviewTime</th>\n",
       "      <th>vote</th>\n",
       "    </tr>\n",
       "  </thead>\n",
       "  <tbody>\n",
       "    <tr>\n",
       "      <th>0</th>\n",
       "      <td>5</td>\n",
       "      <td>True</td>\n",
       "      <td>A3478QRKQDOPQ2</td>\n",
       "      <td>0001527665</td>\n",
       "      <td>{'Format:': ' VHS Tape'}</td>\n",
       "      <td>really happy they got evangelised .. spoiler a...</td>\n",
       "      <td>great</td>\n",
       "      <td>1362960000</td>\n",
       "      <td>0</td>\n",
       "    </tr>\n",
       "    <tr>\n",
       "      <th>1</th>\n",
       "      <td>5</td>\n",
       "      <td>True</td>\n",
       "      <td>A2VHSG6TZHU1OB</td>\n",
       "      <td>0001527665</td>\n",
       "      <td>{'Format:': ' Amazon Video'}</td>\n",
       "      <td>Having lived in West New Guinea (Papua) during...</td>\n",
       "      <td>Realistic and Accurate</td>\n",
       "      <td>1361145600</td>\n",
       "      <td>3</td>\n",
       "    </tr>\n",
       "    <tr>\n",
       "      <th>2</th>\n",
       "      <td>5</td>\n",
       "      <td>False</td>\n",
       "      <td>A23EJWOW1TLENE</td>\n",
       "      <td>0001527665</td>\n",
       "      <td>{'Format:': ' Amazon Video'}</td>\n",
       "      <td>Excellent look into contextualizing the Gospel...</td>\n",
       "      <td>Peace Child</td>\n",
       "      <td>1358380800</td>\n",
       "      <td>0</td>\n",
       "    </tr>\n",
       "    <tr>\n",
       "      <th>3</th>\n",
       "      <td>5</td>\n",
       "      <td>True</td>\n",
       "      <td>A1KM9FNEJ8Q171</td>\n",
       "      <td>0001527665</td>\n",
       "      <td>{'Format:': ' Amazon Video'}</td>\n",
       "      <td>More than anything, I've been challenged to fi...</td>\n",
       "      <td>Culturally relevant ways to share the love of ...</td>\n",
       "      <td>1357776000</td>\n",
       "      <td>0</td>\n",
       "    </tr>\n",
       "    <tr>\n",
       "      <th>4</th>\n",
       "      <td>4</td>\n",
       "      <td>True</td>\n",
       "      <td>A38LY2SSHVHRYB</td>\n",
       "      <td>0001527665</td>\n",
       "      <td>{'Format:': ' Amazon Video'}</td>\n",
       "      <td>This is a great movie for a missionary going i...</td>\n",
       "      <td>Good Movie! Great for cross-cultural missionar...</td>\n",
       "      <td>1356480000</td>\n",
       "      <td>0</td>\n",
       "    </tr>\n",
       "  </tbody>\n",
       "</table>\n",
       "</div>"
      ],
      "text/plain": [
       "   overall  verified      reviewerID        asin  \\\n",
       "0        5      True  A3478QRKQDOPQ2  0001527665   \n",
       "1        5      True  A2VHSG6TZHU1OB  0001527665   \n",
       "2        5     False  A23EJWOW1TLENE  0001527665   \n",
       "3        5      True  A1KM9FNEJ8Q171  0001527665   \n",
       "4        4      True  A38LY2SSHVHRYB  0001527665   \n",
       "\n",
       "                          style  \\\n",
       "0      {'Format:': ' VHS Tape'}   \n",
       "1  {'Format:': ' Amazon Video'}   \n",
       "2  {'Format:': ' Amazon Video'}   \n",
       "3  {'Format:': ' Amazon Video'}   \n",
       "4  {'Format:': ' Amazon Video'}   \n",
       "\n",
       "                                          reviewText  \\\n",
       "0  really happy they got evangelised .. spoiler a...   \n",
       "1  Having lived in West New Guinea (Papua) during...   \n",
       "2  Excellent look into contextualizing the Gospel...   \n",
       "3  More than anything, I've been challenged to fi...   \n",
       "4  This is a great movie for a missionary going i...   \n",
       "\n",
       "                                             summary  unixReviewTime vote  \n",
       "0                                              great      1362960000    0  \n",
       "1                             Realistic and Accurate      1361145600    3  \n",
       "2                                        Peace Child      1358380800    0  \n",
       "3  Culturally relevant ways to share the love of ...      1357776000    0  \n",
       "4  Good Movie! Great for cross-cultural missionar...      1356480000    0  "
      ]
     },
     "execution_count": 12,
     "metadata": {},
     "output_type": "execute_result"
    }
   ],
   "source": [
    "review_df['vote'] = review_df['vote'].str.replace(r\"\\,\",\"\",regex = True)\n",
    "review_df['vote'] = review_df['vote'].fillna(0)\n",
    "review_df.head()"
   ]
  },
  {
   "cell_type": "markdown",
   "id": "fdad3074",
   "metadata": {},
   "source": [
    "The votes have now all been converted to numbers and the datatype can now be changed."
   ]
  },
  {
   "cell_type": "code",
   "execution_count": 13,
   "id": "dad989b6",
   "metadata": {},
   "outputs": [
    {
     "name": "stdout",
     "output_type": "stream",
     "text": [
      "<class 'pandas.core.frame.DataFrame'>\n",
      "RangeIndex: 2000000 entries, 0 to 1999999\n",
      "Data columns (total 9 columns):\n",
      " #   Column          Dtype \n",
      "---  ------          ----- \n",
      " 0   overall         int8  \n",
      " 1   verified        bool  \n",
      " 2   reviewerID      object\n",
      " 3   asin            object\n",
      " 4   style           object\n",
      " 5   reviewText      object\n",
      " 6   summary         object\n",
      " 7   unixReviewTime  int64 \n",
      " 8   vote            int32 \n",
      "dtypes: bool(1), int32(1), int64(1), int8(1), object(5)\n",
      "memory usage: 103.0+ MB\n"
     ]
    }
   ],
   "source": [
    "review_df['vote'] = review_df['vote'].astype('int32')\n",
    "review_df.info()"
   ]
  },
  {
   "cell_type": "markdown",
   "id": "545f0886",
   "metadata": {},
   "source": [
    "### Check the datatype in the column `unixReviewTime`"
   ]
  },
  {
   "cell_type": "markdown",
   "id": "49b67259",
   "metadata": {},
   "source": [
    "The univReviewTime column can be converted to an int32 for the current project because the maximum int32 value will be reached in January, 2038 which has not occured yet. Thus the data is bound by int32 values."
   ]
  },
  {
   "cell_type": "code",
   "execution_count": 14,
   "id": "f2a9a578",
   "metadata": {},
   "outputs": [
    {
     "name": "stdout",
     "output_type": "stream",
     "text": [
      "<class 'pandas.core.frame.DataFrame'>\n",
      "RangeIndex: 2000000 entries, 0 to 1999999\n",
      "Data columns (total 9 columns):\n",
      " #   Column          Dtype \n",
      "---  ------          ----- \n",
      " 0   overall         int8  \n",
      " 1   verified        bool  \n",
      " 2   reviewerID      object\n",
      " 3   asin            object\n",
      " 4   style           object\n",
      " 5   reviewText      object\n",
      " 6   summary         object\n",
      " 7   unixReviewTime  int32 \n",
      " 8   vote            int32 \n",
      "dtypes: bool(1), int32(2), int8(1), object(5)\n",
      "memory usage: 95.4+ MB\n"
     ]
    }
   ],
   "source": [
    "review_df['unixReviewTime'] = review_df['unixReviewTime'].astype('int32')\n",
    "review_df.info()"
   ]
  },
  {
   "cell_type": "markdown",
   "id": "9a51826d",
   "metadata": {},
   "source": [
    "### Remove text data from the dataframe"
   ]
  },
  {
   "cell_type": "markdown",
   "id": "0d08eb81",
   "metadata": {},
   "source": [
    "Text data will be removed from the dataset for the initial analysis of the review data to try to predict the overall score given certain features of the review."
   ]
  },
  {
   "cell_type": "code",
   "execution_count": 15,
   "id": "03231ba5",
   "metadata": {},
   "outputs": [
    {
     "data": {
      "text/html": [
       "<div>\n",
       "<style scoped>\n",
       "    .dataframe tbody tr th:only-of-type {\n",
       "        vertical-align: middle;\n",
       "    }\n",
       "\n",
       "    .dataframe tbody tr th {\n",
       "        vertical-align: top;\n",
       "    }\n",
       "\n",
       "    .dataframe thead th {\n",
       "        text-align: right;\n",
       "    }\n",
       "</style>\n",
       "<table border=\"1\" class=\"dataframe\">\n",
       "  <thead>\n",
       "    <tr style=\"text-align: right;\">\n",
       "      <th></th>\n",
       "      <th>overall</th>\n",
       "      <th>verified</th>\n",
       "      <th>reviewerID</th>\n",
       "      <th>asin</th>\n",
       "      <th>style</th>\n",
       "      <th>unixReviewTime</th>\n",
       "      <th>vote</th>\n",
       "    </tr>\n",
       "  </thead>\n",
       "  <tbody>\n",
       "    <tr>\n",
       "      <th>0</th>\n",
       "      <td>5</td>\n",
       "      <td>True</td>\n",
       "      <td>A3478QRKQDOPQ2</td>\n",
       "      <td>0001527665</td>\n",
       "      <td>{'Format:': ' VHS Tape'}</td>\n",
       "      <td>1362960000</td>\n",
       "      <td>0</td>\n",
       "    </tr>\n",
       "    <tr>\n",
       "      <th>1</th>\n",
       "      <td>5</td>\n",
       "      <td>True</td>\n",
       "      <td>A2VHSG6TZHU1OB</td>\n",
       "      <td>0001527665</td>\n",
       "      <td>{'Format:': ' Amazon Video'}</td>\n",
       "      <td>1361145600</td>\n",
       "      <td>3</td>\n",
       "    </tr>\n",
       "    <tr>\n",
       "      <th>2</th>\n",
       "      <td>5</td>\n",
       "      <td>False</td>\n",
       "      <td>A23EJWOW1TLENE</td>\n",
       "      <td>0001527665</td>\n",
       "      <td>{'Format:': ' Amazon Video'}</td>\n",
       "      <td>1358380800</td>\n",
       "      <td>0</td>\n",
       "    </tr>\n",
       "    <tr>\n",
       "      <th>3</th>\n",
       "      <td>5</td>\n",
       "      <td>True</td>\n",
       "      <td>A1KM9FNEJ8Q171</td>\n",
       "      <td>0001527665</td>\n",
       "      <td>{'Format:': ' Amazon Video'}</td>\n",
       "      <td>1357776000</td>\n",
       "      <td>0</td>\n",
       "    </tr>\n",
       "    <tr>\n",
       "      <th>4</th>\n",
       "      <td>4</td>\n",
       "      <td>True</td>\n",
       "      <td>A38LY2SSHVHRYB</td>\n",
       "      <td>0001527665</td>\n",
       "      <td>{'Format:': ' Amazon Video'}</td>\n",
       "      <td>1356480000</td>\n",
       "      <td>0</td>\n",
       "    </tr>\n",
       "    <tr>\n",
       "      <th>...</th>\n",
       "      <td>...</td>\n",
       "      <td>...</td>\n",
       "      <td>...</td>\n",
       "      <td>...</td>\n",
       "      <td>...</td>\n",
       "      <td>...</td>\n",
       "      <td>...</td>\n",
       "    </tr>\n",
       "    <tr>\n",
       "      <th>1999995</th>\n",
       "      <td>5</td>\n",
       "      <td>True</td>\n",
       "      <td>A1UM0LZVGQ4RYX</td>\n",
       "      <td>B0001GF2F6</td>\n",
       "      <td>{'Format:': ' Amazon Video'}</td>\n",
       "      <td>1440979200</td>\n",
       "      <td>0</td>\n",
       "    </tr>\n",
       "    <tr>\n",
       "      <th>1999996</th>\n",
       "      <td>5</td>\n",
       "      <td>True</td>\n",
       "      <td>A3MWE7P29CDR5L</td>\n",
       "      <td>B0001GF2F6</td>\n",
       "      <td>{'Format:': ' Amazon Video'}</td>\n",
       "      <td>1440979200</td>\n",
       "      <td>0</td>\n",
       "    </tr>\n",
       "    <tr>\n",
       "      <th>1999997</th>\n",
       "      <td>5</td>\n",
       "      <td>True</td>\n",
       "      <td>A3J6N3SOCENIPB</td>\n",
       "      <td>B0001GF2F6</td>\n",
       "      <td>{'Format:': ' Amazon Video'}</td>\n",
       "      <td>1440892800</td>\n",
       "      <td>0</td>\n",
       "    </tr>\n",
       "    <tr>\n",
       "      <th>1999998</th>\n",
       "      <td>4</td>\n",
       "      <td>True</td>\n",
       "      <td>A5O06SYSW6V93</td>\n",
       "      <td>B0001GF2F6</td>\n",
       "      <td>{'Format:': ' Amazon Video'}</td>\n",
       "      <td>1440806400</td>\n",
       "      <td>0</td>\n",
       "    </tr>\n",
       "    <tr>\n",
       "      <th>1999999</th>\n",
       "      <td>4</td>\n",
       "      <td>True</td>\n",
       "      <td>A1KF85AQR11MDY</td>\n",
       "      <td>B0001GF2F6</td>\n",
       "      <td>{'Format:': ' Amazon Video'}</td>\n",
       "      <td>1440806400</td>\n",
       "      <td>0</td>\n",
       "    </tr>\n",
       "  </tbody>\n",
       "</table>\n",
       "<p>2000000 rows × 7 columns</p>\n",
       "</div>"
      ],
      "text/plain": [
       "         overall  verified      reviewerID        asin  \\\n",
       "0              5      True  A3478QRKQDOPQ2  0001527665   \n",
       "1              5      True  A2VHSG6TZHU1OB  0001527665   \n",
       "2              5     False  A23EJWOW1TLENE  0001527665   \n",
       "3              5      True  A1KM9FNEJ8Q171  0001527665   \n",
       "4              4      True  A38LY2SSHVHRYB  0001527665   \n",
       "...          ...       ...             ...         ...   \n",
       "1999995        5      True  A1UM0LZVGQ4RYX  B0001GF2F6   \n",
       "1999996        5      True  A3MWE7P29CDR5L  B0001GF2F6   \n",
       "1999997        5      True  A3J6N3SOCENIPB  B0001GF2F6   \n",
       "1999998        4      True   A5O06SYSW6V93  B0001GF2F6   \n",
       "1999999        4      True  A1KF85AQR11MDY  B0001GF2F6   \n",
       "\n",
       "                                style  unixReviewTime  vote  \n",
       "0            {'Format:': ' VHS Tape'}      1362960000     0  \n",
       "1        {'Format:': ' Amazon Video'}      1361145600     3  \n",
       "2        {'Format:': ' Amazon Video'}      1358380800     0  \n",
       "3        {'Format:': ' Amazon Video'}      1357776000     0  \n",
       "4        {'Format:': ' Amazon Video'}      1356480000     0  \n",
       "...                               ...             ...   ...  \n",
       "1999995  {'Format:': ' Amazon Video'}      1440979200     0  \n",
       "1999996  {'Format:': ' Amazon Video'}      1440979200     0  \n",
       "1999997  {'Format:': ' Amazon Video'}      1440892800     0  \n",
       "1999998  {'Format:': ' Amazon Video'}      1440806400     0  \n",
       "1999999  {'Format:': ' Amazon Video'}      1440806400     0  \n",
       "\n",
       "[2000000 rows x 7 columns]"
      ]
     },
     "execution_count": 15,
     "metadata": {},
     "output_type": "execute_result"
    }
   ],
   "source": [
    "review_df.drop(columns = ['reviewText','summary'],inplace = True)\n",
    "review_df"
   ]
  },
  {
   "cell_type": "code",
   "execution_count": 16,
   "id": "c0062fac",
   "metadata": {},
   "outputs": [
    {
     "name": "stdout",
     "output_type": "stream",
     "text": [
      "<class 'pandas.core.frame.DataFrame'>\n",
      "RangeIndex: 2000000 entries, 0 to 1999999\n",
      "Data columns (total 7 columns):\n",
      " #   Column          Dtype \n",
      "---  ------          ----- \n",
      " 0   overall         int8  \n",
      " 1   verified        bool  \n",
      " 2   reviewerID      object\n",
      " 3   asin            object\n",
      " 4   style           object\n",
      " 5   unixReviewTime  int32 \n",
      " 6   vote            int32 \n",
      "dtypes: bool(1), int32(2), int8(1), object(3)\n",
      "memory usage: 64.8+ MB\n"
     ]
    }
   ],
   "source": [
    "review_df.info()"
   ]
  },
  {
   "cell_type": "markdown",
   "id": "6d4a434a",
   "metadata": {},
   "source": [
    "### Check the datatype in the column `style`"
   ]
  },
  {
   "cell_type": "markdown",
   "id": "8f5dd8d3",
   "metadata": {},
   "source": [
    "The NaN values in the column `style` will be filled with 'other' since the values is unknown.\n",
    "The column style will be converted to strings so that a duplicate check can be performed for the dataset. (Converting to str, then removing the key for the dictionary is more computationally effective for getting the value in the key-value pair than looping through every individual key and accessing the value. *Note: the latter was tried and took 10 mins for 1 million key-value pairs. The former took <5s.)"
   ]
  },
  {
   "cell_type": "code",
   "execution_count": 17,
   "id": "562dab96",
   "metadata": {},
   "outputs": [],
   "source": [
    "review_df['style'] = review_df['style'].fillna('Unknown')"
   ]
  },
  {
   "cell_type": "code",
   "execution_count": 18,
   "id": "3428c925",
   "metadata": {},
   "outputs": [],
   "source": [
    "# Change values in the style column from dict to str\n",
    "review_df['style'] = review_df['style'].astype('str')"
   ]
  },
  {
   "cell_type": "code",
   "execution_count": 19,
   "id": "244f1c4a",
   "metadata": {},
   "outputs": [],
   "source": [
    "# Remove the keys in the key-value pair\n",
    "review_df['style'] = review_df['style'].str.replace(r\"{'Format:': ' \",\"\",regex = True)\n",
    "review_df['style'] = review_df['style'].str.replace(r\"'}\",\"\",regex = True)"
   ]
  },
  {
   "cell_type": "markdown",
   "id": "5177c795",
   "metadata": {},
   "source": [
    "Check results"
   ]
  },
  {
   "cell_type": "code",
   "execution_count": 20,
   "id": "dda0272f",
   "metadata": {},
   "outputs": [
    {
     "data": {
      "text/plain": [
       "0              VHS Tape\n",
       "1          Amazon Video\n",
       "2          Amazon Video\n",
       "3          Amazon Video\n",
       "4          Amazon Video\n",
       "               ...     \n",
       "1999995    Amazon Video\n",
       "1999996    Amazon Video\n",
       "1999997    Amazon Video\n",
       "1999998    Amazon Video\n",
       "1999999    Amazon Video\n",
       "Name: style, Length: 2000000, dtype: object"
      ]
     },
     "execution_count": 20,
     "metadata": {},
     "output_type": "execute_result"
    }
   ],
   "source": [
    "review_df['style']"
   ]
  },
  {
   "cell_type": "markdown",
   "id": "f6783738",
   "metadata": {},
   "source": [
    "The style column now contains the relavent data."
   ]
  },
  {
   "cell_type": "markdown",
   "id": "9fe41e94",
   "metadata": {},
   "source": [
    "Check which styles should be kept by checking the frequency of the different style entries"
   ]
  },
  {
   "cell_type": "code",
   "execution_count": 21,
   "id": "7f332737",
   "metadata": {
    "scrolled": true
   },
   "outputs": [
    {
     "data": {
      "text/plain": [
       "DVD                                953773\n",
       "Amazon Video                       679407\n",
       "Unknown                            130942\n",
       "Blu-ray                            117169\n",
       "VHS Tape                           111249\n",
       "HD DVD                               1541\n",
       "Theatrical Release                   1263\n",
       "Audio CD                             1098\n",
       "DVD-ROM                              1038\n",
       "DVD-R                                 610\n",
       "UMD for PSP                           491\n",
       "Paperback                             266\n",
       "Staple Bound                          188\n",
       "Kindle Edition                        187\n",
       "Hardcover                             152\n",
       "Amazon Instant Video                  140\n",
       "Kindle Edition with Audio/Video       108\n",
       "Laser Disc                            105\n",
       "MP3 Music                              65\n",
       "Toy                                    45\n",
       "CD-ROM                                 42\n",
       "Video Game                             27\n",
       "Unknown Binding                        26\n",
       "Videotape                              16\n",
       "Audio Cassette                         16\n",
       "Vinyl                                   9\n",
       "Video CD                                8\n",
       "Interactive DVD                         4\n",
       "DVD Audio                               4\n",
       "Electronics                             2\n",
       "Misc. Supplies                          2\n",
       "MiniDisc                                2\n",
       "MP3 CD                                  1\n",
       "Plastic Comb                            1\n",
       "Kitchen                                 1\n",
       "S-VHS                                   1\n",
       "Unbound                                 1\n",
       "Name: style, dtype: int64"
      ]
     },
     "execution_count": 21,
     "metadata": {},
     "output_type": "execute_result"
    }
   ],
   "source": [
    "review_df['style'].value_counts()"
   ]
  },
  {
   "cell_type": "markdown",
   "id": "5d1187a4",
   "metadata": {},
   "source": [
    "It looks like the top 5 styles represent the majority of the data."
   ]
  },
  {
   "cell_type": "code",
   "execution_count": 22,
   "id": "dd25d446",
   "metadata": {},
   "outputs": [
    {
     "data": {
      "text/plain": [
       "0.99627"
      ]
     },
     "execution_count": 22,
     "metadata": {},
     "output_type": "execute_result"
    }
   ],
   "source": [
    "# Check the percentage the top 5 styles represent\n",
    "review_df['style'].value_counts().head(5).sum()/review_df.shape[0]"
   ]
  },
  {
   "cell_type": "markdown",
   "id": "1850de18",
   "metadata": {},
   "source": [
    "The top 5 styles represent 99.6% of the data so group everything else to \"other\" and transform this column to dummy variables."
   ]
  },
  {
   "cell_type": "code",
   "execution_count": 23,
   "id": "fa5d30c8",
   "metadata": {},
   "outputs": [],
   "source": [
    "styles_keep = review_df['style'].value_counts().index[:5]"
   ]
  },
  {
   "cell_type": "markdown",
   "id": "9c7e1a4c",
   "metadata": {},
   "source": [
    "Replace all the other styles with \"Other\""
   ]
  },
  {
   "cell_type": "code",
   "execution_count": 24,
   "id": "2da667d0",
   "metadata": {},
   "outputs": [],
   "source": [
    "# If the style is in the top 5 styles, keep it, else change it to Other\n",
    "review_df['style'] = np.where(review_df['style'].isin(styles_keep), \n",
    "                              review_df['style'], \n",
    "                              \"Other\")"
   ]
  },
  {
   "cell_type": "markdown",
   "id": "b970f041",
   "metadata": {},
   "source": [
    "Check the style column"
   ]
  },
  {
   "cell_type": "code",
   "execution_count": 25,
   "id": "0ade8287",
   "metadata": {},
   "outputs": [
    {
     "data": {
      "text/plain": [
       "DVD             953773\n",
       "Amazon Video    679407\n",
       "Unknown         130942\n",
       "Blu-ray         117169\n",
       "VHS Tape        111249\n",
       "Other             7460\n",
       "Name: style, dtype: int64"
      ]
     },
     "execution_count": 25,
     "metadata": {},
     "output_type": "execute_result"
    }
   ],
   "source": [
    "review_df['style'].value_counts()"
   ]
  },
  {
   "cell_type": "markdown",
   "id": "42885c5a",
   "metadata": {},
   "source": [
    "The transformation was successful and now there are only 6 style options. the next step is to dummy encode this column and drop the `unknown` column because that column contained NaN values to start off with. One column has to be dropped to ensure that there is no multicollinearity when we use the dummy style columns in the models in the future."
   ]
  },
  {
   "cell_type": "code",
   "execution_count": 26,
   "id": "5848f242",
   "metadata": {},
   "outputs": [
    {
     "data": {
      "text/html": [
       "<div>\n",
       "<style scoped>\n",
       "    .dataframe tbody tr th:only-of-type {\n",
       "        vertical-align: middle;\n",
       "    }\n",
       "\n",
       "    .dataframe tbody tr th {\n",
       "        vertical-align: top;\n",
       "    }\n",
       "\n",
       "    .dataframe thead th {\n",
       "        text-align: right;\n",
       "    }\n",
       "</style>\n",
       "<table border=\"1\" class=\"dataframe\">\n",
       "  <thead>\n",
       "    <tr style=\"text-align: right;\">\n",
       "      <th></th>\n",
       "      <th>style_Amazon Video</th>\n",
       "      <th>style_Blu-ray</th>\n",
       "      <th>style_DVD</th>\n",
       "      <th>style_Other</th>\n",
       "      <th>style_VHS Tape</th>\n",
       "    </tr>\n",
       "  </thead>\n",
       "  <tbody>\n",
       "    <tr>\n",
       "      <th>0</th>\n",
       "      <td>0</td>\n",
       "      <td>0</td>\n",
       "      <td>0</td>\n",
       "      <td>0</td>\n",
       "      <td>1</td>\n",
       "    </tr>\n",
       "    <tr>\n",
       "      <th>1</th>\n",
       "      <td>1</td>\n",
       "      <td>0</td>\n",
       "      <td>0</td>\n",
       "      <td>0</td>\n",
       "      <td>0</td>\n",
       "    </tr>\n",
       "    <tr>\n",
       "      <th>2</th>\n",
       "      <td>1</td>\n",
       "      <td>0</td>\n",
       "      <td>0</td>\n",
       "      <td>0</td>\n",
       "      <td>0</td>\n",
       "    </tr>\n",
       "    <tr>\n",
       "      <th>3</th>\n",
       "      <td>1</td>\n",
       "      <td>0</td>\n",
       "      <td>0</td>\n",
       "      <td>0</td>\n",
       "      <td>0</td>\n",
       "    </tr>\n",
       "    <tr>\n",
       "      <th>4</th>\n",
       "      <td>1</td>\n",
       "      <td>0</td>\n",
       "      <td>0</td>\n",
       "      <td>0</td>\n",
       "      <td>0</td>\n",
       "    </tr>\n",
       "    <tr>\n",
       "      <th>...</th>\n",
       "      <td>...</td>\n",
       "      <td>...</td>\n",
       "      <td>...</td>\n",
       "      <td>...</td>\n",
       "      <td>...</td>\n",
       "    </tr>\n",
       "    <tr>\n",
       "      <th>1999995</th>\n",
       "      <td>1</td>\n",
       "      <td>0</td>\n",
       "      <td>0</td>\n",
       "      <td>0</td>\n",
       "      <td>0</td>\n",
       "    </tr>\n",
       "    <tr>\n",
       "      <th>1999996</th>\n",
       "      <td>1</td>\n",
       "      <td>0</td>\n",
       "      <td>0</td>\n",
       "      <td>0</td>\n",
       "      <td>0</td>\n",
       "    </tr>\n",
       "    <tr>\n",
       "      <th>1999997</th>\n",
       "      <td>1</td>\n",
       "      <td>0</td>\n",
       "      <td>0</td>\n",
       "      <td>0</td>\n",
       "      <td>0</td>\n",
       "    </tr>\n",
       "    <tr>\n",
       "      <th>1999998</th>\n",
       "      <td>1</td>\n",
       "      <td>0</td>\n",
       "      <td>0</td>\n",
       "      <td>0</td>\n",
       "      <td>0</td>\n",
       "    </tr>\n",
       "    <tr>\n",
       "      <th>1999999</th>\n",
       "      <td>1</td>\n",
       "      <td>0</td>\n",
       "      <td>0</td>\n",
       "      <td>0</td>\n",
       "      <td>0</td>\n",
       "    </tr>\n",
       "  </tbody>\n",
       "</table>\n",
       "<p>2000000 rows × 5 columns</p>\n",
       "</div>"
      ],
      "text/plain": [
       "         style_Amazon Video  style_Blu-ray  style_DVD  style_Other  \\\n",
       "0                         0              0          0            0   \n",
       "1                         1              0          0            0   \n",
       "2                         1              0          0            0   \n",
       "3                         1              0          0            0   \n",
       "4                         1              0          0            0   \n",
       "...                     ...            ...        ...          ...   \n",
       "1999995                   1              0          0            0   \n",
       "1999996                   1              0          0            0   \n",
       "1999997                   1              0          0            0   \n",
       "1999998                   1              0          0            0   \n",
       "1999999                   1              0          0            0   \n",
       "\n",
       "         style_VHS Tape  \n",
       "0                     1  \n",
       "1                     0  \n",
       "2                     0  \n",
       "3                     0  \n",
       "4                     0  \n",
       "...                 ...  \n",
       "1999995               0  \n",
       "1999996               0  \n",
       "1999997               0  \n",
       "1999998               0  \n",
       "1999999               0  \n",
       "\n",
       "[2000000 rows x 5 columns]"
      ]
     },
     "execution_count": 26,
     "metadata": {},
     "output_type": "execute_result"
    }
   ],
   "source": [
    "# Use get_dummies function, drop the 'unknown' column and \n",
    "# add the prefix 'style_' to known which column these dummy variables came from\n",
    "\n",
    "style_dummies = pd.get_dummies(review_df['style']).drop(columns = 'Unknown').add_prefix('style_')\n",
    "style_dummies"
   ]
  },
  {
   "cell_type": "markdown",
   "id": "0e684ce6",
   "metadata": {},
   "source": [
    "The style column was successfully encoded into dummy variables so now combine it with the original dataframe."
   ]
  },
  {
   "cell_type": "code",
   "execution_count": 27,
   "id": "2630e550",
   "metadata": {},
   "outputs": [
    {
     "data": {
      "text/html": [
       "<div>\n",
       "<style scoped>\n",
       "    .dataframe tbody tr th:only-of-type {\n",
       "        vertical-align: middle;\n",
       "    }\n",
       "\n",
       "    .dataframe tbody tr th {\n",
       "        vertical-align: top;\n",
       "    }\n",
       "\n",
       "    .dataframe thead th {\n",
       "        text-align: right;\n",
       "    }\n",
       "</style>\n",
       "<table border=\"1\" class=\"dataframe\">\n",
       "  <thead>\n",
       "    <tr style=\"text-align: right;\">\n",
       "      <th></th>\n",
       "      <th>overall</th>\n",
       "      <th>verified</th>\n",
       "      <th>reviewerID</th>\n",
       "      <th>asin</th>\n",
       "      <th>style</th>\n",
       "      <th>unixReviewTime</th>\n",
       "      <th>vote</th>\n",
       "      <th>style_Amazon Video</th>\n",
       "      <th>style_Blu-ray</th>\n",
       "      <th>style_DVD</th>\n",
       "      <th>style_Other</th>\n",
       "      <th>style_VHS Tape</th>\n",
       "    </tr>\n",
       "  </thead>\n",
       "  <tbody>\n",
       "    <tr>\n",
       "      <th>0</th>\n",
       "      <td>5</td>\n",
       "      <td>True</td>\n",
       "      <td>A3478QRKQDOPQ2</td>\n",
       "      <td>0001527665</td>\n",
       "      <td>VHS Tape</td>\n",
       "      <td>1362960000</td>\n",
       "      <td>0</td>\n",
       "      <td>0</td>\n",
       "      <td>0</td>\n",
       "      <td>0</td>\n",
       "      <td>0</td>\n",
       "      <td>1</td>\n",
       "    </tr>\n",
       "    <tr>\n",
       "      <th>1</th>\n",
       "      <td>5</td>\n",
       "      <td>True</td>\n",
       "      <td>A2VHSG6TZHU1OB</td>\n",
       "      <td>0001527665</td>\n",
       "      <td>Amazon Video</td>\n",
       "      <td>1361145600</td>\n",
       "      <td>3</td>\n",
       "      <td>1</td>\n",
       "      <td>0</td>\n",
       "      <td>0</td>\n",
       "      <td>0</td>\n",
       "      <td>0</td>\n",
       "    </tr>\n",
       "    <tr>\n",
       "      <th>2</th>\n",
       "      <td>5</td>\n",
       "      <td>False</td>\n",
       "      <td>A23EJWOW1TLENE</td>\n",
       "      <td>0001527665</td>\n",
       "      <td>Amazon Video</td>\n",
       "      <td>1358380800</td>\n",
       "      <td>0</td>\n",
       "      <td>1</td>\n",
       "      <td>0</td>\n",
       "      <td>0</td>\n",
       "      <td>0</td>\n",
       "      <td>0</td>\n",
       "    </tr>\n",
       "    <tr>\n",
       "      <th>3</th>\n",
       "      <td>5</td>\n",
       "      <td>True</td>\n",
       "      <td>A1KM9FNEJ8Q171</td>\n",
       "      <td>0001527665</td>\n",
       "      <td>Amazon Video</td>\n",
       "      <td>1357776000</td>\n",
       "      <td>0</td>\n",
       "      <td>1</td>\n",
       "      <td>0</td>\n",
       "      <td>0</td>\n",
       "      <td>0</td>\n",
       "      <td>0</td>\n",
       "    </tr>\n",
       "    <tr>\n",
       "      <th>4</th>\n",
       "      <td>4</td>\n",
       "      <td>True</td>\n",
       "      <td>A38LY2SSHVHRYB</td>\n",
       "      <td>0001527665</td>\n",
       "      <td>Amazon Video</td>\n",
       "      <td>1356480000</td>\n",
       "      <td>0</td>\n",
       "      <td>1</td>\n",
       "      <td>0</td>\n",
       "      <td>0</td>\n",
       "      <td>0</td>\n",
       "      <td>0</td>\n",
       "    </tr>\n",
       "    <tr>\n",
       "      <th>...</th>\n",
       "      <td>...</td>\n",
       "      <td>...</td>\n",
       "      <td>...</td>\n",
       "      <td>...</td>\n",
       "      <td>...</td>\n",
       "      <td>...</td>\n",
       "      <td>...</td>\n",
       "      <td>...</td>\n",
       "      <td>...</td>\n",
       "      <td>...</td>\n",
       "      <td>...</td>\n",
       "      <td>...</td>\n",
       "    </tr>\n",
       "    <tr>\n",
       "      <th>1999995</th>\n",
       "      <td>5</td>\n",
       "      <td>True</td>\n",
       "      <td>A1UM0LZVGQ4RYX</td>\n",
       "      <td>B0001GF2F6</td>\n",
       "      <td>Amazon Video</td>\n",
       "      <td>1440979200</td>\n",
       "      <td>0</td>\n",
       "      <td>1</td>\n",
       "      <td>0</td>\n",
       "      <td>0</td>\n",
       "      <td>0</td>\n",
       "      <td>0</td>\n",
       "    </tr>\n",
       "    <tr>\n",
       "      <th>1999996</th>\n",
       "      <td>5</td>\n",
       "      <td>True</td>\n",
       "      <td>A3MWE7P29CDR5L</td>\n",
       "      <td>B0001GF2F6</td>\n",
       "      <td>Amazon Video</td>\n",
       "      <td>1440979200</td>\n",
       "      <td>0</td>\n",
       "      <td>1</td>\n",
       "      <td>0</td>\n",
       "      <td>0</td>\n",
       "      <td>0</td>\n",
       "      <td>0</td>\n",
       "    </tr>\n",
       "    <tr>\n",
       "      <th>1999997</th>\n",
       "      <td>5</td>\n",
       "      <td>True</td>\n",
       "      <td>A3J6N3SOCENIPB</td>\n",
       "      <td>B0001GF2F6</td>\n",
       "      <td>Amazon Video</td>\n",
       "      <td>1440892800</td>\n",
       "      <td>0</td>\n",
       "      <td>1</td>\n",
       "      <td>0</td>\n",
       "      <td>0</td>\n",
       "      <td>0</td>\n",
       "      <td>0</td>\n",
       "    </tr>\n",
       "    <tr>\n",
       "      <th>1999998</th>\n",
       "      <td>4</td>\n",
       "      <td>True</td>\n",
       "      <td>A5O06SYSW6V93</td>\n",
       "      <td>B0001GF2F6</td>\n",
       "      <td>Amazon Video</td>\n",
       "      <td>1440806400</td>\n",
       "      <td>0</td>\n",
       "      <td>1</td>\n",
       "      <td>0</td>\n",
       "      <td>0</td>\n",
       "      <td>0</td>\n",
       "      <td>0</td>\n",
       "    </tr>\n",
       "    <tr>\n",
       "      <th>1999999</th>\n",
       "      <td>4</td>\n",
       "      <td>True</td>\n",
       "      <td>A1KF85AQR11MDY</td>\n",
       "      <td>B0001GF2F6</td>\n",
       "      <td>Amazon Video</td>\n",
       "      <td>1440806400</td>\n",
       "      <td>0</td>\n",
       "      <td>1</td>\n",
       "      <td>0</td>\n",
       "      <td>0</td>\n",
       "      <td>0</td>\n",
       "      <td>0</td>\n",
       "    </tr>\n",
       "  </tbody>\n",
       "</table>\n",
       "<p>2000000 rows × 12 columns</p>\n",
       "</div>"
      ],
      "text/plain": [
       "         overall  verified      reviewerID        asin         style  \\\n",
       "0              5      True  A3478QRKQDOPQ2  0001527665      VHS Tape   \n",
       "1              5      True  A2VHSG6TZHU1OB  0001527665  Amazon Video   \n",
       "2              5     False  A23EJWOW1TLENE  0001527665  Amazon Video   \n",
       "3              5      True  A1KM9FNEJ8Q171  0001527665  Amazon Video   \n",
       "4              4      True  A38LY2SSHVHRYB  0001527665  Amazon Video   \n",
       "...          ...       ...             ...         ...           ...   \n",
       "1999995        5      True  A1UM0LZVGQ4RYX  B0001GF2F6  Amazon Video   \n",
       "1999996        5      True  A3MWE7P29CDR5L  B0001GF2F6  Amazon Video   \n",
       "1999997        5      True  A3J6N3SOCENIPB  B0001GF2F6  Amazon Video   \n",
       "1999998        4      True   A5O06SYSW6V93  B0001GF2F6  Amazon Video   \n",
       "1999999        4      True  A1KF85AQR11MDY  B0001GF2F6  Amazon Video   \n",
       "\n",
       "         unixReviewTime  vote  style_Amazon Video  style_Blu-ray  style_DVD  \\\n",
       "0            1362960000     0                   0              0          0   \n",
       "1            1361145600     3                   1              0          0   \n",
       "2            1358380800     0                   1              0          0   \n",
       "3            1357776000     0                   1              0          0   \n",
       "4            1356480000     0                   1              0          0   \n",
       "...                 ...   ...                 ...            ...        ...   \n",
       "1999995      1440979200     0                   1              0          0   \n",
       "1999996      1440979200     0                   1              0          0   \n",
       "1999997      1440892800     0                   1              0          0   \n",
       "1999998      1440806400     0                   1              0          0   \n",
       "1999999      1440806400     0                   1              0          0   \n",
       "\n",
       "         style_Other  style_VHS Tape  \n",
       "0                  0               1  \n",
       "1                  0               0  \n",
       "2                  0               0  \n",
       "3                  0               0  \n",
       "4                  0               0  \n",
       "...              ...             ...  \n",
       "1999995            0               0  \n",
       "1999996            0               0  \n",
       "1999997            0               0  \n",
       "1999998            0               0  \n",
       "1999999            0               0  \n",
       "\n",
       "[2000000 rows x 12 columns]"
      ]
     },
     "execution_count": 27,
     "metadata": {},
     "output_type": "execute_result"
    }
   ],
   "source": [
    "review_df = pd.concat([review_df,style_dummies], axis = 1)\n",
    "review_df"
   ]
  },
  {
   "cell_type": "markdown",
   "id": "60d28b15",
   "metadata": {},
   "source": [
    "The `style` column can now be dropped since it has been dummy encoded."
   ]
  },
  {
   "cell_type": "code",
   "execution_count": 28,
   "id": "d660edc6",
   "metadata": {},
   "outputs": [
    {
     "data": {
      "text/html": [
       "<div>\n",
       "<style scoped>\n",
       "    .dataframe tbody tr th:only-of-type {\n",
       "        vertical-align: middle;\n",
       "    }\n",
       "\n",
       "    .dataframe tbody tr th {\n",
       "        vertical-align: top;\n",
       "    }\n",
       "\n",
       "    .dataframe thead th {\n",
       "        text-align: right;\n",
       "    }\n",
       "</style>\n",
       "<table border=\"1\" class=\"dataframe\">\n",
       "  <thead>\n",
       "    <tr style=\"text-align: right;\">\n",
       "      <th></th>\n",
       "      <th>overall</th>\n",
       "      <th>verified</th>\n",
       "      <th>reviewerID</th>\n",
       "      <th>asin</th>\n",
       "      <th>unixReviewTime</th>\n",
       "      <th>vote</th>\n",
       "      <th>style_Amazon Video</th>\n",
       "      <th>style_Blu-ray</th>\n",
       "      <th>style_DVD</th>\n",
       "      <th>style_Other</th>\n",
       "      <th>style_VHS Tape</th>\n",
       "    </tr>\n",
       "  </thead>\n",
       "  <tbody>\n",
       "    <tr>\n",
       "      <th>0</th>\n",
       "      <td>5</td>\n",
       "      <td>True</td>\n",
       "      <td>A3478QRKQDOPQ2</td>\n",
       "      <td>0001527665</td>\n",
       "      <td>1362960000</td>\n",
       "      <td>0</td>\n",
       "      <td>0</td>\n",
       "      <td>0</td>\n",
       "      <td>0</td>\n",
       "      <td>0</td>\n",
       "      <td>1</td>\n",
       "    </tr>\n",
       "    <tr>\n",
       "      <th>1</th>\n",
       "      <td>5</td>\n",
       "      <td>True</td>\n",
       "      <td>A2VHSG6TZHU1OB</td>\n",
       "      <td>0001527665</td>\n",
       "      <td>1361145600</td>\n",
       "      <td>3</td>\n",
       "      <td>1</td>\n",
       "      <td>0</td>\n",
       "      <td>0</td>\n",
       "      <td>0</td>\n",
       "      <td>0</td>\n",
       "    </tr>\n",
       "    <tr>\n",
       "      <th>2</th>\n",
       "      <td>5</td>\n",
       "      <td>False</td>\n",
       "      <td>A23EJWOW1TLENE</td>\n",
       "      <td>0001527665</td>\n",
       "      <td>1358380800</td>\n",
       "      <td>0</td>\n",
       "      <td>1</td>\n",
       "      <td>0</td>\n",
       "      <td>0</td>\n",
       "      <td>0</td>\n",
       "      <td>0</td>\n",
       "    </tr>\n",
       "    <tr>\n",
       "      <th>3</th>\n",
       "      <td>5</td>\n",
       "      <td>True</td>\n",
       "      <td>A1KM9FNEJ8Q171</td>\n",
       "      <td>0001527665</td>\n",
       "      <td>1357776000</td>\n",
       "      <td>0</td>\n",
       "      <td>1</td>\n",
       "      <td>0</td>\n",
       "      <td>0</td>\n",
       "      <td>0</td>\n",
       "      <td>0</td>\n",
       "    </tr>\n",
       "    <tr>\n",
       "      <th>4</th>\n",
       "      <td>4</td>\n",
       "      <td>True</td>\n",
       "      <td>A38LY2SSHVHRYB</td>\n",
       "      <td>0001527665</td>\n",
       "      <td>1356480000</td>\n",
       "      <td>0</td>\n",
       "      <td>1</td>\n",
       "      <td>0</td>\n",
       "      <td>0</td>\n",
       "      <td>0</td>\n",
       "      <td>0</td>\n",
       "    </tr>\n",
       "    <tr>\n",
       "      <th>...</th>\n",
       "      <td>...</td>\n",
       "      <td>...</td>\n",
       "      <td>...</td>\n",
       "      <td>...</td>\n",
       "      <td>...</td>\n",
       "      <td>...</td>\n",
       "      <td>...</td>\n",
       "      <td>...</td>\n",
       "      <td>...</td>\n",
       "      <td>...</td>\n",
       "      <td>...</td>\n",
       "    </tr>\n",
       "    <tr>\n",
       "      <th>1999995</th>\n",
       "      <td>5</td>\n",
       "      <td>True</td>\n",
       "      <td>A1UM0LZVGQ4RYX</td>\n",
       "      <td>B0001GF2F6</td>\n",
       "      <td>1440979200</td>\n",
       "      <td>0</td>\n",
       "      <td>1</td>\n",
       "      <td>0</td>\n",
       "      <td>0</td>\n",
       "      <td>0</td>\n",
       "      <td>0</td>\n",
       "    </tr>\n",
       "    <tr>\n",
       "      <th>1999996</th>\n",
       "      <td>5</td>\n",
       "      <td>True</td>\n",
       "      <td>A3MWE7P29CDR5L</td>\n",
       "      <td>B0001GF2F6</td>\n",
       "      <td>1440979200</td>\n",
       "      <td>0</td>\n",
       "      <td>1</td>\n",
       "      <td>0</td>\n",
       "      <td>0</td>\n",
       "      <td>0</td>\n",
       "      <td>0</td>\n",
       "    </tr>\n",
       "    <tr>\n",
       "      <th>1999997</th>\n",
       "      <td>5</td>\n",
       "      <td>True</td>\n",
       "      <td>A3J6N3SOCENIPB</td>\n",
       "      <td>B0001GF2F6</td>\n",
       "      <td>1440892800</td>\n",
       "      <td>0</td>\n",
       "      <td>1</td>\n",
       "      <td>0</td>\n",
       "      <td>0</td>\n",
       "      <td>0</td>\n",
       "      <td>0</td>\n",
       "    </tr>\n",
       "    <tr>\n",
       "      <th>1999998</th>\n",
       "      <td>4</td>\n",
       "      <td>True</td>\n",
       "      <td>A5O06SYSW6V93</td>\n",
       "      <td>B0001GF2F6</td>\n",
       "      <td>1440806400</td>\n",
       "      <td>0</td>\n",
       "      <td>1</td>\n",
       "      <td>0</td>\n",
       "      <td>0</td>\n",
       "      <td>0</td>\n",
       "      <td>0</td>\n",
       "    </tr>\n",
       "    <tr>\n",
       "      <th>1999999</th>\n",
       "      <td>4</td>\n",
       "      <td>True</td>\n",
       "      <td>A1KF85AQR11MDY</td>\n",
       "      <td>B0001GF2F6</td>\n",
       "      <td>1440806400</td>\n",
       "      <td>0</td>\n",
       "      <td>1</td>\n",
       "      <td>0</td>\n",
       "      <td>0</td>\n",
       "      <td>0</td>\n",
       "      <td>0</td>\n",
       "    </tr>\n",
       "  </tbody>\n",
       "</table>\n",
       "<p>2000000 rows × 11 columns</p>\n",
       "</div>"
      ],
      "text/plain": [
       "         overall  verified      reviewerID        asin  unixReviewTime  vote  \\\n",
       "0              5      True  A3478QRKQDOPQ2  0001527665      1362960000     0   \n",
       "1              5      True  A2VHSG6TZHU1OB  0001527665      1361145600     3   \n",
       "2              5     False  A23EJWOW1TLENE  0001527665      1358380800     0   \n",
       "3              5      True  A1KM9FNEJ8Q171  0001527665      1357776000     0   \n",
       "4              4      True  A38LY2SSHVHRYB  0001527665      1356480000     0   \n",
       "...          ...       ...             ...         ...             ...   ...   \n",
       "1999995        5      True  A1UM0LZVGQ4RYX  B0001GF2F6      1440979200     0   \n",
       "1999996        5      True  A3MWE7P29CDR5L  B0001GF2F6      1440979200     0   \n",
       "1999997        5      True  A3J6N3SOCENIPB  B0001GF2F6      1440892800     0   \n",
       "1999998        4      True   A5O06SYSW6V93  B0001GF2F6      1440806400     0   \n",
       "1999999        4      True  A1KF85AQR11MDY  B0001GF2F6      1440806400     0   \n",
       "\n",
       "         style_Amazon Video  style_Blu-ray  style_DVD  style_Other  \\\n",
       "0                         0              0          0            0   \n",
       "1                         1              0          0            0   \n",
       "2                         1              0          0            0   \n",
       "3                         1              0          0            0   \n",
       "4                         1              0          0            0   \n",
       "...                     ...            ...        ...          ...   \n",
       "1999995                   1              0          0            0   \n",
       "1999996                   1              0          0            0   \n",
       "1999997                   1              0          0            0   \n",
       "1999998                   1              0          0            0   \n",
       "1999999                   1              0          0            0   \n",
       "\n",
       "         style_VHS Tape  \n",
       "0                     1  \n",
       "1                     0  \n",
       "2                     0  \n",
       "3                     0  \n",
       "4                     0  \n",
       "...                 ...  \n",
       "1999995               0  \n",
       "1999996               0  \n",
       "1999997               0  \n",
       "1999998               0  \n",
       "1999999               0  \n",
       "\n",
       "[2000000 rows x 11 columns]"
      ]
     },
     "execution_count": 28,
     "metadata": {},
     "output_type": "execute_result"
    }
   ],
   "source": [
    "review_df.drop(columns='style', inplace = True)\n",
    "review_df"
   ]
  },
  {
   "cell_type": "code",
   "execution_count": 29,
   "id": "f2bc73b4",
   "metadata": {},
   "outputs": [
    {
     "data": {
      "text/html": [
       "<div>\n",
       "<style scoped>\n",
       "    .dataframe tbody tr th:only-of-type {\n",
       "        vertical-align: middle;\n",
       "    }\n",
       "\n",
       "    .dataframe tbody tr th {\n",
       "        vertical-align: top;\n",
       "    }\n",
       "\n",
       "    .dataframe thead th {\n",
       "        text-align: right;\n",
       "    }\n",
       "</style>\n",
       "<table border=\"1\" class=\"dataframe\">\n",
       "  <thead>\n",
       "    <tr style=\"text-align: right;\">\n",
       "      <th></th>\n",
       "      <th>overall</th>\n",
       "      <th>verified</th>\n",
       "      <th>reviewerID</th>\n",
       "      <th>asin</th>\n",
       "      <th>unixReviewTime</th>\n",
       "      <th>vote</th>\n",
       "      <th>style_Amazon Video</th>\n",
       "      <th>style_Blu-ray</th>\n",
       "      <th>style_DVD</th>\n",
       "      <th>style_Other</th>\n",
       "      <th>style_VHS Tape</th>\n",
       "    </tr>\n",
       "  </thead>\n",
       "  <tbody>\n",
       "    <tr>\n",
       "      <th>0</th>\n",
       "      <td>5</td>\n",
       "      <td>True</td>\n",
       "      <td>A3478QRKQDOPQ2</td>\n",
       "      <td>0001527665</td>\n",
       "      <td>1362960000</td>\n",
       "      <td>0</td>\n",
       "      <td>0</td>\n",
       "      <td>0</td>\n",
       "      <td>0</td>\n",
       "      <td>0</td>\n",
       "      <td>1</td>\n",
       "    </tr>\n",
       "    <tr>\n",
       "      <th>1</th>\n",
       "      <td>5</td>\n",
       "      <td>True</td>\n",
       "      <td>A2VHSG6TZHU1OB</td>\n",
       "      <td>0001527665</td>\n",
       "      <td>1361145600</td>\n",
       "      <td>3</td>\n",
       "      <td>1</td>\n",
       "      <td>0</td>\n",
       "      <td>0</td>\n",
       "      <td>0</td>\n",
       "      <td>0</td>\n",
       "    </tr>\n",
       "    <tr>\n",
       "      <th>2</th>\n",
       "      <td>5</td>\n",
       "      <td>False</td>\n",
       "      <td>A23EJWOW1TLENE</td>\n",
       "      <td>0001527665</td>\n",
       "      <td>1358380800</td>\n",
       "      <td>0</td>\n",
       "      <td>1</td>\n",
       "      <td>0</td>\n",
       "      <td>0</td>\n",
       "      <td>0</td>\n",
       "      <td>0</td>\n",
       "    </tr>\n",
       "    <tr>\n",
       "      <th>3</th>\n",
       "      <td>5</td>\n",
       "      <td>True</td>\n",
       "      <td>A1KM9FNEJ8Q171</td>\n",
       "      <td>0001527665</td>\n",
       "      <td>1357776000</td>\n",
       "      <td>0</td>\n",
       "      <td>1</td>\n",
       "      <td>0</td>\n",
       "      <td>0</td>\n",
       "      <td>0</td>\n",
       "      <td>0</td>\n",
       "    </tr>\n",
       "    <tr>\n",
       "      <th>4</th>\n",
       "      <td>4</td>\n",
       "      <td>True</td>\n",
       "      <td>A38LY2SSHVHRYB</td>\n",
       "      <td>0001527665</td>\n",
       "      <td>1356480000</td>\n",
       "      <td>0</td>\n",
       "      <td>1</td>\n",
       "      <td>0</td>\n",
       "      <td>0</td>\n",
       "      <td>0</td>\n",
       "      <td>0</td>\n",
       "    </tr>\n",
       "    <tr>\n",
       "      <th>...</th>\n",
       "      <td>...</td>\n",
       "      <td>...</td>\n",
       "      <td>...</td>\n",
       "      <td>...</td>\n",
       "      <td>...</td>\n",
       "      <td>...</td>\n",
       "      <td>...</td>\n",
       "      <td>...</td>\n",
       "      <td>...</td>\n",
       "      <td>...</td>\n",
       "      <td>...</td>\n",
       "    </tr>\n",
       "    <tr>\n",
       "      <th>1999995</th>\n",
       "      <td>5</td>\n",
       "      <td>True</td>\n",
       "      <td>A1UM0LZVGQ4RYX</td>\n",
       "      <td>B0001GF2F6</td>\n",
       "      <td>1440979200</td>\n",
       "      <td>0</td>\n",
       "      <td>1</td>\n",
       "      <td>0</td>\n",
       "      <td>0</td>\n",
       "      <td>0</td>\n",
       "      <td>0</td>\n",
       "    </tr>\n",
       "    <tr>\n",
       "      <th>1999996</th>\n",
       "      <td>5</td>\n",
       "      <td>True</td>\n",
       "      <td>A3MWE7P29CDR5L</td>\n",
       "      <td>B0001GF2F6</td>\n",
       "      <td>1440979200</td>\n",
       "      <td>0</td>\n",
       "      <td>1</td>\n",
       "      <td>0</td>\n",
       "      <td>0</td>\n",
       "      <td>0</td>\n",
       "      <td>0</td>\n",
       "    </tr>\n",
       "    <tr>\n",
       "      <th>1999997</th>\n",
       "      <td>5</td>\n",
       "      <td>True</td>\n",
       "      <td>A3J6N3SOCENIPB</td>\n",
       "      <td>B0001GF2F6</td>\n",
       "      <td>1440892800</td>\n",
       "      <td>0</td>\n",
       "      <td>1</td>\n",
       "      <td>0</td>\n",
       "      <td>0</td>\n",
       "      <td>0</td>\n",
       "      <td>0</td>\n",
       "    </tr>\n",
       "    <tr>\n",
       "      <th>1999998</th>\n",
       "      <td>4</td>\n",
       "      <td>True</td>\n",
       "      <td>A5O06SYSW6V93</td>\n",
       "      <td>B0001GF2F6</td>\n",
       "      <td>1440806400</td>\n",
       "      <td>0</td>\n",
       "      <td>1</td>\n",
       "      <td>0</td>\n",
       "      <td>0</td>\n",
       "      <td>0</td>\n",
       "      <td>0</td>\n",
       "    </tr>\n",
       "    <tr>\n",
       "      <th>1999999</th>\n",
       "      <td>4</td>\n",
       "      <td>True</td>\n",
       "      <td>A1KF85AQR11MDY</td>\n",
       "      <td>B0001GF2F6</td>\n",
       "      <td>1440806400</td>\n",
       "      <td>0</td>\n",
       "      <td>1</td>\n",
       "      <td>0</td>\n",
       "      <td>0</td>\n",
       "      <td>0</td>\n",
       "      <td>0</td>\n",
       "    </tr>\n",
       "  </tbody>\n",
       "</table>\n",
       "<p>2000000 rows × 11 columns</p>\n",
       "</div>"
      ],
      "text/plain": [
       "         overall  verified      reviewerID        asin  unixReviewTime  vote  \\\n",
       "0              5      True  A3478QRKQDOPQ2  0001527665      1362960000     0   \n",
       "1              5      True  A2VHSG6TZHU1OB  0001527665      1361145600     3   \n",
       "2              5     False  A23EJWOW1TLENE  0001527665      1358380800     0   \n",
       "3              5      True  A1KM9FNEJ8Q171  0001527665      1357776000     0   \n",
       "4              4      True  A38LY2SSHVHRYB  0001527665      1356480000     0   \n",
       "...          ...       ...             ...         ...             ...   ...   \n",
       "1999995        5      True  A1UM0LZVGQ4RYX  B0001GF2F6      1440979200     0   \n",
       "1999996        5      True  A3MWE7P29CDR5L  B0001GF2F6      1440979200     0   \n",
       "1999997        5      True  A3J6N3SOCENIPB  B0001GF2F6      1440892800     0   \n",
       "1999998        4      True   A5O06SYSW6V93  B0001GF2F6      1440806400     0   \n",
       "1999999        4      True  A1KF85AQR11MDY  B0001GF2F6      1440806400     0   \n",
       "\n",
       "         style_Amazon Video  style_Blu-ray  style_DVD  style_Other  \\\n",
       "0                         0              0          0            0   \n",
       "1                         1              0          0            0   \n",
       "2                         1              0          0            0   \n",
       "3                         1              0          0            0   \n",
       "4                         1              0          0            0   \n",
       "...                     ...            ...        ...          ...   \n",
       "1999995                   1              0          0            0   \n",
       "1999996                   1              0          0            0   \n",
       "1999997                   1              0          0            0   \n",
       "1999998                   1              0          0            0   \n",
       "1999999                   1              0          0            0   \n",
       "\n",
       "         style_VHS Tape  \n",
       "0                     1  \n",
       "1                     0  \n",
       "2                     0  \n",
       "3                     0  \n",
       "4                     0  \n",
       "...                 ...  \n",
       "1999995               0  \n",
       "1999996               0  \n",
       "1999997               0  \n",
       "1999998               0  \n",
       "1999999               0  \n",
       "\n",
       "[2000000 rows x 11 columns]"
      ]
     },
     "execution_count": 29,
     "metadata": {},
     "output_type": "execute_result"
    }
   ],
   "source": [
    "review_df"
   ]
  },
  {
   "cell_type": "code",
   "execution_count": null,
   "id": "2da3d196",
   "metadata": {},
   "outputs": [],
   "source": []
  },
  {
   "cell_type": "code",
   "execution_count": null,
   "id": "828a06dd",
   "metadata": {},
   "outputs": [],
   "source": []
  },
  {
   "cell_type": "markdown",
   "id": "493a3e99",
   "metadata": {},
   "source": [
    "### Drop any duplicates in the dataframe"
   ]
  },
  {
   "cell_type": "code",
   "execution_count": 30,
   "id": "18218a8a",
   "metadata": {},
   "outputs": [],
   "source": [
    "review_df.drop_duplicates(inplace = True, ignore_index = True)"
   ]
  },
  {
   "cell_type": "code",
   "execution_count": 31,
   "id": "7d110475",
   "metadata": {},
   "outputs": [
    {
     "name": "stdout",
     "output_type": "stream",
     "text": [
      "<class 'pandas.core.frame.DataFrame'>\n",
      "RangeIndex: 1998634 entries, 0 to 1998633\n",
      "Data columns (total 11 columns):\n",
      " #   Column              Dtype \n",
      "---  ------              ----- \n",
      " 0   overall             int8  \n",
      " 1   verified            bool  \n",
      " 2   reviewerID          object\n",
      " 3   asin                object\n",
      " 4   unixReviewTime      int32 \n",
      " 5   vote                int32 \n",
      " 6   style_Amazon Video  uint8 \n",
      " 7   style_Blu-ray       uint8 \n",
      " 8   style_DVD           uint8 \n",
      " 9   style_Other         uint8 \n",
      " 10  style_VHS Tape      uint8 \n",
      "dtypes: bool(1), int32(2), int8(1), object(2), uint8(5)\n",
      "memory usage: 59.1+ MB\n"
     ]
    }
   ],
   "source": [
    "review_df.info()"
   ]
  },
  {
   "cell_type": "markdown",
   "id": "959a5963",
   "metadata": {},
   "source": [
    "1365 entries has been dropped."
   ]
  },
  {
   "cell_type": "markdown",
   "id": "42a97b4c",
   "metadata": {},
   "source": [
    "### Create a clean df that only has numeric values for the regression analysis"
   ]
  },
  {
   "cell_type": "code",
   "execution_count": 32,
   "id": "369c813e",
   "metadata": {},
   "outputs": [],
   "source": [
    "# Seperate out the numeric columns\n",
    "numeric_col = list(review_df.select_dtypes(\"number\").columns)\n",
    "\n",
    "# Make a new clean dataframe with only the numeric columns\n",
    "clean_df = review_df[numeric_col].copy()"
   ]
  },
  {
   "cell_type": "markdown",
   "id": "8246c87b",
   "metadata": {},
   "source": [
    "Check the created df"
   ]
  },
  {
   "cell_type": "code",
   "execution_count": 33,
   "id": "0d1b85fa",
   "metadata": {},
   "outputs": [
    {
     "name": "stdout",
     "output_type": "stream",
     "text": [
      "<class 'pandas.core.frame.DataFrame'>\n",
      "RangeIndex: 1998634 entries, 0 to 1998633\n",
      "Data columns (total 8 columns):\n",
      " #   Column              Dtype\n",
      "---  ------              -----\n",
      " 0   overall             int8 \n",
      " 1   unixReviewTime      int32\n",
      " 2   vote                int32\n",
      " 3   style_Amazon Video  uint8\n",
      " 4   style_Blu-ray       uint8\n",
      " 5   style_DVD           uint8\n",
      " 6   style_Other         uint8\n",
      " 7   style_VHS Tape      uint8\n",
      "dtypes: int32(2), int8(1), uint8(5)\n",
      "memory usage: 26.7 MB\n"
     ]
    }
   ],
   "source": [
    "clean_df.info()\n"
   ]
  },
  {
   "cell_type": "markdown",
   "id": "5d1663a1",
   "metadata": {},
   "source": [
    "### Preprocess verified column"
   ]
  },
  {
   "cell_type": "code",
   "execution_count": 34,
   "id": "5a332a48",
   "metadata": {},
   "outputs": [
    {
     "data": {
      "text/plain": [
       "True     1312839\n",
       "False     685795\n",
       "Name: verified, dtype: int64"
      ]
     },
     "execution_count": 34,
     "metadata": {},
     "output_type": "execute_result"
    }
   ],
   "source": [
    "review_df['verified'].value_counts()"
   ]
  },
  {
   "cell_type": "markdown",
   "id": "87475181",
   "metadata": {},
   "source": [
    "Since the verified column contains only true and false, the datatype can be changed to int8 for the regression analysis"
   ]
  },
  {
   "cell_type": "code",
   "execution_count": 35,
   "id": "c399f87a",
   "metadata": {},
   "outputs": [],
   "source": [
    "# Map Trues to 1 and false to 0\n",
    "\n",
    "clean_df['verified'] = review_df['verified'].astype('int8').copy()"
   ]
  },
  {
   "cell_type": "code",
   "execution_count": 36,
   "id": "c329f958",
   "metadata": {},
   "outputs": [
    {
     "name": "stdout",
     "output_type": "stream",
     "text": [
      "<class 'pandas.core.frame.DataFrame'>\n",
      "RangeIndex: 1998634 entries, 0 to 1998633\n",
      "Data columns (total 9 columns):\n",
      " #   Column              Dtype\n",
      "---  ------              -----\n",
      " 0   overall             int8 \n",
      " 1   unixReviewTime      int32\n",
      " 2   vote                int32\n",
      " 3   style_Amazon Video  uint8\n",
      " 4   style_Blu-ray       uint8\n",
      " 5   style_DVD           uint8\n",
      " 6   style_Other         uint8\n",
      " 7   style_VHS Tape      uint8\n",
      " 8   verified            int8 \n",
      "dtypes: int32(2), int8(2), uint8(5)\n",
      "memory usage: 28.6 MB\n"
     ]
    }
   ],
   "source": [
    "clean_df.info()"
   ]
  },
  {
   "cell_type": "markdown",
   "id": "87887ab6",
   "metadata": {},
   "source": [
    "Convert the reviewerName column to a numeric representation using `pd.factorize`"
   ]
  },
  {
   "cell_type": "code",
   "execution_count": 37,
   "id": "ae09dd25",
   "metadata": {},
   "outputs": [],
   "source": [
    "clean_df['reviewer_ID'] = pd.factorize(review_df['reviewerID'])[0]"
   ]
  },
  {
   "cell_type": "markdown",
   "id": "a912a92e",
   "metadata": {},
   "source": [
    "Do the same for the product column (ASIN)"
   ]
  },
  {
   "cell_type": "code",
   "execution_count": 38,
   "id": "d97870d4",
   "metadata": {},
   "outputs": [],
   "source": [
    "clean_df['itemID'] = pd.factorize(review_df['asin'])[0]"
   ]
  },
  {
   "cell_type": "code",
   "execution_count": 39,
   "id": "b3fedd74",
   "metadata": {},
   "outputs": [
    {
     "data": {
      "text/html": [
       "<div>\n",
       "<style scoped>\n",
       "    .dataframe tbody tr th:only-of-type {\n",
       "        vertical-align: middle;\n",
       "    }\n",
       "\n",
       "    .dataframe tbody tr th {\n",
       "        vertical-align: top;\n",
       "    }\n",
       "\n",
       "    .dataframe thead th {\n",
       "        text-align: right;\n",
       "    }\n",
       "</style>\n",
       "<table border=\"1\" class=\"dataframe\">\n",
       "  <thead>\n",
       "    <tr style=\"text-align: right;\">\n",
       "      <th></th>\n",
       "      <th>overall</th>\n",
       "      <th>unixReviewTime</th>\n",
       "      <th>vote</th>\n",
       "      <th>style_Amazon Video</th>\n",
       "      <th>style_Blu-ray</th>\n",
       "      <th>style_DVD</th>\n",
       "      <th>style_Other</th>\n",
       "      <th>style_VHS Tape</th>\n",
       "      <th>verified</th>\n",
       "      <th>reviewer_ID</th>\n",
       "      <th>itemID</th>\n",
       "    </tr>\n",
       "  </thead>\n",
       "  <tbody>\n",
       "    <tr>\n",
       "      <th>0</th>\n",
       "      <td>5</td>\n",
       "      <td>1362960000</td>\n",
       "      <td>0</td>\n",
       "      <td>0</td>\n",
       "      <td>0</td>\n",
       "      <td>0</td>\n",
       "      <td>0</td>\n",
       "      <td>1</td>\n",
       "      <td>1</td>\n",
       "      <td>0</td>\n",
       "      <td>0</td>\n",
       "    </tr>\n",
       "    <tr>\n",
       "      <th>1</th>\n",
       "      <td>5</td>\n",
       "      <td>1361145600</td>\n",
       "      <td>3</td>\n",
       "      <td>1</td>\n",
       "      <td>0</td>\n",
       "      <td>0</td>\n",
       "      <td>0</td>\n",
       "      <td>0</td>\n",
       "      <td>1</td>\n",
       "      <td>1</td>\n",
       "      <td>0</td>\n",
       "    </tr>\n",
       "    <tr>\n",
       "      <th>2</th>\n",
       "      <td>5</td>\n",
       "      <td>1358380800</td>\n",
       "      <td>0</td>\n",
       "      <td>1</td>\n",
       "      <td>0</td>\n",
       "      <td>0</td>\n",
       "      <td>0</td>\n",
       "      <td>0</td>\n",
       "      <td>0</td>\n",
       "      <td>2</td>\n",
       "      <td>0</td>\n",
       "    </tr>\n",
       "    <tr>\n",
       "      <th>3</th>\n",
       "      <td>5</td>\n",
       "      <td>1357776000</td>\n",
       "      <td>0</td>\n",
       "      <td>1</td>\n",
       "      <td>0</td>\n",
       "      <td>0</td>\n",
       "      <td>0</td>\n",
       "      <td>0</td>\n",
       "      <td>1</td>\n",
       "      <td>3</td>\n",
       "      <td>0</td>\n",
       "    </tr>\n",
       "    <tr>\n",
       "      <th>4</th>\n",
       "      <td>4</td>\n",
       "      <td>1356480000</td>\n",
       "      <td>0</td>\n",
       "      <td>1</td>\n",
       "      <td>0</td>\n",
       "      <td>0</td>\n",
       "      <td>0</td>\n",
       "      <td>0</td>\n",
       "      <td>1</td>\n",
       "      <td>4</td>\n",
       "      <td>0</td>\n",
       "    </tr>\n",
       "  </tbody>\n",
       "</table>\n",
       "</div>"
      ],
      "text/plain": [
       "   overall  unixReviewTime  vote  style_Amazon Video  style_Blu-ray  \\\n",
       "0        5      1362960000     0                   0              0   \n",
       "1        5      1361145600     3                   1              0   \n",
       "2        5      1358380800     0                   1              0   \n",
       "3        5      1357776000     0                   1              0   \n",
       "4        4      1356480000     0                   1              0   \n",
       "\n",
       "   style_DVD  style_Other  style_VHS Tape  verified  reviewer_ID  itemID  \n",
       "0          0            0               1         1            0       0  \n",
       "1          0            0               0         1            1       0  \n",
       "2          0            0               0         0            2       0  \n",
       "3          0            0               0         1            3       0  \n",
       "4          0            0               0         1            4       0  "
      ]
     },
     "execution_count": 39,
     "metadata": {},
     "output_type": "execute_result"
    }
   ],
   "source": [
    "clean_df.head()"
   ]
  },
  {
   "cell_type": "markdown",
   "id": "f761eb2c",
   "metadata": {},
   "source": [
    "The preprocessing for the review data is now complete and the EDA and regression analysis can now be performed."
   ]
  },
  {
   "cell_type": "markdown",
   "id": "c7498172",
   "metadata": {},
   "source": [
    "# 3. Exploratory Data Analysis <a class ='anchor' id='3EDA'></a>"
   ]
  },
  {
   "cell_type": "markdown",
   "id": "ac37f10e",
   "metadata": {},
   "source": [
    "The distribution for each column can be analyzed by plotting the histograms for each column"
   ]
  },
  {
   "cell_type": "code",
   "execution_count": 51,
   "id": "7bf33a4e",
   "metadata": {},
   "outputs": [
    {
     "data": {
      "image/png": "[encoded data removed]",
      "text/plain": [
       "<Figure size 432x288 with 1 Axes>"
      ]
     },
     "metadata": {
      "needs_background": "light"
     },
     "output_type": "display_data"
    },
    {
     "data": {
      "image/png": "[encoded data removed]",
      "text/plain": [
       "<Figure size 432x288 with 1 Axes>"
      ]
     },
     "metadata": {
      "needs_background": "light"
     },
     "output_type": "display_data"
    },
    {
     "data": {
      "image/png": "[encoded data removed]",
      "text/plain": [
       "<Figure size 432x288 with 1 Axes>"
      ]
     },
     "metadata": {
      "needs_background": "light"
     },
     "output_type": "display_data"
    },
    {
     "data": {
      "image/png": "[encoded data removed]",
      "text/plain": [
       "<Figure size 432x288 with 1 Axes>"
      ]
     },
     "metadata": {
      "needs_background": "light"
     },
     "output_type": "display_data"
    },
    {
     "data": {
      "image/png": "[encoded data removed]",
      "text/plain": [
       "<Figure size 432x288 with 1 Axes>"
      ]
     },
     "metadata": {
      "needs_background": "light"
     },
     "output_type": "display_data"
    },
    {
     "data": {
      "image/png": "[encoded data removed]",
      "text/plain": [
       "<Figure size 432x288 with 1 Axes>"
      ]
     },
     "metadata": {
      "needs_background": "light"
     },
     "output_type": "display_data"
    },
    {
     "data": {
      "image/png": "[encoded data removed]",
      "text/plain": [
       "<Figure size 432x288 with 1 Axes>"
      ]
     },
     "metadata": {
      "needs_background": "light"
     },
     "output_type": "display_data"
    },
    {
     "data": {
      "image/png": "[encoded data removed]",
      "text/plain": [
       "<Figure size 432x288 with 1 Axes>"
      ]
     },
     "metadata": {
      "needs_background": "light"
     },
     "output_type": "display_data"
    },
    {
     "data": {
      "image/png": "[encoded data removed]",
      "text/plain": [
       "<Figure size 432x288 with 1 Axes>"
      ]
     },
     "metadata": {
      "needs_background": "light"
     },
     "output_type": "display_data"
    },
    {
     "data": {
      "image/png": "[encoded data removed]",
      "text/plain": [
       "<Figure size 432x288 with 1 Axes>"
      ]
     },
     "metadata": {
      "needs_background": "light"
     },
     "output_type": "display_data"
    },
    {
     "data": {
      "image/png": "[encoded data removed]",
      "text/plain": [
       "<Figure size 432x288 with 1 Axes>"
      ]
     },
     "metadata": {
      "needs_background": "light"
     },
     "output_type": "display_data"
    }
   ],
   "source": [
    "for column in clean_df.columns:\n",
    "    sns.histplot(x = column, data = clean_df)\n",
    "    plt.title(column)\n",
    "    plt.show()"
   ]
  },
  {
   "cell_type": "markdown",
   "id": "a3247f2c",
   "metadata": {},
   "source": [
    "Non of the data in the columns look normally distributed. Thus the linear regression model will fit the data poorly. The `reviewScore` is left skewed with most of the data rated at 5. The `unixReviewTime` is also left skewed with a spike in reviews in the unixTime of about 1.35e9. The `vote` column seems to only have one bar close to 0 which could indicate that the majority of the reviews had low votes from other Amazon users and there is a very small percentage of high vote counts. This datetime represents 2012 which could be due to a spike in Amazon usage. The `style` data only contains 1s and 0s since they were dummy encoded thus, it doesn't make sense to look at the histograms for those data. (Histograms are used for continuous data). The `reviewer_ID` and `ItemID` columns are not ordinal data, so looking at a histogram can be misleading. Spikes in the data just mean a person is reviewing a lot of products for `reviewer_ID` and spikes in `itemID` mean that some products are being reviewed a lot of times. "
   ]
  },
  {
   "cell_type": "code",
   "execution_count": 55,
   "id": "07921b75",
   "metadata": {},
   "outputs": [
    {
     "data": {
      "text/plain": [
       "datetime.datetime(2012, 10, 11, 20, 0)"
      ]
     },
     "execution_count": 55,
     "metadata": {},
     "output_type": "execute_result"
    }
   ],
   "source": [
    "datetime.fromtimestamp(1350000000)"
   ]
  },
  {
   "cell_type": "code",
   "execution_count": null,
   "id": "206a6188",
   "metadata": {},
   "outputs": [],
   "source": []
  },
  {
   "cell_type": "markdown",
   "id": "379e0eca",
   "metadata": {},
   "source": [
    "### Check the values in the vote column"
   ]
  },
  {
   "cell_type": "code",
   "execution_count": 59,
   "id": "b2f583f3",
   "metadata": {},
   "outputs": [
    {
     "data": {
      "text/plain": [
       "0       1585389\n",
       "2        123974\n",
       "3         71423\n",
       "4         46756\n",
       "5         32769\n",
       "         ...   \n",
       "437           1\n",
       "259           1\n",
       "444           1\n",
       "445           1\n",
       "1009          1\n",
       "Name: vote, Length: 498, dtype: int64"
      ]
     },
     "execution_count": 59,
     "metadata": {},
     "output_type": "execute_result"
    }
   ],
   "source": [
    "clean_df['vote'].value_counts()"
   ]
  },
  {
   "cell_type": "markdown",
   "id": "0fc8fa14",
   "metadata": {},
   "source": [
    "Most reviews had 0 votes and many reviews had below 5 votes."
   ]
  },
  {
   "cell_type": "code",
   "execution_count": 63,
   "id": "b888e655",
   "metadata": {},
   "outputs": [
    {
     "data": {
      "text/plain": [
       "0    0.793236\n",
       "Name: vote, dtype: float64"
      ]
     },
     "execution_count": 63,
     "metadata": {},
     "output_type": "execute_result"
    }
   ],
   "source": [
    "clean_df['vote'].value_counts().head(1)/clean_df.shape[0]"
   ]
  },
  {
   "cell_type": "markdown",
   "id": "7e5b3a9b",
   "metadata": {},
   "source": [
    "About 79% of the reviews have 0 votes which is an extremely high percentage that will certainly skew the `vote` data"
   ]
  },
  {
   "cell_type": "markdown",
   "id": "e5592caa",
   "metadata": {},
   "source": [
    "Show correlations between different features"
   ]
  },
  {
   "cell_type": "code",
   "execution_count": 41,
   "id": "281e9d31",
   "metadata": {},
   "outputs": [
    {
     "data": {
      "image/png": "[encoded data removed]",
      "text/plain": [
       "<Figure size 864x576 with 2 Axes>"
      ]
     },
     "metadata": {
      "needs_background": "light"
     },
     "output_type": "display_data"
    }
   ],
   "source": [
    "plt.figure(figsize= [12,8])\n",
    "sns.heatmap(clean_df.corr().round(2), vmin=-1, vmax=1, cmap='coolwarm', annot=True)\n",
    "plt.show()"
   ]
  },
  {
   "cell_type": "markdown",
   "id": "418ad802",
   "metadata": {},
   "source": [
    "# 4. Simple Modeling<a class ='anchor' id='4Simple_Model'></a>"
   ]
  },
  {
   "cell_type": "code",
   "execution_count": 42,
   "id": "9a70ef60",
   "metadata": {},
   "outputs": [],
   "source": [
    "X = clean_df.drop(columns =['vote','itemID'])\n",
    "Y = clean_df['vote']\n",
    "\n",
    "X_withconstant = sm.add_constant(X)"
   ]
  },
  {
   "cell_type": "code",
   "execution_count": 43,
   "id": "ba4c6fc2",
   "metadata": {},
   "outputs": [
    {
     "data": {
      "text/html": [
       "<table class=\"simpletable\">\n",
       "<caption>OLS Regression Results</caption>\n",
       "<tr>\n",
       "  <th>Dep. Variable:</th>          <td>vote</td>       <th>  R-squared:         </th>  <td>   0.032</td>  \n",
       "</tr>\n",
       "<tr>\n",
       "  <th>Model:</th>                   <td>OLS</td>       <th>  Adj. R-squared:    </th>  <td>   0.032</td>  \n",
       "</tr>\n",
       "<tr>\n",
       "  <th>Method:</th>             <td>Least Squares</td>  <th>  F-statistic:       </th>  <td>   7400.</td>  \n",
       "</tr>\n",
       "<tr>\n",
       "  <th>Date:</th>             <td>Fri, 19 Aug 2022</td> <th>  Prob (F-statistic):</th>   <td>  0.00</td>   \n",
       "</tr>\n",
       "<tr>\n",
       "  <th>Time:</th>                 <td>21:53:00</td>     <th>  Log-Likelihood:    </th> <td>-7.9019e+06</td>\n",
       "</tr>\n",
       "<tr>\n",
       "  <th>No. Observations:</th>      <td>1998634</td>     <th>  AIC:               </th>  <td>1.580e+07</td> \n",
       "</tr>\n",
       "<tr>\n",
       "  <th>Df Residuals:</th>          <td>1998624</td>     <th>  BIC:               </th>  <td>1.580e+07</td> \n",
       "</tr>\n",
       "<tr>\n",
       "  <th>Df Model:</th>              <td>     9</td>      <th>                     </th>      <td> </td>     \n",
       "</tr>\n",
       "<tr>\n",
       "  <th>Covariance Type:</th>      <td>nonrobust</td>    <th>                     </th>      <td> </td>     \n",
       "</tr>\n",
       "</table>\n",
       "<table class=\"simpletable\">\n",
       "<tr>\n",
       "           <td></td>             <th>coef</th>     <th>std err</th>      <th>t</th>      <th>P>|t|</th>  <th>[0.025</th>    <th>0.975]</th>  \n",
       "</tr>\n",
       "<tr>\n",
       "  <th>const</th>              <td>   21.3432</td> <td>    0.115</td> <td>  186.200</td> <td> 0.000</td> <td>   21.119</td> <td>   21.568</td>\n",
       "</tr>\n",
       "<tr>\n",
       "  <th>overall</th>            <td>   -0.2570</td> <td>    0.008</td> <td>  -32.977</td> <td> 0.000</td> <td>   -0.272</td> <td>   -0.242</td>\n",
       "</tr>\n",
       "<tr>\n",
       "  <th>unixReviewTime</th>     <td>-1.436e-08</td> <td> 8.67e-11</td> <td> -165.697</td> <td> 0.000</td> <td>-1.45e-08</td> <td>-1.42e-08</td>\n",
       "</tr>\n",
       "<tr>\n",
       "  <th>style_Amazon Video</th> <td>    0.7945</td> <td>    0.039</td> <td>   20.152</td> <td> 0.000</td> <td>    0.717</td> <td>    0.872</td>\n",
       "</tr>\n",
       "<tr>\n",
       "  <th>style_Blu-ray</th>      <td>    1.5712</td> <td>    0.051</td> <td>   30.568</td> <td> 0.000</td> <td>    1.470</td> <td>    1.672</td>\n",
       "</tr>\n",
       "<tr>\n",
       "  <th>style_DVD</th>          <td>    0.9234</td> <td>    0.037</td> <td>   24.787</td> <td> 0.000</td> <td>    0.850</td> <td>    0.996</td>\n",
       "</tr>\n",
       "<tr>\n",
       "  <th>style_Other</th>        <td>    0.6240</td> <td>    0.150</td> <td>    4.155</td> <td> 0.000</td> <td>    0.330</td> <td>    0.918</td>\n",
       "</tr>\n",
       "<tr>\n",
       "  <th>style_VHS Tape</th>     <td>    0.8082</td> <td>    0.054</td> <td>   14.968</td> <td> 0.000</td> <td>    0.702</td> <td>    0.914</td>\n",
       "</tr>\n",
       "<tr>\n",
       "  <th>verified</th>           <td>    0.1472</td> <td>    0.024</td> <td>    6.058</td> <td> 0.000</td> <td>    0.100</td> <td>    0.195</td>\n",
       "</tr>\n",
       "<tr>\n",
       "  <th>reviewer_ID</th>        <td> -6.94e-07</td> <td> 2.56e-08</td> <td>  -27.094</td> <td> 0.000</td> <td>-7.44e-07</td> <td>-6.44e-07</td>\n",
       "</tr>\n",
       "</table>\n",
       "<table class=\"simpletable\">\n",
       "<tr>\n",
       "  <th>Omnibus:</th>       <td>10744107.798</td> <th>  Durbin-Watson:     </th>       <td>   1.892</td>      \n",
       "</tr>\n",
       "<tr>\n",
       "  <th>Prob(Omnibus):</th>    <td> 0.000</td>    <th>  Jarque-Bera (JB):  </th> <td>2888539192021030.000</td>\n",
       "</tr>\n",
       "<tr>\n",
       "  <th>Skew:</th>             <td>279.143</td>   <th>  Prob(JB):          </th>       <td>    0.00</td>      \n",
       "</tr>\n",
       "<tr>\n",
       "  <th>Kurtosis:</th>       <td>186244.374</td>  <th>  Cond. No.          </th>       <td>2.30e+10</td>      \n",
       "</tr>\n",
       "</table><br/><br/>Notes:<br/>[1] Standard Errors assume that the covariance matrix of the errors is correctly specified.<br/>[2] The condition number is large, 2.3e+10. This might indicate that there are<br/>strong multicollinearity or other numerical problems."
      ],
      "text/plain": [
       "<class 'statsmodels.iolib.summary.Summary'>\n",
       "\"\"\"\n",
       "                            OLS Regression Results                            \n",
       "==============================================================================\n",
       "Dep. Variable:                   vote   R-squared:                       0.032\n",
       "Model:                            OLS   Adj. R-squared:                  0.032\n",
       "Method:                 Least Squares   F-statistic:                     7400.\n",
       "Date:                Fri, 19 Aug 2022   Prob (F-statistic):               0.00\n",
       "Time:                        21:53:00   Log-Likelihood:            -7.9019e+06\n",
       "No. Observations:             1998634   AIC:                         1.580e+07\n",
       "Df Residuals:                 1998624   BIC:                         1.580e+07\n",
       "Df Model:                           9                                         \n",
       "Covariance Type:            nonrobust                                         \n",
       "======================================================================================\n",
       "                         coef    std err          t      P>|t|      [0.025      0.975]\n",
       "--------------------------------------------------------------------------------------\n",
       "const                 21.3432      0.115    186.200      0.000      21.119      21.568\n",
       "overall               -0.2570      0.008    -32.977      0.000      -0.272      -0.242\n",
       "unixReviewTime     -1.436e-08   8.67e-11   -165.697      0.000   -1.45e-08   -1.42e-08\n",
       "style_Amazon Video     0.7945      0.039     20.152      0.000       0.717       0.872\n",
       "style_Blu-ray          1.5712      0.051     30.568      0.000       1.470       1.672\n",
       "style_DVD              0.9234      0.037     24.787      0.000       0.850       0.996\n",
       "style_Other            0.6240      0.150      4.155      0.000       0.330       0.918\n",
       "style_VHS Tape         0.8082      0.054     14.968      0.000       0.702       0.914\n",
       "verified               0.1472      0.024      6.058      0.000       0.100       0.195\n",
       "reviewer_ID         -6.94e-07   2.56e-08    -27.094      0.000   -7.44e-07   -6.44e-07\n",
       "================================================================================\n",
       "Omnibus:                 10744107.798   Durbin-Watson:                     1.892\n",
       "Prob(Omnibus):                  0.000   Jarque-Bera (JB):   2888539192021030.000\n",
       "Skew:                         279.143   Prob(JB):                           0.00\n",
       "Kurtosis:                  186244.374   Cond. No.                       2.30e+10\n",
       "================================================================================\n",
       "\n",
       "Notes:\n",
       "[1] Standard Errors assume that the covariance matrix of the errors is correctly specified.\n",
       "[2] The condition number is large, 2.3e+10. This might indicate that there are\n",
       "strong multicollinearity or other numerical problems.\n",
       "\"\"\""
      ]
     },
     "execution_count": 43,
     "metadata": {},
     "output_type": "execute_result"
    }
   ],
   "source": [
    "rmodel1 = sm.OLS(Y,X_withconstant)\n",
    "\n",
    "rmodel1 = rmodel1.fit()\n",
    "\n",
    "rmodel1.summary()"
   ]
  },
  {
   "cell_type": "markdown",
   "id": "974b53c7",
   "metadata": {},
   "source": [
    "## Read in the clean meta data and combine it with the clean review data"
   ]
  },
  {
   "cell_type": "code",
   "execution_count": 44,
   "id": "624bebb7",
   "metadata": {},
   "outputs": [],
   "source": [
    "# meta_df = pd.read_csv('clean_meta.csv')\n",
    "# meta_df"
   ]
  },
  {
   "cell_type": "code",
   "execution_count": 45,
   "id": "3be4d48c",
   "metadata": {},
   "outputs": [],
   "source": [
    "# clean_df['asin'] = review_df['asin']"
   ]
  },
  {
   "cell_type": "code",
   "execution_count": 46,
   "id": "34668fa1",
   "metadata": {},
   "outputs": [],
   "source": [
    "# new_df = pd.merge(clean_df, meta_df,  how='left', left_on='asin', right_on = 'asin')"
   ]
  },
  {
   "cell_type": "code",
   "execution_count": 47,
   "id": "17097fd8",
   "metadata": {},
   "outputs": [
    {
     "data": {
      "text/html": [
       "<div>\n",
       "<style scoped>\n",
       "    .dataframe tbody tr th:only-of-type {\n",
       "        vertical-align: middle;\n",
       "    }\n",
       "\n",
       "    .dataframe tbody tr th {\n",
       "        vertical-align: top;\n",
       "    }\n",
       "\n",
       "    .dataframe thead th {\n",
       "        text-align: right;\n",
       "    }\n",
       "</style>\n",
       "<table border=\"1\" class=\"dataframe\">\n",
       "  <thead>\n",
       "    <tr style=\"text-align: right;\">\n",
       "      <th></th>\n",
       "      <th>overall</th>\n",
       "      <th>verified</th>\n",
       "      <th>reviewerID</th>\n",
       "      <th>asin</th>\n",
       "      <th>unixReviewTime</th>\n",
       "      <th>vote</th>\n",
       "      <th>style_Amazon Video</th>\n",
       "      <th>style_Blu-ray</th>\n",
       "      <th>style_DVD</th>\n",
       "      <th>style_Other</th>\n",
       "      <th>style_VHS Tape</th>\n",
       "    </tr>\n",
       "  </thead>\n",
       "  <tbody>\n",
       "    <tr>\n",
       "      <th>0</th>\n",
       "      <td>5</td>\n",
       "      <td>True</td>\n",
       "      <td>A3478QRKQDOPQ2</td>\n",
       "      <td>0001527665</td>\n",
       "      <td>1362960000</td>\n",
       "      <td>0</td>\n",
       "      <td>0</td>\n",
       "      <td>0</td>\n",
       "      <td>0</td>\n",
       "      <td>0</td>\n",
       "      <td>1</td>\n",
       "    </tr>\n",
       "    <tr>\n",
       "      <th>1</th>\n",
       "      <td>5</td>\n",
       "      <td>True</td>\n",
       "      <td>A2VHSG6TZHU1OB</td>\n",
       "      <td>0001527665</td>\n",
       "      <td>1361145600</td>\n",
       "      <td>3</td>\n",
       "      <td>1</td>\n",
       "      <td>0</td>\n",
       "      <td>0</td>\n",
       "      <td>0</td>\n",
       "      <td>0</td>\n",
       "    </tr>\n",
       "    <tr>\n",
       "      <th>2</th>\n",
       "      <td>5</td>\n",
       "      <td>False</td>\n",
       "      <td>A23EJWOW1TLENE</td>\n",
       "      <td>0001527665</td>\n",
       "      <td>1358380800</td>\n",
       "      <td>0</td>\n",
       "      <td>1</td>\n",
       "      <td>0</td>\n",
       "      <td>0</td>\n",
       "      <td>0</td>\n",
       "      <td>0</td>\n",
       "    </tr>\n",
       "    <tr>\n",
       "      <th>3</th>\n",
       "      <td>5</td>\n",
       "      <td>True</td>\n",
       "      <td>A1KM9FNEJ8Q171</td>\n",
       "      <td>0001527665</td>\n",
       "      <td>1357776000</td>\n",
       "      <td>0</td>\n",
       "      <td>1</td>\n",
       "      <td>0</td>\n",
       "      <td>0</td>\n",
       "      <td>0</td>\n",
       "      <td>0</td>\n",
       "    </tr>\n",
       "    <tr>\n",
       "      <th>4</th>\n",
       "      <td>4</td>\n",
       "      <td>True</td>\n",
       "      <td>A38LY2SSHVHRYB</td>\n",
       "      <td>0001527665</td>\n",
       "      <td>1356480000</td>\n",
       "      <td>0</td>\n",
       "      <td>1</td>\n",
       "      <td>0</td>\n",
       "      <td>0</td>\n",
       "      <td>0</td>\n",
       "      <td>0</td>\n",
       "    </tr>\n",
       "  </tbody>\n",
       "</table>\n",
       "</div>"
      ],
      "text/plain": [
       "   overall  verified      reviewerID        asin  unixReviewTime  vote  \\\n",
       "0        5      True  A3478QRKQDOPQ2  0001527665      1362960000     0   \n",
       "1        5      True  A2VHSG6TZHU1OB  0001527665      1361145600     3   \n",
       "2        5     False  A23EJWOW1TLENE  0001527665      1358380800     0   \n",
       "3        5      True  A1KM9FNEJ8Q171  0001527665      1357776000     0   \n",
       "4        4      True  A38LY2SSHVHRYB  0001527665      1356480000     0   \n",
       "\n",
       "   style_Amazon Video  style_Blu-ray  style_DVD  style_Other  style_VHS Tape  \n",
       "0                   0              0          0            0               1  \n",
       "1                   1              0          0            0               0  \n",
       "2                   1              0          0            0               0  \n",
       "3                   1              0          0            0               0  \n",
       "4                   1              0          0            0               0  "
      ]
     },
     "execution_count": 47,
     "metadata": {},
     "output_type": "execute_result"
    }
   ],
   "source": [
    "review_df.head()"
   ]
  },
  {
   "cell_type": "code",
   "execution_count": null,
   "id": "8725848b",
   "metadata": {},
   "outputs": [],
   "source": []
  }
 ],
 "metadata": {
  "kernelspec": {
   "display_name": "Python 3 (ipykernel)",
   "language": "python",
   "name": "python3"
  },
  "language_info": {
   "codemirror_mode": {
    "name": "ipython",
    "version": 3
   },
   "file_extension": ".py",
   "mimetype": "text/x-python",
   "name": "python",
   "nbconvert_exporter": "python",
   "pygments_lexer": "ipython3",
   "version": "3.9.12"
  },
  "vscode": {
   "interpreter": {
    "hash": "5e820f3ddc028a719ffe50e7d80dd01658ce1fe998d4f6f388d9b09d11d3d164"
   }
  }
 },
 "nbformat": 4,
 "nbformat_minor": 5
}
