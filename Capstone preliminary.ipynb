{
 "cells": [
  {
   "cell_type": "markdown",
   "id": "44e41afa",
   "metadata": {},
   "source": [
    "## CAPSTONE"
   ]
  },
  {
   "cell_type": "markdown",
   "id": "62d3e56f",
   "metadata": {},
   "source": [
    "# Data analysis road map\n"
   ]
  },
  {
   "cell_type": "markdown",
   "id": "273c72b6",
   "metadata": {},
   "source": [
    "1. Load in the data\n",
    "2. Clean data\n",
    "    - Check for nulls\n",
    "    - Unpack any\n",
    "3. Preprocessing\n",
    "4. EDA"
   ]
  },
  {
   "cell_type": "code",
   "execution_count": 1,
   "id": "5dd532af",
   "metadata": {},
   "outputs": [],
   "source": [
    "import json\n",
    "import pandas as pd\n",
    "import numpy as np\n",
    "import matplotlib.pyplot as plt\n",
    "import seaborn as sns\n",
    "import statsmodels.api as sm\n",
    "import tqdm as tqdm"
   ]
  },
  {
   "cell_type": "markdown",
   "id": "20aa50b6",
   "metadata": {},
   "source": [
    "Since the dataset contains 8.9 million rows of data and is 5.2 gbs, the data will first be loaded in and preprocessed to a condensed size in order to be able to do an EDA on the whole dataset"
   ]
  },
  {
   "cell_type": "markdown",
   "id": "44c2b140",
   "metadata": {},
   "source": [
    "Load in the dataset"
   ]
  },
  {
   "cell_type": "code",
   "execution_count": 2,
   "id": "2cc7464f",
   "metadata": {},
   "outputs": [],
   "source": [
    "review_data = []\n",
    "with open('Movies_and_TV.json','r') as metafile:\n",
    "    for x in range(2000000):\n",
    "        review_data.append(json.loads(next(metafile)))"
   ]
  },
  {
   "cell_type": "markdown",
   "id": "9b99a64d",
   "metadata": {},
   "source": [
    "Create the dataframe and explore the data"
   ]
  },
  {
   "cell_type": "code",
   "execution_count": 3,
   "id": "6ae62880",
   "metadata": {},
   "outputs": [],
   "source": [
    "review_df = pd.DataFrame(review_data)"
   ]
  },
  {
   "cell_type": "code",
   "execution_count": 4,
   "id": "6b59171f",
   "metadata": {},
   "outputs": [
    {
     "name": "stdout",
     "output_type": "stream",
     "text": [
      "<class 'pandas.core.frame.DataFrame'>\n",
      "RangeIndex: 2000000 entries, 0 to 1999999\n",
      "Data columns (total 12 columns):\n",
      " #   Column          Non-Null Count    Dtype  \n",
      "---  ------          --------------    -----  \n",
      " 0   overall         2000000 non-null  float64\n",
      " 1   verified        2000000 non-null  bool   \n",
      " 2   reviewTime      2000000 non-null  object \n",
      " 3   reviewerID      2000000 non-null  object \n",
      " 4   asin            2000000 non-null  object \n",
      " 5   style           1869058 non-null  object \n",
      " 6   reviewerName    1999947 non-null  object \n",
      " 7   reviewText      1998502 non-null  object \n",
      " 8   summary         1999606 non-null  object \n",
      " 9   unixReviewTime  2000000 non-null  int64  \n",
      " 10  vote            413317 non-null   object \n",
      " 11  image           2912 non-null     object \n",
      "dtypes: bool(1), float64(1), int64(1), object(9)\n",
      "memory usage: 169.8+ MB\n"
     ]
    }
   ],
   "source": [
    "review_df.info(show_counts= True)"
   ]
  },
  {
   "cell_type": "markdown",
   "id": "d9d7c071",
   "metadata": {},
   "source": [
    "There are 12 columns of data and some datatypes can be changed to take up less space when storing the data"
   ]
  },
  {
   "cell_type": "code",
   "execution_count": 5,
   "id": "77e02091",
   "metadata": {},
   "outputs": [
    {
     "data": {
      "text/html": [
       "<div>\n",
       "<style scoped>\n",
       "    .dataframe tbody tr th:only-of-type {\n",
       "        vertical-align: middle;\n",
       "    }\n",
       "\n",
       "    .dataframe tbody tr th {\n",
       "        vertical-align: top;\n",
       "    }\n",
       "\n",
       "    .dataframe thead th {\n",
       "        text-align: right;\n",
       "    }\n",
       "</style>\n",
       "<table border=\"1\" class=\"dataframe\">\n",
       "  <thead>\n",
       "    <tr style=\"text-align: right;\">\n",
       "      <th></th>\n",
       "      <th>overall</th>\n",
       "      <th>verified</th>\n",
       "      <th>reviewTime</th>\n",
       "      <th>reviewerID</th>\n",
       "      <th>asin</th>\n",
       "      <th>style</th>\n",
       "      <th>reviewerName</th>\n",
       "      <th>reviewText</th>\n",
       "      <th>summary</th>\n",
       "      <th>unixReviewTime</th>\n",
       "      <th>vote</th>\n",
       "      <th>image</th>\n",
       "    </tr>\n",
       "  </thead>\n",
       "  <tbody>\n",
       "    <tr>\n",
       "      <th>0</th>\n",
       "      <td>5.0</td>\n",
       "      <td>True</td>\n",
       "      <td>03 11, 2013</td>\n",
       "      <td>A3478QRKQDOPQ2</td>\n",
       "      <td>0001527665</td>\n",
       "      <td>{'Format:': ' VHS Tape'}</td>\n",
       "      <td>jacki</td>\n",
       "      <td>really happy they got evangelised .. spoiler a...</td>\n",
       "      <td>great</td>\n",
       "      <td>1362960000</td>\n",
       "      <td>NaN</td>\n",
       "      <td>NaN</td>\n",
       "    </tr>\n",
       "    <tr>\n",
       "      <th>1</th>\n",
       "      <td>5.0</td>\n",
       "      <td>True</td>\n",
       "      <td>02 18, 2013</td>\n",
       "      <td>A2VHSG6TZHU1OB</td>\n",
       "      <td>0001527665</td>\n",
       "      <td>{'Format:': ' Amazon Video'}</td>\n",
       "      <td>Ken P</td>\n",
       "      <td>Having lived in West New Guinea (Papua) during...</td>\n",
       "      <td>Realistic and Accurate</td>\n",
       "      <td>1361145600</td>\n",
       "      <td>3</td>\n",
       "      <td>NaN</td>\n",
       "    </tr>\n",
       "    <tr>\n",
       "      <th>2</th>\n",
       "      <td>5.0</td>\n",
       "      <td>False</td>\n",
       "      <td>01 17, 2013</td>\n",
       "      <td>A23EJWOW1TLENE</td>\n",
       "      <td>0001527665</td>\n",
       "      <td>{'Format:': ' Amazon Video'}</td>\n",
       "      <td>Reina Berumen</td>\n",
       "      <td>Excellent look into contextualizing the Gospel...</td>\n",
       "      <td>Peace Child</td>\n",
       "      <td>1358380800</td>\n",
       "      <td>NaN</td>\n",
       "      <td>NaN</td>\n",
       "    </tr>\n",
       "    <tr>\n",
       "      <th>3</th>\n",
       "      <td>5.0</td>\n",
       "      <td>True</td>\n",
       "      <td>01 10, 2013</td>\n",
       "      <td>A1KM9FNEJ8Q171</td>\n",
       "      <td>0001527665</td>\n",
       "      <td>{'Format:': ' Amazon Video'}</td>\n",
       "      <td>N Coyle</td>\n",
       "      <td>More than anything, I've been challenged to fi...</td>\n",
       "      <td>Culturally relevant ways to share the love of ...</td>\n",
       "      <td>1357776000</td>\n",
       "      <td>NaN</td>\n",
       "      <td>NaN</td>\n",
       "    </tr>\n",
       "    <tr>\n",
       "      <th>4</th>\n",
       "      <td>4.0</td>\n",
       "      <td>True</td>\n",
       "      <td>12 26, 2012</td>\n",
       "      <td>A38LY2SSHVHRYB</td>\n",
       "      <td>0001527665</td>\n",
       "      <td>{'Format:': ' Amazon Video'}</td>\n",
       "      <td>Jodie Vesely</td>\n",
       "      <td>This is a great movie for a missionary going i...</td>\n",
       "      <td>Good Movie! Great for cross-cultural missionar...</td>\n",
       "      <td>1356480000</td>\n",
       "      <td>NaN</td>\n",
       "      <td>NaN</td>\n",
       "    </tr>\n",
       "  </tbody>\n",
       "</table>\n",
       "</div>"
      ],
      "text/plain": [
       "   overall  verified   reviewTime      reviewerID        asin  \\\n",
       "0      5.0      True  03 11, 2013  A3478QRKQDOPQ2  0001527665   \n",
       "1      5.0      True  02 18, 2013  A2VHSG6TZHU1OB  0001527665   \n",
       "2      5.0     False  01 17, 2013  A23EJWOW1TLENE  0001527665   \n",
       "3      5.0      True  01 10, 2013  A1KM9FNEJ8Q171  0001527665   \n",
       "4      4.0      True  12 26, 2012  A38LY2SSHVHRYB  0001527665   \n",
       "\n",
       "                          style   reviewerName  \\\n",
       "0      {'Format:': ' VHS Tape'}          jacki   \n",
       "1  {'Format:': ' Amazon Video'}          Ken P   \n",
       "2  {'Format:': ' Amazon Video'}  Reina Berumen   \n",
       "3  {'Format:': ' Amazon Video'}        N Coyle   \n",
       "4  {'Format:': ' Amazon Video'}   Jodie Vesely   \n",
       "\n",
       "                                          reviewText  \\\n",
       "0  really happy they got evangelised .. spoiler a...   \n",
       "1  Having lived in West New Guinea (Papua) during...   \n",
       "2  Excellent look into contextualizing the Gospel...   \n",
       "3  More than anything, I've been challenged to fi...   \n",
       "4  This is a great movie for a missionary going i...   \n",
       "\n",
       "                                             summary  unixReviewTime vote  \\\n",
       "0                                              great      1362960000  NaN   \n",
       "1                             Realistic and Accurate      1361145600    3   \n",
       "2                                        Peace Child      1358380800  NaN   \n",
       "3  Culturally relevant ways to share the love of ...      1357776000  NaN   \n",
       "4  Good Movie! Great for cross-cultural missionar...      1356480000  NaN   \n",
       "\n",
       "  image  \n",
       "0   NaN  \n",
       "1   NaN  \n",
       "2   NaN  \n",
       "3   NaN  \n",
       "4   NaN  "
      ]
     },
     "execution_count": 5,
     "metadata": {},
     "output_type": "execute_result"
    }
   ],
   "source": [
    "review_df.head()"
   ]
  },
  {
   "cell_type": "markdown",
   "id": "ade3f4bb",
   "metadata": {},
   "source": [
    "Looking at the columns, `reviewTime` and `unixReviewTime` display the same information so `reviewTime` will be dropped. (The numeric column is kept so that it can be used for regression models in the future.) The `reviewerName` does not provide any useful information since there is a unique `reviewerID` for each reviewer. Two reviewers can have the same name but may not be the same person. Thus `reviewerName` will be dropped. The `image` column can be dropped because this project will not deal with image data. "
   ]
  },
  {
   "cell_type": "markdown",
   "id": "c0990a66",
   "metadata": {},
   "source": [
    "Before the reviewername is dropped, it will be compared with the reviewerID column to ensure they contain the same information"
   ]
  },
  {
   "cell_type": "code",
   "execution_count": 6,
   "id": "1a9f8e4d",
   "metadata": {},
   "outputs": [
    {
     "data": {
      "text/plain": [
       "A16CZRQL23NOIW    978\n",
       "A2NJO6YE954DBH    920\n",
       "ANCOMAI0I7LVG     876\n",
       "A3LZGLA88K0LA0    745\n",
       "A1GGOC9PVDXW7Z    745\n",
       "                 ... \n",
       "AB8BM07ZTG236       1\n",
       "A3LF00CD1WHAKO      1\n",
       "AK8Q0975RJA77       1\n",
       "AFLNF5IDDBUJ1       1\n",
       "A32XZIH7HR8VJI      1\n",
       "Name: reviewerID, Length: 1184787, dtype: int64"
      ]
     },
     "execution_count": 6,
     "metadata": {},
     "output_type": "execute_result"
    }
   ],
   "source": [
    "review_df['reviewerID'].value_counts()"
   ]
  },
  {
   "cell_type": "code",
   "execution_count": 7,
   "id": "137b46e7",
   "metadata": {},
   "outputs": [
    {
     "data": {
      "text/plain": [
       "Amazon Customer                          116732\n",
       "Kindle Customer                            9982\n",
       "Mike                                       1880\n",
       "John                                       1879\n",
       "Chris                                      1632\n",
       "                                          ...  \n",
       "Bree Long                                     1\n",
       "Harvey Harte                                  1\n",
       "Phillip J Montejano                           1\n",
       "Lillian F Stephens                            1\n",
       "Unsatisfied Customer on this product.         1\n",
       "Name: reviewerName, Length: 821904, dtype: int64"
      ]
     },
     "execution_count": 7,
     "metadata": {},
     "output_type": "execute_result"
    }
   ],
   "source": [
    "review_df['reviewerName'].value_counts()"
   ]
  },
  {
   "cell_type": "markdown",
   "id": "0cc2a360",
   "metadata": {},
   "source": [
    "The `reviewerID` and `reviewerName` column show differrent lengths. The `reviewerName` column contains less information than the `reviewerID` column because users can have the same names but reviewerID is unique. Thus reviewerID should be used."
   ]
  },
  {
   "cell_type": "code",
   "execution_count": 8,
   "id": "6e3ca678",
   "metadata": {},
   "outputs": [
    {
     "data": {
      "text/html": [
       "<div>\n",
       "<style scoped>\n",
       "    .dataframe tbody tr th:only-of-type {\n",
       "        vertical-align: middle;\n",
       "    }\n",
       "\n",
       "    .dataframe tbody tr th {\n",
       "        vertical-align: top;\n",
       "    }\n",
       "\n",
       "    .dataframe thead th {\n",
       "        text-align: right;\n",
       "    }\n",
       "</style>\n",
       "<table border=\"1\" class=\"dataframe\">\n",
       "  <thead>\n",
       "    <tr style=\"text-align: right;\">\n",
       "      <th></th>\n",
       "      <th>overall</th>\n",
       "      <th>verified</th>\n",
       "      <th>reviewerID</th>\n",
       "      <th>asin</th>\n",
       "      <th>style</th>\n",
       "      <th>reviewText</th>\n",
       "      <th>summary</th>\n",
       "      <th>unixReviewTime</th>\n",
       "      <th>vote</th>\n",
       "    </tr>\n",
       "  </thead>\n",
       "  <tbody>\n",
       "    <tr>\n",
       "      <th>0</th>\n",
       "      <td>5.0</td>\n",
       "      <td>True</td>\n",
       "      <td>A3478QRKQDOPQ2</td>\n",
       "      <td>0001527665</td>\n",
       "      <td>{'Format:': ' VHS Tape'}</td>\n",
       "      <td>really happy they got evangelised .. spoiler a...</td>\n",
       "      <td>great</td>\n",
       "      <td>1362960000</td>\n",
       "      <td>NaN</td>\n",
       "    </tr>\n",
       "    <tr>\n",
       "      <th>1</th>\n",
       "      <td>5.0</td>\n",
       "      <td>True</td>\n",
       "      <td>A2VHSG6TZHU1OB</td>\n",
       "      <td>0001527665</td>\n",
       "      <td>{'Format:': ' Amazon Video'}</td>\n",
       "      <td>Having lived in West New Guinea (Papua) during...</td>\n",
       "      <td>Realistic and Accurate</td>\n",
       "      <td>1361145600</td>\n",
       "      <td>3</td>\n",
       "    </tr>\n",
       "    <tr>\n",
       "      <th>2</th>\n",
       "      <td>5.0</td>\n",
       "      <td>False</td>\n",
       "      <td>A23EJWOW1TLENE</td>\n",
       "      <td>0001527665</td>\n",
       "      <td>{'Format:': ' Amazon Video'}</td>\n",
       "      <td>Excellent look into contextualizing the Gospel...</td>\n",
       "      <td>Peace Child</td>\n",
       "      <td>1358380800</td>\n",
       "      <td>NaN</td>\n",
       "    </tr>\n",
       "    <tr>\n",
       "      <th>3</th>\n",
       "      <td>5.0</td>\n",
       "      <td>True</td>\n",
       "      <td>A1KM9FNEJ8Q171</td>\n",
       "      <td>0001527665</td>\n",
       "      <td>{'Format:': ' Amazon Video'}</td>\n",
       "      <td>More than anything, I've been challenged to fi...</td>\n",
       "      <td>Culturally relevant ways to share the love of ...</td>\n",
       "      <td>1357776000</td>\n",
       "      <td>NaN</td>\n",
       "    </tr>\n",
       "    <tr>\n",
       "      <th>4</th>\n",
       "      <td>4.0</td>\n",
       "      <td>True</td>\n",
       "      <td>A38LY2SSHVHRYB</td>\n",
       "      <td>0001527665</td>\n",
       "      <td>{'Format:': ' Amazon Video'}</td>\n",
       "      <td>This is a great movie for a missionary going i...</td>\n",
       "      <td>Good Movie! Great for cross-cultural missionar...</td>\n",
       "      <td>1356480000</td>\n",
       "      <td>NaN</td>\n",
       "    </tr>\n",
       "    <tr>\n",
       "      <th>...</th>\n",
       "      <td>...</td>\n",
       "      <td>...</td>\n",
       "      <td>...</td>\n",
       "      <td>...</td>\n",
       "      <td>...</td>\n",
       "      <td>...</td>\n",
       "      <td>...</td>\n",
       "      <td>...</td>\n",
       "      <td>...</td>\n",
       "    </tr>\n",
       "    <tr>\n",
       "      <th>1999995</th>\n",
       "      <td>5.0</td>\n",
       "      <td>True</td>\n",
       "      <td>A1UM0LZVGQ4RYX</td>\n",
       "      <td>B0001GF2F6</td>\n",
       "      <td>{'Format:': ' Amazon Video'}</td>\n",
       "      <td>Loved it want to see more</td>\n",
       "      <td>Five Stars</td>\n",
       "      <td>1440979200</td>\n",
       "      <td>NaN</td>\n",
       "    </tr>\n",
       "    <tr>\n",
       "      <th>1999996</th>\n",
       "      <td>5.0</td>\n",
       "      <td>True</td>\n",
       "      <td>A3MWE7P29CDR5L</td>\n",
       "      <td>B0001GF2F6</td>\n",
       "      <td>{'Format:': ' Amazon Video'}</td>\n",
       "      <td>Loved it wish it was more than two seasons.</td>\n",
       "      <td>Five Stars</td>\n",
       "      <td>1440979200</td>\n",
       "      <td>NaN</td>\n",
       "    </tr>\n",
       "    <tr>\n",
       "      <th>1999997</th>\n",
       "      <td>5.0</td>\n",
       "      <td>True</td>\n",
       "      <td>A3J6N3SOCENIPB</td>\n",
       "      <td>B0001GF2F6</td>\n",
       "      <td>{'Format:': ' Amazon Video'}</td>\n",
       "      <td>Such a witty show with good acting. This show ...</td>\n",
       "      <td>Dark humor with lessons about life.</td>\n",
       "      <td>1440892800</td>\n",
       "      <td>NaN</td>\n",
       "    </tr>\n",
       "    <tr>\n",
       "      <th>1999998</th>\n",
       "      <td>4.0</td>\n",
       "      <td>True</td>\n",
       "      <td>A5O06SYSW6V93</td>\n",
       "      <td>B0001GF2F6</td>\n",
       "      <td>{'Format:': ' Amazon Video'}</td>\n",
       "      <td>It's a weird (comical) look at Grim Reapers.</td>\n",
       "      <td>Four Stars</td>\n",
       "      <td>1440806400</td>\n",
       "      <td>NaN</td>\n",
       "    </tr>\n",
       "    <tr>\n",
       "      <th>1999999</th>\n",
       "      <td>4.0</td>\n",
       "      <td>True</td>\n",
       "      <td>A1KF85AQR11MDY</td>\n",
       "      <td>B0001GF2F6</td>\n",
       "      <td>{'Format:': ' Amazon Video'}</td>\n",
       "      <td>I don't get it. Are they all dead?</td>\n",
       "      <td>Four Stars</td>\n",
       "      <td>1440806400</td>\n",
       "      <td>NaN</td>\n",
       "    </tr>\n",
       "  </tbody>\n",
       "</table>\n",
       "<p>2000000 rows × 9 columns</p>\n",
       "</div>"
      ],
      "text/plain": [
       "         overall  verified      reviewerID        asin  \\\n",
       "0            5.0      True  A3478QRKQDOPQ2  0001527665   \n",
       "1            5.0      True  A2VHSG6TZHU1OB  0001527665   \n",
       "2            5.0     False  A23EJWOW1TLENE  0001527665   \n",
       "3            5.0      True  A1KM9FNEJ8Q171  0001527665   \n",
       "4            4.0      True  A38LY2SSHVHRYB  0001527665   \n",
       "...          ...       ...             ...         ...   \n",
       "1999995      5.0      True  A1UM0LZVGQ4RYX  B0001GF2F6   \n",
       "1999996      5.0      True  A3MWE7P29CDR5L  B0001GF2F6   \n",
       "1999997      5.0      True  A3J6N3SOCENIPB  B0001GF2F6   \n",
       "1999998      4.0      True   A5O06SYSW6V93  B0001GF2F6   \n",
       "1999999      4.0      True  A1KF85AQR11MDY  B0001GF2F6   \n",
       "\n",
       "                                style  \\\n",
       "0            {'Format:': ' VHS Tape'}   \n",
       "1        {'Format:': ' Amazon Video'}   \n",
       "2        {'Format:': ' Amazon Video'}   \n",
       "3        {'Format:': ' Amazon Video'}   \n",
       "4        {'Format:': ' Amazon Video'}   \n",
       "...                               ...   \n",
       "1999995  {'Format:': ' Amazon Video'}   \n",
       "1999996  {'Format:': ' Amazon Video'}   \n",
       "1999997  {'Format:': ' Amazon Video'}   \n",
       "1999998  {'Format:': ' Amazon Video'}   \n",
       "1999999  {'Format:': ' Amazon Video'}   \n",
       "\n",
       "                                                reviewText  \\\n",
       "0        really happy they got evangelised .. spoiler a...   \n",
       "1        Having lived in West New Guinea (Papua) during...   \n",
       "2        Excellent look into contextualizing the Gospel...   \n",
       "3        More than anything, I've been challenged to fi...   \n",
       "4        This is a great movie for a missionary going i...   \n",
       "...                                                    ...   \n",
       "1999995                          Loved it want to see more   \n",
       "1999996        Loved it wish it was more than two seasons.   \n",
       "1999997  Such a witty show with good acting. This show ...   \n",
       "1999998       It's a weird (comical) look at Grim Reapers.   \n",
       "1999999                 I don't get it. Are they all dead?   \n",
       "\n",
       "                                                   summary  unixReviewTime  \\\n",
       "0                                                    great      1362960000   \n",
       "1                                   Realistic and Accurate      1361145600   \n",
       "2                                              Peace Child      1358380800   \n",
       "3        Culturally relevant ways to share the love of ...      1357776000   \n",
       "4        Good Movie! Great for cross-cultural missionar...      1356480000   \n",
       "...                                                    ...             ...   \n",
       "1999995                                         Five Stars      1440979200   \n",
       "1999996                                         Five Stars      1440979200   \n",
       "1999997                Dark humor with lessons about life.      1440892800   \n",
       "1999998                                         Four Stars      1440806400   \n",
       "1999999                                         Four Stars      1440806400   \n",
       "\n",
       "        vote  \n",
       "0        NaN  \n",
       "1          3  \n",
       "2        NaN  \n",
       "3        NaN  \n",
       "4        NaN  \n",
       "...      ...  \n",
       "1999995  NaN  \n",
       "1999996  NaN  \n",
       "1999997  NaN  \n",
       "1999998  NaN  \n",
       "1999999  NaN  \n",
       "\n",
       "[2000000 rows x 9 columns]"
      ]
     },
     "execution_count": 8,
     "metadata": {},
     "output_type": "execute_result"
    }
   ],
   "source": [
    "# Drop the unnecessary columns\n",
    "review_df.drop(columns = ['reviewTime','reviewerName','image'],inplace = True)\n",
    "review_df"
   ]
  },
  {
   "cell_type": "code",
   "execution_count": 9,
   "id": "34bc338f",
   "metadata": {},
   "outputs": [
    {
     "name": "stdout",
     "output_type": "stream",
     "text": [
      "<class 'pandas.core.frame.DataFrame'>\n",
      "RangeIndex: 2000000 entries, 0 to 1999999\n",
      "Data columns (total 9 columns):\n",
      " #   Column          Dtype  \n",
      "---  ------          -----  \n",
      " 0   overall         float64\n",
      " 1   verified        bool   \n",
      " 2   reviewerID      object \n",
      " 3   asin            object \n",
      " 4   style           object \n",
      " 5   reviewText      object \n",
      " 6   summary         object \n",
      " 7   unixReviewTime  int64  \n",
      " 8   vote            object \n",
      "dtypes: bool(1), float64(1), int64(1), object(6)\n",
      "memory usage: 124.0+ MB\n"
     ]
    }
   ],
   "source": [
    "review_df.info()"
   ]
  },
  {
   "cell_type": "markdown",
   "id": "bf029da2",
   "metadata": {},
   "source": [
    "### Check the datatype in the column `overall`"
   ]
  },
  {
   "cell_type": "code",
   "execution_count": 10,
   "id": "455abb60",
   "metadata": {},
   "outputs": [
    {
     "data": {
      "text/plain": [
       "5.0    1304630\n",
       "4.0     340073\n",
       "3.0     151321\n",
       "1.0     123501\n",
       "2.0      80475\n",
       "Name: overall, dtype: int64"
      ]
     },
     "execution_count": 10,
     "metadata": {},
     "output_type": "execute_result"
    }
   ],
   "source": [
    "review_df['overall'].value_counts()"
   ]
  },
  {
   "cell_type": "markdown",
   "id": "c4713786",
   "metadata": {},
   "source": [
    "It looks like the values for the overall column are contained between 1 and 5 which makes sense since its a review out of 5. All of these are also integers so the datatype can be changed to a int8 type"
   ]
  },
  {
   "cell_type": "code",
   "execution_count": 11,
   "id": "20f8c349",
   "metadata": {},
   "outputs": [
    {
     "name": "stdout",
     "output_type": "stream",
     "text": [
      "<class 'pandas.core.frame.DataFrame'>\n",
      "RangeIndex: 2000000 entries, 0 to 1999999\n",
      "Data columns (total 9 columns):\n",
      " #   Column          Dtype \n",
      "---  ------          ----- \n",
      " 0   overall         int8  \n",
      " 1   verified        bool  \n",
      " 2   reviewerID      object\n",
      " 3   asin            object\n",
      " 4   style           object\n",
      " 5   reviewText      object\n",
      " 6   summary         object\n",
      " 7   unixReviewTime  int64 \n",
      " 8   vote            object\n",
      "dtypes: bool(1), int64(1), int8(1), object(6)\n",
      "memory usage: 110.6+ MB\n"
     ]
    }
   ],
   "source": [
    "review_df['overall'] = review_df['overall'].astype('int8')\n",
    "review_df.info()"
   ]
  },
  {
   "cell_type": "markdown",
   "id": "0ab8bcce",
   "metadata": {},
   "source": [
    "### Check the datatype in the column `Vote`"
   ]
  },
  {
   "cell_type": "markdown",
   "id": "b964c010",
   "metadata": {},
   "source": [
    "For the `vote` column, since the NaN values are essentially no votes with can be represented with 0, the NaN values will be replaced with a zero. There are also commas within the vote that causes problems when converted to an int so they will be removed."
   ]
  },
  {
   "cell_type": "code",
   "execution_count": 12,
   "id": "f8d14314",
   "metadata": {},
   "outputs": [
    {
     "data": {
      "text/html": [
       "<div>\n",
       "<style scoped>\n",
       "    .dataframe tbody tr th:only-of-type {\n",
       "        vertical-align: middle;\n",
       "    }\n",
       "\n",
       "    .dataframe tbody tr th {\n",
       "        vertical-align: top;\n",
       "    }\n",
       "\n",
       "    .dataframe thead th {\n",
       "        text-align: right;\n",
       "    }\n",
       "</style>\n",
       "<table border=\"1\" class=\"dataframe\">\n",
       "  <thead>\n",
       "    <tr style=\"text-align: right;\">\n",
       "      <th></th>\n",
       "      <th>overall</th>\n",
       "      <th>verified</th>\n",
       "      <th>reviewerID</th>\n",
       "      <th>asin</th>\n",
       "      <th>style</th>\n",
       "      <th>reviewText</th>\n",
       "      <th>summary</th>\n",
       "      <th>unixReviewTime</th>\n",
       "      <th>vote</th>\n",
       "    </tr>\n",
       "  </thead>\n",
       "  <tbody>\n",
       "    <tr>\n",
       "      <th>0</th>\n",
       "      <td>5</td>\n",
       "      <td>True</td>\n",
       "      <td>A3478QRKQDOPQ2</td>\n",
       "      <td>0001527665</td>\n",
       "      <td>{'Format:': ' VHS Tape'}</td>\n",
       "      <td>really happy they got evangelised .. spoiler a...</td>\n",
       "      <td>great</td>\n",
       "      <td>1362960000</td>\n",
       "      <td>0</td>\n",
       "    </tr>\n",
       "    <tr>\n",
       "      <th>1</th>\n",
       "      <td>5</td>\n",
       "      <td>True</td>\n",
       "      <td>A2VHSG6TZHU1OB</td>\n",
       "      <td>0001527665</td>\n",
       "      <td>{'Format:': ' Amazon Video'}</td>\n",
       "      <td>Having lived in West New Guinea (Papua) during...</td>\n",
       "      <td>Realistic and Accurate</td>\n",
       "      <td>1361145600</td>\n",
       "      <td>3</td>\n",
       "    </tr>\n",
       "    <tr>\n",
       "      <th>2</th>\n",
       "      <td>5</td>\n",
       "      <td>False</td>\n",
       "      <td>A23EJWOW1TLENE</td>\n",
       "      <td>0001527665</td>\n",
       "      <td>{'Format:': ' Amazon Video'}</td>\n",
       "      <td>Excellent look into contextualizing the Gospel...</td>\n",
       "      <td>Peace Child</td>\n",
       "      <td>1358380800</td>\n",
       "      <td>0</td>\n",
       "    </tr>\n",
       "    <tr>\n",
       "      <th>3</th>\n",
       "      <td>5</td>\n",
       "      <td>True</td>\n",
       "      <td>A1KM9FNEJ8Q171</td>\n",
       "      <td>0001527665</td>\n",
       "      <td>{'Format:': ' Amazon Video'}</td>\n",
       "      <td>More than anything, I've been challenged to fi...</td>\n",
       "      <td>Culturally relevant ways to share the love of ...</td>\n",
       "      <td>1357776000</td>\n",
       "      <td>0</td>\n",
       "    </tr>\n",
       "    <tr>\n",
       "      <th>4</th>\n",
       "      <td>4</td>\n",
       "      <td>True</td>\n",
       "      <td>A38LY2SSHVHRYB</td>\n",
       "      <td>0001527665</td>\n",
       "      <td>{'Format:': ' Amazon Video'}</td>\n",
       "      <td>This is a great movie for a missionary going i...</td>\n",
       "      <td>Good Movie! Great for cross-cultural missionar...</td>\n",
       "      <td>1356480000</td>\n",
       "      <td>0</td>\n",
       "    </tr>\n",
       "  </tbody>\n",
       "</table>\n",
       "</div>"
      ],
      "text/plain": [
       "   overall  verified      reviewerID        asin  \\\n",
       "0        5      True  A3478QRKQDOPQ2  0001527665   \n",
       "1        5      True  A2VHSG6TZHU1OB  0001527665   \n",
       "2        5     False  A23EJWOW1TLENE  0001527665   \n",
       "3        5      True  A1KM9FNEJ8Q171  0001527665   \n",
       "4        4      True  A38LY2SSHVHRYB  0001527665   \n",
       "\n",
       "                          style  \\\n",
       "0      {'Format:': ' VHS Tape'}   \n",
       "1  {'Format:': ' Amazon Video'}   \n",
       "2  {'Format:': ' Amazon Video'}   \n",
       "3  {'Format:': ' Amazon Video'}   \n",
       "4  {'Format:': ' Amazon Video'}   \n",
       "\n",
       "                                          reviewText  \\\n",
       "0  really happy they got evangelised .. spoiler a...   \n",
       "1  Having lived in West New Guinea (Papua) during...   \n",
       "2  Excellent look into contextualizing the Gospel...   \n",
       "3  More than anything, I've been challenged to fi...   \n",
       "4  This is a great movie for a missionary going i...   \n",
       "\n",
       "                                             summary  unixReviewTime vote  \n",
       "0                                              great      1362960000    0  \n",
       "1                             Realistic and Accurate      1361145600    3  \n",
       "2                                        Peace Child      1358380800    0  \n",
       "3  Culturally relevant ways to share the love of ...      1357776000    0  \n",
       "4  Good Movie! Great for cross-cultural missionar...      1356480000    0  "
      ]
     },
     "execution_count": 12,
     "metadata": {},
     "output_type": "execute_result"
    }
   ],
   "source": [
    "review_df['vote'] = review_df['vote'].str.replace(r\"\\,\",\"\",regex = True)\n",
    "review_df['vote'] = review_df['vote'].fillna(0)\n",
    "review_df.head()"
   ]
  },
  {
   "cell_type": "markdown",
   "id": "fdad3074",
   "metadata": {},
   "source": [
    "The votes have now all been converted to numbers and the datatype can now be changed."
   ]
  },
  {
   "cell_type": "code",
   "execution_count": 13,
   "id": "dad989b6",
   "metadata": {},
   "outputs": [
    {
     "name": "stdout",
     "output_type": "stream",
     "text": [
      "<class 'pandas.core.frame.DataFrame'>\n",
      "RangeIndex: 2000000 entries, 0 to 1999999\n",
      "Data columns (total 9 columns):\n",
      " #   Column          Dtype \n",
      "---  ------          ----- \n",
      " 0   overall         int8  \n",
      " 1   verified        bool  \n",
      " 2   reviewerID      object\n",
      " 3   asin            object\n",
      " 4   style           object\n",
      " 5   reviewText      object\n",
      " 6   summary         object\n",
      " 7   unixReviewTime  int64 \n",
      " 8   vote            int32 \n",
      "dtypes: bool(1), int32(1), int64(1), int8(1), object(5)\n",
      "memory usage: 103.0+ MB\n"
     ]
    }
   ],
   "source": [
    "review_df['vote'] = review_df['vote'].astype('int32')\n",
    "review_df.info()"
   ]
  },
  {
   "cell_type": "markdown",
   "id": "545f0886",
   "metadata": {},
   "source": [
    "### Check the datatype in the column `unixReviewTime`"
   ]
  },
  {
   "cell_type": "markdown",
   "id": "49b67259",
   "metadata": {},
   "source": [
    "The univReviewTime column can be converted to an int32 for the current project because the maximum int32 value will be reached in January, 2038 which has not occured yet. Thus the data is bound by int32 values."
   ]
  },
  {
   "cell_type": "code",
   "execution_count": 14,
   "id": "f2a9a578",
   "metadata": {},
   "outputs": [
    {
     "name": "stdout",
     "output_type": "stream",
     "text": [
      "<class 'pandas.core.frame.DataFrame'>\n",
      "RangeIndex: 2000000 entries, 0 to 1999999\n",
      "Data columns (total 9 columns):\n",
      " #   Column          Dtype \n",
      "---  ------          ----- \n",
      " 0   overall         int8  \n",
      " 1   verified        bool  \n",
      " 2   reviewerID      object\n",
      " 3   asin            object\n",
      " 4   style           object\n",
      " 5   reviewText      object\n",
      " 6   summary         object\n",
      " 7   unixReviewTime  int32 \n",
      " 8   vote            int32 \n",
      "dtypes: bool(1), int32(2), int8(1), object(5)\n",
      "memory usage: 95.4+ MB\n"
     ]
    }
   ],
   "source": [
    "review_df['unixReviewTime'] = review_df['unixReviewTime'].astype('int32')\n",
    "review_df.info()"
   ]
  },
  {
   "cell_type": "markdown",
   "id": "9a51826d",
   "metadata": {},
   "source": [
    "### Remove text data from the dataframe"
   ]
  },
  {
   "cell_type": "markdown",
   "id": "0d08eb81",
   "metadata": {},
   "source": [
    "Text data will be removed from the dataset for the initial analysis of the review data to try to predict the overall score given certain features of the review."
   ]
  },
  {
   "cell_type": "code",
   "execution_count": 15,
   "id": "03231ba5",
   "metadata": {},
   "outputs": [
    {
     "data": {
      "text/html": [
       "<div>\n",
       "<style scoped>\n",
       "    .dataframe tbody tr th:only-of-type {\n",
       "        vertical-align: middle;\n",
       "    }\n",
       "\n",
       "    .dataframe tbody tr th {\n",
       "        vertical-align: top;\n",
       "    }\n",
       "\n",
       "    .dataframe thead th {\n",
       "        text-align: right;\n",
       "    }\n",
       "</style>\n",
       "<table border=\"1\" class=\"dataframe\">\n",
       "  <thead>\n",
       "    <tr style=\"text-align: right;\">\n",
       "      <th></th>\n",
       "      <th>overall</th>\n",
       "      <th>verified</th>\n",
       "      <th>reviewerID</th>\n",
       "      <th>asin</th>\n",
       "      <th>style</th>\n",
       "      <th>unixReviewTime</th>\n",
       "      <th>vote</th>\n",
       "    </tr>\n",
       "  </thead>\n",
       "  <tbody>\n",
       "    <tr>\n",
       "      <th>0</th>\n",
       "      <td>5</td>\n",
       "      <td>True</td>\n",
       "      <td>A3478QRKQDOPQ2</td>\n",
       "      <td>0001527665</td>\n",
       "      <td>{'Format:': ' VHS Tape'}</td>\n",
       "      <td>1362960000</td>\n",
       "      <td>0</td>\n",
       "    </tr>\n",
       "    <tr>\n",
       "      <th>1</th>\n",
       "      <td>5</td>\n",
       "      <td>True</td>\n",
       "      <td>A2VHSG6TZHU1OB</td>\n",
       "      <td>0001527665</td>\n",
       "      <td>{'Format:': ' Amazon Video'}</td>\n",
       "      <td>1361145600</td>\n",
       "      <td>3</td>\n",
       "    </tr>\n",
       "    <tr>\n",
       "      <th>2</th>\n",
       "      <td>5</td>\n",
       "      <td>False</td>\n",
       "      <td>A23EJWOW1TLENE</td>\n",
       "      <td>0001527665</td>\n",
       "      <td>{'Format:': ' Amazon Video'}</td>\n",
       "      <td>1358380800</td>\n",
       "      <td>0</td>\n",
       "    </tr>\n",
       "    <tr>\n",
       "      <th>3</th>\n",
       "      <td>5</td>\n",
       "      <td>True</td>\n",
       "      <td>A1KM9FNEJ8Q171</td>\n",
       "      <td>0001527665</td>\n",
       "      <td>{'Format:': ' Amazon Video'}</td>\n",
       "      <td>1357776000</td>\n",
       "      <td>0</td>\n",
       "    </tr>\n",
       "    <tr>\n",
       "      <th>4</th>\n",
       "      <td>4</td>\n",
       "      <td>True</td>\n",
       "      <td>A38LY2SSHVHRYB</td>\n",
       "      <td>0001527665</td>\n",
       "      <td>{'Format:': ' Amazon Video'}</td>\n",
       "      <td>1356480000</td>\n",
       "      <td>0</td>\n",
       "    </tr>\n",
       "    <tr>\n",
       "      <th>...</th>\n",
       "      <td>...</td>\n",
       "      <td>...</td>\n",
       "      <td>...</td>\n",
       "      <td>...</td>\n",
       "      <td>...</td>\n",
       "      <td>...</td>\n",
       "      <td>...</td>\n",
       "    </tr>\n",
       "    <tr>\n",
       "      <th>1999995</th>\n",
       "      <td>5</td>\n",
       "      <td>True</td>\n",
       "      <td>A1UM0LZVGQ4RYX</td>\n",
       "      <td>B0001GF2F6</td>\n",
       "      <td>{'Format:': ' Amazon Video'}</td>\n",
       "      <td>1440979200</td>\n",
       "      <td>0</td>\n",
       "    </tr>\n",
       "    <tr>\n",
       "      <th>1999996</th>\n",
       "      <td>5</td>\n",
       "      <td>True</td>\n",
       "      <td>A3MWE7P29CDR5L</td>\n",
       "      <td>B0001GF2F6</td>\n",
       "      <td>{'Format:': ' Amazon Video'}</td>\n",
       "      <td>1440979200</td>\n",
       "      <td>0</td>\n",
       "    </tr>\n",
       "    <tr>\n",
       "      <th>1999997</th>\n",
       "      <td>5</td>\n",
       "      <td>True</td>\n",
       "      <td>A3J6N3SOCENIPB</td>\n",
       "      <td>B0001GF2F6</td>\n",
       "      <td>{'Format:': ' Amazon Video'}</td>\n",
       "      <td>1440892800</td>\n",
       "      <td>0</td>\n",
       "    </tr>\n",
       "    <tr>\n",
       "      <th>1999998</th>\n",
       "      <td>4</td>\n",
       "      <td>True</td>\n",
       "      <td>A5O06SYSW6V93</td>\n",
       "      <td>B0001GF2F6</td>\n",
       "      <td>{'Format:': ' Amazon Video'}</td>\n",
       "      <td>1440806400</td>\n",
       "      <td>0</td>\n",
       "    </tr>\n",
       "    <tr>\n",
       "      <th>1999999</th>\n",
       "      <td>4</td>\n",
       "      <td>True</td>\n",
       "      <td>A1KF85AQR11MDY</td>\n",
       "      <td>B0001GF2F6</td>\n",
       "      <td>{'Format:': ' Amazon Video'}</td>\n",
       "      <td>1440806400</td>\n",
       "      <td>0</td>\n",
       "    </tr>\n",
       "  </tbody>\n",
       "</table>\n",
       "<p>2000000 rows × 7 columns</p>\n",
       "</div>"
      ],
      "text/plain": [
       "         overall  verified      reviewerID        asin  \\\n",
       "0              5      True  A3478QRKQDOPQ2  0001527665   \n",
       "1              5      True  A2VHSG6TZHU1OB  0001527665   \n",
       "2              5     False  A23EJWOW1TLENE  0001527665   \n",
       "3              5      True  A1KM9FNEJ8Q171  0001527665   \n",
       "4              4      True  A38LY2SSHVHRYB  0001527665   \n",
       "...          ...       ...             ...         ...   \n",
       "1999995        5      True  A1UM0LZVGQ4RYX  B0001GF2F6   \n",
       "1999996        5      True  A3MWE7P29CDR5L  B0001GF2F6   \n",
       "1999997        5      True  A3J6N3SOCENIPB  B0001GF2F6   \n",
       "1999998        4      True   A5O06SYSW6V93  B0001GF2F6   \n",
       "1999999        4      True  A1KF85AQR11MDY  B0001GF2F6   \n",
       "\n",
       "                                style  unixReviewTime  vote  \n",
       "0            {'Format:': ' VHS Tape'}      1362960000     0  \n",
       "1        {'Format:': ' Amazon Video'}      1361145600     3  \n",
       "2        {'Format:': ' Amazon Video'}      1358380800     0  \n",
       "3        {'Format:': ' Amazon Video'}      1357776000     0  \n",
       "4        {'Format:': ' Amazon Video'}      1356480000     0  \n",
       "...                               ...             ...   ...  \n",
       "1999995  {'Format:': ' Amazon Video'}      1440979200     0  \n",
       "1999996  {'Format:': ' Amazon Video'}      1440979200     0  \n",
       "1999997  {'Format:': ' Amazon Video'}      1440892800     0  \n",
       "1999998  {'Format:': ' Amazon Video'}      1440806400     0  \n",
       "1999999  {'Format:': ' Amazon Video'}      1440806400     0  \n",
       "\n",
       "[2000000 rows x 7 columns]"
      ]
     },
     "execution_count": 15,
     "metadata": {},
     "output_type": "execute_result"
    }
   ],
   "source": [
    "review_df.drop(columns = ['reviewText','summary'],inplace = True)\n",
    "review_df"
   ]
  },
  {
   "cell_type": "code",
   "execution_count": 16,
   "id": "c0062fac",
   "metadata": {},
   "outputs": [
    {
     "name": "stdout",
     "output_type": "stream",
     "text": [
      "<class 'pandas.core.frame.DataFrame'>\n",
      "RangeIndex: 2000000 entries, 0 to 1999999\n",
      "Data columns (total 7 columns):\n",
      " #   Column          Dtype \n",
      "---  ------          ----- \n",
      " 0   overall         int8  \n",
      " 1   verified        bool  \n",
      " 2   reviewerID      object\n",
      " 3   asin            object\n",
      " 4   style           object\n",
      " 5   unixReviewTime  int32 \n",
      " 6   vote            int32 \n",
      "dtypes: bool(1), int32(2), int8(1), object(3)\n",
      "memory usage: 64.8+ MB\n"
     ]
    }
   ],
   "source": [
    "review_df.info()"
   ]
  },
  {
   "cell_type": "markdown",
   "id": "6d4a434a",
   "metadata": {},
   "source": [
    "### Check the datatype in the column `style`"
   ]
  },
  {
   "cell_type": "markdown",
   "id": "8f5dd8d3",
   "metadata": {},
   "source": [
    "The NaN values in the column `style` will be filled with 'other' since the values is unknown.\n",
    "The column style will be converted to strings so that a duplicate check can be performed for the dataset. (Converting to str, then removing the key for the dictionary is more computationally effective for getting the value in the key-value pair than looping through every individual key and accessing the value. *Note: the latter was tried and took 10 mins for 1 million key-value pairs. The former took <5s.)"
   ]
  },
  {
   "cell_type": "code",
   "execution_count": 17,
   "id": "562dab96",
   "metadata": {},
   "outputs": [],
   "source": [
    "review_df['style'] = review_df['style'].fillna('Other')"
   ]
  },
  {
   "cell_type": "code",
   "execution_count": 18,
   "id": "3428c925",
   "metadata": {},
   "outputs": [],
   "source": [
    "# Change values in the style column from dict to str\n",
    "review_df['style'] = review_df['style'].astype('str')"
   ]
  },
  {
   "cell_type": "code",
   "execution_count": 19,
   "id": "244f1c4a",
   "metadata": {},
   "outputs": [],
   "source": [
    "# Remove the keys in the key-value pair\n",
    "review_df['style'] = review_df['style'].str.replace(r\"{'Format:': ' \",\"\",regex = True)\n",
    "review_df['style'] = review_df['style'].str.replace(r\"'}\",\"\",regex = True)"
   ]
  },
  {
   "cell_type": "markdown",
   "id": "5177c795",
   "metadata": {},
   "source": [
    "Check results"
   ]
  },
  {
   "cell_type": "code",
   "execution_count": 20,
   "id": "dda0272f",
   "metadata": {},
   "outputs": [
    {
     "data": {
      "text/plain": [
       "0              VHS Tape\n",
       "1          Amazon Video\n",
       "2          Amazon Video\n",
       "3          Amazon Video\n",
       "4          Amazon Video\n",
       "               ...     \n",
       "1999995    Amazon Video\n",
       "1999996    Amazon Video\n",
       "1999997    Amazon Video\n",
       "1999998    Amazon Video\n",
       "1999999    Amazon Video\n",
       "Name: style, Length: 2000000, dtype: object"
      ]
     },
     "execution_count": 20,
     "metadata": {},
     "output_type": "execute_result"
    }
   ],
   "source": [
    "review_df['style']"
   ]
  },
  {
   "cell_type": "markdown",
   "id": "f6783738",
   "metadata": {},
   "source": [
    "The style column now contains the relavent data."
   ]
  },
  {
   "cell_type": "markdown",
   "id": "493a3e99",
   "metadata": {},
   "source": [
    "### Drop any duplicates in the dataframe"
   ]
  },
  {
   "cell_type": "code",
   "execution_count": 21,
   "id": "18218a8a",
   "metadata": {},
   "outputs": [],
   "source": [
    "review_df.drop_duplicates(inplace = True, ignore_index = True)"
   ]
  },
  {
   "cell_type": "code",
   "execution_count": 22,
   "id": "7d110475",
   "metadata": {},
   "outputs": [
    {
     "name": "stdout",
     "output_type": "stream",
     "text": [
      "<class 'pandas.core.frame.DataFrame'>\n",
      "RangeIndex: 1998635 entries, 0 to 1998634\n",
      "Data columns (total 7 columns):\n",
      " #   Column          Dtype \n",
      "---  ------          ----- \n",
      " 0   overall         int8  \n",
      " 1   verified        bool  \n",
      " 2   reviewerID      object\n",
      " 3   asin            object\n",
      " 4   style           object\n",
      " 5   unixReviewTime  int32 \n",
      " 6   vote            int32 \n",
      "dtypes: bool(1), int32(2), int8(1), object(3)\n",
      "memory usage: 64.8+ MB\n"
     ]
    }
   ],
   "source": [
    "review_df.info()"
   ]
  },
  {
   "cell_type": "markdown",
   "id": "959a5963",
   "metadata": {},
   "source": [
    "1365 entries has been dropped."
   ]
  },
  {
   "cell_type": "markdown",
   "id": "42a97b4c",
   "metadata": {},
   "source": [
    "### Create a clean df that only has numeric values for the regression analysis"
   ]
  },
  {
   "cell_type": "code",
   "execution_count": 23,
   "id": "369c813e",
   "metadata": {},
   "outputs": [],
   "source": [
    "clean_df = review_df[['overall','unixReviewTime','vote']].copy()"
   ]
  },
  {
   "cell_type": "markdown",
   "id": "8246c87b",
   "metadata": {},
   "source": [
    "Check the created df"
   ]
  },
  {
   "cell_type": "code",
   "execution_count": 24,
   "id": "0d1b85fa",
   "metadata": {},
   "outputs": [
    {
     "data": {
      "text/html": [
       "<div>\n",
       "<style scoped>\n",
       "    .dataframe tbody tr th:only-of-type {\n",
       "        vertical-align: middle;\n",
       "    }\n",
       "\n",
       "    .dataframe tbody tr th {\n",
       "        vertical-align: top;\n",
       "    }\n",
       "\n",
       "    .dataframe thead th {\n",
       "        text-align: right;\n",
       "    }\n",
       "</style>\n",
       "<table border=\"1\" class=\"dataframe\">\n",
       "  <thead>\n",
       "    <tr style=\"text-align: right;\">\n",
       "      <th></th>\n",
       "      <th>overall</th>\n",
       "      <th>unixReviewTime</th>\n",
       "      <th>vote</th>\n",
       "    </tr>\n",
       "  </thead>\n",
       "  <tbody>\n",
       "    <tr>\n",
       "      <th>0</th>\n",
       "      <td>5</td>\n",
       "      <td>1362960000</td>\n",
       "      <td>0</td>\n",
       "    </tr>\n",
       "    <tr>\n",
       "      <th>1</th>\n",
       "      <td>5</td>\n",
       "      <td>1361145600</td>\n",
       "      <td>3</td>\n",
       "    </tr>\n",
       "    <tr>\n",
       "      <th>2</th>\n",
       "      <td>5</td>\n",
       "      <td>1358380800</td>\n",
       "      <td>0</td>\n",
       "    </tr>\n",
       "    <tr>\n",
       "      <th>3</th>\n",
       "      <td>5</td>\n",
       "      <td>1357776000</td>\n",
       "      <td>0</td>\n",
       "    </tr>\n",
       "    <tr>\n",
       "      <th>4</th>\n",
       "      <td>4</td>\n",
       "      <td>1356480000</td>\n",
       "      <td>0</td>\n",
       "    </tr>\n",
       "    <tr>\n",
       "      <th>...</th>\n",
       "      <td>...</td>\n",
       "      <td>...</td>\n",
       "      <td>...</td>\n",
       "    </tr>\n",
       "    <tr>\n",
       "      <th>1998630</th>\n",
       "      <td>5</td>\n",
       "      <td>1440979200</td>\n",
       "      <td>0</td>\n",
       "    </tr>\n",
       "    <tr>\n",
       "      <th>1998631</th>\n",
       "      <td>5</td>\n",
       "      <td>1440979200</td>\n",
       "      <td>0</td>\n",
       "    </tr>\n",
       "    <tr>\n",
       "      <th>1998632</th>\n",
       "      <td>5</td>\n",
       "      <td>1440892800</td>\n",
       "      <td>0</td>\n",
       "    </tr>\n",
       "    <tr>\n",
       "      <th>1998633</th>\n",
       "      <td>4</td>\n",
       "      <td>1440806400</td>\n",
       "      <td>0</td>\n",
       "    </tr>\n",
       "    <tr>\n",
       "      <th>1998634</th>\n",
       "      <td>4</td>\n",
       "      <td>1440806400</td>\n",
       "      <td>0</td>\n",
       "    </tr>\n",
       "  </tbody>\n",
       "</table>\n",
       "<p>1998635 rows × 3 columns</p>\n",
       "</div>"
      ],
      "text/plain": [
       "         overall  unixReviewTime  vote\n",
       "0              5      1362960000     0\n",
       "1              5      1361145600     3\n",
       "2              5      1358380800     0\n",
       "3              5      1357776000     0\n",
       "4              4      1356480000     0\n",
       "...          ...             ...   ...\n",
       "1998630        5      1440979200     0\n",
       "1998631        5      1440979200     0\n",
       "1998632        5      1440892800     0\n",
       "1998633        4      1440806400     0\n",
       "1998634        4      1440806400     0\n",
       "\n",
       "[1998635 rows x 3 columns]"
      ]
     },
     "execution_count": 24,
     "metadata": {},
     "output_type": "execute_result"
    }
   ],
   "source": [
    "clean_df"
   ]
  },
  {
   "cell_type": "markdown",
   "id": "42a97b4c",
   "metadata": {},
   "source": [
    "### Preprocess verified column"
   ]
  },
  {
   "cell_type": "code",
   "execution_count": 25,
   "id": "5a332a48",
   "metadata": {},
   "outputs": [
    {
     "data": {
      "text/plain": [
       "True     1312839\n",
       "False     685796\n",
       "Name: verified, dtype: int64"
      ]
     },
     "execution_count": 25,
     "metadata": {},
     "output_type": "execute_result"
    }
   ],
   "source": [
    "review_df['verified'].value_counts()"
   ]
  },
  {
   "cell_type": "markdown",
   "id": "87475181",
   "metadata": {},
   "source": [
    "Since the verified column contains only true and false, the datatype can be changed to int8 for the regression analysis"
   ]
  },
  {
   "cell_type": "code",
   "execution_count": 26,
   "id": "c399f87a",
   "metadata": {},
   "outputs": [],
   "source": [
    "# Map Trues to 1 and false to 0\n",
    "\n",
    "clean_df['verified'] = review_df['verified'].astype('int8').copy()"
   ]
  },
  {
   "cell_type": "code",
   "execution_count": 27,
   "id": "c329f958",
   "metadata": {},
   "outputs": [
    {
     "name": "stdout",
     "output_type": "stream",
     "text": [
      "<class 'pandas.core.frame.DataFrame'>\n",
      "RangeIndex: 1998635 entries, 0 to 1998634\n",
      "Data columns (total 4 columns):\n",
      " #   Column          Dtype\n",
      "---  ------          -----\n",
      " 0   overall         int8 \n",
      " 1   unixReviewTime  int32\n",
      " 2   vote            int32\n",
      " 3   verified        int8 \n",
      "dtypes: int32(2), int8(2)\n",
      "memory usage: 19.1 MB\n"
     ]
    }
   ],
   "source": [
    "clean_df.info()"
   ]
  },
  {
   "cell_type": "markdown",
   "id": "87887ab6",
   "metadata": {},
   "source": [
    "Convert the reviewerName column to a numeric representation using `pd.factorize`"
   ]
  },
  {
   "cell_type": "code",
   "execution_count": 28,
   "id": "ae09dd25",
   "metadata": {},
   "outputs": [],
   "source": [
    "clean_df['reviewer_ID'] = pd.factorize(review_df['reviewerID'])[0]"
   ]
  },
  {
   "cell_type": "code",
   "execution_count": 29,
   "id": "b2be05b9",
   "metadata": {},
   "outputs": [],
   "source": [
    "# clean_df['reviewerName']= review_df['reviewerName']"
   ]
  },
  {
   "cell_type": "markdown",
   "id": "a912a92e",
   "metadata": {},
   "source": [
    "Do the same for the product column (ASIN)"
   ]
  },
  {
   "cell_type": "code",
   "execution_count": 30,
   "id": "d97870d4",
   "metadata": {},
   "outputs": [],
   "source": [
    "clean_df['itemID'] = pd.factorize(review_df['asin'])[0]"
   ]
  },
  {
   "cell_type": "code",
   "execution_count": 31,
   "id": "b3fedd74",
   "metadata": {},
   "outputs": [
    {
     "name": "stdout",
     "output_type": "stream",
     "text": [
      "<class 'pandas.core.frame.DataFrame'>\n",
      "RangeIndex: 1998635 entries, 0 to 1998634\n",
      "Data columns (total 6 columns):\n",
      " #   Column          Dtype\n",
      "---  ------          -----\n",
      " 0   overall         int8 \n",
      " 1   unixReviewTime  int32\n",
      " 2   vote            int32\n",
      " 3   verified        int8 \n",
      " 4   reviewer_ID     int64\n",
      " 5   itemID          int64\n",
      "dtypes: int32(2), int64(2), int8(2)\n",
      "memory usage: 49.6 MB\n"
     ]
    }
   ],
   "source": [
    "clean_df.info()"
   ]
  },
  {
   "cell_type": "markdown",
   "id": "043ca1a1",
   "metadata": {},
   "source": [
    "There are 5804 different review dates"
   ]
  },
  {
   "cell_type": "markdown",
   "id": "e5592caa",
   "metadata": {},
   "source": [
    "Show correlations between different features"
   ]
  },
  {
   "cell_type": "code",
   "execution_count": 32,
   "id": "281e9d31",
   "metadata": {},
   "outputs": [
    {
     "data": {
      "image/png": "[encoded data removed]",
      "text/plain": [
       "<Figure size 864x576 with 2 Axes>"
      ]
     },
     "metadata": {
      "needs_background": "light"
     },
     "output_type": "display_data"
    }
   ],
   "source": [
    "plt.figure(figsize= [12,8])\n",
    "sns.heatmap(clean_df.corr().round(2), vmin=-1, vmax=1, cmap='coolwarm', annot=True)\n",
    "plt.show()"
   ]
  },
  {
   "cell_type": "code",
   "execution_count": 44,
   "id": "9a70ef60",
   "metadata": {},
   "outputs": [],
   "source": [
    "X = clean_df.drop(columns =['vote','itemID'])\n",
    "Y = clean_df['vote']\n",
    "\n",
    "X_withconstant = sm.add_constant(X)"
   ]
  },
  {
   "cell_type": "code",
   "execution_count": 45,
   "id": "ba4c6fc2",
   "metadata": {},
   "outputs": [
    {
     "data": {
      "text/html": [
       "<table class=\"simpletable\">\n",
       "<caption>OLS Regression Results</caption>\n",
       "<tr>\n",
       "  <th>Dep. Variable:</th>          <td>vote</td>       <th>  R-squared:         </th>  <td>   0.032</td>  \n",
       "</tr>\n",
       "<tr>\n",
       "  <th>Model:</th>                   <td>OLS</td>       <th>  Adj. R-squared:    </th>  <td>   0.032</td>  \n",
       "</tr>\n",
       "<tr>\n",
       "  <th>Method:</th>             <td>Least Squares</td>  <th>  F-statistic:       </th>  <td>1.639e+04</td> \n",
       "</tr>\n",
       "<tr>\n",
       "  <th>Date:</th>             <td>Fri, 19 Aug 2022</td> <th>  Prob (F-statistic):</th>   <td>  0.00</td>   \n",
       "</tr>\n",
       "<tr>\n",
       "  <th>Time:</th>                 <td>10:49:29</td>     <th>  Log-Likelihood:    </th> <td>-7.9024e+06</td>\n",
       "</tr>\n",
       "<tr>\n",
       "  <th>No. Observations:</th>      <td>1998635</td>     <th>  AIC:               </th>  <td>1.580e+07</td> \n",
       "</tr>\n",
       "<tr>\n",
       "  <th>Df Residuals:</th>          <td>1998630</td>     <th>  BIC:               </th>  <td>1.580e+07</td> \n",
       "</tr>\n",
       "<tr>\n",
       "  <th>Df Model:</th>              <td>     4</td>      <th>                     </th>      <td> </td>     \n",
       "</tr>\n",
       "<tr>\n",
       "  <th>Covariance Type:</th>      <td>nonrobust</td>    <th>                     </th>      <td> </td>     \n",
       "</tr>\n",
       "</table>\n",
       "<table class=\"simpletable\">\n",
       "<tr>\n",
       "         <td></td>           <th>coef</th>     <th>std err</th>      <th>t</th>      <th>P>|t|</th>  <th>[0.025</th>    <th>0.975]</th>  \n",
       "</tr>\n",
       "<tr>\n",
       "  <th>const</th>          <td>   22.1296</td> <td>    0.093</td> <td>  237.343</td> <td> 0.000</td> <td>   21.947</td> <td>   22.312</td>\n",
       "</tr>\n",
       "<tr>\n",
       "  <th>overall</th>        <td>   -0.2540</td> <td>    0.008</td> <td>  -32.663</td> <td> 0.000</td> <td>   -0.269</td> <td>   -0.239</td>\n",
       "</tr>\n",
       "<tr>\n",
       "  <th>unixReviewTime</th> <td>-1.432e-08</td> <td> 7.25e-11</td> <td> -197.601</td> <td> 0.000</td> <td>-1.45e-08</td> <td>-1.42e-08</td>\n",
       "</tr>\n",
       "<tr>\n",
       "  <th>verified</th>       <td>    0.1772</td> <td>    0.024</td> <td>    7.358</td> <td> 0.000</td> <td>    0.130</td> <td>    0.224</td>\n",
       "</tr>\n",
       "<tr>\n",
       "  <th>reviewer_ID</th>    <td>-7.533e-07</td> <td> 2.52e-08</td> <td>  -29.873</td> <td> 0.000</td> <td>-8.03e-07</td> <td>-7.04e-07</td>\n",
       "</tr>\n",
       "</table>\n",
       "<table class=\"simpletable\">\n",
       "<tr>\n",
       "  <th>Omnibus:</th>       <td>10742073.450</td> <th>  Durbin-Watson:     </th>       <td>   1.892</td>      \n",
       "</tr>\n",
       "<tr>\n",
       "  <th>Prob(Omnibus):</th>    <td> 0.000</td>    <th>  Jarque-Bera (JB):  </th> <td>2882991892924691.000</td>\n",
       "</tr>\n",
       "<tr>\n",
       "  <th>Skew:</th>             <td>278.948</td>   <th>  Prob(JB):          </th>       <td>    0.00</td>      \n",
       "</tr>\n",
       "<tr>\n",
       "  <th>Kurtosis:</th>       <td>186065.407</td>  <th>  Cond. No.          </th>       <td>1.42e+10</td>      \n",
       "</tr>\n",
       "</table><br/><br/>Notes:<br/>[1] Standard Errors assume that the covariance matrix of the errors is correctly specified.<br/>[2] The condition number is large, 1.42e+10. This might indicate that there are<br/>strong multicollinearity or other numerical problems."
      ],
      "text/plain": [
       "<class 'statsmodels.iolib.summary.Summary'>\n",
       "\"\"\"\n",
       "                            OLS Regression Results                            \n",
       "==============================================================================\n",
       "Dep. Variable:                   vote   R-squared:                       0.032\n",
       "Model:                            OLS   Adj. R-squared:                  0.032\n",
       "Method:                 Least Squares   F-statistic:                 1.639e+04\n",
       "Date:                Fri, 19 Aug 2022   Prob (F-statistic):               0.00\n",
       "Time:                        10:49:29   Log-Likelihood:            -7.9024e+06\n",
       "No. Observations:             1998635   AIC:                         1.580e+07\n",
       "Df Residuals:                 1998630   BIC:                         1.580e+07\n",
       "Df Model:                           4                                         \n",
       "Covariance Type:            nonrobust                                         \n",
       "==================================================================================\n",
       "                     coef    std err          t      P>|t|      [0.025      0.975]\n",
       "----------------------------------------------------------------------------------\n",
       "const             22.1296      0.093    237.343      0.000      21.947      22.312\n",
       "overall           -0.2540      0.008    -32.663      0.000      -0.269      -0.239\n",
       "unixReviewTime -1.432e-08   7.25e-11   -197.601      0.000   -1.45e-08   -1.42e-08\n",
       "verified           0.1772      0.024      7.358      0.000       0.130       0.224\n",
       "reviewer_ID    -7.533e-07   2.52e-08    -29.873      0.000   -8.03e-07   -7.04e-07\n",
       "================================================================================\n",
       "Omnibus:                 10742073.450   Durbin-Watson:                     1.892\n",
       "Prob(Omnibus):                  0.000   Jarque-Bera (JB):   2882991892924691.000\n",
       "Skew:                         278.948   Prob(JB):                           0.00\n",
       "Kurtosis:                  186065.407   Cond. No.                       1.42e+10\n",
       "================================================================================\n",
       "\n",
       "Notes:\n",
       "[1] Standard Errors assume that the covariance matrix of the errors is correctly specified.\n",
       "[2] The condition number is large, 1.42e+10. This might indicate that there are\n",
       "strong multicollinearity or other numerical problems.\n",
       "\"\"\""
      ]
     },
     "execution_count": 45,
     "metadata": {},
     "output_type": "execute_result"
    }
   ],
   "source": [
    "rmodel1 = sm.OLS(Y,X_withconstant)\n",
    "\n",
    "rmodel1 = rmodel1.fit()\n",
    "\n",
    "rmodel1.summary()"
   ]
  },
  {
   "cell_type": "markdown",
   "id": "40944411",
   "metadata": {},
   "source": [
    "Check the number of unique products in the database"
   ]
  },
  {
   "cell_type": "code",
   "execution_count": 41,
   "id": "573d993b",
   "metadata": {},
   "outputs": [],
   "source": [
    "clean_df.drop(columns='item_id',inplace = True)"
   ]
  },
  {
   "cell_type": "code",
   "execution_count": null,
   "id": "fa54f48b",
   "metadata": {},
   "outputs": [],
   "source": []
  },
  {
   "cell_type": "code",
   "execution_count": 34,
   "id": "533c64a7",
   "metadata": {},
   "outputs": [],
   "source": [
    "clean_df['item_id'] = review_df['asin']"
   ]
  },
  {
   "cell_type": "markdown",
   "id": "974b53c7",
   "metadata": {},
   "source": [
    "**Read in the clean meta data and combine it with the clean review data**"
   ]
  },
  {
   "cell_type": "code",
   "execution_count": 35,
   "id": "624bebb7",
   "metadata": {},
   "outputs": [
    {
     "ename": "FileNotFoundError",
     "evalue": "[Errno 2] No such file or directory: 'clean_meta.csv'",
     "output_type": "error",
     "traceback": [
      "\u001b[1;31m---------------------------------------------------------------------------\u001b[0m",
      "\u001b[1;31mFileNotFoundError\u001b[0m                         Traceback (most recent call last)",
      "\u001b[1;32m<ipython-input-35-9de0f9778e97>\u001b[0m in \u001b[0;36m<module>\u001b[1;34m\u001b[0m\n\u001b[1;32m----> 1\u001b[1;33m \u001b[0mmeta_df\u001b[0m \u001b[1;33m=\u001b[0m \u001b[0mpd\u001b[0m\u001b[1;33m.\u001b[0m\u001b[0mread_csv\u001b[0m\u001b[1;33m(\u001b[0m\u001b[1;34m'clean_meta.csv'\u001b[0m\u001b[1;33m)\u001b[0m\u001b[1;33m\u001b[0m\u001b[1;33m\u001b[0m\u001b[0m\n\u001b[0m\u001b[0;32m      2\u001b[0m \u001b[0mmeta_df\u001b[0m\u001b[1;33m\u001b[0m\u001b[1;33m\u001b[0m\u001b[0m\n",
      "\u001b[1;32mc:\\Users\\jason\\anaconda3\\lib\\site-packages\\pandas\\io\\parsers.py\u001b[0m in \u001b[0;36mread_csv\u001b[1;34m(filepath_or_buffer, sep, delimiter, header, names, index_col, usecols, squeeze, prefix, mangle_dupe_cols, dtype, engine, converters, true_values, false_values, skipinitialspace, skiprows, skipfooter, nrows, na_values, keep_default_na, na_filter, verbose, skip_blank_lines, parse_dates, infer_datetime_format, keep_date_col, date_parser, dayfirst, cache_dates, iterator, chunksize, compression, thousands, decimal, lineterminator, quotechar, quoting, doublequote, escapechar, comment, encoding, dialect, error_bad_lines, warn_bad_lines, delim_whitespace, low_memory, memory_map, float_precision, storage_options)\u001b[0m\n\u001b[0;32m    608\u001b[0m     \u001b[0mkwds\u001b[0m\u001b[1;33m.\u001b[0m\u001b[0mupdate\u001b[0m\u001b[1;33m(\u001b[0m\u001b[0mkwds_defaults\u001b[0m\u001b[1;33m)\u001b[0m\u001b[1;33m\u001b[0m\u001b[1;33m\u001b[0m\u001b[0m\n\u001b[0;32m    609\u001b[0m \u001b[1;33m\u001b[0m\u001b[0m\n\u001b[1;32m--> 610\u001b[1;33m     \u001b[1;32mreturn\u001b[0m \u001b[0m_read\u001b[0m\u001b[1;33m(\u001b[0m\u001b[0mfilepath_or_buffer\u001b[0m\u001b[1;33m,\u001b[0m \u001b[0mkwds\u001b[0m\u001b[1;33m)\u001b[0m\u001b[1;33m\u001b[0m\u001b[1;33m\u001b[0m\u001b[0m\n\u001b[0m\u001b[0;32m    611\u001b[0m \u001b[1;33m\u001b[0m\u001b[0m\n\u001b[0;32m    612\u001b[0m \u001b[1;33m\u001b[0m\u001b[0m\n",
      "\u001b[1;32mc:\\Users\\jason\\anaconda3\\lib\\site-packages\\pandas\\io\\parsers.py\u001b[0m in \u001b[0;36m_read\u001b[1;34m(filepath_or_buffer, kwds)\u001b[0m\n\u001b[0;32m    460\u001b[0m \u001b[1;33m\u001b[0m\u001b[0m\n\u001b[0;32m    461\u001b[0m     \u001b[1;31m# Create the parser.\u001b[0m\u001b[1;33m\u001b[0m\u001b[1;33m\u001b[0m\u001b[1;33m\u001b[0m\u001b[0m\n\u001b[1;32m--> 462\u001b[1;33m     \u001b[0mparser\u001b[0m \u001b[1;33m=\u001b[0m \u001b[0mTextFileReader\u001b[0m\u001b[1;33m(\u001b[0m\u001b[0mfilepath_or_buffer\u001b[0m\u001b[1;33m,\u001b[0m \u001b[1;33m**\u001b[0m\u001b[0mkwds\u001b[0m\u001b[1;33m)\u001b[0m\u001b[1;33m\u001b[0m\u001b[1;33m\u001b[0m\u001b[0m\n\u001b[0m\u001b[0;32m    463\u001b[0m \u001b[1;33m\u001b[0m\u001b[0m\n\u001b[0;32m    464\u001b[0m     \u001b[1;32mif\u001b[0m \u001b[0mchunksize\u001b[0m \u001b[1;32mor\u001b[0m \u001b[0miterator\u001b[0m\u001b[1;33m:\u001b[0m\u001b[1;33m\u001b[0m\u001b[1;33m\u001b[0m\u001b[0m\n",
      "\u001b[1;32mc:\\Users\\jason\\anaconda3\\lib\\site-packages\\pandas\\io\\parsers.py\u001b[0m in \u001b[0;36m__init__\u001b[1;34m(self, f, engine, **kwds)\u001b[0m\n\u001b[0;32m    817\u001b[0m             \u001b[0mself\u001b[0m\u001b[1;33m.\u001b[0m\u001b[0moptions\u001b[0m\u001b[1;33m[\u001b[0m\u001b[1;34m\"has_index_names\"\u001b[0m\u001b[1;33m]\u001b[0m \u001b[1;33m=\u001b[0m \u001b[0mkwds\u001b[0m\u001b[1;33m[\u001b[0m\u001b[1;34m\"has_index_names\"\u001b[0m\u001b[1;33m]\u001b[0m\u001b[1;33m\u001b[0m\u001b[1;33m\u001b[0m\u001b[0m\n\u001b[0;32m    818\u001b[0m \u001b[1;33m\u001b[0m\u001b[0m\n\u001b[1;32m--> 819\u001b[1;33m         \u001b[0mself\u001b[0m\u001b[1;33m.\u001b[0m\u001b[0m_engine\u001b[0m \u001b[1;33m=\u001b[0m \u001b[0mself\u001b[0m\u001b[1;33m.\u001b[0m\u001b[0m_make_engine\u001b[0m\u001b[1;33m(\u001b[0m\u001b[0mself\u001b[0m\u001b[1;33m.\u001b[0m\u001b[0mengine\u001b[0m\u001b[1;33m)\u001b[0m\u001b[1;33m\u001b[0m\u001b[1;33m\u001b[0m\u001b[0m\n\u001b[0m\u001b[0;32m    820\u001b[0m \u001b[1;33m\u001b[0m\u001b[0m\n\u001b[0;32m    821\u001b[0m     \u001b[1;32mdef\u001b[0m \u001b[0mclose\u001b[0m\u001b[1;33m(\u001b[0m\u001b[0mself\u001b[0m\u001b[1;33m)\u001b[0m\u001b[1;33m:\u001b[0m\u001b[1;33m\u001b[0m\u001b[1;33m\u001b[0m\u001b[0m\n",
      "\u001b[1;32mc:\\Users\\jason\\anaconda3\\lib\\site-packages\\pandas\\io\\parsers.py\u001b[0m in \u001b[0;36m_make_engine\u001b[1;34m(self, engine)\u001b[0m\n\u001b[0;32m   1048\u001b[0m             )\n\u001b[0;32m   1049\u001b[0m         \u001b[1;31m# error: Too many arguments for \"ParserBase\"\u001b[0m\u001b[1;33m\u001b[0m\u001b[1;33m\u001b[0m\u001b[1;33m\u001b[0m\u001b[0m\n\u001b[1;32m-> 1050\u001b[1;33m         \u001b[1;32mreturn\u001b[0m \u001b[0mmapping\u001b[0m\u001b[1;33m[\u001b[0m\u001b[0mengine\u001b[0m\u001b[1;33m]\u001b[0m\u001b[1;33m(\u001b[0m\u001b[0mself\u001b[0m\u001b[1;33m.\u001b[0m\u001b[0mf\u001b[0m\u001b[1;33m,\u001b[0m \u001b[1;33m**\u001b[0m\u001b[0mself\u001b[0m\u001b[1;33m.\u001b[0m\u001b[0moptions\u001b[0m\u001b[1;33m)\u001b[0m  \u001b[1;31m# type: ignore[call-arg]\u001b[0m\u001b[1;33m\u001b[0m\u001b[1;33m\u001b[0m\u001b[0m\n\u001b[0m\u001b[0;32m   1051\u001b[0m \u001b[1;33m\u001b[0m\u001b[0m\n\u001b[0;32m   1052\u001b[0m     \u001b[1;32mdef\u001b[0m \u001b[0m_failover_to_python\u001b[0m\u001b[1;33m(\u001b[0m\u001b[0mself\u001b[0m\u001b[1;33m)\u001b[0m\u001b[1;33m:\u001b[0m\u001b[1;33m\u001b[0m\u001b[1;33m\u001b[0m\u001b[0m\n",
      "\u001b[1;32mc:\\Users\\jason\\anaconda3\\lib\\site-packages\\pandas\\io\\parsers.py\u001b[0m in \u001b[0;36m__init__\u001b[1;34m(self, src, **kwds)\u001b[0m\n\u001b[0;32m   1865\u001b[0m \u001b[1;33m\u001b[0m\u001b[0m\n\u001b[0;32m   1866\u001b[0m         \u001b[1;31m# open handles\u001b[0m\u001b[1;33m\u001b[0m\u001b[1;33m\u001b[0m\u001b[1;33m\u001b[0m\u001b[0m\n\u001b[1;32m-> 1867\u001b[1;33m         \u001b[0mself\u001b[0m\u001b[1;33m.\u001b[0m\u001b[0m_open_handles\u001b[0m\u001b[1;33m(\u001b[0m\u001b[0msrc\u001b[0m\u001b[1;33m,\u001b[0m \u001b[0mkwds\u001b[0m\u001b[1;33m)\u001b[0m\u001b[1;33m\u001b[0m\u001b[1;33m\u001b[0m\u001b[0m\n\u001b[0m\u001b[0;32m   1868\u001b[0m         \u001b[1;32massert\u001b[0m \u001b[0mself\u001b[0m\u001b[1;33m.\u001b[0m\u001b[0mhandles\u001b[0m \u001b[1;32mis\u001b[0m \u001b[1;32mnot\u001b[0m \u001b[1;32mNone\u001b[0m\u001b[1;33m\u001b[0m\u001b[1;33m\u001b[0m\u001b[0m\n\u001b[0;32m   1869\u001b[0m         \u001b[1;32mfor\u001b[0m \u001b[0mkey\u001b[0m \u001b[1;32min\u001b[0m \u001b[1;33m(\u001b[0m\u001b[1;34m\"storage_options\"\u001b[0m\u001b[1;33m,\u001b[0m \u001b[1;34m\"encoding\"\u001b[0m\u001b[1;33m,\u001b[0m \u001b[1;34m\"memory_map\"\u001b[0m\u001b[1;33m,\u001b[0m \u001b[1;34m\"compression\"\u001b[0m\u001b[1;33m)\u001b[0m\u001b[1;33m:\u001b[0m\u001b[1;33m\u001b[0m\u001b[1;33m\u001b[0m\u001b[0m\n",
      "\u001b[1;32mc:\\Users\\jason\\anaconda3\\lib\\site-packages\\pandas\\io\\parsers.py\u001b[0m in \u001b[0;36m_open_handles\u001b[1;34m(self, src, kwds)\u001b[0m\n\u001b[0;32m   1360\u001b[0m         \u001b[0mLet\u001b[0m \u001b[0mthe\u001b[0m \u001b[0mreaders\u001b[0m \u001b[0mopen\u001b[0m \u001b[0mIOHanldes\u001b[0m \u001b[0mafter\u001b[0m \u001b[0mthey\u001b[0m \u001b[0mare\u001b[0m \u001b[0mdone\u001b[0m \u001b[1;32mwith\u001b[0m \u001b[0mtheir\u001b[0m \u001b[0mpotential\u001b[0m \u001b[0mraises\u001b[0m\u001b[1;33m.\u001b[0m\u001b[1;33m\u001b[0m\u001b[1;33m\u001b[0m\u001b[0m\n\u001b[0;32m   1361\u001b[0m         \"\"\"\n\u001b[1;32m-> 1362\u001b[1;33m         self.handles = get_handle(\n\u001b[0m\u001b[0;32m   1363\u001b[0m             \u001b[0msrc\u001b[0m\u001b[1;33m,\u001b[0m\u001b[1;33m\u001b[0m\u001b[1;33m\u001b[0m\u001b[0m\n\u001b[0;32m   1364\u001b[0m             \u001b[1;34m\"r\"\u001b[0m\u001b[1;33m,\u001b[0m\u001b[1;33m\u001b[0m\u001b[1;33m\u001b[0m\u001b[0m\n",
      "\u001b[1;32mc:\\Users\\jason\\anaconda3\\lib\\site-packages\\pandas\\io\\common.py\u001b[0m in \u001b[0;36mget_handle\u001b[1;34m(path_or_buf, mode, encoding, compression, memory_map, is_text, errors, storage_options)\u001b[0m\n\u001b[0;32m    640\u001b[0m                 \u001b[0merrors\u001b[0m \u001b[1;33m=\u001b[0m \u001b[1;34m\"replace\"\u001b[0m\u001b[1;33m\u001b[0m\u001b[1;33m\u001b[0m\u001b[0m\n\u001b[0;32m    641\u001b[0m             \u001b[1;31m# Encoding\u001b[0m\u001b[1;33m\u001b[0m\u001b[1;33m\u001b[0m\u001b[1;33m\u001b[0m\u001b[0m\n\u001b[1;32m--> 642\u001b[1;33m             handle = open(\n\u001b[0m\u001b[0;32m    643\u001b[0m                 \u001b[0mhandle\u001b[0m\u001b[1;33m,\u001b[0m\u001b[1;33m\u001b[0m\u001b[1;33m\u001b[0m\u001b[0m\n\u001b[0;32m    644\u001b[0m                 \u001b[0mioargs\u001b[0m\u001b[1;33m.\u001b[0m\u001b[0mmode\u001b[0m\u001b[1;33m,\u001b[0m\u001b[1;33m\u001b[0m\u001b[1;33m\u001b[0m\u001b[0m\n",
      "\u001b[1;31mFileNotFoundError\u001b[0m: [Errno 2] No such file or directory: 'clean_meta.csv'"
     ]
    }
   ],
   "source": [
    "meta_df = pd.read_csv('clean_meta.csv')\n",
    "meta_df"
   ]
  },
  {
   "cell_type": "code",
   "execution_count": null,
   "id": "34668fa1",
   "metadata": {},
   "outputs": [],
   "source": [
    "new_df = pd.merge(clean_df, meta_df,  how='left', left_on='item_id', right_on = 'asin')"
   ]
  },
  {
   "cell_type": "code",
   "execution_count": null,
   "id": "35cfc568",
   "metadata": {},
   "outputs": [
    {
     "data": {
      "text/html": [
       "<div>\n",
       "<style scoped>\n",
       "    .dataframe tbody tr th:only-of-type {\n",
       "        vertical-align: middle;\n",
       "    }\n",
       "\n",
       "    .dataframe tbody tr th {\n",
       "        vertical-align: top;\n",
       "    }\n",
       "\n",
       "    .dataframe thead th {\n",
       "        text-align: right;\n",
       "    }\n",
       "</style>\n",
       "<table border=\"1\" class=\"dataframe\">\n",
       "  <thead>\n",
       "    <tr style=\"text-align: right;\">\n",
       "      <th></th>\n",
       "      <th>overall</th>\n",
       "      <th>unixReviewTime</th>\n",
       "      <th>vote</th>\n",
       "      <th>verified</th>\n",
       "      <th>reviewer_ID</th>\n",
       "      <th>item_id</th>\n",
       "      <th>brand</th>\n",
       "      <th>rank</th>\n",
       "      <th>asin</th>\n",
       "      <th>description</th>\n",
       "      <th>category_1</th>\n",
       "      <th>category_2</th>\n",
       "      <th>category_3</th>\n",
       "      <th>category_4</th>\n",
       "    </tr>\n",
       "  </thead>\n",
       "  <tbody>\n",
       "    <tr>\n",
       "      <th>0</th>\n",
       "      <td>5.0</td>\n",
       "      <td>1005177600</td>\n",
       "      <td>9</td>\n",
       "      <td>0</td>\n",
       "      <td>0</td>\n",
       "      <td>B00005N7P0</td>\n",
       "      <td>Future US, Inc.</td>\n",
       "      <td>NaN</td>\n",
       "      <td>B00005N7P0</td>\n",
       "      <td>MAXIMUM PC is the ultimate upgrade for the sav...</td>\n",
       "      <td>Technology</td>\n",
       "      <td>Computers &amp;amp; Internet</td>\n",
       "      <td>NaN</td>\n",
       "      <td>NaN</td>\n",
       "    </tr>\n",
       "    <tr>\n",
       "      <th>1</th>\n",
       "      <td>5.0</td>\n",
       "      <td>1004486400</td>\n",
       "      <td>9</td>\n",
       "      <td>0</td>\n",
       "      <td>1</td>\n",
       "      <td>B00005N7P0</td>\n",
       "      <td>Future US, Inc.</td>\n",
       "      <td>NaN</td>\n",
       "      <td>B00005N7P0</td>\n",
       "      <td>MAXIMUM PC is the ultimate upgrade for the sav...</td>\n",
       "      <td>Technology</td>\n",
       "      <td>Computers &amp;amp; Internet</td>\n",
       "      <td>NaN</td>\n",
       "      <td>NaN</td>\n",
       "    </tr>\n",
       "    <tr>\n",
       "      <th>2</th>\n",
       "      <td>3.0</td>\n",
       "      <td>1174694400</td>\n",
       "      <td>14</td>\n",
       "      <td>0</td>\n",
       "      <td>2</td>\n",
       "      <td>B00005N7OJ</td>\n",
       "      <td>Brant Publications</td>\n",
       "      <td>406</td>\n",
       "      <td>B00005N7OJ</td>\n",
       "      <td>The Magazine Antiques brings you the fascinati...</td>\n",
       "      <td>Home &amp; Garden</td>\n",
       "      <td>Antiques &amp; Collectibles</td>\n",
       "      <td>NaN</td>\n",
       "      <td>NaN</td>\n",
       "    </tr>\n",
       "    <tr>\n",
       "      <th>3</th>\n",
       "      <td>5.0</td>\n",
       "      <td>1163116800</td>\n",
       "      <td>13</td>\n",
       "      <td>0</td>\n",
       "      <td>3</td>\n",
       "      <td>B00005N7OJ</td>\n",
       "      <td>Brant Publications</td>\n",
       "      <td>406</td>\n",
       "      <td>B00005N7OJ</td>\n",
       "      <td>The Magazine Antiques brings you the fascinati...</td>\n",
       "      <td>Home &amp; Garden</td>\n",
       "      <td>Antiques &amp; Collectibles</td>\n",
       "      <td>NaN</td>\n",
       "      <td>NaN</td>\n",
       "    </tr>\n",
       "    <tr>\n",
       "      <th>4</th>\n",
       "      <td>5.0</td>\n",
       "      <td>1405296000</td>\n",
       "      <td>0</td>\n",
       "      <td>1</td>\n",
       "      <td>4</td>\n",
       "      <td>B00005N7P0</td>\n",
       "      <td>Future US, Inc.</td>\n",
       "      <td>NaN</td>\n",
       "      <td>B00005N7P0</td>\n",
       "      <td>MAXIMUM PC is the ultimate upgrade for the sav...</td>\n",
       "      <td>Technology</td>\n",
       "      <td>Computers &amp;amp; Internet</td>\n",
       "      <td>NaN</td>\n",
       "      <td>NaN</td>\n",
       "    </tr>\n",
       "  </tbody>\n",
       "</table>\n",
       "</div>"
      ],
      "text/plain": [
       "   overall  unixReviewTime  vote  verified  reviewer_ID     item_id  \\\n",
       "0      5.0      1005177600     9         0            0  B00005N7P0   \n",
       "1      5.0      1004486400     9         0            1  B00005N7P0   \n",
       "2      3.0      1174694400    14         0            2  B00005N7OJ   \n",
       "3      5.0      1163116800    13         0            3  B00005N7OJ   \n",
       "4      5.0      1405296000     0         1            4  B00005N7P0   \n",
       "\n",
       "                brand rank        asin  \\\n",
       "0     Future US, Inc.  NaN  B00005N7P0   \n",
       "1     Future US, Inc.  NaN  B00005N7P0   \n",
       "2  Brant Publications  406  B00005N7OJ   \n",
       "3  Brant Publications  406  B00005N7OJ   \n",
       "4     Future US, Inc.  NaN  B00005N7P0   \n",
       "\n",
       "                                         description     category_1  \\\n",
       "0  MAXIMUM PC is the ultimate upgrade for the sav...     Technology   \n",
       "1  MAXIMUM PC is the ultimate upgrade for the sav...     Technology   \n",
       "2  The Magazine Antiques brings you the fascinati...  Home & Garden   \n",
       "3  The Magazine Antiques brings you the fascinati...  Home & Garden   \n",
       "4  MAXIMUM PC is the ultimate upgrade for the sav...     Technology   \n",
       "\n",
       "                 category_2 category_3 category_4  \n",
       "0  Computers &amp; Internet        NaN        NaN  \n",
       "1  Computers &amp; Internet        NaN        NaN  \n",
       "2   Antiques & Collectibles        NaN        NaN  \n",
       "3   Antiques & Collectibles        NaN        NaN  \n",
       "4  Computers &amp; Internet        NaN        NaN  "
      ]
     },
     "execution_count": 31,
     "metadata": {},
     "output_type": "execute_result"
    }
   ],
   "source": [
    "new_df.head()"
   ]
  },
  {
   "cell_type": "code",
   "execution_count": null,
   "id": "98296500",
   "metadata": {},
   "outputs": [
    {
     "data": {
      "text/plain": [
       "Hearst Magazines                    13788\n",
       "Meredith Corporation                 6941\n",
       "Meredith                             4911\n",
       "Conde Nast Publications              3638\n",
       "National Geographic Partners LLC     3163\n",
       "Trusted Media Brands, Inc            2984\n",
       "Bonnier Corporation                  2774\n",
       "Conde Nast                           2591\n",
       "Active Interest Media                1962\n",
       "American Media, Inc.                 1507\n",
       "Name: brand, dtype: int64"
      ]
     },
     "execution_count": 33,
     "metadata": {},
     "output_type": "execute_result"
    }
   ],
   "source": [
    "new_df['brand'].value_counts().head(10)\n"
   ]
  },
  {
   "cell_type": "code",
   "execution_count": null,
   "id": "17097fd8",
   "metadata": {},
   "outputs": [],
   "source": []
  }
 ],
 "metadata": {
  "kernelspec": {
   "display_name": "Python 3.8.8 ('base')",
   "language": "python",
   "name": "python3"
  },
  "language_info": {
   "codemirror_mode": {
    "name": "ipython",
    "version": 3
   },
   "file_extension": ".py",
   "mimetype": "text/x-python",
   "name": "python",
   "nbconvert_exporter": "python",
   "pygments_lexer": "ipython3",
   "version": "3.8.8"
  },
  "vscode": {
   "interpreter": {
    "hash": "5e820f3ddc028a719ffe50e7d80dd01658ce1fe998d4f6f388d9b09d11d3d164"
   }
  }
 },
 "nbformat": 4,
 "nbformat_minor": 5
}
