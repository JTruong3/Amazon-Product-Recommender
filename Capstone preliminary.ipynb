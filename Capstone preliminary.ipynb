{
 "cells": [
  {
   "cell_type": "markdown",
   "id": "44e41afa",
   "metadata": {},
   "source": [
    "## CAPSTONE"
   ]
  },
  {
   "cell_type": "markdown",
   "id": "62d3e56f",
   "metadata": {},
   "source": [
    "# Data analysis road map\n"
   ]
  },
  {
   "cell_type": "markdown",
   "id": "273c72b6",
   "metadata": {},
   "source": [
    "1. Load in the data\n",
    "2. Clean data\n",
    "    - Check for nulls\n",
    "    - Unpack any\n",
    "3. "
   ]
  },
  {
   "cell_type": "code",
   "execution_count": 4,
   "id": "5dd532af",
   "metadata": {},
   "outputs": [],
   "source": [
    "import json\n",
    "import pandas as pd\n",
    "import numpy as np\n",
    "import matplotlib.pyplot as plt\n",
    "import seaborn as sns\n",
    "import tqdm as tqdm\n"
   ]
  },
  {
   "cell_type": "code",
   "execution_count": 6,
   "id": "f327a9d6",
   "metadata": {},
   "outputs": [
    {
     "ename": "KeyboardInterrupt",
     "evalue": "",
     "output_type": "error",
     "traceback": [
      "\u001b[0;31m---------------------------------------------------------------------------\u001b[0m",
      "\u001b[0;31mKeyboardInterrupt\u001b[0m                         Traceback (most recent call last)",
      "Input \u001b[0;32mIn [6]\u001b[0m, in \u001b[0;36m<cell line: 2>\u001b[0;34m()\u001b[0m\n\u001b[1;32m      1\u001b[0m review_data \u001b[38;5;241m=\u001b[39m []\n\u001b[1;32m      2\u001b[0m \u001b[38;5;28;01mfor\u001b[39;00m line \u001b[38;5;129;01min\u001b[39;00m \u001b[38;5;28mopen\u001b[39m(\u001b[38;5;124m'\u001b[39m\u001b[38;5;124mMovies_and_TV.json\u001b[39m\u001b[38;5;124m'\u001b[39m,\u001b[38;5;124m'\u001b[39m\u001b[38;5;124mr\u001b[39m\u001b[38;5;124m'\u001b[39m):\n\u001b[0;32m----> 3\u001b[0m     review_data\u001b[38;5;241m.\u001b[39mappend(\u001b[43mjson\u001b[49m\u001b[38;5;241;43m.\u001b[39;49m\u001b[43mloads\u001b[49m\u001b[43m(\u001b[49m\u001b[43mline\u001b[49m\u001b[43m)\u001b[49m)\n",
      "File \u001b[0;32m~/opt/anaconda3/lib/python3.9/json/__init__.py:346\u001b[0m, in \u001b[0;36mloads\u001b[0;34m(s, cls, object_hook, parse_float, parse_int, parse_constant, object_pairs_hook, **kw)\u001b[0m\n\u001b[1;32m    341\u001b[0m     s \u001b[38;5;241m=\u001b[39m s\u001b[38;5;241m.\u001b[39mdecode(detect_encoding(s), \u001b[38;5;124m'\u001b[39m\u001b[38;5;124msurrogatepass\u001b[39m\u001b[38;5;124m'\u001b[39m)\n\u001b[1;32m    343\u001b[0m \u001b[38;5;28;01mif\u001b[39;00m (\u001b[38;5;28mcls\u001b[39m \u001b[38;5;129;01mis\u001b[39;00m \u001b[38;5;28;01mNone\u001b[39;00m \u001b[38;5;129;01mand\u001b[39;00m object_hook \u001b[38;5;129;01mis\u001b[39;00m \u001b[38;5;28;01mNone\u001b[39;00m \u001b[38;5;129;01mand\u001b[39;00m\n\u001b[1;32m    344\u001b[0m         parse_int \u001b[38;5;129;01mis\u001b[39;00m \u001b[38;5;28;01mNone\u001b[39;00m \u001b[38;5;129;01mand\u001b[39;00m parse_float \u001b[38;5;129;01mis\u001b[39;00m \u001b[38;5;28;01mNone\u001b[39;00m \u001b[38;5;129;01mand\u001b[39;00m\n\u001b[1;32m    345\u001b[0m         parse_constant \u001b[38;5;129;01mis\u001b[39;00m \u001b[38;5;28;01mNone\u001b[39;00m \u001b[38;5;129;01mand\u001b[39;00m object_pairs_hook \u001b[38;5;129;01mis\u001b[39;00m \u001b[38;5;28;01mNone\u001b[39;00m \u001b[38;5;129;01mand\u001b[39;00m \u001b[38;5;129;01mnot\u001b[39;00m kw):\n\u001b[0;32m--> 346\u001b[0m     \u001b[38;5;28;01mreturn\u001b[39;00m \u001b[43m_default_decoder\u001b[49m\u001b[38;5;241;43m.\u001b[39;49m\u001b[43mdecode\u001b[49m\u001b[43m(\u001b[49m\u001b[43ms\u001b[49m\u001b[43m)\u001b[49m\n\u001b[1;32m    347\u001b[0m \u001b[38;5;28;01mif\u001b[39;00m \u001b[38;5;28mcls\u001b[39m \u001b[38;5;129;01mis\u001b[39;00m \u001b[38;5;28;01mNone\u001b[39;00m:\n\u001b[1;32m    348\u001b[0m     \u001b[38;5;28mcls\u001b[39m \u001b[38;5;241m=\u001b[39m JSONDecoder\n",
      "File \u001b[0;32m~/opt/anaconda3/lib/python3.9/json/decoder.py:337\u001b[0m, in \u001b[0;36mJSONDecoder.decode\u001b[0;34m(self, s, _w)\u001b[0m\n\u001b[1;32m    332\u001b[0m \u001b[38;5;28;01mdef\u001b[39;00m \u001b[38;5;21mdecode\u001b[39m(\u001b[38;5;28mself\u001b[39m, s, _w\u001b[38;5;241m=\u001b[39mWHITESPACE\u001b[38;5;241m.\u001b[39mmatch):\n\u001b[1;32m    333\u001b[0m     \u001b[38;5;124;03m\"\"\"Return the Python representation of ``s`` (a ``str`` instance\u001b[39;00m\n\u001b[1;32m    334\u001b[0m \u001b[38;5;124;03m    containing a JSON document).\u001b[39;00m\n\u001b[1;32m    335\u001b[0m \n\u001b[1;32m    336\u001b[0m \u001b[38;5;124;03m    \"\"\"\u001b[39;00m\n\u001b[0;32m--> 337\u001b[0m     obj, end \u001b[38;5;241m=\u001b[39m \u001b[38;5;28;43mself\u001b[39;49m\u001b[38;5;241;43m.\u001b[39;49m\u001b[43mraw_decode\u001b[49m\u001b[43m(\u001b[49m\u001b[43ms\u001b[49m\u001b[43m,\u001b[49m\u001b[43m \u001b[49m\u001b[43midx\u001b[49m\u001b[38;5;241;43m=\u001b[39;49m\u001b[43m_w\u001b[49m\u001b[43m(\u001b[49m\u001b[43ms\u001b[49m\u001b[43m,\u001b[49m\u001b[43m \u001b[49m\u001b[38;5;241;43m0\u001b[39;49m\u001b[43m)\u001b[49m\u001b[38;5;241;43m.\u001b[39;49m\u001b[43mend\u001b[49m\u001b[43m(\u001b[49m\u001b[43m)\u001b[49m\u001b[43m)\u001b[49m\n\u001b[1;32m    338\u001b[0m     end \u001b[38;5;241m=\u001b[39m _w(s, end)\u001b[38;5;241m.\u001b[39mend()\n\u001b[1;32m    339\u001b[0m     \u001b[38;5;28;01mif\u001b[39;00m end \u001b[38;5;241m!=\u001b[39m \u001b[38;5;28mlen\u001b[39m(s):\n",
      "File \u001b[0;32m~/opt/anaconda3/lib/python3.9/json/decoder.py:353\u001b[0m, in \u001b[0;36mJSONDecoder.raw_decode\u001b[0;34m(self, s, idx)\u001b[0m\n\u001b[1;32m    344\u001b[0m \u001b[38;5;124;03m\"\"\"Decode a JSON document from ``s`` (a ``str`` beginning with\u001b[39;00m\n\u001b[1;32m    345\u001b[0m \u001b[38;5;124;03ma JSON document) and return a 2-tuple of the Python\u001b[39;00m\n\u001b[1;32m    346\u001b[0m \u001b[38;5;124;03mrepresentation and the index in ``s`` where the document ended.\u001b[39;00m\n\u001b[0;32m   (...)\u001b[0m\n\u001b[1;32m    350\u001b[0m \n\u001b[1;32m    351\u001b[0m \u001b[38;5;124;03m\"\"\"\u001b[39;00m\n\u001b[1;32m    352\u001b[0m \u001b[38;5;28;01mtry\u001b[39;00m:\n\u001b[0;32m--> 353\u001b[0m     obj, end \u001b[38;5;241m=\u001b[39m \u001b[38;5;28;43mself\u001b[39;49m\u001b[38;5;241;43m.\u001b[39;49m\u001b[43mscan_once\u001b[49m\u001b[43m(\u001b[49m\u001b[43ms\u001b[49m\u001b[43m,\u001b[49m\u001b[43m \u001b[49m\u001b[43midx\u001b[49m\u001b[43m)\u001b[49m\n\u001b[1;32m    354\u001b[0m \u001b[38;5;28;01mexcept\u001b[39;00m \u001b[38;5;167;01mStopIteration\u001b[39;00m \u001b[38;5;28;01mas\u001b[39;00m err:\n\u001b[1;32m    355\u001b[0m     \u001b[38;5;28;01mraise\u001b[39;00m JSONDecodeError(\u001b[38;5;124m\"\u001b[39m\u001b[38;5;124mExpecting value\u001b[39m\u001b[38;5;124m\"\u001b[39m, s, err\u001b[38;5;241m.\u001b[39mvalue) \u001b[38;5;28;01mfrom\u001b[39;00m \u001b[38;5;28mNone\u001b[39m\n",
      "\u001b[0;31mKeyboardInterrupt\u001b[0m: "
     ]
    }
   ],
   "source": [
    "review_data = []\n",
    "for line in open('Movies_and_TV.json','r'):\n",
    "    review_data.append(json.loads(line))\n"
   ]
  },
  {
   "cell_type": "code",
   "execution_count": 3,
   "id": "2cc7464f",
   "metadata": {},
   "outputs": [
    {
     "data": {
      "text/plain": [
       "{'overall': 5.0,\n",
       " 'vote': '9',\n",
       " 'verified': False,\n",
       " 'reviewTime': '11 8, 2001',\n",
       " 'reviewerID': 'AH2IFH762VY5U',\n",
       " 'asin': 'B00005N7P0',\n",
       " 'reviewerName': 'ted sedlmayr',\n",
       " 'reviewText': 'for computer enthusiast, MaxPC is a welcome sight in your mailbox. i can remember for years savorying every page of \"boot\" (as it was called in beginning) as i was (and still am) obcessed with PC\\'s. Anyone, from advanced users - to beginners looking for knowledge - can profit from every issue of MaxPC. the icing on the cake is the subscription that comes with a CD-ROM as it is packed with demos, utilities, and other useful apps (very helpful for those not blessed with broadband connections). Until I discovered the community of hardware enthusiast web sites, MaxPC, formerly \"boot\", was my only really informative source for computing news and articles. To this day, i consider my subscription to it worth more than 10 subscriptions to most other computing mags. I can\\'t wait until they merge with DVD media and maybe end up offering more info on Divx codecs, encoding your own movies, and best bang for the buck audio and video equipment. Try a few issues (with CD)and you may get hooked...',\n",
       " 'summary': 'AVID READER SINCE \"boot\"  WAS THE NAME',\n",
       " 'unixReviewTime': 1005177600}"
      ]
     },
     "execution_count": 3,
     "metadata": {},
     "output_type": "execute_result"
    }
   ],
   "source": [
    "review_data[0]"
   ]
  },
  {
   "cell_type": "code",
   "execution_count": 4,
   "id": "5ddaa7ab",
   "metadata": {},
   "outputs": [
    {
     "data": {
      "text/plain": [
       "89689"
      ]
     },
     "execution_count": 4,
     "metadata": {},
     "output_type": "execute_result"
    }
   ],
   "source": [
    "len(review_data)"
   ]
  },
  {
   "cell_type": "code",
   "execution_count": 5,
   "id": "6ae62880",
   "metadata": {},
   "outputs": [],
   "source": [
    "review_df = pd.DataFrame(review_data)"
   ]
  },
  {
   "cell_type": "code",
   "execution_count": 6,
   "id": "6b59171f",
   "metadata": {},
   "outputs": [
    {
     "name": "stdout",
     "output_type": "stream",
     "text": [
      "<class 'pandas.core.frame.DataFrame'>\n",
      "RangeIndex: 89689 entries, 0 to 89688\n",
      "Data columns (total 12 columns):\n",
      " #   Column          Non-Null Count  Dtype  \n",
      "---  ------          --------------  -----  \n",
      " 0   overall         89689 non-null  float64\n",
      " 1   vote            24103 non-null  object \n",
      " 2   verified        89689 non-null  bool   \n",
      " 3   reviewTime      89689 non-null  object \n",
      " 4   reviewerID      89689 non-null  object \n",
      " 5   asin            89689 non-null  object \n",
      " 6   reviewerName    89687 non-null  object \n",
      " 7   reviewText      89656 non-null  object \n",
      " 8   summary         89670 non-null  object \n",
      " 9   unixReviewTime  89689 non-null  int64  \n",
      " 10  style           51398 non-null  object \n",
      " 11  image           135 non-null    object \n",
      "dtypes: bool(1), float64(1), int64(1), object(9)\n",
      "memory usage: 7.6+ MB\n"
     ]
    }
   ],
   "source": [
    "review_df.info()"
   ]
  },
  {
   "cell_type": "code",
   "execution_count": 7,
   "id": "77e02091",
   "metadata": {},
   "outputs": [
    {
     "data": {
      "text/html": [
       "<div>\n",
       "<style scoped>\n",
       "    .dataframe tbody tr th:only-of-type {\n",
       "        vertical-align: middle;\n",
       "    }\n",
       "\n",
       "    .dataframe tbody tr th {\n",
       "        vertical-align: top;\n",
       "    }\n",
       "\n",
       "    .dataframe thead th {\n",
       "        text-align: right;\n",
       "    }\n",
       "</style>\n",
       "<table border=\"1\" class=\"dataframe\">\n",
       "  <thead>\n",
       "    <tr style=\"text-align: right;\">\n",
       "      <th></th>\n",
       "      <th>overall</th>\n",
       "      <th>vote</th>\n",
       "      <th>verified</th>\n",
       "      <th>reviewTime</th>\n",
       "      <th>reviewerID</th>\n",
       "      <th>asin</th>\n",
       "      <th>reviewerName</th>\n",
       "      <th>reviewText</th>\n",
       "      <th>summary</th>\n",
       "      <th>unixReviewTime</th>\n",
       "      <th>style</th>\n",
       "      <th>image</th>\n",
       "    </tr>\n",
       "  </thead>\n",
       "  <tbody>\n",
       "    <tr>\n",
       "      <th>0</th>\n",
       "      <td>5.0</td>\n",
       "      <td>9</td>\n",
       "      <td>False</td>\n",
       "      <td>11 8, 2001</td>\n",
       "      <td>AH2IFH762VY5U</td>\n",
       "      <td>B00005N7P0</td>\n",
       "      <td>ted sedlmayr</td>\n",
       "      <td>for computer enthusiast, MaxPC is a welcome si...</td>\n",
       "      <td>AVID READER SINCE \"boot\"  WAS THE NAME</td>\n",
       "      <td>1005177600</td>\n",
       "      <td>NaN</td>\n",
       "      <td>NaN</td>\n",
       "    </tr>\n",
       "    <tr>\n",
       "      <th>1</th>\n",
       "      <td>5.0</td>\n",
       "      <td>9</td>\n",
       "      <td>False</td>\n",
       "      <td>10 31, 2001</td>\n",
       "      <td>AOSFI0JEYU4XM</td>\n",
       "      <td>B00005N7P0</td>\n",
       "      <td>Amazon Customer</td>\n",
       "      <td>Thank god this is not a Ziff Davis publication...</td>\n",
       "      <td>The straight scoop</td>\n",
       "      <td>1004486400</td>\n",
       "      <td>NaN</td>\n",
       "      <td>NaN</td>\n",
       "    </tr>\n",
       "    <tr>\n",
       "      <th>2</th>\n",
       "      <td>3.0</td>\n",
       "      <td>14</td>\n",
       "      <td>False</td>\n",
       "      <td>03 24, 2007</td>\n",
       "      <td>A3JPFWKS83R49V</td>\n",
       "      <td>B00005N7OJ</td>\n",
       "      <td>Bryan Carey</td>\n",
       "      <td>Antiques Magazine is a publication made for an...</td>\n",
       "      <td>Antiques Magazine is Good, but not for Everyone</td>\n",
       "      <td>1174694400</td>\n",
       "      <td>{'Format:': ' Print Magazine'}</td>\n",
       "      <td>NaN</td>\n",
       "    </tr>\n",
       "    <tr>\n",
       "      <th>3</th>\n",
       "      <td>5.0</td>\n",
       "      <td>13</td>\n",
       "      <td>False</td>\n",
       "      <td>11 10, 2006</td>\n",
       "      <td>A19FKU6JZQ2ECJ</td>\n",
       "      <td>B00005N7OJ</td>\n",
       "      <td>Patricia L. Porada</td>\n",
       "      <td>This beautiful magazine is in itself a work of...</td>\n",
       "      <td>THE  DISCERNING READER</td>\n",
       "      <td>1163116800</td>\n",
       "      <td>{'Format:': ' Print Magazine'}</td>\n",
       "      <td>NaN</td>\n",
       "    </tr>\n",
       "    <tr>\n",
       "      <th>4</th>\n",
       "      <td>5.0</td>\n",
       "      <td>NaN</td>\n",
       "      <td>True</td>\n",
       "      <td>07 14, 2014</td>\n",
       "      <td>A25MDGOMZ2GALN</td>\n",
       "      <td>B00005N7P0</td>\n",
       "      <td>Alvey</td>\n",
       "      <td>A great read every issue.</td>\n",
       "      <td>Five Stars</td>\n",
       "      <td>1405296000</td>\n",
       "      <td>NaN</td>\n",
       "      <td>NaN</td>\n",
       "    </tr>\n",
       "  </tbody>\n",
       "</table>\n",
       "</div>"
      ],
      "text/plain": [
       "   overall vote  verified   reviewTime      reviewerID        asin  \\\n",
       "0      5.0    9     False   11 8, 2001   AH2IFH762VY5U  B00005N7P0   \n",
       "1      5.0    9     False  10 31, 2001   AOSFI0JEYU4XM  B00005N7P0   \n",
       "2      3.0   14     False  03 24, 2007  A3JPFWKS83R49V  B00005N7OJ   \n",
       "3      5.0   13     False  11 10, 2006  A19FKU6JZQ2ECJ  B00005N7OJ   \n",
       "4      5.0  NaN      True  07 14, 2014  A25MDGOMZ2GALN  B00005N7P0   \n",
       "\n",
       "         reviewerName                                         reviewText  \\\n",
       "0        ted sedlmayr  for computer enthusiast, MaxPC is a welcome si...   \n",
       "1     Amazon Customer  Thank god this is not a Ziff Davis publication...   \n",
       "2         Bryan Carey  Antiques Magazine is a publication made for an...   \n",
       "3  Patricia L. Porada  This beautiful magazine is in itself a work of...   \n",
       "4               Alvey                          A great read every issue.   \n",
       "\n",
       "                                           summary  unixReviewTime  \\\n",
       "0           AVID READER SINCE \"boot\"  WAS THE NAME      1005177600   \n",
       "1                               The straight scoop      1004486400   \n",
       "2  Antiques Magazine is Good, but not for Everyone      1174694400   \n",
       "3                           THE  DISCERNING READER      1163116800   \n",
       "4                                       Five Stars      1405296000   \n",
       "\n",
       "                            style image  \n",
       "0                             NaN   NaN  \n",
       "1                             NaN   NaN  \n",
       "2  {'Format:': ' Print Magazine'}   NaN  \n",
       "3  {'Format:': ' Print Magazine'}   NaN  \n",
       "4                             NaN   NaN  "
      ]
     },
     "execution_count": 7,
     "metadata": {},
     "output_type": "execute_result"
    }
   ],
   "source": [
    "review_df.head()"
   ]
  },
  {
   "cell_type": "code",
   "execution_count": 8,
   "id": "c57c3b0f",
   "metadata": {},
   "outputs": [
    {
     "data": {
      "text/plain": [
       "overall               0\n",
       "vote              65586\n",
       "verified              0\n",
       "reviewTime            0\n",
       "reviewerID            0\n",
       "asin                  0\n",
       "reviewerName          2\n",
       "reviewText           33\n",
       "summary              19\n",
       "unixReviewTime        0\n",
       "style             38291\n",
       "image             89554\n",
       "dtype: int64"
      ]
     },
     "execution_count": 8,
     "metadata": {},
     "output_type": "execute_result"
    }
   ],
   "source": [
    "review_df.isnull().sum()"
   ]
  },
  {
   "cell_type": "markdown",
   "id": "1c36aa1a",
   "metadata": {},
   "source": [
    "create a clean dataframe to store only numeric values."
   ]
  },
  {
   "cell_type": "code",
   "execution_count": 9,
   "id": "c7729ca0",
   "metadata": {},
   "outputs": [
    {
     "data": {
      "text/html": [
       "<div>\n",
       "<style scoped>\n",
       "    .dataframe tbody tr th:only-of-type {\n",
       "        vertical-align: middle;\n",
       "    }\n",
       "\n",
       "    .dataframe tbody tr th {\n",
       "        vertical-align: top;\n",
       "    }\n",
       "\n",
       "    .dataframe thead th {\n",
       "        text-align: right;\n",
       "    }\n",
       "</style>\n",
       "<table border=\"1\" class=\"dataframe\">\n",
       "  <thead>\n",
       "    <tr style=\"text-align: right;\">\n",
       "      <th></th>\n",
       "      <th>overall</th>\n",
       "      <th>unixReviewTime</th>\n",
       "    </tr>\n",
       "  </thead>\n",
       "  <tbody>\n",
       "    <tr>\n",
       "      <th>0</th>\n",
       "      <td>5.0</td>\n",
       "      <td>1005177600</td>\n",
       "    </tr>\n",
       "    <tr>\n",
       "      <th>1</th>\n",
       "      <td>5.0</td>\n",
       "      <td>1004486400</td>\n",
       "    </tr>\n",
       "    <tr>\n",
       "      <th>2</th>\n",
       "      <td>3.0</td>\n",
       "      <td>1174694400</td>\n",
       "    </tr>\n",
       "    <tr>\n",
       "      <th>3</th>\n",
       "      <td>5.0</td>\n",
       "      <td>1163116800</td>\n",
       "    </tr>\n",
       "    <tr>\n",
       "      <th>4</th>\n",
       "      <td>5.0</td>\n",
       "      <td>1405296000</td>\n",
       "    </tr>\n",
       "  </tbody>\n",
       "</table>\n",
       "</div>"
      ],
      "text/plain": [
       "   overall  unixReviewTime\n",
       "0      5.0      1005177600\n",
       "1      5.0      1004486400\n",
       "2      3.0      1174694400\n",
       "3      5.0      1163116800\n",
       "4      5.0      1405296000"
      ]
     },
     "execution_count": 9,
     "metadata": {},
     "output_type": "execute_result"
    }
   ],
   "source": [
    "clean_df = review_df[['overall','unixReviewTime']].copy()\n",
    "\n",
    "# Check the created dataframe\n",
    "clean_df.head()"
   ]
  },
  {
   "cell_type": "markdown",
   "id": "e0b95a37",
   "metadata": {},
   "source": [
    "There are 65586 NaN values in vote, change all NaN values to 0 and add to the clean_df"
   ]
  },
  {
   "cell_type": "code",
   "execution_count": 10,
   "id": "9a71a0b1",
   "metadata": {},
   "outputs": [],
   "source": [
    "clean_df['vote'] = review_df['vote'].replace(',','',regex=True)\n",
    "\n",
    "clean_df['vote'] = clean_df['vote'].fillna(0).astype('int')\n",
    "\n",
    "#"
   ]
  },
  {
   "cell_type": "code",
   "execution_count": 11,
   "id": "4ccf9f31",
   "metadata": {},
   "outputs": [
    {
     "name": "stdout",
     "output_type": "stream",
     "text": [
      "<class 'pandas.core.frame.DataFrame'>\n",
      "RangeIndex: 89689 entries, 0 to 89688\n",
      "Data columns (total 3 columns):\n",
      " #   Column          Non-Null Count  Dtype  \n",
      "---  ------          --------------  -----  \n",
      " 0   overall         89689 non-null  float64\n",
      " 1   unixReviewTime  89689 non-null  int64  \n",
      " 2   vote            89689 non-null  int64  \n",
      "dtypes: float64(1), int64(2)\n",
      "memory usage: 2.1 MB\n"
     ]
    }
   ],
   "source": [
    "clean_df.info()"
   ]
  },
  {
   "cell_type": "markdown",
   "id": "28144de7",
   "metadata": {},
   "source": [
    "Check values in the clean_df"
   ]
  },
  {
   "cell_type": "code",
   "execution_count": 12,
   "id": "6f639106",
   "metadata": {
    "scrolled": true
   },
   "outputs": [
    {
     "name": "stdout",
     "output_type": "stream",
     "text": [
      "overall           0\n",
      "unixReviewTime    0\n",
      "vote              0\n",
      "dtype: int64\n"
     ]
    },
    {
     "data": {
      "text/html": [
       "<div>\n",
       "<style scoped>\n",
       "    .dataframe tbody tr th:only-of-type {\n",
       "        vertical-align: middle;\n",
       "    }\n",
       "\n",
       "    .dataframe tbody tr th {\n",
       "        vertical-align: top;\n",
       "    }\n",
       "\n",
       "    .dataframe thead th {\n",
       "        text-align: right;\n",
       "    }\n",
       "</style>\n",
       "<table border=\"1\" class=\"dataframe\">\n",
       "  <thead>\n",
       "    <tr style=\"text-align: right;\">\n",
       "      <th></th>\n",
       "      <th>overall</th>\n",
       "      <th>unixReviewTime</th>\n",
       "      <th>vote</th>\n",
       "    </tr>\n",
       "  </thead>\n",
       "  <tbody>\n",
       "    <tr>\n",
       "      <th>0</th>\n",
       "      <td>5.0</td>\n",
       "      <td>1005177600</td>\n",
       "      <td>9</td>\n",
       "    </tr>\n",
       "    <tr>\n",
       "      <th>1</th>\n",
       "      <td>5.0</td>\n",
       "      <td>1004486400</td>\n",
       "      <td>9</td>\n",
       "    </tr>\n",
       "    <tr>\n",
       "      <th>2</th>\n",
       "      <td>3.0</td>\n",
       "      <td>1174694400</td>\n",
       "      <td>14</td>\n",
       "    </tr>\n",
       "    <tr>\n",
       "      <th>3</th>\n",
       "      <td>5.0</td>\n",
       "      <td>1163116800</td>\n",
       "      <td>13</td>\n",
       "    </tr>\n",
       "    <tr>\n",
       "      <th>4</th>\n",
       "      <td>5.0</td>\n",
       "      <td>1405296000</td>\n",
       "      <td>0</td>\n",
       "    </tr>\n",
       "    <tr>\n",
       "      <th>...</th>\n",
       "      <td>...</td>\n",
       "      <td>...</td>\n",
       "      <td>...</td>\n",
       "    </tr>\n",
       "    <tr>\n",
       "      <th>89684</th>\n",
       "      <td>5.0</td>\n",
       "      <td>1471305600</td>\n",
       "      <td>0</td>\n",
       "    </tr>\n",
       "    <tr>\n",
       "      <th>89685</th>\n",
       "      <td>1.0</td>\n",
       "      <td>1470787200</td>\n",
       "      <td>0</td>\n",
       "    </tr>\n",
       "    <tr>\n",
       "      <th>89686</th>\n",
       "      <td>5.0</td>\n",
       "      <td>1469923200</td>\n",
       "      <td>0</td>\n",
       "    </tr>\n",
       "    <tr>\n",
       "      <th>89687</th>\n",
       "      <td>5.0</td>\n",
       "      <td>1507161600</td>\n",
       "      <td>0</td>\n",
       "    </tr>\n",
       "    <tr>\n",
       "      <th>89688</th>\n",
       "      <td>5.0</td>\n",
       "      <td>1493337600</td>\n",
       "      <td>0</td>\n",
       "    </tr>\n",
       "  </tbody>\n",
       "</table>\n",
       "<p>89689 rows × 3 columns</p>\n",
       "</div>"
      ],
      "text/plain": [
       "       overall  unixReviewTime  vote\n",
       "0          5.0      1005177600     9\n",
       "1          5.0      1004486400     9\n",
       "2          3.0      1174694400    14\n",
       "3          5.0      1163116800    13\n",
       "4          5.0      1405296000     0\n",
       "...        ...             ...   ...\n",
       "89684      5.0      1471305600     0\n",
       "89685      1.0      1470787200     0\n",
       "89686      5.0      1469923200     0\n",
       "89687      5.0      1507161600     0\n",
       "89688      5.0      1493337600     0\n",
       "\n",
       "[89689 rows x 3 columns]"
      ]
     },
     "execution_count": 12,
     "metadata": {},
     "output_type": "execute_result"
    }
   ],
   "source": [
    "\n",
    "print(clean_df.isnull().sum())\n",
    "\n",
    "clean_df"
   ]
  },
  {
   "cell_type": "markdown",
   "id": "ae214c7f",
   "metadata": {},
   "source": [
    "**Check values in the verified column and convert to numeric**"
   ]
  },
  {
   "cell_type": "code",
   "execution_count": 13,
   "id": "fc5dcf3b",
   "metadata": {},
   "outputs": [
    {
     "data": {
      "text/plain": [
       "True     58654\n",
       "False    31035\n",
       "Name: verified, dtype: int64"
      ]
     },
     "execution_count": 13,
     "metadata": {},
     "output_type": "execute_result"
    }
   ],
   "source": [
    "review_df['verified'].value_counts()"
   ]
  },
  {
   "cell_type": "code",
   "execution_count": 14,
   "id": "876a0142",
   "metadata": {},
   "outputs": [
    {
     "data": {
      "text/html": [
       "<div>\n",
       "<style scoped>\n",
       "    .dataframe tbody tr th:only-of-type {\n",
       "        vertical-align: middle;\n",
       "    }\n",
       "\n",
       "    .dataframe tbody tr th {\n",
       "        vertical-align: top;\n",
       "    }\n",
       "\n",
       "    .dataframe thead th {\n",
       "        text-align: right;\n",
       "    }\n",
       "</style>\n",
       "<table border=\"1\" class=\"dataframe\">\n",
       "  <thead>\n",
       "    <tr style=\"text-align: right;\">\n",
       "      <th></th>\n",
       "      <th>overall</th>\n",
       "      <th>unixReviewTime</th>\n",
       "      <th>vote</th>\n",
       "      <th>verified</th>\n",
       "    </tr>\n",
       "  </thead>\n",
       "  <tbody>\n",
       "    <tr>\n",
       "      <th>0</th>\n",
       "      <td>5.0</td>\n",
       "      <td>1005177600</td>\n",
       "      <td>9</td>\n",
       "      <td>0</td>\n",
       "    </tr>\n",
       "    <tr>\n",
       "      <th>1</th>\n",
       "      <td>5.0</td>\n",
       "      <td>1004486400</td>\n",
       "      <td>9</td>\n",
       "      <td>0</td>\n",
       "    </tr>\n",
       "    <tr>\n",
       "      <th>2</th>\n",
       "      <td>3.0</td>\n",
       "      <td>1174694400</td>\n",
       "      <td>14</td>\n",
       "      <td>0</td>\n",
       "    </tr>\n",
       "    <tr>\n",
       "      <th>3</th>\n",
       "      <td>5.0</td>\n",
       "      <td>1163116800</td>\n",
       "      <td>13</td>\n",
       "      <td>0</td>\n",
       "    </tr>\n",
       "    <tr>\n",
       "      <th>4</th>\n",
       "      <td>5.0</td>\n",
       "      <td>1405296000</td>\n",
       "      <td>0</td>\n",
       "      <td>1</td>\n",
       "    </tr>\n",
       "    <tr>\n",
       "      <th>...</th>\n",
       "      <td>...</td>\n",
       "      <td>...</td>\n",
       "      <td>...</td>\n",
       "      <td>...</td>\n",
       "    </tr>\n",
       "    <tr>\n",
       "      <th>89684</th>\n",
       "      <td>5.0</td>\n",
       "      <td>1471305600</td>\n",
       "      <td>0</td>\n",
       "      <td>1</td>\n",
       "    </tr>\n",
       "    <tr>\n",
       "      <th>89685</th>\n",
       "      <td>1.0</td>\n",
       "      <td>1470787200</td>\n",
       "      <td>0</td>\n",
       "      <td>1</td>\n",
       "    </tr>\n",
       "    <tr>\n",
       "      <th>89686</th>\n",
       "      <td>5.0</td>\n",
       "      <td>1469923200</td>\n",
       "      <td>0</td>\n",
       "      <td>1</td>\n",
       "    </tr>\n",
       "    <tr>\n",
       "      <th>89687</th>\n",
       "      <td>5.0</td>\n",
       "      <td>1507161600</td>\n",
       "      <td>0</td>\n",
       "      <td>1</td>\n",
       "    </tr>\n",
       "    <tr>\n",
       "      <th>89688</th>\n",
       "      <td>5.0</td>\n",
       "      <td>1493337600</td>\n",
       "      <td>0</td>\n",
       "      <td>1</td>\n",
       "    </tr>\n",
       "  </tbody>\n",
       "</table>\n",
       "<p>89689 rows × 4 columns</p>\n",
       "</div>"
      ],
      "text/plain": [
       "       overall  unixReviewTime  vote  verified\n",
       "0          5.0      1005177600     9         0\n",
       "1          5.0      1004486400     9         0\n",
       "2          3.0      1174694400    14         0\n",
       "3          5.0      1163116800    13         0\n",
       "4          5.0      1405296000     0         1\n",
       "...        ...             ...   ...       ...\n",
       "89684      5.0      1471305600     0         1\n",
       "89685      1.0      1470787200     0         1\n",
       "89686      5.0      1469923200     0         1\n",
       "89687      5.0      1507161600     0         1\n",
       "89688      5.0      1493337600     0         1\n",
       "\n",
       "[89689 rows x 4 columns]"
      ]
     },
     "execution_count": 14,
     "metadata": {},
     "output_type": "execute_result"
    }
   ],
   "source": [
    "# Map true to 1 and false to 0\n",
    "clean_df['verified'] = review_df['verified'].map({True:1,False:0})\n",
    "\n",
    "# check the added column\n",
    "clean_df\n"
   ]
  },
  {
   "cell_type": "markdown",
   "id": "1ea8e56f",
   "metadata": {},
   "source": [
    "Check the amount of different reviewers"
   ]
  },
  {
   "cell_type": "code",
   "execution_count": 15,
   "id": "f5fce8f5",
   "metadata": {},
   "outputs": [
    {
     "data": {
      "text/plain": [
       "Amazon Customer        4833\n",
       "Kindle Customer        1053\n",
       "Linda                    94\n",
       "Susan                    67\n",
       "Mike                     64\n",
       "                       ... \n",
       "M. Kiser                  1\n",
       "John A. Fugel             1\n",
       "Lawrence J. Marotta       1\n",
       "ATK                       1\n",
       "Anthony M Asci            1\n",
       "Name: reviewerName, Length: 58399, dtype: int64"
      ]
     },
     "execution_count": 15,
     "metadata": {},
     "output_type": "execute_result"
    }
   ],
   "source": [
    "review_df['reviewerName'].value_counts()"
   ]
  },
  {
   "cell_type": "code",
   "execution_count": 16,
   "id": "e2f1d95f",
   "metadata": {},
   "outputs": [
    {
     "data": {
      "text/plain": [
       "A3JPFWKS83R49V    55\n",
       "A2OTUWUSH49XIN    26\n",
       "AEMZRE6QYVQBS     25\n",
       "A3GA09FYFKL4EY    24\n",
       "A30H2335OM7RD6    22\n",
       "                  ..\n",
       "A1GOGNVAM9CWRK     1\n",
       "A5RXVI67FLKMD      1\n",
       "AGXYE9WZZ4DUG      1\n",
       "ATYDFYTB5URNC      1\n",
       "A1N6M7HRWMDE3D     1\n",
       "Name: reviewerID, Length: 72098, dtype: int64"
      ]
     },
     "execution_count": 16,
     "metadata": {},
     "output_type": "execute_result"
    }
   ],
   "source": [
    "review_df['reviewerID'].value_counts()"
   ]
  },
  {
   "cell_type": "markdown",
   "id": "92d0e84d",
   "metadata": {},
   "source": [
    "The `reviewerID` and `reviewerName` column show differrent lengths. The `reviewerName` column contains less information than the `reviewerID` column because users can have the same names but reviewerID is unique. Thus reviewerID should be used."
   ]
  },
  {
   "cell_type": "markdown",
   "id": "87887ab6",
   "metadata": {},
   "source": [
    "Convert the reviewerName column to a numeric representation using `pd.factorize`"
   ]
  },
  {
   "cell_type": "code",
   "execution_count": 17,
   "id": "ae09dd25",
   "metadata": {},
   "outputs": [],
   "source": [
    "clean_df['reviewer_ID'] = pd.factorize(review_df['reviewerID'])[0]"
   ]
  },
  {
   "cell_type": "code",
   "execution_count": 18,
   "id": "b2be05b9",
   "metadata": {},
   "outputs": [],
   "source": [
    "# clean_df['reviewerName']= review_df['reviewerName']"
   ]
  },
  {
   "cell_type": "markdown",
   "id": "a912a92e",
   "metadata": {},
   "source": [
    "Do the same for the product column (ASIN)"
   ]
  },
  {
   "cell_type": "code",
   "execution_count": 19,
   "id": "d97870d4",
   "metadata": {},
   "outputs": [],
   "source": [
    "#clean_df['itemID'] = pd.factorize(review_df['asin'])[0]"
   ]
  },
  {
   "cell_type": "code",
   "execution_count": 20,
   "id": "b3fedd74",
   "metadata": {},
   "outputs": [
    {
     "name": "stdout",
     "output_type": "stream",
     "text": [
      "<class 'pandas.core.frame.DataFrame'>\n",
      "RangeIndex: 89689 entries, 0 to 89688\n",
      "Data columns (total 5 columns):\n",
      " #   Column          Non-Null Count  Dtype  \n",
      "---  ------          --------------  -----  \n",
      " 0   overall         89689 non-null  float64\n",
      " 1   unixReviewTime  89689 non-null  int64  \n",
      " 2   vote            89689 non-null  int64  \n",
      " 3   verified        89689 non-null  int64  \n",
      " 4   reviewer_ID     89689 non-null  int64  \n",
      "dtypes: float64(1), int64(4)\n",
      "memory usage: 3.4 MB\n"
     ]
    }
   ],
   "source": [
    "clean_df.info()"
   ]
  },
  {
   "cell_type": "markdown",
   "id": "043ca1a1",
   "metadata": {},
   "source": [
    "There are 5804 different review dates"
   ]
  },
  {
   "cell_type": "markdown",
   "id": "e5592caa",
   "metadata": {},
   "source": [
    "Show correlations between different features"
   ]
  },
  {
   "cell_type": "code",
   "execution_count": 21,
   "id": "281e9d31",
   "metadata": {},
   "outputs": [
    {
     "data": {
      "image/png": "[encoded data removed]",
      "text/plain": [
       "<Figure size 864x576 with 2 Axes>"
      ]
     },
     "metadata": {
      "needs_background": "light"
     },
     "output_type": "display_data"
    }
   ],
   "source": [
    "plt.figure(figsize= [12,8])\n",
    "sns.heatmap(clean_df.corr().round(2), vmin=-1, vmax=1, cmap='coolwarm', annot=True)\n",
    "plt.show()"
   ]
  },
  {
   "cell_type": "markdown",
   "id": "40944411",
   "metadata": {},
   "source": [
    "Check the number of unique products in the database"
   ]
  },
  {
   "cell_type": "code",
   "execution_count": null,
   "id": "573d993b",
   "metadata": {},
   "outputs": [],
   "source": []
  },
  {
   "cell_type": "code",
   "execution_count": null,
   "id": "fa54f48b",
   "metadata": {},
   "outputs": [],
   "source": []
  },
  {
   "cell_type": "code",
   "execution_count": 26,
   "id": "533c64a7",
   "metadata": {},
   "outputs": [],
   "source": [
    "clean_df['item_id'] = review_df['asin']"
   ]
  },
  {
   "cell_type": "markdown",
   "id": "974b53c7",
   "metadata": {},
   "source": [
    "**Read in the clean meta data and combine it with the clean review data**"
   ]
  },
  {
   "cell_type": "code",
   "execution_count": 27,
   "id": "624bebb7",
   "metadata": {},
   "outputs": [
    {
     "data": {
      "text/html": [
       "<div>\n",
       "<style scoped>\n",
       "    .dataframe tbody tr th:only-of-type {\n",
       "        vertical-align: middle;\n",
       "    }\n",
       "\n",
       "    .dataframe tbody tr th {\n",
       "        vertical-align: top;\n",
       "    }\n",
       "\n",
       "    .dataframe thead th {\n",
       "        text-align: right;\n",
       "    }\n",
       "</style>\n",
       "<table border=\"1\" class=\"dataframe\">\n",
       "  <thead>\n",
       "    <tr style=\"text-align: right;\">\n",
       "      <th></th>\n",
       "      <th>brand</th>\n",
       "      <th>rank</th>\n",
       "      <th>asin</th>\n",
       "      <th>description</th>\n",
       "      <th>category_1</th>\n",
       "      <th>category_2</th>\n",
       "      <th>category_3</th>\n",
       "      <th>category_4</th>\n",
       "    </tr>\n",
       "  </thead>\n",
       "  <tbody>\n",
       "    <tr>\n",
       "      <th>0</th>\n",
       "      <td>Reason Magazine</td>\n",
       "      <td>NaN</td>\n",
       "      <td>B00005N7NQ</td>\n",
       "      <td>REASON is edited for people interested in econ...</td>\n",
       "      <td>Professional &amp; Educational Journals</td>\n",
       "      <td>Professional &amp; Trade</td>\n",
       "      <td>Humanities &amp; Social Sciences</td>\n",
       "      <td>Economics &amp; Economic Theory</td>\n",
       "    </tr>\n",
       "    <tr>\n",
       "      <th>1</th>\n",
       "      <td>String Letter Publishers</td>\n",
       "      <td>742</td>\n",
       "      <td>B00005N7OC</td>\n",
       "      <td>Written by and for musicians. Covers a variety...</td>\n",
       "      <td>Arts, Music &amp;amp; Photography</td>\n",
       "      <td>Music</td>\n",
       "      <td>NaN</td>\n",
       "      <td>NaN</td>\n",
       "    </tr>\n",
       "    <tr>\n",
       "      <th>2</th>\n",
       "      <td>Conde Nast Publications</td>\n",
       "      <td>NaN</td>\n",
       "      <td>B00005N7OD</td>\n",
       "      <td>Allure is the beauty expert. Every issue is fu...</td>\n",
       "      <td>Fashion &amp;amp; Style</td>\n",
       "      <td>Women</td>\n",
       "      <td>NaN</td>\n",
       "      <td>NaN</td>\n",
       "    </tr>\n",
       "    <tr>\n",
       "      <th>3</th>\n",
       "      <td>AirAge Publishing</td>\n",
       "      <td>NaN</td>\n",
       "      <td>B00005N7O9</td>\n",
       "      <td>FLIGHT JOURNAL includes articles on aviation h...</td>\n",
       "      <td>Sports, Recreation &amp; Outdoors</td>\n",
       "      <td>Sports &amp; Leisure</td>\n",
       "      <td>Flying</td>\n",
       "      <td>NaN</td>\n",
       "    </tr>\n",
       "    <tr>\n",
       "      <th>4</th>\n",
       "      <td>EPG Media &amp; Specialty Information</td>\n",
       "      <td>NaN</td>\n",
       "      <td>B00005N7O6</td>\n",
       "      <td>RIDER is published for the road and street rid...</td>\n",
       "      <td>Professional &amp; Educational Journals</td>\n",
       "      <td>Professional &amp; Trade</td>\n",
       "      <td>Transportation</td>\n",
       "      <td>NaN</td>\n",
       "    </tr>\n",
       "    <tr>\n",
       "      <th>...</th>\n",
       "      <td>...</td>\n",
       "      <td>...</td>\n",
       "      <td>...</td>\n",
       "      <td>...</td>\n",
       "      <td>...</td>\n",
       "      <td>...</td>\n",
       "      <td>...</td>\n",
       "      <td>...</td>\n",
       "    </tr>\n",
       "    <tr>\n",
       "      <th>2315</th>\n",
       "      <td>TI Golf Holdings</td>\n",
       "      <td>NaN</td>\n",
       "      <td>B01HI8V19K</td>\n",
       "      <td>The game's most widely read publication, GOLF ...</td>\n",
       "      <td>NaN</td>\n",
       "      <td>NaN</td>\n",
       "      <td>NaN</td>\n",
       "      <td>NaN</td>\n",
       "    </tr>\n",
       "    <tr>\n",
       "      <th>2316</th>\n",
       "      <td>Motorsport Marketing, Inc.</td>\n",
       "      <td>NaN</td>\n",
       "      <td>B01HI8V1I6</td>\n",
       "      <td>Built for the true classic car enthusiast, eac...</td>\n",
       "      <td>Sports, Recreation &amp; Outdoors</td>\n",
       "      <td>Sports &amp; Leisure</td>\n",
       "      <td>Extreme Sports</td>\n",
       "      <td>NaN</td>\n",
       "    </tr>\n",
       "    <tr>\n",
       "      <th>2317</th>\n",
       "      <td>Meredith Corporation</td>\n",
       "      <td>NaN</td>\n",
       "      <td>B01HI8V0ZK</td>\n",
       "      <td>InStyle celebrates the private side of public ...</td>\n",
       "      <td>Fashion &amp; Style</td>\n",
       "      <td>NaN</td>\n",
       "      <td>NaN</td>\n",
       "      <td>NaN</td>\n",
       "    </tr>\n",
       "    <tr>\n",
       "      <th>2318</th>\n",
       "      <td>Meredith Corporation</td>\n",
       "      <td>NaN</td>\n",
       "      <td>B01HI8V1C2</td>\n",
       "      <td>Sports Illustrated brings you spectacular acti...</td>\n",
       "      <td>NaN</td>\n",
       "      <td>NaN</td>\n",
       "      <td>NaN</td>\n",
       "      <td>NaN</td>\n",
       "    </tr>\n",
       "    <tr>\n",
       "      <th>2319</th>\n",
       "      <td>Meredith Corporation</td>\n",
       "      <td>NaN</td>\n",
       "      <td>B01HI8V1MC</td>\n",
       "      <td>Get fresh ideas and inspiration on how to make...</td>\n",
       "      <td>NaN</td>\n",
       "      <td>NaN</td>\n",
       "      <td>NaN</td>\n",
       "      <td>NaN</td>\n",
       "    </tr>\n",
       "  </tbody>\n",
       "</table>\n",
       "<p>2320 rows × 8 columns</p>\n",
       "</div>"
      ],
      "text/plain": [
       "                                  brand rank        asin  \\\n",
       "0                       Reason Magazine  NaN  B00005N7NQ   \n",
       "1              String Letter Publishers  742  B00005N7OC   \n",
       "2               Conde Nast Publications  NaN  B00005N7OD   \n",
       "3                     AirAge Publishing  NaN  B00005N7O9   \n",
       "4     EPG Media & Specialty Information  NaN  B00005N7O6   \n",
       "...                                 ...  ...         ...   \n",
       "2315                   TI Golf Holdings  NaN  B01HI8V19K   \n",
       "2316         Motorsport Marketing, Inc.  NaN  B01HI8V1I6   \n",
       "2317               Meredith Corporation  NaN  B01HI8V0ZK   \n",
       "2318               Meredith Corporation  NaN  B01HI8V1C2   \n",
       "2319               Meredith Corporation  NaN  B01HI8V1MC   \n",
       "\n",
       "                                            description  \\\n",
       "0     REASON is edited for people interested in econ...   \n",
       "1     Written by and for musicians. Covers a variety...   \n",
       "2     Allure is the beauty expert. Every issue is fu...   \n",
       "3     FLIGHT JOURNAL includes articles on aviation h...   \n",
       "4     RIDER is published for the road and street rid...   \n",
       "...                                                 ...   \n",
       "2315  The game's most widely read publication, GOLF ...   \n",
       "2316  Built for the true classic car enthusiast, eac...   \n",
       "2317  InStyle celebrates the private side of public ...   \n",
       "2318  Sports Illustrated brings you spectacular acti...   \n",
       "2319  Get fresh ideas and inspiration on how to make...   \n",
       "\n",
       "                               category_1            category_2  \\\n",
       "0     Professional & Educational Journals  Professional & Trade   \n",
       "1           Arts, Music &amp; Photography                 Music   \n",
       "2                     Fashion &amp; Style                 Women   \n",
       "3           Sports, Recreation & Outdoors      Sports & Leisure   \n",
       "4     Professional & Educational Journals  Professional & Trade   \n",
       "...                                   ...                   ...   \n",
       "2315                                  NaN                   NaN   \n",
       "2316        Sports, Recreation & Outdoors      Sports & Leisure   \n",
       "2317                      Fashion & Style                   NaN   \n",
       "2318                                  NaN                   NaN   \n",
       "2319                                  NaN                   NaN   \n",
       "\n",
       "                        category_3                   category_4  \n",
       "0     Humanities & Social Sciences  Economics & Economic Theory  \n",
       "1                              NaN                          NaN  \n",
       "2                              NaN                          NaN  \n",
       "3                           Flying                          NaN  \n",
       "4                   Transportation                          NaN  \n",
       "...                            ...                          ...  \n",
       "2315                           NaN                          NaN  \n",
       "2316                Extreme Sports                          NaN  \n",
       "2317                           NaN                          NaN  \n",
       "2318                           NaN                          NaN  \n",
       "2319                           NaN                          NaN  \n",
       "\n",
       "[2320 rows x 8 columns]"
      ]
     },
     "execution_count": 27,
     "metadata": {},
     "output_type": "execute_result"
    }
   ],
   "source": [
    "meta_df = pd.read_csv('clean_meta.csv')\n",
    "meta_df"
   ]
  },
  {
   "cell_type": "code",
   "execution_count": 29,
   "id": "34668fa1",
   "metadata": {},
   "outputs": [],
   "source": [
    "new_df = pd.merge(clean_df, meta_df,  how='left', left_on='item_id', right_on = 'asin')"
   ]
  },
  {
   "cell_type": "code",
   "execution_count": 31,
   "id": "35cfc568",
   "metadata": {},
   "outputs": [
    {
     "data": {
      "text/html": [
       "<div>\n",
       "<style scoped>\n",
       "    .dataframe tbody tr th:only-of-type {\n",
       "        vertical-align: middle;\n",
       "    }\n",
       "\n",
       "    .dataframe tbody tr th {\n",
       "        vertical-align: top;\n",
       "    }\n",
       "\n",
       "    .dataframe thead th {\n",
       "        text-align: right;\n",
       "    }\n",
       "</style>\n",
       "<table border=\"1\" class=\"dataframe\">\n",
       "  <thead>\n",
       "    <tr style=\"text-align: right;\">\n",
       "      <th></th>\n",
       "      <th>overall</th>\n",
       "      <th>unixReviewTime</th>\n",
       "      <th>vote</th>\n",
       "      <th>verified</th>\n",
       "      <th>reviewer_ID</th>\n",
       "      <th>item_id</th>\n",
       "      <th>brand</th>\n",
       "      <th>rank</th>\n",
       "      <th>asin</th>\n",
       "      <th>description</th>\n",
       "      <th>category_1</th>\n",
       "      <th>category_2</th>\n",
       "      <th>category_3</th>\n",
       "      <th>category_4</th>\n",
       "    </tr>\n",
       "  </thead>\n",
       "  <tbody>\n",
       "    <tr>\n",
       "      <th>0</th>\n",
       "      <td>5.0</td>\n",
       "      <td>1005177600</td>\n",
       "      <td>9</td>\n",
       "      <td>0</td>\n",
       "      <td>0</td>\n",
       "      <td>B00005N7P0</td>\n",
       "      <td>Future US, Inc.</td>\n",
       "      <td>NaN</td>\n",
       "      <td>B00005N7P0</td>\n",
       "      <td>MAXIMUM PC is the ultimate upgrade for the sav...</td>\n",
       "      <td>Technology</td>\n",
       "      <td>Computers &amp;amp; Internet</td>\n",
       "      <td>NaN</td>\n",
       "      <td>NaN</td>\n",
       "    </tr>\n",
       "    <tr>\n",
       "      <th>1</th>\n",
       "      <td>5.0</td>\n",
       "      <td>1004486400</td>\n",
       "      <td>9</td>\n",
       "      <td>0</td>\n",
       "      <td>1</td>\n",
       "      <td>B00005N7P0</td>\n",
       "      <td>Future US, Inc.</td>\n",
       "      <td>NaN</td>\n",
       "      <td>B00005N7P0</td>\n",
       "      <td>MAXIMUM PC is the ultimate upgrade for the sav...</td>\n",
       "      <td>Technology</td>\n",
       "      <td>Computers &amp;amp; Internet</td>\n",
       "      <td>NaN</td>\n",
       "      <td>NaN</td>\n",
       "    </tr>\n",
       "    <tr>\n",
       "      <th>2</th>\n",
       "      <td>3.0</td>\n",
       "      <td>1174694400</td>\n",
       "      <td>14</td>\n",
       "      <td>0</td>\n",
       "      <td>2</td>\n",
       "      <td>B00005N7OJ</td>\n",
       "      <td>Brant Publications</td>\n",
       "      <td>406</td>\n",
       "      <td>B00005N7OJ</td>\n",
       "      <td>The Magazine Antiques brings you the fascinati...</td>\n",
       "      <td>Home &amp; Garden</td>\n",
       "      <td>Antiques &amp; Collectibles</td>\n",
       "      <td>NaN</td>\n",
       "      <td>NaN</td>\n",
       "    </tr>\n",
       "    <tr>\n",
       "      <th>3</th>\n",
       "      <td>5.0</td>\n",
       "      <td>1163116800</td>\n",
       "      <td>13</td>\n",
       "      <td>0</td>\n",
       "      <td>3</td>\n",
       "      <td>B00005N7OJ</td>\n",
       "      <td>Brant Publications</td>\n",
       "      <td>406</td>\n",
       "      <td>B00005N7OJ</td>\n",
       "      <td>The Magazine Antiques brings you the fascinati...</td>\n",
       "      <td>Home &amp; Garden</td>\n",
       "      <td>Antiques &amp; Collectibles</td>\n",
       "      <td>NaN</td>\n",
       "      <td>NaN</td>\n",
       "    </tr>\n",
       "    <tr>\n",
       "      <th>4</th>\n",
       "      <td>5.0</td>\n",
       "      <td>1405296000</td>\n",
       "      <td>0</td>\n",
       "      <td>1</td>\n",
       "      <td>4</td>\n",
       "      <td>B00005N7P0</td>\n",
       "      <td>Future US, Inc.</td>\n",
       "      <td>NaN</td>\n",
       "      <td>B00005N7P0</td>\n",
       "      <td>MAXIMUM PC is the ultimate upgrade for the sav...</td>\n",
       "      <td>Technology</td>\n",
       "      <td>Computers &amp;amp; Internet</td>\n",
       "      <td>NaN</td>\n",
       "      <td>NaN</td>\n",
       "    </tr>\n",
       "  </tbody>\n",
       "</table>\n",
       "</div>"
      ],
      "text/plain": [
       "   overall  unixReviewTime  vote  verified  reviewer_ID     item_id  \\\n",
       "0      5.0      1005177600     9         0            0  B00005N7P0   \n",
       "1      5.0      1004486400     9         0            1  B00005N7P0   \n",
       "2      3.0      1174694400    14         0            2  B00005N7OJ   \n",
       "3      5.0      1163116800    13         0            3  B00005N7OJ   \n",
       "4      5.0      1405296000     0         1            4  B00005N7P0   \n",
       "\n",
       "                brand rank        asin  \\\n",
       "0     Future US, Inc.  NaN  B00005N7P0   \n",
       "1     Future US, Inc.  NaN  B00005N7P0   \n",
       "2  Brant Publications  406  B00005N7OJ   \n",
       "3  Brant Publications  406  B00005N7OJ   \n",
       "4     Future US, Inc.  NaN  B00005N7P0   \n",
       "\n",
       "                                         description     category_1  \\\n",
       "0  MAXIMUM PC is the ultimate upgrade for the sav...     Technology   \n",
       "1  MAXIMUM PC is the ultimate upgrade for the sav...     Technology   \n",
       "2  The Magazine Antiques brings you the fascinati...  Home & Garden   \n",
       "3  The Magazine Antiques brings you the fascinati...  Home & Garden   \n",
       "4  MAXIMUM PC is the ultimate upgrade for the sav...     Technology   \n",
       "\n",
       "                 category_2 category_3 category_4  \n",
       "0  Computers &amp; Internet        NaN        NaN  \n",
       "1  Computers &amp; Internet        NaN        NaN  \n",
       "2   Antiques & Collectibles        NaN        NaN  \n",
       "3   Antiques & Collectibles        NaN        NaN  \n",
       "4  Computers &amp; Internet        NaN        NaN  "
      ]
     },
     "execution_count": 31,
     "metadata": {},
     "output_type": "execute_result"
    }
   ],
   "source": [
    "new_df.head()"
   ]
  },
  {
   "cell_type": "code",
   "execution_count": 33,
   "id": "98296500",
   "metadata": {},
   "outputs": [
    {
     "data": {
      "text/plain": [
       "Hearst Magazines                    13788\n",
       "Meredith Corporation                 6941\n",
       "Meredith                             4911\n",
       "Conde Nast Publications              3638\n",
       "National Geographic Partners LLC     3163\n",
       "Trusted Media Brands, Inc            2984\n",
       "Bonnier Corporation                  2774\n",
       "Conde Nast                           2591\n",
       "Active Interest Media                1962\n",
       "American Media, Inc.                 1507\n",
       "Name: brand, dtype: int64"
      ]
     },
     "execution_count": 33,
     "metadata": {},
     "output_type": "execute_result"
    }
   ],
   "source": [
    "new_df['brand'].value_counts().head(10)\n"
   ]
  },
  {
   "cell_type": "code",
   "execution_count": null,
   "id": "17097fd8",
   "metadata": {},
   "outputs": [],
   "source": []
  }
 ],
 "metadata": {
  "kernelspec": {
   "display_name": "Python 3 (ipykernel)",
   "language": "python",
   "name": "python3"
  },
  "language_info": {
   "codemirror_mode": {
    "name": "ipython",
    "version": 3
   },
   "file_extension": ".py",
   "mimetype": "text/x-python",
   "name": "python",
   "nbconvert_exporter": "python",
   "pygments_lexer": "ipython3",
   "version": "3.9.12"
  },
  "vscode": {
   "interpreter": {
    "hash": "9b61fdd3a2a3406d3b2943547bbf4fec5b3045273a2b744a008561f0c1fab588"
   }
  }
 },
 "nbformat": 4,
 "nbformat_minor": 5
}
