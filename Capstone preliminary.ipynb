{
 "cells": [
  {
   "cell_type": "markdown",
   "id": "44e41afa",
   "metadata": {},
   "source": [
    "## CAPSTONE"
   ]
  },
  {
   "cell_type": "markdown",
   "id": "62d3e56f",
   "metadata": {},
   "source": [
    "# Data analysis road map\n"
   ]
  },
  {
   "cell_type": "markdown",
   "id": "273c72b6",
   "metadata": {},
   "source": [
    "1. Load in the data\n",
    "2. Clean data\n",
    "    - Check for nulls\n",
    "    - Unpack any\n",
    "3. "
   ]
  },
  {
   "cell_type": "code",
   "execution_count": 1,
   "id": "5dd532af",
   "metadata": {},
   "outputs": [],
   "source": [
    "import json\n",
    "import pandas as pd\n",
    "import numpy as np\n",
    "import matplotlib.pyplot as plt\n",
    "import seaborn as sns\n"
   ]
  },
  {
   "cell_type": "code",
   "execution_count": 2,
   "id": "f327a9d6",
   "metadata": {},
   "outputs": [],
   "source": [
    "review_data = []\n",
    "for line in open('Magazine_Subscriptions.json','r'):\n",
    "    review_data.append(json.loads(line))\n"
   ]
  },
  {
   "cell_type": "code",
   "execution_count": 3,
   "id": "cd42868a",
   "metadata": {},
   "outputs": [],
   "source": [
    "meta_data = []\n",
    "for line in open('meta_Magazine_Subscriptions.json','r'):\n",
    "    meta_data.append(json.loads(line))\n"
   ]
  },
  {
   "cell_type": "code",
   "execution_count": 4,
   "id": "2cc7464f",
   "metadata": {},
   "outputs": [
    {
     "data": {
      "text/plain": [
       "{'overall': 5.0,\n",
       " 'vote': '9',\n",
       " 'verified': False,\n",
       " 'reviewTime': '11 8, 2001',\n",
       " 'reviewerID': 'AH2IFH762VY5U',\n",
       " 'asin': 'B00005N7P0',\n",
       " 'reviewerName': 'ted sedlmayr',\n",
       " 'reviewText': 'for computer enthusiast, MaxPC is a welcome sight in your mailbox. i can remember for years savorying every page of \"boot\" (as it was called in beginning) as i was (and still am) obcessed with PC\\'s. Anyone, from advanced users - to beginners looking for knowledge - can profit from every issue of MaxPC. the icing on the cake is the subscription that comes with a CD-ROM as it is packed with demos, utilities, and other useful apps (very helpful for those not blessed with broadband connections). Until I discovered the community of hardware enthusiast web sites, MaxPC, formerly \"boot\", was my only really informative source for computing news and articles. To this day, i consider my subscription to it worth more than 10 subscriptions to most other computing mags. I can\\'t wait until they merge with DVD media and maybe end up offering more info on Divx codecs, encoding your own movies, and best bang for the buck audio and video equipment. Try a few issues (with CD)and you may get hooked...',\n",
       " 'summary': 'AVID READER SINCE \"boot\"  WAS THE NAME',\n",
       " 'unixReviewTime': 1005177600}"
      ]
     },
     "execution_count": 4,
     "metadata": {},
     "output_type": "execute_result"
    }
   ],
   "source": [
    "review_data[0]"
   ]
  },
  {
   "cell_type": "code",
   "execution_count": 5,
   "id": "5ddaa7ab",
   "metadata": {},
   "outputs": [
    {
     "data": {
      "text/plain": [
       "89689"
      ]
     },
     "execution_count": 5,
     "metadata": {},
     "output_type": "execute_result"
    }
   ],
   "source": [
    "len(review_data)"
   ]
  },
  {
   "cell_type": "code",
   "execution_count": 6,
   "id": "6ae62880",
   "metadata": {},
   "outputs": [],
   "source": [
    "review_df = pd.DataFrame(review_data)\n",
    "meta_df = pd.DataFrame(meta_data)"
   ]
  },
  {
   "cell_type": "code",
   "execution_count": 7,
   "id": "6b59171f",
   "metadata": {},
   "outputs": [
    {
     "name": "stdout",
     "output_type": "stream",
     "text": [
      "<class 'pandas.core.frame.DataFrame'>\n",
      "RangeIndex: 89689 entries, 0 to 89688\n",
      "Data columns (total 12 columns):\n",
      " #   Column          Non-Null Count  Dtype  \n",
      "---  ------          --------------  -----  \n",
      " 0   overall         89689 non-null  float64\n",
      " 1   vote            24103 non-null  object \n",
      " 2   verified        89689 non-null  bool   \n",
      " 3   reviewTime      89689 non-null  object \n",
      " 4   reviewerID      89689 non-null  object \n",
      " 5   asin            89689 non-null  object \n",
      " 6   reviewerName    89687 non-null  object \n",
      " 7   reviewText      89656 non-null  object \n",
      " 8   summary         89670 non-null  object \n",
      " 9   unixReviewTime  89689 non-null  int64  \n",
      " 10  style           51398 non-null  object \n",
      " 11  image           135 non-null    object \n",
      "dtypes: bool(1), float64(1), int64(1), object(9)\n",
      "memory usage: 7.6+ MB\n"
     ]
    }
   ],
   "source": [
    "review_df.info()"
   ]
  },
  {
   "cell_type": "code",
   "execution_count": 8,
   "id": "70f04284",
   "metadata": {},
   "outputs": [
    {
     "name": "stdout",
     "output_type": "stream",
     "text": [
      "<class 'pandas.core.frame.DataFrame'>\n",
      "RangeIndex: 3385 entries, 0 to 3384\n",
      "Data columns (total 19 columns):\n",
      " #   Column           Non-Null Count  Dtype \n",
      "---  ------           --------------  ----- \n",
      " 0   category         3385 non-null   object\n",
      " 1   tech1            3385 non-null   object\n",
      " 2   description      3385 non-null   object\n",
      " 3   fit              3385 non-null   object\n",
      " 4   title            3385 non-null   object\n",
      " 5   also_buy         3385 non-null   object\n",
      " 6   tech2            3385 non-null   object\n",
      " 7   brand            3385 non-null   object\n",
      " 8   feature          3385 non-null   object\n",
      " 9   rank             3385 non-null   object\n",
      " 10  also_view        3385 non-null   object\n",
      " 11  details          3385 non-null   object\n",
      " 12  main_cat         3385 non-null   object\n",
      " 13  similar_item     3385 non-null   object\n",
      " 14  date             3385 non-null   object\n",
      " 15  price            3385 non-null   object\n",
      " 16  asin             3385 non-null   object\n",
      " 17  imageURL         3385 non-null   object\n",
      " 18  imageURLHighRes  3385 non-null   object\n",
      "dtypes: object(19)\n",
      "memory usage: 502.6+ KB\n"
     ]
    }
   ],
   "source": [
    "meta_df.info()"
   ]
  },
  {
   "cell_type": "code",
   "execution_count": 9,
   "id": "77e02091",
   "metadata": {},
   "outputs": [
    {
     "data": {
      "text/html": [
       "<div>\n",
       "<style scoped>\n",
       "    .dataframe tbody tr th:only-of-type {\n",
       "        vertical-align: middle;\n",
       "    }\n",
       "\n",
       "    .dataframe tbody tr th {\n",
       "        vertical-align: top;\n",
       "    }\n",
       "\n",
       "    .dataframe thead th {\n",
       "        text-align: right;\n",
       "    }\n",
       "</style>\n",
       "<table border=\"1\" class=\"dataframe\">\n",
       "  <thead>\n",
       "    <tr style=\"text-align: right;\">\n",
       "      <th></th>\n",
       "      <th>overall</th>\n",
       "      <th>vote</th>\n",
       "      <th>verified</th>\n",
       "      <th>reviewTime</th>\n",
       "      <th>reviewerID</th>\n",
       "      <th>asin</th>\n",
       "      <th>reviewerName</th>\n",
       "      <th>reviewText</th>\n",
       "      <th>summary</th>\n",
       "      <th>unixReviewTime</th>\n",
       "      <th>style</th>\n",
       "      <th>image</th>\n",
       "    </tr>\n",
       "  </thead>\n",
       "  <tbody>\n",
       "    <tr>\n",
       "      <th>0</th>\n",
       "      <td>5.0</td>\n",
       "      <td>9</td>\n",
       "      <td>False</td>\n",
       "      <td>11 8, 2001</td>\n",
       "      <td>AH2IFH762VY5U</td>\n",
       "      <td>B00005N7P0</td>\n",
       "      <td>ted sedlmayr</td>\n",
       "      <td>for computer enthusiast, MaxPC is a welcome si...</td>\n",
       "      <td>AVID READER SINCE \"boot\"  WAS THE NAME</td>\n",
       "      <td>1005177600</td>\n",
       "      <td>NaN</td>\n",
       "      <td>NaN</td>\n",
       "    </tr>\n",
       "    <tr>\n",
       "      <th>1</th>\n",
       "      <td>5.0</td>\n",
       "      <td>9</td>\n",
       "      <td>False</td>\n",
       "      <td>10 31, 2001</td>\n",
       "      <td>AOSFI0JEYU4XM</td>\n",
       "      <td>B00005N7P0</td>\n",
       "      <td>Amazon Customer</td>\n",
       "      <td>Thank god this is not a Ziff Davis publication...</td>\n",
       "      <td>The straight scoop</td>\n",
       "      <td>1004486400</td>\n",
       "      <td>NaN</td>\n",
       "      <td>NaN</td>\n",
       "    </tr>\n",
       "    <tr>\n",
       "      <th>2</th>\n",
       "      <td>3.0</td>\n",
       "      <td>14</td>\n",
       "      <td>False</td>\n",
       "      <td>03 24, 2007</td>\n",
       "      <td>A3JPFWKS83R49V</td>\n",
       "      <td>B00005N7OJ</td>\n",
       "      <td>Bryan Carey</td>\n",
       "      <td>Antiques Magazine is a publication made for an...</td>\n",
       "      <td>Antiques Magazine is Good, but not for Everyone</td>\n",
       "      <td>1174694400</td>\n",
       "      <td>{'Format:': ' Print Magazine'}</td>\n",
       "      <td>NaN</td>\n",
       "    </tr>\n",
       "    <tr>\n",
       "      <th>3</th>\n",
       "      <td>5.0</td>\n",
       "      <td>13</td>\n",
       "      <td>False</td>\n",
       "      <td>11 10, 2006</td>\n",
       "      <td>A19FKU6JZQ2ECJ</td>\n",
       "      <td>B00005N7OJ</td>\n",
       "      <td>Patricia L. Porada</td>\n",
       "      <td>This beautiful magazine is in itself a work of...</td>\n",
       "      <td>THE  DISCERNING READER</td>\n",
       "      <td>1163116800</td>\n",
       "      <td>{'Format:': ' Print Magazine'}</td>\n",
       "      <td>NaN</td>\n",
       "    </tr>\n",
       "    <tr>\n",
       "      <th>4</th>\n",
       "      <td>5.0</td>\n",
       "      <td>NaN</td>\n",
       "      <td>True</td>\n",
       "      <td>07 14, 2014</td>\n",
       "      <td>A25MDGOMZ2GALN</td>\n",
       "      <td>B00005N7P0</td>\n",
       "      <td>Alvey</td>\n",
       "      <td>A great read every issue.</td>\n",
       "      <td>Five Stars</td>\n",
       "      <td>1405296000</td>\n",
       "      <td>NaN</td>\n",
       "      <td>NaN</td>\n",
       "    </tr>\n",
       "  </tbody>\n",
       "</table>\n",
       "</div>"
      ],
      "text/plain": [
       "   overall vote  verified   reviewTime      reviewerID        asin  \\\n",
       "0      5.0    9     False   11 8, 2001   AH2IFH762VY5U  B00005N7P0   \n",
       "1      5.0    9     False  10 31, 2001   AOSFI0JEYU4XM  B00005N7P0   \n",
       "2      3.0   14     False  03 24, 2007  A3JPFWKS83R49V  B00005N7OJ   \n",
       "3      5.0   13     False  11 10, 2006  A19FKU6JZQ2ECJ  B00005N7OJ   \n",
       "4      5.0  NaN      True  07 14, 2014  A25MDGOMZ2GALN  B00005N7P0   \n",
       "\n",
       "         reviewerName                                         reviewText  \\\n",
       "0        ted sedlmayr  for computer enthusiast, MaxPC is a welcome si...   \n",
       "1     Amazon Customer  Thank god this is not a Ziff Davis publication...   \n",
       "2         Bryan Carey  Antiques Magazine is a publication made for an...   \n",
       "3  Patricia L. Porada  This beautiful magazine is in itself a work of...   \n",
       "4               Alvey                          A great read every issue.   \n",
       "\n",
       "                                           summary  unixReviewTime  \\\n",
       "0           AVID READER SINCE \"boot\"  WAS THE NAME      1005177600   \n",
       "1                               The straight scoop      1004486400   \n",
       "2  Antiques Magazine is Good, but not for Everyone      1174694400   \n",
       "3                           THE  DISCERNING READER      1163116800   \n",
       "4                                       Five Stars      1405296000   \n",
       "\n",
       "                            style image  \n",
       "0                             NaN   NaN  \n",
       "1                             NaN   NaN  \n",
       "2  {'Format:': ' Print Magazine'}   NaN  \n",
       "3  {'Format:': ' Print Magazine'}   NaN  \n",
       "4                             NaN   NaN  "
      ]
     },
     "execution_count": 9,
     "metadata": {},
     "output_type": "execute_result"
    }
   ],
   "source": [
    "review_df.head()"
   ]
  },
  {
   "cell_type": "code",
   "execution_count": 10,
   "id": "640b988c",
   "metadata": {},
   "outputs": [
    {
     "data": {
      "text/html": [
       "<div>\n",
       "<style scoped>\n",
       "    .dataframe tbody tr th:only-of-type {\n",
       "        vertical-align: middle;\n",
       "    }\n",
       "\n",
       "    .dataframe tbody tr th {\n",
       "        vertical-align: top;\n",
       "    }\n",
       "\n",
       "    .dataframe thead th {\n",
       "        text-align: right;\n",
       "    }\n",
       "</style>\n",
       "<table border=\"1\" class=\"dataframe\">\n",
       "  <thead>\n",
       "    <tr style=\"text-align: right;\">\n",
       "      <th></th>\n",
       "      <th>category</th>\n",
       "      <th>tech1</th>\n",
       "      <th>description</th>\n",
       "      <th>fit</th>\n",
       "      <th>title</th>\n",
       "      <th>also_buy</th>\n",
       "      <th>tech2</th>\n",
       "      <th>brand</th>\n",
       "      <th>feature</th>\n",
       "      <th>rank</th>\n",
       "      <th>also_view</th>\n",
       "      <th>details</th>\n",
       "      <th>main_cat</th>\n",
       "      <th>similar_item</th>\n",
       "      <th>date</th>\n",
       "      <th>price</th>\n",
       "      <th>asin</th>\n",
       "      <th>imageURL</th>\n",
       "      <th>imageURLHighRes</th>\n",
       "    </tr>\n",
       "  </thead>\n",
       "  <tbody>\n",
       "    <tr>\n",
       "      <th>0</th>\n",
       "      <td>[Magazine Subscriptions, Professional &amp; Educat...</td>\n",
       "      <td></td>\n",
       "      <td>[REASON is edited for people interested in eco...</td>\n",
       "      <td></td>\n",
       "      <td>&lt;span class=\"a-size-medium a-color-secondary\"</td>\n",
       "      <td>[B002PXVYLE, B01MCU84LB, B000UHI2LW, B01AKS14A...</td>\n",
       "      <td></td>\n",
       "      <td>Reason Magazine</td>\n",
       "      <td>[]</td>\n",
       "      <td>[]</td>\n",
       "      <td>[B002PXVYLE, B000UHI2LW, B01MCU84LB, B002PXW18...</td>\n",
       "      <td>{'Format:': 'Print Magazine', 'Shipping: ': 'C...</td>\n",
       "      <td>Magazine Subscriptions</td>\n",
       "      <td></td>\n",
       "      <td></td>\n",
       "      <td></td>\n",
       "      <td>B00005N7NQ</td>\n",
       "      <td>[https://images-na.ssl-images-amazon.com/image...</td>\n",
       "      <td>[https://images-na.ssl-images-amazon.com/image...</td>\n",
       "    </tr>\n",
       "    <tr>\n",
       "      <th>1</th>\n",
       "      <td>[Magazine Subscriptions, Arts, Music &amp;amp; Pho...</td>\n",
       "      <td></td>\n",
       "      <td>[Written by and for musicians. Covers a variet...</td>\n",
       "      <td></td>\n",
       "      <td>&lt;span class=\"a-size-medium a-color-secondary\"</td>\n",
       "      <td>[B002PXVYGE, B0054LRNC8, B000BVEELE, B00006KC3...</td>\n",
       "      <td></td>\n",
       "      <td>String Letter Publishers</td>\n",
       "      <td>[]</td>\n",
       "      <td>742 in Magazine Subscriptions (</td>\n",
       "      <td>[B002PXVYGE, B0054LRNC8, B00006L16A, 171906487...</td>\n",
       "      <td>{'Format:': 'Print Magazine', 'Shipping: ': 'C...</td>\n",
       "      <td>Magazine Subscriptions</td>\n",
       "      <td></td>\n",
       "      <td></td>\n",
       "      <td></td>\n",
       "      <td>B00005N7OC</td>\n",
       "      <td>[https://images-na.ssl-images-amazon.com/image...</td>\n",
       "      <td>[https://images-na.ssl-images-amazon.com/image...</td>\n",
       "    </tr>\n",
       "    <tr>\n",
       "      <th>2</th>\n",
       "      <td>[Magazine Subscriptions, Fashion &amp;amp; Style, ...</td>\n",
       "      <td></td>\n",
       "      <td>[Allure is the beauty expert. Every issue is f...</td>\n",
       "      <td></td>\n",
       "      <td>&lt;span class=\"a-size-medium a-color-secondary\"</td>\n",
       "      <td>[B001THPA4O, B002PXVZWW, B001THPA1M, B001THPA1...</td>\n",
       "      <td></td>\n",
       "      <td>Conde Nast Publications</td>\n",
       "      <td>[]</td>\n",
       "      <td>[]</td>\n",
       "      <td>[B002PXVZWW, B001THPA4O, B001THPA1M, B01N819UD...</td>\n",
       "      <td>{'Format:': 'Print Magazine', 'Shipping: ': 'C...</td>\n",
       "      <td>Magazine Subscriptions</td>\n",
       "      <td></td>\n",
       "      <td></td>\n",
       "      <td></td>\n",
       "      <td>B00005N7OD</td>\n",
       "      <td>[https://images-na.ssl-images-amazon.com/image...</td>\n",
       "      <td>[https://images-na.ssl-images-amazon.com/image...</td>\n",
       "    </tr>\n",
       "    <tr>\n",
       "      <th>3</th>\n",
       "      <td>[Magazine Subscriptions, Sports, Recreation &amp; ...</td>\n",
       "      <td></td>\n",
       "      <td>[FLIGHT JOURNAL includes articles on aviation ...</td>\n",
       "      <td></td>\n",
       "      <td>&lt;span class=\"a-size-medium a-color-secondary\"</td>\n",
       "      <td>[B07JVF7QW4, B00ATQ6FPY, B002G551F6, B00008CGW...</td>\n",
       "      <td></td>\n",
       "      <td>AirAge Publishing</td>\n",
       "      <td>[]</td>\n",
       "      <td>[]</td>\n",
       "      <td>[B002G551F6, B00ATQ6FPY, B00005N7PT, B001THPA2...</td>\n",
       "      <td>{'Format:': 'Print Magazine', 'Shipping: ': 'C...</td>\n",
       "      <td>Magazine Subscriptions</td>\n",
       "      <td></td>\n",
       "      <td></td>\n",
       "      <td></td>\n",
       "      <td>B00005N7O9</td>\n",
       "      <td>[https://images-na.ssl-images-amazon.com/image...</td>\n",
       "      <td>[https://images-na.ssl-images-amazon.com/image...</td>\n",
       "    </tr>\n",
       "    <tr>\n",
       "      <th>4</th>\n",
       "      <td>[Magazine Subscriptions, Professional &amp; Educat...</td>\n",
       "      <td></td>\n",
       "      <td>[RIDER is published for the road and street ri...</td>\n",
       "      <td></td>\n",
       "      <td>&lt;span class=\"a-size-medium a-color-secondary\"</td>\n",
       "      <td>[B002PXVYD2, B01BM7TOU6, B000060MKJ, B000BNNIG...</td>\n",
       "      <td></td>\n",
       "      <td>EPG Media &amp; Specialty Information</td>\n",
       "      <td>[]</td>\n",
       "      <td>[]</td>\n",
       "      <td>[B01BM7TOU6, B000060MKJ, B002PXVYD2, B000BNNIG...</td>\n",
       "      <td>{'Format:': 'Print Magazine', 'Shipping: ': 'C...</td>\n",
       "      <td>Magazine Subscriptions</td>\n",
       "      <td></td>\n",
       "      <td></td>\n",
       "      <td></td>\n",
       "      <td>B00005N7O6</td>\n",
       "      <td>[https://images-na.ssl-images-amazon.com/image...</td>\n",
       "      <td>[https://images-na.ssl-images-amazon.com/image...</td>\n",
       "    </tr>\n",
       "    <tr>\n",
       "      <th>...</th>\n",
       "      <td>...</td>\n",
       "      <td>...</td>\n",
       "      <td>...</td>\n",
       "      <td>...</td>\n",
       "      <td>...</td>\n",
       "      <td>...</td>\n",
       "      <td>...</td>\n",
       "      <td>...</td>\n",
       "      <td>...</td>\n",
       "      <td>...</td>\n",
       "      <td>...</td>\n",
       "      <td>...</td>\n",
       "      <td>...</td>\n",
       "      <td>...</td>\n",
       "      <td>...</td>\n",
       "      <td>...</td>\n",
       "      <td>...</td>\n",
       "      <td>...</td>\n",
       "      <td>...</td>\n",
       "    </tr>\n",
       "    <tr>\n",
       "      <th>3380</th>\n",
       "      <td>[]</td>\n",
       "      <td></td>\n",
       "      <td>[The game's most widely read publication, GOLF...</td>\n",
       "      <td></td>\n",
       "      <td>&lt;span class=\"a-size-medium a-color-secondary\"</td>\n",
       "      <td>[]</td>\n",
       "      <td></td>\n",
       "      <td>TI Golf Holdings</td>\n",
       "      <td>[]</td>\n",
       "      <td>[]</td>\n",
       "      <td>[]</td>\n",
       "      <td>{'Format:': 'Print Magazine', 'Shipping: ': 'C...</td>\n",
       "      <td>Magazine Subscriptions</td>\n",
       "      <td></td>\n",
       "      <td></td>\n",
       "      <td></td>\n",
       "      <td>B01HI8V19K</td>\n",
       "      <td>[]</td>\n",
       "      <td>[]</td>\n",
       "    </tr>\n",
       "    <tr>\n",
       "      <th>3381</th>\n",
       "      <td>[Magazine Subscriptions, Sports, Recreation &amp; ...</td>\n",
       "      <td></td>\n",
       "      <td>[Built for the true classic car enthusiast, ea...</td>\n",
       "      <td></td>\n",
       "      <td>&lt;span class=\"a-size-medium a-color-secondary\"</td>\n",
       "      <td>[B002PXVYO6, B01FIR6AJ4, B00006KGT1, B01DPP7H5...</td>\n",
       "      <td></td>\n",
       "      <td>Motorsport Marketing, Inc.</td>\n",
       "      <td>[]</td>\n",
       "      <td>[]</td>\n",
       "      <td>[B01FV4YCNA, B00006KGT1, B002PXVYO6, B0047VIAI...</td>\n",
       "      <td>{'Format:': 'Print Magazine', 'Shipping: ': 'C...</td>\n",
       "      <td>Magazine Subscriptions</td>\n",
       "      <td></td>\n",
       "      <td></td>\n",
       "      <td></td>\n",
       "      <td>B01HI8V1I6</td>\n",
       "      <td>[https://images-na.ssl-images-amazon.com/image...</td>\n",
       "      <td>[https://images-na.ssl-images-amazon.com/image...</td>\n",
       "    </tr>\n",
       "    <tr>\n",
       "      <th>3382</th>\n",
       "      <td>[Magazine Subscriptions, Fashion &amp; Style]</td>\n",
       "      <td></td>\n",
       "      <td>[InStyle celebrates the private side of public...</td>\n",
       "      <td></td>\n",
       "      <td>&lt;span class=\"a-size-medium a-color-secondary\"</td>\n",
       "      <td>[]</td>\n",
       "      <td></td>\n",
       "      <td>Meredith Corporation</td>\n",
       "      <td>[]</td>\n",
       "      <td>[]</td>\n",
       "      <td>[]</td>\n",
       "      <td>{'Format:': 'Print Magazine', 'Shipping: ': 'C...</td>\n",
       "      <td>Magazine Subscriptions</td>\n",
       "      <td></td>\n",
       "      <td></td>\n",
       "      <td></td>\n",
       "      <td>B01HI8V0ZK</td>\n",
       "      <td>[]</td>\n",
       "      <td>[]</td>\n",
       "    </tr>\n",
       "    <tr>\n",
       "      <th>3383</th>\n",
       "      <td>[]</td>\n",
       "      <td></td>\n",
       "      <td>[Sports Illustrated brings you spectacular act...</td>\n",
       "      <td></td>\n",
       "      <td>&lt;span class=\"a-size-medium a-color-secondary\"</td>\n",
       "      <td>[]</td>\n",
       "      <td></td>\n",
       "      <td>Meredith Corporation</td>\n",
       "      <td>[]</td>\n",
       "      <td>[]</td>\n",
       "      <td>[]</td>\n",
       "      <td>{'Format:': 'Print Magazine', 'Shipping: ': 'C...</td>\n",
       "      <td>Magazine Subscriptions</td>\n",
       "      <td></td>\n",
       "      <td></td>\n",
       "      <td></td>\n",
       "      <td>B01HI8V1C2</td>\n",
       "      <td>[]</td>\n",
       "      <td>[]</td>\n",
       "    </tr>\n",
       "    <tr>\n",
       "      <th>3384</th>\n",
       "      <td>[]</td>\n",
       "      <td></td>\n",
       "      <td>[Get fresh ideas and inspiration on how to mak...</td>\n",
       "      <td></td>\n",
       "      <td>&lt;span class=\"a-size-medium a-color-secondary\"</td>\n",
       "      <td>[]</td>\n",
       "      <td></td>\n",
       "      <td>Meredith Corporation</td>\n",
       "      <td>[]</td>\n",
       "      <td>[]</td>\n",
       "      <td>[]</td>\n",
       "      <td>{'Format:': 'Print Magazine', 'Shipping: ': 'C...</td>\n",
       "      <td>Magazine Subscriptions</td>\n",
       "      <td></td>\n",
       "      <td></td>\n",
       "      <td></td>\n",
       "      <td>B01HI8V1MC</td>\n",
       "      <td>[]</td>\n",
       "      <td>[]</td>\n",
       "    </tr>\n",
       "  </tbody>\n",
       "</table>\n",
       "<p>3385 rows × 19 columns</p>\n",
       "</div>"
      ],
      "text/plain": [
       "                                               category tech1  \\\n",
       "0     [Magazine Subscriptions, Professional & Educat...         \n",
       "1     [Magazine Subscriptions, Arts, Music &amp; Pho...         \n",
       "2     [Magazine Subscriptions, Fashion &amp; Style, ...         \n",
       "3     [Magazine Subscriptions, Sports, Recreation & ...         \n",
       "4     [Magazine Subscriptions, Professional & Educat...         \n",
       "...                                                 ...   ...   \n",
       "3380                                                 []         \n",
       "3381  [Magazine Subscriptions, Sports, Recreation & ...         \n",
       "3382          [Magazine Subscriptions, Fashion & Style]         \n",
       "3383                                                 []         \n",
       "3384                                                 []         \n",
       "\n",
       "                                            description fit  \\\n",
       "0     [REASON is edited for people interested in eco...       \n",
       "1     [Written by and for musicians. Covers a variet...       \n",
       "2     [Allure is the beauty expert. Every issue is f...       \n",
       "3     [FLIGHT JOURNAL includes articles on aviation ...       \n",
       "4     [RIDER is published for the road and street ri...       \n",
       "...                                                 ...  ..   \n",
       "3380  [The game's most widely read publication, GOLF...       \n",
       "3381  [Built for the true classic car enthusiast, ea...       \n",
       "3382  [InStyle celebrates the private side of public...       \n",
       "3383  [Sports Illustrated brings you spectacular act...       \n",
       "3384  [Get fresh ideas and inspiration on how to mak...       \n",
       "\n",
       "                                              title  \\\n",
       "0     <span class=\"a-size-medium a-color-secondary\"   \n",
       "1     <span class=\"a-size-medium a-color-secondary\"   \n",
       "2     <span class=\"a-size-medium a-color-secondary\"   \n",
       "3     <span class=\"a-size-medium a-color-secondary\"   \n",
       "4     <span class=\"a-size-medium a-color-secondary\"   \n",
       "...                                             ...   \n",
       "3380  <span class=\"a-size-medium a-color-secondary\"   \n",
       "3381  <span class=\"a-size-medium a-color-secondary\"   \n",
       "3382  <span class=\"a-size-medium a-color-secondary\"   \n",
       "3383  <span class=\"a-size-medium a-color-secondary\"   \n",
       "3384  <span class=\"a-size-medium a-color-secondary\"   \n",
       "\n",
       "                                               also_buy tech2  \\\n",
       "0     [B002PXVYLE, B01MCU84LB, B000UHI2LW, B01AKS14A...         \n",
       "1     [B002PXVYGE, B0054LRNC8, B000BVEELE, B00006KC3...         \n",
       "2     [B001THPA4O, B002PXVZWW, B001THPA1M, B001THPA1...         \n",
       "3     [B07JVF7QW4, B00ATQ6FPY, B002G551F6, B00008CGW...         \n",
       "4     [B002PXVYD2, B01BM7TOU6, B000060MKJ, B000BNNIG...         \n",
       "...                                                 ...   ...   \n",
       "3380                                                 []         \n",
       "3381  [B002PXVYO6, B01FIR6AJ4, B00006KGT1, B01DPP7H5...         \n",
       "3382                                                 []         \n",
       "3383                                                 []         \n",
       "3384                                                 []         \n",
       "\n",
       "                                  brand feature  \\\n",
       "0                       Reason Magazine      []   \n",
       "1              String Letter Publishers      []   \n",
       "2               Conde Nast Publications      []   \n",
       "3                     AirAge Publishing      []   \n",
       "4     EPG Media & Specialty Information      []   \n",
       "...                                 ...     ...   \n",
       "3380                   TI Golf Holdings      []   \n",
       "3381         Motorsport Marketing, Inc.      []   \n",
       "3382               Meredith Corporation      []   \n",
       "3383               Meredith Corporation      []   \n",
       "3384               Meredith Corporation      []   \n",
       "\n",
       "                                 rank  \\\n",
       "0                                  []   \n",
       "1     742 in Magazine Subscriptions (   \n",
       "2                                  []   \n",
       "3                                  []   \n",
       "4                                  []   \n",
       "...                               ...   \n",
       "3380                               []   \n",
       "3381                               []   \n",
       "3382                               []   \n",
       "3383                               []   \n",
       "3384                               []   \n",
       "\n",
       "                                              also_view  \\\n",
       "0     [B002PXVYLE, B000UHI2LW, B01MCU84LB, B002PXW18...   \n",
       "1     [B002PXVYGE, B0054LRNC8, B00006L16A, 171906487...   \n",
       "2     [B002PXVZWW, B001THPA4O, B001THPA1M, B01N819UD...   \n",
       "3     [B002G551F6, B00ATQ6FPY, B00005N7PT, B001THPA2...   \n",
       "4     [B01BM7TOU6, B000060MKJ, B002PXVYD2, B000BNNIG...   \n",
       "...                                                 ...   \n",
       "3380                                                 []   \n",
       "3381  [B01FV4YCNA, B00006KGT1, B002PXVYO6, B0047VIAI...   \n",
       "3382                                                 []   \n",
       "3383                                                 []   \n",
       "3384                                                 []   \n",
       "\n",
       "                                                details  \\\n",
       "0     {'Format:': 'Print Magazine', 'Shipping: ': 'C...   \n",
       "1     {'Format:': 'Print Magazine', 'Shipping: ': 'C...   \n",
       "2     {'Format:': 'Print Magazine', 'Shipping: ': 'C...   \n",
       "3     {'Format:': 'Print Magazine', 'Shipping: ': 'C...   \n",
       "4     {'Format:': 'Print Magazine', 'Shipping: ': 'C...   \n",
       "...                                                 ...   \n",
       "3380  {'Format:': 'Print Magazine', 'Shipping: ': 'C...   \n",
       "3381  {'Format:': 'Print Magazine', 'Shipping: ': 'C...   \n",
       "3382  {'Format:': 'Print Magazine', 'Shipping: ': 'C...   \n",
       "3383  {'Format:': 'Print Magazine', 'Shipping: ': 'C...   \n",
       "3384  {'Format:': 'Print Magazine', 'Shipping: ': 'C...   \n",
       "\n",
       "                    main_cat similar_item date price        asin  \\\n",
       "0     Magazine Subscriptions                          B00005N7NQ   \n",
       "1     Magazine Subscriptions                          B00005N7OC   \n",
       "2     Magazine Subscriptions                          B00005N7OD   \n",
       "3     Magazine Subscriptions                          B00005N7O9   \n",
       "4     Magazine Subscriptions                          B00005N7O6   \n",
       "...                      ...          ...  ...   ...         ...   \n",
       "3380  Magazine Subscriptions                          B01HI8V19K   \n",
       "3381  Magazine Subscriptions                          B01HI8V1I6   \n",
       "3382  Magazine Subscriptions                          B01HI8V0ZK   \n",
       "3383  Magazine Subscriptions                          B01HI8V1C2   \n",
       "3384  Magazine Subscriptions                          B01HI8V1MC   \n",
       "\n",
       "                                               imageURL  \\\n",
       "0     [https://images-na.ssl-images-amazon.com/image...   \n",
       "1     [https://images-na.ssl-images-amazon.com/image...   \n",
       "2     [https://images-na.ssl-images-amazon.com/image...   \n",
       "3     [https://images-na.ssl-images-amazon.com/image...   \n",
       "4     [https://images-na.ssl-images-amazon.com/image...   \n",
       "...                                                 ...   \n",
       "3380                                                 []   \n",
       "3381  [https://images-na.ssl-images-amazon.com/image...   \n",
       "3382                                                 []   \n",
       "3383                                                 []   \n",
       "3384                                                 []   \n",
       "\n",
       "                                        imageURLHighRes  \n",
       "0     [https://images-na.ssl-images-amazon.com/image...  \n",
       "1     [https://images-na.ssl-images-amazon.com/image...  \n",
       "2     [https://images-na.ssl-images-amazon.com/image...  \n",
       "3     [https://images-na.ssl-images-amazon.com/image...  \n",
       "4     [https://images-na.ssl-images-amazon.com/image...  \n",
       "...                                                 ...  \n",
       "3380                                                 []  \n",
       "3381  [https://images-na.ssl-images-amazon.com/image...  \n",
       "3382                                                 []  \n",
       "3383                                                 []  \n",
       "3384                                                 []  \n",
       "\n",
       "[3385 rows x 19 columns]"
      ]
     },
     "execution_count": 10,
     "metadata": {},
     "output_type": "execute_result"
    }
   ],
   "source": [
    "meta_df"
   ]
  },
  {
   "cell_type": "markdown",
   "id": "4f6e863d",
   "metadata": {},
   "source": [
    "Check for NaN values in the dataframe"
   ]
  },
  {
   "cell_type": "code",
   "execution_count": 11,
   "id": "c57c3b0f",
   "metadata": {},
   "outputs": [
    {
     "data": {
      "text/plain": [
       "overall               0\n",
       "vote              65586\n",
       "verified              0\n",
       "reviewTime            0\n",
       "reviewerID            0\n",
       "asin                  0\n",
       "reviewerName          2\n",
       "reviewText           33\n",
       "summary              19\n",
       "unixReviewTime        0\n",
       "style             38291\n",
       "image             89554\n",
       "dtype: int64"
      ]
     },
     "execution_count": 11,
     "metadata": {},
     "output_type": "execute_result"
    }
   ],
   "source": [
    "review_df.isnull().sum()"
   ]
  },
  {
   "cell_type": "markdown",
   "id": "1c36aa1a",
   "metadata": {},
   "source": [
    "create a clean dataframe to store only numeric values."
   ]
  },
  {
   "cell_type": "code",
   "execution_count": 12,
   "id": "c7729ca0",
   "metadata": {},
   "outputs": [
    {
     "data": {
      "text/html": [
       "<div>\n",
       "<style scoped>\n",
       "    .dataframe tbody tr th:only-of-type {\n",
       "        vertical-align: middle;\n",
       "    }\n",
       "\n",
       "    .dataframe tbody tr th {\n",
       "        vertical-align: top;\n",
       "    }\n",
       "\n",
       "    .dataframe thead th {\n",
       "        text-align: right;\n",
       "    }\n",
       "</style>\n",
       "<table border=\"1\" class=\"dataframe\">\n",
       "  <thead>\n",
       "    <tr style=\"text-align: right;\">\n",
       "      <th></th>\n",
       "      <th>overall</th>\n",
       "      <th>unixReviewTime</th>\n",
       "    </tr>\n",
       "  </thead>\n",
       "  <tbody>\n",
       "    <tr>\n",
       "      <th>0</th>\n",
       "      <td>5.0</td>\n",
       "      <td>1005177600</td>\n",
       "    </tr>\n",
       "    <tr>\n",
       "      <th>1</th>\n",
       "      <td>5.0</td>\n",
       "      <td>1004486400</td>\n",
       "    </tr>\n",
       "    <tr>\n",
       "      <th>2</th>\n",
       "      <td>3.0</td>\n",
       "      <td>1174694400</td>\n",
       "    </tr>\n",
       "    <tr>\n",
       "      <th>3</th>\n",
       "      <td>5.0</td>\n",
       "      <td>1163116800</td>\n",
       "    </tr>\n",
       "    <tr>\n",
       "      <th>4</th>\n",
       "      <td>5.0</td>\n",
       "      <td>1405296000</td>\n",
       "    </tr>\n",
       "  </tbody>\n",
       "</table>\n",
       "</div>"
      ],
      "text/plain": [
       "   overall  unixReviewTime\n",
       "0      5.0      1005177600\n",
       "1      5.0      1004486400\n",
       "2      3.0      1174694400\n",
       "3      5.0      1163116800\n",
       "4      5.0      1405296000"
      ]
     },
     "execution_count": 12,
     "metadata": {},
     "output_type": "execute_result"
    }
   ],
   "source": [
    "clean_df = review_df[['overall','unixReviewTime']].copy()\n",
    "\n",
    "# Check the created dataframe\n",
    "clean_df.head()"
   ]
  },
  {
   "cell_type": "markdown",
   "id": "e0b95a37",
   "metadata": {},
   "source": [
    "There are 65586 NaN values in vote, change all NaN values to 0 and add to the clean_df"
   ]
  },
  {
   "cell_type": "code",
   "execution_count": 13,
   "id": "9a71a0b1",
   "metadata": {},
   "outputs": [],
   "source": [
    "clean_df['vote'] = review_df['vote'].replace(',','',regex=True)\n",
    "\n",
    "clean_df['vote'] = clean_df['vote'].fillna(0).astype('int')\n",
    "\n",
    "#"
   ]
  },
  {
   "cell_type": "code",
   "execution_count": 14,
   "id": "4ccf9f31",
   "metadata": {},
   "outputs": [
    {
     "name": "stdout",
     "output_type": "stream",
     "text": [
      "<class 'pandas.core.frame.DataFrame'>\n",
      "RangeIndex: 89689 entries, 0 to 89688\n",
      "Data columns (total 3 columns):\n",
      " #   Column          Non-Null Count  Dtype  \n",
      "---  ------          --------------  -----  \n",
      " 0   overall         89689 non-null  float64\n",
      " 1   unixReviewTime  89689 non-null  int64  \n",
      " 2   vote            89689 non-null  int64  \n",
      "dtypes: float64(1), int64(2)\n",
      "memory usage: 2.1 MB\n"
     ]
    }
   ],
   "source": [
    "clean_df.info()"
   ]
  },
  {
   "cell_type": "markdown",
   "id": "28144de7",
   "metadata": {},
   "source": [
    "Check values in the clean_df"
   ]
  },
  {
   "cell_type": "code",
   "execution_count": 15,
   "id": "6f639106",
   "metadata": {
    "scrolled": true
   },
   "outputs": [
    {
     "name": "stdout",
     "output_type": "stream",
     "text": [
      "overall           0\n",
      "unixReviewTime    0\n",
      "vote              0\n",
      "dtype: int64\n"
     ]
    },
    {
     "data": {
      "text/html": [
       "<div>\n",
       "<style scoped>\n",
       "    .dataframe tbody tr th:only-of-type {\n",
       "        vertical-align: middle;\n",
       "    }\n",
       "\n",
       "    .dataframe tbody tr th {\n",
       "        vertical-align: top;\n",
       "    }\n",
       "\n",
       "    .dataframe thead th {\n",
       "        text-align: right;\n",
       "    }\n",
       "</style>\n",
       "<table border=\"1\" class=\"dataframe\">\n",
       "  <thead>\n",
       "    <tr style=\"text-align: right;\">\n",
       "      <th></th>\n",
       "      <th>overall</th>\n",
       "      <th>unixReviewTime</th>\n",
       "      <th>vote</th>\n",
       "    </tr>\n",
       "  </thead>\n",
       "  <tbody>\n",
       "    <tr>\n",
       "      <th>0</th>\n",
       "      <td>5.0</td>\n",
       "      <td>1005177600</td>\n",
       "      <td>9</td>\n",
       "    </tr>\n",
       "    <tr>\n",
       "      <th>1</th>\n",
       "      <td>5.0</td>\n",
       "      <td>1004486400</td>\n",
       "      <td>9</td>\n",
       "    </tr>\n",
       "    <tr>\n",
       "      <th>2</th>\n",
       "      <td>3.0</td>\n",
       "      <td>1174694400</td>\n",
       "      <td>14</td>\n",
       "    </tr>\n",
       "    <tr>\n",
       "      <th>3</th>\n",
       "      <td>5.0</td>\n",
       "      <td>1163116800</td>\n",
       "      <td>13</td>\n",
       "    </tr>\n",
       "    <tr>\n",
       "      <th>4</th>\n",
       "      <td>5.0</td>\n",
       "      <td>1405296000</td>\n",
       "      <td>0</td>\n",
       "    </tr>\n",
       "    <tr>\n",
       "      <th>...</th>\n",
       "      <td>...</td>\n",
       "      <td>...</td>\n",
       "      <td>...</td>\n",
       "    </tr>\n",
       "    <tr>\n",
       "      <th>89684</th>\n",
       "      <td>5.0</td>\n",
       "      <td>1471305600</td>\n",
       "      <td>0</td>\n",
       "    </tr>\n",
       "    <tr>\n",
       "      <th>89685</th>\n",
       "      <td>1.0</td>\n",
       "      <td>1470787200</td>\n",
       "      <td>0</td>\n",
       "    </tr>\n",
       "    <tr>\n",
       "      <th>89686</th>\n",
       "      <td>5.0</td>\n",
       "      <td>1469923200</td>\n",
       "      <td>0</td>\n",
       "    </tr>\n",
       "    <tr>\n",
       "      <th>89687</th>\n",
       "      <td>5.0</td>\n",
       "      <td>1507161600</td>\n",
       "      <td>0</td>\n",
       "    </tr>\n",
       "    <tr>\n",
       "      <th>89688</th>\n",
       "      <td>5.0</td>\n",
       "      <td>1493337600</td>\n",
       "      <td>0</td>\n",
       "    </tr>\n",
       "  </tbody>\n",
       "</table>\n",
       "<p>89689 rows × 3 columns</p>\n",
       "</div>"
      ],
      "text/plain": [
       "       overall  unixReviewTime  vote\n",
       "0          5.0      1005177600     9\n",
       "1          5.0      1004486400     9\n",
       "2          3.0      1174694400    14\n",
       "3          5.0      1163116800    13\n",
       "4          5.0      1405296000     0\n",
       "...        ...             ...   ...\n",
       "89684      5.0      1471305600     0\n",
       "89685      1.0      1470787200     0\n",
       "89686      5.0      1469923200     0\n",
       "89687      5.0      1507161600     0\n",
       "89688      5.0      1493337600     0\n",
       "\n",
       "[89689 rows x 3 columns]"
      ]
     },
     "execution_count": 15,
     "metadata": {},
     "output_type": "execute_result"
    }
   ],
   "source": [
    "\n",
    "print(clean_df.isnull().sum())\n",
    "\n",
    "clean_df"
   ]
  },
  {
   "cell_type": "markdown",
   "id": "ae214c7f",
   "metadata": {},
   "source": [
    "**Check values in the verified column and convert to numeric**"
   ]
  },
  {
   "cell_type": "code",
   "execution_count": 16,
   "id": "fc5dcf3b",
   "metadata": {},
   "outputs": [
    {
     "data": {
      "text/plain": [
       "True     58654\n",
       "False    31035\n",
       "Name: verified, dtype: int64"
      ]
     },
     "execution_count": 16,
     "metadata": {},
     "output_type": "execute_result"
    }
   ],
   "source": [
    "review_df['verified'].value_counts()"
   ]
  },
  {
   "cell_type": "code",
   "execution_count": 17,
   "id": "876a0142",
   "metadata": {},
   "outputs": [
    {
     "data": {
      "text/html": [
       "<div>\n",
       "<style scoped>\n",
       "    .dataframe tbody tr th:only-of-type {\n",
       "        vertical-align: middle;\n",
       "    }\n",
       "\n",
       "    .dataframe tbody tr th {\n",
       "        vertical-align: top;\n",
       "    }\n",
       "\n",
       "    .dataframe thead th {\n",
       "        text-align: right;\n",
       "    }\n",
       "</style>\n",
       "<table border=\"1\" class=\"dataframe\">\n",
       "  <thead>\n",
       "    <tr style=\"text-align: right;\">\n",
       "      <th></th>\n",
       "      <th>overall</th>\n",
       "      <th>unixReviewTime</th>\n",
       "      <th>vote</th>\n",
       "      <th>verified</th>\n",
       "    </tr>\n",
       "  </thead>\n",
       "  <tbody>\n",
       "    <tr>\n",
       "      <th>0</th>\n",
       "      <td>5.0</td>\n",
       "      <td>1005177600</td>\n",
       "      <td>9</td>\n",
       "      <td>0</td>\n",
       "    </tr>\n",
       "    <tr>\n",
       "      <th>1</th>\n",
       "      <td>5.0</td>\n",
       "      <td>1004486400</td>\n",
       "      <td>9</td>\n",
       "      <td>0</td>\n",
       "    </tr>\n",
       "    <tr>\n",
       "      <th>2</th>\n",
       "      <td>3.0</td>\n",
       "      <td>1174694400</td>\n",
       "      <td>14</td>\n",
       "      <td>0</td>\n",
       "    </tr>\n",
       "    <tr>\n",
       "      <th>3</th>\n",
       "      <td>5.0</td>\n",
       "      <td>1163116800</td>\n",
       "      <td>13</td>\n",
       "      <td>0</td>\n",
       "    </tr>\n",
       "    <tr>\n",
       "      <th>4</th>\n",
       "      <td>5.0</td>\n",
       "      <td>1405296000</td>\n",
       "      <td>0</td>\n",
       "      <td>1</td>\n",
       "    </tr>\n",
       "    <tr>\n",
       "      <th>...</th>\n",
       "      <td>...</td>\n",
       "      <td>...</td>\n",
       "      <td>...</td>\n",
       "      <td>...</td>\n",
       "    </tr>\n",
       "    <tr>\n",
       "      <th>89684</th>\n",
       "      <td>5.0</td>\n",
       "      <td>1471305600</td>\n",
       "      <td>0</td>\n",
       "      <td>1</td>\n",
       "    </tr>\n",
       "    <tr>\n",
       "      <th>89685</th>\n",
       "      <td>1.0</td>\n",
       "      <td>1470787200</td>\n",
       "      <td>0</td>\n",
       "      <td>1</td>\n",
       "    </tr>\n",
       "    <tr>\n",
       "      <th>89686</th>\n",
       "      <td>5.0</td>\n",
       "      <td>1469923200</td>\n",
       "      <td>0</td>\n",
       "      <td>1</td>\n",
       "    </tr>\n",
       "    <tr>\n",
       "      <th>89687</th>\n",
       "      <td>5.0</td>\n",
       "      <td>1507161600</td>\n",
       "      <td>0</td>\n",
       "      <td>1</td>\n",
       "    </tr>\n",
       "    <tr>\n",
       "      <th>89688</th>\n",
       "      <td>5.0</td>\n",
       "      <td>1493337600</td>\n",
       "      <td>0</td>\n",
       "      <td>1</td>\n",
       "    </tr>\n",
       "  </tbody>\n",
       "</table>\n",
       "<p>89689 rows × 4 columns</p>\n",
       "</div>"
      ],
      "text/plain": [
       "       overall  unixReviewTime  vote  verified\n",
       "0          5.0      1005177600     9         0\n",
       "1          5.0      1004486400     9         0\n",
       "2          3.0      1174694400    14         0\n",
       "3          5.0      1163116800    13         0\n",
       "4          5.0      1405296000     0         1\n",
       "...        ...             ...   ...       ...\n",
       "89684      5.0      1471305600     0         1\n",
       "89685      1.0      1470787200     0         1\n",
       "89686      5.0      1469923200     0         1\n",
       "89687      5.0      1507161600     0         1\n",
       "89688      5.0      1493337600     0         1\n",
       "\n",
       "[89689 rows x 4 columns]"
      ]
     },
     "execution_count": 17,
     "metadata": {},
     "output_type": "execute_result"
    }
   ],
   "source": [
    "# Map true to 1 and false to 0\n",
    "clean_df['verified'] = review_df['verified'].map({True:1,False:0})\n",
    "\n",
    "# check the added column\n",
    "clean_df\n"
   ]
  },
  {
   "cell_type": "markdown",
   "id": "1ea8e56f",
   "metadata": {},
   "source": [
    "Check the amount of different reviewers"
   ]
  },
  {
   "cell_type": "code",
   "execution_count": 18,
   "id": "f5fce8f5",
   "metadata": {},
   "outputs": [
    {
     "data": {
      "text/plain": [
       "Amazon Customer        4833\n",
       "Kindle Customer        1053\n",
       "Linda                    94\n",
       "Susan                    67\n",
       "Mike                     64\n",
       "                       ... \n",
       "M. Kiser                  1\n",
       "John A. Fugel             1\n",
       "Lawrence J. Marotta       1\n",
       "ATK                       1\n",
       "Anthony M Asci            1\n",
       "Name: reviewerName, Length: 58399, dtype: int64"
      ]
     },
     "execution_count": 18,
     "metadata": {},
     "output_type": "execute_result"
    }
   ],
   "source": [
    "review_df['reviewerName'].value_counts()"
   ]
  },
  {
   "cell_type": "code",
   "execution_count": 19,
   "id": "e2f1d95f",
   "metadata": {},
   "outputs": [
    {
     "data": {
      "text/plain": [
       "A3JPFWKS83R49V    55\n",
       "A2OTUWUSH49XIN    26\n",
       "AEMZRE6QYVQBS     25\n",
       "A3GA09FYFKL4EY    24\n",
       "A30H2335OM7RD6    22\n",
       "                  ..\n",
       "A1GOGNVAM9CWRK     1\n",
       "A5RXVI67FLKMD      1\n",
       "AGXYE9WZZ4DUG      1\n",
       "ATYDFYTB5URNC      1\n",
       "A1N6M7HRWMDE3D     1\n",
       "Name: reviewerID, Length: 72098, dtype: int64"
      ]
     },
     "execution_count": 19,
     "metadata": {},
     "output_type": "execute_result"
    }
   ],
   "source": [
    "review_df['reviewerID'].value_counts()"
   ]
  },
  {
   "cell_type": "markdown",
   "id": "92d0e84d",
   "metadata": {},
   "source": [
    "The `reviewerID` and `reviewerName` column show differrent lengths. The `reviewerName` column contains less information than the `reviewerID` column because users can have the same names but reviewerID is unique. Thus reviewerID should be used."
   ]
  },
  {
   "cell_type": "markdown",
   "id": "87887ab6",
   "metadata": {},
   "source": [
    "Convert the reviewerName column to a numeric representation using `pd.factorize`"
   ]
  },
  {
   "cell_type": "code",
   "execution_count": 20,
   "id": "ae09dd25",
   "metadata": {},
   "outputs": [],
   "source": [
    "clean_df['reviewer_ID'] = pd.factorize(review_df['reviewerID'])[0]"
   ]
  },
  {
   "cell_type": "code",
   "execution_count": 21,
   "id": "b2be05b9",
   "metadata": {},
   "outputs": [],
   "source": [
    "# clean_df['reviewerName']= review_df['reviewerName']"
   ]
  },
  {
   "cell_type": "markdown",
   "id": "a912a92e",
   "metadata": {},
   "source": [
    "Do the same for the product column (ASIN)"
   ]
  },
  {
   "cell_type": "code",
   "execution_count": 22,
   "id": "d97870d4",
   "metadata": {},
   "outputs": [],
   "source": [
    "clean_df['itemID'] = pd.factorize(review_df['asin'])[0]"
   ]
  },
  {
   "cell_type": "code",
   "execution_count": 23,
   "id": "b3fedd74",
   "metadata": {},
   "outputs": [
    {
     "name": "stdout",
     "output_type": "stream",
     "text": [
      "<class 'pandas.core.frame.DataFrame'>\n",
      "RangeIndex: 89689 entries, 0 to 89688\n",
      "Data columns (total 6 columns):\n",
      " #   Column          Non-Null Count  Dtype  \n",
      "---  ------          --------------  -----  \n",
      " 0   overall         89689 non-null  float64\n",
      " 1   unixReviewTime  89689 non-null  int64  \n",
      " 2   vote            89689 non-null  int64  \n",
      " 3   verified        89689 non-null  int64  \n",
      " 4   reviewer_ID     89689 non-null  int64  \n",
      " 5   itemID          89689 non-null  int64  \n",
      "dtypes: float64(1), int64(5)\n",
      "memory usage: 4.1 MB\n"
     ]
    }
   ],
   "source": [
    "clean_df.info()"
   ]
  },
  {
   "cell_type": "markdown",
   "id": "043ca1a1",
   "metadata": {},
   "source": [
    "There are 5804 different review dates"
   ]
  },
  {
   "cell_type": "markdown",
   "id": "e5592caa",
   "metadata": {},
   "source": [
    "Show correlations between differen features"
   ]
  },
  {
   "cell_type": "code",
   "execution_count": 24,
   "id": "281e9d31",
   "metadata": {},
   "outputs": [
    {
     "data": {
      "image/png": "[encoded data removed]",
      "text/plain": [
       "<Figure size 864x576 with 2 Axes>"
      ]
     },
     "metadata": {
      "needs_background": "light"
     },
     "output_type": "display_data"
    }
   ],
   "source": [
    "plt.figure(figsize= [12,8])\n",
    "sns.heatmap(clean_df.corr().round(2), vmin=-1, vmax=1, cmap='coolwarm', annot=True)\n",
    "plt.show()"
   ]
  },
  {
   "cell_type": "code",
   "execution_count": 25,
   "id": "66b96acb",
   "metadata": {},
   "outputs": [
    {
     "data": {
      "text/plain": [
       "{'Format:': 'Print Magazine',\n",
       " 'Shipping: ': 'Currently, item can be shipped only within the U.S.',\n",
       " 'Publisher:': 'Reason Magazine',\n",
       " 'ASIN: ': 'B00005N7NQ'}"
      ]
     },
     "execution_count": 25,
     "metadata": {},
     "output_type": "execute_result"
    }
   ],
   "source": [
    "meta_df['details'][0]"
   ]
  },
  {
   "cell_type": "markdown",
   "id": "40944411",
   "metadata": {},
   "source": [
    "Check the number of unique products in the database"
   ]
  },
  {
   "cell_type": "code",
   "execution_count": 26,
   "id": "470fd168",
   "metadata": {},
   "outputs": [
    {
     "data": {
      "text/plain": [
       "{'Format:': ' Print Magazine'}    37638\n",
       "{'Format:': ' Kindle Edition'}    13760\n",
       "Name: style, dtype: int64"
      ]
     },
     "execution_count": 26,
     "metadata": {},
     "output_type": "execute_result"
    }
   ],
   "source": [
    "review_df['style'].value_counts()"
   ]
  },
  {
   "cell_type": "code",
   "execution_count": 27,
   "id": "88e99e1a",
   "metadata": {},
   "outputs": [
    {
     "data": {
      "text/plain": [
       "72098"
      ]
     },
     "execution_count": 27,
     "metadata": {},
     "output_type": "execute_result"
    }
   ],
   "source": [
    "len(pd.unique(review_df['reviewerID']))"
   ]
  },
  {
   "cell_type": "markdown",
   "id": "7c48e1af",
   "metadata": {},
   "source": [
    "There are 2428 unique products out of 89689 data entries\n"
   ]
  },
  {
   "cell_type": "code",
   "execution_count": 28,
   "id": "0378c86c",
   "metadata": {},
   "outputs": [
    {
     "data": {
      "text/plain": [
       "2428"
      ]
     },
     "execution_count": 28,
     "metadata": {},
     "output_type": "execute_result"
    }
   ],
   "source": [
    "len(pd.unique(review_df['asin']))"
   ]
  },
  {
   "cell_type": "code",
   "execution_count": 29,
   "id": "bad9bfdf",
   "metadata": {},
   "outputs": [
    {
     "data": {
      "text/html": [
       "<div>\n",
       "<style scoped>\n",
       "    .dataframe tbody tr th:only-of-type {\n",
       "        vertical-align: middle;\n",
       "    }\n",
       "\n",
       "    .dataframe tbody tr th {\n",
       "        vertical-align: top;\n",
       "    }\n",
       "\n",
       "    .dataframe thead th {\n",
       "        text-align: right;\n",
       "    }\n",
       "</style>\n",
       "<table border=\"1\" class=\"dataframe\">\n",
       "  <thead>\n",
       "    <tr style=\"text-align: right;\">\n",
       "      <th></th>\n",
       "      <th>overall</th>\n",
       "      <th>unixReviewTime</th>\n",
       "    </tr>\n",
       "  </thead>\n",
       "  <tbody>\n",
       "    <tr>\n",
       "      <th>count</th>\n",
       "      <td>89689.000000</td>\n",
       "      <td>8.968900e+04</td>\n",
       "    </tr>\n",
       "    <tr>\n",
       "      <th>mean</th>\n",
       "      <td>4.036638</td>\n",
       "      <td>1.389447e+09</td>\n",
       "    </tr>\n",
       "    <tr>\n",
       "      <th>std</th>\n",
       "      <td>1.419791</td>\n",
       "      <td>1.039430e+08</td>\n",
       "    </tr>\n",
       "    <tr>\n",
       "      <th>min</th>\n",
       "      <td>1.000000</td>\n",
       "      <td>1.004054e+09</td>\n",
       "    </tr>\n",
       "    <tr>\n",
       "      <th>25%</th>\n",
       "      <td>3.000000</td>\n",
       "      <td>1.355184e+09</td>\n",
       "    </tr>\n",
       "    <tr>\n",
       "      <th>50%</th>\n",
       "      <td>5.000000</td>\n",
       "      <td>1.414109e+09</td>\n",
       "    </tr>\n",
       "    <tr>\n",
       "      <th>75%</th>\n",
       "      <td>5.000000</td>\n",
       "      <td>1.461542e+09</td>\n",
       "    </tr>\n",
       "    <tr>\n",
       "      <th>max</th>\n",
       "      <td>5.000000</td>\n",
       "      <td>1.537315e+09</td>\n",
       "    </tr>\n",
       "  </tbody>\n",
       "</table>\n",
       "</div>"
      ],
      "text/plain": [
       "            overall  unixReviewTime\n",
       "count  89689.000000    8.968900e+04\n",
       "mean       4.036638    1.389447e+09\n",
       "std        1.419791    1.039430e+08\n",
       "min        1.000000    1.004054e+09\n",
       "25%        3.000000    1.355184e+09\n",
       "50%        5.000000    1.414109e+09\n",
       "75%        5.000000    1.461542e+09\n",
       "max        5.000000    1.537315e+09"
      ]
     },
     "execution_count": 29,
     "metadata": {},
     "output_type": "execute_result"
    }
   ],
   "source": [
    "# check mean, std entries for each item\n",
    "review_df.describe()"
   ]
  },
  {
   "cell_type": "markdown",
   "id": "93579969",
   "metadata": {},
   "source": [
    "The item with the most entries has 163 entries and every item has atleast 5 reviews. The mean is about 11 entries and the std is about 13 entries."
   ]
  },
  {
   "cell_type": "code",
   "execution_count": null,
   "id": "76c73791",
   "metadata": {},
   "outputs": [],
   "source": []
  },
  {
   "cell_type": "code",
   "execution_count": null,
   "id": "6eff0405",
   "metadata": {},
   "outputs": [],
   "source": []
  },
  {
   "cell_type": "code",
   "execution_count": null,
   "id": "624bebb7",
   "metadata": {},
   "outputs": [],
   "source": []
  },
  {
   "cell_type": "code",
   "execution_count": null,
   "id": "34668fa1",
   "metadata": {},
   "outputs": [],
   "source": []
  },
  {
   "cell_type": "code",
   "execution_count": null,
   "id": "35cfc568",
   "metadata": {},
   "outputs": [],
   "source": []
  }
 ],
 "metadata": {
  "kernelspec": {
   "display_name": "Python 3 (ipykernel)",
   "language": "python",
   "name": "python3"
  },
  "language_info": {
   "codemirror_mode": {
    "name": "ipython",
    "version": 3
   },
   "file_extension": ".py",
   "mimetype": "text/x-python",
   "name": "python",
   "nbconvert_exporter": "python",
   "pygments_lexer": "ipython3",
   "version": "3.9.12"
  },
  "vscode": {
   "interpreter": {
    "hash": "9b61fdd3a2a3406d3b2943547bbf4fec5b3045273a2b744a008561f0c1fab588"
   }
  }
 },
 "nbformat": 4,
 "nbformat_minor": 5
}
