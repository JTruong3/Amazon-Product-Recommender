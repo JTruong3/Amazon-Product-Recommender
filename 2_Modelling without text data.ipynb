{
 "cells": [
  {
   "cell_type": "markdown",
   "id": "91b996e6",
   "metadata": {},
   "source": [
    "# Amazon Product Recommender"
   ]
  },
  {
   "cell_type": "markdown",
   "id": "60de11a1",
   "metadata": {},
   "source": [
    "**Jason Truong**  **|**  Jasontruong19@gmail.com  **|**  September 25, 2022"
   ]
  },
  {
   "cell_type": "markdown",
   "id": "f4f2c4f6",
   "metadata": {},
   "source": [
    "**Problem Statement:** based on a person’s review of a product, can items of similar properties be recommended to them such that they are more inclined to buy the item? This project adds business value by improving the customer buying experience on Amazon through personalized recommendations for products. These recommendations influence customer purchases by making it easier for customers to find similar products. "
   ]
  },
  {
   "cell_type": "markdown",
   "id": "35cd309f",
   "metadata": {},
   "source": [
    "***"
   ]
  },
  {
   "cell_type": "markdown",
   "id": "12a10bd9",
   "metadata": {},
   "source": [
    "# 2 Modelling without Text Data"
   ]
  },
  {
   "cell_type": "markdown",
   "id": "b08f5239",
   "metadata": {},
   "source": [
    "**Note**: This is notebook **3 of 5** for building the recommendation system."
   ]
  },
  {
   "cell_type": "markdown",
   "id": "f1af099f",
   "metadata": {},
   "source": [
    "# Table of Contents\n",
    "\n",
    "1. **[Introduction](#1Introduction)**  \n",
    "2. **[Preliminary Data Setup](#2Preliminary)**  \n",
    "    2.1. [Set up Train/Test Split](#2.1traintest)  \n",
    "    2.2. [Scale data](#2.2scaledata)  \n",
    "3. **[Logistic Regression](#3logistic)**  \n",
    "    3.1 [Logistic model](#3.1logitmodel)  \n",
    "    3.2 [Logistic Hyperparameter tuning](#3.2logit_tuning)  \n",
    "4. **[Decision Tree](#4decisiontree)**  \n",
    "    4.1 [Decision Tree model](#4.1dtmodel)  \n",
    "    4.2 [Decision Tree Hyperparameter tuning](#4.2dt_tuning)  \n",
    "5. **[XGBoost](#5xgboost)**  \n",
    "    5.1 [XGBoost model](#5.1xgboost_model)  \n",
    "6. **[Summary](#6summary)**\n"
   ]
  },
  {
   "cell_type": "markdown",
   "id": "b0a6a022",
   "metadata": {},
   "source": [
    "# 1. Introduction<a class ='anchor' id='1Introduction'></a>"
   ]
  },
  {
   "cell_type": "markdown",
   "id": "c8c122c0",
   "metadata": {},
   "source": [
    "With the preprocessed data from the first notebook, (Preprocessing and EDA) the data can now be used in different models. This notebook uses two classification models, logistic regression, a decision tree model as well as an ensemble method, XGBoost to model the preprocessed data. The objective is to determine how well the models will perform using only the numeric features (excluding the text portion of the review) to predict the the sentiment of the review."
   ]
  },
  {
   "cell_type": "markdown",
   "id": "2797ee2b",
   "metadata": {},
   "source": [
    "# 2. Preliminary Data Setup<a class ='anchor' id='2Preliminary'></a>"
   ]
  },
  {
   "cell_type": "markdown",
   "id": "dda521d5",
   "metadata": {},
   "source": [
    "The necessary base packages will be imported below."
   ]
  },
  {
   "cell_type": "code",
   "execution_count": 1,
   "id": "29dda388",
   "metadata": {},
   "outputs": [],
   "source": [
    "import json\n",
    "import pandas as pd\n",
    "import numpy as np\n",
    "import matplotlib.pyplot as plt\n",
    "import pickle\n",
    "\n",
    "# Ignore warnings\n",
    "import warnings\n",
    "warnings.filterwarnings('ignore')"
   ]
  },
  {
   "cell_type": "markdown",
   "id": "e214e861",
   "metadata": {},
   "source": [
    "The review dataset will be loaded in."
   ]
  },
  {
   "cell_type": "code",
   "execution_count": 2,
   "id": "f5e10b36",
   "metadata": {},
   "outputs": [
    {
     "data": {
      "text/html": [
       "<div>\n",
       "<style scoped>\n",
       "    .dataframe tbody tr th:only-of-type {\n",
       "        vertical-align: middle;\n",
       "    }\n",
       "\n",
       "    .dataframe tbody tr th {\n",
       "        vertical-align: top;\n",
       "    }\n",
       "\n",
       "    .dataframe thead th {\n",
       "        text-align: right;\n",
       "    }\n",
       "</style>\n",
       "<table border=\"1\" class=\"dataframe\">\n",
       "  <thead>\n",
       "    <tr style=\"text-align: right;\">\n",
       "      <th></th>\n",
       "      <th>reviewScore</th>\n",
       "      <th>verified</th>\n",
       "      <th>vote</th>\n",
       "      <th>reviewDay</th>\n",
       "      <th>reviewMonth</th>\n",
       "      <th>reviewYear</th>\n",
       "      <th>style_Amazon Video</th>\n",
       "      <th>style_Blu-ray</th>\n",
       "      <th>style_DVD</th>\n",
       "      <th>style_Other</th>\n",
       "      <th>style_VHS Tape</th>\n",
       "      <th>reviewer_ID</th>\n",
       "      <th>itemID</th>\n",
       "    </tr>\n",
       "  </thead>\n",
       "  <tbody>\n",
       "    <tr>\n",
       "      <th>0</th>\n",
       "      <td>5</td>\n",
       "      <td>1</td>\n",
       "      <td>4</td>\n",
       "      <td>2</td>\n",
       "      <td>11</td>\n",
       "      <td>2002</td>\n",
       "      <td>0</td>\n",
       "      <td>0</td>\n",
       "      <td>1</td>\n",
       "      <td>0</td>\n",
       "      <td>0</td>\n",
       "      <td>0</td>\n",
       "      <td>0</td>\n",
       "    </tr>\n",
       "    <tr>\n",
       "      <th>1</th>\n",
       "      <td>5</td>\n",
       "      <td>0</td>\n",
       "      <td>3</td>\n",
       "      <td>28</td>\n",
       "      <td>1</td>\n",
       "      <td>2002</td>\n",
       "      <td>0</td>\n",
       "      <td>0</td>\n",
       "      <td>1</td>\n",
       "      <td>0</td>\n",
       "      <td>0</td>\n",
       "      <td>1</td>\n",
       "      <td>0</td>\n",
       "    </tr>\n",
       "    <tr>\n",
       "      <th>2</th>\n",
       "      <td>5</td>\n",
       "      <td>0</td>\n",
       "      <td>2</td>\n",
       "      <td>12</td>\n",
       "      <td>12</td>\n",
       "      <td>2001</td>\n",
       "      <td>0</td>\n",
       "      <td>0</td>\n",
       "      <td>1</td>\n",
       "      <td>0</td>\n",
       "      <td>0</td>\n",
       "      <td>2</td>\n",
       "      <td>0</td>\n",
       "    </tr>\n",
       "    <tr>\n",
       "      <th>3</th>\n",
       "      <td>3</td>\n",
       "      <td>0</td>\n",
       "      <td>31</td>\n",
       "      <td>11</td>\n",
       "      <td>12</td>\n",
       "      <td>2001</td>\n",
       "      <td>0</td>\n",
       "      <td>0</td>\n",
       "      <td>0</td>\n",
       "      <td>0</td>\n",
       "      <td>1</td>\n",
       "      <td>3</td>\n",
       "      <td>0</td>\n",
       "    </tr>\n",
       "    <tr>\n",
       "      <th>4</th>\n",
       "      <td>4</td>\n",
       "      <td>0</td>\n",
       "      <td>62</td>\n",
       "      <td>19</td>\n",
       "      <td>10</td>\n",
       "      <td>2001</td>\n",
       "      <td>0</td>\n",
       "      <td>0</td>\n",
       "      <td>1</td>\n",
       "      <td>0</td>\n",
       "      <td>0</td>\n",
       "      <td>4</td>\n",
       "      <td>0</td>\n",
       "    </tr>\n",
       "  </tbody>\n",
       "</table>\n",
       "</div>"
      ],
      "text/plain": [
       "   reviewScore  verified  vote  reviewDay  reviewMonth  reviewYear  \\\n",
       "0            5         1     4          2           11        2002   \n",
       "1            5         0     3         28            1        2002   \n",
       "2            5         0     2         12           12        2001   \n",
       "3            3         0    31         11           12        2001   \n",
       "4            4         0    62         19           10        2001   \n",
       "\n",
       "   style_Amazon Video  style_Blu-ray  style_DVD  style_Other  style_VHS Tape  \\\n",
       "0                   0              0          1            0               0   \n",
       "1                   0              0          1            0               0   \n",
       "2                   0              0          1            0               0   \n",
       "3                   0              0          0            0               1   \n",
       "4                   0              0          1            0               0   \n",
       "\n",
       "   reviewer_ID  itemID  \n",
       "0            0       0  \n",
       "1            1       0  \n",
       "2            2       0  \n",
       "3            3       0  \n",
       "4            4       0  "
      ]
     },
     "execution_count": 2,
     "metadata": {},
     "output_type": "execute_result"
    }
   ],
   "source": [
    "review_df = pd.read_json('numeric_review.json')\n",
    "\n",
    "# Check the data that is loaded in\n",
    "review_df.head()"
   ]
  },
  {
   "cell_type": "markdown",
   "id": "8bc162af",
   "metadata": {},
   "source": [
    "The review score will be split into positive (value of 1) and negative (value of 0) for sentiment analysis. Anything below 4 will be mapped to 0 and anything above and including 4 will be mapped to 1."
   ]
  },
  {
   "cell_type": "code",
   "execution_count": 3,
   "id": "98c83366",
   "metadata": {},
   "outputs": [
    {
     "data": {
      "text/plain": [
       "1    1418290\n",
       "0     279963\n",
       "Name: reviewClass, dtype: int64"
      ]
     },
     "execution_count": 3,
     "metadata": {},
     "output_type": "execute_result"
    }
   ],
   "source": [
    "# Map review score values \n",
    "review_df['reviewClass'] = np.where(review_df['reviewScore']>=4,1,0)\n",
    "\n",
    "# Check results\n",
    "review_df['reviewClass'].value_counts()"
   ]
  },
  {
   "cell_type": "markdown",
   "id": "ddb5840b",
   "metadata": {},
   "source": [
    "The `reviewClass` column now only has two classes. The proportion of positive and negative reviews can be determined."
   ]
  },
  {
   "cell_type": "code",
   "execution_count": 4,
   "id": "a5613037",
   "metadata": {},
   "outputs": [
    {
     "data": {
      "text/plain": [
       "1    83.514647\n",
       "0    16.485353\n",
       "Name: reviewClass, dtype: float64"
      ]
     },
     "execution_count": 4,
     "metadata": {},
     "output_type": "execute_result"
    }
   ],
   "source": [
    "(review_df['reviewClass'].value_counts()/review_df.shape[0])*100"
   ]
  },
  {
   "cell_type": "markdown",
   "id": "e29d005c",
   "metadata": {},
   "source": [
    "83.5% of the reviews have a positive sentiment. Now that the reviews have been split into positive and negative sentiments, a train/test split can be made. The baseline accuracy will be taken as 83.5% since this is the score if the prediction for the reviews is all taken to be positive."
   ]
  },
  {
   "cell_type": "markdown",
   "id": "044742d9",
   "metadata": {},
   "source": [
    "## 2.1 Setup train and test split<a class ='anchor' id='2.1traintest'></a>"
   ]
  },
  {
   "cell_type": "code",
   "execution_count": 5,
   "id": "b1adc717",
   "metadata": {},
   "outputs": [],
   "source": [
    "from sklearn.model_selection import train_test_split\n",
    "\n",
    "# The prediction is for the reviewScore\n",
    "X = review_df.drop(columns = ['reviewScore','reviewClass'])\n",
    "y = review_df['reviewClass']\n",
    "\n",
    "# Create the train test split\n",
    "X_train, X_test, y_train, y_test = train_test_split(X,y, test_size = 0.25, stratify = y)"
   ]
  },
  {
   "cell_type": "markdown",
   "id": "7344ab6c",
   "metadata": {},
   "source": [
    "**Note: A validation set is not made because the hyperparameter tuning will be done in a pipeline with a 5-fold cross validation. Thus, a validation set is not needed.**"
   ]
  },
  {
   "cell_type": "markdown",
   "id": "69d7d87e",
   "metadata": {},
   "source": [
    "## 2.2 Scale the data<a class ='anchor' id='2.2scaledata'></a>"
   ]
  },
  {
   "cell_type": "markdown",
   "id": "efd89d89",
   "metadata": {},
   "source": [
    "Since many of the columns are on different scales, a standard scaler will be used to normalize the data."
   ]
  },
  {
   "cell_type": "code",
   "execution_count": 6,
   "id": "64ecc0c6",
   "metadata": {},
   "outputs": [],
   "source": [
    "from sklearn.preprocessing import StandardScaler\n",
    "\n",
    "# Instantiate Scaler\n",
    "ss = StandardScaler()\n",
    "\n",
    "# Fit the Scaler\n",
    "ss.fit(X_train)\n",
    "\n",
    "# Transform\n",
    "X_train_ss = ss.transform(X_train)\n",
    "X_test_ss = ss.transform(X_test)"
   ]
  },
  {
   "cell_type": "code",
   "execution_count": 7,
   "id": "fb89aa99",
   "metadata": {},
   "outputs": [
    {
     "data": {
      "text/plain": [
       "array([[ 0.68897563, -0.11846769, -1.10148481, ..., -0.20102521,\n",
       "        -1.05267921, -1.37937145],\n",
       "       [ 0.68897563, -0.11846769, -0.4245678 , ..., -0.20102521,\n",
       "        -0.9768615 , -0.27774056],\n",
       "       [-1.45143014, -0.11846769,  1.26772472, ..., -0.20102521,\n",
       "        -1.23518041, -0.4683722 ],\n",
       "       ...,\n",
       "       [-1.45143014, -0.11846769,  0.59080771, ..., -0.20102521,\n",
       "        -1.25759007,  0.80006137],\n",
       "       [ 0.68897563, -0.11846769,  0.36516871, ..., -0.20102521,\n",
       "        -0.61839854, -1.1456644 ],\n",
       "       [ 0.68897563, -0.11846769,  1.60618322, ..., -0.20102521,\n",
       "         1.42761554,  0.99802499]])"
      ]
     },
     "execution_count": 7,
     "metadata": {},
     "output_type": "execute_result"
    }
   ],
   "source": [
    "# Check the transformed values\n",
    "X_train_ss"
   ]
  },
  {
   "cell_type": "markdown",
   "id": "8f7fce7e",
   "metadata": {},
   "source": [
    "The data in both the training and test set has been normalized so now they can be used in the different models."
   ]
  },
  {
   "cell_type": "markdown",
   "id": "213bcc1d",
   "metadata": {},
   "source": [
    "# 3. Logistic Regression<a class ='anchor' id='3logistic'></a>"
   ]
  },
  {
   "cell_type": "markdown",
   "id": "db65a3bd",
   "metadata": {},
   "source": [
    "A simple logisitic regression will be used to start things off and see how well the model fits the data."
   ]
  },
  {
   "cell_type": "markdown",
   "id": "b8f21caf",
   "metadata": {},
   "source": [
    "## 3.1 Logistic Model<a class ='anchor' id='3.1logitmodel'></a>"
   ]
  },
  {
   "cell_type": "code",
   "execution_count": 8,
   "id": "98453ab5",
   "metadata": {},
   "outputs": [
    {
     "name": "stdout",
     "output_type": "stream",
     "text": [
      "Train score: 0.8349565710310759\n",
      "Test score: 0.8349977859639536\n"
     ]
    }
   ],
   "source": [
    "from sklearn.linear_model import LogisticRegression\n",
    "\n",
    "# Instantiate\n",
    "logreg = LogisticRegression(C = 1)\n",
    "\n",
    "# Fit the model\n",
    "logreg.fit(X_train_ss,y_train)\n",
    "\n",
    "# Score the model\n",
    "print(f\"Train score: {logreg.score(X_train_ss,y_train)}\")\n",
    "print(f\"Test score: {logreg.score(X_test_ss,y_test)}\")"
   ]
  },
  {
   "cell_type": "markdown",
   "id": "45154dec",
   "metadata": {},
   "source": [
    "The train and test scores are very close to one another which shows that the model may be performing well. Since the review dataset had 83.5% positive reviews, the logistic regression model is not performing better than randomly guessing everything as positive. The coefficients of the model can be explored to see how they impact the sentiment."
   ]
  },
  {
   "cell_type": "code",
   "execution_count": 9,
   "id": "e8e28928",
   "metadata": {},
   "outputs": [
    {
     "data": {
      "text/plain": [
       "array([ 0.24753507, -0.05912898, -0.00662655,  0.00892323,  0.1743462 ,\n",
       "       -0.17540836,  0.00087482,  0.0147989 , -0.00355748,  0.04538284,\n",
       "        0.07188777, -0.09134039])"
      ]
     },
     "execution_count": 9,
     "metadata": {},
     "output_type": "execute_result"
    }
   ],
   "source": [
    "# Determine the model coefficients\n",
    "logreg.coef_[0]"
   ]
  },
  {
   "cell_type": "code",
   "execution_count": 10,
   "id": "01bd1b31",
   "metadata": {
    "scrolled": true
   },
   "outputs": [
    {
     "data": {
      "text/plain": [
       "Index(['verified', 'vote', 'reviewDay', 'reviewMonth', 'reviewYear',\n",
       "       'style_Amazon Video', 'style_Blu-ray', 'style_DVD', 'style_Other',\n",
       "       'style_VHS Tape', 'reviewer_ID', 'itemID'],\n",
       "      dtype='object')"
      ]
     },
     "execution_count": 10,
     "metadata": {},
     "output_type": "execute_result"
    }
   ],
   "source": [
    "# Show which column the coefficient is referring to.\n",
    "X_train.columns"
   ]
  },
  {
   "cell_type": "code",
   "execution_count": 11,
   "id": "37a307df",
   "metadata": {
    "scrolled": true
   },
   "outputs": [
    {
     "data": {
      "text/html": [
       "<div>\n",
       "<style scoped>\n",
       "    .dataframe tbody tr th:only-of-type {\n",
       "        vertical-align: middle;\n",
       "    }\n",
       "\n",
       "    .dataframe tbody tr th {\n",
       "        vertical-align: top;\n",
       "    }\n",
       "\n",
       "    .dataframe thead th {\n",
       "        text-align: right;\n",
       "    }\n",
       "</style>\n",
       "<table border=\"1\" class=\"dataframe\">\n",
       "  <thead>\n",
       "    <tr style=\"text-align: right;\">\n",
       "      <th></th>\n",
       "      <th>coefficients</th>\n",
       "    </tr>\n",
       "  </thead>\n",
       "  <tbody>\n",
       "    <tr>\n",
       "      <th>style_Amazon Video</th>\n",
       "      <td>-0.175408</td>\n",
       "    </tr>\n",
       "    <tr>\n",
       "      <th>itemID</th>\n",
       "      <td>-0.091340</td>\n",
       "    </tr>\n",
       "    <tr>\n",
       "      <th>vote</th>\n",
       "      <td>-0.059129</td>\n",
       "    </tr>\n",
       "    <tr>\n",
       "      <th>reviewDay</th>\n",
       "      <td>-0.006627</td>\n",
       "    </tr>\n",
       "    <tr>\n",
       "      <th>style_Other</th>\n",
       "      <td>-0.003557</td>\n",
       "    </tr>\n",
       "    <tr>\n",
       "      <th>style_Blu-ray</th>\n",
       "      <td>0.000875</td>\n",
       "    </tr>\n",
       "    <tr>\n",
       "      <th>reviewMonth</th>\n",
       "      <td>0.008923</td>\n",
       "    </tr>\n",
       "    <tr>\n",
       "      <th>style_DVD</th>\n",
       "      <td>0.014799</td>\n",
       "    </tr>\n",
       "    <tr>\n",
       "      <th>style_VHS Tape</th>\n",
       "      <td>0.045383</td>\n",
       "    </tr>\n",
       "    <tr>\n",
       "      <th>reviewer_ID</th>\n",
       "      <td>0.071888</td>\n",
       "    </tr>\n",
       "    <tr>\n",
       "      <th>reviewYear</th>\n",
       "      <td>0.174346</td>\n",
       "    </tr>\n",
       "    <tr>\n",
       "      <th>verified</th>\n",
       "      <td>0.247535</td>\n",
       "    </tr>\n",
       "  </tbody>\n",
       "</table>\n",
       "</div>"
      ],
      "text/plain": [
       "                    coefficients\n",
       "style_Amazon Video     -0.175408\n",
       "itemID                 -0.091340\n",
       "vote                   -0.059129\n",
       "reviewDay              -0.006627\n",
       "style_Other            -0.003557\n",
       "style_Blu-ray           0.000875\n",
       "reviewMonth             0.008923\n",
       "style_DVD               0.014799\n",
       "style_VHS Tape          0.045383\n",
       "reviewer_ID             0.071888\n",
       "reviewYear              0.174346\n",
       "verified                0.247535"
      ]
     },
     "execution_count": 11,
     "metadata": {},
     "output_type": "execute_result"
    }
   ],
   "source": [
    "# Make coefficient dataframe\n",
    "coeff_df = pd.DataFrame({\"coefficients\": logreg.coef_[0]}, index = X_train.columns).sort_values('coefficients', ascending = True)\n",
    "\n",
    "# Check results\n",
    "coeff_df"
   ]
  },
  {
   "cell_type": "markdown",
   "id": "e8a7decc",
   "metadata": {},
   "source": [
    "The coefficients are relatively small for all the features with the highest coefficient being 0.25 for `verified` and the lowest coefficient being -0.17 for `style_Amazon Video` A plot can be made to better visualize the coefficients."
   ]
  },
  {
   "cell_type": "code",
   "execution_count": 12,
   "id": "eab191a6",
   "metadata": {},
   "outputs": [
    {
     "data": {
      "image/png": "[encoded data removed]",
      "text/plain": [
       "<Figure size 1000x700 with 1 Axes>"
      ]
     },
     "metadata": {},
     "output_type": "display_data"
    }
   ],
   "source": [
    "# Set up figure size\n",
    "plt.figure(figsize = (10,7))\n",
    "\n",
    "# Plot the coefficients \n",
    "plt.hlines(y = coeff_df.index, \n",
    "           xmax = coeff_df['coefficients'], \n",
    "           xmin = 0, \n",
    "           linewidth = 30,\n",
    "           color = ['r' if c<0 else 'b' for c in coeff_df['coefficients']])\n",
    "\n",
    "# Set x axis range\n",
    "plt.xlim([-1,1])\n",
    "\n",
    "# Label the plot\n",
    "plt.title(f'Coefficient bar plot for different features', fontweight = 'bold', fontsize = 24)\n",
    "plt.xlabel('Coefficient', fontsize = 20)\n",
    "plt.ylabel('Feature', fontsize = 20)\n",
    "\n",
    "plt.show()"
   ]
  },
  {
   "cell_type": "markdown",
   "id": "b6330649",
   "metadata": {},
   "source": [
    "By looking at the plot above, the conclusion that can be drawns that the data without text features is not highly correlated with the sentiment of the review."
   ]
  },
  {
   "cell_type": "markdown",
   "id": "6ad67dc2",
   "metadata": {},
   "source": [
    "The above model can be saved so that this notebook can be run without fitting the model again."
   ]
  },
  {
   "cell_type": "code",
   "execution_count": 13,
   "id": "a6c42917",
   "metadata": {},
   "outputs": [],
   "source": [
    "# Save the above model\n",
    "pickle.dump(logreg, open('Saved_Models/2_log_reg_model.pickle','wb'))"
   ]
  },
  {
   "cell_type": "code",
   "execution_count": 14,
   "id": "48fd96b7",
   "metadata": {},
   "outputs": [],
   "source": [
    "# Load the saved model\n",
    "# logreg = pickle.load(open('Saved_Models/2_log_reg_model.pickle','rb'))"
   ]
  },
  {
   "cell_type": "markdown",
   "id": "82f7c0a1",
   "metadata": {},
   "source": [
    "To further analyze these results, the precision and recall scores can be reviewed for the logistic model."
   ]
  },
  {
   "cell_type": "code",
   "execution_count": 15,
   "id": "554b523c",
   "metadata": {},
   "outputs": [
    {
     "name": "stdout",
     "output_type": "stream",
     "text": [
      "              precision    recall  f1-score   support\n",
      "\n",
      "           0       0.22      0.00      0.00     69991\n",
      "           1       0.84      1.00      0.91    354573\n",
      "\n",
      "    accuracy                           0.83    424564\n",
      "   macro avg       0.53      0.50      0.46    424564\n",
      "weighted avg       0.73      0.83      0.76    424564\n",
      "\n"
     ]
    }
   ],
   "source": [
    "from sklearn.metrics import classification_report\n",
    "\n",
    "# Get the model predictions.\n",
    "y_pred = logreg.predict(X_test_ss)\n",
    "\n",
    "# Get the classification report for the model\n",
    "c_report_logreg = classification_report(y_test,y_pred)\n",
    "\n",
    "print(c_report_logreg)"
   ]
  },
  {
   "cell_type": "markdown",
   "id": "b55d8ad1",
   "metadata": {},
   "source": [
    "The precision and recall for predicting positive reviews are great but the recall and precision for predicting negative reviews are terrible. This can be due to the imbalanced dataset and how the features do not have much predictive power for predicting the sentiment. A confusion matrix can be plotted to see how many reviews were predicted correctly."
   ]
  },
  {
   "cell_type": "code",
   "execution_count": 16,
   "id": "fe674069",
   "metadata": {},
   "outputs": [
    {
     "data": {
      "image/png": "[encoded data removed]",
      "text/plain": [
       "<Figure size 640x480 with 2 Axes>"
      ]
     },
     "metadata": {},
     "output_type": "display_data"
    }
   ],
   "source": [
    "from sklearn.metrics import plot_confusion_matrix\n",
    "\n",
    "# Plot the decision matrix\n",
    "plot_confusion_matrix(logreg, X_test_ss, y_test, cmap = 'Blues', values_format ='')\n",
    "\n",
    "# Add labels to the plot\n",
    "plt.title('Decision Matrix for the Logistic Regression Model')\n",
    "plt.show()"
   ]
  },
  {
   "cell_type": "markdown",
   "id": "d1de0ae4",
   "metadata": {},
   "source": [
    "The above decision matrix shows that the model is unable to generalize the data well for negative reviews. Only 21 out of 69991 negative reviews were predicted correctly. The recall and precision are better evaluation metrics for this dataset because of the unbalanced dataset."
   ]
  },
  {
   "cell_type": "markdown",
   "id": "bc184d26",
   "metadata": {},
   "source": [
    "Since the classification report and confusion matrix will be used to evaluate the other models, functions will be created to reduce the code redundency in this and other notebooks."
   ]
  },
  {
   "cell_type": "markdown",
   "id": "fffd8386",
   "metadata": {},
   "source": [
    "**Create a function to run the classification report and confusion matrix**"
   ]
  },
  {
   "cell_type": "code",
   "execution_count": 17,
   "id": "43baafe5",
   "metadata": {},
   "outputs": [],
   "source": [
    "def class_report(model,X_test_ss,y_test):\n",
    "    '''\n",
    "    This function takes in the machine learning model as well as the test data and outputs a classification report.\n",
    "    \n",
    "    '''\n",
    "    \n",
    "    # Get the model predictions.\n",
    "    y_pred = model.predict(X_test_ss)\n",
    "\n",
    "    # Get the classification report for the model\n",
    "    c_report = classification_report(y_test,y_pred)\n",
    "    \n",
    "    return print(c_report)"
   ]
  },
  {
   "cell_type": "code",
   "execution_count": 18,
   "id": "ab07e20f",
   "metadata": {},
   "outputs": [],
   "source": [
    "def conf_matrix(model,X_test_ss,y_test,model_type):\n",
    "    '''\n",
    "    This function takes in the machine learning model, test data and the model name. \n",
    "    The output is a decision matrix for the model\n",
    "    \n",
    "    '''\n",
    "    \n",
    "    # Plot the decision matrix\n",
    "    plot_confusion_matrix(model, X_test_ss, y_test, cmap = 'Blues', values_format ='')\n",
    "\n",
    "    # Add labels to the plot\n",
    "    plt.title(f'Decision Matrix for the {model_type} model')\n",
    "    plt.show()"
   ]
  },
  {
   "cell_type": "markdown",
   "id": "3d0cd08f",
   "metadata": {},
   "source": [
    "Now that there is a function to output the classification report and decision matrix, it will be used in this notebook for the other models."
   ]
  },
  {
   "cell_type": "markdown",
   "id": "9b20fda1",
   "metadata": {},
   "source": [
    "## 3.2 Logistic Hyperparameter Tuning <a class ='anchor' id='3.2logit_tuning'></a>"
   ]
  },
  {
   "cell_type": "markdown",
   "id": "985caf41",
   "metadata": {},
   "source": [
    "**Create a ML Pipelines to determine the best hyper parameters** "
   ]
  },
  {
   "cell_type": "markdown",
   "id": "d307e190",
   "metadata": {},
   "source": [
    "Machine learning pipelines are a useful tool to help test multiple parameters at once and they also help ensure that there is no data leakage to the test set. "
   ]
  },
  {
   "cell_type": "code",
   "execution_count": 19,
   "id": "b81b0364",
   "metadata": {},
   "outputs": [],
   "source": [
    "# Set up caching for the pipeline.\n",
    "from tempfile import mkdtemp\n",
    "cachedir = mkdtemp()"
   ]
  },
  {
   "cell_type": "markdown",
   "id": "fb31bf87",
   "metadata": {},
   "source": [
    "First, the pipeline structure will be set up."
   ]
  },
  {
   "cell_type": "code",
   "execution_count": 20,
   "id": "b0b0c0f7",
   "metadata": {},
   "outputs": [],
   "source": [
    "from sklearn.pipeline import Pipeline\n",
    "\n",
    "# Instantiate pipeline settings\n",
    "estimators = [('normalize', StandardScaler()),\n",
    "             ('model', LogisticRegression())]\n",
    "\n",
    "# Instantiate pipeline model\n",
    "pipeline_model = Pipeline(estimators, memory = cachedir)"
   ]
  },
  {
   "cell_type": "markdown",
   "id": "3b5e2f8c",
   "metadata": {},
   "source": [
    "The pipeline will include different parameters for the logistic regression as well as a scaling function to determine if scaling makes a difference in the model performance. "
   ]
  },
  {
   "cell_type": "code",
   "execution_count": 21,
   "id": "5abca16d",
   "metadata": {},
   "outputs": [],
   "source": [
    "from sklearn.model_selection import GridSearchCV\n",
    "\n",
    "# Set up parameters for the pipeline\n",
    "logit_param_grid = [\n",
    "    \n",
    "    {'normalize': [None, StandardScaler()],\n",
    "     'model__solver': ['lbfgs', 'liblinear'],\n",
    "     'model__penalty': ['l2'],\n",
    "     'model__C': [0.0001, 0.001, 0.01, 0.1, 1, 10, 100, 1000, 10000]}\n",
    "]\n",
    "\n",
    "# Instantiate grid search\n",
    "logit_gsearch = GridSearchCV(estimator=pipeline_model, param_grid=logit_param_grid, cv = 5, verbose = 1, n_jobs = -1)"
   ]
  },
  {
   "cell_type": "markdown",
   "id": "191ecf14",
   "metadata": {},
   "source": [
    "Now that the model is created, we can fit the grid search with a 5 fold cross validation."
   ]
  },
  {
   "cell_type": "code",
   "execution_count": 22,
   "id": "7c80de52",
   "metadata": {},
   "outputs": [
    {
     "name": "stdout",
     "output_type": "stream",
     "text": [
      "Fitting 5 folds for each of 36 candidates, totalling 180 fits\n"
     ]
    }
   ],
   "source": [
    "fit_logit_grid = logit_gsearch.fit(X_train,y_train)"
   ]
  },
  {
   "cell_type": "code",
   "execution_count": 23,
   "id": "ad442f79",
   "metadata": {},
   "outputs": [
    {
     "data": {
      "text/plain": [
       "{'model__C': 0.0001,\n",
       " 'model__penalty': 'l2',\n",
       " 'model__solver': 'lbfgs',\n",
       " 'normalize': None}"
      ]
     },
     "execution_count": 23,
     "metadata": {},
     "output_type": "execute_result"
    }
   ],
   "source": [
    "fit_logit_grid.best_params_"
   ]
  },
  {
   "cell_type": "markdown",
   "id": "f92ef3a0",
   "metadata": {},
   "source": [
    "The best model with the different parameters are shown above."
   ]
  },
  {
   "cell_type": "code",
   "execution_count": 24,
   "id": "ecebd991",
   "metadata": {},
   "outputs": [
    {
     "name": "stdout",
     "output_type": "stream",
     "text": [
      "Train score: 0.8351465703166158\n",
      "Test score: 0.8351461734862118\n"
     ]
    }
   ],
   "source": [
    "# Score the model\n",
    "print(f\"Train score: {logit_gsearch.score(X_train,y_train)}\")\n",
    "print(f\"Test score: {logit_gsearch.score(X_test,y_test)}\")\n"
   ]
  },
  {
   "cell_type": "markdown",
   "id": "992410fd",
   "metadata": {},
   "source": [
    "The best logistic regression model did not improve the train or test score."
   ]
  },
  {
   "cell_type": "markdown",
   "id": "45d0a542",
   "metadata": {},
   "source": [
    "The above model can be saved so this notebook can be run without fitting the model again."
   ]
  },
  {
   "cell_type": "code",
   "execution_count": 25,
   "id": "f9cbf1bd",
   "metadata": {},
   "outputs": [],
   "source": [
    "# Save the above model\n",
    "pickle.dump(logit_gsearch, open('Saved_Models/2_logit_optimized_model.pickle','wb'))"
   ]
  },
  {
   "cell_type": "code",
   "execution_count": 26,
   "id": "d7651db1",
   "metadata": {},
   "outputs": [],
   "source": [
    "# Load the saved model\n",
    "# logit_gsearch = pickle.load(open('Saved_Models/2_logit_optimized_model.pickle','rb'))"
   ]
  },
  {
   "cell_type": "markdown",
   "id": "716cda24",
   "metadata": {},
   "source": [
    "The classification report and decision matrix can be created to see if the hyperparameter tuning affected the original logistic regression results."
   ]
  },
  {
   "cell_type": "code",
   "execution_count": 27,
   "id": "65e37e8f",
   "metadata": {},
   "outputs": [
    {
     "name": "stdout",
     "output_type": "stream",
     "text": [
      "              precision    recall  f1-score   support\n",
      "\n",
      "           0       0.22      0.41      0.29     69991\n",
      "           1       0.86      0.72      0.78    354573\n",
      "\n",
      "    accuracy                           0.66    424564\n",
      "   macro avg       0.54      0.56      0.53    424564\n",
      "weighted avg       0.75      0.66      0.70    424564\n",
      "\n"
     ]
    }
   ],
   "source": [
    "# Determine the precision and recall of the model\n",
    "class_report(logit_gsearch,X_test_ss,y_test)"
   ]
  },
  {
   "cell_type": "code",
   "execution_count": 28,
   "id": "51dc83d5",
   "metadata": {},
   "outputs": [
    {
     "data": {
      "image/png": "[encoded data removed]",
      "text/plain": [
       "<Figure size 640x480 with 2 Axes>"
      ]
     },
     "metadata": {},
     "output_type": "display_data"
    }
   ],
   "source": [
    "# Plot the decision matrix\n",
    "conf_matrix(logit_gsearch,X_test_ss,y_test, 'Best Logistic Regression')"
   ]
  },
  {
   "cell_type": "markdown",
   "id": "706dbe16",
   "metadata": {},
   "source": [
    "The tuned logistic regression model is able to predict negative reviews better as the recall for negative predictions increased significantly from 0 to 40%. Although the model can better predict negative reviews, the recall for the positive predictions dropped from 100% to 71%. This hyperparameter tuning made the model predict more negative reviews which is a good step toward predicting negative sentiment better. The downside is that the model predicts fewer positive reviews."
   ]
  },
  {
   "cell_type": "markdown",
   "id": "5d07fd17",
   "metadata": {},
   "source": [
    "# 4. Decision Tree<a class ='anchor' id='4decisiontree'></a>"
   ]
  },
  {
   "cell_type": "markdown",
   "id": "d67eb8e4",
   "metadata": {},
   "source": [
    "The decision tree model can also be used to fit the data to determine if the numeric features without the text data affect the sentiment prediction. A decision tree model will be used because they fit non-linear relationships well and this dataset contains non-linear relationships."
   ]
  },
  {
   "cell_type": "markdown",
   "id": "769b8ca6",
   "metadata": {},
   "source": [
    "## 4.1 Decision Tree Model<a class ='anchor' id='4.1dtmodel'></a>"
   ]
  },
  {
   "cell_type": "markdown",
   "id": "9c51a972",
   "metadata": {},
   "source": [
    "A simple decision tree model will be fit to the data."
   ]
  },
  {
   "cell_type": "code",
   "execution_count": 29,
   "id": "211cc98f",
   "metadata": {},
   "outputs": [
    {
     "name": "stdout",
     "output_type": "stream",
     "text": [
      "Train score: 0.9999466117710053\n",
      "Test score: 0.7626129393919409\n"
     ]
    }
   ],
   "source": [
    "from sklearn.tree import DecisionTreeClassifier\n",
    "\n",
    "# Instantiate\n",
    "decisiontree_model = DecisionTreeClassifier()\n",
    "\n",
    "# Fit the model\n",
    "decisiontree_model.fit(X_train_ss,y_train)\n",
    "\n",
    "# Score the model\n",
    "print(f\"Train score: {decisiontree_model.score(X_train_ss,y_train)}\")\n",
    "print(f\"Test score: {decisiontree_model.score(X_test_ss,y_test)}\")"
   ]
  },
  {
   "cell_type": "markdown",
   "id": "f10f59c5",
   "metadata": {},
   "source": [
    "The training score is almost at 1, thus the model is overfitting. This is expected because the max depth wasn't specified in the model so the tree expanded to as many leaves as possible. The test score is lower than the baseline so the current model performs worst than if we guessed that all the reviews were positive."
   ]
  },
  {
   "cell_type": "markdown",
   "id": "60b8c36b",
   "metadata": {},
   "source": [
    "The above model can be saved so this notebook can be run without fitting the model again."
   ]
  },
  {
   "cell_type": "code",
   "execution_count": 30,
   "id": "79d3fd5e",
   "metadata": {},
   "outputs": [],
   "source": [
    "# Save the above model\n",
    "pickle.dump(decisiontree_model, open('Saved_Models/2_dt_model.pickle','wb'))"
   ]
  },
  {
   "cell_type": "code",
   "execution_count": 31,
   "id": "0ddd7b3e",
   "metadata": {},
   "outputs": [],
   "source": [
    "# Load the saved model\n",
    "#decisiontree_model = pickle.load(open('Saved_Models/2_dt_model.pickle','rb'))"
   ]
  },
  {
   "cell_type": "markdown",
   "id": "1b38a707",
   "metadata": {},
   "source": [
    "To further analyze these results, the precision and recall scores can be determined for the decision tree model."
   ]
  },
  {
   "cell_type": "code",
   "execution_count": 32,
   "id": "b4231d06",
   "metadata": {},
   "outputs": [
    {
     "name": "stdout",
     "output_type": "stream",
     "text": [
      "              precision    recall  f1-score   support\n",
      "\n",
      "           0       0.29      0.31      0.30     69991\n",
      "           1       0.86      0.85      0.86    354573\n",
      "\n",
      "    accuracy                           0.76    424564\n",
      "   macro avg       0.58      0.58      0.58    424564\n",
      "weighted avg       0.77      0.76      0.77    424564\n",
      "\n"
     ]
    }
   ],
   "source": [
    "# Determine the precision and recall of the model\n",
    "\n",
    "class_report(decisiontree_model,X_test_ss,y_test)"
   ]
  },
  {
   "cell_type": "code",
   "execution_count": 33,
   "id": "a53aec2a",
   "metadata": {},
   "outputs": [
    {
     "data": {
      "image/png": "[encoded data removed]",
      "text/plain": [
       "<Figure size 640x480 with 2 Axes>"
      ]
     },
     "metadata": {},
     "output_type": "display_data"
    }
   ],
   "source": [
    "# Plot the decision matrix\n",
    "conf_matrix(decisiontree_model,X_test_ss,y_test, 'Decision Tree')"
   ]
  },
  {
   "cell_type": "markdown",
   "id": "e17d8060",
   "metadata": {},
   "source": [
    "Although the decision tree accuracy score is lower than the logistic regression accuracy score. The precision and recall are better for predicting the negative sentiment which makes this model better overall."
   ]
  },
  {
   "cell_type": "markdown",
   "id": "9e3c86f8",
   "metadata": {},
   "source": [
    "## 4.2 Decision Tree Hyperparameter Tuning<a class ='anchor' id='4.2dt_tuning'></a>"
   ]
  },
  {
   "cell_type": "markdown",
   "id": "c342d16a",
   "metadata": {},
   "source": [
    "First, the pipeline structure will be set up."
   ]
  },
  {
   "cell_type": "code",
   "execution_count": 34,
   "id": "19e58d72",
   "metadata": {},
   "outputs": [],
   "source": [
    "# Instantiate pipeline settings\n",
    "tree_estimators = [('model', DecisionTreeClassifier())]\n",
    "\n",
    "# Instantiate pipeline model\n",
    "tree_pipeline_model = Pipeline(tree_estimators, memory = cachedir)"
   ]
  },
  {
   "cell_type": "code",
   "execution_count": 35,
   "id": "a29efebd",
   "metadata": {},
   "outputs": [],
   "source": [
    "# Set up parameters for the pipeline\n",
    "tree_param_grid = [\n",
    "    \n",
    "    {'model__max_depth': [2, 4, 6, 8, 10, 12, 14, 16, 18, 20],\n",
    "     'model__min_samples_leaf': [2, 4, 6, 8, 10]}\n",
    "]\n",
    "\n",
    "# Instantiate grid search\n",
    "tree_gsearch = GridSearchCV(estimator=tree_pipeline_model, param_grid=tree_param_grid, cv = 5, verbose = 1, n_jobs = -1)"
   ]
  },
  {
   "cell_type": "markdown",
   "id": "e03e64ac",
   "metadata": {},
   "source": [
    "Fit the grid search with a 5 fold cross validation."
   ]
  },
  {
   "cell_type": "code",
   "execution_count": 36,
   "id": "b5f65153",
   "metadata": {},
   "outputs": [
    {
     "name": "stdout",
     "output_type": "stream",
     "text": [
      "Fitting 5 folds for each of 50 candidates, totalling 250 fits\n"
     ]
    }
   ],
   "source": [
    "fit_tree_grid = tree_gsearch.fit(X_train,y_train)"
   ]
  },
  {
   "cell_type": "code",
   "execution_count": 37,
   "id": "e4dec035",
   "metadata": {},
   "outputs": [
    {
     "data": {
      "text/plain": [
       "{'model__max_depth': 10, 'model__min_samples_leaf': 2}"
      ]
     },
     "execution_count": 37,
     "metadata": {},
     "output_type": "execute_result"
    }
   ],
   "source": [
    "# Determine the best decision tree hyper parameters\n",
    "fit_tree_grid.best_params_"
   ]
  },
  {
   "cell_type": "code",
   "execution_count": 38,
   "id": "5664a6e8",
   "metadata": {
    "scrolled": true
   },
   "outputs": [
    {
     "name": "stdout",
     "output_type": "stream",
     "text": [
      "Decision Tree model train set accuracy: 0.8387%\n",
      "Decision Tree model train set accuracy: 0.8372%\n"
     ]
    }
   ],
   "source": [
    "print(f'Decision Tree model train set accuracy: {round(tree_gsearch.score(X_train,y_train),4)}%')\n",
    "print(f'Decision Tree model train set accuracy: {round(tree_gsearch.score(X_test,y_test),4)}%')"
   ]
  },
  {
   "cell_type": "markdown",
   "id": "b03edcdd",
   "metadata": {},
   "source": [
    "The best parameters for the decision tree did not increase the baseline accuracies by a significant amount."
   ]
  },
  {
   "cell_type": "code",
   "execution_count": 39,
   "id": "72492753",
   "metadata": {},
   "outputs": [],
   "source": [
    "# Save the above model\n",
    "pickle.dump(fit_tree_grid, open('Saved_Models/2_dt_optimized_model.pickle','wb'))"
   ]
  },
  {
   "cell_type": "code",
   "execution_count": 40,
   "id": "79d83d7c",
   "metadata": {},
   "outputs": [],
   "source": [
    "# Load the saved model\n",
    "# fit_tree_grid = pickle.load(open('Saved_Models/2_dt_optimized_model.pickle','rb'))"
   ]
  },
  {
   "cell_type": "markdown",
   "id": "15bdf184",
   "metadata": {},
   "source": [
    "The classification report and decision matrix can be created to see if the hyperparameter tuning affected the original logistic regression results."
   ]
  },
  {
   "cell_type": "code",
   "execution_count": 41,
   "id": "3a2a0775",
   "metadata": {},
   "outputs": [
    {
     "name": "stdout",
     "output_type": "stream",
     "text": [
      "              precision    recall  f1-score   support\n",
      "\n",
      "           0       0.56      0.06      0.10     69991\n",
      "           1       0.84      0.99      0.91    354573\n",
      "\n",
      "    accuracy                           0.84    424564\n",
      "   macro avg       0.70      0.52      0.51    424564\n",
      "weighted avg       0.80      0.84      0.78    424564\n",
      "\n"
     ]
    }
   ],
   "source": [
    "# Determine the precision and recall of the model\n",
    "\n",
    "class_report(fit_tree_grid,X_test,y_test)"
   ]
  },
  {
   "cell_type": "code",
   "execution_count": 42,
   "id": "cfde48b8",
   "metadata": {
    "scrolled": false
   },
   "outputs": [
    {
     "data": {
      "image/png": "[encoded data removed]",
      "text/plain": [
       "<Figure size 640x480 with 2 Axes>"
      ]
     },
     "metadata": {},
     "output_type": "display_data"
    }
   ],
   "source": [
    "# Plot the decision matrix\n",
    "conf_matrix(fit_tree_grid,X_test_ss,y_test, 'Decision Tree')"
   ]
  },
  {
   "cell_type": "markdown",
   "id": "84e291ea",
   "metadata": {},
   "source": [
    "Although the accuracy of the new tree model increased, the precision and recall for the best decision tree model are performing just as poorly as the logistic regression model. This is most likely due to the numeric features not having any predictive power towards the sentiment prediction. "
   ]
  },
  {
   "cell_type": "markdown",
   "id": "de2e3357",
   "metadata": {},
   "source": [
    "# 5. XGBoost<a class ='anchor' id='5xgboost'></a>"
   ]
  },
  {
   "cell_type": "markdown",
   "id": "ae133aa5",
   "metadata": {},
   "source": [
    "An ensemble method can be experimented with to determine if the data can be fitted well. This section will use XGBoost to fit the model because XGboost is effective in fitting large scale datasets."
   ]
  },
  {
   "cell_type": "markdown",
   "id": "b212170f",
   "metadata": {},
   "source": [
    "## 5.1 XGboost Model<a class ='anchor' id='5.1xgboost_model'></a>"
   ]
  },
  {
   "cell_type": "markdown",
   "id": "8d41ff6d",
   "metadata": {},
   "source": [
    "The XGboost model with no hyper parameter tuning will be ran below to fit the data."
   ]
  },
  {
   "cell_type": "code",
   "execution_count": 43,
   "id": "0d40e6aa",
   "metadata": {
    "scrolled": false
   },
   "outputs": [
    {
     "name": "stdout",
     "output_type": "stream",
     "text": [
      "Train score: 0.8427190625026989\n",
      "Test score: 0.8410863850915292\n"
     ]
    }
   ],
   "source": [
    "from xgboost import XGBClassifier\n",
    "\n",
    "# Instantiate model\n",
    "XGB_model = XGBClassifier()\n",
    "\n",
    "# Fit model\n",
    "XGB_model.fit(X_train_ss,y_train)\n",
    "\n",
    "# Score the model\n",
    "print(f\"Train score: {XGB_model.score(X_train_ss,y_train)}\")\n",
    "print(f\"Test score: {XGB_model.score(X_test_ss,y_test)}\")"
   ]
  },
  {
   "cell_type": "markdown",
   "id": "9545cb60",
   "metadata": {},
   "source": [
    "The train and test scores are very slightly better than the baseline accuracy of 0.835. The XGBoost model is the best model to predict the sentiment of the reviews when the model can only train on the review numeric features."
   ]
  },
  {
   "cell_type": "markdown",
   "id": "88fef198",
   "metadata": {},
   "source": [
    "The above model can be saved so this notebook can be run without fitting the model again."
   ]
  },
  {
   "cell_type": "code",
   "execution_count": 44,
   "id": "6cc148c7",
   "metadata": {},
   "outputs": [],
   "source": [
    "# Save the above model\n",
    "pickle.dump(XGB_model, open('Saved_Models/2_xgb_model.pickle','wb'))"
   ]
  },
  {
   "cell_type": "code",
   "execution_count": 45,
   "id": "d040e126",
   "metadata": {},
   "outputs": [],
   "source": [
    "# Load the saved model\n",
    "# XGB_model = pickle.load(open('Saved_Models/2_xgb_model.pickle','rb'))"
   ]
  },
  {
   "cell_type": "markdown",
   "id": "ca44f2ee",
   "metadata": {},
   "source": [
    "To further analyze these results, the precision and recall scores can be determined for the XGBoost model."
   ]
  },
  {
   "cell_type": "code",
   "execution_count": 46,
   "id": "a8e45e64",
   "metadata": {
    "scrolled": true
   },
   "outputs": [
    {
     "name": "stdout",
     "output_type": "stream",
     "text": [
      "              precision    recall  f1-score   support\n",
      "\n",
      "           0       0.66      0.07      0.13     69991\n",
      "           1       0.84      0.99      0.91    354573\n",
      "\n",
      "    accuracy                           0.84    424564\n",
      "   macro avg       0.75      0.53      0.52    424564\n",
      "weighted avg       0.81      0.84      0.78    424564\n",
      "\n"
     ]
    }
   ],
   "source": [
    "# Determine the precision and recall of the model\n",
    "class_report(XGB_model,X_test_ss,y_test)"
   ]
  },
  {
   "cell_type": "code",
   "execution_count": 47,
   "id": "4bc5a92f",
   "metadata": {},
   "outputs": [
    {
     "data": {
      "image/png": "[encoded data removed]",
      "text/plain": [
       "<Figure size 640x480 with 2 Axes>"
      ]
     },
     "metadata": {},
     "output_type": "display_data"
    }
   ],
   "source": [
    "# Plot the decision matrix\n",
    "conf_matrix(XGB_model,X_test_ss,y_test, 'XGBoost')"
   ]
  },
  {
   "cell_type": "markdown",
   "id": "3faa5843",
   "metadata": {},
   "source": [
    "From the decision matrix and classification report above, the XGBoost model performs well in predicting positive reviews. The precision for negative reviews is decent but the recall is not great as the model is predicting positive reviews too often. This is a result of the unbalanced dataset and the model generalizing more to the positive reviews."
   ]
  },
  {
   "cell_type": "markdown",
   "id": "85cf67c1",
   "metadata": {},
   "source": [
    "**Due to time constraints, the XGBoost hyperparameter tuning will not be analyzed for now and will be future work.**"
   ]
  },
  {
   "cell_type": "markdown",
   "id": "f0921f3e",
   "metadata": {},
   "source": [
    "# 6. Summary<a class ='anchor' id='6summary'></a>"
   ]
  },
  {
   "cell_type": "markdown",
   "id": "db9ef050",
   "metadata": {},
   "source": [
    "None of the models are able to predict the sentiment well without the text data. Since the data is highly unbalanced, the models are unable to predict the negative reviews effectively. "
   ]
  }
 ],
 "metadata": {
  "kernelspec": {
   "display_name": "mlenv",
   "language": "python",
   "name": "mlenv"
  },
  "language_info": {
   "codemirror_mode": {
    "name": "ipython",
    "version": 3
   },
   "file_extension": ".py",
   "mimetype": "text/x-python",
   "name": "python",
   "nbconvert_exporter": "python",
   "pygments_lexer": "ipython3",
   "version": "3.8.13"
  }
 },
 "nbformat": 4,
 "nbformat_minor": 5
}
