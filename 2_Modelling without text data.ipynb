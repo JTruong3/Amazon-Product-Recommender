{
 "cells": [
  {
   "cell_type": "markdown",
   "id": "12a10bd9",
   "metadata": {},
   "source": [
    "# 2 Modelling without Text Data"
   ]
  },
  {
   "cell_type": "markdown",
   "id": "eee02172",
   "metadata": {},
   "source": [
    "- Author: Jason Truong\n",
    "- Last Modified: September 19, 2022\n",
    "- Email: Jasontruong19@gmail.com"
   ]
  },
  {
   "cell_type": "markdown",
   "id": "f1af099f",
   "metadata": {},
   "source": [
    "# Table of Contents\n",
    "\n",
    "1. **[Objective](#1Objective)**  \n",
    "2. **[Preliminary Data Setup](#2Preliminary)**  \n",
    "    2.1. [Set up Train/Test Split](#2.1traintest)  \n",
    "    2.2. [Scale data](#2.2scaledata)  \n",
    "3. **[Logistic Regression](#3logistic)**  \n",
    "    3.1 [Logistic model](#3.1logitmodel)  \n",
    "    3.2 [Logistic Hyperparameter tuning](#3.2logit_tuning)  \n",
    "4. **[Decision Tree](#4decisiontree)**  \n",
    "    4.1 [Decision Tree model](#4.1dtmodel)  \n",
    "    4.2 [Decision Tree Hyperparameter tuning](#4.2dt_tuning)  \n",
    "5. **[XGBoost](#5xgboost)**  \n",
    "    5.1 [XGBoost model](#5.1xgboost_model)  \n",
    "    5.2 [XGBoost Hyperparameter tuning](#5.2_xgboost_tuning)  \n",
    "6. **[Conclusion](#6conclusion)**\n"
   ]
  },
  {
   "cell_type": "markdown",
   "id": "b60a6b15",
   "metadata": {},
   "source": [
    "# 1. Objective and Roadmap<a class ='anchor' id='1Objective'></a>"
   ]
  },
  {
   "cell_type": "markdown",
   "id": "b99c95b7",
   "metadata": {},
   "source": [
    "\n",
    "**Goal 1:** Preprocess and finish cleaning the review data   \n",
    "**Goal 2:** Simple Exploratory data analysis and modelling\n"
   ]
  },
  {
   "cell_type": "markdown",
   "id": "2797ee2b",
   "metadata": {},
   "source": [
    "# 2. Preliminary Data Setup<a class ='anchor' id='2Preliminary'></a>"
   ]
  },
  {
   "cell_type": "code",
   "execution_count": 1,
   "id": "29dda388",
   "metadata": {},
   "outputs": [],
   "source": [
    "import json\n",
    "import pandas as pd\n",
    "import numpy as np\n",
    "import matplotlib.pyplot as plt\n",
    "\n",
    "from sklearn.model_selection import train_test_split"
   ]
  },
  {
   "cell_type": "markdown",
   "id": "e214e861",
   "metadata": {},
   "source": [
    "Load in the dataset"
   ]
  },
  {
   "cell_type": "code",
   "execution_count": 2,
   "id": "f5e10b36",
   "metadata": {},
   "outputs": [],
   "source": [
    "review_df = pd.read_json('numeric_review.json')"
   ]
  },
  {
   "cell_type": "code",
   "execution_count": 3,
   "id": "80a23629",
   "metadata": {
    "scrolled": true
   },
   "outputs": [
    {
     "data": {
      "text/html": [
       "<div>\n",
       "<style scoped>\n",
       "    .dataframe tbody tr th:only-of-type {\n",
       "        vertical-align: middle;\n",
       "    }\n",
       "\n",
       "    .dataframe tbody tr th {\n",
       "        vertical-align: top;\n",
       "    }\n",
       "\n",
       "    .dataframe thead th {\n",
       "        text-align: right;\n",
       "    }\n",
       "</style>\n",
       "<table border=\"1\" class=\"dataframe\">\n",
       "  <thead>\n",
       "    <tr style=\"text-align: right;\">\n",
       "      <th></th>\n",
       "      <th>reviewScore</th>\n",
       "      <th>verified</th>\n",
       "      <th>vote</th>\n",
       "      <th>reviewDay</th>\n",
       "      <th>reviewMonth</th>\n",
       "      <th>reviewYear</th>\n",
       "      <th>style_Amazon Video</th>\n",
       "      <th>style_Blu-ray</th>\n",
       "      <th>style_DVD</th>\n",
       "      <th>style_Other</th>\n",
       "      <th>style_VHS Tape</th>\n",
       "      <th>reviewer_ID</th>\n",
       "      <th>itemID</th>\n",
       "    </tr>\n",
       "  </thead>\n",
       "  <tbody>\n",
       "    <tr>\n",
       "      <th>0</th>\n",
       "      <td>5</td>\n",
       "      <td>1</td>\n",
       "      <td>4</td>\n",
       "      <td>2</td>\n",
       "      <td>11</td>\n",
       "      <td>2002</td>\n",
       "      <td>0</td>\n",
       "      <td>0</td>\n",
       "      <td>1</td>\n",
       "      <td>0</td>\n",
       "      <td>0</td>\n",
       "      <td>0</td>\n",
       "      <td>0</td>\n",
       "    </tr>\n",
       "    <tr>\n",
       "      <th>1</th>\n",
       "      <td>5</td>\n",
       "      <td>0</td>\n",
       "      <td>3</td>\n",
       "      <td>28</td>\n",
       "      <td>1</td>\n",
       "      <td>2002</td>\n",
       "      <td>0</td>\n",
       "      <td>0</td>\n",
       "      <td>1</td>\n",
       "      <td>0</td>\n",
       "      <td>0</td>\n",
       "      <td>1</td>\n",
       "      <td>0</td>\n",
       "    </tr>\n",
       "    <tr>\n",
       "      <th>2</th>\n",
       "      <td>5</td>\n",
       "      <td>0</td>\n",
       "      <td>2</td>\n",
       "      <td>12</td>\n",
       "      <td>12</td>\n",
       "      <td>2001</td>\n",
       "      <td>0</td>\n",
       "      <td>0</td>\n",
       "      <td>1</td>\n",
       "      <td>0</td>\n",
       "      <td>0</td>\n",
       "      <td>2</td>\n",
       "      <td>0</td>\n",
       "    </tr>\n",
       "    <tr>\n",
       "      <th>3</th>\n",
       "      <td>3</td>\n",
       "      <td>0</td>\n",
       "      <td>31</td>\n",
       "      <td>11</td>\n",
       "      <td>12</td>\n",
       "      <td>2001</td>\n",
       "      <td>0</td>\n",
       "      <td>0</td>\n",
       "      <td>0</td>\n",
       "      <td>0</td>\n",
       "      <td>1</td>\n",
       "      <td>3</td>\n",
       "      <td>0</td>\n",
       "    </tr>\n",
       "    <tr>\n",
       "      <th>4</th>\n",
       "      <td>4</td>\n",
       "      <td>0</td>\n",
       "      <td>62</td>\n",
       "      <td>19</td>\n",
       "      <td>10</td>\n",
       "      <td>2001</td>\n",
       "      <td>0</td>\n",
       "      <td>0</td>\n",
       "      <td>1</td>\n",
       "      <td>0</td>\n",
       "      <td>0</td>\n",
       "      <td>4</td>\n",
       "      <td>0</td>\n",
       "    </tr>\n",
       "  </tbody>\n",
       "</table>\n",
       "</div>"
      ],
      "text/plain": [
       "   reviewScore  verified  vote  reviewDay  reviewMonth  reviewYear  \\\n",
       "0            5         1     4          2           11        2002   \n",
       "1            5         0     3         28            1        2002   \n",
       "2            5         0     2         12           12        2001   \n",
       "3            3         0    31         11           12        2001   \n",
       "4            4         0    62         19           10        2001   \n",
       "\n",
       "   style_Amazon Video  style_Blu-ray  style_DVD  style_Other  style_VHS Tape  \\\n",
       "0                   0              0          1            0               0   \n",
       "1                   0              0          1            0               0   \n",
       "2                   0              0          1            0               0   \n",
       "3                   0              0          0            0               1   \n",
       "4                   0              0          1            0               0   \n",
       "\n",
       "   reviewer_ID  itemID  \n",
       "0            0       0  \n",
       "1            1       0  \n",
       "2            2       0  \n",
       "3            3       0  \n",
       "4            4       0  "
      ]
     },
     "execution_count": 3,
     "metadata": {},
     "output_type": "execute_result"
    }
   ],
   "source": [
    "review_df.head()"
   ]
  },
  {
   "cell_type": "code",
   "execution_count": 4,
   "id": "98c83366",
   "metadata": {},
   "outputs": [],
   "source": [
    "review_df['reviewClass'] = np.where(review_df['reviewScore']>=4,1,0)"
   ]
  },
  {
   "cell_type": "code",
   "execution_count": 5,
   "id": "2407156f",
   "metadata": {},
   "outputs": [
    {
     "data": {
      "text/plain": [
       "3279    24436\n",
       "2194    16643\n",
       "2811    10032\n",
       "2248     6695\n",
       "258      6379\n",
       "        ...  \n",
       "2850      100\n",
       "2326      100\n",
       "2570      100\n",
       "1222      100\n",
       "3054      100\n",
       "Name: itemID, Length: 3744, dtype: int64"
      ]
     },
     "execution_count": 5,
     "metadata": {},
     "output_type": "execute_result"
    }
   ],
   "source": [
    "review_df['itemID'].value_counts()"
   ]
  },
  {
   "cell_type": "markdown",
   "id": "044742d9",
   "metadata": {},
   "source": [
    "## 2.1 Setup train and test split<a class ='anchor' id='2.1traintest'></a>"
   ]
  },
  {
   "cell_type": "code",
   "execution_count": 6,
   "id": "b1adc717",
   "metadata": {},
   "outputs": [],
   "source": [
    "# The prediction is for the reviewScore\n",
    "X = review_df.drop(columns = 'reviewScore')\n",
    "y = review_df['reviewScore']\n",
    "\n",
    "\n",
    "X_train, X_test, y_train, y_test = train_test_split(X,y, test_size = 0.25, stratify = y)"
   ]
  },
  {
   "cell_type": "markdown",
   "id": "69d7d87e",
   "metadata": {},
   "source": [
    "## 2.2 Scale the data<a class ='anchor' id='2.2scaledata'></a>"
   ]
  },
  {
   "cell_type": "code",
   "execution_count": 7,
   "id": "64ecc0c6",
   "metadata": {},
   "outputs": [],
   "source": [
    "from sklearn.preprocessing import StandardScaler\n",
    "\n",
    "# Instantiate Scaler\n",
    "ss = StandardScaler()\n",
    "\n",
    "# Fit the Scaler\n",
    "ss.fit(X_train)\n",
    "\n",
    "# Transform\n",
    "X_train_ss = ss.transform(X_train)\n",
    "X_test_ss = ss.transform(X_test)"
   ]
  },
  {
   "cell_type": "markdown",
   "id": "213bcc1d",
   "metadata": {},
   "source": [
    "# 3. Logistic Regression<a class ='anchor' id='3logistic'></a>"
   ]
  },
  {
   "cell_type": "markdown",
   "id": "b8f21caf",
   "metadata": {},
   "source": [
    "## 3.1 Logistic Model<a class ='anchor' id='3.1logitmodel'></a>"
   ]
  },
  {
   "cell_type": "code",
   "execution_count": 8,
   "id": "98453ab5",
   "metadata": {},
   "outputs": [
    {
     "name": "stdout",
     "output_type": "stream",
     "text": [
      "Train score: 0.8349934717187634\n",
      "Test score: 0.8350307609688998\n"
     ]
    }
   ],
   "source": [
    "from sklearn.linear_model import LogisticRegression\n",
    "\n",
    "# Instantiate\n",
    "logreg = LogisticRegression(C = 1)\n",
    "\n",
    "# Fit the model\n",
    "logreg.fit(X_train_ss,y_train)\n",
    "\n",
    "# Score the model\n",
    "print(f\"Train score: {logreg.score(X_train_ss,y_train)}\")\n",
    "print(f\"Test score: {logreg.score(X_test_ss,y_test)}\")"
   ]
  },
  {
   "cell_type": "markdown",
   "id": "9b20fda1",
   "metadata": {},
   "source": [
    "## 3.2 Logistic Hyperparameter Tuning <a class ='anchor' id='3.2logit_tuning'></a>"
   ]
  },
  {
   "cell_type": "markdown",
   "id": "985caf41",
   "metadata": {},
   "source": [
    "**Create a ML Pipelines to determine the best hyper parameters** "
   ]
  },
  {
   "cell_type": "code",
   "execution_count": 10,
   "id": "522dd32b",
   "metadata": {},
   "outputs": [],
   "source": [
    "# Set up caching for the pipeline.\n",
    "from tempfile import mkdtemp\n",
    "cachedir = mkdtemp()"
   ]
  },
  {
   "cell_type": "code",
   "execution_count": 11,
   "id": "b0b0c0f7",
   "metadata": {},
   "outputs": [],
   "source": [
    "from sklearn.pipeline import Pipeline\n",
    "\n",
    "# Instantiate pipeline settings\n",
    "estimators = [('normalize', StandardScaler()),\n",
    "             ('model', LogisticRegression())]\n",
    "\n",
    "# Instantiate pipeline model\n",
    "pipeline_model = Pipeline(estimators, memory = cachedir)"
   ]
  },
  {
   "cell_type": "code",
   "execution_count": 12,
   "id": "5abca16d",
   "metadata": {},
   "outputs": [],
   "source": [
    "from sklearn.model_selection import GridSearchCV\n",
    "\n",
    "# Set up parameters for the pipeline\n",
    "logit_param_grid = [\n",
    "    \n",
    "    {'normalize': [None, StandardScaler()],\n",
    "     'model__solver': ['lbfgs', 'liblinear'],\n",
    "     'model__penalty': ['l2'],\n",
    "     'model__C': [0.0001, 0.001, 0.01, 0.1, 1, 10, 100, 1000, 10000]}\n",
    "]\n",
    "\n",
    "# Instantiate grid search\n",
    "logit_gsearch = GridSearchCV(estimator=pipeline_model, param_grid=logit_param_grid, cv = 5, verbose = 1, n_jobs = -1)"
   ]
  },
  {
   "cell_type": "markdown",
   "id": "191ecf14",
   "metadata": {},
   "source": [
    "Fit the grid search with a 5 fold cross validation."
   ]
  },
  {
   "cell_type": "code",
   "execution_count": 13,
   "id": "7c80de52",
   "metadata": {},
   "outputs": [
    {
     "name": "stdout",
     "output_type": "stream",
     "text": [
      "Fitting 5 folds for each of 36 candidates, totalling 180 fits\n"
     ]
    }
   ],
   "source": [
    "fit_logit_grid = logit_gsearch.fit(X_train,y_train)"
   ]
  },
  {
   "cell_type": "code",
   "execution_count": 14,
   "id": "ad442f79",
   "metadata": {},
   "outputs": [
    {
     "data": {
      "text/plain": [
       "{'model__C': 0.0001,\n",
       " 'model__penalty': 'l2',\n",
       " 'model__solver': 'lbfgs',\n",
       " 'normalize': None}"
      ]
     },
     "execution_count": 14,
     "metadata": {},
     "output_type": "execute_result"
    }
   ],
   "source": [
    "fit_logit_grid.best_params_"
   ]
  },
  {
   "cell_type": "code",
   "execution_count": 15,
   "id": "ecebd991",
   "metadata": {},
   "outputs": [
    {
     "data": {
      "text/plain": [
       "0.8351465703166158"
      ]
     },
     "execution_count": 15,
     "metadata": {},
     "output_type": "execute_result"
    }
   ],
   "source": [
    "logit_gsearch.score(X_train,y_train)"
   ]
  },
  {
   "cell_type": "code",
   "execution_count": 16,
   "id": "ec676355",
   "metadata": {},
   "outputs": [
    {
     "data": {
      "text/plain": [
       "0.8351461734862118"
      ]
     },
     "execution_count": 16,
     "metadata": {},
     "output_type": "execute_result"
    }
   ],
   "source": [
    "logit_gsearch.score(X_test,y_test)"
   ]
  },
  {
   "cell_type": "markdown",
   "id": "5d07fd17",
   "metadata": {},
   "source": [
    "# 4. Decision Tree<a class ='anchor' id='4decisiontree'></a>"
   ]
  },
  {
   "cell_type": "markdown",
   "id": "769b8ca6",
   "metadata": {},
   "source": [
    "## 4.1 Decision Tree Model<a class ='anchor' id='4.1dtmodel'></a>"
   ]
  },
  {
   "cell_type": "code",
   "execution_count": 9,
   "id": "211cc98f",
   "metadata": {},
   "outputs": [
    {
     "name": "stdout",
     "output_type": "stream",
     "text": [
      "Train score: 0.9999450415289761\n",
      "Test score: 0.7616519535335073\n"
     ]
    }
   ],
   "source": [
    "from sklearn.tree import DecisionTreeClassifier\n",
    "\n",
    "# Instantiate\n",
    "decisiontree_model = DecisionTreeClassifier()\n",
    "\n",
    "# Fit the model\n",
    "decisiontree_model.fit(X_train_ss,y_train)\n",
    "\n",
    "# Score the model\n",
    "print(f\"Train score: {decisiontree_model.score(X_train_ss,y_train)}\")\n",
    "print(f\"Test score: {decisiontree_model.score(X_test_ss,y_test)}\")"
   ]
  },
  {
   "cell_type": "markdown",
   "id": "9e3c86f8",
   "metadata": {},
   "source": [
    "## 4.2 Decision Tree Hyperparameter Tuning<a class ='anchor' id='4.2dt_tuning'></a>"
   ]
  },
  {
   "cell_type": "code",
   "execution_count": 17,
   "id": "19e58d72",
   "metadata": {},
   "outputs": [],
   "source": [
    "# Instantiate pipeline settings\n",
    "tree_estimators = [('model', DecisionTreeClassifier())]\n",
    "\n",
    "# Instantiate pipeline model\n",
    "tree_pipeline_model = Pipeline(tree_estimators, memory = cachedir)"
   ]
  },
  {
   "cell_type": "code",
   "execution_count": 18,
   "id": "a29efebd",
   "metadata": {},
   "outputs": [],
   "source": [
    "# Set up parameters for the pipeline\n",
    "tree_param_grid = [\n",
    "    \n",
    "    {'model__max_depth': [2, 4, 6, 8, 10, 12, 14, 16, 18, 20],\n",
    "     'model__min_samples_leaf': [2, 4, 6, 8, 10]}\n",
    "]\n",
    "\n",
    "# Instantiate grid search\n",
    "tree_gsearch = GridSearchCV(estimator=tree_pipeline_model, param_grid=tree_param_grid, cv = 5, verbose = 1, n_jobs = -1)"
   ]
  },
  {
   "cell_type": "markdown",
   "id": "e03e64ac",
   "metadata": {},
   "source": [
    "Fit the grid search with a 5 fold cross validation."
   ]
  },
  {
   "cell_type": "code",
   "execution_count": 19,
   "id": "b5f65153",
   "metadata": {},
   "outputs": [
    {
     "name": "stdout",
     "output_type": "stream",
     "text": [
      "Fitting 5 folds for each of 50 candidates, totalling 250 fits\n"
     ]
    }
   ],
   "source": [
    "fit_tree_grid = tree_gsearch.fit(X_train,y_train)"
   ]
  },
  {
   "cell_type": "code",
   "execution_count": 20,
   "id": "e4dec035",
   "metadata": {},
   "outputs": [
    {
     "data": {
      "text/plain": [
       "{'model__max_depth': 12, 'model__min_samples_leaf': 10}"
      ]
     },
     "execution_count": 20,
     "metadata": {},
     "output_type": "execute_result"
    }
   ],
   "source": [
    "# Determine the best decision tree hyper parameters\n",
    "fit_tree_grid.best_params_"
   ]
  },
  {
   "cell_type": "code",
   "execution_count": 21,
   "id": "5664a6e8",
   "metadata": {},
   "outputs": [
    {
     "name": "stdout",
     "output_type": "stream",
     "text": [
      "Decision Tree model train set accuracy: 0.8406047316103068%\n",
      "Decision Tree model train set accuracy: 0.8373861184650606%\n"
     ]
    }
   ],
   "source": [
    "print(f'Decision Tree model train set accuracy: {tree_gsearch.score(X_train,y_train)}%')\n",
    "print(f'Decision Tree model train set accuracy: {tree_gsearch.score(X_test,y_test)}%')"
   ]
  },
  {
   "cell_type": "markdown",
   "id": "de2e3357",
   "metadata": {},
   "source": [
    "# 5. XGBoost<a class ='anchor' id='5xgboost'></a>"
   ]
  },
  {
   "cell_type": "markdown",
   "id": "b212170f",
   "metadata": {},
   "source": [
    "## 5.1 XGboost Model<a class ='anchor' id='5.1xgboost_model'></a>"
   ]
  },
  {
   "cell_type": "code",
   "execution_count": 10,
   "id": "0d40e6aa",
   "metadata": {},
   "outputs": [
    {
     "name": "stderr",
     "output_type": "stream",
     "text": [
      "C:\\Users\\jason\\anaconda3\\envs\\mlenv\\lib\\site-packages\\xgboost\\compat.py:93: FutureWarning: pandas.Int64Index is deprecated and will be removed from pandas in a future version. Use pandas.Index with the appropriate dtype instead.\n",
      "  from pandas import MultiIndex, Int64Index\n"
     ]
    },
    {
     "name": "stdout",
     "output_type": "stream",
     "text": [
      "Train score: 0.8424379891794622\n",
      "Test score: 0.8410557654440791\n"
     ]
    }
   ],
   "source": [
    "from xgboost import XGBClassifier\n",
    "\n",
    "# Instantiate model\n",
    "XGB_model = XGBClassifier()\n",
    "\n",
    "# Fit model\n",
    "XGB_model.fit(X_train_ss,y_train)\n",
    "\n",
    "# Score the model\n",
    "print(f\"Train score: {XGB_model.score(X_train_ss,y_train)}\")\n",
    "print(f\"Test score: {XGB_model.score(X_test_ss,y_test)}\")"
   ]
  },
  {
   "cell_type": "markdown",
   "id": "4445e1a3",
   "metadata": {},
   "source": [
    "## 5.2 XGBoost Hyperparameter Tuning<a class ='anchor' id='5.2_xgboost_tuning'></a>"
   ]
  },
  {
   "cell_type": "code",
   "execution_count": null,
   "id": "3c095536",
   "metadata": {},
   "outputs": [],
   "source": []
  },
  {
   "cell_type": "markdown",
   "id": "f0921f3e",
   "metadata": {},
   "source": [
    "# 6. Conclusion<a class ='anchor' id='6conclusion'></a>"
   ]
  },
  {
   "cell_type": "code",
   "execution_count": null,
   "id": "eaf6ae35",
   "metadata": {},
   "outputs": [],
   "source": []
  },
  {
   "cell_type": "code",
   "execution_count": null,
   "id": "686d19f3",
   "metadata": {},
   "outputs": [],
   "source": []
  }
 ],
 "metadata": {
  "kernelspec": {
   "display_name": "mlenv",
   "language": "python",
   "name": "mlenv"
  },
  "language_info": {
   "codemirror_mode": {
    "name": "ipython",
    "version": 3
   },
   "file_extension": ".py",
   "mimetype": "text/x-python",
   "name": "python",
   "nbconvert_exporter": "python",
   "pygments_lexer": "ipython3",
   "version": "3.8.13"
  }
 },
 "nbformat": 4,
 "nbformat_minor": 5
}
