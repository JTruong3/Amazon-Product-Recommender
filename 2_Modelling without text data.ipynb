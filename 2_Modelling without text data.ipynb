{
 "cells": [
  {
   "cell_type": "markdown",
   "id": "12a10bd9",
   "metadata": {},
   "source": [
    "# 2 Modelling without Text Data"
   ]
  },
  {
   "cell_type": "markdown",
   "id": "eee02172",
   "metadata": {},
   "source": [
    "- Author: Jason Truong\n",
    "- Last Modified: August 26, 2022\n",
    "- Email: Jasontruong19@gmail.com"
   ]
  },
  {
   "cell_type": "markdown",
   "id": "f1af099f",
   "metadata": {},
   "source": [
    "# Table of Contents\n",
    "\n",
    "1. [Objective and Roadmap](#1Objective)  \n",
    "2. [Preliminary Data Setup](#2Preliminary)  \n",
    "    2.1. [Preprocessing: 'Overall'](#2_1Overall)  \n",
    "    2.2. [Preprocessing: 'reviewScore'](#2_2Review)  \n",
    "    2.3. [Preprocessing: 'Vote'](#2_3Vote)  \n",
    "    2.4. [Drop duplicates and NaNs](#2_4Drop)  \n",
    "3. [Test/Train Setup](#4Test_Train)  \n",
    "4. [NLP Analysis Setup](#3NLP)  \n",
    "5. [Advanced Models](#5AdvancedModels)  "
   ]
  },
  {
   "cell_type": "markdown",
   "id": "b60a6b15",
   "metadata": {},
   "source": [
    "# 1. Objective and Roadmap<a class ='anchor' id='1Objective'></a>"
   ]
  },
  {
   "cell_type": "markdown",
   "id": "b99c95b7",
   "metadata": {},
   "source": [
    "\n",
    "**Goal 1:** Preprocess and finish cleaning the review data   \n",
    "**Goal 2:** Simple Exploratory data analysis and modelling\n",
    "\n",
    "Data analysis Roadmap:\n",
    "1. Load in the data\n",
    "2. Clean data\n",
    "    - Check for nulls\n",
    "    - Unpack any\n",
    "3. Preprocessing\n",
    "4. EDA"
   ]
  },
  {
   "cell_type": "markdown",
   "id": "2797ee2b",
   "metadata": {},
   "source": [
    "# 2. Preliminary Data Setup<a class ='anchor' id='2Preliminary'></a>"
   ]
  },
  {
   "cell_type": "code",
   "execution_count": 1,
   "id": "29dda388",
   "metadata": {},
   "outputs": [],
   "source": [
    "import json\n",
    "import pandas as pd\n",
    "import numpy as np\n",
    "import matplotlib.pyplot as plt\n",
    "\n",
    "from sklearn.model_selection import train_test_split"
   ]
  },
  {
   "cell_type": "markdown",
   "id": "e214e861",
   "metadata": {},
   "source": [
    "Load in the dataset"
   ]
  },
  {
   "cell_type": "code",
   "execution_count": 2,
   "id": "f5e10b36",
   "metadata": {},
   "outputs": [],
   "source": [
    "review_df = pd.read_json('numeric_review.json')"
   ]
  },
  {
   "cell_type": "code",
   "execution_count": 3,
   "id": "80a23629",
   "metadata": {
    "scrolled": true
   },
   "outputs": [
    {
     "data": {
      "text/html": [
       "<div>\n",
       "<style scoped>\n",
       "    .dataframe tbody tr th:only-of-type {\n",
       "        vertical-align: middle;\n",
       "    }\n",
       "\n",
       "    .dataframe tbody tr th {\n",
       "        vertical-align: top;\n",
       "    }\n",
       "\n",
       "    .dataframe thead th {\n",
       "        text-align: right;\n",
       "    }\n",
       "</style>\n",
       "<table border=\"1\" class=\"dataframe\">\n",
       "  <thead>\n",
       "    <tr style=\"text-align: right;\">\n",
       "      <th></th>\n",
       "      <th>reviewScore</th>\n",
       "      <th>verified</th>\n",
       "      <th>vote</th>\n",
       "      <th>reviewDay</th>\n",
       "      <th>reviewMonth</th>\n",
       "      <th>reviewYear</th>\n",
       "      <th>style_Amazon Video</th>\n",
       "      <th>style_Blu-ray</th>\n",
       "      <th>style_DVD</th>\n",
       "      <th>style_Other</th>\n",
       "      <th>style_VHS Tape</th>\n",
       "      <th>reviewer_ID</th>\n",
       "      <th>itemID</th>\n",
       "    </tr>\n",
       "  </thead>\n",
       "  <tbody>\n",
       "    <tr>\n",
       "      <th>0</th>\n",
       "      <td>5</td>\n",
       "      <td>1</td>\n",
       "      <td>0</td>\n",
       "      <td>11</td>\n",
       "      <td>3</td>\n",
       "      <td>2013</td>\n",
       "      <td>0</td>\n",
       "      <td>0</td>\n",
       "      <td>0</td>\n",
       "      <td>0</td>\n",
       "      <td>1</td>\n",
       "      <td>0</td>\n",
       "      <td>0</td>\n",
       "    </tr>\n",
       "    <tr>\n",
       "      <th>1</th>\n",
       "      <td>5</td>\n",
       "      <td>1</td>\n",
       "      <td>3</td>\n",
       "      <td>18</td>\n",
       "      <td>2</td>\n",
       "      <td>2013</td>\n",
       "      <td>1</td>\n",
       "      <td>0</td>\n",
       "      <td>0</td>\n",
       "      <td>0</td>\n",
       "      <td>0</td>\n",
       "      <td>1</td>\n",
       "      <td>0</td>\n",
       "    </tr>\n",
       "    <tr>\n",
       "      <th>2</th>\n",
       "      <td>5</td>\n",
       "      <td>0</td>\n",
       "      <td>0</td>\n",
       "      <td>17</td>\n",
       "      <td>1</td>\n",
       "      <td>2013</td>\n",
       "      <td>1</td>\n",
       "      <td>0</td>\n",
       "      <td>0</td>\n",
       "      <td>0</td>\n",
       "      <td>0</td>\n",
       "      <td>2</td>\n",
       "      <td>0</td>\n",
       "    </tr>\n",
       "    <tr>\n",
       "      <th>3</th>\n",
       "      <td>5</td>\n",
       "      <td>1</td>\n",
       "      <td>0</td>\n",
       "      <td>10</td>\n",
       "      <td>1</td>\n",
       "      <td>2013</td>\n",
       "      <td>1</td>\n",
       "      <td>0</td>\n",
       "      <td>0</td>\n",
       "      <td>0</td>\n",
       "      <td>0</td>\n",
       "      <td>3</td>\n",
       "      <td>0</td>\n",
       "    </tr>\n",
       "    <tr>\n",
       "      <th>4</th>\n",
       "      <td>4</td>\n",
       "      <td>1</td>\n",
       "      <td>0</td>\n",
       "      <td>26</td>\n",
       "      <td>12</td>\n",
       "      <td>2012</td>\n",
       "      <td>1</td>\n",
       "      <td>0</td>\n",
       "      <td>0</td>\n",
       "      <td>0</td>\n",
       "      <td>0</td>\n",
       "      <td>4</td>\n",
       "      <td>0</td>\n",
       "    </tr>\n",
       "  </tbody>\n",
       "</table>\n",
       "</div>"
      ],
      "text/plain": [
       "   reviewScore  verified  vote  reviewDay  reviewMonth  reviewYear  \\\n",
       "0            5         1     0         11            3        2013   \n",
       "1            5         1     3         18            2        2013   \n",
       "2            5         0     0         17            1        2013   \n",
       "3            5         1     0         10            1        2013   \n",
       "4            4         1     0         26           12        2012   \n",
       "\n",
       "   style_Amazon Video  style_Blu-ray  style_DVD  style_Other  style_VHS Tape  \\\n",
       "0                   0              0          0            0               1   \n",
       "1                   1              0          0            0               0   \n",
       "2                   1              0          0            0               0   \n",
       "3                   1              0          0            0               0   \n",
       "4                   1              0          0            0               0   \n",
       "\n",
       "   reviewer_ID  itemID  \n",
       "0            0       0  \n",
       "1            1       0  \n",
       "2            2       0  \n",
       "3            3       0  \n",
       "4            4       0  "
      ]
     },
     "execution_count": 3,
     "metadata": {},
     "output_type": "execute_result"
    }
   ],
   "source": [
    "review_df.head()"
   ]
  },
  {
   "cell_type": "code",
   "execution_count": 4,
   "id": "98c83366",
   "metadata": {},
   "outputs": [],
   "source": [
    "review_df['reviewScore'] = np.where(review_df['reviewScore']>=4,1,0)"
   ]
  },
  {
   "cell_type": "code",
   "execution_count": 5,
   "id": "2407156f",
   "metadata": {},
   "outputs": [
    {
     "data": {
      "text/plain": [
       "12517    24478\n",
       "7826     16661\n",
       "10567    10051\n",
       "8021      6709\n",
       "425       6385\n",
       "         ...  \n",
       "4914         1\n",
       "6749         1\n",
       "4033         1\n",
       "10418        1\n",
       "11056        1\n",
       "Name: itemID, Length: 15434, dtype: int64"
      ]
     },
     "execution_count": 5,
     "metadata": {},
     "output_type": "execute_result"
    }
   ],
   "source": [
    "review_df['itemID'].value_counts()"
   ]
  },
  {
   "cell_type": "code",
   "execution_count": null,
   "id": "36561bce",
   "metadata": {},
   "outputs": [],
   "source": []
  },
  {
   "cell_type": "markdown",
   "id": "044742d9",
   "metadata": {},
   "source": [
    "**Setup train and test split**"
   ]
  },
  {
   "cell_type": "code",
   "execution_count": null,
   "id": "b1adc717",
   "metadata": {},
   "outputs": [],
   "source": [
    "# The prediction is for the reviewScore\n",
    "X = review_df.drop(columns = 'reviewScore')\n",
    "y = review_df['reviewScore']\n",
    "\n",
    "\n",
    "X_train, X_test, y_train, y_test = train_test_split(X,y, test_size = 0.25, stratify = y)"
   ]
  },
  {
   "cell_type": "code",
   "execution_count": null,
   "id": "1529e4b6",
   "metadata": {},
   "outputs": [],
   "source": []
  },
  {
   "cell_type": "markdown",
   "id": "69d7d87e",
   "metadata": {},
   "source": [
    "**Scale the data**"
   ]
  },
  {
   "cell_type": "code",
   "execution_count": null,
   "id": "64ecc0c6",
   "metadata": {},
   "outputs": [],
   "source": [
    "from sklearn.preprocessing import StandardScaler\n",
    "\n",
    "# Instantiate Scaler\n",
    "ss = StandardScaler()\n",
    "\n",
    "# Fit the Scaler\n",
    "ss.fit(X_train)\n",
    "\n",
    "# Transform\n",
    "X_train_ss = ss.transform(X_train)\n",
    "X_test_ss = ss.transform(X_test)"
   ]
  },
  {
   "cell_type": "code",
   "execution_count": null,
   "id": "86a3996d",
   "metadata": {},
   "outputs": [],
   "source": []
  },
  {
   "cell_type": "code",
   "execution_count": null,
   "id": "98453ab5",
   "metadata": {},
   "outputs": [],
   "source": [
    "from sklearn.linear_model import LogisticRegression\n",
    "\n",
    "# Instantiate\n",
    "logreg = LogisticRegression(C = 1)\n",
    "\n",
    "# Fit the model\n",
    "logreg.fit(X_train_ss,y_train)\n",
    "\n",
    "# Score the model\n",
    "print(f\"Train score: {logreg.score(X_train_ss,y_train)}\")\n",
    "print(f\"Test score: {logreg.score(X_test_ss,y_test)}\")"
   ]
  },
  {
   "cell_type": "code",
   "execution_count": null,
   "id": "211cc98f",
   "metadata": {},
   "outputs": [],
   "source": [
    "from sklearn.tree import DecisionTreeClassifier\n",
    "\n",
    "# Instantiate\n",
    "decisiontree_model = DecisionTreeClassifier()\n",
    "\n",
    "# Fit the model\n",
    "decisiontree_model.fit(X_train_ss,y_train)\n",
    "\n",
    "# Score the model\n",
    "print(f\"Train score: {decisiontree_model.score(X_train_ss,y_train)}\")\n",
    "print(f\"Test score: {decisiontree_model.score(X_test_ss,y_test)}\")"
   ]
  },
  {
   "cell_type": "markdown",
   "id": "985caf41",
   "metadata": {},
   "source": [
    "**Create ML Pipelines to determine the best model** "
   ]
  },
  {
   "cell_type": "markdown",
   "id": "e75acc30",
   "metadata": {},
   "source": [
    "Set up caching for the pipeline."
   ]
  },
  {
   "cell_type": "code",
   "execution_count": null,
   "id": "522dd32b",
   "metadata": {},
   "outputs": [],
   "source": [
    "from tempfile import mkdtemp\n",
    "cachedir = mkdtemp()"
   ]
  },
  {
   "cell_type": "markdown",
   "id": "6bc5b9c1",
   "metadata": {},
   "source": [
    "## Logistic Regression Hyperparameter Tuning"
   ]
  },
  {
   "cell_type": "code",
   "execution_count": null,
   "id": "b0b0c0f7",
   "metadata": {},
   "outputs": [],
   "source": [
    "from sklearn.pipeline import Pipeline\n",
    "\n",
    "# Instantiate pipeline settings\n",
    "estimators = [('normalize', StandardScaler()),\n",
    "             ('model', LogisticRegression())]\n",
    "\n",
    "# Instantiate pipeline model\n",
    "pipeline_model = Pipeline(estimators, memory = cachedir)"
   ]
  },
  {
   "cell_type": "code",
   "execution_count": null,
   "id": "5abca16d",
   "metadata": {},
   "outputs": [],
   "source": [
    "from sklearn.model_selection import GridSearchCV\n",
    "\n",
    "# Set up parameters for the pipeline\n",
    "logit_param_grid = [\n",
    "    \n",
    "    {'normalize': [None, StandardScaler()],\n",
    "     'model__solver': ['lbfgs', 'liblinear'],\n",
    "     'model__penalty': ['l2'],\n",
    "     'model__C': [0.0001, 0.001, 0.01, 0.1, 1, 10, 100, 1000, 10000]}\n",
    "]\n",
    "\n",
    "# Instantiate grid search\n",
    "logit_gsearch = GridSearchCV(estimator=pipeline_model, param_grid=logit_param_grid, cv = 5, verbose = 1, n_jobs = -1)"
   ]
  },
  {
   "cell_type": "markdown",
   "id": "191ecf14",
   "metadata": {},
   "source": [
    "Fit the grid search with a 5 fold cross validation."
   ]
  },
  {
   "cell_type": "code",
   "execution_count": null,
   "id": "7c80de52",
   "metadata": {},
   "outputs": [],
   "source": [
    "fit_logit_grid = logit_gsearch.fit(X_train,y_train)"
   ]
  },
  {
   "cell_type": "code",
   "execution_count": null,
   "id": "ad442f79",
   "metadata": {},
   "outputs": [],
   "source": [
    "fit_logit_grid.best_params_"
   ]
  },
  {
   "cell_type": "code",
   "execution_count": null,
   "id": "ecebd991",
   "metadata": {},
   "outputs": [],
   "source": [
    "logit_gsearch.score(X_train,y_train)"
   ]
  },
  {
   "cell_type": "code",
   "execution_count": null,
   "id": "ec676355",
   "metadata": {},
   "outputs": [],
   "source": [
    "logit_gsearch.score(X_test,y_test)"
   ]
  },
  {
   "cell_type": "markdown",
   "id": "9e3c86f8",
   "metadata": {},
   "source": [
    "## Decision Tree Hyperparameter Tuning"
   ]
  },
  {
   "cell_type": "code",
   "execution_count": null,
   "id": "19e58d72",
   "metadata": {},
   "outputs": [],
   "source": [
    "# Instantiate pipeline settings\n",
    "tree_estimators = [('model', DecisionTreeClassifier())]\n",
    "\n",
    "# Instantiate pipeline model\n",
    "tree_pipeline_model = Pipeline(tree_estimators, memory = cachedir)"
   ]
  },
  {
   "cell_type": "code",
   "execution_count": null,
   "id": "a29efebd",
   "metadata": {},
   "outputs": [],
   "source": [
    "# Set up parameters for the pipeline\n",
    "tree_param_grid = [\n",
    "    \n",
    "    {'model__max_depth': [2, 4, 6, 8, 10, 12, 14, 16, 18, 20],\n",
    "     'model__min_samples_leaf': [2, 4, 6, 8, 10]}\n",
    "]\n",
    "\n",
    "# Instantiate grid search\n",
    "tree_gsearch = GridSearchCV(estimator=tree_pipeline_model, param_grid=tree_param_grid, cv = 5, verbose = 1, n_jobs = -1)"
   ]
  },
  {
   "cell_type": "markdown",
   "id": "e03e64ac",
   "metadata": {},
   "source": [
    "Fit the grid search with a 5 fold cross validation."
   ]
  },
  {
   "cell_type": "code",
   "execution_count": null,
   "id": "b5f65153",
   "metadata": {},
   "outputs": [],
   "source": [
    "fit_tree_grid = tree_gsearch.fit(X_train,y_train)"
   ]
  },
  {
   "cell_type": "code",
   "execution_count": null,
   "id": "e4dec035",
   "metadata": {},
   "outputs": [],
   "source": [
    "fit_tree_grid.best_params_"
   ]
  },
  {
   "cell_type": "code",
   "execution_count": null,
   "id": "5664a6e8",
   "metadata": {},
   "outputs": [],
   "source": [
    "print(f'Decision Tree model train set accuracy: {tree_gsearch.score(X_train,y_train)}%')\n",
    "print(f'Decision Tree model train set accuracy: {tree_gsearch.score(X_test,y_test)}%')"
   ]
  },
  {
   "cell_type": "code",
   "execution_count": null,
   "id": "4bd087aa",
   "metadata": {},
   "outputs": [],
   "source": []
  },
  {
   "cell_type": "code",
   "execution_count": null,
   "id": "3c095536",
   "metadata": {},
   "outputs": [],
   "source": []
  },
  {
   "cell_type": "markdown",
   "id": "4943a90f",
   "metadata": {},
   "source": [
    "## Support Vector Machine Hyperparameter Tuning"
   ]
  },
  {
   "cell_type": "code",
   "execution_count": null,
   "id": "a8e85448",
   "metadata": {},
   "outputs": [],
   "source": [
    "# Instantiate pipeline settings\n",
    "svm_estimators = [('normalize', StandardScaler()),\n",
    "             ('model', LinearSVC())]\n",
    "\n",
    "# Instantiate pipeline model\n",
    "svm_pipeline_model = Pipeline(svm_estimators, memory = cachedir)"
   ]
  },
  {
   "cell_type": "code",
   "execution_count": null,
   "id": "980cab7f",
   "metadata": {},
   "outputs": [],
   "source": [
    "# Set up parameters for the pipeline\n",
    "svm_param_grid = [\n",
    "    \n",
    "    {'model': [LinearSVC()]\n",
    "     'model__C': [0.0001, 0.001, 0.01, 0.1, 1, 10, 100, 1000, 10000],\n",
    "     'model__max_iter': [1000]}\n",
    "    ]\n",
    "# Instantiate grid search\n",
    "svm_gsearch = GridSearchCV(estimator=svm_pipeline_model, param_grid=svm_param_grid, cv = 5, verbose = 4, n_jobs = 1)"
   ]
  },
  {
   "cell_type": "markdown",
   "id": "ae5cc6a7",
   "metadata": {},
   "source": [
    "Fit the grid search with a 5 fold cross validation."
   ]
  },
  {
   "cell_type": "code",
   "execution_count": null,
   "id": "af324385",
   "metadata": {},
   "outputs": [],
   "source": [
    "fit_svm_grid = svm_gsearch.fit(X_train,y_train)"
   ]
  },
  {
   "cell_type": "code",
   "execution_count": null,
   "id": "b22e3438",
   "metadata": {},
   "outputs": [],
   "source": [
    "fit_tree_grid.best_params_"
   ]
  },
  {
   "cell_type": "code",
   "execution_count": null,
   "id": "5d6afef9",
   "metadata": {},
   "outputs": [],
   "source": [
    "print(f'Decision Tree model train set accuracy: {tree_gsearch.score(X_train,y_train)}%')\n",
    "print(f'Decision Tree model train set accuracy: {tree_gsearch.score(X_test,y_test)}%')"
   ]
  },
  {
   "cell_type": "code",
   "execution_count": null,
   "id": "5d6e9dff",
   "metadata": {},
   "outputs": [],
   "source": []
  }
 ],
 "metadata": {
  "kernelspec": {
   "display_name": "Python 3 (ipykernel)",
   "language": "python",
   "name": "python3"
  },
  "language_info": {
   "codemirror_mode": {
    "name": "ipython",
    "version": 3
   },
   "file_extension": ".py",
   "mimetype": "text/x-python",
   "name": "python",
   "nbconvert_exporter": "python",
   "pygments_lexer": "ipython3",
   "version": "3.8.13"
  }
 },
 "nbformat": 4,
 "nbformat_minor": 5
}
